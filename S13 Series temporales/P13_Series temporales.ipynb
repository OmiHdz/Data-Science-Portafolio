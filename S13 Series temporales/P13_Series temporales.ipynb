{
 "cells": [
  {
   "cell_type": "markdown",
   "metadata": {},
   "source": [
    "# Descripción del proyecto\n",
    "\n",
    "La compañía Sweet Lift Taxi ha recopilado datos históricos sobre pedidos de taxis en los aeropuertos. Para atraer a más conductores durante las horas pico, necesitamos predecir la cantidad de pedidos de taxis para la próxima hora. Construye un modelo para dicha predicción.\n",
    "\n",
    "La métrica RECM en el conjunto de prueba no debe ser superior a 48.\n",
    "\n",
    "## Instrucciones del proyecto.\n",
    "\n",
    "1. Descarga los datos y haz el remuestreo por una hora.\n",
    "2. Analiza los datos\n",
    "3. Entrena diferentes modelos con diferentes hiperparámetros. La muestra de prueba debe ser el 10% del conjunto de datos inicial.\n",
    "4. Prueba los datos usando la muestra de prueba y proporciona una conclusión.\n",
    "\n",
    "## Descripción de los datos\n",
    "\n",
    "Los datos se almacenan en el archivo `taxi.csv`. \t\n",
    "El número de pedidos está en la columna `num_orders`."
   ]
  },
  {
   "cell_type": "markdown",
   "metadata": {},
   "source": [
    "## Preparación"
   ]
  },
  {
   "cell_type": "markdown",
   "metadata": {},
   "source": [
    "### Importando librerías"
   ]
  },
  {
   "cell_type": "code",
   "execution_count": 1,
   "metadata": {},
   "outputs": [],
   "source": [
    "import pandas as pd\n",
    "import numpy as np\n",
    "from sklearn.model_selection import train_test_split\n",
    "from lightgbm import LGBMRegressor\n",
    "from sklearn.model_selection import GridSearchCV\n",
    "import seaborn as sns\n",
    "import matplotlib.pyplot as plt\n",
    "from statsmodels.tsa.seasonal import seasonal_decompose\n",
    "from sklearn.metrics import mean_squared_error\n",
    "from catboost import CatBoostRegressor"
   ]
  },
  {
   "cell_type": "markdown",
   "metadata": {},
   "source": [
    "### Importando datos"
   ]
  },
  {
   "cell_type": "code",
   "execution_count": 2,
   "metadata": {},
   "outputs": [],
   "source": [
    "data = pd.read_csv('/datasets/taxi.csv')"
   ]
  },
  {
   "cell_type": "code",
   "execution_count": 3,
   "metadata": {},
   "outputs": [
    {
     "name": "stdout",
     "output_type": "stream",
     "text": [
      "<class 'pandas.core.frame.DataFrame'>\n",
      "RangeIndex: 26496 entries, 0 to 26495\n",
      "Data columns (total 2 columns):\n",
      " #   Column      Non-Null Count  Dtype \n",
      "---  ------      --------------  ----- \n",
      " 0   datetime    26496 non-null  object\n",
      " 1   num_orders  26496 non-null  int64 \n",
      "dtypes: int64(1), object(1)\n",
      "memory usage: 414.1+ KB\n"
     ]
    }
   ],
   "source": [
    "data.info()"
   ]
  },
  {
   "cell_type": "code",
   "execution_count": 4,
   "metadata": {
    "scrolled": true
   },
   "outputs": [
    {
     "data": {
      "text/html": [
       "<div>\n",
       "<style scoped>\n",
       "    .dataframe tbody tr th:only-of-type {\n",
       "        vertical-align: middle;\n",
       "    }\n",
       "\n",
       "    .dataframe tbody tr th {\n",
       "        vertical-align: top;\n",
       "    }\n",
       "\n",
       "    .dataframe thead th {\n",
       "        text-align: right;\n",
       "    }\n",
       "</style>\n",
       "<table border=\"1\" class=\"dataframe\">\n",
       "  <thead>\n",
       "    <tr style=\"text-align: right;\">\n",
       "      <th></th>\n",
       "      <th>datetime</th>\n",
       "      <th>num_orders</th>\n",
       "    </tr>\n",
       "  </thead>\n",
       "  <tbody>\n",
       "    <tr>\n",
       "      <th>0</th>\n",
       "      <td>2018-03-01 00:00:00</td>\n",
       "      <td>9</td>\n",
       "    </tr>\n",
       "    <tr>\n",
       "      <th>1</th>\n",
       "      <td>2018-03-01 00:10:00</td>\n",
       "      <td>14</td>\n",
       "    </tr>\n",
       "    <tr>\n",
       "      <th>2</th>\n",
       "      <td>2018-03-01 00:20:00</td>\n",
       "      <td>28</td>\n",
       "    </tr>\n",
       "    <tr>\n",
       "      <th>3</th>\n",
       "      <td>2018-03-01 00:30:00</td>\n",
       "      <td>20</td>\n",
       "    </tr>\n",
       "    <tr>\n",
       "      <th>4</th>\n",
       "      <td>2018-03-01 00:40:00</td>\n",
       "      <td>32</td>\n",
       "    </tr>\n",
       "  </tbody>\n",
       "</table>\n",
       "</div>"
      ],
      "text/plain": [
       "              datetime  num_orders\n",
       "0  2018-03-01 00:00:00           9\n",
       "1  2018-03-01 00:10:00          14\n",
       "2  2018-03-01 00:20:00          28\n",
       "3  2018-03-01 00:30:00          20\n",
       "4  2018-03-01 00:40:00          32"
      ]
     },
     "execution_count": 4,
     "metadata": {},
     "output_type": "execute_result"
    }
   ],
   "source": [
    "data.head()"
   ]
  },
  {
   "cell_type": "markdown",
   "metadata": {},
   "source": [
    "Podemos observar que:\n",
    "* Tenemos un dataframe con 26,496 filas no nulas\n",
    "* Se compone de 2 columnas\n",
    "    * datetime de tipo object : Contiene la temporalidad de las ordenes en fecha y hora\n",
    "    * num_orders : contiene la cantidad de órdenes para el periodo dado\n",
    "\n",
    "Para este proyecto vamos a requerir analizar intervalos de una hora, para esto necesitaremos transformar la columna 'datetime' a tipo de dato datetime, por otro lado requeriremos remuestreo de datos para que se generen los intervalos por hora."
   ]
  },
  {
   "cell_type": "code",
   "execution_count": 5,
   "metadata": {},
   "outputs": [
    {
     "name": "stdout",
     "output_type": "stream",
     "text": [
      "<class 'pandas.core.frame.DataFrame'>\n",
      "RangeIndex: 26496 entries, 0 to 26495\n",
      "Data columns (total 2 columns):\n",
      " #   Column      Non-Null Count  Dtype         \n",
      "---  ------      --------------  -----         \n",
      " 0   datetime    26496 non-null  datetime64[ns]\n",
      " 1   num_orders  26496 non-null  int64         \n",
      "dtypes: datetime64[ns](1), int64(1)\n",
      "memory usage: 414.1 KB\n"
     ]
    }
   ],
   "source": [
    "#Cambiando el tipo de dato a datetime\n",
    "data['datetime'] = pd.to_datetime(data['datetime'])\n",
    "data.info()"
   ]
  },
  {
   "cell_type": "markdown",
   "metadata": {},
   "source": [
    "Remuestreo de datos"
   ]
  },
  {
   "cell_type": "code",
   "execution_count": 6,
   "metadata": {},
   "outputs": [],
   "source": [
    "#Estableciendo la columna 'datetime' como index\n",
    "data = data.set_index('datetime')"
   ]
  },
  {
   "cell_type": "code",
   "execution_count": 7,
   "metadata": {
    "scrolled": false
   },
   "outputs": [
    {
     "name": "stdout",
     "output_type": "stream",
     "text": [
      "<class 'pandas.core.frame.DataFrame'>\n",
      "DatetimeIndex: 26496 entries, 2018-03-01 00:00:00 to 2018-08-31 23:50:00\n",
      "Data columns (total 1 columns):\n",
      " #   Column      Non-Null Count  Dtype\n",
      "---  ------      --------------  -----\n",
      " 0   num_orders  26496 non-null  int64\n",
      "dtypes: int64(1)\n",
      "memory usage: 414.0 KB\n"
     ]
    }
   ],
   "source": [
    "data.sort_index(inplace=True)\n",
    "data.info()"
   ]
  },
  {
   "cell_type": "markdown",
   "metadata": {},
   "source": [
    "### Descomponiendo datos para verificar tendencia y estacionalidad \n",
    "*En ventanas de tiempo de días (unidad) y de las últimas 2 semanas registrada (datos más recientes)*"
   ]
  },
  {
   "cell_type": "code",
   "execution_count": 8,
   "metadata": {
    "scrolled": true
   },
   "outputs": [
    {
     "data": {
      "text/html": [
       "<div>\n",
       "<style scoped>\n",
       "    .dataframe tbody tr th:only-of-type {\n",
       "        vertical-align: middle;\n",
       "    }\n",
       "\n",
       "    .dataframe tbody tr th {\n",
       "        vertical-align: top;\n",
       "    }\n",
       "\n",
       "    .dataframe thead th {\n",
       "        text-align: right;\n",
       "    }\n",
       "</style>\n",
       "<table border=\"1\" class=\"dataframe\">\n",
       "  <thead>\n",
       "    <tr style=\"text-align: right;\">\n",
       "      <th></th>\n",
       "      <th>num_orders</th>\n",
       "    </tr>\n",
       "    <tr>\n",
       "      <th>datetime</th>\n",
       "      <th></th>\n",
       "    </tr>\n",
       "  </thead>\n",
       "  <tbody>\n",
       "    <tr>\n",
       "      <th>2018-03-01</th>\n",
       "      <td>9.472222</td>\n",
       "    </tr>\n",
       "    <tr>\n",
       "      <th>2018-03-02</th>\n",
       "      <td>10.458333</td>\n",
       "    </tr>\n",
       "  </tbody>\n",
       "</table>\n",
       "</div>"
      ],
      "text/plain": [
       "            num_orders\n",
       "datetime              \n",
       "2018-03-01    9.472222\n",
       "2018-03-02   10.458333"
      ]
     },
     "execution_count": 8,
     "metadata": {},
     "output_type": "execute_result"
    }
   ],
   "source": [
    "#remuestreando datos a intervalos de un día para observar tendencias por día\n",
    "data1 = data.resample('1D').mean()\n",
    "data1.head(2)"
   ]
  },
  {
   "cell_type": "code",
   "execution_count": 9,
   "metadata": {},
   "outputs": [
    {
     "data": {
      "text/html": [
       "<div>\n",
       "<style scoped>\n",
       "    .dataframe tbody tr th:only-of-type {\n",
       "        vertical-align: middle;\n",
       "    }\n",
       "\n",
       "    .dataframe tbody tr th {\n",
       "        vertical-align: top;\n",
       "    }\n",
       "\n",
       "    .dataframe thead th {\n",
       "        text-align: right;\n",
       "    }\n",
       "</style>\n",
       "<table border=\"1\" class=\"dataframe\">\n",
       "  <thead>\n",
       "    <tr style=\"text-align: right;\">\n",
       "      <th></th>\n",
       "      <th>num_orders</th>\n",
       "      <th>dayofweek</th>\n",
       "    </tr>\n",
       "    <tr>\n",
       "      <th>datetime</th>\n",
       "      <th></th>\n",
       "      <th></th>\n",
       "    </tr>\n",
       "  </thead>\n",
       "  <tbody>\n",
       "    <tr>\n",
       "      <th>2018-08-13</th>\n",
       "      <td>23.305556</td>\n",
       "      <td>0</td>\n",
       "    </tr>\n",
       "    <tr>\n",
       "      <th>2018-08-14</th>\n",
       "      <td>19.916667</td>\n",
       "      <td>1</td>\n",
       "    </tr>\n",
       "    <tr>\n",
       "      <th>2018-08-15</th>\n",
       "      <td>20.437500</td>\n",
       "      <td>2</td>\n",
       "    </tr>\n",
       "    <tr>\n",
       "      <th>2018-08-16</th>\n",
       "      <td>21.437500</td>\n",
       "      <td>3</td>\n",
       "    </tr>\n",
       "    <tr>\n",
       "      <th>2018-08-17</th>\n",
       "      <td>22.527778</td>\n",
       "      <td>4</td>\n",
       "    </tr>\n",
       "  </tbody>\n",
       "</table>\n",
       "</div>"
      ],
      "text/plain": [
       "            num_orders  dayofweek\n",
       "datetime                         \n",
       "2018-08-13   23.305556          0\n",
       "2018-08-14   19.916667          1\n",
       "2018-08-15   20.437500          2\n",
       "2018-08-16   21.437500          3\n",
       "2018-08-17   22.527778          4"
      ]
     },
     "execution_count": 9,
     "metadata": {},
     "output_type": "execute_result"
    }
   ],
   "source": [
    "#Obteniendo las fechas (indices) de los últimos 7 días\n",
    "data1_w_dow= data1.copy()\n",
    "data1_w_dow['dayofweek']  = data1.index.dayofweek\n",
    "in_date ='2018-08-13'\n",
    "in_date2 ='2018-08-25'\n",
    "fin_date = '2018-08-29'\n",
    "data1_w_dow[in_date:fin_date].head()\n",
    "\n"
   ]
  },
  {
   "cell_type": "code",
   "execution_count": 10,
   "metadata": {
    "scrolled": true
   },
   "outputs": [
    {
     "data": {
      "text/html": [
       "<div>\n",
       "<style scoped>\n",
       "    .dataframe tbody tr th:only-of-type {\n",
       "        vertical-align: middle;\n",
       "    }\n",
       "\n",
       "    .dataframe tbody tr th {\n",
       "        vertical-align: top;\n",
       "    }\n",
       "\n",
       "    .dataframe thead th {\n",
       "        text-align: right;\n",
       "    }\n",
       "</style>\n",
       "<table border=\"1\" class=\"dataframe\">\n",
       "  <thead>\n",
       "    <tr style=\"text-align: right;\">\n",
       "      <th></th>\n",
       "      <th>num_orders</th>\n",
       "    </tr>\n",
       "    <tr>\n",
       "      <th>datetime</th>\n",
       "      <th></th>\n",
       "    </tr>\n",
       "  </thead>\n",
       "  <tbody>\n",
       "    <tr>\n",
       "      <th>2018-08-13 00:00:00</th>\n",
       "      <td>26.666667</td>\n",
       "    </tr>\n",
       "    <tr>\n",
       "      <th>2018-08-13 01:00:00</th>\n",
       "      <td>45.500000</td>\n",
       "    </tr>\n",
       "    <tr>\n",
       "      <th>2018-08-13 02:00:00</th>\n",
       "      <td>72.833333</td>\n",
       "    </tr>\n",
       "    <tr>\n",
       "      <th>2018-08-13 03:00:00</th>\n",
       "      <td>28.000000</td>\n",
       "    </tr>\n",
       "    <tr>\n",
       "      <th>2018-08-13 04:00:00</th>\n",
       "      <td>23.833333</td>\n",
       "    </tr>\n",
       "  </tbody>\n",
       "</table>\n",
       "</div>"
      ],
      "text/plain": [
       "                     num_orders\n",
       "datetime                       \n",
       "2018-08-13 00:00:00   26.666667\n",
       "2018-08-13 01:00:00   45.500000\n",
       "2018-08-13 02:00:00   72.833333\n",
       "2018-08-13 03:00:00   28.000000\n",
       "2018-08-13 04:00:00   23.833333"
      ]
     },
     "execution_count": 10,
     "metadata": {},
     "output_type": "execute_result"
    }
   ],
   "source": [
    "#remuestreando datos a intervalos de una hora para observar tendencias de las últimas 2 semana (los datos más recientes)\n",
    "data_week = data[in_date:fin_date].resample('1H').mean()\n",
    "\n",
    "#remuestreando datos a intervalos de una hora para observar la estacionalidad de los últimos 5 días (los datos más recientes)\n",
    "data_week1 = data[in_date2:fin_date].resample('1H').mean()\n",
    "\n",
    "data_week.head()"
   ]
  },
  {
   "cell_type": "code",
   "execution_count": 11,
   "metadata": {},
   "outputs": [],
   "source": [
    "#Descomponiendo los datos para analizarlos por día para todo el dataset\n",
    "decomposed_day = seasonal_decompose(data1)"
   ]
  },
  {
   "cell_type": "code",
   "execution_count": 12,
   "metadata": {},
   "outputs": [],
   "source": [
    "#Descomponiendo los datos para analizarlos en el periodo de las últimas 2 semanas\n",
    "decomposed_week = seasonal_decompose(data_week)"
   ]
  },
  {
   "cell_type": "code",
   "execution_count": 13,
   "metadata": {},
   "outputs": [],
   "source": [
    "#Descomponiendo los datos para analizarlos en el periodo de los últimos 5 días\n",
    "decomposed_week_by_hour = seasonal_decompose(data_week1)"
   ]
  },
  {
   "cell_type": "markdown",
   "metadata": {},
   "source": [
    "### Creación de columnas  características"
   ]
  },
  {
   "cell_type": "code",
   "execution_count": 14,
   "metadata": {},
   "outputs": [],
   "source": [
    "def make_features(data, max_lag, rolling_mean_size):\n",
    "    data['year'] = data.index.year\n",
    "    data['month'] = data.index.month\n",
    "    data['day'] = data.index.day\n",
    "    data['dayofweek'] = data.index.dayofweek\n",
    "    \n",
    "    for lag in range (1,max_lag+1):\n",
    "        data[f'lag_{lag}'] = data['num_orders'].shift(lag)\n",
    "    \n",
    "    data['rolling_mean']= data['num_orders'].rolling(rolling_mean_size).mean().shift()\n",
    "    "
   ]
  },
  {
   "cell_type": "code",
   "execution_count": 15,
   "metadata": {
    "scrolled": true
   },
   "outputs": [
    {
     "data": {
      "text/html": [
       "<div>\n",
       "<style scoped>\n",
       "    .dataframe tbody tr th:only-of-type {\n",
       "        vertical-align: middle;\n",
       "    }\n",
       "\n",
       "    .dataframe tbody tr th {\n",
       "        vertical-align: top;\n",
       "    }\n",
       "\n",
       "    .dataframe thead th {\n",
       "        text-align: right;\n",
       "    }\n",
       "</style>\n",
       "<table border=\"1\" class=\"dataframe\">\n",
       "  <thead>\n",
       "    <tr style=\"text-align: right;\">\n",
       "      <th></th>\n",
       "      <th>num_orders</th>\n",
       "      <th>year</th>\n",
       "      <th>month</th>\n",
       "      <th>day</th>\n",
       "      <th>dayofweek</th>\n",
       "      <th>lag_1</th>\n",
       "      <th>lag_2</th>\n",
       "      <th>lag_3</th>\n",
       "      <th>lag_4</th>\n",
       "      <th>lag_5</th>\n",
       "      <th>...</th>\n",
       "      <th>lag_12</th>\n",
       "      <th>lag_13</th>\n",
       "      <th>lag_14</th>\n",
       "      <th>lag_15</th>\n",
       "      <th>lag_16</th>\n",
       "      <th>lag_17</th>\n",
       "      <th>lag_18</th>\n",
       "      <th>lag_19</th>\n",
       "      <th>lag_20</th>\n",
       "      <th>rolling_mean</th>\n",
       "    </tr>\n",
       "    <tr>\n",
       "      <th>datetime</th>\n",
       "      <th></th>\n",
       "      <th></th>\n",
       "      <th></th>\n",
       "      <th></th>\n",
       "      <th></th>\n",
       "      <th></th>\n",
       "      <th></th>\n",
       "      <th></th>\n",
       "      <th></th>\n",
       "      <th></th>\n",
       "      <th></th>\n",
       "      <th></th>\n",
       "      <th></th>\n",
       "      <th></th>\n",
       "      <th></th>\n",
       "      <th></th>\n",
       "      <th></th>\n",
       "      <th></th>\n",
       "      <th></th>\n",
       "      <th></th>\n",
       "      <th></th>\n",
       "    </tr>\n",
       "  </thead>\n",
       "  <tbody>\n",
       "    <tr>\n",
       "      <th>2018-03-01 00:00:00</th>\n",
       "      <td>9</td>\n",
       "      <td>2018</td>\n",
       "      <td>3</td>\n",
       "      <td>1</td>\n",
       "      <td>3</td>\n",
       "      <td>NaN</td>\n",
       "      <td>NaN</td>\n",
       "      <td>NaN</td>\n",
       "      <td>NaN</td>\n",
       "      <td>NaN</td>\n",
       "      <td>...</td>\n",
       "      <td>NaN</td>\n",
       "      <td>NaN</td>\n",
       "      <td>NaN</td>\n",
       "      <td>NaN</td>\n",
       "      <td>NaN</td>\n",
       "      <td>NaN</td>\n",
       "      <td>NaN</td>\n",
       "      <td>NaN</td>\n",
       "      <td>NaN</td>\n",
       "      <td>NaN</td>\n",
       "    </tr>\n",
       "    <tr>\n",
       "      <th>2018-03-01 00:10:00</th>\n",
       "      <td>14</td>\n",
       "      <td>2018</td>\n",
       "      <td>3</td>\n",
       "      <td>1</td>\n",
       "      <td>3</td>\n",
       "      <td>9.0</td>\n",
       "      <td>NaN</td>\n",
       "      <td>NaN</td>\n",
       "      <td>NaN</td>\n",
       "      <td>NaN</td>\n",
       "      <td>...</td>\n",
       "      <td>NaN</td>\n",
       "      <td>NaN</td>\n",
       "      <td>NaN</td>\n",
       "      <td>NaN</td>\n",
       "      <td>NaN</td>\n",
       "      <td>NaN</td>\n",
       "      <td>NaN</td>\n",
       "      <td>NaN</td>\n",
       "      <td>NaN</td>\n",
       "      <td>NaN</td>\n",
       "    </tr>\n",
       "    <tr>\n",
       "      <th>2018-03-01 00:20:00</th>\n",
       "      <td>28</td>\n",
       "      <td>2018</td>\n",
       "      <td>3</td>\n",
       "      <td>1</td>\n",
       "      <td>3</td>\n",
       "      <td>14.0</td>\n",
       "      <td>9.0</td>\n",
       "      <td>NaN</td>\n",
       "      <td>NaN</td>\n",
       "      <td>NaN</td>\n",
       "      <td>...</td>\n",
       "      <td>NaN</td>\n",
       "      <td>NaN</td>\n",
       "      <td>NaN</td>\n",
       "      <td>NaN</td>\n",
       "      <td>NaN</td>\n",
       "      <td>NaN</td>\n",
       "      <td>NaN</td>\n",
       "      <td>NaN</td>\n",
       "      <td>NaN</td>\n",
       "      <td>NaN</td>\n",
       "    </tr>\n",
       "    <tr>\n",
       "      <th>2018-03-01 00:30:00</th>\n",
       "      <td>20</td>\n",
       "      <td>2018</td>\n",
       "      <td>3</td>\n",
       "      <td>1</td>\n",
       "      <td>3</td>\n",
       "      <td>28.0</td>\n",
       "      <td>14.0</td>\n",
       "      <td>9.0</td>\n",
       "      <td>NaN</td>\n",
       "      <td>NaN</td>\n",
       "      <td>...</td>\n",
       "      <td>NaN</td>\n",
       "      <td>NaN</td>\n",
       "      <td>NaN</td>\n",
       "      <td>NaN</td>\n",
       "      <td>NaN</td>\n",
       "      <td>NaN</td>\n",
       "      <td>NaN</td>\n",
       "      <td>NaN</td>\n",
       "      <td>NaN</td>\n",
       "      <td>NaN</td>\n",
       "    </tr>\n",
       "    <tr>\n",
       "      <th>2018-03-01 00:40:00</th>\n",
       "      <td>32</td>\n",
       "      <td>2018</td>\n",
       "      <td>3</td>\n",
       "      <td>1</td>\n",
       "      <td>3</td>\n",
       "      <td>20.0</td>\n",
       "      <td>28.0</td>\n",
       "      <td>14.0</td>\n",
       "      <td>9.0</td>\n",
       "      <td>NaN</td>\n",
       "      <td>...</td>\n",
       "      <td>NaN</td>\n",
       "      <td>NaN</td>\n",
       "      <td>NaN</td>\n",
       "      <td>NaN</td>\n",
       "      <td>NaN</td>\n",
       "      <td>NaN</td>\n",
       "      <td>NaN</td>\n",
       "      <td>NaN</td>\n",
       "      <td>NaN</td>\n",
       "      <td>17.75</td>\n",
       "    </tr>\n",
       "  </tbody>\n",
       "</table>\n",
       "<p>5 rows × 26 columns</p>\n",
       "</div>"
      ],
      "text/plain": [
       "                     num_orders  year  month  day  dayofweek  lag_1  lag_2  \\\n",
       "datetime                                                                     \n",
       "2018-03-01 00:00:00           9  2018      3    1          3    NaN    NaN   \n",
       "2018-03-01 00:10:00          14  2018      3    1          3    9.0    NaN   \n",
       "2018-03-01 00:20:00          28  2018      3    1          3   14.0    9.0   \n",
       "2018-03-01 00:30:00          20  2018      3    1          3   28.0   14.0   \n",
       "2018-03-01 00:40:00          32  2018      3    1          3   20.0   28.0   \n",
       "\n",
       "                     lag_3  lag_4  lag_5  ...  lag_12  lag_13  lag_14  lag_15  \\\n",
       "datetime                                  ...                                   \n",
       "2018-03-01 00:00:00    NaN    NaN    NaN  ...     NaN     NaN     NaN     NaN   \n",
       "2018-03-01 00:10:00    NaN    NaN    NaN  ...     NaN     NaN     NaN     NaN   \n",
       "2018-03-01 00:20:00    NaN    NaN    NaN  ...     NaN     NaN     NaN     NaN   \n",
       "2018-03-01 00:30:00    9.0    NaN    NaN  ...     NaN     NaN     NaN     NaN   \n",
       "2018-03-01 00:40:00   14.0    9.0    NaN  ...     NaN     NaN     NaN     NaN   \n",
       "\n",
       "                     lag_16  lag_17  lag_18  lag_19  lag_20  rolling_mean  \n",
       "datetime                                                                   \n",
       "2018-03-01 00:00:00     NaN     NaN     NaN     NaN     NaN           NaN  \n",
       "2018-03-01 00:10:00     NaN     NaN     NaN     NaN     NaN           NaN  \n",
       "2018-03-01 00:20:00     NaN     NaN     NaN     NaN     NaN           NaN  \n",
       "2018-03-01 00:30:00     NaN     NaN     NaN     NaN     NaN           NaN  \n",
       "2018-03-01 00:40:00     NaN     NaN     NaN     NaN     NaN         17.75  \n",
       "\n",
       "[5 rows x 26 columns]"
      ]
     },
     "execution_count": 15,
     "metadata": {},
     "output_type": "execute_result"
    }
   ],
   "source": [
    "make_features(data,20,4)\n",
    "data.head()"
   ]
  },
  {
   "cell_type": "markdown",
   "metadata": {},
   "source": [
    "### Definición de características y objetivo"
   ]
  },
  {
   "cell_type": "code",
   "execution_count": 16,
   "metadata": {
    "scrolled": true
   },
   "outputs": [
    {
     "data": {
      "text/plain": [
       "['year',\n",
       " 'month',\n",
       " 'day',\n",
       " 'dayofweek',\n",
       " 'lag_1',\n",
       " 'lag_2',\n",
       " 'lag_3',\n",
       " 'lag_4',\n",
       " 'lag_5',\n",
       " 'lag_6',\n",
       " 'lag_7',\n",
       " 'lag_8',\n",
       " 'lag_9',\n",
       " 'lag_10',\n",
       " 'lag_11',\n",
       " 'lag_12',\n",
       " 'lag_13',\n",
       " 'lag_14',\n",
       " 'lag_15',\n",
       " 'lag_16',\n",
       " 'lag_17',\n",
       " 'lag_18',\n",
       " 'lag_19',\n",
       " 'lag_20',\n",
       " 'rolling_mean']"
      ]
     },
     "execution_count": 16,
     "metadata": {},
     "output_type": "execute_result"
    }
   ],
   "source": [
    "target = 'num_orders'\n",
    "features = [i for i in data.columns if i not in target]\n",
    "features"
   ]
  },
  {
   "cell_type": "markdown",
   "metadata": {},
   "source": [
    "### Generando datos de entrenamiento y prueba"
   ]
  },
  {
   "cell_type": "code",
   "execution_count": 17,
   "metadata": {
    "scrolled": true
   },
   "outputs": [
    {
     "name": "stdout",
     "output_type": "stream",
     "text": [
      "(23846, 26)\n",
      "(2650, 26)\n"
     ]
    }
   ],
   "source": [
    "train , test = train_test_split(data, shuffle = False ,test_size = 0.1)\n",
    "print(train.shape)\n",
    "print(test.shape)"
   ]
  },
  {
   "cell_type": "code",
   "execution_count": 18,
   "metadata": {
    "scrolled": true
   },
   "outputs": [
    {
     "data": {
      "text/plain": [
       "datetime\n",
       "2018-08-25 00:00:00   NaN\n",
       "2018-08-25 01:00:00   NaN\n",
       "2018-08-25 02:00:00   NaN\n",
       "2018-08-25 03:00:00   NaN\n",
       "2018-08-25 04:00:00   NaN\n",
       "                       ..\n",
       "2018-08-29 19:00:00   NaN\n",
       "2018-08-29 20:00:00   NaN\n",
       "2018-08-29 21:00:00   NaN\n",
       "2018-08-29 22:00:00   NaN\n",
       "2018-08-29 23:00:00   NaN\n",
       "Freq: H, Name: trend, Length: 120, dtype: float64"
      ]
     },
     "execution_count": 18,
     "metadata": {},
     "output_type": "execute_result"
    }
   ],
   "source": [
    "decomposed_week_by_hour.trend"
   ]
  },
  {
   "cell_type": "markdown",
   "metadata": {},
   "source": [
    "## Análisis"
   ]
  },
  {
   "cell_type": "markdown",
   "metadata": {},
   "source": [
    "Estudiando estacionalidad y tendencias en nuestros datos (en ventanas de tiempo de 1 día)"
   ]
  },
  {
   "cell_type": "code",
   "execution_count": 19,
   "metadata": {
    "scrolled": true
   },
   "outputs": [
    {
     "data": {
      "text/plain": [
       "Text(0.5, 1.0, 'Estacionalidad por hora en una ventana de 24 horas para un periodo de 5 días')"
      ]
     },
     "execution_count": 19,
     "metadata": {},
     "output_type": "execute_result"
    },
    {
     "data": {
      "text/plain": [
       "<Figure size 640x480 with 0 Axes>"
      ]
     },
     "metadata": {},
     "output_type": "display_data"
    },
    {
     "data": {
      "image/png": "[encoded data removed]",
      "text/plain": [
       "<Figure size 1400x2400 with 3 Axes>"
      ]
     },
     "metadata": {},
     "output_type": "display_data"
    }
   ],
   "source": [
    "plt.figure(311)\n",
    "\n",
    "plt.figure(figsize=(14,24))\n",
    "\n",
    "#Graficando la tendencia por día de todos los datos registrados\n",
    "plt.subplot(311)\n",
    "decomposed_day.trend.plot(ax=plt.gca())\n",
    "plt.title('Tendencias de viajes por hora y día para todo el dataset')\n",
    "\n",
    "\n",
    "#Graficando la tendencia por día de las últimas dos semanas registradas\n",
    "#Ampliamos la ventana un poco para poder observar las tendencias en las dos semanas completas\n",
    "plt.subplot(312)\n",
    "decomposed_week.trend.plot(ax=plt.gca())\n",
    "plt.title('Tendencias de viajes por hora y día para un periodo de 17 días')\n",
    "\n",
    "#Graficando la estacionalidad por hora en los últimos 5 días para verificar el comportamiento diario\n",
    "plt.subplot(313)\n",
    "decomposed_week_by_hour.seasonal.plot(ax=plt.gca())\n",
    "plt.title('Estacionalidad por hora en una ventana de 24 horas para un periodo de 5 días')\n",
    "\n"
   ]
  },
  {
   "cell_type": "markdown",
   "metadata": {},
   "source": [
    "**Podemos observar que:**\n",
    "\n",
    "\n",
    "* **La demanda del servicio de taxi tiene una tendencia a la alta en los meses registrados, de Abril a Junio observamos una baja en el consumo para los primeros días del mes, sin embargo en el resto de los meses no obedece a un comportamiento cíclico, los incrementos en el consumo se observan normalmente al cierre del mes.**\n",
    "\n",
    "\n",
    "* **La demanda del servicio de taxi estudiado por día y hora en las últimas dos semanas nos muestra tendencias claras:**\n",
    "    * Los Domingos incrementa abruptamente el consumo de viajes\n",
    "    * Entre los días Lunes y Miércoles el consumo de viajes se reduce\n",
    "    * Nuevamente vuelve a incrementar el consumo de viajes entre el Jueves y el Sábado para repetir el ciclo\n",
    "\n",
    "\n",
    "* **La demanda del servicio de taxi, estudiada por día y hora en los últimos 5 días nos muestra una estacionalidad en donde:**\n",
    "    * Las últimas horas del día se incrementa la demanda a su pico máximo (horas pico)\n",
    "    * Las primeras horas del día se decrementa la demanda a su pico mínimo (horas valle)\n",
    "    * Por la mañana y antes del mediodía se observa un incremento de consumo\n",
    "    * Cerca del mediodía y hasta antes de las 3pm (aproximadamente) se observa un decremento en el consumo\n",
    "    * Entre las 3pm y 6pm (aproximadamente) vuelve a incrementar el consumo\n",
    "    * Entre las 6pm y 8pm (aproximadamente) decrementa el consumo\n",
    "    * Después de las 8pm (aproximadamente) y al cierre del día, incrementa el consumo para repetir el ciclo."
   ]
  },
  {
   "cell_type": "markdown",
   "metadata": {},
   "source": [
    "## Entrenamiento y predicción del modelo"
   ]
  },
  {
   "cell_type": "code",
   "execution_count": 20,
   "metadata": {},
   "outputs": [],
   "source": [
    "metrics_dict={}"
   ]
  },
  {
   "cell_type": "markdown",
   "metadata": {},
   "source": [
    "### Definiendo función de evaluación de modelo"
   ]
  },
  {
   "cell_type": "code",
   "execution_count": 21,
   "metadata": {},
   "outputs": [],
   "source": [
    "def metrics( target_valid,model_predictions):\n",
    "    mean = model_predictions.mean()\n",
    "    mse = mean_squared_error(target_valid,model_predictions)\n",
    "    rmse = mse ** 0.5\n",
    "    return mean, rmse"
   ]
  },
  {
   "cell_type": "markdown",
   "metadata": {},
   "source": [
    "### LightGBM sin ajuste de hiperparámetros (modelo benchmark)"
   ]
  },
  {
   "cell_type": "code",
   "execution_count": 22,
   "metadata": {
    "scrolled": true
   },
   "outputs": [
    {
     "name": "stdout",
     "output_type": "stream",
     "text": [
      "La cantidad media de órdenes predichas es : 23.27\n",
      "El Error medio cuadrático para las predicciones es: 8.75\n"
     ]
    }
   ],
   "source": [
    "model = LGBMRegressor(random_state=12345)\n",
    "model.fit(train[features], train[target])\n",
    "predictions = model.predict(test[features])\n",
    "mean_lgbm_b, rmse_lgbm_b = metrics(predictions,test[target])\n",
    "\n",
    "print(f\"La cantidad media de órdenes predichas es : {round(mean_lgbm_b,2)}\",)\n",
    "print(f'El Error medio cuadrático para las predicciones es: {round(rmse_lgbm_b,2)}')"
   ]
  },
  {
   "cell_type": "code",
   "execution_count": 23,
   "metadata": {},
   "outputs": [],
   "source": [
    "metrics_dict['LightGBM_without_adjustment']=['Modelo LightGBM sin ajuste de hiperparámetros',mean_lgbm_b,rmse_lgbm_b]"
   ]
  },
  {
   "cell_type": "markdown",
   "metadata": {},
   "source": [
    "### LightGBM con ajuste de hiperparámetros (modelo final)"
   ]
  },
  {
   "cell_type": "code",
   "execution_count": 24,
   "metadata": {},
   "outputs": [],
   "source": [
    "param_grid={\n",
    "    'num_leaves':[40,60],\n",
    "    'max_depth':[5,7],\n",
    "    'n_estimators':[150,250],\n",
    "    'learning_rate':[0.1],\n",
    "    'class_weight':[None,'balanced']\n",
    "}"
   ]
  },
  {
   "cell_type": "code",
   "execution_count": 25,
   "metadata": {},
   "outputs": [],
   "source": [
    "gridsearch = GridSearchCV(LGBMRegressor(random_state=12345),param_grid = param_grid,\n",
    "                          n_jobs=-1,scoring='neg_root_mean_squared_error')"
   ]
  },
  {
   "cell_type": "code",
   "execution_count": 26,
   "metadata": {
    "scrolled": true
   },
   "outputs": [
    {
     "name": "stdout",
     "output_type": "stream",
     "text": [
      "CPU times: user 1min 52s, sys: 943 ms, total: 1min 53s\n",
      "Wall time: 1min 54s\n"
     ]
    },
    {
     "data": {
      "text/plain": [
       "GridSearchCV(estimator=LGBMRegressor(random_state=12345), n_jobs=-1,\n",
       "             param_grid={'class_weight': [None, 'balanced'],\n",
       "                         'learning_rate': [0.1], 'max_depth': [5, 7],\n",
       "                         'n_estimators': [150, 250], 'num_leaves': [40, 60]},\n",
       "             scoring='neg_root_mean_squared_error')"
      ]
     },
     "execution_count": 26,
     "metadata": {},
     "output_type": "execute_result"
    }
   ],
   "source": [
    "%%time\n",
    "gridsearch.fit(train[features],train[target])"
   ]
  },
  {
   "cell_type": "code",
   "execution_count": 27,
   "metadata": {},
   "outputs": [],
   "source": [
    "gridsearch_lgbm_best = gridsearch.best_estimator_"
   ]
  },
  {
   "cell_type": "code",
   "execution_count": 28,
   "metadata": {},
   "outputs": [
    {
     "name": "stdout",
     "output_type": "stream",
     "text": [
      "{'class_weight': None, 'learning_rate': 0.1, 'max_depth': 5, 'n_estimators': 150, 'num_leaves': 40}\n"
     ]
    }
   ],
   "source": [
    "print(gridsearch.best_params_)"
   ]
  },
  {
   "cell_type": "code",
   "execution_count": 29,
   "metadata": {
    "scrolled": true
   },
   "outputs": [
    {
     "name": "stdout",
     "output_type": "stream",
     "text": [
      "La cantidad media de órdenes predichas es : 22.3\n",
      "El Error medio cuadrático para las predicciones es: 8.69\n",
      "CPU times: user 39.7 ms, sys: 4.07 ms, total: 43.8 ms\n",
      "Wall time: 16.8 ms\n"
     ]
    }
   ],
   "source": [
    "%%time\n",
    "final_lgbm_predicitons= gridsearch_lgbm_best.predict(test[features])\n",
    "mean_lgbm ,rmse_lgbm = metrics(test[target],final_lgbm_predicitons )\n",
    "print(f\"La cantidad media de órdenes predichas es : {round(mean_lgbm,2)}\",)\n",
    "print(f'El Error medio cuadrático para las predicciones es: {round(rmse_lgbm,2)}')\n",
    "\n"
   ]
  },
  {
   "cell_type": "code",
   "execution_count": 30,
   "metadata": {},
   "outputs": [],
   "source": [
    "metrics_dict['LightGBM_with_adjustment']=['Modelo LightGBM con ajuste de hiperparámetros',mean_lgbm,rmse_lgbm]"
   ]
  },
  {
   "cell_type": "markdown",
   "metadata": {},
   "source": [
    "### Catboost sin ajuste de hiperparámetros (modelo bemchmark)"
   ]
  },
  {
   "cell_type": "code",
   "execution_count": 31,
   "metadata": {},
   "outputs": [
    {
     "name": "stdout",
     "output_type": "stream",
     "text": [
      "Learning rate set to 0.315972\n",
      "0:\tlearn: 7.1041283\ttotal: 57.7ms\tremaining: 8.6s\n",
      "100:\tlearn: 5.1140995\ttotal: 869ms\tremaining: 421ms\n",
      "149:\tlearn: 4.9211325\ttotal: 1.29s\tremaining: 0us\n",
      "CPU times: user 1.33 s, sys: 4.06 ms, total: 1.33 s\n",
      "Wall time: 1.51 s\n"
     ]
    }
   ],
   "source": [
    "%%time\n",
    "cb_model = CatBoostRegressor(random_state=12345, loss_function='RMSE', iterations=150, verbose=100)\n",
    "cb_model.fit(train[features],train[target])\n",
    "cb_predictions = cb_model.predict(test[features])\n",
    "mean_cb ,rmse_cb = metrics(test[target], cb_predictions)"
   ]
  },
  {
   "cell_type": "code",
   "execution_count": 32,
   "metadata": {
    "scrolled": true
   },
   "outputs": [
    {
     "name": "stdout",
     "output_type": "stream",
     "text": [
      "La cantidad media de órdenes predichas es : 21.79\n",
      "El Error medio cuadrático para las predicciones es: 8.88\n"
     ]
    }
   ],
   "source": [
    "print(f\"La cantidad media de órdenes predichas es : {round(mean_cb,2)}\",)\n",
    "print(f'El Error medio cuadrático para las predicciones es: {round(rmse_cb,2)}')"
   ]
  },
  {
   "cell_type": "code",
   "execution_count": 33,
   "metadata": {},
   "outputs": [],
   "source": [
    "metrics_dict['Catboost_without_adjustment']=['Modelo Catboost sin ajuste de hiperparámetros',mean_cb,rmse_cb]"
   ]
  },
  {
   "cell_type": "markdown",
   "metadata": {},
   "source": [
    "### Catboost con ajuste de hiperparámetros (modelo final)"
   ]
  },
  {
   "cell_type": "code",
   "execution_count": 34,
   "metadata": {},
   "outputs": [],
   "source": [
    "param_grid={\n",
    "    'learning_rate':[0.1],\n",
    "    'depth':[5,10],\n",
    "    'early_stopping_rounds': [7]\n",
    "}"
   ]
  },
  {
   "cell_type": "code",
   "execution_count": 35,
   "metadata": {},
   "outputs": [],
   "source": [
    "cb_gridsearch= GridSearchCV(CatBoostRegressor(random_state=12345,loss_function='RMSE',iterations=150),\n",
    "                           param_grid=param_grid,n_jobs=-1)"
   ]
  },
  {
   "cell_type": "code",
   "execution_count": 36,
   "metadata": {},
   "outputs": [
    {
     "name": "stdout",
     "output_type": "stream",
     "text": [
      "0:\tlearn: 7.9563032\ttotal: 7.4ms\tremaining: 1.1s\n",
      "149:\tlearn: 5.5434814\ttotal: 841ms\tremaining: 0us\n",
      "0:\tlearn: 7.9584562\ttotal: 6.86ms\tremaining: 1.02s\n",
      "149:\tlearn: 5.4919594\ttotal: 810ms\tremaining: 0us\n",
      "0:\tlearn: 7.9088967\ttotal: 5.87ms\tremaining: 875ms\n",
      "149:\tlearn: 5.4080386\ttotal: 822ms\tremaining: 0us\n",
      "0:\tlearn: 7.8876434\ttotal: 6.54ms\tremaining: 975ms\n",
      "149:\tlearn: 5.3130826\ttotal: 835ms\tremaining: 0us\n",
      "0:\tlearn: 7.0629493\ttotal: 7.49ms\tremaining: 1.11s\n",
      "149:\tlearn: 5.0363779\ttotal: 794ms\tremaining: 0us\n",
      "0:\tlearn: 7.9304216\ttotal: 50.5ms\tremaining: 7.53s\n",
      "149:\tlearn: 4.7696828\ttotal: 7.04s\tremaining: 0us\n",
      "0:\tlearn: 7.9374143\ttotal: 49.3ms\tremaining: 7.35s\n",
      "149:\tlearn: 4.8356826\ttotal: 7s\tremaining: 0us\n",
      "0:\tlearn: 7.8990640\ttotal: 45.7ms\tremaining: 6.8s\n",
      "149:\tlearn: 4.7751776\ttotal: 6.83s\tremaining: 0us\n",
      "0:\tlearn: 7.8648671\ttotal: 48.1ms\tremaining: 7.16s\n",
      "149:\tlearn: 4.6322151\ttotal: 7.18s\tremaining: 0us\n",
      "0:\tlearn: 7.0438757\ttotal: 44.8ms\tremaining: 6.67s\n",
      "149:\tlearn: 4.3919829\ttotal: 6.39s\tremaining: 0us\n",
      "0:\tlearn: 7.7903368\ttotal: 7.91ms\tremaining: 1.18s\n",
      "149:\tlearn: 5.3826551\ttotal: 1.06s\tremaining: 0us\n",
      "CPU times: user 40.1 s, sys: 103 ms, total: 40.2 s\n",
      "Wall time: 41.4 s\n"
     ]
    },
    {
     "data": {
      "text/plain": [
       "GridSearchCV(estimator=<catboost.core.CatBoostRegressor object at 0x7f785f09f2e0>,\n",
       "             n_jobs=-1,\n",
       "             param_grid={'depth': [5, 10], 'early_stopping_rounds': [7],\n",
       "                         'learning_rate': [0.1]})"
      ]
     },
     "execution_count": 36,
     "metadata": {},
     "output_type": "execute_result"
    }
   ],
   "source": [
    "%%time\n",
    "cb_gridsearch.fit(train[features], train[target], verbose=200)"
   ]
  },
  {
   "cell_type": "code",
   "execution_count": 37,
   "metadata": {},
   "outputs": [],
   "source": [
    "cb_gridsearch_best = cb_gridsearch.best_estimator_"
   ]
  },
  {
   "cell_type": "code",
   "execution_count": 38,
   "metadata": {},
   "outputs": [
    {
     "name": "stdout",
     "output_type": "stream",
     "text": [
      "{'depth': 5, 'early_stopping_rounds': 7, 'learning_rate': 0.1}\n"
     ]
    }
   ],
   "source": [
    "print(cb_gridsearch.best_params_)"
   ]
  },
  {
   "cell_type": "code",
   "execution_count": 39,
   "metadata": {},
   "outputs": [
    {
     "name": "stdout",
     "output_type": "stream",
     "text": [
      "La cantidad media de órdenes predichas es : 22.04\n",
      "El Error medio cuadrático para las predicciones es: 8.49\n"
     ]
    }
   ],
   "source": [
    "cb_predictions_f = cb_gridsearch_best.predict(test[features])\n",
    "cb_f_mean , cb_f_rmse = metrics(test[target],cb_predictions_f)\n",
    "print(f\"La cantidad media de órdenes predichas es : {round(cb_f_mean,2)}\",)\n",
    "print(f'El Error medio cuadrático para las predicciones es: {round(cb_f_rmse,2)}')"
   ]
  },
  {
   "cell_type": "code",
   "execution_count": 40,
   "metadata": {},
   "outputs": [],
   "source": [
    "metrics_dict['Catboost_with_adjustment']=['Modelo Catboost con ajuste de hiperparámetros',cb_f_mean,cb_f_rmse]"
   ]
  },
  {
   "cell_type": "markdown",
   "metadata": {},
   "source": [
    "## Resumen de resultados"
   ]
  },
  {
   "cell_type": "code",
   "execution_count": 41,
   "metadata": {},
   "outputs": [
    {
     "data": {
      "text/plain": [
       "{'LightGBM_without_adjustment': ['Modelo LightGBM sin ajuste de hiperparámetros',\n",
       "  23.269056603773585,\n",
       "  8.75157445478309],\n",
       " 'LightGBM_with_adjustment': ['Modelo LightGBM con ajuste de hiperparámetros',\n",
       "  22.297624943267806,\n",
       "  8.693515713376197],\n",
       " 'Catboost_without_adjustment': ['Modelo Catboost sin ajuste de hiperparámetros',\n",
       "  21.79451033510037,\n",
       "  8.882820085879244],\n",
       " 'Catboost_with_adjustment': ['Modelo Catboost con ajuste de hiperparámetros',\n",
       "  22.043574002655845,\n",
       "  8.493103974653605]}"
      ]
     },
     "execution_count": 41,
     "metadata": {},
     "output_type": "execute_result"
    }
   ],
   "source": [
    "metrics_dict"
   ]
  },
  {
   "cell_type": "code",
   "execution_count": 42,
   "metadata": {
    "scrolled": true
   },
   "outputs": [],
   "source": [
    "df_metrics= pd.DataFrame(metrics_dict)\n",
    "df_metrics=df_metrics.T\n",
    "df_metrics.reset_index(drop=True,inplace=True)\n",
    "df_metrics.columns=['','Media de la predicción','RMSE de la predicción']\n",
    "df_metrics = df_metrics.sort_values(by='RMSE de la predicción')\n",
    "df_metrics.reset_index(drop=True,inplace=True)\n",
    "\n",
    "catboost_metrics_df = pd.DataFrame(df_metrics.iloc[0])\n",
    "catboost_metrics_df=catboost_metrics_df.T\n",
    "catboost_metrics_df['Depth']=5\n",
    "catboost_metrics_df['Early stopping rounds']=7\n",
    "catboost_metrics_df['Learning Rate']=0.1\n",
    "catboost_metrics_df=catboost_metrics_df.T\n",
    "catboost_metrics_df.columns=['']\n"
   ]
  },
  {
   "cell_type": "code",
   "execution_count": 43,
   "metadata": {},
   "outputs": [
    {
     "data": {
      "text/html": [
       "<div>\n",
       "<style scoped>\n",
       "    .dataframe tbody tr th:only-of-type {\n",
       "        vertical-align: middle;\n",
       "    }\n",
       "\n",
       "    .dataframe tbody tr th {\n",
       "        vertical-align: top;\n",
       "    }\n",
       "\n",
       "    .dataframe thead th {\n",
       "        text-align: right;\n",
       "    }\n",
       "</style>\n",
       "<table border=\"1\" class=\"dataframe\">\n",
       "  <thead>\n",
       "    <tr style=\"text-align: right;\">\n",
       "      <th></th>\n",
       "      <th></th>\n",
       "      <th>Media de la predicción</th>\n",
       "      <th>RMSE de la predicción</th>\n",
       "    </tr>\n",
       "  </thead>\n",
       "  <tbody>\n",
       "    <tr>\n",
       "      <th>0</th>\n",
       "      <td>Modelo Catboost con ajuste de hiperparámetros</td>\n",
       "      <td>22.043574</td>\n",
       "      <td>8.493104</td>\n",
       "    </tr>\n",
       "    <tr>\n",
       "      <th>1</th>\n",
       "      <td>Modelo LightGBM con ajuste de hiperparámetros</td>\n",
       "      <td>22.297625</td>\n",
       "      <td>8.693516</td>\n",
       "    </tr>\n",
       "    <tr>\n",
       "      <th>2</th>\n",
       "      <td>Modelo LightGBM sin ajuste de hiperparámetros</td>\n",
       "      <td>23.269057</td>\n",
       "      <td>8.751574</td>\n",
       "    </tr>\n",
       "    <tr>\n",
       "      <th>3</th>\n",
       "      <td>Modelo Catboost sin ajuste de hiperparámetros</td>\n",
       "      <td>21.79451</td>\n",
       "      <td>8.88282</td>\n",
       "    </tr>\n",
       "  </tbody>\n",
       "</table>\n",
       "</div>"
      ],
      "text/plain": [
       "                                                 Media de la predicción  \\\n",
       "0  Modelo Catboost con ajuste de hiperparámetros              22.043574   \n",
       "1  Modelo LightGBM con ajuste de hiperparámetros              22.297625   \n",
       "2  Modelo LightGBM sin ajuste de hiperparámetros              23.269057   \n",
       "3  Modelo Catboost sin ajuste de hiperparámetros               21.79451   \n",
       "\n",
       "  RMSE de la predicción  \n",
       "0              8.493104  \n",
       "1              8.693516  \n",
       "2              8.751574  \n",
       "3               8.88282  "
      ]
     },
     "execution_count": 43,
     "metadata": {},
     "output_type": "execute_result"
    }
   ],
   "source": [
    "df_metrics"
   ]
  },
  {
   "cell_type": "code",
   "execution_count": 44,
   "metadata": {},
   "outputs": [
    {
     "data": {
      "text/html": [
       "<div>\n",
       "<style scoped>\n",
       "    .dataframe tbody tr th:only-of-type {\n",
       "        vertical-align: middle;\n",
       "    }\n",
       "\n",
       "    .dataframe tbody tr th {\n",
       "        vertical-align: top;\n",
       "    }\n",
       "\n",
       "    .dataframe thead th {\n",
       "        text-align: right;\n",
       "    }\n",
       "</style>\n",
       "<table border=\"1\" class=\"dataframe\">\n",
       "  <thead>\n",
       "    <tr style=\"text-align: right;\">\n",
       "      <th></th>\n",
       "      <th></th>\n",
       "    </tr>\n",
       "  </thead>\n",
       "  <tbody>\n",
       "    <tr>\n",
       "      <th></th>\n",
       "      <td>Modelo Catboost con ajuste de hiperparámetros</td>\n",
       "    </tr>\n",
       "    <tr>\n",
       "      <th>Media de la predicción</th>\n",
       "      <td>22.043574</td>\n",
       "    </tr>\n",
       "    <tr>\n",
       "      <th>RMSE de la predicción</th>\n",
       "      <td>8.493104</td>\n",
       "    </tr>\n",
       "    <tr>\n",
       "      <th>Depth</th>\n",
       "      <td>5</td>\n",
       "    </tr>\n",
       "    <tr>\n",
       "      <th>Early stopping rounds</th>\n",
       "      <td>7</td>\n",
       "    </tr>\n",
       "    <tr>\n",
       "      <th>Learning Rate</th>\n",
       "      <td>0.1</td>\n",
       "    </tr>\n",
       "  </tbody>\n",
       "</table>\n",
       "</div>"
      ],
      "text/plain": [
       "                                                                     \n",
       "                        Modelo Catboost con ajuste de hiperparámetros\n",
       "Media de la predicción                                      22.043574\n",
       "RMSE de la predicción                                        8.493104\n",
       "Depth                                                               5\n",
       "Early stopping rounds                                               7\n",
       "Learning Rate                                                     0.1"
      ]
     },
     "execution_count": 44,
     "metadata": {},
     "output_type": "execute_result"
    }
   ],
   "source": [
    "catboost_metrics_df"
   ]
  },
  {
   "cell_type": "markdown",
   "metadata": {},
   "source": [
    "## Conclusiones\n",
    "\n",
    "**Conclusiones de los modelos**\n",
    "\n",
    "**Tal como podemos observar en la tabla anterior:**\n",
    "\n",
    "* El modelo con mejor desempeño es **Catboost con ajuste de hiperparámetros**, sus métricas fueron:\n",
    "    * **La cantidad media de órdenes predichas es : 22.04**\n",
    "    * **El Error medio cuadrático para las predicciones es: 8.49**\n",
    "    * **Mejores parámetros:**\n",
    "        * 'depth': 5\n",
    "        * 'early_stopping_rounds': 7\n",
    "        * 'learning_rate': 0.1\n",
    "        \n",
    "Obtuvimos un RMSE de 8.49 muy por debajo del objetivo (Menor a 48), el costo computacional fue bajo con un tiempo de entrenamiento de 41.2 segundos, las características no necesitaron ser escaladas ni codificadas.\n",
    "\n",
    "\n",
    "**Conclusiones respecto a los datos:**\n",
    "\n",
    "\n",
    "* **La demanda del servicio de taxi tiene una tendencia a la alta en los meses registrados, de Abril a Junio observamos una baja en el consumo para los primeros días del mes, sin embargo en el resto de los meses no obedece a un comportamiento cíclico, los incrementos en el consumo se observan normalmente al cierre del mes.**\n",
    "\n",
    "\n",
    "* **La demanda del servicio de taxi estudiado por día y hora en las últimas dos semanas nos muestra tendencias claras:**\n",
    "    * Los Domingos incrementa abruptamente el consumo de viajes\n",
    "    * Entre los días Lunes y Miércoles el consumo de viajes se reduce\n",
    "    * Nuevamente vuelve a incrementar el consumo de viajes entre el Jueves y el Sábado para repetir el ciclo\n",
    "\n",
    "\n",
    "* **La demanda del servicio de taxi, estudiada por día y hora en los últimos 5 días nos muestra una estacionalidad en donde:**\n",
    "    * Las últimas horas del día se incrementa la demanda a su pico máximo (horas pico)\n",
    "    * Las primeras horas del día se decrementa la demanda a su pico mínimo (horas valle)\n",
    "    * Por la mañana y antes del mediodía se observa un incremento de consumo\n",
    "    * Cerca del mediodía y hasta antes de las 3pm (aproximadamente) se observa un decremento en el consumo\n",
    "    * Entre las 3pm y 6pm (aproximadamente) vuelve a incrementar el consumo\n",
    "    * Entre las 6pm y 8pm (aproximadamente) decrementa el consumo\n",
    "    * Después de las 8pm (aproximadamente) y al cierre del día, incrementa el consumo para repetir el ciclo.\n",
    "\n"
   ]
  }
 ],
 "metadata": {
  "ExecuteTimeLog": [
   {
    "duration": 322,
    "start_time": "2024-07-01T07:48:49.719Z"
   },
   {
    "duration": 441,
    "start_time": "2024-07-01T07:48:51.797Z"
   },
   {
    "duration": 39,
    "start_time": "2024-07-01T07:48:53.235Z"
   },
   {
    "duration": 19,
    "start_time": "2024-07-01T07:48:55.401Z"
   },
   {
    "duration": 17,
    "start_time": "2024-07-01T07:49:01.576Z"
   },
   {
    "duration": 9,
    "start_time": "2024-07-01T07:49:06.874Z"
   },
   {
    "duration": 88,
    "start_time": "2024-07-01T07:52:49.846Z"
   },
   {
    "duration": 12,
    "start_time": "2024-07-01T07:52:55.841Z"
   },
   {
    "duration": 36,
    "start_time": "2024-07-01T07:52:59.430Z"
   },
   {
    "duration": 24,
    "start_time": "2024-07-01T07:53:04.176Z"
   },
   {
    "duration": 14,
    "start_time": "2024-07-01T07:53:07.200Z"
   },
   {
    "duration": 71,
    "start_time": "2024-07-01T07:53:13.487Z"
   },
   {
    "duration": 624,
    "start_time": "2024-07-01T07:54:12.359Z"
   },
   {
    "duration": 13,
    "start_time": "2024-07-01T07:54:39.900Z"
   },
   {
    "duration": 56,
    "start_time": "2024-07-01T07:54:42.702Z"
   },
   {
    "duration": 5,
    "start_time": "2024-07-01T07:55:09.781Z"
   },
   {
    "duration": 17,
    "start_time": "2024-07-01T07:55:11.340Z"
   },
   {
    "duration": 7,
    "start_time": "2024-07-01T07:55:29.272Z"
   },
   {
    "duration": 434,
    "start_time": "2024-07-01T07:55:56.231Z"
   },
   {
    "duration": 42,
    "start_time": "2024-07-01T07:56:03.948Z"
   },
   {
    "duration": 4,
    "start_time": "2024-07-01T07:56:11.576Z"
   },
   {
    "duration": 25,
    "start_time": "2024-07-01T07:56:11.584Z"
   },
   {
    "duration": 14,
    "start_time": "2024-07-01T07:56:11.612Z"
   },
   {
    "duration": 9,
    "start_time": "2024-07-01T07:56:11.629Z"
   },
   {
    "duration": 21,
    "start_time": "2024-07-01T07:56:11.642Z"
   },
   {
    "duration": 5,
    "start_time": "2024-07-01T07:56:11.666Z"
   },
   {
    "duration": 8,
    "start_time": "2024-07-01T07:56:13.415Z"
   },
   {
    "duration": 22,
    "start_time": "2024-07-01T07:56:16.724Z"
   },
   {
    "duration": 15,
    "start_time": "2024-07-01T07:56:19.913Z"
   },
   {
    "duration": 15,
    "start_time": "2024-07-01T07:56:20.496Z"
   },
   {
    "duration": 12,
    "start_time": "2024-07-01T07:56:24.802Z"
   },
   {
    "duration": 725,
    "start_time": "2024-07-01T08:03:16.559Z"
   },
   {
    "duration": 6,
    "start_time": "2024-07-01T08:03:55.455Z"
   },
   {
    "duration": 7,
    "start_time": "2024-07-01T08:04:12.680Z"
   },
   {
    "duration": 97,
    "start_time": "2024-07-01T08:06:20.047Z"
   },
   {
    "duration": 4,
    "start_time": "2024-07-01T08:06:31.136Z"
   },
   {
    "duration": 30,
    "start_time": "2024-07-01T08:06:31.146Z"
   },
   {
    "duration": 15,
    "start_time": "2024-07-01T08:06:31.179Z"
   },
   {
    "duration": 36,
    "start_time": "2024-07-01T08:06:31.197Z"
   },
   {
    "duration": 21,
    "start_time": "2024-07-01T08:06:31.237Z"
   },
   {
    "duration": 7,
    "start_time": "2024-07-01T08:06:31.260Z"
   },
   {
    "duration": 15,
    "start_time": "2024-07-01T08:06:31.270Z"
   },
   {
    "duration": 13,
    "start_time": "2024-07-01T08:06:46.091Z"
   },
   {
    "duration": 12,
    "start_time": "2024-07-01T08:07:11.360Z"
   },
   {
    "duration": 12,
    "start_time": "2024-07-01T08:07:24.198Z"
   },
   {
    "duration": 7,
    "start_time": "2024-07-01T08:07:30.895Z"
   },
   {
    "duration": 5,
    "start_time": "2024-07-01T08:13:01.488Z"
   },
   {
    "duration": 20,
    "start_time": "2024-07-01T08:13:15.191Z"
   },
   {
    "duration": 20,
    "start_time": "2024-07-01T08:13:19.923Z"
   },
   {
    "duration": 25,
    "start_time": "2024-07-01T08:13:33.068Z"
   },
   {
    "duration": 3,
    "start_time": "2024-07-01T08:13:41.338Z"
   },
   {
    "duration": 26,
    "start_time": "2024-07-01T08:13:41.346Z"
   },
   {
    "duration": 16,
    "start_time": "2024-07-01T08:13:41.375Z"
   },
   {
    "duration": 36,
    "start_time": "2024-07-01T08:13:41.394Z"
   },
   {
    "duration": 21,
    "start_time": "2024-07-01T08:13:41.435Z"
   },
   {
    "duration": 6,
    "start_time": "2024-07-01T08:13:41.458Z"
   },
   {
    "duration": 13,
    "start_time": "2024-07-01T08:13:41.467Z"
   },
   {
    "duration": 54,
    "start_time": "2024-07-01T08:13:41.483Z"
   },
   {
    "duration": 6,
    "start_time": "2024-07-01T08:13:41.539Z"
   },
   {
    "duration": 6,
    "start_time": "2024-07-01T08:13:41.548Z"
   },
   {
    "duration": 28,
    "start_time": "2024-07-01T08:13:43.230Z"
   },
   {
    "duration": 4,
    "start_time": "2024-07-01T08:14:05.368Z"
   },
   {
    "duration": 25,
    "start_time": "2024-07-01T08:14:05.375Z"
   },
   {
    "duration": 15,
    "start_time": "2024-07-01T08:14:05.403Z"
   },
   {
    "duration": 10,
    "start_time": "2024-07-01T08:14:05.422Z"
   },
   {
    "duration": 21,
    "start_time": "2024-07-01T08:14:05.435Z"
   },
   {
    "duration": 5,
    "start_time": "2024-07-01T08:14:05.459Z"
   },
   {
    "duration": 13,
    "start_time": "2024-07-01T08:14:05.467Z"
   },
   {
    "duration": 55,
    "start_time": "2024-07-01T08:14:05.483Z"
   },
   {
    "duration": 7,
    "start_time": "2024-07-01T08:14:05.542Z"
   },
   {
    "duration": 5,
    "start_time": "2024-07-01T08:14:05.552Z"
   },
   {
    "duration": 28,
    "start_time": "2024-07-01T08:14:05.560Z"
   },
   {
    "duration": 91,
    "start_time": "2024-07-01T08:42:45.043Z"
   },
   {
    "duration": 3887,
    "start_time": "2024-07-01T08:43:42.955Z"
   },
   {
    "duration": 4,
    "start_time": "2024-07-01T08:43:47.874Z"
   },
   {
    "duration": 46,
    "start_time": "2024-07-01T08:43:58.749Z"
   },
   {
    "duration": 654,
    "start_time": "2024-07-01T08:44:30.830Z"
   },
   {
    "duration": 161,
    "start_time": "2024-07-01T08:44:48.333Z"
   },
   {
    "duration": 376,
    "start_time": "2024-07-01T08:44:58.622Z"
   },
   {
    "duration": 9,
    "start_time": "2024-07-01T08:45:11.204Z"
   },
   {
    "duration": 92,
    "start_time": "2024-07-01T08:45:41.459Z"
   },
   {
    "duration": 89,
    "start_time": "2024-07-01T08:45:53.941Z"
   },
   {
    "duration": 7201,
    "start_time": "2024-07-01T08:46:15.274Z"
   },
   {
    "duration": 481,
    "start_time": "2024-07-01T08:46:31.261Z"
   },
   {
    "duration": 465,
    "start_time": "2024-07-01T08:46:41.842Z"
   },
   {
    "duration": 439,
    "start_time": "2024-07-01T08:46:49.820Z"
   },
   {
    "duration": 90,
    "start_time": "2024-07-01T08:47:09.467Z"
   },
   {
    "duration": 1588,
    "start_time": "2024-07-01T08:47:21.742Z"
   },
   {
    "duration": 36,
    "start_time": "2024-07-01T08:48:21.764Z"
   },
   {
    "duration": 167,
    "start_time": "2024-07-01T08:48:29.608Z"
   },
   {
    "duration": 72,
    "start_time": "2024-07-01T08:48:34.143Z"
   },
   {
    "duration": 5,
    "start_time": "2024-07-01T08:49:06.149Z"
   },
   {
    "duration": 27,
    "start_time": "2024-07-01T08:49:06.159Z"
   },
   {
    "duration": 15,
    "start_time": "2024-07-01T08:49:06.189Z"
   },
   {
    "duration": 25,
    "start_time": "2024-07-01T08:49:06.209Z"
   },
   {
    "duration": 21,
    "start_time": "2024-07-01T08:49:06.237Z"
   },
   {
    "duration": 5,
    "start_time": "2024-07-01T08:49:06.261Z"
   },
   {
    "duration": 14,
    "start_time": "2024-07-01T08:49:06.269Z"
   },
   {
    "duration": 51,
    "start_time": "2024-07-01T08:49:06.285Z"
   },
   {
    "duration": 6,
    "start_time": "2024-07-01T08:49:06.339Z"
   },
   {
    "duration": 5,
    "start_time": "2024-07-01T08:49:06.350Z"
   },
   {
    "duration": 24,
    "start_time": "2024-07-01T08:49:06.359Z"
   },
   {
    "duration": 84,
    "start_time": "2024-07-01T08:49:06.389Z"
   },
   {
    "duration": 0,
    "start_time": "2024-07-01T08:49:06.476Z"
   },
   {
    "duration": 23,
    "start_time": "2024-07-01T08:49:11.668Z"
   },
   {
    "duration": 8,
    "start_time": "2024-07-01T08:49:17.574Z"
   },
   {
    "duration": 42,
    "start_time": "2024-07-01T08:49:20.074Z"
   },
   {
    "duration": 32,
    "start_time": "2024-07-01T08:49:24.250Z"
   },
   {
    "duration": 1529,
    "start_time": "2024-07-01T08:49:46.590Z"
   },
   {
    "duration": 30,
    "start_time": "2024-07-01T08:49:48.123Z"
   },
   {
    "duration": 17,
    "start_time": "2024-07-01T08:49:48.155Z"
   },
   {
    "duration": 13,
    "start_time": "2024-07-01T08:49:48.175Z"
   },
   {
    "duration": 53,
    "start_time": "2024-07-01T08:49:48.192Z"
   },
   {
    "duration": 5,
    "start_time": "2024-07-01T08:49:48.248Z"
   },
   {
    "duration": 13,
    "start_time": "2024-07-01T08:49:48.257Z"
   },
   {
    "duration": 12,
    "start_time": "2024-07-01T08:49:48.273Z"
   },
   {
    "duration": 47,
    "start_time": "2024-07-01T08:49:48.288Z"
   },
   {
    "duration": 5,
    "start_time": "2024-07-01T08:49:48.338Z"
   },
   {
    "duration": 25,
    "start_time": "2024-07-01T08:49:48.347Z"
   },
   {
    "duration": 17,
    "start_time": "2024-07-01T08:49:48.375Z"
   },
   {
    "duration": 1219,
    "start_time": "2024-07-01T08:49:48.395Z"
   },
   {
    "duration": 12,
    "start_time": "2024-07-01T08:49:55.116Z"
   },
   {
    "duration": 16,
    "start_time": "2024-07-01T08:50:03.633Z"
   },
   {
    "duration": 10,
    "start_time": "2024-07-01T08:50:16.929Z"
   },
   {
    "duration": 275,
    "start_time": "2024-07-01T08:51:09.910Z"
   },
   {
    "duration": 22,
    "start_time": "2024-07-01T08:52:25.984Z"
   },
   {
    "duration": 6,
    "start_time": "2024-07-01T08:52:35.222Z"
   },
   {
    "duration": 24,
    "start_time": "2024-07-01T08:52:35.232Z"
   },
   {
    "duration": 16,
    "start_time": "2024-07-01T08:52:35.259Z"
   },
   {
    "duration": 9,
    "start_time": "2024-07-01T08:52:35.278Z"
   },
   {
    "duration": 47,
    "start_time": "2024-07-01T08:52:35.292Z"
   },
   {
    "duration": 4,
    "start_time": "2024-07-01T08:52:35.343Z"
   },
   {
    "duration": 15,
    "start_time": "2024-07-01T08:52:35.350Z"
   },
   {
    "duration": 4,
    "start_time": "2024-07-01T08:52:35.369Z"
   },
   {
    "duration": 62,
    "start_time": "2024-07-01T08:52:35.376Z"
   },
   {
    "duration": 17,
    "start_time": "2024-07-01T08:52:35.440Z"
   },
   {
    "duration": 8,
    "start_time": "2024-07-01T08:52:45.594Z"
   },
   {
    "duration": 240,
    "start_time": "2024-07-01T08:52:46.831Z"
   },
   {
    "duration": 270,
    "start_time": "2024-07-01T08:53:09.972Z"
   },
   {
    "duration": 288,
    "start_time": "2024-07-01T08:53:13.167Z"
   },
   {
    "duration": 292,
    "start_time": "2024-07-01T08:53:18.126Z"
   },
   {
    "duration": 310,
    "start_time": "2024-07-01T08:53:26.572Z"
   },
   {
    "duration": 324,
    "start_time": "2024-07-01T08:53:34.400Z"
   },
   {
    "duration": 934,
    "start_time": "2024-07-01T08:53:57.288Z"
   },
   {
    "duration": 597,
    "start_time": "2024-07-01T08:54:02.243Z"
   },
   {
    "duration": 865,
    "start_time": "2024-07-01T08:54:28.666Z"
   },
   {
    "duration": 651,
    "start_time": "2024-07-01T08:54:40.572Z"
   },
   {
    "duration": 634,
    "start_time": "2024-07-01T08:54:48.258Z"
   },
   {
    "duration": 642,
    "start_time": "2024-07-01T08:54:58.140Z"
   },
   {
    "duration": 24,
    "start_time": "2024-07-01T08:57:19.909Z"
   },
   {
    "duration": 10,
    "start_time": "2024-07-01T08:57:23.573Z"
   },
   {
    "duration": 765,
    "start_time": "2024-07-01T08:57:38.336Z"
   },
   {
    "duration": 3,
    "start_time": "2024-07-01T08:58:50.892Z"
   },
   {
    "duration": 23,
    "start_time": "2024-07-01T08:59:10.566Z"
   },
   {
    "duration": 11,
    "start_time": "2024-07-01T08:59:15.162Z"
   },
   {
    "duration": 5,
    "start_time": "2024-07-01T08:59:20.128Z"
   },
   {
    "duration": 15,
    "start_time": "2024-07-01T08:59:27.921Z"
   },
   {
    "duration": 22,
    "start_time": "2024-07-01T08:59:32.543Z"
   },
   {
    "duration": 13,
    "start_time": "2024-07-01T08:59:34.908Z"
   },
   {
    "duration": 3,
    "start_time": "2024-07-01T08:59:48.401Z"
   },
   {
    "duration": 6,
    "start_time": "2024-07-01T08:59:52.186Z"
   },
   {
    "duration": 6,
    "start_time": "2024-07-01T09:00:06.485Z"
   },
   {
    "duration": 10,
    "start_time": "2024-07-01T09:00:07.722Z"
   },
   {
    "duration": 17,
    "start_time": "2024-07-01T09:00:12.218Z"
   },
   {
    "duration": 755,
    "start_time": "2024-07-01T09:00:34.637Z"
   },
   {
    "duration": 14,
    "start_time": "2024-07-01T09:06:30.065Z"
   },
   {
    "duration": 12,
    "start_time": "2024-07-01T09:06:36.120Z"
   },
   {
    "duration": 12,
    "start_time": "2024-07-01T09:06:59.964Z"
   },
   {
    "duration": 11,
    "start_time": "2024-07-01T09:07:40.459Z"
   },
   {
    "duration": 13,
    "start_time": "2024-07-01T09:07:48.877Z"
   },
   {
    "duration": 13,
    "start_time": "2024-07-01T09:08:39.925Z"
   },
   {
    "duration": 998,
    "start_time": "2024-07-01T09:08:48.114Z"
   },
   {
    "duration": 894,
    "start_time": "2024-07-01T09:08:53.118Z"
   },
   {
    "duration": 6,
    "start_time": "2024-07-01T09:08:56.103Z"
   },
   {
    "duration": 10,
    "start_time": "2024-07-01T09:09:00.662Z"
   },
   {
    "duration": 12,
    "start_time": "2024-07-01T09:10:39.336Z"
   },
   {
    "duration": 13,
    "start_time": "2024-07-01T09:10:47.715Z"
   },
   {
    "duration": 16,
    "start_time": "2024-07-01T09:12:55.805Z"
   },
   {
    "duration": 14,
    "start_time": "2024-07-01T09:13:00.914Z"
   },
   {
    "duration": 6,
    "start_time": "2024-07-01T09:13:40.276Z"
   },
   {
    "duration": 6,
    "start_time": "2024-07-01T09:13:54.481Z"
   },
   {
    "duration": 7,
    "start_time": "2024-07-01T09:14:40.914Z"
   },
   {
    "duration": 12,
    "start_time": "2024-07-01T09:14:47.107Z"
   },
   {
    "duration": 9,
    "start_time": "2024-07-01T09:15:09.687Z"
   },
   {
    "duration": 7,
    "start_time": "2024-07-01T09:15:14.309Z"
   },
   {
    "duration": 16,
    "start_time": "2024-07-01T09:15:19.289Z"
   },
   {
    "duration": 15,
    "start_time": "2024-07-01T09:15:38.902Z"
   },
   {
    "duration": 15,
    "start_time": "2024-07-01T09:15:45.722Z"
   },
   {
    "duration": 5,
    "start_time": "2024-07-01T09:15:58.968Z"
   },
   {
    "duration": 24,
    "start_time": "2024-07-01T09:15:58.977Z"
   },
   {
    "duration": 17,
    "start_time": "2024-07-01T09:15:59.003Z"
   },
   {
    "duration": 9,
    "start_time": "2024-07-01T09:15:59.023Z"
   },
   {
    "duration": 20,
    "start_time": "2024-07-01T09:15:59.037Z"
   },
   {
    "duration": 5,
    "start_time": "2024-07-01T09:15:59.060Z"
   },
   {
    "duration": 13,
    "start_time": "2024-07-01T09:15:59.068Z"
   },
   {
    "duration": 57,
    "start_time": "2024-07-01T09:15:59.084Z"
   },
   {
    "duration": 16,
    "start_time": "2024-07-01T09:15:59.144Z"
   },
   {
    "duration": 16,
    "start_time": "2024-07-01T09:15:59.163Z"
   },
   {
    "duration": 4,
    "start_time": "2024-07-01T09:16:14.559Z"
   },
   {
    "duration": 24,
    "start_time": "2024-07-01T09:16:14.567Z"
   },
   {
    "duration": 15,
    "start_time": "2024-07-01T09:16:14.594Z"
   },
   {
    "duration": 18,
    "start_time": "2024-07-01T09:16:14.614Z"
   },
   {
    "duration": 22,
    "start_time": "2024-07-01T09:16:14.635Z"
   },
   {
    "duration": 6,
    "start_time": "2024-07-01T09:16:14.660Z"
   },
   {
    "duration": 20,
    "start_time": "2024-07-01T09:16:14.669Z"
   },
   {
    "duration": 16,
    "start_time": "2024-07-01T09:16:14.730Z"
   },
   {
    "duration": 16,
    "start_time": "2024-07-01T09:16:14.750Z"
   },
   {
    "duration": 15,
    "start_time": "2024-07-01T09:16:14.771Z"
   },
   {
    "duration": 14,
    "start_time": "2024-07-01T09:16:29.004Z"
   },
   {
    "duration": 14,
    "start_time": "2024-07-01T09:16:33.391Z"
   },
   {
    "duration": 17,
    "start_time": "2024-07-01T09:16:48.690Z"
   },
   {
    "duration": 17,
    "start_time": "2024-07-01T09:16:55.027Z"
   },
   {
    "duration": 6,
    "start_time": "2024-07-01T09:17:06.443Z"
   },
   {
    "duration": 12,
    "start_time": "2024-07-01T09:17:08.906Z"
   },
   {
    "duration": 780,
    "start_time": "2024-07-01T09:17:27.630Z"
   },
   {
    "duration": 462,
    "start_time": "2024-07-01T09:17:33.250Z"
   },
   {
    "duration": 6,
    "start_time": "2024-07-01T09:21:47.838Z"
   },
   {
    "duration": 8,
    "start_time": "2024-07-01T09:21:51.004Z"
   },
   {
    "duration": 8,
    "start_time": "2024-07-01T09:22:06.969Z"
   },
   {
    "duration": 8,
    "start_time": "2024-07-01T09:22:10.688Z"
   },
   {
    "duration": 676,
    "start_time": "2024-07-01T09:22:21.468Z"
   },
   {
    "duration": 471,
    "start_time": "2024-07-01T09:22:31.495Z"
   },
   {
    "duration": 14,
    "start_time": "2024-07-01T09:23:44.126Z"
   },
   {
    "duration": 14,
    "start_time": "2024-07-01T09:23:55.927Z"
   },
   {
    "duration": 17,
    "start_time": "2024-07-01T09:24:05.946Z"
   },
   {
    "duration": 10,
    "start_time": "2024-07-01T09:24:09.960Z"
   },
   {
    "duration": 8,
    "start_time": "2024-07-01T09:24:11.315Z"
   },
   {
    "duration": 487,
    "start_time": "2024-07-01T09:24:17.518Z"
   },
   {
    "duration": 15,
    "start_time": "2024-07-01T09:24:35.985Z"
   },
   {
    "duration": 19,
    "start_time": "2024-07-01T09:24:38.302Z"
   },
   {
    "duration": 17,
    "start_time": "2024-07-01T09:24:47.400Z"
   },
   {
    "duration": 7,
    "start_time": "2024-07-01T09:24:50.095Z"
   },
   {
    "duration": 12,
    "start_time": "2024-07-01T09:24:51.386Z"
   },
   {
    "duration": 8,
    "start_time": "2024-07-01T09:24:53.371Z"
   },
   {
    "duration": 555,
    "start_time": "2024-07-01T09:24:58.503Z"
   },
   {
    "duration": 15,
    "start_time": "2024-07-01T09:25:33.856Z"
   },
   {
    "duration": 15,
    "start_time": "2024-07-01T09:25:37.117Z"
   },
   {
    "duration": 11,
    "start_time": "2024-07-01T09:25:39.403Z"
   },
   {
    "duration": 455,
    "start_time": "2024-07-01T09:25:43.010Z"
   },
   {
    "duration": 23,
    "start_time": "2024-07-01T09:28:40.751Z"
   },
   {
    "duration": 10,
    "start_time": "2024-07-01T09:28:44.308Z"
   },
   {
    "duration": 8,
    "start_time": "2024-07-01T09:28:45.953Z"
   },
   {
    "duration": 14,
    "start_time": "2024-07-01T09:29:56.908Z"
   },
   {
    "duration": 15,
    "start_time": "2024-07-01T09:29:58.989Z"
   },
   {
    "duration": 11,
    "start_time": "2024-07-01T09:30:02.178Z"
   },
   {
    "duration": 8,
    "start_time": "2024-07-01T09:30:03.398Z"
   },
   {
    "duration": 561,
    "start_time": "2024-07-01T09:30:05.371Z"
   },
   {
    "duration": 16,
    "start_time": "2024-07-01T09:30:58.534Z"
   },
   {
    "duration": 21,
    "start_time": "2024-07-01T09:31:26.025Z"
   },
   {
    "duration": 10,
    "start_time": "2024-07-01T09:31:28.985Z"
   },
   {
    "duration": 8,
    "start_time": "2024-07-01T09:31:30.388Z"
   },
   {
    "duration": 574,
    "start_time": "2024-07-01T09:31:32.336Z"
   },
   {
    "duration": 18,
    "start_time": "2024-07-01T09:31:54.610Z"
   },
   {
    "duration": 15,
    "start_time": "2024-07-01T09:32:01.289Z"
   },
   {
    "duration": 11,
    "start_time": "2024-07-01T09:32:04.412Z"
   },
   {
    "duration": 758,
    "start_time": "2024-07-01T09:32:07.805Z"
   },
   {
    "duration": 593,
    "start_time": "2024-07-01T09:33:13.969Z"
   },
   {
    "duration": 667,
    "start_time": "2024-07-01T09:34:04.930Z"
   },
   {
    "duration": 15,
    "start_time": "2024-07-01T09:34:55.303Z"
   },
   {
    "duration": 15,
    "start_time": "2024-07-01T09:35:11.241Z"
   },
   {
    "duration": 28,
    "start_time": "2024-07-01T09:35:23.643Z"
   },
   {
    "duration": 9,
    "start_time": "2024-07-01T09:35:25.741Z"
   },
   {
    "duration": 14,
    "start_time": "2024-07-01T09:35:27.103Z"
   },
   {
    "duration": 10,
    "start_time": "2024-07-01T09:35:40.630Z"
   },
   {
    "duration": 498,
    "start_time": "2024-07-01T09:35:45.840Z"
   },
   {
    "duration": 535,
    "start_time": "2024-07-01T09:35:47.483Z"
   },
   {
    "duration": 561,
    "start_time": "2024-07-01T09:36:22.115Z"
   },
   {
    "duration": 578,
    "start_time": "2024-07-01T09:36:32.564Z"
   },
   {
    "duration": 568,
    "start_time": "2024-07-01T09:36:44.033Z"
   },
   {
    "duration": 584,
    "start_time": "2024-07-01T09:38:40.485Z"
   },
   {
    "duration": 615,
    "start_time": "2024-07-01T09:38:56.969Z"
   },
   {
    "duration": 661,
    "start_time": "2024-07-01T09:39:04.061Z"
   },
   {
    "duration": 701,
    "start_time": "2024-07-01T09:40:01.847Z"
   },
   {
    "duration": 28,
    "start_time": "2024-07-01T09:40:27.060Z"
   },
   {
    "duration": 20,
    "start_time": "2024-07-01T09:40:29.392Z"
   },
   {
    "duration": 11,
    "start_time": "2024-07-01T09:40:31.708Z"
   },
   {
    "duration": 12,
    "start_time": "2024-07-01T09:40:31.943Z"
   },
   {
    "duration": 11,
    "start_time": "2024-07-01T09:40:33.292Z"
   },
   {
    "duration": 10,
    "start_time": "2024-07-01T09:40:35.109Z"
   },
   {
    "duration": 638,
    "start_time": "2024-07-01T09:40:36.201Z"
   },
   {
    "duration": 11,
    "start_time": "2024-07-01T09:41:17.701Z"
   },
   {
    "duration": 36,
    "start_time": "2024-07-01T09:41:25.664Z"
   },
   {
    "duration": 13,
    "start_time": "2024-07-01T09:41:27.703Z"
   },
   {
    "duration": 16,
    "start_time": "2024-07-01T09:41:32.636Z"
   },
   {
    "duration": 16,
    "start_time": "2024-07-01T09:41:39.001Z"
   },
   {
    "duration": 9,
    "start_time": "2024-07-01T09:41:41.215Z"
   },
   {
    "duration": 651,
    "start_time": "2024-07-01T09:41:43.932Z"
   },
   {
    "duration": 10,
    "start_time": "2024-07-01T09:41:50.804Z"
   },
   {
    "duration": 12,
    "start_time": "2024-07-01T09:41:52.200Z"
   },
   {
    "duration": 15,
    "start_time": "2024-07-01T09:41:55.423Z"
   },
   {
    "duration": 9,
    "start_time": "2024-07-01T09:41:57.392Z"
   },
   {
    "duration": 11,
    "start_time": "2024-07-01T09:41:58.583Z"
   },
   {
    "duration": 626,
    "start_time": "2024-07-01T09:41:59.836Z"
   },
   {
    "duration": 14,
    "start_time": "2024-07-01T09:42:20.643Z"
   },
   {
    "duration": 15,
    "start_time": "2024-07-01T09:42:29.772Z"
   },
   {
    "duration": 20,
    "start_time": "2024-07-01T09:42:31.259Z"
   },
   {
    "duration": 8,
    "start_time": "2024-07-01T09:42:35.448Z"
   },
   {
    "duration": 10,
    "start_time": "2024-07-01T09:42:35.461Z"
   },
   {
    "duration": 12,
    "start_time": "2024-07-01T09:42:35.475Z"
   },
   {
    "duration": 689,
    "start_time": "2024-07-01T09:42:35.490Z"
   },
   {
    "duration": 612,
    "start_time": "2024-07-01T09:42:53.107Z"
   },
   {
    "duration": 6,
    "start_time": "2024-07-01T09:43:23.327Z"
   },
   {
    "duration": 9,
    "start_time": "2024-07-01T09:43:27.932Z"
   },
   {
    "duration": 21,
    "start_time": "2024-07-01T09:44:31.813Z"
   },
   {
    "duration": 7,
    "start_time": "2024-07-01T09:44:35.254Z"
   },
   {
    "duration": 11,
    "start_time": "2024-07-01T09:44:35.265Z"
   },
   {
    "duration": 10,
    "start_time": "2024-07-01T09:44:35.279Z"
   },
   {
    "duration": 658,
    "start_time": "2024-07-01T09:44:35.292Z"
   },
   {
    "duration": 20,
    "start_time": "2024-07-01T09:44:44.728Z"
   },
   {
    "duration": 9,
    "start_time": "2024-07-01T09:44:53.188Z"
   },
   {
    "duration": 12,
    "start_time": "2024-07-01T09:44:53.202Z"
   },
   {
    "duration": 11,
    "start_time": "2024-07-01T09:44:53.217Z"
   },
   {
    "duration": 848,
    "start_time": "2024-07-01T09:44:53.231Z"
   },
   {
    "duration": 1554,
    "start_time": "2024-07-01T09:48:36.615Z"
   },
   {
    "duration": 26,
    "start_time": "2024-07-01T09:48:38.172Z"
   },
   {
    "duration": 31,
    "start_time": "2024-07-01T09:48:38.200Z"
   },
   {
    "duration": 13,
    "start_time": "2024-07-01T09:48:38.235Z"
   },
   {
    "duration": 23,
    "start_time": "2024-07-01T09:48:38.251Z"
   },
   {
    "duration": 6,
    "start_time": "2024-07-01T09:48:38.277Z"
   },
   {
    "duration": 53,
    "start_time": "2024-07-01T09:48:38.286Z"
   },
   {
    "duration": 16,
    "start_time": "2024-07-01T09:48:38.342Z"
   },
   {
    "duration": 16,
    "start_time": "2024-07-01T09:48:38.361Z"
   },
   {
    "duration": 60,
    "start_time": "2024-07-01T09:48:38.384Z"
   },
   {
    "duration": 8,
    "start_time": "2024-07-01T09:48:38.449Z"
   },
   {
    "duration": 14,
    "start_time": "2024-07-01T09:48:38.460Z"
   },
   {
    "duration": 10,
    "start_time": "2024-07-01T09:48:38.478Z"
   },
   {
    "duration": 712,
    "start_time": "2024-07-01T09:48:38.491Z"
   },
   {
    "duration": 13,
    "start_time": "2024-07-01T09:48:39.206Z"
   },
   {
    "duration": 11,
    "start_time": "2024-07-01T09:48:39.222Z"
   },
   {
    "duration": 8,
    "start_time": "2024-07-01T09:48:39.236Z"
   },
   {
    "duration": 5,
    "start_time": "2024-07-01T09:48:39.248Z"
   },
   {
    "duration": 25,
    "start_time": "2024-07-01T09:48:39.256Z"
   },
   {
    "duration": 673,
    "start_time": "2024-07-01T09:48:39.284Z"
   },
   {
    "duration": 0,
    "start_time": "2024-07-01T09:48:39.960Z"
   },
   {
    "duration": 0,
    "start_time": "2024-07-01T09:48:39.962Z"
   },
   {
    "duration": 0,
    "start_time": "2024-07-01T09:48:39.963Z"
   },
   {
    "duration": 0,
    "start_time": "2024-07-01T09:48:39.965Z"
   },
   {
    "duration": 0,
    "start_time": "2024-07-01T09:48:39.967Z"
   },
   {
    "duration": 0,
    "start_time": "2024-07-01T09:48:39.968Z"
   },
   {
    "duration": 0,
    "start_time": "2024-07-01T09:48:39.970Z"
   },
   {
    "duration": 0,
    "start_time": "2024-07-01T09:48:39.973Z"
   },
   {
    "duration": 19,
    "start_time": "2024-07-01T09:56:26.999Z"
   },
   {
    "duration": 9,
    "start_time": "2024-07-01T09:56:35.729Z"
   },
   {
    "duration": 5,
    "start_time": "2024-07-01T09:56:41.555Z"
   },
   {
    "duration": 634,
    "start_time": "2024-07-01T09:57:00.604Z"
   },
   {
    "duration": 214,
    "start_time": "2024-07-01T09:57:31.101Z"
   },
   {
    "duration": 929,
    "start_time": "2024-07-01T09:57:50.122Z"
   },
   {
    "duration": 883,
    "start_time": "2024-07-01T09:57:59.116Z"
   },
   {
    "duration": 934,
    "start_time": "2024-07-01T09:58:10.755Z"
   },
   {
    "duration": 991,
    "start_time": "2024-07-01T09:58:20.639Z"
   },
   {
    "duration": 980,
    "start_time": "2024-07-01T09:58:33.170Z"
   },
   {
    "duration": 1122,
    "start_time": "2024-07-01T09:58:58.981Z"
   },
   {
    "duration": 967,
    "start_time": "2024-07-01T10:02:05.804Z"
   },
   {
    "duration": 3,
    "start_time": "2024-07-01T10:12:41.121Z"
   },
   {
    "duration": 6,
    "start_time": "2024-07-01T10:12:43.436Z"
   },
   {
    "duration": 6,
    "start_time": "2024-07-01T10:13:18.096Z"
   },
   {
    "duration": 24,
    "start_time": "2024-07-01T10:13:19.866Z"
   },
   {
    "duration": 20,
    "start_time": "2024-07-01T10:13:59.888Z"
   },
   {
    "duration": 8,
    "start_time": "2024-07-01T10:14:25.294Z"
   },
   {
    "duration": 693,
    "start_time": "2024-07-01T10:14:54.031Z"
   },
   {
    "duration": 12,
    "start_time": "2024-07-01T10:15:02.191Z"
   },
   {
    "duration": 25,
    "start_time": "2024-07-01T10:15:28.061Z"
   },
   {
    "duration": 14,
    "start_time": "2024-07-01T10:15:30.949Z"
   },
   {
    "duration": 4,
    "start_time": "2024-07-01T10:16:11.225Z"
   },
   {
    "duration": 22,
    "start_time": "2024-07-01T10:16:11.234Z"
   },
   {
    "duration": 16,
    "start_time": "2024-07-01T10:16:11.259Z"
   },
   {
    "duration": 10,
    "start_time": "2024-07-01T10:16:11.278Z"
   },
   {
    "duration": 21,
    "start_time": "2024-07-01T10:16:11.330Z"
   },
   {
    "duration": 6,
    "start_time": "2024-07-01T10:16:11.354Z"
   },
   {
    "duration": 14,
    "start_time": "2024-07-01T10:16:11.362Z"
   },
   {
    "duration": 55,
    "start_time": "2024-07-01T10:16:11.379Z"
   },
   {
    "duration": 19,
    "start_time": "2024-07-01T10:16:11.437Z"
   },
   {
    "duration": 29,
    "start_time": "2024-07-01T10:16:11.459Z"
   },
   {
    "duration": 39,
    "start_time": "2024-07-01T10:16:11.492Z"
   },
   {
    "duration": 12,
    "start_time": "2024-07-01T10:16:11.535Z"
   },
   {
    "duration": 12,
    "start_time": "2024-07-01T10:16:11.550Z"
   },
   {
    "duration": 6,
    "start_time": "2024-07-01T10:16:11.567Z"
   },
   {
    "duration": 75,
    "start_time": "2024-07-01T10:16:11.576Z"
   },
   {
    "duration": 6,
    "start_time": "2024-07-01T10:16:11.654Z"
   },
   {
    "duration": 12,
    "start_time": "2024-07-01T10:16:11.664Z"
   },
   {
    "duration": 9,
    "start_time": "2024-07-01T10:16:11.678Z"
   },
   {
    "duration": 1083,
    "start_time": "2024-07-01T10:16:11.690Z"
   },
   {
    "duration": 27,
    "start_time": "2024-07-01T10:16:12.777Z"
   },
   {
    "duration": 574,
    "start_time": "2024-07-01T10:16:18.163Z"
   },
   {
    "duration": 894,
    "start_time": "2024-07-01T10:16:31.547Z"
   },
   {
    "duration": 493,
    "start_time": "2024-07-01T10:16:54.661Z"
   },
   {
    "duration": 5,
    "start_time": "2024-07-01T10:19:46.291Z"
   },
   {
    "duration": 4,
    "start_time": "2024-07-01T10:20:29.620Z"
   },
   {
    "duration": 6,
    "start_time": "2024-07-01T10:21:28.175Z"
   },
   {
    "duration": 754,
    "start_time": "2024-07-01T10:21:45.051Z"
   },
   {
    "duration": 620,
    "start_time": "2024-07-01T10:23:08.825Z"
   },
   {
    "duration": 512,
    "start_time": "2024-07-01T10:24:49.344Z"
   },
   {
    "duration": 514,
    "start_time": "2024-07-01T10:25:03.443Z"
   },
   {
    "duration": 43,
    "start_time": "2024-07-01T10:26:02.409Z"
   },
   {
    "duration": 5,
    "start_time": "2024-07-01T10:28:12.222Z"
   },
   {
    "duration": 25,
    "start_time": "2024-07-01T10:28:41.627Z"
   },
   {
    "duration": 6,
    "start_time": "2024-07-01T10:28:44.953Z"
   },
   {
    "duration": 5,
    "start_time": "2024-07-01T10:28:48.397Z"
   },
   {
    "duration": 34,
    "start_time": "2024-07-01T10:28:49.565Z"
   },
   {
    "duration": 4,
    "start_time": "2024-07-01T10:28:53.903Z"
   },
   {
    "duration": 21665,
    "start_time": "2024-07-01T10:29:34.947Z"
   },
   {
    "duration": 4,
    "start_time": "2024-07-01T10:30:20.120Z"
   },
   {
    "duration": 4,
    "start_time": "2024-07-01T10:30:21.551Z"
   },
   {
    "duration": 9965,
    "start_time": "2024-07-01T10:30:25.084Z"
   },
   {
    "duration": 4,
    "start_time": "2024-07-01T10:30:57.378Z"
   },
   {
    "duration": 4,
    "start_time": "2024-07-01T10:30:58.799Z"
   },
   {
    "duration": 19722,
    "start_time": "2024-07-01T10:31:00.010Z"
   },
   {
    "duration": 3,
    "start_time": "2024-07-01T10:31:46.641Z"
   },
   {
    "duration": 26,
    "start_time": "2024-07-01T10:31:51.654Z"
   },
   {
    "duration": 33,
    "start_time": "2024-07-01T10:31:55.346Z"
   },
   {
    "duration": 5,
    "start_time": "2024-07-01T10:31:58.606Z"
   },
   {
    "duration": 239,
    "start_time": "2024-07-01T10:33:08.857Z"
   },
   {
    "duration": 3,
    "start_time": "2024-07-01T10:33:18.868Z"
   },
   {
    "duration": 4,
    "start_time": "2024-07-01T10:33:20.125Z"
   },
   {
    "duration": 30,
    "start_time": "2024-07-01T10:33:21.474Z"
   },
   {
    "duration": 37,
    "start_time": "2024-07-01T10:33:25.696Z"
   },
   {
    "duration": 38,
    "start_time": "2024-07-01T10:33:35.459Z"
   },
   {
    "duration": 4,
    "start_time": "2024-07-01T10:34:07.114Z"
   },
   {
    "duration": 8,
    "start_time": "2024-07-01T10:34:08.642Z"
   },
   {
    "duration": 27840,
    "start_time": "2024-07-01T10:34:10.417Z"
   },
   {
    "duration": 4,
    "start_time": "2024-07-01T10:34:38.333Z"
   },
   {
    "duration": 5,
    "start_time": "2024-07-01T10:34:38.340Z"
   },
   {
    "duration": 24,
    "start_time": "2024-07-01T10:34:38.349Z"
   },
   {
    "duration": 4,
    "start_time": "2024-07-01T10:35:37.342Z"
   },
   {
    "duration": 3,
    "start_time": "2024-07-01T10:35:44.487Z"
   },
   {
    "duration": 4,
    "start_time": "2024-07-01T10:35:45.742Z"
   },
   {
    "duration": 53200,
    "start_time": "2024-07-01T10:35:47.036Z"
   },
   {
    "duration": 4,
    "start_time": "2024-07-01T10:36:40.240Z"
   },
   {
    "duration": 5,
    "start_time": "2024-07-01T10:36:40.248Z"
   },
   {
    "duration": 79,
    "start_time": "2024-07-01T10:36:40.259Z"
   },
   {
    "duration": 1582,
    "start_time": "2024-07-01T10:37:15.647Z"
   },
   {
    "duration": 26,
    "start_time": "2024-07-01T10:37:17.232Z"
   },
   {
    "duration": 17,
    "start_time": "2024-07-01T10:37:17.260Z"
   },
   {
    "duration": 11,
    "start_time": "2024-07-01T10:37:17.282Z"
   },
   {
    "duration": 50,
    "start_time": "2024-07-01T10:37:17.296Z"
   },
   {
    "duration": 6,
    "start_time": "2024-07-01T10:37:17.348Z"
   },
   {
    "duration": 14,
    "start_time": "2024-07-01T10:37:17.357Z"
   },
   {
    "duration": 17,
    "start_time": "2024-07-01T10:37:17.374Z"
   },
   {
    "duration": 17,
    "start_time": "2024-07-01T10:37:17.432Z"
   },
   {
    "duration": 19,
    "start_time": "2024-07-01T10:37:17.456Z"
   },
   {
    "duration": 7,
    "start_time": "2024-07-01T10:37:17.478Z"
   },
   {
    "duration": 51,
    "start_time": "2024-07-01T10:37:17.488Z"
   },
   {
    "duration": 13,
    "start_time": "2024-07-01T10:37:17.542Z"
   },
   {
    "duration": 6,
    "start_time": "2024-07-01T10:37:17.558Z"
   },
   {
    "duration": 84,
    "start_time": "2024-07-01T10:37:17.567Z"
   },
   {
    "duration": 6,
    "start_time": "2024-07-01T10:37:17.654Z"
   },
   {
    "duration": 16,
    "start_time": "2024-07-01T10:37:17.664Z"
   },
   {
    "duration": 8,
    "start_time": "2024-07-01T10:37:17.683Z"
   },
   {
    "duration": 1069,
    "start_time": "2024-07-01T10:37:17.731Z"
   },
   {
    "duration": 5,
    "start_time": "2024-07-01T10:37:18.803Z"
   },
   {
    "duration": 1002,
    "start_time": "2024-07-01T10:37:18.831Z"
   },
   {
    "duration": 3,
    "start_time": "2024-07-01T10:37:19.837Z"
   },
   {
    "duration": 5,
    "start_time": "2024-07-01T10:37:19.843Z"
   },
   {
    "duration": 73593,
    "start_time": "2024-07-01T10:37:19.850Z"
   },
   {
    "duration": 3,
    "start_time": "2024-07-01T10:38:33.446Z"
   },
   {
    "duration": 5,
    "start_time": "2024-07-01T10:38:33.453Z"
   },
   {
    "duration": 80,
    "start_time": "2024-07-01T10:38:33.461Z"
   },
   {
    "duration": 7,
    "start_time": "2024-07-01T10:38:33.547Z"
   },
   {
    "duration": 506,
    "start_time": "2024-07-01T10:38:33.556Z"
   },
   {
    "duration": 0,
    "start_time": "2024-07-01T10:38:34.064Z"
   },
   {
    "duration": 0,
    "start_time": "2024-07-01T10:38:34.067Z"
   },
   {
    "duration": 5,
    "start_time": "2024-07-01T10:39:54.248Z"
   },
   {
    "duration": 4,
    "start_time": "2024-07-01T10:39:58.190Z"
   },
   {
    "duration": 4,
    "start_time": "2024-07-01T10:39:58.198Z"
   },
   {
    "duration": 164938,
    "start_time": "2024-07-01T10:39:58.205Z"
   },
   {
    "duration": 6,
    "start_time": "2024-07-01T10:42:43.148Z"
   },
   {
    "duration": 4,
    "start_time": "2024-07-01T10:42:43.157Z"
   },
   {
    "duration": 78,
    "start_time": "2024-07-01T10:42:43.165Z"
   },
   {
    "duration": 9,
    "start_time": "2024-07-01T10:42:43.248Z"
   },
   {
    "duration": 96,
    "start_time": "2024-07-01T10:42:43.260Z"
   },
   {
    "duration": 0,
    "start_time": "2024-07-01T10:42:43.359Z"
   },
   {
    "duration": 0,
    "start_time": "2024-07-01T10:42:43.361Z"
   },
   {
    "duration": 4,
    "start_time": "2024-07-01T10:43:42.524Z"
   },
   {
    "duration": 4,
    "start_time": "2024-07-01T10:43:49.347Z"
   },
   {
    "duration": 4,
    "start_time": "2024-07-01T10:43:49.355Z"
   },
   {
    "duration": 130092,
    "start_time": "2024-07-01T10:43:49.362Z"
   },
   {
    "duration": 3,
    "start_time": "2024-07-01T10:45:59.534Z"
   },
   {
    "duration": 6,
    "start_time": "2024-07-01T10:45:59.540Z"
   },
   {
    "duration": 24,
    "start_time": "2024-07-01T10:45:59.549Z"
   },
   {
    "duration": 7,
    "start_time": "2024-07-01T10:45:59.631Z"
   },
   {
    "duration": 43,
    "start_time": "2024-07-01T10:45:59.641Z"
   },
   {
    "duration": 0,
    "start_time": "2024-07-01T10:45:59.687Z"
   },
   {
    "duration": 0,
    "start_time": "2024-07-01T10:45:59.689Z"
   },
   {
    "duration": 0,
    "start_time": "2024-07-01T10:45:59.691Z"
   },
   {
    "duration": 22,
    "start_time": "2024-07-01T10:47:16.986Z"
   },
   {
    "duration": 186,
    "start_time": "2024-07-01T10:47:39.815Z"
   },
   {
    "duration": 157,
    "start_time": "2024-07-01T10:48:13.379Z"
   },
   {
    "duration": 1535,
    "start_time": "2024-07-01T10:48:17.437Z"
   },
   {
    "duration": 1349,
    "start_time": "2024-07-01T10:48:24.877Z"
   },
   {
    "duration": 1316,
    "start_time": "2024-07-01T10:48:34.329Z"
   },
   {
    "duration": 6,
    "start_time": "2024-07-01T10:48:35.658Z"
   },
   {
    "duration": 4,
    "start_time": "2024-07-01T10:49:41.779Z"
   },
   {
    "duration": 4,
    "start_time": "2024-07-01T10:50:33.197Z"
   },
   {
    "duration": 43,
    "start_time": "2024-07-01T10:51:02.887Z"
   },
   {
    "duration": 20,
    "start_time": "2024-07-01T10:51:12.257Z"
   },
   {
    "duration": 80948,
    "start_time": "2024-07-01T10:53:09.672Z"
   },
   {
    "duration": 5,
    "start_time": "2024-07-01T10:54:30.624Z"
   },
   {
    "duration": 6,
    "start_time": "2024-07-01T10:54:30.633Z"
   },
   {
    "duration": 256,
    "start_time": "2024-07-01T10:54:30.643Z"
   },
   {
    "duration": 15,
    "start_time": "2024-07-01T10:54:59.800Z"
   },
   {
    "duration": 106,
    "start_time": "2024-07-01T10:55:05.202Z"
   },
   {
    "duration": 31,
    "start_time": "2024-07-01T10:55:32.732Z"
   },
   {
    "duration": 11,
    "start_time": "2024-07-01T10:56:10.473Z"
   },
   {
    "duration": 10,
    "start_time": "2024-07-01T10:56:18.884Z"
   },
   {
    "duration": 11,
    "start_time": "2024-07-01T10:56:33.107Z"
   },
   {
    "duration": 11,
    "start_time": "2024-07-01T10:56:40.290Z"
   },
   {
    "duration": 24,
    "start_time": "2024-07-01T10:56:53.168Z"
   },
   {
    "duration": 1427,
    "start_time": "2024-07-01T10:57:01.466Z"
   },
   {
    "duration": 4,
    "start_time": "2024-07-01T10:57:03.010Z"
   },
   {
    "duration": 4,
    "start_time": "2024-07-01T10:58:00.702Z"
   },
   {
    "duration": 4,
    "start_time": "2024-07-01T10:58:00.710Z"
   },
   {
    "duration": 41200,
    "start_time": "2024-07-01T10:58:40.864Z"
   },
   {
    "duration": 3,
    "start_time": "2024-07-01T10:59:22.071Z"
   },
   {
    "duration": 4,
    "start_time": "2024-07-01T10:59:22.079Z"
   },
   {
    "duration": 11,
    "start_time": "2024-07-01T10:59:22.087Z"
   },
   {
    "duration": 1655,
    "start_time": "2024-07-01T11:04:31.740Z"
   },
   {
    "duration": 36,
    "start_time": "2024-07-01T11:04:33.398Z"
   },
   {
    "duration": 20,
    "start_time": "2024-07-01T11:04:33.437Z"
   },
   {
    "duration": 14,
    "start_time": "2024-07-01T11:04:33.463Z"
   },
   {
    "duration": 55,
    "start_time": "2024-07-01T11:04:33.481Z"
   },
   {
    "duration": 5,
    "start_time": "2024-07-01T11:04:33.539Z"
   },
   {
    "duration": 14,
    "start_time": "2024-07-01T11:04:33.547Z"
   },
   {
    "duration": 17,
    "start_time": "2024-07-01T11:04:33.563Z"
   },
   {
    "duration": 60,
    "start_time": "2024-07-01T11:04:33.583Z"
   },
   {
    "duration": 19,
    "start_time": "2024-07-01T11:04:33.649Z"
   },
   {
    "duration": 7,
    "start_time": "2024-07-01T11:04:33.672Z"
   },
   {
    "duration": 51,
    "start_time": "2024-07-01T11:04:33.682Z"
   },
   {
    "duration": 11,
    "start_time": "2024-07-01T11:04:33.738Z"
   },
   {
    "duration": 5,
    "start_time": "2024-07-01T11:04:33.753Z"
   },
   {
    "duration": 84,
    "start_time": "2024-07-01T11:04:33.761Z"
   },
   {
    "duration": 7,
    "start_time": "2024-07-01T11:04:33.847Z"
   },
   {
    "duration": 16,
    "start_time": "2024-07-01T11:04:33.857Z"
   },
   {
    "duration": 10,
    "start_time": "2024-07-01T11:04:33.876Z"
   },
   {
    "duration": 1069,
    "start_time": "2024-07-01T11:04:33.888Z"
   },
   {
    "duration": 5,
    "start_time": "2024-07-01T11:04:34.960Z"
   },
   {
    "duration": 1079,
    "start_time": "2024-07-01T11:04:34.969Z"
   },
   {
    "duration": 4,
    "start_time": "2024-07-01T11:04:36.052Z"
   },
   {
    "duration": 5,
    "start_time": "2024-07-01T11:04:36.059Z"
   },
   {
    "duration": 132679,
    "start_time": "2024-07-01T11:04:36.068Z"
   },
   {
    "duration": 4,
    "start_time": "2024-07-01T11:06:48.751Z"
   },
   {
    "duration": 5,
    "start_time": "2024-07-01T11:06:48.758Z"
   },
   {
    "duration": 86,
    "start_time": "2024-07-01T11:06:48.767Z"
   },
   {
    "duration": 1437,
    "start_time": "2024-07-01T11:06:48.861Z"
   },
   {
    "duration": 5,
    "start_time": "2024-07-01T11:06:50.301Z"
   },
   {
    "duration": 4,
    "start_time": "2024-07-01T11:06:50.309Z"
   },
   {
    "duration": 5,
    "start_time": "2024-07-01T11:06:50.316Z"
   },
   {
    "duration": 40760,
    "start_time": "2024-07-01T11:06:50.324Z"
   },
   {
    "duration": 4,
    "start_time": "2024-07-01T11:07:31.087Z"
   },
   {
    "duration": 8,
    "start_time": "2024-07-01T11:07:31.094Z"
   },
   {
    "duration": 12,
    "start_time": "2024-07-01T11:07:31.105Z"
   },
   {
    "duration": 3243,
    "start_time": "2024-07-01T16:04:02.695Z"
   },
   {
    "duration": 91,
    "start_time": "2024-07-01T16:04:05.946Z"
   },
   {
    "duration": 70,
    "start_time": "2024-07-01T16:04:06.040Z"
   },
   {
    "duration": 16,
    "start_time": "2024-07-01T16:04:06.116Z"
   },
   {
    "duration": 92,
    "start_time": "2024-07-01T16:04:06.136Z"
   },
   {
    "duration": 70,
    "start_time": "2024-07-01T16:04:06.232Z"
   },
   {
    "duration": 19,
    "start_time": "2024-07-01T16:04:06.305Z"
   },
   {
    "duration": 80,
    "start_time": "2024-07-01T16:04:06.328Z"
   },
   {
    "duration": 20,
    "start_time": "2024-07-01T16:04:06.412Z"
   },
   {
    "duration": 84,
    "start_time": "2024-07-01T16:04:06.440Z"
   },
   {
    "duration": 11,
    "start_time": "2024-07-01T16:04:06.527Z"
   },
   {
    "duration": 22,
    "start_time": "2024-07-01T16:04:06.603Z"
   },
   {
    "duration": 14,
    "start_time": "2024-07-01T16:04:06.627Z"
   },
   {
    "duration": 16,
    "start_time": "2024-07-01T16:04:06.702Z"
   },
   {
    "duration": 111,
    "start_time": "2024-07-01T16:04:06.721Z"
   },
   {
    "duration": 7,
    "start_time": "2024-07-01T16:04:06.835Z"
   },
   {
    "duration": 20,
    "start_time": "2024-07-01T16:04:06.904Z"
   },
   {
    "duration": 73,
    "start_time": "2024-07-01T16:04:06.929Z"
   },
   {
    "duration": 2502,
    "start_time": "2024-07-01T16:04:07.006Z"
   },
   {
    "duration": 6,
    "start_time": "2024-07-01T16:04:09.511Z"
   },
   {
    "duration": 23800,
    "start_time": "2024-07-01T16:04:09.521Z"
   },
   {
    "duration": 6,
    "start_time": "2024-07-01T16:04:33.323Z"
   },
   {
    "duration": 71,
    "start_time": "2024-07-01T16:04:33.332Z"
   },
   {
    "duration": 184709,
    "start_time": "2024-07-01T16:04:33.407Z"
   },
   {
    "duration": 4,
    "start_time": "2024-07-01T16:07:38.118Z"
   },
   {
    "duration": 5,
    "start_time": "2024-07-01T16:07:38.125Z"
   },
   {
    "duration": 95,
    "start_time": "2024-07-01T16:07:38.133Z"
   },
   {
    "duration": 1607,
    "start_time": "2024-07-01T16:07:38.236Z"
   },
   {
    "duration": 8,
    "start_time": "2024-07-01T16:07:39.846Z"
   },
   {
    "duration": 5,
    "start_time": "2024-07-01T16:07:39.857Z"
   },
   {
    "duration": 5,
    "start_time": "2024-07-01T16:07:39.865Z"
   },
   {
    "duration": 41235,
    "start_time": "2024-07-01T16:07:39.874Z"
   },
   {
    "duration": 5,
    "start_time": "2024-07-01T16:08:21.111Z"
   },
   {
    "duration": 5,
    "start_time": "2024-07-01T16:08:21.119Z"
   },
   {
    "duration": 12,
    "start_time": "2024-07-01T16:08:21.127Z"
   },
   {
    "duration": 5259,
    "start_time": "2024-07-07T09:08:14.229Z"
   },
   {
    "duration": 42,
    "start_time": "2024-07-07T09:08:19.491Z"
   },
   {
    "duration": 16,
    "start_time": "2024-07-07T09:08:19.536Z"
   },
   {
    "duration": 14,
    "start_time": "2024-07-07T09:08:19.555Z"
   },
   {
    "duration": 40,
    "start_time": "2024-07-07T09:08:19.574Z"
   },
   {
    "duration": 5,
    "start_time": "2024-07-07T09:08:19.619Z"
   },
   {
    "duration": 15,
    "start_time": "2024-07-07T09:08:19.627Z"
   },
   {
    "duration": 59,
    "start_time": "2024-07-07T09:08:19.644Z"
   },
   {
    "duration": 18,
    "start_time": "2024-07-07T09:08:19.708Z"
   },
   {
    "duration": 21,
    "start_time": "2024-07-07T09:08:19.730Z"
   },
   {
    "duration": 48,
    "start_time": "2024-07-07T09:08:19.754Z"
   },
   {
    "duration": 12,
    "start_time": "2024-07-07T09:08:19.804Z"
   },
   {
    "duration": 11,
    "start_time": "2024-07-07T09:08:19.819Z"
   },
   {
    "duration": 5,
    "start_time": "2024-07-07T09:08:19.837Z"
   },
   {
    "duration": 98,
    "start_time": "2024-07-07T09:08:19.846Z"
   },
   {
    "duration": 8,
    "start_time": "2024-07-07T09:08:19.947Z"
   },
   {
    "duration": 45,
    "start_time": "2024-07-07T09:08:19.959Z"
   },
   {
    "duration": 8,
    "start_time": "2024-07-07T09:08:20.008Z"
   },
   {
    "duration": 1143,
    "start_time": "2024-07-07T09:08:20.019Z"
   },
   {
    "duration": 5,
    "start_time": "2024-07-07T09:08:21.165Z"
   },
   {
    "duration": 1046,
    "start_time": "2024-07-07T09:08:21.173Z"
   },
   {
    "duration": 5,
    "start_time": "2024-07-07T09:08:22.222Z"
   },
   {
    "duration": 5,
    "start_time": "2024-07-07T09:08:22.230Z"
   },
   {
    "duration": 202238,
    "start_time": "2024-07-07T09:08:22.302Z"
   },
   {
    "duration": 4,
    "start_time": "2024-07-07T09:11:44.543Z"
   },
   {
    "duration": 4,
    "start_time": "2024-07-07T09:11:44.601Z"
   },
   {
    "duration": 31,
    "start_time": "2024-07-07T09:11:44.609Z"
   },
   {
    "duration": 1563,
    "start_time": "2024-07-07T09:11:44.643Z"
   },
   {
    "duration": 8,
    "start_time": "2024-07-07T09:11:46.213Z"
   },
   {
    "duration": 8,
    "start_time": "2024-07-07T09:11:46.226Z"
   },
   {
    "duration": 5,
    "start_time": "2024-07-07T09:11:46.238Z"
   },
   {
    "duration": 39861,
    "start_time": "2024-07-07T09:11:46.247Z"
   },
   {
    "duration": 4,
    "start_time": "2024-07-07T09:12:26.111Z"
   },
   {
    "duration": 9,
    "start_time": "2024-07-07T09:12:26.118Z"
   },
   {
    "duration": 13,
    "start_time": "2024-07-07T09:12:26.134Z"
   },
   {
    "duration": 4,
    "start_time": "2024-07-07T09:25:35.687Z"
   },
   {
    "duration": 8,
    "start_time": "2024-07-07T09:25:40.023Z"
   },
   {
    "duration": 3,
    "start_time": "2024-07-07T09:26:21.855Z"
   },
   {
    "duration": 11,
    "start_time": "2024-07-07T09:26:24.248Z"
   },
   {
    "duration": 3,
    "start_time": "2024-07-07T09:26:28.438Z"
   },
   {
    "duration": 4,
    "start_time": "2024-07-07T09:29:27.786Z"
   },
   {
    "duration": 4,
    "start_time": "2024-07-07T09:29:34.952Z"
   },
   {
    "duration": 7,
    "start_time": "2024-07-07T09:32:04.838Z"
   },
   {
    "duration": 7,
    "start_time": "2024-07-07T09:32:47.945Z"
   },
   {
    "duration": 8,
    "start_time": "2024-07-07T09:33:22.562Z"
   },
   {
    "duration": 3,
    "start_time": "2024-07-07T09:34:50.619Z"
   },
   {
    "duration": 1003,
    "start_time": "2024-07-07T09:34:52.714Z"
   },
   {
    "duration": 4,
    "start_time": "2024-07-07T09:34:55.659Z"
   },
   {
    "duration": 3,
    "start_time": "2024-07-07T09:35:00.833Z"
   },
   {
    "duration": 6,
    "start_time": "2024-07-07T09:35:05.121Z"
   },
   {
    "duration": 6,
    "start_time": "2024-07-07T09:35:28.955Z"
   },
   {
    "duration": 4,
    "start_time": "2024-07-07T09:35:38.529Z"
   },
   {
    "duration": 6,
    "start_time": "2024-07-07T09:35:40.476Z"
   },
   {
    "duration": 4,
    "start_time": "2024-07-07T09:35:42.696Z"
   },
   {
    "duration": 6,
    "start_time": "2024-07-07T09:35:44.642Z"
   },
   {
    "duration": 5,
    "start_time": "2024-07-07T09:36:10.914Z"
   },
   {
    "duration": 444,
    "start_time": "2024-07-07T09:36:16.226Z"
   },
   {
    "duration": 13,
    "start_time": "2024-07-07T09:36:21.369Z"
   },
   {
    "duration": 20,
    "start_time": "2024-07-07T09:36:32.865Z"
   },
   {
    "duration": 13,
    "start_time": "2024-07-07T09:36:55.114Z"
   },
   {
    "duration": 12,
    "start_time": "2024-07-07T09:37:32.170Z"
   },
   {
    "duration": 5,
    "start_time": "2024-07-07T09:37:51.275Z"
   },
   {
    "duration": 15,
    "start_time": "2024-07-07T09:39:09.219Z"
   },
   {
    "duration": 10,
    "start_time": "2024-07-07T09:39:17.451Z"
   },
   {
    "duration": 23,
    "start_time": "2024-07-07T09:39:29.749Z"
   },
   {
    "duration": 4,
    "start_time": "2024-07-07T09:42:41.139Z"
   },
   {
    "duration": 6,
    "start_time": "2024-07-07T09:42:42.429Z"
   },
   {
    "duration": 646,
    "start_time": "2024-07-07T09:42:49.670Z"
   },
   {
    "duration": 3,
    "start_time": "2024-07-07T09:44:20.862Z"
   },
   {
    "duration": 4,
    "start_time": "2024-07-07T09:44:22.697Z"
   },
   {
    "duration": 4,
    "start_time": "2024-07-07T09:44:26.353Z"
   },
   {
    "duration": 3,
    "start_time": "2024-07-07T09:44:28.789Z"
   },
   {
    "duration": 3,
    "start_time": "2024-07-07T09:44:31.934Z"
   },
   {
    "duration": 6,
    "start_time": "2024-07-07T09:44:33.973Z"
   },
   {
    "duration": 7,
    "start_time": "2024-07-07T09:44:36.252Z"
   },
   {
    "duration": 12,
    "start_time": "2024-07-07T09:44:39.877Z"
   },
   {
    "duration": 12,
    "start_time": "2024-07-07T09:44:41.445Z"
   },
   {
    "duration": 13,
    "start_time": "2024-07-07T09:44:42.277Z"
   },
   {
    "duration": 12,
    "start_time": "2024-07-07T09:44:50.319Z"
   },
   {
    "duration": 7,
    "start_time": "2024-07-07T09:46:01.869Z"
   },
   {
    "duration": 13,
    "start_time": "2024-07-07T09:46:05.254Z"
   },
   {
    "duration": 13,
    "start_time": "2024-07-07T09:46:11.542Z"
   },
   {
    "duration": 15,
    "start_time": "2024-07-07T09:47:18.750Z"
   },
   {
    "duration": 3,
    "start_time": "2024-07-07T09:47:41.430Z"
   },
   {
    "duration": 6,
    "start_time": "2024-07-07T09:47:44.797Z"
   },
   {
    "duration": 16,
    "start_time": "2024-07-07T09:47:46.846Z"
   },
   {
    "duration": 14,
    "start_time": "2024-07-07T09:51:03.455Z"
   },
   {
    "duration": 12,
    "start_time": "2024-07-07T09:51:12.935Z"
   },
   {
    "duration": 10,
    "start_time": "2024-07-07T09:51:33.207Z"
   },
   {
    "duration": 16,
    "start_time": "2024-07-07T09:51:40.999Z"
   },
   {
    "duration": 7,
    "start_time": "2024-07-07T09:52:09.443Z"
   },
   {
    "duration": 15,
    "start_time": "2024-07-07T09:52:13.021Z"
   },
   {
    "duration": 4,
    "start_time": "2024-07-07T09:53:09.827Z"
   },
   {
    "duration": 12,
    "start_time": "2024-07-07T09:53:43.922Z"
   },
   {
    "duration": 15,
    "start_time": "2024-07-07T09:54:00.305Z"
   },
   {
    "duration": 16,
    "start_time": "2024-07-07T09:54:14.905Z"
   },
   {
    "duration": 23,
    "start_time": "2024-07-07T09:54:23.545Z"
   },
   {
    "duration": 9,
    "start_time": "2024-07-07T09:54:25.575Z"
   },
   {
    "duration": 6,
    "start_time": "2024-07-07T09:54:29.497Z"
   },
   {
    "duration": 5,
    "start_time": "2024-07-07T09:54:50.670Z"
   },
   {
    "duration": 10,
    "start_time": "2024-07-07T09:54:52.921Z"
   },
   {
    "duration": 12,
    "start_time": "2024-07-07T09:54:58.280Z"
   },
   {
    "duration": 5,
    "start_time": "2024-07-07T09:55:05.192Z"
   },
   {
    "duration": 12,
    "start_time": "2024-07-07T09:55:07.808Z"
   },
   {
    "duration": 6,
    "start_time": "2024-07-07T09:55:31.760Z"
   },
   {
    "duration": 13,
    "start_time": "2024-07-07T09:55:34.738Z"
   },
   {
    "duration": 15,
    "start_time": "2024-07-07T09:56:14.334Z"
   },
   {
    "duration": 17,
    "start_time": "2024-07-07T09:56:16.817Z"
   },
   {
    "duration": 15,
    "start_time": "2024-07-07T09:56:21.529Z"
   },
   {
    "duration": 19,
    "start_time": "2024-07-07T09:56:46.298Z"
   },
   {
    "duration": 18,
    "start_time": "2024-07-07T09:56:58.201Z"
   },
   {
    "duration": 14,
    "start_time": "2024-07-07T09:57:38.994Z"
   },
   {
    "duration": 14,
    "start_time": "2024-07-07T09:57:41.385Z"
   },
   {
    "duration": 13,
    "start_time": "2024-07-07T09:57:46.220Z"
   },
   {
    "duration": 10,
    "start_time": "2024-07-07T09:57:48.041Z"
   },
   {
    "duration": 310,
    "start_time": "2024-07-08T06:26:05.789Z"
   },
   {
    "duration": 5570,
    "start_time": "2024-07-08T06:26:21.485Z"
   },
   {
    "duration": 38,
    "start_time": "2024-07-08T06:26:27.059Z"
   },
   {
    "duration": 20,
    "start_time": "2024-07-08T06:26:27.100Z"
   },
   {
    "duration": 13,
    "start_time": "2024-07-08T06:26:27.124Z"
   },
   {
    "duration": 21,
    "start_time": "2024-07-08T06:26:27.142Z"
   },
   {
    "duration": 6,
    "start_time": "2024-07-08T06:26:27.165Z"
   },
   {
    "duration": 13,
    "start_time": "2024-07-08T06:26:27.174Z"
   },
   {
    "duration": 57,
    "start_time": "2024-07-08T06:26:27.189Z"
   },
   {
    "duration": 17,
    "start_time": "2024-07-08T06:26:27.249Z"
   },
   {
    "duration": 19,
    "start_time": "2024-07-08T06:26:27.270Z"
   },
   {
    "duration": 43,
    "start_time": "2024-07-08T06:26:27.292Z"
   },
   {
    "duration": 25,
    "start_time": "2024-07-08T06:26:27.339Z"
   },
   {
    "duration": 11,
    "start_time": "2024-07-08T06:26:27.367Z"
   },
   {
    "duration": 6,
    "start_time": "2024-07-08T06:26:27.385Z"
   },
   {
    "duration": 84,
    "start_time": "2024-07-08T06:26:27.394Z"
   },
   {
    "duration": 9,
    "start_time": "2024-07-08T06:26:27.481Z"
   },
   {
    "duration": 15,
    "start_time": "2024-07-08T06:26:27.493Z"
   },
   {
    "duration": 8,
    "start_time": "2024-07-08T06:26:27.531Z"
   },
   {
    "duration": 1069,
    "start_time": "2024-07-08T06:26:27.542Z"
   },
   {
    "duration": 4,
    "start_time": "2024-07-08T06:26:28.614Z"
   },
   {
    "duration": 8,
    "start_time": "2024-07-08T06:26:28.621Z"
   },
   {
    "duration": 1028,
    "start_time": "2024-07-08T06:26:28.633Z"
   },
   {
    "duration": 69,
    "start_time": "2024-07-08T06:26:29.663Z"
   },
   {
    "duration": 7,
    "start_time": "2024-07-08T06:26:29.735Z"
   },
   {
    "duration": 20,
    "start_time": "2024-07-08T06:26:29.745Z"
   },
   {
    "duration": 163579,
    "start_time": "2024-07-08T06:26:29.768Z"
   },
   {
    "duration": 3,
    "start_time": "2024-07-08T06:29:13.351Z"
   },
   {
    "duration": 4,
    "start_time": "2024-07-08T06:29:13.358Z"
   },
   {
    "duration": 83,
    "start_time": "2024-07-08T06:29:13.365Z"
   },
   {
    "duration": 4,
    "start_time": "2024-07-08T06:29:13.450Z"
   },
   {
    "duration": 1672,
    "start_time": "2024-07-08T06:29:13.457Z"
   },
   {
    "duration": 5,
    "start_time": "2024-07-08T06:29:15.132Z"
   },
   {
    "duration": 4,
    "start_time": "2024-07-08T06:29:15.140Z"
   },
   {
    "duration": 4,
    "start_time": "2024-07-08T06:29:15.148Z"
   },
   {
    "duration": 5,
    "start_time": "2024-07-08T06:29:15.155Z"
   },
   {
    "duration": 40403,
    "start_time": "2024-07-08T06:29:15.163Z"
   },
   {
    "duration": 7,
    "start_time": "2024-07-08T06:29:55.570Z"
   },
   {
    "duration": 6,
    "start_time": "2024-07-08T06:29:55.586Z"
   },
   {
    "duration": 36,
    "start_time": "2024-07-08T06:29:55.600Z"
   },
   {
    "duration": 4,
    "start_time": "2024-07-08T06:29:55.644Z"
   },
   {
    "duration": 10,
    "start_time": "2024-07-08T06:29:55.658Z"
   },
   {
    "duration": 17,
    "start_time": "2024-07-08T06:29:55.674Z"
   },
   {
    "duration": 40,
    "start_time": "2024-07-08T06:29:55.694Z"
   },
   {
    "duration": 11,
    "start_time": "2024-07-08T06:29:55.736Z"
   },
   {
    "duration": 1743,
    "start_time": "2024-07-24T09:24:21.478Z"
   },
   {
    "duration": 40,
    "start_time": "2024-07-24T09:24:23.225Z"
   },
   {
    "duration": 22,
    "start_time": "2024-07-24T09:24:23.268Z"
   },
   {
    "duration": 14,
    "start_time": "2024-07-24T09:24:23.297Z"
   },
   {
    "duration": 22,
    "start_time": "2024-07-24T09:24:23.315Z"
   },
   {
    "duration": 4,
    "start_time": "2024-07-24T09:24:23.340Z"
   },
   {
    "duration": 51,
    "start_time": "2024-07-24T09:24:23.348Z"
   },
   {
    "duration": 17,
    "start_time": "2024-07-24T09:24:23.403Z"
   },
   {
    "duration": 16,
    "start_time": "2024-07-24T09:24:23.423Z"
   },
   {
    "duration": 58,
    "start_time": "2024-07-24T09:24:23.445Z"
   },
   {
    "duration": 8,
    "start_time": "2024-07-24T09:24:23.507Z"
   },
   {
    "duration": 13,
    "start_time": "2024-07-24T09:24:23.519Z"
   },
   {
    "duration": 12,
    "start_time": "2024-07-24T09:24:23.535Z"
   },
   {
    "duration": 44,
    "start_time": "2024-07-24T09:24:23.550Z"
   },
   {
    "duration": 58,
    "start_time": "2024-07-24T09:24:23.598Z"
   },
   {
    "duration": 6,
    "start_time": "2024-07-24T09:24:23.659Z"
   },
   {
    "duration": 34,
    "start_time": "2024-07-24T09:24:23.669Z"
   },
   {
    "duration": 8,
    "start_time": "2024-07-24T09:24:23.707Z"
   },
   {
    "duration": 1079,
    "start_time": "2024-07-24T09:24:23.718Z"
   },
   {
    "duration": 6,
    "start_time": "2024-07-24T09:24:24.800Z"
   },
   {
    "duration": 5,
    "start_time": "2024-07-24T09:24:24.811Z"
   },
   {
    "duration": 999,
    "start_time": "2024-07-24T09:24:24.820Z"
   },
   {
    "duration": 4,
    "start_time": "2024-07-24T09:24:25.892Z"
   },
   {
    "duration": 5,
    "start_time": "2024-07-24T09:24:25.899Z"
   },
   {
    "duration": 4,
    "start_time": "2024-07-24T09:24:25.907Z"
   },
   {
    "duration": 114097,
    "start_time": "2024-07-24T09:24:25.915Z"
   },
   {
    "duration": 4,
    "start_time": "2024-07-24T09:26:20.015Z"
   },
   {
    "duration": 4,
    "start_time": "2024-07-24T09:26:20.093Z"
   },
   {
    "duration": 22,
    "start_time": "2024-07-24T09:26:20.102Z"
   },
   {
    "duration": 63,
    "start_time": "2024-07-24T09:26:20.127Z"
   },
   {
    "duration": 1513,
    "start_time": "2024-07-24T09:26:20.194Z"
   },
   {
    "duration": 6,
    "start_time": "2024-07-24T09:26:21.710Z"
   },
   {
    "duration": 5,
    "start_time": "2024-07-24T09:26:21.719Z"
   },
   {
    "duration": 4,
    "start_time": "2024-07-24T09:26:21.728Z"
   },
   {
    "duration": 4,
    "start_time": "2024-07-24T09:26:21.737Z"
   },
   {
    "duration": 41440,
    "start_time": "2024-07-24T09:26:21.744Z"
   },
   {
    "duration": 5,
    "start_time": "2024-07-24T09:27:03.187Z"
   },
   {
    "duration": 8,
    "start_time": "2024-07-24T09:27:03.194Z"
   },
   {
    "duration": 16,
    "start_time": "2024-07-24T09:27:03.205Z"
   },
   {
    "duration": 4,
    "start_time": "2024-07-24T09:27:03.225Z"
   },
   {
    "duration": 8,
    "start_time": "2024-07-24T09:27:03.232Z"
   },
   {
    "duration": 53,
    "start_time": "2024-07-24T09:27:03.243Z"
   },
   {
    "duration": 10,
    "start_time": "2024-07-24T09:27:03.301Z"
   },
   {
    "duration": 9,
    "start_time": "2024-07-24T09:27:03.314Z"
   }
  ],
  "kernelspec": {
   "display_name": "Python 3 (ipykernel)",
   "language": "python",
   "name": "python3"
  },
  "language_info": {
   "codemirror_mode": {
    "name": "ipython",
    "version": 3
   },
   "file_extension": ".py",
   "mimetype": "text/x-python",
   "name": "python",
   "nbconvert_exporter": "python",
   "pygments_lexer": "ipython3",
   "version": "3.9.19"
  },
  "toc": {
   "base_numbering": 1,
   "nav_menu": {},
   "number_sections": true,
   "sideBar": true,
   "skip_h1_title": true,
   "title_cell": "Table of Contents",
   "title_sidebar": "Contents",
   "toc_cell": false,
   "toc_position": {},
   "toc_section_display": true,
   "toc_window_display": false
  }
 },
 "nbformat": 4,
 "nbformat_minor": 2
}
