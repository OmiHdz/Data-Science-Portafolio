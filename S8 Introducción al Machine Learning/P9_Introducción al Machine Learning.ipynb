{
 "cells": [
  {
   "cell_type": "markdown",
   "metadata": {},
   "source": [
    "----"
   ]
  },
  {
   "cell_type": "markdown",
   "metadata": {},
   "source": [
    "## Descripción del proyecto\n",
    "\n",
    "Vamos a realizar un modelo que permita analizar el comportamiento de los clientes de la compañía móvil Megaline, esto para resolver la siguiente problemática:\n",
    "\n",
    "Megaline no está satisfecha al ver que muchos de sus clientes utilizan planes heredados, por lo tanto el modelo nos permitirá recomendar uno de los nuevos planes (Smart o Ultra) a sus clientes.\n",
    "\n",
    "Contamos con los datos de comportamiento de los sucriptores que ya se han cambiado a los nuevos planes.\n",
    "\n",
    "Desarrollaremos un modelo de clasificación que elija el plan correcto, este modelo contará con la mayor exactitud posible (Umbral de *exactitud* de 0.75)"
   ]
  },
  {
   "cell_type": "markdown",
   "metadata": {},
   "source": [
    "## Importando Librerías"
   ]
  },
  {
   "cell_type": "code",
   "execution_count": 1,
   "metadata": {},
   "outputs": [],
   "source": [
    "import pandas as pd\n",
    "import numpy as np\n",
    "import matplotlib.pyplot as plt\n",
    "import seaborn as sns\n",
    "from sklearn.model_selection import train_test_split\n",
    "from sklearn.ensemble import RandomForestClassifier\n",
    "from sklearn.tree import DecisionTreeClassifier\n",
    "from sklearn.linear_model import LogisticRegression\n",
    "from sklearn.metrics import accuracy_score\n",
    "from sklearn.metrics import mean_squared_error\n",
    "\n"
   ]
  },
  {
   "cell_type": "markdown",
   "metadata": {},
   "source": [
    "## Cargando dataset"
   ]
  },
  {
   "cell_type": "code",
   "execution_count": 2,
   "metadata": {},
   "outputs": [],
   "source": [
    "mega = pd.read_csv('/datasets/users_behavior.csv')"
   ]
  },
  {
   "cell_type": "markdown",
   "metadata": {},
   "source": [
    "### Explorando dataset"
   ]
  },
  {
   "cell_type": "code",
   "execution_count": 3,
   "metadata": {
    "scrolled": false
   },
   "outputs": [
    {
     "name": "stdout",
     "output_type": "stream",
     "text": [
      "<class 'pandas.core.frame.DataFrame'>\n",
      "RangeIndex: 3214 entries, 0 to 3213\n",
      "Data columns (total 5 columns):\n",
      " #   Column    Non-Null Count  Dtype  \n",
      "---  ------    --------------  -----  \n",
      " 0   calls     3214 non-null   float64\n",
      " 1   minutes   3214 non-null   float64\n",
      " 2   messages  3214 non-null   float64\n",
      " 3   mb_used   3214 non-null   float64\n",
      " 4   is_ultra  3214 non-null   int64  \n",
      "dtypes: float64(4), int64(1)\n",
      "memory usage: 125.7 KB\n",
      "None\n",
      "             calls      minutes     messages       mb_used     is_ultra\n",
      "count  3214.000000  3214.000000  3214.000000   3214.000000  3214.000000\n",
      "mean     63.038892   438.208787    38.281269  17207.673836     0.306472\n",
      "std      33.236368   234.569872    36.148326   7570.968246     0.461100\n",
      "min       0.000000     0.000000     0.000000      0.000000     0.000000\n",
      "25%      40.000000   274.575000     9.000000  12491.902500     0.000000\n",
      "50%      62.000000   430.600000    30.000000  16943.235000     0.000000\n",
      "75%      82.000000   571.927500    57.000000  21424.700000     1.000000\n",
      "max     244.000000  1632.060000   224.000000  49745.730000     1.000000\n"
     ]
    }
   ],
   "source": [
    "print(mega.info())\n",
    "print(mega.describe())"
   ]
  },
  {
   "cell_type": "code",
   "execution_count": 4,
   "metadata": {
    "scrolled": true
   },
   "outputs": [
    {
     "data": {
      "text/html": [
       "<div>\n",
       "<style scoped>\n",
       "    .dataframe tbody tr th:only-of-type {\n",
       "        vertical-align: middle;\n",
       "    }\n",
       "\n",
       "    .dataframe tbody tr th {\n",
       "        vertical-align: top;\n",
       "    }\n",
       "\n",
       "    .dataframe thead th {\n",
       "        text-align: right;\n",
       "    }\n",
       "</style>\n",
       "<table border=\"1\" class=\"dataframe\">\n",
       "  <thead>\n",
       "    <tr style=\"text-align: right;\">\n",
       "      <th></th>\n",
       "      <th>calls</th>\n",
       "      <th>minutes</th>\n",
       "      <th>messages</th>\n",
       "      <th>mb_used</th>\n",
       "      <th>is_ultra</th>\n",
       "    </tr>\n",
       "  </thead>\n",
       "  <tbody>\n",
       "    <tr>\n",
       "      <th>0</th>\n",
       "      <td>40.0</td>\n",
       "      <td>311.90</td>\n",
       "      <td>83.0</td>\n",
       "      <td>19915.42</td>\n",
       "      <td>0</td>\n",
       "    </tr>\n",
       "    <tr>\n",
       "      <th>1</th>\n",
       "      <td>85.0</td>\n",
       "      <td>516.75</td>\n",
       "      <td>56.0</td>\n",
       "      <td>22696.96</td>\n",
       "      <td>0</td>\n",
       "    </tr>\n",
       "    <tr>\n",
       "      <th>2</th>\n",
       "      <td>77.0</td>\n",
       "      <td>467.66</td>\n",
       "      <td>86.0</td>\n",
       "      <td>21060.45</td>\n",
       "      <td>0</td>\n",
       "    </tr>\n",
       "    <tr>\n",
       "      <th>3</th>\n",
       "      <td>106.0</td>\n",
       "      <td>745.53</td>\n",
       "      <td>81.0</td>\n",
       "      <td>8437.39</td>\n",
       "      <td>1</td>\n",
       "    </tr>\n",
       "    <tr>\n",
       "      <th>4</th>\n",
       "      <td>66.0</td>\n",
       "      <td>418.74</td>\n",
       "      <td>1.0</td>\n",
       "      <td>14502.75</td>\n",
       "      <td>0</td>\n",
       "    </tr>\n",
       "  </tbody>\n",
       "</table>\n",
       "</div>"
      ],
      "text/plain": [
       "   calls  minutes  messages   mb_used  is_ultra\n",
       "0   40.0   311.90      83.0  19915.42         0\n",
       "1   85.0   516.75      56.0  22696.96         0\n",
       "2   77.0   467.66      86.0  21060.45         0\n",
       "3  106.0   745.53      81.0   8437.39         1\n",
       "4   66.0   418.74       1.0  14502.75         0"
      ]
     },
     "execution_count": 4,
     "metadata": {},
     "output_type": "execute_result"
    }
   ],
   "source": [
    "mega.head()"
   ]
  },
  {
   "cell_type": "markdown",
   "metadata": {},
   "source": [
    "* **Los datos, al ya venir pre-tratados desde el proyecto de Análisis estadístico de datos, están listos para ser utilizados, sin embargo vamos a explorarlos**"
   ]
  },
  {
   "cell_type": "markdown",
   "metadata": {},
   "source": [
    "* La columna 'calls' nos muestra la cantidad de llamadas realizadas en el periodo\n",
    "* La columna 'minutes' nos muestra en minutos la duración de las llamadas\n",
    "* La columna 'messages nos muestra la cantidad de mensajes enviados en el epriodo\n",
    "* La columna 'mb_used' muestra en MB la cantidad de Megabytes utilizados en el periodo\n",
    "* La columna 'is_ultra' muestra en booleano (0 para falso, 1 para verdadero) si el plan que tiene el usuario es ultra o no\n",
    "\n",
    "Todas las columnas, excepto 'is_ultra' tienen tipo de variable float64, lo cual es correcto, la columna 'is_ultra' cuenta con el tipo de variable int64, la cual es funcional para un booleano y para las regresiones de clasificación que vamos a realizar\n",
    "\n"
   ]
  },
  {
   "cell_type": "markdown",
   "metadata": {},
   "source": [
    "## Segmentando los datos en un conjunto de entrenamiento, uno de validación y uno de prueba."
   ]
  },
  {
   "cell_type": "code",
   "execution_count": 5,
   "metadata": {},
   "outputs": [],
   "source": [
    "# Segmentando los conjuntos de datos (Entrenamiento ,validación y pruebas)\n",
    "full_train_df , test_df = train_test_split(mega, test_size=0.18, random_state = 88)\n",
    "train_df, valid_df  = train_test_split(full_train_df, test_size= .23 , random_state = 88)\n"
   ]
  },
  {
   "cell_type": "code",
   "execution_count": 6,
   "metadata": {},
   "outputs": [
    {
     "name": "stdout",
     "output_type": "stream",
     "text": [
      "[3214, 2635, 2028, 607, 579]\n"
     ]
    },
    {
     "data": {
      "text/plain": [
       "[1.0, 0.82, 0.631, 0.189, 0.18]"
      ]
     },
     "execution_count": 6,
     "metadata": {},
     "output_type": "execute_result"
    }
   ],
   "source": [
    "#Verificando las porciones de la segmentación en relación al dataframe original (mega)\n",
    "print([ len(df) for df in [mega, full_train_df, train_df, valid_df, test_df]])\n",
    "\n",
    "[round( len(df)/(len(mega)) ,3 ) for df in [mega, full_train_df, train_df, valid_df, test_df]]"
   ]
  },
  {
   "cell_type": "markdown",
   "metadata": {},
   "source": [
    "Decidimos que vamos a utilizar una segmentación de la siguiente manera:\n",
    "* 82% de los datos para el conjunto completo de entrenamiento\n",
    "* 63% de los datos para el conjunto de entrenamiento\n",
    "* 18.9% de los datos para el conjunto de validación\n",
    "* 18% de los datos para el conjunto de prueba"
   ]
  },
  {
   "cell_type": "markdown",
   "metadata": {},
   "source": [
    "## Definiendo el los objetivos y características (Target y Features)"
   ]
  },
  {
   "cell_type": "code",
   "execution_count": 8,
   "metadata": {},
   "outputs": [
    {
     "name": "stdout",
     "output_type": "stream",
     "text": [
      "is_ultra\n",
      "['calls', 'minutes', 'messages', 'mb_used']\n"
     ]
    }
   ],
   "source": [
    "#Definiendo features y target\n",
    "\n",
    "target = 'is_ultra'\n",
    "features = [i for i in mega.columns if i not in [target]]\n",
    "print(target)\n",
    "print(features)"
   ]
  },
  {
   "cell_type": "code",
   "execution_count": 9,
   "metadata": {},
   "outputs": [],
   "source": [
    "#Definiendo los features y target para el conjunto de entrenamiento\n",
    "features_train=train_df[features]\n",
    "target_train = train_df[target]\n",
    "\n",
    "#Definiendo los features y target para el conjunto de validación\n",
    "features_valid = valid_df[features]\n",
    "target_valid = valid_df[target]"
   ]
  },
  {
   "cell_type": "code",
   "execution_count": 10,
   "metadata": {},
   "outputs": [
    {
     "name": "stdout",
     "output_type": "stream",
     "text": [
      "La cantidad promedio de usuarios que tienen plan ultra es del: 30.65% del total \n",
      "La cantidad promedio de usuarios que tienen plan Smart es del: 69.35% del total \n"
     ]
    }
   ],
   "source": [
    "#Calculando el promedio del target\n",
    "print(f'La cantidad promedio de usuarios que tienen plan ultra es del: {round(mega[target].mean()*100,2)}% del total ', )\n",
    "print(f'La cantidad promedio de usuarios que tienen plan Smart es del: {round((1-mega[target].mean())*100,2)}% del total ', )"
   ]
  },
  {
   "cell_type": "markdown",
   "metadata": {},
   "source": [
    "## Explorando visualmente el dataset"
   ]
  },
  {
   "cell_type": "code",
   "execution_count": 11,
   "metadata": {},
   "outputs": [
    {
     "data": {
      "image/png": "[encoded data removed]",
      "text/plain": [
       "<Figure size 576x288 with 1 Axes>"
      ]
     },
     "metadata": {
      "needs_background": "light"
     },
     "output_type": "display_data"
    },
    {
     "data": {
      "image/png": "[encoded data removed]",
      "text/plain": [
       "<Figure size 576x288 with 1 Axes>"
      ]
     },
     "metadata": {
      "needs_background": "light"
     },
     "output_type": "display_data"
    },
    {
     "data": {
      "image/png": "[encoded data removed]",
      "text/plain": [
       "<Figure size 576x288 with 1 Axes>"
      ]
     },
     "metadata": {
      "needs_background": "light"
     },
     "output_type": "display_data"
    },
    {
     "data": {
      "image/png": "[encoded data removed]",
      "text/plain": [
       "<Figure size 576x288 with 1 Axes>"
      ]
     },
     "metadata": {
      "needs_background": "light"
     },
     "output_type": "display_data"
    }
   ],
   "source": [
    "#Explorando mediante histogramas las distribuciones de los datos\n",
    "for feature in features:\n",
    "\n",
    "    plt.figure(figsize=(8, 4))\n",
    "    mega.query(\"is_ultra == 0\")[feature].hist(label=\"no\", alpha=0.25, ax=plt.gca(), density=True)\n",
    "    mega.query(\"is_ultra == 1\")[feature].hist(label=\"yes\", alpha=0.25, ax=plt.gca(), density=True)\n",
    "    plt.legend(title=\"is_ultra\")\n",
    "    plt.xlabel(feature)\n",
    "    plt.show()"
   ]
  },
  {
   "cell_type": "markdown",
   "metadata": {},
   "source": [
    "En esta primera exploración podemos observar:\n",
    "* A mayor cantidad de llamadas, se observa una mayor probabilidad de que el usuario sea de plan Ultra\n",
    "* A mayor cantidad de minutos, se observa una mayor probabilidad de que el usuario sea de plan Ultra\n",
    "* En los mensajes, los planes Ultra y Smart se comportan similar, sin embargo se observa una ligeratendencia a que los usuarios de plan Ultra envíen mayor cantidad de mensajes\n",
    "* Respecto a la cantidad de MB utilizados por los usuarios, se observa una media cercana a los 18,000 Mb, sin embargo se observa mayor presencia de planes Ultra a medida que pasan los 25,000 MB utilizados."
   ]
  },
  {
   "cell_type": "markdown",
   "metadata": {},
   "source": [
    "## Explorando los diferentes modelos"
   ]
  },
  {
   "cell_type": "markdown",
   "metadata": {},
   "source": [
    "### Árbol de decisión de clasificación"
   ]
  },
  {
   "cell_type": "code",
   "execution_count": 12,
   "metadata": {},
   "outputs": [
    {
     "name": "stdout",
     "output_type": "stream",
     "text": [
      "Accuracy Score del mejor modelo en el conjunto de validación (max_depth = 2): 0.8105436573311368\n"
     ]
    }
   ],
   "source": [
    "best_model = None\n",
    "best_score = -100\n",
    "best_depth = 0\n",
    "\n",
    "\n",
    "\n",
    "#Loop que recorre los niveles de profundidad del arbol del 1 al 6\n",
    "for depth in range (1,6):\n",
    "    #Creamos una instancia de DecisionTreeClassifire con un random_state y una profundidad máxima = depth\n",
    "    model= DecisionTreeClassifier(max_depth=depth, random_state=88)\n",
    "    \n",
    "    #Entrenamos el modelo con los features y target de entrenamiento\n",
    "    model.fit(features_train, target_train)\n",
    "    \n",
    "    #Realizamos las predicciones del modelo en el conjunto de validación\n",
    "    predictions_valid_tree = model.predict(features_valid)\n",
    "    #Calculamos le puntuación de exactitud\n",
    "    score = accuracy_score(target_valid, predictions_valid_tree)\n",
    "    # Evaluamos el mejor score de todos los niveles de profundidad\n",
    "    if score > best_score:\n",
    "        best_model = model\n",
    "        best_score = score\n",
    "        best_depth = depth\n",
    "        \n",
    "#Imprimimos el mejor modelo y sus características\n",
    "print(f\"Accuracy Score del mejor modelo en el conjunto de validación (max_depth = {best_depth}): {best_score}\")\n",
    "\n",
    "\n"
   ]
  },
  {
   "cell_type": "markdown",
   "metadata": {},
   "source": [
    "* **Observamos que tenemos un Accuracy Score de 0.81 con una profundidad = 2 , lo cual supera el umbral de 0.75 establecido en el problema, veamos los demás modelos para evaluar su comportamiento**\n"
   ]
  },
  {
   "cell_type": "markdown",
   "metadata": {},
   "source": [
    "### Bosque aleatorio de clasificación"
   ]
  },
  {
   "cell_type": "code",
   "execution_count": 13,
   "metadata": {
    "scrolled": false
   },
   "outputs": [
    {
     "name": "stdout",
     "output_type": "stream",
     "text": [
      "\n",
      "            N estimators : 50\n",
      "            Max depth: 5\n",
      "            Accuracy : 0.8105436573311368\n",
      "            \n",
      "\n",
      "            N estimators : 50\n",
      "            Max depth: 10\n",
      "            Accuracy : 0.828665568369028\n",
      "            \n",
      "\n",
      "            N estimators : 150\n",
      "            Max depth: 10\n",
      "            Accuracy : 0.8352553542009885\n",
      "            \n",
      "Accuracy del mejor modelo de validación best_score = 0.8352553542009885, n_estimators = 200, best_depth : 10\n"
     ]
    }
   ],
   "source": [
    "#Probando con Random Forest Classifier\n",
    "best_score = -1000\n",
    "\n",
    "\n",
    "for n_est in [50,100,150,200]:\n",
    "    for depth in [5,10,15]:\n",
    "        model_forest = RandomForestClassifier(n_estimators = n_est, max_depth = depth, random_state=888)\n",
    "\n",
    "        model_forest.fit(train_df[features],train_df[target] )\n",
    "        y_preds = model_forest.predict(valid_df[features])\n",
    "\n",
    "        score = accuracy_score(valid_df[target],y_preds)\n",
    "        \n",
    "        if score > best_score:\n",
    "            best_score = score\n",
    "            best_depth=depth\n",
    "            print(f\"\"\"\n",
    "            N estimators : {n_est}\n",
    "            Max depth: {depth}\n",
    "            Accuracy : {score}\n",
    "            \"\"\")\n",
    "\n",
    "            \n",
    "print (f'Accuracy del mejor modelo de validación best_score = {best_score}, n_estimators = {n_est}, best_depth : {best_depth}')\n"
   ]
  },
  {
   "cell_type": "markdown",
   "metadata": {},
   "source": [
    "* **Observamos que con un Bosque aleatorio de clasificación, obtenemos un Accuracy score = 0.835 con un número de estimadores = 200 y una profundidad de 10 niveles, el cual supera el umbral de exactitud de 0.75 establecido en el problema, veamos el último modelo y evaluemos su comportamiento**"
   ]
  },
  {
   "cell_type": "markdown",
   "metadata": {},
   "source": [
    "### Regresión Logística"
   ]
  },
  {
   "cell_type": "code",
   "execution_count": 14,
   "metadata": {},
   "outputs": [
    {
     "data": {
      "text/plain": [
       "0.729818780889621"
      ]
     },
     "execution_count": 14,
     "metadata": {},
     "output_type": "execute_result"
    }
   ],
   "source": [
    "#Inicializando el constructor del modelo\n",
    "model_linear = LogisticRegression(random_state=88, solver='liblinear')\n",
    "\n",
    "# Entrenando el modelo con el conjunto de entrenamiento\n",
    "model_linear.fit(features_train, target_train)\n",
    "\n",
    "# Obteniendo predicciones para el modelo con el conjunto de validación\n",
    "predictions_linear = model_linear.predict(features_valid)\n",
    "\n",
    "# Calculando el Accuracy Score\n",
    "accuracy_score(predictions_linear, target_valid)"
   ]
  },
  {
   "cell_type": "markdown",
   "metadata": {},
   "source": [
    "* **Con la regresión logística obtuvimos un Accuracy Score de 0.729, el cual se encuentra por debajo de el umbral de 0.75 establecido en el problema**"
   ]
  },
  {
   "cell_type": "markdown",
   "metadata": {},
   "source": [
    "### Conclusiones\n",
    "**Observamos los siguientes resultados:**\n",
    "\n",
    "* **Para el Árbol de decisión de clasificación tenemos un Accuracy Score de 0.81 con una profundidad = 2 , lo cual supera el umbral de 0.75 establecido en el problema.**\n",
    "\n",
    "* **Para el Bosque aleatorio de clasificación, obtenemos un Accuracy score = 0.835 con un número de estimadores = 200 y una profundidad de 10 niveles, el cual supera el umbral de exactitud de 0.75 establecido en el problema.**\n",
    "\n",
    "* **Para la Regresión logística obtuvimos un Accuracy Score de 0.729, el cual se encuentra por debajo de el umbral de 0.75 establecido en el problema.**\n",
    "\n",
    "\n",
    "Con esto concluimos que el mejor modelo de clasificación para este problema fue el **Bosque Aleatorio de clasificación** con una exactitud de 0.835, un número de estimadores = 200 y una profundidad de 10 niveles.\n",
    "\n",
    "Con esto en mente, ahora trabajemos este modelo con el conjunto de datos de prueba para resolver el problema planteado\n"
   ]
  },
  {
   "cell_type": "markdown",
   "metadata": {},
   "source": [
    "## Evaluando el conjunto de prueba con el mejor modelo (Random Forest Clasification) "
   ]
  },
  {
   "cell_type": "code",
   "execution_count": 15,
   "metadata": {},
   "outputs": [
    {
     "name": "stdout",
     "output_type": "stream",
     "text": [
      "Accuracy del modelo final:  score = 0.8065630397236615, n_estimators = 150, depth : 10\n"
     ]
    }
   ],
   "source": [
    "#Creando una instancia del modelo RandomForestClassifier\n",
    "final_model = RandomForestClassifier(n_estimators = 150, max_depth=10,random_state=88)\n",
    "\n",
    "#Entrenando el modelo con el conjunto (completo) de entrenamiento\n",
    "final_model.fit(full_train_df[features], full_train_df[target])\n",
    "# Realizando las predicciones con el conjunto de prueba\n",
    "test_preds= final_model.predict(test_df[features])\n",
    "\n",
    "final_score = accuracy_score(test_df[target],test_preds)\n",
    "print (f'Accuracy del modelo final:  score = {final_score}, n_estimators = {150}, depth : {10}')"
   ]
  },
  {
   "cell_type": "markdown",
   "metadata": {},
   "source": [
    "### Conclusiones de resultados del mejor modelo\n",
    "\n",
    "Observamos que al entrenar el modelo con el conjunto completo de entrenamiento (82% del total de los datos) y realizar las predicciones al conjunto de prueba (18% del total de los datos) el accuracy score se reduce ligeramente (sobreajuste), pasando de un 0.835 a un 0.806 , esto puede ser por que el volumen de datos con el que trabaja el nuevo modelo se vio incrementado, sin embargo, a pesar de este ligero sobreajuste sigue cumpliendo con el umbral de exactitud mayor a 0.75\n"
   ]
  },
  {
   "cell_type": "markdown",
   "metadata": {},
   "source": [
    "## Prueba de fidelidad\n",
    "\n",
    "Vamos a comparar las predicciones con la posibilidad aleatoria, para esto vamos a darle la misma respuesta (1) a todas las observaciones y calcular su exactitud (accuracy score)"
   ]
  },
  {
   "cell_type": "code",
   "execution_count": 16,
   "metadata": {},
   "outputs": [
    {
     "data": {
      "text/plain": [
       "0.3298791018998273"
      ]
     },
     "execution_count": 16,
     "metadata": {},
     "output_type": "execute_result"
    }
   ],
   "source": [
    "accuracy_score(test_df[target], pd.Series([1] * len(test_df)))"
   ]
  },
  {
   "cell_type": "code",
   "execution_count": 17,
   "metadata": {
    "scrolled": true
   },
   "outputs": [
    {
     "data": {
      "text/plain": [
       "0.6701208981001727"
      ]
     },
     "execution_count": 17,
     "metadata": {},
     "output_type": "execute_result"
    }
   ],
   "source": [
    "#Predicción \n",
    "1-accuracy_score(test_df[target], pd.Series([1] * len(test_df)))"
   ]
  },
  {
   "cell_type": "markdown",
   "metadata": {},
   "source": [
    "Podemos observar que el porcentaje de observaciones con valor (1) es de un 32.9%, en cambio el porcentaje de observaciones con valor (0) es de 67%."
   ]
  },
  {
   "cell_type": "markdown",
   "metadata": {},
   "source": [
    "Ahora vamos a comparar el accuracy score cuando tomamos una predicción aleatoria"
   ]
  },
  {
   "cell_type": "code",
   "execution_count": 18,
   "metadata": {},
   "outputs": [
    {
     "data": {
      "text/plain": [
       "0.5181347150259067"
      ]
     },
     "execution_count": 18,
     "metadata": {},
     "output_type": "execute_result"
    }
   ],
   "source": [
    "#Predicción aleatoria\n",
    "accuracy_score(test_df[target] , np.random.choice([0,1], len(test_df)))"
   ]
  },
  {
   "cell_type": "markdown",
   "metadata": {},
   "source": [
    "Podemos observar que al tomar una predicción aleatoria, tenemos un accuracy de 0.49, lo que significa que cuando se tiene una predicción aleatoria, tenemos un 49% de que el valor sea (1)"
   ]
  },
  {
   "cell_type": "markdown",
   "metadata": {},
   "source": [
    "## Conclusiones\n",
    "\n",
    "Pudimos realizar el entrenamiento de un modelo de regresión clasificatoria para predecir que plan debería ser recomendado para los usuarios conforme a su comportamiento en el consumo de llamadas, mensajes, datos móviles y minutos consumidos.\n",
    "\n",
    "Se elige el modelo de **Bosque aleatorio de clasificación** como el mejor modelo debido a que nos ofrece una calificación de exactitud de 0.806, la cual supera el umbral definido de 0.75 .\n",
    "\n",
    "Se realizaron pruebas de fidelidad con predicciones de posibilidad aleatoria a través del Accuracy Score.\n",
    "\n",
    "Será emocionante poner a prueba el modelo para realizar predicciones con nuevos datos\n"
   ]
  }
 ],
 "metadata": {
  "kernelspec": {
   "display_name": "Python 3 (ipykernel)",
   "language": "python",
   "name": "python3"
  },
  "language_info": {
   "codemirror_mode": {
    "name": "ipython",
    "version": 3
   },
   "file_extension": ".py",
   "mimetype": "text/x-python",
   "name": "python",
   "nbconvert_exporter": "python",
   "pygments_lexer": "ipython3",
   "version": "3.9.19"
  },
  "toc": {
   "base_numbering": 1,
   "nav_menu": {},
   "number_sections": true,
   "sideBar": true,
   "skip_h1_title": true,
   "title_cell": "Table of Contents",
   "title_sidebar": "Contents",
   "toc_cell": false,
   "toc_position": {
    "height": "calc(100% - 180px)",
    "left": "10px",
    "top": "150px",
    "width": "164.997px"
   },
   "toc_section_display": true,
   "toc_window_display": true
  }
 },
 "nbformat": 4,
 "nbformat_minor": 2
}
