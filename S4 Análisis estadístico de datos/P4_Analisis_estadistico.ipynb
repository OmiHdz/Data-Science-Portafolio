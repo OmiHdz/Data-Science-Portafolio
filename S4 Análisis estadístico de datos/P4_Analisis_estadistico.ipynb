{
 "cells": [
  {
   "cell_type": "markdown",
   "metadata": {
    "id": "3rYiDeEH0q0f"
   },
   "source": [
    "# ¿Cuál es la mejor tarifa?\n",
    "\n",
    "Trabajas como analista para el operador de telecomunicaciones Megaline. La empresa ofrece a sus clientes dos tarifas de prepago, Surf y Ultimate. El departamento comercial quiere saber cuál de las tarifas genera más ingresos para poder ajustar el presupuesto de publicidad.\n",
    "\n",
    "Vas a realizar un análisis preliminar de las tarifas basado en una selección de clientes relativamente pequeña. Tendrás los datos de 500 clientes de Megaline: quiénes son los clientes, de dónde son, qué tarifa usan, así como la cantidad de llamadas que hicieron y los mensajes de texto que enviaron en 2018. Tu trabajo es analizar el comportamiento de los clientes y determinar qué tarifa de prepago genera más ingresos."
   ]
  },
  {
   "cell_type": "markdown",
   "metadata": {
    "id": "MQi4IPy70q0y"
   },
   "source": [
    "## Inicialización"
   ]
  },
  {
   "cell_type": "code",
   "execution_count": 1,
   "metadata": {
    "id": "MtYIuBxu0q0z"
   },
   "outputs": [],
   "source": [
    "# Cargar todas las librerías\n",
    "import pandas as pd\n",
    "import numpy as np\n",
    "from scipy import  stats as st\n",
    "import math\n",
    "import matplotlib.pyplot as plt\n",
    "import seaborn as sns\n",
    "\n"
   ]
  },
  {
   "cell_type": "markdown",
   "metadata": {
    "id": "4ysWWC5i0q00"
   },
   "source": [
    "## Cargar datos"
   ]
  },
  {
   "cell_type": "code",
   "execution_count": 2,
   "metadata": {
    "id": "CCqPW7rS0q01"
   },
   "outputs": [],
   "source": [
    "# Carga los archivos de datos en diferentes DataFrames\n",
    "calls= pd.read_csv('/datasets/megaline_calls.csv')\n",
    "internet= pd.read_csv('/datasets/megaline_internet.csv')\n",
    "messages= pd.read_csv('/datasets/megaline_messages.csv')\n",
    "plans= pd.read_csv('/datasets/megaline_plans.csv')\n",
    "users= pd.read_csv('/datasets/megaline_users.csv')\n"
   ]
  },
  {
   "cell_type": "markdown",
   "metadata": {
    "id": "69qqoJ3r0q01"
   },
   "source": [
    "## Preparar los datos"
   ]
  },
  {
   "cell_type": "markdown",
   "metadata": {
    "id": "ohBhimvH0q01"
   },
   "source": [
    "## Tarifas"
   ]
  },
  {
   "cell_type": "code",
   "execution_count": 3,
   "metadata": {
    "id": "GptqP3Q40q02"
   },
   "outputs": [
    {
     "name": "stdout",
     "output_type": "stream",
     "text": [
      "<class 'pandas.core.frame.DataFrame'>\n",
      "RangeIndex: 2 entries, 0 to 1\n",
      "Data columns (total 8 columns):\n",
      " #   Column                 Non-Null Count  Dtype  \n",
      "---  ------                 --------------  -----  \n",
      " 0   messages_included      2 non-null      int64  \n",
      " 1   mb_per_month_included  2 non-null      int64  \n",
      " 2   minutes_included       2 non-null      int64  \n",
      " 3   usd_monthly_pay        2 non-null      int64  \n",
      " 4   usd_per_gb             2 non-null      int64  \n",
      " 5   usd_per_message        2 non-null      float64\n",
      " 6   usd_per_minute         2 non-null      float64\n",
      " 7   plan_name              2 non-null      object \n",
      "dtypes: float64(2), int64(5), object(1)\n",
      "memory usage: 256.0+ bytes\n"
     ]
    }
   ],
   "source": [
    "# Imprime la información general/resumida sobre el DataFrame de las tarifas\n",
    "plans.info()\n"
   ]
  },
  {
   "cell_type": "code",
   "execution_count": 4,
   "metadata": {
    "id": "64xzjwL70q02"
   },
   "outputs": [
    {
     "name": "stdout",
     "output_type": "stream",
     "text": [
      "   messages_included  mb_per_month_included  minutes_included  \\\n",
      "0                 50                  15360               500   \n",
      "1               1000                  30720              3000   \n",
      "\n",
      "   usd_monthly_pay  usd_per_gb  usd_per_message  usd_per_minute plan_name  \n",
      "0               20          10             0.03            0.03      surf  \n",
      "1               70           7             0.01            0.01  ultimate  \n"
     ]
    }
   ],
   "source": [
    "# Imprime una muestra de los datos para las tarifas\n",
    "print(plans.head())"
   ]
  },
  {
   "cell_type": "markdown",
   "metadata": {
    "id": "mEc_3_hs0q02"
   },
   "source": [
    "\n",
    "\n",
    "**Los tipos de datos me parecen adecuados para el análisis, sin embargo observo que hay una discrepancia en la columna \"usd_monthly_pay\", debería ser 'usd_monthly_fee', se puede arreglar renombrando la columna**"
   ]
  },
  {
   "cell_type": "markdown",
   "metadata": {
    "id": "R3C05i1l0q03"
   },
   "source": [
    "## Corregir datos"
   ]
  },
  {
   "cell_type": "code",
   "execution_count": 5,
   "metadata": {
    "id": "Y7SVmjGn0q03",
    "scrolled": true
   },
   "outputs": [
    {
     "data": {
      "text/plain": [
       "Index(['messages_included', 'mb_per_month_included', 'minutes_included',\n",
       "       'usd_monthly_fee', 'usd_per_gb', 'usd_per_message', 'usd_per_minute',\n",
       "       'plan_name'],\n",
       "      dtype='object')"
      ]
     },
     "execution_count": 5,
     "metadata": {},
     "output_type": "execute_result"
    }
   ],
   "source": [
    "plans.rename(columns={'usd_monthly_pay':'usd_monthly_fee'},inplace=True)\n",
    "plans.columns"
   ]
  },
  {
   "cell_type": "markdown",
   "metadata": {
    "id": "1n2X6WXf0q04"
   },
   "source": [
    "## Usuarios/as"
   ]
  },
  {
   "cell_type": "code",
   "execution_count": 6,
   "metadata": {
    "id": "2NgjWFqx0q05"
   },
   "outputs": [
    {
     "name": "stdout",
     "output_type": "stream",
     "text": [
      "<class 'pandas.core.frame.DataFrame'>\n",
      "RangeIndex: 500 entries, 0 to 499\n",
      "Data columns (total 8 columns):\n",
      " #   Column      Non-Null Count  Dtype \n",
      "---  ------      --------------  ----- \n",
      " 0   user_id     500 non-null    int64 \n",
      " 1   first_name  500 non-null    object\n",
      " 2   last_name   500 non-null    object\n",
      " 3   age         500 non-null    int64 \n",
      " 4   city        500 non-null    object\n",
      " 5   reg_date    500 non-null    object\n",
      " 6   plan        500 non-null    object\n",
      " 7   churn_date  34 non-null     object\n",
      "dtypes: int64(2), object(6)\n",
      "memory usage: 31.4+ KB\n"
     ]
    }
   ],
   "source": [
    "# Imprime la información general/resumida sobre el DataFrame de usuarios\n",
    "users.info()"
   ]
  },
  {
   "cell_type": "code",
   "execution_count": 7,
   "metadata": {
    "id": "1IN1L9uh0q05",
    "scrolled": true
   },
   "outputs": [
    {
     "name": "stdout",
     "output_type": "stream",
     "text": [
      "     user_id first_name last_name  age  \\\n",
      "199     1199  Antonetta    Finley   39   \n",
      "202     1202    Osvaldo     Mayer   36   \n",
      "319     1319     Eliseo    Carson   21   \n",
      "64      1064    Gerardo    Ashley   46   \n",
      "317     1317   Ruthanne     Heath   70   \n",
      "\n",
      "                                            city    reg_date      plan  \\\n",
      "199            San Antonio-New Braunfels, TX MSA  2018-08-01  ultimate   \n",
      "202  Minneapolis-St. Paul-Bloomington, MN-WI MSA  2018-09-30  ultimate   \n",
      "319                     Colorado Springs, CO MSA  2018-06-17      surf   \n",
      "64     New York-Newark-Jersey City, NY-NJ-PA MSA  2018-06-03      surf   \n",
      "317                Phoenix-Mesa-Chandler, AZ MSA  2018-11-11  ultimate   \n",
      "\n",
      "    churn_date  \n",
      "199        NaN  \n",
      "202        NaN  \n",
      "319        NaN  \n",
      "64         NaN  \n",
      "317        NaN  \n"
     ]
    }
   ],
   "source": [
    "# Imprime una muestra de datos para usuarios\n",
    "print(users.sample(5))\n"
   ]
  },
  {
   "cell_type": "markdown",
   "metadata": {
    "id": "dCZoUq4f0q06"
   },
   "source": [
    "**Podemos observar que los datos de 'reg_date' y 'churn_date' son de tipo objeto, debemos cambiarlos a tipo datetime para poder compararlos entre si y obtener cortes periodicos**"
   ]
  },
  {
   "cell_type": "markdown",
   "metadata": {
    "id": "BX5FQh_I0q06"
   },
   "source": [
    "### Corregir los datos"
   ]
  },
  {
   "cell_type": "code",
   "execution_count": 8,
   "metadata": {
    "id": "yUqX-K0C0q07",
    "scrolled": true
   },
   "outputs": [
    {
     "name": "stdout",
     "output_type": "stream",
     "text": [
      "<class 'pandas.core.frame.DataFrame'>\n",
      "RangeIndex: 500 entries, 0 to 499\n",
      "Data columns (total 8 columns):\n",
      " #   Column      Non-Null Count  Dtype         \n",
      "---  ------      --------------  -----         \n",
      " 0   user_id     500 non-null    int64         \n",
      " 1   first_name  500 non-null    object        \n",
      " 2   last_name   500 non-null    object        \n",
      " 3   age         500 non-null    int64         \n",
      " 4   city        500 non-null    object        \n",
      " 5   reg_date    500 non-null    datetime64[ns]\n",
      " 6   plan        500 non-null    object        \n",
      " 7   churn_date  34 non-null     datetime64[ns]\n",
      "dtypes: datetime64[ns](2), int64(2), object(4)\n",
      "memory usage: 31.4+ KB\n"
     ]
    }
   ],
   "source": [
    "users['reg_date']= pd.to_datetime(users['reg_date'],format='%Y-%m-%d')\n",
    "users['churn_date']= pd.to_datetime(users['churn_date'],format='%Y-%m-%d')\n",
    "users.info()"
   ]
  },
  {
   "cell_type": "code",
   "execution_count": 9,
   "metadata": {},
   "outputs": [],
   "source": [
    "users['bill']=0.0\n"
   ]
  },
  {
   "cell_type": "code",
   "execution_count": 10,
   "metadata": {
    "scrolled": true
   },
   "outputs": [
    {
     "name": "stdout",
     "output_type": "stream",
     "text": [
      "     user_id first_name   last_name  age  \\\n",
      "498     1498       Scot  Williamson   51   \n",
      "263     1263      Lucio       Duffy   39   \n",
      "\n",
      "                                          city   reg_date  plan churn_date  \\\n",
      "498  New York-Newark-Jersey City, NY-NJ-PA MSA 2018-02-04  surf        NaT   \n",
      "263         Boston-Cambridge-Newton, MA-NH MSA 2018-03-06  surf        NaT   \n",
      "\n",
      "     bill  \n",
      "498   0.0  \n",
      "263   0.0  \n"
     ]
    }
   ],
   "source": [
    "print(users.sample(2))"
   ]
  },
  {
   "cell_type": "markdown",
   "metadata": {
    "id": "ycwuARJp0q07"
   },
   "source": [
    "### Enriquecer los datos"
   ]
  },
  {
   "cell_type": "code",
   "execution_count": 11,
   "metadata": {
    "id": "6dDlnoDm0q08",
    "scrolled": true
   },
   "outputs": [
    {
     "name": "stdout",
     "output_type": "stream",
     "text": [
      "<class 'pandas.core.frame.DataFrame'>\n",
      "RangeIndex: 137735 entries, 0 to 137734\n",
      "Data columns (total 4 columns):\n",
      " #   Column     Non-Null Count   Dtype  \n",
      "---  ------     --------------   -----  \n",
      " 0   id         137735 non-null  object \n",
      " 1   user_id    137735 non-null  int64  \n",
      " 2   call_date  137735 non-null  object \n",
      " 3   duration   137735 non-null  float64\n",
      "dtypes: float64(1), int64(1), object(2)\n",
      "memory usage: 4.2+ MB\n"
     ]
    }
   ],
   "source": [
    "# Imprime la información general/resumida sobre el DataFrame de las llamadas\n",
    "calls.info()\n"
   ]
  },
  {
   "cell_type": "markdown",
   "metadata": {
    "id": "o7MeKCid0q08"
   },
   "source": [
    "## Llamadas"
   ]
  },
  {
   "cell_type": "code",
   "execution_count": 12,
   "metadata": {
    "id": "kuh1vlNB0q09",
    "scrolled": true
   },
   "outputs": [
    {
     "name": "stdout",
     "output_type": "stream",
     "text": [
      "             id  user_id   call_date  duration\n",
      "77631  1277_707     1277  2018-10-31       0.0\n",
      "13301  1057_180     1057  2018-10-19       0.0\n"
     ]
    }
   ],
   "source": [
    "# Imprime una muestra de datos para las llamadas\n",
    "print(calls.sample(2))\n"
   ]
  },
  {
   "cell_type": "markdown",
   "metadata": {
    "id": "DOAxYJSx0q09"
   },
   "source": [
    "\n",
    "\n",
    "* **Observamos que el tipo de dato de la columna 'call_date' es object, cuando debería ser datetime**\n"
   ]
  },
  {
   "cell_type": "markdown",
   "metadata": {
    "id": "S7hzxmbX0q0-"
   },
   "source": [
    "### Corregir los datos"
   ]
  },
  {
   "cell_type": "code",
   "execution_count": 13,
   "metadata": {
    "id": "S2r8xA4f0q0-"
   },
   "outputs": [
    {
     "name": "stdout",
     "output_type": "stream",
     "text": [
      "<class 'pandas.core.frame.DataFrame'>\n",
      "RangeIndex: 137735 entries, 0 to 137734\n",
      "Data columns (total 4 columns):\n",
      " #   Column     Non-Null Count   Dtype         \n",
      "---  ------     --------------   -----         \n",
      " 0   id         137735 non-null  object        \n",
      " 1   user_id    137735 non-null  int64         \n",
      " 2   call_date  137735 non-null  datetime64[ns]\n",
      " 3   duration   137735 non-null  float64       \n",
      "dtypes: datetime64[ns](1), float64(1), int64(1), object(1)\n",
      "memory usage: 4.2+ MB\n"
     ]
    },
    {
     "data": {
      "text/html": [
       "<div>\n",
       "<style scoped>\n",
       "    .dataframe tbody tr th:only-of-type {\n",
       "        vertical-align: middle;\n",
       "    }\n",
       "\n",
       "    .dataframe tbody tr th {\n",
       "        vertical-align: top;\n",
       "    }\n",
       "\n",
       "    .dataframe thead th {\n",
       "        text-align: right;\n",
       "    }\n",
       "</style>\n",
       "<table border=\"1\" class=\"dataframe\">\n",
       "  <thead>\n",
       "    <tr style=\"text-align: right;\">\n",
       "      <th></th>\n",
       "      <th>id</th>\n",
       "      <th>user_id</th>\n",
       "      <th>call_date</th>\n",
       "      <th>duration</th>\n",
       "    </tr>\n",
       "  </thead>\n",
       "  <tbody>\n",
       "    <tr>\n",
       "      <th>134216</th>\n",
       "      <td>1488_367</td>\n",
       "      <td>1488</td>\n",
       "      <td>2018-07-22</td>\n",
       "      <td>6.86</td>\n",
       "    </tr>\n",
       "    <tr>\n",
       "      <th>34713</th>\n",
       "      <td>1130_233</td>\n",
       "      <td>1130</td>\n",
       "      <td>2018-12-30</td>\n",
       "      <td>3.36</td>\n",
       "    </tr>\n",
       "  </tbody>\n",
       "</table>\n",
       "</div>"
      ],
      "text/plain": [
       "              id  user_id  call_date  duration\n",
       "134216  1488_367     1488 2018-07-22      6.86\n",
       "34713   1130_233     1130 2018-12-30      3.36"
      ]
     },
     "execution_count": 13,
     "metadata": {},
     "output_type": "execute_result"
    }
   ],
   "source": [
    "calls['call_date']=pd.to_datetime(calls['call_date'], format='%Y-%m-%d')\n",
    "calls.info()\n",
    "calls.sample(2)"
   ]
  },
  {
   "cell_type": "markdown",
   "metadata": {
    "id": "KrMgTrlG0q0_"
   },
   "source": [
    "### Enriquecer los datos"
   ]
  },
  {
   "cell_type": "code",
   "execution_count": 14,
   "metadata": {
    "id": "iZ1avpA_0q0_",
    "scrolled": true
   },
   "outputs": [
    {
     "data": {
      "text/html": [
       "<div>\n",
       "<style scoped>\n",
       "    .dataframe tbody tr th:only-of-type {\n",
       "        vertical-align: middle;\n",
       "    }\n",
       "\n",
       "    .dataframe tbody tr th {\n",
       "        vertical-align: top;\n",
       "    }\n",
       "\n",
       "    .dataframe thead th {\n",
       "        text-align: right;\n",
       "    }\n",
       "</style>\n",
       "<table border=\"1\" class=\"dataframe\">\n",
       "  <thead>\n",
       "    <tr style=\"text-align: right;\">\n",
       "      <th></th>\n",
       "      <th>id</th>\n",
       "      <th>user_id</th>\n",
       "      <th>call_date</th>\n",
       "      <th>duration</th>\n",
       "      <th>month</th>\n",
       "    </tr>\n",
       "  </thead>\n",
       "  <tbody>\n",
       "    <tr>\n",
       "      <th>0</th>\n",
       "      <td>1000_93</td>\n",
       "      <td>1000</td>\n",
       "      <td>2018-12-27</td>\n",
       "      <td>8.52</td>\n",
       "      <td>12</td>\n",
       "    </tr>\n",
       "    <tr>\n",
       "      <th>1</th>\n",
       "      <td>1000_145</td>\n",
       "      <td>1000</td>\n",
       "      <td>2018-12-27</td>\n",
       "      <td>13.66</td>\n",
       "      <td>12</td>\n",
       "    </tr>\n",
       "    <tr>\n",
       "      <th>2</th>\n",
       "      <td>1000_247</td>\n",
       "      <td>1000</td>\n",
       "      <td>2018-12-27</td>\n",
       "      <td>14.48</td>\n",
       "      <td>12</td>\n",
       "    </tr>\n",
       "    <tr>\n",
       "      <th>3</th>\n",
       "      <td>1000_309</td>\n",
       "      <td>1000</td>\n",
       "      <td>2018-12-28</td>\n",
       "      <td>5.76</td>\n",
       "      <td>12</td>\n",
       "    </tr>\n",
       "    <tr>\n",
       "      <th>4</th>\n",
       "      <td>1000_380</td>\n",
       "      <td>1000</td>\n",
       "      <td>2018-12-30</td>\n",
       "      <td>4.22</td>\n",
       "      <td>12</td>\n",
       "    </tr>\n",
       "  </tbody>\n",
       "</table>\n",
       "</div>"
      ],
      "text/plain": [
       "         id  user_id  call_date  duration  month\n",
       "0   1000_93     1000 2018-12-27      8.52     12\n",
       "1  1000_145     1000 2018-12-27     13.66     12\n",
       "2  1000_247     1000 2018-12-27     14.48     12\n",
       "3  1000_309     1000 2018-12-28      5.76     12\n",
       "4  1000_380     1000 2018-12-30      4.22     12"
      ]
     },
     "execution_count": 14,
     "metadata": {},
     "output_type": "execute_result"
    }
   ],
   "source": [
    "calls['month']= calls['call_date'].dt.month\n",
    "calls.head()\n",
    "#print(calls['call_date'].dt.month)"
   ]
  },
  {
   "cell_type": "markdown",
   "metadata": {
    "id": "mOUZSi180q0_"
   },
   "source": [
    "## Mensajes"
   ]
  },
  {
   "cell_type": "code",
   "execution_count": 15,
   "metadata": {
    "id": "R-bYJpdV0q1A"
   },
   "outputs": [
    {
     "name": "stdout",
     "output_type": "stream",
     "text": [
      "<class 'pandas.core.frame.DataFrame'>\n",
      "RangeIndex: 76051 entries, 0 to 76050\n",
      "Data columns (total 3 columns):\n",
      " #   Column        Non-Null Count  Dtype \n",
      "---  ------        --------------  ----- \n",
      " 0   id            76051 non-null  object\n",
      " 1   user_id       76051 non-null  int64 \n",
      " 2   message_date  76051 non-null  object\n",
      "dtypes: int64(1), object(2)\n",
      "memory usage: 1.7+ MB\n"
     ]
    }
   ],
   "source": [
    "# Imprime la información general/resumida sobre el DataFrame de los mensajes\n",
    "messages.info()\n"
   ]
  },
  {
   "cell_type": "code",
   "execution_count": 16,
   "metadata": {
    "id": "mCEl2iGE0q1A"
   },
   "outputs": [
    {
     "name": "stdout",
     "output_type": "stream",
     "text": [
      "              id  user_id message_date\n",
      "36970   1247_134     1247   2018-08-07\n",
      "21896  1132_1424     1132   2018-10-15\n"
     ]
    }
   ],
   "source": [
    "# Imprime una muestra de datos para los mensajes\n",
    "print(messages.sample(2))"
   ]
  },
  {
   "cell_type": "markdown",
   "metadata": {
    "id": "04xDj7KH0q1A"
   },
   "source": [
    "* **El tipo de dato de la columna 'message_date' es object, cuando debería ser datetime**"
   ]
  },
  {
   "cell_type": "markdown",
   "metadata": {
    "id": "Sprfak900q1B"
   },
   "source": [
    "### Corregir los datos"
   ]
  },
  {
   "cell_type": "code",
   "execution_count": 17,
   "metadata": {
    "id": "vsllvkoa0q1B"
   },
   "outputs": [
    {
     "name": "stdout",
     "output_type": "stream",
     "text": [
      "<class 'pandas.core.frame.DataFrame'>\n",
      "RangeIndex: 76051 entries, 0 to 76050\n",
      "Data columns (total 3 columns):\n",
      " #   Column        Non-Null Count  Dtype         \n",
      "---  ------        --------------  -----         \n",
      " 0   id            76051 non-null  object        \n",
      " 1   user_id       76051 non-null  int64         \n",
      " 2   message_date  76051 non-null  datetime64[ns]\n",
      "dtypes: datetime64[ns](1), int64(1), object(1)\n",
      "memory usage: 1.7+ MB\n",
      "             id  user_id message_date\n",
      "14302  1098_327     1098   2018-10-25\n",
      "19512  1126_199     1126   2018-12-26\n"
     ]
    }
   ],
   "source": [
    "messages['message_date']=pd.to_datetime(messages['message_date'], format='%Y-%m-%d')\n",
    "messages.info()\n",
    "print(messages.sample(2))"
   ]
  },
  {
   "cell_type": "markdown",
   "metadata": {
    "id": "HvLid7iD0q1B"
   },
   "source": [
    "### Enriquecer los datos"
   ]
  },
  {
   "cell_type": "code",
   "execution_count": 18,
   "metadata": {
    "id": "zYEXZac10q1C",
    "scrolled": true
   },
   "outputs": [
    {
     "data": {
      "text/html": [
       "<div>\n",
       "<style scoped>\n",
       "    .dataframe tbody tr th:only-of-type {\n",
       "        vertical-align: middle;\n",
       "    }\n",
       "\n",
       "    .dataframe tbody tr th {\n",
       "        vertical-align: top;\n",
       "    }\n",
       "\n",
       "    .dataframe thead th {\n",
       "        text-align: right;\n",
       "    }\n",
       "</style>\n",
       "<table border=\"1\" class=\"dataframe\">\n",
       "  <thead>\n",
       "    <tr style=\"text-align: right;\">\n",
       "      <th></th>\n",
       "      <th>id</th>\n",
       "      <th>user_id</th>\n",
       "      <th>message_date</th>\n",
       "      <th>month</th>\n",
       "    </tr>\n",
       "  </thead>\n",
       "  <tbody>\n",
       "    <tr>\n",
       "      <th>0</th>\n",
       "      <td>1000_125</td>\n",
       "      <td>1000</td>\n",
       "      <td>2018-12-27</td>\n",
       "      <td>12</td>\n",
       "    </tr>\n",
       "    <tr>\n",
       "      <th>1</th>\n",
       "      <td>1000_160</td>\n",
       "      <td>1000</td>\n",
       "      <td>2018-12-31</td>\n",
       "      <td>12</td>\n",
       "    </tr>\n",
       "    <tr>\n",
       "      <th>2</th>\n",
       "      <td>1000_223</td>\n",
       "      <td>1000</td>\n",
       "      <td>2018-12-31</td>\n",
       "      <td>12</td>\n",
       "    </tr>\n",
       "    <tr>\n",
       "      <th>3</th>\n",
       "      <td>1000_251</td>\n",
       "      <td>1000</td>\n",
       "      <td>2018-12-27</td>\n",
       "      <td>12</td>\n",
       "    </tr>\n",
       "    <tr>\n",
       "      <th>4</th>\n",
       "      <td>1000_255</td>\n",
       "      <td>1000</td>\n",
       "      <td>2018-12-26</td>\n",
       "      <td>12</td>\n",
       "    </tr>\n",
       "  </tbody>\n",
       "</table>\n",
       "</div>"
      ],
      "text/plain": [
       "         id  user_id message_date  month\n",
       "0  1000_125     1000   2018-12-27     12\n",
       "1  1000_160     1000   2018-12-31     12\n",
       "2  1000_223     1000   2018-12-31     12\n",
       "3  1000_251     1000   2018-12-27     12\n",
       "4  1000_255     1000   2018-12-26     12"
      ]
     },
     "execution_count": 18,
     "metadata": {},
     "output_type": "execute_result"
    }
   ],
   "source": [
    "messages['month']= messages['message_date'].dt.month\n",
    "messages.head()"
   ]
  },
  {
   "cell_type": "markdown",
   "metadata": {
    "id": "bStkaxn40q1C"
   },
   "source": [
    "## Internet"
   ]
  },
  {
   "cell_type": "code",
   "execution_count": 19,
   "metadata": {
    "id": "e-Uz5qyn0q1C"
   },
   "outputs": [
    {
     "name": "stdout",
     "output_type": "stream",
     "text": [
      "<class 'pandas.core.frame.DataFrame'>\n",
      "RangeIndex: 104825 entries, 0 to 104824\n",
      "Data columns (total 4 columns):\n",
      " #   Column        Non-Null Count   Dtype  \n",
      "---  ------        --------------   -----  \n",
      " 0   id            104825 non-null  object \n",
      " 1   user_id       104825 non-null  int64  \n",
      " 2   session_date  104825 non-null  object \n",
      " 3   mb_used       104825 non-null  float64\n",
      "dtypes: float64(1), int64(1), object(2)\n",
      "memory usage: 3.2+ MB\n"
     ]
    }
   ],
   "source": [
    "# Imprime la información general/resumida sobre el DataFrame de internet\n",
    "internet.info()\n"
   ]
  },
  {
   "cell_type": "code",
   "execution_count": 20,
   "metadata": {
    "id": "9r3x_XLw0q1C"
   },
   "outputs": [
    {
     "data": {
      "text/html": [
       "<div>\n",
       "<style scoped>\n",
       "    .dataframe tbody tr th:only-of-type {\n",
       "        vertical-align: middle;\n",
       "    }\n",
       "\n",
       "    .dataframe tbody tr th {\n",
       "        vertical-align: top;\n",
       "    }\n",
       "\n",
       "    .dataframe thead th {\n",
       "        text-align: right;\n",
       "    }\n",
       "</style>\n",
       "<table border=\"1\" class=\"dataframe\">\n",
       "  <thead>\n",
       "    <tr style=\"text-align: right;\">\n",
       "      <th></th>\n",
       "      <th>id</th>\n",
       "      <th>user_id</th>\n",
       "      <th>session_date</th>\n",
       "      <th>mb_used</th>\n",
       "    </tr>\n",
       "  </thead>\n",
       "  <tbody>\n",
       "    <tr>\n",
       "      <th>47031</th>\n",
       "      <td>1210_129</td>\n",
       "      <td>1210</td>\n",
       "      <td>2018-06-15</td>\n",
       "      <td>620.08</td>\n",
       "    </tr>\n",
       "    <tr>\n",
       "      <th>61321</th>\n",
       "      <td>1278_167</td>\n",
       "      <td>1278</td>\n",
       "      <td>2018-12-24</td>\n",
       "      <td>569.11</td>\n",
       "    </tr>\n",
       "  </tbody>\n",
       "</table>\n",
       "</div>"
      ],
      "text/plain": [
       "             id  user_id session_date  mb_used\n",
       "47031  1210_129     1210   2018-06-15   620.08\n",
       "61321  1278_167     1278   2018-12-24   569.11"
      ]
     },
     "execution_count": 20,
     "metadata": {},
     "output_type": "execute_result"
    }
   ],
   "source": [
    "# Imprime una muestra de datos para el tráfico de internet\n",
    "internet.sample(2)\n"
   ]
  },
  {
   "cell_type": "markdown",
   "metadata": {
    "id": "EzOG5ik30q1D"
   },
   "source": [
    "\n",
    "* **El tipo de dato de la columna 'session_date' es object cuando debería ser datetime**"
   ]
  },
  {
   "cell_type": "markdown",
   "metadata": {
    "id": "yA0tkPFg0q1D"
   },
   "source": [
    "### Corregir los datos"
   ]
  },
  {
   "cell_type": "code",
   "execution_count": 21,
   "metadata": {
    "id": "zVeanzdd0q1E",
    "scrolled": true
   },
   "outputs": [
    {
     "name": "stdout",
     "output_type": "stream",
     "text": [
      "<class 'pandas.core.frame.DataFrame'>\n",
      "RangeIndex: 104825 entries, 0 to 104824\n",
      "Data columns (total 4 columns):\n",
      " #   Column        Non-Null Count   Dtype         \n",
      "---  ------        --------------   -----         \n",
      " 0   id            104825 non-null  object        \n",
      " 1   user_id       104825 non-null  int64         \n",
      " 2   session_date  104825 non-null  datetime64[ns]\n",
      " 3   mb_used       104825 non-null  float64       \n",
      "dtypes: datetime64[ns](1), float64(1), int64(1), object(1)\n",
      "memory usage: 3.2+ MB\n",
      "             id  user_id session_date  mb_used\n",
      "30920  1141_264     1141   2018-07-16      0.0\n",
      "46764  1207_102     1207   2018-12-27    390.5\n"
     ]
    }
   ],
   "source": [
    "internet['session_date']=pd.to_datetime(internet['session_date'], format='%Y-%m-%d')\n",
    "internet.info()\n",
    "print(internet.sample(2))"
   ]
  },
  {
   "cell_type": "markdown",
   "metadata": {
    "id": "e8_mLF4a0q1E"
   },
   "source": [
    "### Enriquecer los datos"
   ]
  },
  {
   "cell_type": "code",
   "execution_count": 22,
   "metadata": {
    "id": "ESiYPIEK0q1E",
    "scrolled": true
   },
   "outputs": [
    {
     "data": {
      "text/html": [
       "<div>\n",
       "<style scoped>\n",
       "    .dataframe tbody tr th:only-of-type {\n",
       "        vertical-align: middle;\n",
       "    }\n",
       "\n",
       "    .dataframe tbody tr th {\n",
       "        vertical-align: top;\n",
       "    }\n",
       "\n",
       "    .dataframe thead th {\n",
       "        text-align: right;\n",
       "    }\n",
       "</style>\n",
       "<table border=\"1\" class=\"dataframe\">\n",
       "  <thead>\n",
       "    <tr style=\"text-align: right;\">\n",
       "      <th></th>\n",
       "      <th>id</th>\n",
       "      <th>user_id</th>\n",
       "      <th>session_date</th>\n",
       "      <th>mb_used</th>\n",
       "      <th>month</th>\n",
       "    </tr>\n",
       "  </thead>\n",
       "  <tbody>\n",
       "    <tr>\n",
       "      <th>0</th>\n",
       "      <td>1000_13</td>\n",
       "      <td>1000</td>\n",
       "      <td>2018-12-29</td>\n",
       "      <td>89.86</td>\n",
       "      <td>12</td>\n",
       "    </tr>\n",
       "    <tr>\n",
       "      <th>1</th>\n",
       "      <td>1000_204</td>\n",
       "      <td>1000</td>\n",
       "      <td>2018-12-31</td>\n",
       "      <td>0.00</td>\n",
       "      <td>12</td>\n",
       "    </tr>\n",
       "    <tr>\n",
       "      <th>2</th>\n",
       "      <td>1000_379</td>\n",
       "      <td>1000</td>\n",
       "      <td>2018-12-28</td>\n",
       "      <td>660.40</td>\n",
       "      <td>12</td>\n",
       "    </tr>\n",
       "    <tr>\n",
       "      <th>3</th>\n",
       "      <td>1000_413</td>\n",
       "      <td>1000</td>\n",
       "      <td>2018-12-26</td>\n",
       "      <td>270.99</td>\n",
       "      <td>12</td>\n",
       "    </tr>\n",
       "    <tr>\n",
       "      <th>4</th>\n",
       "      <td>1000_442</td>\n",
       "      <td>1000</td>\n",
       "      <td>2018-12-27</td>\n",
       "      <td>880.22</td>\n",
       "      <td>12</td>\n",
       "    </tr>\n",
       "  </tbody>\n",
       "</table>\n",
       "</div>"
      ],
      "text/plain": [
       "         id  user_id session_date  mb_used  month\n",
       "0   1000_13     1000   2018-12-29    89.86     12\n",
       "1  1000_204     1000   2018-12-31     0.00     12\n",
       "2  1000_379     1000   2018-12-28   660.40     12\n",
       "3  1000_413     1000   2018-12-26   270.99     12\n",
       "4  1000_442     1000   2018-12-27   880.22     12"
      ]
     },
     "execution_count": 22,
     "metadata": {},
     "output_type": "execute_result"
    }
   ],
   "source": [
    "internet['month']= internet['session_date'].dt.month\n",
    "internet.head()"
   ]
  },
  {
   "cell_type": "markdown",
   "metadata": {
    "id": "3UA2cqIW0q1E"
   },
   "source": [
    "## Estudiar las condiciones de las tarifas"
   ]
  },
  {
   "cell_type": "code",
   "execution_count": 23,
   "metadata": {
    "id": "i409op8p0q1F",
    "scrolled": true
   },
   "outputs": [
    {
     "name": "stdout",
     "output_type": "stream",
     "text": [
      "<class 'pandas.core.frame.DataFrame'>\n",
      "RangeIndex: 2 entries, 0 to 1\n",
      "Data columns (total 8 columns):\n",
      " #   Column                 Non-Null Count  Dtype  \n",
      "---  ------                 --------------  -----  \n",
      " 0   messages_included      2 non-null      int64  \n",
      " 1   mb_per_month_included  2 non-null      int64  \n",
      " 2   minutes_included       2 non-null      int64  \n",
      " 3   usd_monthly_fee        2 non-null      int64  \n",
      " 4   usd_per_gb             2 non-null      int64  \n",
      " 5   usd_per_message        2 non-null      float64\n",
      " 6   usd_per_minute         2 non-null      float64\n",
      " 7   plan_name              2 non-null      object \n",
      "dtypes: float64(2), int64(5), object(1)\n",
      "memory usage: 256.0+ bytes\n"
     ]
    },
    {
     "data": {
      "text/html": [
       "<div>\n",
       "<style scoped>\n",
       "    .dataframe tbody tr th:only-of-type {\n",
       "        vertical-align: middle;\n",
       "    }\n",
       "\n",
       "    .dataframe tbody tr th {\n",
       "        vertical-align: top;\n",
       "    }\n",
       "\n",
       "    .dataframe thead th {\n",
       "        text-align: right;\n",
       "    }\n",
       "</style>\n",
       "<table border=\"1\" class=\"dataframe\">\n",
       "  <thead>\n",
       "    <tr style=\"text-align: right;\">\n",
       "      <th></th>\n",
       "      <th>messages_included</th>\n",
       "      <th>mb_per_month_included</th>\n",
       "      <th>minutes_included</th>\n",
       "      <th>usd_monthly_fee</th>\n",
       "      <th>usd_per_gb</th>\n",
       "      <th>usd_per_message</th>\n",
       "      <th>usd_per_minute</th>\n",
       "      <th>plan_name</th>\n",
       "    </tr>\n",
       "  </thead>\n",
       "  <tbody>\n",
       "    <tr>\n",
       "      <th>0</th>\n",
       "      <td>50</td>\n",
       "      <td>15360</td>\n",
       "      <td>500</td>\n",
       "      <td>20</td>\n",
       "      <td>10</td>\n",
       "      <td>0.03</td>\n",
       "      <td>0.03</td>\n",
       "      <td>surf</td>\n",
       "    </tr>\n",
       "    <tr>\n",
       "      <th>1</th>\n",
       "      <td>1000</td>\n",
       "      <td>30720</td>\n",
       "      <td>3000</td>\n",
       "      <td>70</td>\n",
       "      <td>7</td>\n",
       "      <td>0.01</td>\n",
       "      <td>0.01</td>\n",
       "      <td>ultimate</td>\n",
       "    </tr>\n",
       "  </tbody>\n",
       "</table>\n",
       "</div>"
      ],
      "text/plain": [
       "   messages_included  mb_per_month_included  minutes_included  \\\n",
       "0                 50                  15360               500   \n",
       "1               1000                  30720              3000   \n",
       "\n",
       "   usd_monthly_fee  usd_per_gb  usd_per_message  usd_per_minute plan_name  \n",
       "0               20          10             0.03            0.03      surf  \n",
       "1               70           7             0.01            0.01  ultimate  "
      ]
     },
     "execution_count": 23,
     "metadata": {},
     "output_type": "execute_result"
    }
   ],
   "source": [
    "# Imprime las condiciones de la tarifa y asegúrate de que te quedan claras\n",
    "plans.info()\n",
    "plans\n"
   ]
  },
  {
   "cell_type": "markdown",
   "metadata": {
    "id": "hMR1tP5d0q1F"
   },
   "source": [
    "## Agregar datos por usuario\n"
   ]
  },
  {
   "cell_type": "code",
   "execution_count": 24,
   "metadata": {
    "scrolled": true
   },
   "outputs": [],
   "source": [
    "calls['duration']=np.ceil(calls['duration'])"
   ]
  },
  {
   "cell_type": "code",
   "execution_count": 25,
   "metadata": {},
   "outputs": [
    {
     "name": "stdout",
     "output_type": "stream",
     "text": [
      "      user_id  month  duration\n",
      "0        1000     12     124.0\n",
      "1        1001      8     182.0\n",
      "2        1001      9     315.0\n",
      "3        1001     10     393.0\n",
      "4        1001     11     426.0\n",
      "...       ...    ...       ...\n",
      "2253     1498      6     238.0\n",
      "2254     1499     10     385.0\n",
      "2255     1499     11     308.0\n",
      "2256     1499      9     346.0\n",
      "2257     1499     12     496.0\n",
      "\n",
      "[2258 rows x 3 columns]\n"
     ]
    }
   ],
   "source": [
    "mins= calls.groupby(['user_id','month']).sum().sort_values(by='user_id')\n",
    "mins.reset_index(inplace=True)\n",
    "print(mins)"
   ]
  },
  {
   "cell_type": "code",
   "execution_count": 26,
   "metadata": {
    "id": "A332cedB0q1G"
   },
   "outputs": [
    {
     "name": "stdout",
     "output_type": "stream",
     "text": [
      "      user_id  month  call_q\n",
      "0        1000     12      16\n",
      "1        1001      8      27\n",
      "2        1001      9      49\n",
      "3        1001     10      65\n",
      "4        1001     11      64\n",
      "...       ...    ...     ...\n",
      "2253     1498      6      37\n",
      "2254     1499     10      53\n",
      "2255     1499     11      45\n",
      "2256     1499      9      41\n",
      "2257     1499     12      65\n",
      "\n",
      "[2258 rows x 3 columns]\n"
     ]
    }
   ],
   "source": [
    "# Calcula el número de llamadas hechas por cada usuario al mes. Guarda el resultado.\n",
    "call= calls.groupby(['user_id','month']).count().sort_values(by='user_id')\n",
    "\n",
    "call.reset_index(inplace=True)\n",
    "\n",
    "call= call[['user_id','month','id']]\n",
    "call.rename(columns={'id':'call_q'},inplace=True)\n",
    "print(call)\n"
   ]
  },
  {
   "cell_type": "code",
   "execution_count": 27,
   "metadata": {
    "id": "aw2cmuql0q1G",
    "scrolled": true
   },
   "outputs": [
    {
     "name": "stdout",
     "output_type": "stream",
     "text": [
      "   user_id  month  duration\n",
      "0     1000     12     124.0\n",
      "1     1001      8     182.0\n",
      "2     1001      9     315.0\n",
      "3     1001     10     393.0\n",
      "4     1001     11     426.0\n"
     ]
    }
   ],
   "source": [
    "# Calcula la cantidad de minutos usados por cada usuario al mes. Guarda el resultado.\n",
    "print(mins.head())\n",
    "#print(mins[mins['user_id']==1001])\n"
   ]
  },
  {
   "cell_type": "code",
   "execution_count": 28,
   "metadata": {
    "id": "CcQvNHn60q1G",
    "scrolled": true
   },
   "outputs": [
    {
     "name": "stdout",
     "output_type": "stream",
     "text": [
      "      user_id  month  message_q\n",
      "0        1000     12       11.0\n",
      "1        1001      8       30.0\n",
      "2        1001      9       44.0\n",
      "3        1001     10       53.0\n",
      "4        1001     11       36.0\n",
      "...       ...    ...        ...\n",
      "1801     1496     10       18.0\n",
      "1802     1496     12       11.0\n",
      "1803     1496      8        2.0\n",
      "1804     1496      9       21.0\n",
      "1805     1497     12       50.0\n",
      "\n",
      "[1806 rows x 3 columns]\n"
     ]
    },
    {
     "name": "stderr",
     "output_type": "stream",
     "text": [
      "/opt/conda/envs/python3/lib/python3.9/site-packages/pandas/core/frame.py:4441: SettingWithCopyWarning: \n",
      "A value is trying to be set on a copy of a slice from a DataFrame\n",
      "\n",
      "See the caveats in the documentation: https://pandas.pydata.org/pandas-docs/stable/user_guide/indexing.html#returning-a-view-versus-a-copy\n",
      "  return super().rename(\n",
      "/tmp/ipykernel_1353/916939341.py:7: SettingWithCopyWarning: \n",
      "A value is trying to be set on a copy of a slice from a DataFrame.\n",
      "Try using .loc[row_indexer,col_indexer] = value instead\n",
      "\n",
      "See the caveats in the documentation: https://pandas.pydata.org/pandas-docs/stable/user_guide/indexing.html#returning-a-view-versus-a-copy\n",
      "  message_q['message_q']= message_q['message_q'].astype(float)\n"
     ]
    }
   ],
   "source": [
    "# Calcula el número de mensajes enviados por cada usuario al mes. Guarda el resultado.\n",
    "message= messages.groupby(['user_id','month']).count().sort_values(by='user_id')\n",
    "\n",
    "message.reset_index(inplace=True)\n",
    "message_q= message[['user_id','month','id']]\n",
    "message_q.rename(columns={'id':'message_q'}, inplace=True)\n",
    "message_q['message_q']= message_q['message_q'].astype(float)\n",
    "print(message_q)\n"
   ]
  },
  {
   "cell_type": "code",
   "execution_count": 29,
   "metadata": {
    "scrolled": true
   },
   "outputs": [
    {
     "data": {
      "text/html": [
       "<div>\n",
       "<style scoped>\n",
       "    .dataframe tbody tr th:only-of-type {\n",
       "        vertical-align: middle;\n",
       "    }\n",
       "\n",
       "    .dataframe tbody tr th {\n",
       "        vertical-align: top;\n",
       "    }\n",
       "\n",
       "    .dataframe thead th {\n",
       "        text-align: right;\n",
       "    }\n",
       "</style>\n",
       "<table border=\"1\" class=\"dataframe\">\n",
       "  <thead>\n",
       "    <tr style=\"text-align: right;\">\n",
       "      <th></th>\n",
       "      <th>id</th>\n",
       "      <th>user_id</th>\n",
       "      <th>session_date</th>\n",
       "      <th>mb_used</th>\n",
       "      <th>month</th>\n",
       "    </tr>\n",
       "  </thead>\n",
       "  <tbody>\n",
       "    <tr>\n",
       "      <th>0</th>\n",
       "      <td>1000_13</td>\n",
       "      <td>1000</td>\n",
       "      <td>2018-12-29</td>\n",
       "      <td>89.86</td>\n",
       "      <td>12</td>\n",
       "    </tr>\n",
       "    <tr>\n",
       "      <th>1</th>\n",
       "      <td>1000_204</td>\n",
       "      <td>1000</td>\n",
       "      <td>2018-12-31</td>\n",
       "      <td>0.00</td>\n",
       "      <td>12</td>\n",
       "    </tr>\n",
       "    <tr>\n",
       "      <th>2</th>\n",
       "      <td>1000_379</td>\n",
       "      <td>1000</td>\n",
       "      <td>2018-12-28</td>\n",
       "      <td>660.40</td>\n",
       "      <td>12</td>\n",
       "    </tr>\n",
       "    <tr>\n",
       "      <th>3</th>\n",
       "      <td>1000_413</td>\n",
       "      <td>1000</td>\n",
       "      <td>2018-12-26</td>\n",
       "      <td>270.99</td>\n",
       "      <td>12</td>\n",
       "    </tr>\n",
       "    <tr>\n",
       "      <th>4</th>\n",
       "      <td>1000_442</td>\n",
       "      <td>1000</td>\n",
       "      <td>2018-12-27</td>\n",
       "      <td>880.22</td>\n",
       "      <td>12</td>\n",
       "    </tr>\n",
       "  </tbody>\n",
       "</table>\n",
       "</div>"
      ],
      "text/plain": [
       "         id  user_id session_date  mb_used  month\n",
       "0   1000_13     1000   2018-12-29    89.86     12\n",
       "1  1000_204     1000   2018-12-31     0.00     12\n",
       "2  1000_379     1000   2018-12-28   660.40     12\n",
       "3  1000_413     1000   2018-12-26   270.99     12\n",
       "4  1000_442     1000   2018-12-27   880.22     12"
      ]
     },
     "execution_count": 29,
     "metadata": {},
     "output_type": "execute_result"
    }
   ],
   "source": [
    "internet.head()"
   ]
  },
  {
   "cell_type": "code",
   "execution_count": 30,
   "metadata": {
    "scrolled": false
   },
   "outputs": [],
   "source": [
    "internet['mb_used']=np.ceil(internet['mb_used'])"
   ]
  },
  {
   "cell_type": "code",
   "execution_count": 31,
   "metadata": {},
   "outputs": [],
   "source": [
    "internet['mb_used']=(internet['mb_used']/1024)"
   ]
  },
  {
   "cell_type": "code",
   "execution_count": 32,
   "metadata": {},
   "outputs": [
    {
     "data": {
      "text/html": [
       "<div>\n",
       "<style scoped>\n",
       "    .dataframe tbody tr th:only-of-type {\n",
       "        vertical-align: middle;\n",
       "    }\n",
       "\n",
       "    .dataframe tbody tr th {\n",
       "        vertical-align: top;\n",
       "    }\n",
       "\n",
       "    .dataframe thead th {\n",
       "        text-align: right;\n",
       "    }\n",
       "</style>\n",
       "<table border=\"1\" class=\"dataframe\">\n",
       "  <thead>\n",
       "    <tr style=\"text-align: right;\">\n",
       "      <th></th>\n",
       "      <th>id</th>\n",
       "      <th>user_id</th>\n",
       "      <th>session_date</th>\n",
       "      <th>gb_used</th>\n",
       "      <th>month</th>\n",
       "    </tr>\n",
       "  </thead>\n",
       "  <tbody>\n",
       "    <tr>\n",
       "      <th>0</th>\n",
       "      <td>1000_13</td>\n",
       "      <td>1000</td>\n",
       "      <td>2018-12-29</td>\n",
       "      <td>0.087891</td>\n",
       "      <td>12</td>\n",
       "    </tr>\n",
       "    <tr>\n",
       "      <th>1</th>\n",
       "      <td>1000_204</td>\n",
       "      <td>1000</td>\n",
       "      <td>2018-12-31</td>\n",
       "      <td>0.000000</td>\n",
       "      <td>12</td>\n",
       "    </tr>\n",
       "    <tr>\n",
       "      <th>2</th>\n",
       "      <td>1000_379</td>\n",
       "      <td>1000</td>\n",
       "      <td>2018-12-28</td>\n",
       "      <td>0.645508</td>\n",
       "      <td>12</td>\n",
       "    </tr>\n",
       "    <tr>\n",
       "      <th>3</th>\n",
       "      <td>1000_413</td>\n",
       "      <td>1000</td>\n",
       "      <td>2018-12-26</td>\n",
       "      <td>0.264648</td>\n",
       "      <td>12</td>\n",
       "    </tr>\n",
       "    <tr>\n",
       "      <th>4</th>\n",
       "      <td>1000_442</td>\n",
       "      <td>1000</td>\n",
       "      <td>2018-12-27</td>\n",
       "      <td>0.860352</td>\n",
       "      <td>12</td>\n",
       "    </tr>\n",
       "  </tbody>\n",
       "</table>\n",
       "</div>"
      ],
      "text/plain": [
       "         id  user_id session_date   gb_used  month\n",
       "0   1000_13     1000   2018-12-29  0.087891     12\n",
       "1  1000_204     1000   2018-12-31  0.000000     12\n",
       "2  1000_379     1000   2018-12-28  0.645508     12\n",
       "3  1000_413     1000   2018-12-26  0.264648     12\n",
       "4  1000_442     1000   2018-12-27  0.860352     12"
      ]
     },
     "execution_count": 32,
     "metadata": {},
     "output_type": "execute_result"
    }
   ],
   "source": [
    "internet.rename(columns={'mb_used':'gb_used'},inplace=True)\n",
    "internet.head()"
   ]
  },
  {
   "cell_type": "code",
   "execution_count": 33,
   "metadata": {
    "id": "H1AqN2eG0q1H",
    "scrolled": false
   },
   "outputs": [
    {
     "name": "stdout",
     "output_type": "stream",
     "text": [
      "      user_id  month    gb_used\n",
      "0        1000     12   1.858398\n",
      "1        1001      8   6.766602\n",
      "2        1001      9  13.020508\n",
      "3        1001     10  21.832031\n",
      "4        1001     11  18.089844\n",
      "...       ...    ...        ...\n",
      "2272     1498      6  14.477539\n",
      "2273     1499     10  19.057617\n",
      "2274     1499     11  16.439453\n",
      "2275     1499      9  12.699219\n",
      "2276     1499     12  21.573242\n",
      "\n",
      "[2277 rows x 3 columns]\n"
     ]
    }
   ],
   "source": [
    "# Calcula el volumen del tráfico de Internet usado por cada usuario al mes. Guarda el resultado.\n",
    "web_t= internet.groupby(['user_id','month']).sum().sort_values(by='user_id')\n",
    "web_t.reset_index(inplace=True)\n",
    "\n",
    "print(web_t)\n",
    "\n"
   ]
  },
  {
   "cell_type": "code",
   "execution_count": 34,
   "metadata": {
    "scrolled": false
   },
   "outputs": [
    {
     "name": "stdout",
     "output_type": "stream",
     "text": [
      "   user_id  month  duration\n",
      "1     1001      8     182.0\n",
      "2     1001      9     315.0\n",
      "3     1001     10     393.0\n",
      "4     1001     11     426.0\n",
      "5     1001     12     412.0\n",
      "/\n",
      "   user_id  month  message_q\n",
      "1     1001      8       30.0\n",
      "2     1001      9       44.0\n",
      "3     1001     10       53.0\n",
      "4     1001     11       36.0\n",
      "5     1001     12       44.0\n",
      "/\n",
      "   user_id  month    gb_used\n",
      "1     1001      8   6.766602\n",
      "2     1001      9  13.020508\n",
      "3     1001     10  21.832031\n",
      "4     1001     11  18.089844\n",
      "5     1001     12  18.943359\n"
     ]
    }
   ],
   "source": [
    "print(mins[mins['user_id']==1001])\n",
    "print('/')\n",
    "print(message_q[message_q['user_id']==1001])\n",
    "print('/')\n",
    "print(web_t[web_t['user_id']==1001])\n"
   ]
  },
  {
   "cell_type": "code",
   "execution_count": 35,
   "metadata": {
    "id": "FW99ykyf0q1H",
    "scrolled": false
   },
   "outputs": [
    {
     "data": {
      "text/html": [
       "<div>\n",
       "<style scoped>\n",
       "    .dataframe tbody tr th:only-of-type {\n",
       "        vertical-align: middle;\n",
       "    }\n",
       "\n",
       "    .dataframe tbody tr th {\n",
       "        vertical-align: top;\n",
       "    }\n",
       "\n",
       "    .dataframe thead th {\n",
       "        text-align: right;\n",
       "    }\n",
       "</style>\n",
       "<table border=\"1\" class=\"dataframe\">\n",
       "  <thead>\n",
       "    <tr style=\"text-align: right;\">\n",
       "      <th></th>\n",
       "      <th>user_id</th>\n",
       "      <th>month</th>\n",
       "      <th>duration</th>\n",
       "      <th>message_q</th>\n",
       "      <th>gb_used</th>\n",
       "    </tr>\n",
       "  </thead>\n",
       "  <tbody>\n",
       "    <tr>\n",
       "      <th>0</th>\n",
       "      <td>1000</td>\n",
       "      <td>12</td>\n",
       "      <td>124.0</td>\n",
       "      <td>11.0</td>\n",
       "      <td>1.858398</td>\n",
       "    </tr>\n",
       "    <tr>\n",
       "      <th>1</th>\n",
       "      <td>1001</td>\n",
       "      <td>8</td>\n",
       "      <td>182.0</td>\n",
       "      <td>30.0</td>\n",
       "      <td>6.766602</td>\n",
       "    </tr>\n",
       "    <tr>\n",
       "      <th>2</th>\n",
       "      <td>1001</td>\n",
       "      <td>9</td>\n",
       "      <td>315.0</td>\n",
       "      <td>44.0</td>\n",
       "      <td>13.020508</td>\n",
       "    </tr>\n",
       "    <tr>\n",
       "      <th>3</th>\n",
       "      <td>1001</td>\n",
       "      <td>10</td>\n",
       "      <td>393.0</td>\n",
       "      <td>53.0</td>\n",
       "      <td>21.832031</td>\n",
       "    </tr>\n",
       "    <tr>\n",
       "      <th>4</th>\n",
       "      <td>1001</td>\n",
       "      <td>11</td>\n",
       "      <td>426.0</td>\n",
       "      <td>36.0</td>\n",
       "      <td>18.089844</td>\n",
       "    </tr>\n",
       "    <tr>\n",
       "      <th>...</th>\n",
       "      <td>...</td>\n",
       "      <td>...</td>\n",
       "      <td>...</td>\n",
       "      <td>...</td>\n",
       "      <td>...</td>\n",
       "    </tr>\n",
       "    <tr>\n",
       "      <th>1754</th>\n",
       "      <td>1496</td>\n",
       "      <td>11</td>\n",
       "      <td>308.0</td>\n",
       "      <td>13.0</td>\n",
       "      <td>8.360352</td>\n",
       "    </tr>\n",
       "    <tr>\n",
       "      <th>1755</th>\n",
       "      <td>1496</td>\n",
       "      <td>9</td>\n",
       "      <td>414.0</td>\n",
       "      <td>21.0</td>\n",
       "      <td>16.027344</td>\n",
       "    </tr>\n",
       "    <tr>\n",
       "      <th>1756</th>\n",
       "      <td>1496</td>\n",
       "      <td>8</td>\n",
       "      <td>122.0</td>\n",
       "      <td>2.0</td>\n",
       "      <td>8.414062</td>\n",
       "    </tr>\n",
       "    <tr>\n",
       "      <th>1757</th>\n",
       "      <td>1496</td>\n",
       "      <td>10</td>\n",
       "      <td>317.0</td>\n",
       "      <td>18.0</td>\n",
       "      <td>13.972656</td>\n",
       "    </tr>\n",
       "    <tr>\n",
       "      <th>1758</th>\n",
       "      <td>1497</td>\n",
       "      <td>12</td>\n",
       "      <td>300.0</td>\n",
       "      <td>50.0</td>\n",
       "      <td>10.859375</td>\n",
       "    </tr>\n",
       "  </tbody>\n",
       "</table>\n",
       "<p>1759 rows × 5 columns</p>\n",
       "</div>"
      ],
      "text/plain": [
       "      user_id  month  duration  message_q    gb_used\n",
       "0        1000     12     124.0       11.0   1.858398\n",
       "1        1001      8     182.0       30.0   6.766602\n",
       "2        1001      9     315.0       44.0  13.020508\n",
       "3        1001     10     393.0       53.0  21.832031\n",
       "4        1001     11     426.0       36.0  18.089844\n",
       "...       ...    ...       ...        ...        ...\n",
       "1754     1496     11     308.0       13.0   8.360352\n",
       "1755     1496      9     414.0       21.0  16.027344\n",
       "1756     1496      8     122.0        2.0   8.414062\n",
       "1757     1496     10     317.0       18.0  13.972656\n",
       "1758     1497     12     300.0       50.0  10.859375\n",
       "\n",
       "[1759 rows x 5 columns]"
      ]
     },
     "execution_count": 35,
     "metadata": {},
     "output_type": "execute_result"
    }
   ],
   "source": [
    "# Fusiona los datos de llamadas, minutos, mensajes e Internet con base en user_id y month\n",
    "merged_df = pd.merge(mins, message_q, on=['user_id','month'])\n",
    "merged_df= pd.merge(merged_df, web_t, on=['user_id','month'])\n",
    "\n",
    "merged_df\n",
    "\n"
   ]
  },
  {
   "cell_type": "code",
   "execution_count": 36,
   "metadata": {
    "scrolled": false
   },
   "outputs": [],
   "source": [
    "plans['mb_per_month_included']=(plans['mb_per_month_included']/1024)"
   ]
  },
  {
   "cell_type": "code",
   "execution_count": 37,
   "metadata": {
    "scrolled": true
   },
   "outputs": [
    {
     "data": {
      "text/html": [
       "<div>\n",
       "<style scoped>\n",
       "    .dataframe tbody tr th:only-of-type {\n",
       "        vertical-align: middle;\n",
       "    }\n",
       "\n",
       "    .dataframe tbody tr th {\n",
       "        vertical-align: top;\n",
       "    }\n",
       "\n",
       "    .dataframe thead th {\n",
       "        text-align: right;\n",
       "    }\n",
       "</style>\n",
       "<table border=\"1\" class=\"dataframe\">\n",
       "  <thead>\n",
       "    <tr style=\"text-align: right;\">\n",
       "      <th></th>\n",
       "      <th>messages_included</th>\n",
       "      <th>gb_per_month_included</th>\n",
       "      <th>minutes_included</th>\n",
       "      <th>usd_monthly_fee</th>\n",
       "      <th>usd_per_gb</th>\n",
       "      <th>usd_per_message</th>\n",
       "      <th>usd_per_minute</th>\n",
       "      <th>plan_name</th>\n",
       "    </tr>\n",
       "  </thead>\n",
       "  <tbody>\n",
       "    <tr>\n",
       "      <th>0</th>\n",
       "      <td>50</td>\n",
       "      <td>15.0</td>\n",
       "      <td>500</td>\n",
       "      <td>20</td>\n",
       "      <td>10</td>\n",
       "      <td>0.03</td>\n",
       "      <td>0.03</td>\n",
       "      <td>surf</td>\n",
       "    </tr>\n",
       "    <tr>\n",
       "      <th>1</th>\n",
       "      <td>1000</td>\n",
       "      <td>30.0</td>\n",
       "      <td>3000</td>\n",
       "      <td>70</td>\n",
       "      <td>7</td>\n",
       "      <td>0.01</td>\n",
       "      <td>0.01</td>\n",
       "      <td>ultimate</td>\n",
       "    </tr>\n",
       "  </tbody>\n",
       "</table>\n",
       "</div>"
      ],
      "text/plain": [
       "   messages_included  gb_per_month_included  minutes_included  \\\n",
       "0                 50                   15.0               500   \n",
       "1               1000                   30.0              3000   \n",
       "\n",
       "   usd_monthly_fee  usd_per_gb  usd_per_message  usd_per_minute plan_name  \n",
       "0               20          10             0.03            0.03      surf  \n",
       "1               70           7             0.01            0.01  ultimate  "
      ]
     },
     "execution_count": 37,
     "metadata": {},
     "output_type": "execute_result"
    }
   ],
   "source": [
    "plans.rename(columns={'mb_per_month_included':'gb_per_month_included'},inplace=True)\n",
    "plans"
   ]
  },
  {
   "cell_type": "code",
   "execution_count": 38,
   "metadata": {
    "id": "0dNOXHag0q1H",
    "scrolled": true
   },
   "outputs": [
    {
     "data": {
      "text/html": [
       "<div>\n",
       "<style scoped>\n",
       "    .dataframe tbody tr th:only-of-type {\n",
       "        vertical-align: middle;\n",
       "    }\n",
       "\n",
       "    .dataframe tbody tr th {\n",
       "        vertical-align: top;\n",
       "    }\n",
       "\n",
       "    .dataframe thead th {\n",
       "        text-align: right;\n",
       "    }\n",
       "</style>\n",
       "<table border=\"1\" class=\"dataframe\">\n",
       "  <thead>\n",
       "    <tr style=\"text-align: right;\">\n",
       "      <th></th>\n",
       "      <th>user_id</th>\n",
       "      <th>month</th>\n",
       "      <th>duration</th>\n",
       "      <th>message_q</th>\n",
       "      <th>gb_used</th>\n",
       "      <th>city</th>\n",
       "      <th>plan</th>\n",
       "      <th>bill</th>\n",
       "    </tr>\n",
       "  </thead>\n",
       "  <tbody>\n",
       "    <tr>\n",
       "      <th>0</th>\n",
       "      <td>1000</td>\n",
       "      <td>12</td>\n",
       "      <td>124.0</td>\n",
       "      <td>11.0</td>\n",
       "      <td>2.0</td>\n",
       "      <td>Atlanta-Sandy Springs-Roswell, GA MSA</td>\n",
       "      <td>ultimate</td>\n",
       "      <td>0.0</td>\n",
       "    </tr>\n",
       "    <tr>\n",
       "      <th>1</th>\n",
       "      <td>1001</td>\n",
       "      <td>8</td>\n",
       "      <td>182.0</td>\n",
       "      <td>30.0</td>\n",
       "      <td>7.0</td>\n",
       "      <td>Seattle-Tacoma-Bellevue, WA MSA</td>\n",
       "      <td>surf</td>\n",
       "      <td>0.0</td>\n",
       "    </tr>\n",
       "    <tr>\n",
       "      <th>2</th>\n",
       "      <td>1001</td>\n",
       "      <td>9</td>\n",
       "      <td>315.0</td>\n",
       "      <td>44.0</td>\n",
       "      <td>14.0</td>\n",
       "      <td>Seattle-Tacoma-Bellevue, WA MSA</td>\n",
       "      <td>surf</td>\n",
       "      <td>0.0</td>\n",
       "    </tr>\n",
       "    <tr>\n",
       "      <th>3</th>\n",
       "      <td>1001</td>\n",
       "      <td>10</td>\n",
       "      <td>393.0</td>\n",
       "      <td>53.0</td>\n",
       "      <td>22.0</td>\n",
       "      <td>Seattle-Tacoma-Bellevue, WA MSA</td>\n",
       "      <td>surf</td>\n",
       "      <td>0.0</td>\n",
       "    </tr>\n",
       "    <tr>\n",
       "      <th>4</th>\n",
       "      <td>1001</td>\n",
       "      <td>11</td>\n",
       "      <td>426.0</td>\n",
       "      <td>36.0</td>\n",
       "      <td>19.0</td>\n",
       "      <td>Seattle-Tacoma-Bellevue, WA MSA</td>\n",
       "      <td>surf</td>\n",
       "      <td>0.0</td>\n",
       "    </tr>\n",
       "    <tr>\n",
       "      <th>...</th>\n",
       "      <td>...</td>\n",
       "      <td>...</td>\n",
       "      <td>...</td>\n",
       "      <td>...</td>\n",
       "      <td>...</td>\n",
       "      <td>...</td>\n",
       "      <td>...</td>\n",
       "      <td>...</td>\n",
       "    </tr>\n",
       "    <tr>\n",
       "      <th>1754</th>\n",
       "      <td>1496</td>\n",
       "      <td>11</td>\n",
       "      <td>308.0</td>\n",
       "      <td>13.0</td>\n",
       "      <td>9.0</td>\n",
       "      <td>New Orleans-Metairie, LA MSA</td>\n",
       "      <td>surf</td>\n",
       "      <td>0.0</td>\n",
       "    </tr>\n",
       "    <tr>\n",
       "      <th>1755</th>\n",
       "      <td>1496</td>\n",
       "      <td>9</td>\n",
       "      <td>414.0</td>\n",
       "      <td>21.0</td>\n",
       "      <td>17.0</td>\n",
       "      <td>New Orleans-Metairie, LA MSA</td>\n",
       "      <td>surf</td>\n",
       "      <td>0.0</td>\n",
       "    </tr>\n",
       "    <tr>\n",
       "      <th>1756</th>\n",
       "      <td>1496</td>\n",
       "      <td>8</td>\n",
       "      <td>122.0</td>\n",
       "      <td>2.0</td>\n",
       "      <td>9.0</td>\n",
       "      <td>New Orleans-Metairie, LA MSA</td>\n",
       "      <td>surf</td>\n",
       "      <td>0.0</td>\n",
       "    </tr>\n",
       "    <tr>\n",
       "      <th>1757</th>\n",
       "      <td>1496</td>\n",
       "      <td>10</td>\n",
       "      <td>317.0</td>\n",
       "      <td>18.0</td>\n",
       "      <td>14.0</td>\n",
       "      <td>New Orleans-Metairie, LA MSA</td>\n",
       "      <td>surf</td>\n",
       "      <td>0.0</td>\n",
       "    </tr>\n",
       "    <tr>\n",
       "      <th>1758</th>\n",
       "      <td>1497</td>\n",
       "      <td>12</td>\n",
       "      <td>300.0</td>\n",
       "      <td>50.0</td>\n",
       "      <td>11.0</td>\n",
       "      <td>Los Angeles-Long Beach-Anaheim, CA MSA</td>\n",
       "      <td>ultimate</td>\n",
       "      <td>0.0</td>\n",
       "    </tr>\n",
       "  </tbody>\n",
       "</table>\n",
       "<p>1759 rows × 8 columns</p>\n",
       "</div>"
      ],
      "text/plain": [
       "      user_id  month  duration  message_q  gb_used  \\\n",
       "0        1000     12     124.0       11.0      2.0   \n",
       "1        1001      8     182.0       30.0      7.0   \n",
       "2        1001      9     315.0       44.0     14.0   \n",
       "3        1001     10     393.0       53.0     22.0   \n",
       "4        1001     11     426.0       36.0     19.0   \n",
       "...       ...    ...       ...        ...      ...   \n",
       "1754     1496     11     308.0       13.0      9.0   \n",
       "1755     1496      9     414.0       21.0     17.0   \n",
       "1756     1496      8     122.0        2.0      9.0   \n",
       "1757     1496     10     317.0       18.0     14.0   \n",
       "1758     1497     12     300.0       50.0     11.0   \n",
       "\n",
       "                                        city      plan  bill  \n",
       "0      Atlanta-Sandy Springs-Roswell, GA MSA  ultimate   0.0  \n",
       "1            Seattle-Tacoma-Bellevue, WA MSA      surf   0.0  \n",
       "2            Seattle-Tacoma-Bellevue, WA MSA      surf   0.0  \n",
       "3            Seattle-Tacoma-Bellevue, WA MSA      surf   0.0  \n",
       "4            Seattle-Tacoma-Bellevue, WA MSA      surf   0.0  \n",
       "...                                      ...       ...   ...  \n",
       "1754            New Orleans-Metairie, LA MSA      surf   0.0  \n",
       "1755            New Orleans-Metairie, LA MSA      surf   0.0  \n",
       "1756            New Orleans-Metairie, LA MSA      surf   0.0  \n",
       "1757            New Orleans-Metairie, LA MSA      surf   0.0  \n",
       "1758  Los Angeles-Long Beach-Anaheim, CA MSA  ultimate   0.0  \n",
       "\n",
       "[1759 rows x 8 columns]"
      ]
     },
     "execution_count": 38,
     "metadata": {},
     "output_type": "execute_result"
    }
   ],
   "source": [
    "# Añade la información de la tarifa\n",
    "mdf= pd.merge(merged_df,users, left_on =['user_id'], right_on=['user_id'])\n",
    "mdf.rename(columns={'mb_used_y':'mb_used'},inplace=True)\n",
    "mdf.drop(['first_name','last_name','age','reg_date','churn_date'], axis=1, inplace=True)\n",
    "mdf['gb_used']=np.ceil(mdf['gb_used'])\n",
    "#mdf.bill=mdf.bill.astype(float)\n",
    "\n",
    "mdf\n",
    "\n"
   ]
  },
  {
   "cell_type": "code",
   "execution_count": 39,
   "metadata": {
    "scrolled": true
   },
   "outputs": [
    {
     "data": {
      "text/html": [
       "<div>\n",
       "<style scoped>\n",
       "    .dataframe tbody tr th:only-of-type {\n",
       "        vertical-align: middle;\n",
       "    }\n",
       "\n",
       "    .dataframe tbody tr th {\n",
       "        vertical-align: top;\n",
       "    }\n",
       "\n",
       "    .dataframe thead th {\n",
       "        text-align: right;\n",
       "    }\n",
       "</style>\n",
       "<table border=\"1\" class=\"dataframe\">\n",
       "  <thead>\n",
       "    <tr style=\"text-align: right;\">\n",
       "      <th></th>\n",
       "      <th>messages_included</th>\n",
       "      <th>gb_per_month_included</th>\n",
       "      <th>minutes_included</th>\n",
       "      <th>usd_monthly_fee</th>\n",
       "      <th>usd_per_gb</th>\n",
       "      <th>usd_per_message</th>\n",
       "      <th>usd_per_minute</th>\n",
       "      <th>plan_name</th>\n",
       "    </tr>\n",
       "  </thead>\n",
       "  <tbody>\n",
       "    <tr>\n",
       "      <th>0</th>\n",
       "      <td>50</td>\n",
       "      <td>15.0</td>\n",
       "      <td>500</td>\n",
       "      <td>20</td>\n",
       "      <td>10</td>\n",
       "      <td>0.03</td>\n",
       "      <td>0.03</td>\n",
       "      <td>surf</td>\n",
       "    </tr>\n",
       "    <tr>\n",
       "      <th>1</th>\n",
       "      <td>1000</td>\n",
       "      <td>30.0</td>\n",
       "      <td>3000</td>\n",
       "      <td>70</td>\n",
       "      <td>7</td>\n",
       "      <td>0.01</td>\n",
       "      <td>0.01</td>\n",
       "      <td>ultimate</td>\n",
       "    </tr>\n",
       "  </tbody>\n",
       "</table>\n",
       "</div>"
      ],
      "text/plain": [
       "   messages_included  gb_per_month_included  minutes_included  \\\n",
       "0                 50                   15.0               500   \n",
       "1               1000                   30.0              3000   \n",
       "\n",
       "   usd_monthly_fee  usd_per_gb  usd_per_message  usd_per_minute plan_name  \n",
       "0               20          10             0.03            0.03      surf  \n",
       "1               70           7             0.01            0.01  ultimate  "
      ]
     },
     "execution_count": 39,
     "metadata": {},
     "output_type": "execute_result"
    }
   ],
   "source": [
    "plans"
   ]
  },
  {
   "cell_type": "code",
   "execution_count": 40,
   "metadata": {
    "scrolled": true
   },
   "outputs": [
    {
     "name": "stderr",
     "output_type": "stream",
     "text": [
      "/tmp/ipykernel_1353/1825114458.py:39: SettingWithCopyWarning: \n",
      "A value is trying to be set on a copy of a slice from a DataFrame\n",
      "\n",
      "See the caveats in the documentation: https://pandas.pydata.org/pandas-docs/stable/user_guide/indexing.html#returning-a-view-versus-a-copy\n",
      "  mdf['bill'][i]=bill\n"
     ]
    }
   ],
   "source": [
    "# Calcula el ingreso mensual para cada usuario\n",
    "for i in range (len(mdf)):\n",
    "\n",
    "    plan= [mdf.loc[i,'plan']]\n",
    "\n",
    "    bill= plans[plans['plan_name'].isin(plan)]['usd_monthly_fee'].astype(float)\n",
    "\n",
    "    message_inc=plans[plans['plan_name'].isin(plan)]['messages_included'].reset_index(drop=True)\n",
    "\n",
    "    gb_inc =plans[plans['plan_name'].isin(plan)]['gb_per_month_included'].reset_index(drop=True)\n",
    "\n",
    "    min_inc=plans[plans['plan_name'].isin(plan)]['minutes_included'].reset_index(drop=True)\n",
    "\n",
    "\n",
    "    usd_month=plans[plans['plan_name'].isin(plan)]['usd_monthly_fee'].reset_index(drop=True)\n",
    "\n",
    "\n",
    "    usd_pgb=plans[plans['plan_name'].isin(plan)]['usd_per_gb'].reset_index(drop=True)\n",
    "    usd_pmess=plans[plans['plan_name'].isin(plan)]['usd_per_message'].reset_index(drop=True)\n",
    "    usd_pmin= plans[plans['plan_name'].isin(plan)]['usd_per_minute'].reset_index(drop=True)\n",
    "\n",
    "\n",
    "    #print(mdf['duration'][i])\n",
    "    if mdf['duration'][i] > min_inc[0]:\n",
    "        bill+=(mdf['duration'][i]-min_inc)* (usd_pmin)\n",
    "\n",
    "    if mdf['message_q'][i] > message_inc[0]:\n",
    "        bill+=(mdf['message_q'][i]- message_inc)* (usd_pmess)\n",
    "    #print(i,mb_inc[0])\n",
    "    \n",
    "    if mdf['gb_used'][i] > gb_inc[0]:\n",
    "        bill+= (mdf['gb_used'][i] - gb_inc[0]) *(usd_pgb[0])\n",
    "        \n",
    "#     print(i,mdf['gb_used'][i], 'indice ,gb utilizados')\n",
    "#     print(gb_inc[0], 'gb incl')\n",
    "#     print(bill)\n",
    "        #bill+= math.ceil((mdf['mb_used'][i] - mb_inc[0])/1024) *(usd_pgb[0])\n",
    "\n",
    "    mdf['bill'][i]=bill\n",
    "\n"
   ]
  },
  {
   "cell_type": "code",
   "execution_count": 41,
   "metadata": {
    "scrolled": false
   },
   "outputs": [
    {
     "data": {
      "text/html": [
       "<div>\n",
       "<style scoped>\n",
       "    .dataframe tbody tr th:only-of-type {\n",
       "        vertical-align: middle;\n",
       "    }\n",
       "\n",
       "    .dataframe tbody tr th {\n",
       "        vertical-align: top;\n",
       "    }\n",
       "\n",
       "    .dataframe thead th {\n",
       "        text-align: right;\n",
       "    }\n",
       "</style>\n",
       "<table border=\"1\" class=\"dataframe\">\n",
       "  <thead>\n",
       "    <tr style=\"text-align: right;\">\n",
       "      <th></th>\n",
       "      <th>user_id</th>\n",
       "      <th>month</th>\n",
       "      <th>duration</th>\n",
       "      <th>message_q</th>\n",
       "      <th>gb_used</th>\n",
       "      <th>city</th>\n",
       "      <th>plan</th>\n",
       "      <th>bill</th>\n",
       "    </tr>\n",
       "  </thead>\n",
       "  <tbody>\n",
       "    <tr>\n",
       "      <th>0</th>\n",
       "      <td>1000</td>\n",
       "      <td>12</td>\n",
       "      <td>124.0</td>\n",
       "      <td>11.0</td>\n",
       "      <td>2.0</td>\n",
       "      <td>Atlanta-Sandy Springs-Roswell, GA MSA</td>\n",
       "      <td>ultimate</td>\n",
       "      <td>70.00</td>\n",
       "    </tr>\n",
       "    <tr>\n",
       "      <th>1</th>\n",
       "      <td>1001</td>\n",
       "      <td>8</td>\n",
       "      <td>182.0</td>\n",
       "      <td>30.0</td>\n",
       "      <td>7.0</td>\n",
       "      <td>Seattle-Tacoma-Bellevue, WA MSA</td>\n",
       "      <td>surf</td>\n",
       "      <td>20.00</td>\n",
       "    </tr>\n",
       "    <tr>\n",
       "      <th>2</th>\n",
       "      <td>1001</td>\n",
       "      <td>9</td>\n",
       "      <td>315.0</td>\n",
       "      <td>44.0</td>\n",
       "      <td>14.0</td>\n",
       "      <td>Seattle-Tacoma-Bellevue, WA MSA</td>\n",
       "      <td>surf</td>\n",
       "      <td>20.00</td>\n",
       "    </tr>\n",
       "    <tr>\n",
       "      <th>3</th>\n",
       "      <td>1001</td>\n",
       "      <td>10</td>\n",
       "      <td>393.0</td>\n",
       "      <td>53.0</td>\n",
       "      <td>22.0</td>\n",
       "      <td>Seattle-Tacoma-Bellevue, WA MSA</td>\n",
       "      <td>surf</td>\n",
       "      <td>90.09</td>\n",
       "    </tr>\n",
       "    <tr>\n",
       "      <th>4</th>\n",
       "      <td>1001</td>\n",
       "      <td>11</td>\n",
       "      <td>426.0</td>\n",
       "      <td>36.0</td>\n",
       "      <td>19.0</td>\n",
       "      <td>Seattle-Tacoma-Bellevue, WA MSA</td>\n",
       "      <td>surf</td>\n",
       "      <td>60.00</td>\n",
       "    </tr>\n",
       "  </tbody>\n",
       "</table>\n",
       "</div>"
      ],
      "text/plain": [
       "   user_id  month  duration  message_q  gb_used  \\\n",
       "0     1000     12     124.0       11.0      2.0   \n",
       "1     1001      8     182.0       30.0      7.0   \n",
       "2     1001      9     315.0       44.0     14.0   \n",
       "3     1001     10     393.0       53.0     22.0   \n",
       "4     1001     11     426.0       36.0     19.0   \n",
       "\n",
       "                                    city      plan   bill  \n",
       "0  Atlanta-Sandy Springs-Roswell, GA MSA  ultimate  70.00  \n",
       "1        Seattle-Tacoma-Bellevue, WA MSA      surf  20.00  \n",
       "2        Seattle-Tacoma-Bellevue, WA MSA      surf  20.00  \n",
       "3        Seattle-Tacoma-Bellevue, WA MSA      surf  90.09  \n",
       "4        Seattle-Tacoma-Bellevue, WA MSA      surf  60.00  "
      ]
     },
     "execution_count": 41,
     "metadata": {},
     "output_type": "execute_result"
    }
   ],
   "source": [
    "mdf.head()\n"
   ]
  },
  {
   "cell_type": "markdown",
   "metadata": {},
   "source": [
    "<div class=\"alert alert-block alert-info\">\n",
    "<b>Respuesta del estudiante: Se realiza el cálculo de tarifas correcto con los nuevos datos previamente calculados: duration de calls redondeada a np.ceil, mb_used trasnformada a GB y redondeada hacia arriba, MB a GB en tabla plans</b> <a class=\"tocSkip\"></a>\n",
    "</div>"
   ]
  },
  {
   "cell_type": "markdown",
   "metadata": {
    "id": "-jtyHzJb0q1I"
   },
   "source": [
    "## Estudia el comportamiento de usuario"
   ]
  },
  {
   "cell_type": "markdown",
   "metadata": {
    "id": "vtW4CJEe0q1J"
   },
   "source": [
    "### Llamadas"
   ]
  },
  {
   "cell_type": "code",
   "execution_count": 42,
   "metadata": {
    "scrolled": true
   },
   "outputs": [
    {
     "data": {
      "text/html": [
       "<div>\n",
       "<style scoped>\n",
       "    .dataframe tbody tr th:only-of-type {\n",
       "        vertical-align: middle;\n",
       "    }\n",
       "\n",
       "    .dataframe tbody tr th {\n",
       "        vertical-align: top;\n",
       "    }\n",
       "\n",
       "    .dataframe thead th {\n",
       "        text-align: right;\n",
       "    }\n",
       "</style>\n",
       "<table border=\"1\" class=\"dataframe\">\n",
       "  <thead>\n",
       "    <tr style=\"text-align: right;\">\n",
       "      <th></th>\n",
       "      <th>month</th>\n",
       "      <th>surf</th>\n",
       "      <th>ultimate</th>\n",
       "    </tr>\n",
       "  </thead>\n",
       "  <tbody>\n",
       "    <tr>\n",
       "      <th>1</th>\n",
       "      <td>1</td>\n",
       "      <td>292.000000</td>\n",
       "      <td>197.666667</td>\n",
       "    </tr>\n",
       "    <tr>\n",
       "      <th>2</th>\n",
       "      <td>2</td>\n",
       "      <td>331.200000</td>\n",
       "      <td>486.800000</td>\n",
       "    </tr>\n",
       "    <tr>\n",
       "      <th>3</th>\n",
       "      <td>3</td>\n",
       "      <td>344.937500</td>\n",
       "      <td>415.285714</td>\n",
       "    </tr>\n",
       "    <tr>\n",
       "      <th>4</th>\n",
       "      <td>4</td>\n",
       "      <td>366.228571</td>\n",
       "      <td>322.750000</td>\n",
       "    </tr>\n",
       "    <tr>\n",
       "      <th>5</th>\n",
       "      <td>5</td>\n",
       "      <td>443.981132</td>\n",
       "      <td>410.190476</td>\n",
       "    </tr>\n",
       "    <tr>\n",
       "      <th>6</th>\n",
       "      <td>6</td>\n",
       "      <td>425.514286</td>\n",
       "      <td>370.918919</td>\n",
       "    </tr>\n",
       "    <tr>\n",
       "      <th>7</th>\n",
       "      <td>7</td>\n",
       "      <td>452.101124</td>\n",
       "      <td>439.638298</td>\n",
       "    </tr>\n",
       "    <tr>\n",
       "      <th>8</th>\n",
       "      <td>8</td>\n",
       "      <td>427.873950</td>\n",
       "      <td>436.438596</td>\n",
       "    </tr>\n",
       "    <tr>\n",
       "      <th>9</th>\n",
       "      <td>9</td>\n",
       "      <td>426.020408</td>\n",
       "      <td>437.591549</td>\n",
       "    </tr>\n",
       "    <tr>\n",
       "      <th>10</th>\n",
       "      <td>10</td>\n",
       "      <td>442.348066</td>\n",
       "      <td>465.034091</td>\n",
       "    </tr>\n",
       "    <tr>\n",
       "      <th>11</th>\n",
       "      <td>11</td>\n",
       "      <td>443.954128</td>\n",
       "      <td>464.068627</td>\n",
       "    </tr>\n",
       "    <tr>\n",
       "      <th>12</th>\n",
       "      <td>12</td>\n",
       "      <td>495.069106</td>\n",
       "      <td>463.296000</td>\n",
       "    </tr>\n",
       "  </tbody>\n",
       "</table>\n",
       "</div>"
      ],
      "text/plain": [
       "    month        surf    ultimate\n",
       "1       1  292.000000  197.666667\n",
       "2       2  331.200000  486.800000\n",
       "3       3  344.937500  415.285714\n",
       "4       4  366.228571  322.750000\n",
       "5       5  443.981132  410.190476\n",
       "6       6  425.514286  370.918919\n",
       "7       7  452.101124  439.638298\n",
       "8       8  427.873950  436.438596\n",
       "9       9  426.020408  437.591549\n",
       "10     10  442.348066  465.034091\n",
       "11     11  443.954128  464.068627\n",
       "12     12  495.069106  463.296000"
      ]
     },
     "execution_count": 42,
     "metadata": {},
     "output_type": "execute_result"
    }
   ],
   "source": [
    "# Compara la duración promedio de llamadas por cada plan y por cada mes. Traza un gráfico de barras para visualizarla.\n",
    "month_mean_c= mdf.groupby(['month','plan']).mean()['duration']\n",
    "\n",
    "month_mean_c=month_mean_c.reset_index()\n",
    "m_ult=month_mean_c[month_mean_c['plan']=='ultimate']\n",
    "m_surf=month_mean_c[month_mean_c['plan']=='surf']\n",
    "\n",
    "m_join=pd.merge(m_surf,m_ult, on='month')\n",
    "m_join.rename(columns={'duration_x':'surf','duration_y':'ultimate'},inplace=True)\n",
    "m_join.index=np.arange(1,len(m_join)+1)\n",
    "m_join.drop(['plan_x','plan_y'],axis=1,inplace=True)\n",
    "m_join"
   ]
  },
  {
   "cell_type": "code",
   "execution_count": 43,
   "metadata": {
    "scrolled": true
   },
   "outputs": [
    {
     "data": {
      "image/png": "[encoded data removed]",
      "text/plain": [
       "<Figure size 800x700 with 1 Axes>"
      ]
     },
     "metadata": {},
     "output_type": "display_data"
    }
   ],
   "source": [
    "# Compara la duración promedio de llamadas por cada plan y por cada mes. Traza un gráfico de barras para visualizarla.\n",
    "m_join[['surf','ultimate']].plot(kind='bar',rot=0, figsize=[8,7],\n",
    "                                 xlabel='Month', ylabel='Call duration (Minutes)', title='Call mean duration by plan and month')\n",
    "\n",
    "plt.legend(loc='upper center')\n",
    "plt.show()\n"
   ]
  },
  {
   "cell_type": "code",
   "execution_count": 45,
   "metadata": {
    "scrolled": false
   },
   "outputs": [
    {
     "name": "stdout",
     "output_type": "stream",
     "text": [
      "Media de minutos usados por usuario en plan Surf:  445.77542372881356\n",
      "Media de minutos usados por usuario en plan Ultimate:  442.51295336787564\n"
     ]
    },
    {
     "data": {
      "image/png": "[encoded data removed]",
      "text/plain": [
       "<Figure size 648x432 with 1 Axes>"
      ]
     },
     "metadata": {
      "needs_background": "light"
     },
     "output_type": "display_data"
    }
   ],
   "source": [
    "# Compara el número de minutos mensuales que necesitan los usuarios de cada plan. Traza un histograma.\n",
    "#mdf.head(60)\n",
    "#mdf[mdf[]]\n",
    "print('Media de minutos usados por usuario en plan Surf: ',mdf[mdf['plan']=='surf']['duration'].mean())\n",
    "print('Media de minutos usados por usuario en plan Ultimate: ',mdf[mdf['plan']=='ultimate']['duration'].mean())\n",
    "mdf[mdf['plan']=='surf']['duration'].hist( alpha=.5,figsize=[9,6])\n",
    "mdf[mdf['plan']=='ultimate']['duration'].hist( alpha=.5)\n",
    "\n",
    "\n",
    "plt.legend(['surf','ultimate'])\n",
    "plt.title('Minutes used by users per month')\n",
    "plt.ylabel('Frequency')\n",
    "plt.xlabel('Minutes used')\n",
    "plt.show()\n"
   ]
  },
  {
   "cell_type": "code",
   "execution_count": 46,
   "metadata": {
    "id": "oSndbAnt0q1K",
    "scrolled": false
   },
   "outputs": [
    {
     "name": "stdout",
     "output_type": "stream",
     "text": [
      "La duración media de las llamadas mensuales del plan Surf es : 407.60235591555823 minutos\n",
      "La varianza de las llamadas del plan Surf es : 3282.800169307338\n",
      "\n",
      "La duración media de las llamadas mensuales del plan Ultimate es : 409.13991150676594 minutos\n",
      "La varianza de las llamadas del plan Ultimate es : 5939.502400280434\n"
     ]
    }
   ],
   "source": [
    "# Calcula la media y la varianza de la duración mensual de llamadas.\n",
    "m_variance = np.var(m_join)\n",
    "m_mean= m_join.mean()\n",
    "print(f\"La duración media de las llamadas mensuales del plan Surf es : {m_mean.surf} minutos\")\n",
    "print(f\"La varianza de las llamadas del plan Surf es : {m_variance.surf}\")\n",
    "print('')\n",
    "print(f\"La duración media de las llamadas mensuales del plan Ultimate es : {m_mean.ultimate} minutos\")\n",
    "print(f\"La varianza de las llamadas del plan Ultimate es : {m_variance.ultimate}\")\n"
   ]
  },
  {
   "cell_type": "code",
   "execution_count": 47,
   "metadata": {
    "id": "nZzoRUKc0q1K",
    "scrolled": false
   },
   "outputs": [
    {
     "data": {
      "text/plain": [
       "Text(0.5, 1.0, 'Monthly calls duration')"
      ]
     },
     "execution_count": 47,
     "metadata": {},
     "output_type": "execute_result"
    },
    {
     "data": {
      "image/png": "[encoded data removed]",
      "text/plain": [
       "<Figure size 432x288 with 1 Axes>"
      ]
     },
     "metadata": {
      "needs_background": "light"
     },
     "output_type": "display_data"
    }
   ],
   "source": [
    "# Traza un diagrama de caja para visualizar la distribución de la duración mensual de llamadas\n",
    "box= m_join.drop('month',axis=1)\n",
    "box= pd.melt(box)\n",
    "sns.boxplot(x='variable', y='value', data=box)\n",
    "sns.set(rc={\"figure.figsize\":(9, 8)})\n",
    "plt.ylabel('Call duration (Minutes)')\n",
    "plt.xlabel('Plans')\n",
    "plt.title('Monthly calls duration')\n"
   ]
  },
  {
   "cell_type": "markdown",
   "metadata": {
    "id": "r627zBO50q1K"
   },
   "source": [
    "\n",
    "\n",
    "**Conclusiones:**\n",
    "\n",
    "\n",
    " \n",
    "* **Para el plan 'Surf' podemos observar que el comportamiento de los usuarios si obedece a la función del plan, esto debido a que:**\n",
    "    * La duración media de las llamadas mensuales de este plan es de 407 minutos, lo cual entra en el límite de 500 minutos de tarifa base\n",
    "    * Se observa un sesgo negativo en este plan, generando una cola hacia la izquierda\n",
    "    * El 50% de las llamadas duran entre los 360 y los 440 minutos\n",
    "    * se observa una distribución oscilando entre los 290 y 490 minutos mensuales, esto está dentro del límite establecido de 500 minutos mensuales \n",
    "\n",
    "\n",
    "* **Para el plan 'Ultimate' podemos observar que el comportamiento de los usuarios respecto a las llamadas no precisamente obedece a la función del plan, esto debido a que:**\n",
    "  * La cantidad de minutos que incluye el paquete 'Ultimate' son excesivos en relación a lo que utiliza la media de clientes en ese plan (409 minutos)\n",
    "  * La media del plan es muy similar a la media del plan 'Surf', no observamos un cambio muy considerable a pesar de que tienen 6 veces más cantidad de minutos disponibles que el plan Surf\n",
    "  * se observa un valor outlier cercano a los 200 minutos utilizados correspondiente al mes de enero, esto puede ser debido a diferentes causas, tal vez causas sociales como poco tráfico de llamadas después de las fiestas decembrinas, causas económicas como poca cantidad de clientes con contrato activo en ese mes, etc.\n",
    "  \n",
    "\n",
    "\n",
    "**En conclusión, el comportamiento de los usuarios respecto a las llamadas *si* varía en función del plan, podemos observar que los usuarios del plan Surf no suelen exceder la cantidad límite de minutos incluidos, sin embargo los usuarios del plan Ultimate, se quedan muy por debajo de la cantidad límite de minutos incluidos en su plan, esto puede deberse a que los usuarios Ultimate contraten el plan por otros beneficios como los datos móviles**\n"
   ]
  },
  {
   "cell_type": "markdown",
   "metadata": {
    "id": "8idKy8Wh0q1L"
   },
   "source": [
    "### Mensajes"
   ]
  },
  {
   "cell_type": "code",
   "execution_count": 48,
   "metadata": {
    "id": "NXLxiTit0q1L",
    "scrolled": true
   },
   "outputs": [
    {
     "data": {
      "text/html": [
       "<div>\n",
       "<style scoped>\n",
       "    .dataframe tbody tr th:only-of-type {\n",
       "        vertical-align: middle;\n",
       "    }\n",
       "\n",
       "    .dataframe tbody tr th {\n",
       "        vertical-align: top;\n",
       "    }\n",
       "\n",
       "    .dataframe thead th {\n",
       "        text-align: right;\n",
       "    }\n",
       "</style>\n",
       "<table border=\"1\" class=\"dataframe\">\n",
       "  <thead>\n",
       "    <tr style=\"text-align: right;\">\n",
       "      <th></th>\n",
       "      <th>month</th>\n",
       "      <th>surf</th>\n",
       "      <th>ultimate</th>\n",
       "    </tr>\n",
       "  </thead>\n",
       "  <tbody>\n",
       "    <tr>\n",
       "      <th>1</th>\n",
       "      <td>1</td>\n",
       "      <td>21.000000</td>\n",
       "      <td>20.666667</td>\n",
       "    </tr>\n",
       "    <tr>\n",
       "      <th>2</th>\n",
       "      <td>2</td>\n",
       "      <td>21.600000</td>\n",
       "      <td>27.800000</td>\n",
       "    </tr>\n",
       "    <tr>\n",
       "      <th>3</th>\n",
       "      <td>3</td>\n",
       "      <td>21.937500</td>\n",
       "      <td>34.714286</td>\n",
       "    </tr>\n",
       "    <tr>\n",
       "      <th>4</th>\n",
       "      <td>4</td>\n",
       "      <td>24.685714</td>\n",
       "      <td>28.937500</td>\n",
       "    </tr>\n",
       "    <tr>\n",
       "      <th>5</th>\n",
       "      <td>5</td>\n",
       "      <td>33.547170</td>\n",
       "      <td>44.333333</td>\n",
       "    </tr>\n",
       "    <tr>\n",
       "      <th>6</th>\n",
       "      <td>6</td>\n",
       "      <td>32.742857</td>\n",
       "      <td>37.135135</td>\n",
       "    </tr>\n",
       "    <tr>\n",
       "      <th>7</th>\n",
       "      <td>7</td>\n",
       "      <td>34.786517</td>\n",
       "      <td>41.212766</td>\n",
       "    </tr>\n",
       "    <tr>\n",
       "      <th>8</th>\n",
       "      <td>8</td>\n",
       "      <td>37.302521</td>\n",
       "      <td>47.929825</td>\n",
       "    </tr>\n",
       "    <tr>\n",
       "      <th>9</th>\n",
       "      <td>9</td>\n",
       "      <td>38.585034</td>\n",
       "      <td>45.901408</td>\n",
       "    </tr>\n",
       "    <tr>\n",
       "      <th>10</th>\n",
       "      <td>10</td>\n",
       "      <td>41.475138</td>\n",
       "      <td>47.488636</td>\n",
       "    </tr>\n",
       "    <tr>\n",
       "      <th>11</th>\n",
       "      <td>11</td>\n",
       "      <td>40.087156</td>\n",
       "      <td>47.656863</td>\n",
       "    </tr>\n",
       "    <tr>\n",
       "      <th>12</th>\n",
       "      <td>12</td>\n",
       "      <td>47.686992</td>\n",
       "      <td>53.744000</td>\n",
       "    </tr>\n",
       "  </tbody>\n",
       "</table>\n",
       "</div>"
      ],
      "text/plain": [
       "    month       surf   ultimate\n",
       "1       1  21.000000  20.666667\n",
       "2       2  21.600000  27.800000\n",
       "3       3  21.937500  34.714286\n",
       "4       4  24.685714  28.937500\n",
       "5       5  33.547170  44.333333\n",
       "6       6  32.742857  37.135135\n",
       "7       7  34.786517  41.212766\n",
       "8       8  37.302521  47.929825\n",
       "9       9  38.585034  45.901408\n",
       "10     10  41.475138  47.488636\n",
       "11     11  40.087156  47.656863\n",
       "12     12  47.686992  53.744000"
      ]
     },
     "execution_count": 48,
     "metadata": {},
     "output_type": "execute_result"
    }
   ],
   "source": [
    "# Compara el número de mensajes que tienden a enviar cada mes los usuarios de cada plan\n",
    "month_mean_m=mdf.groupby(['month','plan'])['message_q'].mean()\n",
    "\n",
    "month_mean_m=month_mean_m.reset_index()\n",
    "mes_ult=month_mean_m[month_mean_m['plan']=='ultimate']\n",
    "mes_surf=month_mean_m[month_mean_m['plan']=='surf']\n",
    "\n",
    "mes_merged=pd.merge(mes_surf,mes_ult, on='month')\n",
    "mes_merged.rename(columns={'message_q_x':'surf','message_q_y':'ultimate'},inplace=True)\n",
    "mes_merged.index=np.arange(1,len(mes_merged)+1)\n",
    "mes_merged.drop(['plan_x','plan_y'],axis=1,inplace=True)\n",
    "mes_merged\n",
    "\n"
   ]
  },
  {
   "cell_type": "code",
   "execution_count": 49,
   "metadata": {
    "id": "GRI_R7xF0q1L"
   },
   "outputs": [
    {
     "data": {
      "image/png": "[encoded data removed]",
      "text/plain": [
       "<Figure size 576x504 with 1 Axes>"
      ]
     },
     "metadata": {},
     "output_type": "display_data"
    }
   ],
   "source": [
    "mes_merged[['surf','ultimate']].plot(kind='bar',rot=0, figsize=[8,7],\n",
    "                                 xlabel='Month', ylabel='Sent messages quantity (Messages)', title='Sent messages mean by plan and month')\n",
    "\n",
    "plt.legend(loc='upper left')\n",
    "plt.show()\n"
   ]
  },
  {
   "cell_type": "code",
   "execution_count": 51,
   "metadata": {},
   "outputs": [
    {
     "name": "stdout",
     "output_type": "stream",
     "text": [
      "Media de mensajes enviados por usuario en plan Surf:  39.489830508474576\n",
      "Media de mensajes enviados por usuario en plan Ultimate:  46.4559585492228\n"
     ]
    },
    {
     "data": {
      "image/png": "[encoded data removed]",
      "text/plain": [
       "<Figure size 648x576 with 1 Axes>"
      ]
     },
     "metadata": {},
     "output_type": "display_data"
    }
   ],
   "source": [
    "print('Media de mensajes enviados por usuario en plan Surf: ',mdf[mdf['plan']=='surf']['message_q'].mean())\n",
    "print('Media de mensajes enviados por usuario en plan Ultimate: ',mdf[mdf['plan']=='ultimate']['message_q'].mean())\n",
    "mdf[mdf['plan']=='surf']['message_q'].hist( alpha=.5,figsize=[9,8])\n",
    "mdf[mdf['plan']=='ultimate']['message_q'].hist( alpha=.5)\n",
    "\n",
    "\n",
    "plt.legend(['surf','ultimate'])\n",
    "plt.title('Sent Messages by users per month')\n",
    "plt.ylabel('Frequency')\n",
    "plt.xlabel('Sent Messages')\n",
    "plt.show()"
   ]
  },
  {
   "cell_type": "code",
   "execution_count": 52,
   "metadata": {
    "id": "dtFwCGAp0q1M",
    "scrolled": true
   },
   "outputs": [
    {
     "name": "stdout",
     "output_type": "stream",
     "text": [
      "La cantidad media de mensajes mensuales enviados del plan Surf es : 32.953049922550164 mensajes\n",
      "La varianza de los mensajes enviados del plan Surf es : 71.37206076397557\n",
      "\n",
      "La cantidad media de mensajes mensuales enviados del plan Ultimate es : 39.79336824397581 mensajes\n",
      "La varianza de los mensajes enviados del plan Ultimate es : 91.84938550389963\n"
     ]
    }
   ],
   "source": [
    "# Calcula la media y la varianza de la cantidad mensual de mensajes enviados.\n",
    "m_variance = np.var(mes_merged)\n",
    "m_mean= mes_merged.mean()\n",
    "print(f\"La cantidad media de mensajes mensuales enviados del plan Surf es : {m_mean.surf} mensajes\")\n",
    "print(f\"La varianza de los mensajes enviados del plan Surf es : {m_variance.surf}\")\n",
    "print('')\n",
    "print(f\"La cantidad media de mensajes mensuales enviados del plan Ultimate es : {m_mean.ultimate} mensajes\")\n",
    "print(f\"La varianza de los mensajes enviados del plan Ultimate es : {m_variance.ultimate}\")\n"
   ]
  },
  {
   "cell_type": "code",
   "execution_count": 53,
   "metadata": {
    "scrolled": true
   },
   "outputs": [
    {
     "data": {
      "text/plain": [
       "Text(0.5, 1.0, 'Sent Messages')"
      ]
     },
     "execution_count": 53,
     "metadata": {},
     "output_type": "execute_result"
    },
    {
     "data": {
      "image/png": "[encoded data removed]",
      "text/plain": [
       "<Figure size 648x576 with 1 Axes>"
      ]
     },
     "metadata": {},
     "output_type": "display_data"
    }
   ],
   "source": [
    "# Traza un diagrama de caja para visualizar la distribución de la duración mensual de llamadas\n",
    "box= mes_merged.drop('month',axis=1)\n",
    "box= pd.melt(box)\n",
    "sns.boxplot(x='variable', y='value', data=box)\n",
    "sns.set(rc={\"figure.figsize\":(9, 8)})\n",
    "plt.ylabel('Sent Messages (Messages)')\n",
    "plt.xlabel('Plans')\n",
    "plt.title('Sent Messages')"
   ]
  },
  {
   "cell_type": "markdown",
   "metadata": {
    "id": "390SSL480q1M"
   },
   "source": [
    "**Conclusiones:**\n",
    "* **Para el plan 'Surf' podemos observar que el comportamiento de los usuarios respecto a las mensajes si obedece a la función del plan, esto debido a que:**\n",
    "  * La cantidad media de mensajes enviados al mes es de casi 33 mensajes, esto por debajo del límite de 50 mensajes incluidos mensualmente.\n",
    "  * podemos observar que la distribución tiene un sesgo negativo, esto nos indica que la media tiene un valor menor que la mediana, por lo tanto se genera una cola hacia la izquierda\n",
    "  * El 50% de los usuarios de este plan oscila entre los 24 y 38 mensajes enviados, la distribución tiene un rango aproximado entre los 22 y 48 mensajes enviados.\n",
    "  * Todos estos datos nos indican que nuestros usuarios utilizan el plan surf dentro de los límites establecidos utilizando al menos el 50% de su capacidad mensual de mensajes.\n",
    "  \n",
    "  \n",
    "  \n",
    "* **Para el plan 'Ultimate' podemos observar que el comportamiento de los usuarios no obedece a la función del plan, esto debido a que:**\n",
    "    * La media de mensajes enviados mensualmente se encuentra cerca de los 40 mensajes, cerca de 25 veces menos que el límite incluido, podemos observar que la distribución tiene un sesgo negativo, esto indica que la media tiene un valor menor que la mediana, por lo tanto se genera una cola hacia la izquierda.\n",
    "    * El 50% de los usuarios de este plan oscila entre los 34 y 48 mensajes enviados, la distribución tiene un rango aproximado entre los 22 y 53 mensajes enviados.\n",
    "    * los usuarios de este plan consumen en promedio el 4% de su capacidad de mensajes mensuales\n",
    "    \n",
    "**En conclusión, el comportamiento de los usuarios respecto a los mensajes *si* varía en función del plan, a pesar de esto, los usuarios que se comportan de una manera más \"eficiente\" respecto al consumo de mensajes incluidos son los usuarios del plan Surf, en su contraparte, los usuarios del plan Ultimate utilizan menos del 10% de su capacidad incluida.**"
   ]
  },
  {
   "cell_type": "markdown",
   "metadata": {
    "id": "42YSypXz0q1M"
   },
   "source": [
    "### Internet"
   ]
  },
  {
   "cell_type": "code",
   "execution_count": 54,
   "metadata": {
    "id": "lSuKPtjh0q1M"
   },
   "outputs": [
    {
     "data": {
      "text/html": [
       "<div>\n",
       "<style scoped>\n",
       "    .dataframe tbody tr th:only-of-type {\n",
       "        vertical-align: middle;\n",
       "    }\n",
       "\n",
       "    .dataframe tbody tr th {\n",
       "        vertical-align: top;\n",
       "    }\n",
       "\n",
       "    .dataframe thead th {\n",
       "        text-align: right;\n",
       "    }\n",
       "</style>\n",
       "<table border=\"1\" class=\"dataframe\">\n",
       "  <thead>\n",
       "    <tr style=\"text-align: right;\">\n",
       "      <th></th>\n",
       "      <th>month</th>\n",
       "      <th>surf</th>\n",
       "      <th>ultimate</th>\n",
       "    </tr>\n",
       "  </thead>\n",
       "  <tbody>\n",
       "    <tr>\n",
       "      <th>1</th>\n",
       "      <td>1</td>\n",
       "      <td>8.000000</td>\n",
       "      <td>7.333333</td>\n",
       "    </tr>\n",
       "    <tr>\n",
       "      <th>2</th>\n",
       "      <td>2</td>\n",
       "      <td>9.400000</td>\n",
       "      <td>17.400000</td>\n",
       "    </tr>\n",
       "    <tr>\n",
       "      <th>3</th>\n",
       "      <td>3</td>\n",
       "      <td>12.625000</td>\n",
       "      <td>23.857143</td>\n",
       "    </tr>\n",
       "    <tr>\n",
       "      <th>4</th>\n",
       "      <td>4</td>\n",
       "      <td>12.085714</td>\n",
       "      <td>14.500000</td>\n",
       "    </tr>\n",
       "    <tr>\n",
       "      <th>5</th>\n",
       "      <td>5</td>\n",
       "      <td>15.056604</td>\n",
       "      <td>17.238095</td>\n",
       "    </tr>\n",
       "    <tr>\n",
       "      <th>6</th>\n",
       "      <td>6</td>\n",
       "      <td>15.771429</td>\n",
       "      <td>15.540541</td>\n",
       "    </tr>\n",
       "    <tr>\n",
       "      <th>7</th>\n",
       "      <td>7</td>\n",
       "      <td>16.842697</td>\n",
       "      <td>16.638298</td>\n",
       "    </tr>\n",
       "    <tr>\n",
       "      <th>8</th>\n",
       "      <td>8</td>\n",
       "      <td>17.260504</td>\n",
       "      <td>18.035088</td>\n",
       "    </tr>\n",
       "    <tr>\n",
       "      <th>9</th>\n",
       "      <td>9</td>\n",
       "      <td>16.612245</td>\n",
       "      <td>16.507042</td>\n",
       "    </tr>\n",
       "    <tr>\n",
       "      <th>10</th>\n",
       "      <td>10</td>\n",
       "      <td>17.546961</td>\n",
       "      <td>17.647727</td>\n",
       "    </tr>\n",
       "    <tr>\n",
       "      <th>11</th>\n",
       "      <td>11</td>\n",
       "      <td>16.422018</td>\n",
       "      <td>17.441176</td>\n",
       "    </tr>\n",
       "    <tr>\n",
       "      <th>12</th>\n",
       "      <td>12</td>\n",
       "      <td>18.101626</td>\n",
       "      <td>18.392000</td>\n",
       "    </tr>\n",
       "  </tbody>\n",
       "</table>\n",
       "</div>"
      ],
      "text/plain": [
       "    month       surf   ultimate\n",
       "1       1   8.000000   7.333333\n",
       "2       2   9.400000  17.400000\n",
       "3       3  12.625000  23.857143\n",
       "4       4  12.085714  14.500000\n",
       "5       5  15.056604  17.238095\n",
       "6       6  15.771429  15.540541\n",
       "7       7  16.842697  16.638298\n",
       "8       8  17.260504  18.035088\n",
       "9       9  16.612245  16.507042\n",
       "10     10  17.546961  17.647727\n",
       "11     11  16.422018  17.441176\n",
       "12     12  18.101626  18.392000"
      ]
     },
     "execution_count": 54,
     "metadata": {},
     "output_type": "execute_result"
    }
   ],
   "source": [
    "# Compara la cantidad de tráfico de Internet consumido por usuarios por plan\n",
    "month_mean_i=mdf.groupby(['month','plan'])['gb_used'].mean()\n",
    "\n",
    "month_mean_i=month_mean_i.reset_index()\n",
    "int_ult=month_mean_i[month_mean_i['plan']=='ultimate']\n",
    "int_surf=month_mean_i[month_mean_i['plan']=='surf']\n",
    "\n",
    "int_merged=pd.merge(int_surf,int_ult, on='month')\n",
    "int_merged.rename(columns={'gb_used_x':'surf','gb_used_y':'ultimate'},inplace=True)\n",
    "int_merged.index=np.arange(1,len(mes_merged)+1)\n",
    "int_merged.drop(['plan_x','plan_y'],axis=1,inplace=True)\n",
    "int_merged"
   ]
  },
  {
   "cell_type": "code",
   "execution_count": 55,
   "metadata": {
    "id": "wnh8jYXi0q1N",
    "scrolled": true
   },
   "outputs": [
    {
     "data": {
      "image/png": "[encoded data removed]",
      "text/plain": [
       "<Figure size 576x504 with 1 Axes>"
      ]
     },
     "metadata": {},
     "output_type": "display_data"
    }
   ],
   "source": [
    "int_merged[['surf','ultimate']].plot(kind='bar',rot=0, figsize=[8,7],\n",
    "                                 xlabel='Month', ylabel='Mb spent (Mb)', title='Mb spent mean by plan and month')\n",
    "\n",
    "plt.legend(loc='upper left')\n",
    "plt.show()"
   ]
  },
  {
   "cell_type": "code",
   "execution_count": 56,
   "metadata": {
    "id": "5VlyJ9ry0q1N",
    "scrolled": false
   },
   "outputs": [],
   "source": [
    "# # Compara el número de Mb mensuales que necesitan los usuarios de cada plan. Traza un histograma.\n",
    "# int_merged['surf'].hist(bins=4, alpha=.5)\n",
    "# int_merged['ultimate'].hist(bins=4, alpha=.5)\n",
    "# plt.legend(['surf','ultimate'])\n",
    "# plt.title('Mb spent by users per month')\n",
    "# plt.ylabel('Frequency')\n",
    "# plt.xlabel('Mb spent')\n",
    "# plt.show()"
   ]
  },
  {
   "cell_type": "code",
   "execution_count": 57,
   "metadata": {},
   "outputs": [
    {
     "name": "stdout",
     "output_type": "stream",
     "text": [
      "Media de GB gastados por usuario en plan Surf:  16.76779661016949\n",
      "Media de GB gastados por usuario en plan Ultimate:  17.3713298791019\n"
     ]
    },
    {
     "data": {
      "image/png": "[encoded data removed]",
      "text/plain": [
       "<Figure size 648x576 with 1 Axes>"
      ]
     },
     "metadata": {},
     "output_type": "display_data"
    }
   ],
   "source": [
    "print('Media de GB gastados por usuario en plan Surf: ',mdf[mdf['plan']=='surf']['gb_used'].mean())\n",
    "print('Media de GB gastados por usuario en plan Ultimate: ',mdf[mdf['plan']=='ultimate']['gb_used'].mean())\n",
    "mdf[mdf['plan']=='surf']['gb_used'].hist( alpha=.5,figsize=[9,8])\n",
    "mdf[mdf['plan']=='ultimate']['gb_used'].hist( alpha=.5)\n",
    "\n",
    "\n",
    "plt.legend(['surf','ultimate'])\n",
    "plt.title('Spent GB by users per month')\n",
    "plt.ylabel('Frequency')\n",
    "plt.xlabel('Spent GB (GB)')\n",
    "plt.show()"
   ]
  },
  {
   "cell_type": "code",
   "execution_count": 58,
   "metadata": {},
   "outputs": [
    {
     "name": "stdout",
     "output_type": "stream",
     "text": [
      "La cantidad media de Mb gastados mensuales del plan Surf es : 14.64373317086933 Mb\n",
      "La varianza de los Mb gastados del plan Surf es : 10.233571288223835\n",
      "\n",
      "La cantidad media de Mb gastados mensuales del plan Ultimate es : 16.710870296465604 Mb\n",
      "La varianza de los Mb gastados del plan Ultimate es : 12.671292140997743\n"
     ]
    }
   ],
   "source": [
    "# Calcula la media y la varianza de la cantidad de Mb mensuales gastados.\n",
    "int_variance = np.var(int_merged)\n",
    "int_mean= int_merged.mean()\n",
    "\n",
    "print(f\"La cantidad media de Mb gastados mensuales del plan Surf es : {int_mean.surf} Mb\")\n",
    "print(f\"La varianza de los Mb gastados del plan Surf es : {int_variance.surf}\")\n",
    "print('')\n",
    "print(f\"La cantidad media de Mb gastados mensuales del plan Ultimate es : {int_mean.ultimate} Mb\")\n",
    "print(f\"La varianza de los Mb gastados del plan Ultimate es : {int_variance.ultimate}\")"
   ]
  },
  {
   "cell_type": "code",
   "execution_count": 59,
   "metadata": {
    "scrolled": true
   },
   "outputs": [
    {
     "data": {
      "text/plain": [
       "Text(0.5, 1.0, 'Mb spent by plan')"
      ]
     },
     "execution_count": 59,
     "metadata": {},
     "output_type": "execute_result"
    },
    {
     "data": {
      "image/png": "[encoded data removed]",
      "text/plain": [
       "<Figure size 648x576 with 1 Axes>"
      ]
     },
     "metadata": {},
     "output_type": "display_data"
    }
   ],
   "source": [
    "# Traza un diagrama de caja para visualizar la distribución de la cantidad de Mb gastados\n",
    "box= int_merged.drop('month',axis=1)\n",
    "box= pd.melt(box)\n",
    "\n",
    "sns.boxplot(x='variable', y='value', data=box)\n",
    "sns.set(rc={\"figure.figsize\":(9, 8)})\n",
    "plt.ylabel('Mb spent (Mb)')\n",
    "plt.xlabel('Plans')\n",
    "plt.title('Mb spent by plan')\n"
   ]
  },
  {
   "cell_type": "markdown",
   "metadata": {
    "id": "UN9zwuMP0q1N"
   },
   "source": [
    "**Conclusiones:**\n",
    "\n",
    "* **Para el plan 'Surf' podemos observar que el comportamiento de los usuarios respecto al consumo de datos podría mejorar y no precisamente obedece a la función del plan, esto debido a que:**\n",
    "  * Los usuarios de este consumen 14.64Gb en promedio de manera mensual, esto debajo pero muy cerca del límite de datos incluidos (15GB).\n",
    "  * podemos observar que la distribución tiene un sesgo negativo, esto indica que la Media es menor que la Mediana, por lo tanto genera una cola hacia la izquierda.\n",
    "  * El 50% de los usuarios de este plan oscila entre los 12.5GB y 17 GB consumidos, la distribución de los datos se observa desde los 7.GB hasta los 17.6 GB aproximadamente.\n",
    "  * Durante el periodo de Junio a Diciembre, los clientes suelen consumir más cantidad de gb del límite incluido, el máximo valor observado es de 18.1GB consumidos en diciembre, esto les genera un costo extra en su factura.\n",
    " \n",
    "  \n",
    "* **Para el plan 'Ultimate' podemos observar que el comportamiento de los usuarios si obedece a la función del plan, esto debido a que:**\n",
    "\n",
    "    * Los usuarios de este consumen cerca de 16.7Gb en promedio de manera mensual, esto considerablemente debajo del límite de datos incluidos (30 GB).\n",
    "    * podemos observar que la distribución tiene un sesgo negativo, esto indica que la Media es menor que la Mediana, por lo tanto genera una cola hacia la izquierda.\n",
    "    \n",
    "    * Se cuentan con dos valores outliers:\n",
    "      * el primero corresponde al mes de enero con 7.3 GB consumidos \n",
    "      * el segundo corresponde al mes de marzo con 23.8 GB consumidos\n",
    "    * **estos valores outliers pueden deberse a factores económicos o sociales, puede que tuvieramos menos clientes activos en enero, o que en marzo existiera algún evento importante como las olimpiadas y nuestros usuarios hayan decidido utilizar mucho consumo de streaming, aún siendo valores outliers, se observaron dentro de los límites de consumo establecidos.**\n",
    "\n",
    "    \n",
    "**En conclusión, el comportamiento de los usuarios respecto a los GB consumidos *si* varía en función del plan, a pesar de esto, los usuarios del plan Ultimate son los que mejor utilizan su plan especto a la \"eficiencia\" del consumo de datos incluidos. por otro lado, los usuarios del plan Surf suelen exceder el límite y pagar costos extra.\n",
    "Se podría sugerir un rediseño de cantidad de GB incluidos para el plan Surf, esto para mejorar la fidelidad y satisfacción de nuestros clientes**"
   ]
  },
  {
   "cell_type": "markdown",
   "metadata": {
    "id": "tCijq3260q1N"
   },
   "source": [
    "## Ingreso"
   ]
  },
  {
   "cell_type": "code",
   "execution_count": 60,
   "metadata": {
    "id": "tz-dq_V00q1O"
   },
   "outputs": [
    {
     "data": {
      "text/html": [
       "<div>\n",
       "<style scoped>\n",
       "    .dataframe tbody tr th:only-of-type {\n",
       "        vertical-align: middle;\n",
       "    }\n",
       "\n",
       "    .dataframe tbody tr th {\n",
       "        vertical-align: top;\n",
       "    }\n",
       "\n",
       "    .dataframe thead th {\n",
       "        text-align: right;\n",
       "    }\n",
       "</style>\n",
       "<table border=\"1\" class=\"dataframe\">\n",
       "  <thead>\n",
       "    <tr style=\"text-align: right;\">\n",
       "      <th></th>\n",
       "      <th>month</th>\n",
       "      <th>surf</th>\n",
       "      <th>ultimate</th>\n",
       "    </tr>\n",
       "  </thead>\n",
       "  <tbody>\n",
       "    <tr>\n",
       "      <th>1</th>\n",
       "      <td>1</td>\n",
       "      <td>20.000000</td>\n",
       "      <td>70.000000</td>\n",
       "    </tr>\n",
       "    <tr>\n",
       "      <th>2</th>\n",
       "      <td>2</td>\n",
       "      <td>23.914000</td>\n",
       "      <td>70.000000</td>\n",
       "    </tr>\n",
       "    <tr>\n",
       "      <th>3</th>\n",
       "      <td>3</td>\n",
       "      <td>38.540625</td>\n",
       "      <td>78.000000</td>\n",
       "    </tr>\n",
       "    <tr>\n",
       "      <th>4</th>\n",
       "      <td>4</td>\n",
       "      <td>40.591429</td>\n",
       "      <td>73.062500</td>\n",
       "    </tr>\n",
       "    <tr>\n",
       "      <th>5</th>\n",
       "      <td>5</td>\n",
       "      <td>50.857170</td>\n",
       "      <td>71.000000</td>\n",
       "    </tr>\n",
       "    <tr>\n",
       "      <th>6</th>\n",
       "      <td>6</td>\n",
       "      <td>52.081000</td>\n",
       "      <td>72.081081</td>\n",
       "    </tr>\n",
       "    <tr>\n",
       "      <th>7</th>\n",
       "      <td>7</td>\n",
       "      <td>62.031124</td>\n",
       "      <td>72.382979</td>\n",
       "    </tr>\n",
       "    <tr>\n",
       "      <th>8</th>\n",
       "      <td>8</td>\n",
       "      <td>64.467143</td>\n",
       "      <td>72.456140</td>\n",
       "    </tr>\n",
       "    <tr>\n",
       "      <th>9</th>\n",
       "      <td>9</td>\n",
       "      <td>57.196871</td>\n",
       "      <td>71.380282</td>\n",
       "    </tr>\n",
       "    <tr>\n",
       "      <th>10</th>\n",
       "      <td>10</td>\n",
       "      <td>65.589337</td>\n",
       "      <td>72.147727</td>\n",
       "    </tr>\n",
       "    <tr>\n",
       "      <th>11</th>\n",
       "      <td>11</td>\n",
       "      <td>57.254220</td>\n",
       "      <td>72.196078</td>\n",
       "    </tr>\n",
       "    <tr>\n",
       "      <th>12</th>\n",
       "      <td>12</td>\n",
       "      <td>68.899512</td>\n",
       "      <td>72.800000</td>\n",
       "    </tr>\n",
       "  </tbody>\n",
       "</table>\n",
       "</div>"
      ],
      "text/plain": [
       "    month       surf   ultimate\n",
       "1       1  20.000000  70.000000\n",
       "2       2  23.914000  70.000000\n",
       "3       3  38.540625  78.000000\n",
       "4       4  40.591429  73.062500\n",
       "5       5  50.857170  71.000000\n",
       "6       6  52.081000  72.081081\n",
       "7       7  62.031124  72.382979\n",
       "8       8  64.467143  72.456140\n",
       "9       9  57.196871  71.380282\n",
       "10     10  65.589337  72.147727\n",
       "11     11  57.254220  72.196078\n",
       "12     12  68.899512  72.800000"
      ]
     },
     "execution_count": 60,
     "metadata": {},
     "output_type": "execute_result"
    }
   ],
   "source": [
    "month_mean_bill=mdf.groupby(['month','plan'])['bill'].mean()\n",
    "month_mean_bill\n",
    "month_mean_bill=month_mean_bill.reset_index()\n",
    "\n",
    "bill_ult=month_mean_bill[month_mean_bill['plan']=='ultimate']\n",
    "bill_surf=month_mean_bill[month_mean_bill['plan']=='surf']\n",
    "\n",
    "bill_merged=pd.merge(bill_surf,bill_ult, on='month')\n",
    "bill_merged.rename(columns={'bill_x':'surf','bill_y':'ultimate'},inplace=True)\n",
    "bill_merged.index=np.arange(1,len(mes_merged)+1)\n",
    "bill_merged.drop(['plan_x','plan_y'],axis=1,inplace=True)\n",
    "bill_merged"
   ]
  },
  {
   "cell_type": "code",
   "execution_count": 61,
   "metadata": {
    "id": "0Y1v8ZUz0q1P",
    "scrolled": true
   },
   "outputs": [
    {
     "data": {
      "image/png": "[encoded data removed]",
      "text/plain": [
       "<Figure size 576x504 with 1 Axes>"
      ]
     },
     "metadata": {},
     "output_type": "display_data"
    }
   ],
   "source": [
    "bill_merged[['surf','ultimate']].plot(kind='bar',rot=0, figsize=[8,7],\n",
    "                                 xlabel='Month', ylabel='Monthly Bill(Dollars)', title='Bill by plan and month')\n",
    "\n",
    "plt.legend(loc='upper left')\n",
    "plt.show()"
   ]
  },
  {
   "cell_type": "code",
   "execution_count": 62,
   "metadata": {
    "scrolled": true
   },
   "outputs": [],
   "source": [
    "# # Compara el número de Dólares mensuales que los usuarios gastan para cada plan. Traza un histograma.\n",
    "# bill_merged['surf'].hist(bins=4, alpha=.5)\n",
    "# bill_merged['ultimate'].hist(bins=4, alpha=.5)\n",
    "# plt.legend(['surf','ultimate'])\n",
    "# plt.title('Dollars spent by users per month')\n",
    "# plt.ylabel('Frequency')\n",
    "# plt.xlabel('Dollars spent')\n",
    "# plt.show()"
   ]
  },
  {
   "cell_type": "code",
   "execution_count": 63,
   "metadata": {},
   "outputs": [
    {
     "name": "stdout",
     "output_type": "stream",
     "text": [
      "Media de Dólares gastados por usuario en plan Surf:  60.52600847457627\n",
      "Media de Dólares gastados por usuario en plan Ultimate:  72.27288428324698\n"
     ]
    },
    {
     "data": {
      "image/png": "[encoded data removed]",
      "text/plain": [
       "<Figure size 648x576 with 1 Axes>"
      ]
     },
     "metadata": {},
     "output_type": "display_data"
    }
   ],
   "source": [
    "# Compara el número de Dólares mensuales que los usuarios gastan para cada plan. Traza un histograma.\n",
    "\n",
    "print('Media de Dólares gastados por usuario en plan Surf: ',mdf[mdf['plan']=='surf']['bill'].mean())\n",
    "print('Media de Dólares gastados por usuario en plan Ultimate: ',mdf[mdf['plan']=='ultimate']['bill'].mean())\n",
    "mdf[mdf['plan']=='surf']['bill'].hist(bins=[50,75,100,125,150,175,200,225,250,275], alpha=.5,figsize=[9,8])\n",
    "mdf[mdf['plan']=='ultimate']['bill'].hist(bins=[50,75,100,125,150,175,200,225,250,275], alpha=.5)\n",
    "\n",
    "\n",
    "plt.legend(['surf','ultimate'])\n",
    "plt.title('Dollars spent by users per month')\n",
    "plt.ylabel('Frequency')\n",
    "plt.xlabel('Dollars spent')\n",
    "plt.show()"
   ]
  },
  {
   "cell_type": "markdown",
   "metadata": {},
   "source": [
    "<div class=\"alert alert-block alert-info\">\n",
    "<b>Respuesta del estudiante: Se realiza el histograma con los datos completos, sin agrupar</b> <a class=\"tocSkip\"></a>\n",
    "</div>"
   ]
  },
  {
   "cell_type": "code",
   "execution_count": 64,
   "metadata": {
    "id": "bYmwxyVh0q1P",
    "scrolled": true
   },
   "outputs": [
    {
     "name": "stdout",
     "output_type": "stream",
     "text": [
      "La cantidad media de Dólares gastados mensuales del plan Surf es : 50.118535831573325 Dólares\n",
      "La varianza de los Dólares gastados del plan Surf es : 238.65819884746986\n",
      "\n",
      "La cantidad media de Dólares gastados mensuales del plan Ultimate es : 72.29223229580026 Dólares\n",
      "La varianza de los Dólares gastados del plan Ultimate es : 3.879145118284608\n"
     ]
    }
   ],
   "source": [
    "# Calcula la media y la varianza de la cantidad de Mb mensuales gastados.\n",
    "int_variance = np.var(bill_merged)\n",
    "int_mean= bill_merged.mean()\n",
    "\n",
    "print(f\"La cantidad media de Dólares gastados mensuales del plan Surf es : {int_mean.surf} Dólares\")\n",
    "print(f\"La varianza de los Dólares gastados del plan Surf es : {int_variance.surf}\")\n",
    "print('')\n",
    "print(f\"La cantidad media de Dólares gastados mensuales del plan Ultimate es : {int_mean.ultimate} Dólares\")\n",
    "print(f\"La varianza de los Dólares gastados del plan Ultimate es : {int_variance.ultimate}\")\n"
   ]
  },
  {
   "cell_type": "code",
   "execution_count": 65,
   "metadata": {
    "scrolled": false
   },
   "outputs": [
    {
     "data": {
      "text/plain": [
       "Text(0.5, 1.0, 'Dollars spent by plan')"
      ]
     },
     "execution_count": 65,
     "metadata": {},
     "output_type": "execute_result"
    },
    {
     "data": {
      "image/png": "[encoded data removed]",
      "text/plain": [
       "<Figure size 648x576 with 1 Axes>"
      ]
     },
     "metadata": {},
     "output_type": "display_data"
    }
   ],
   "source": [
    "# Traza un diagrama de caja para visualizar la distribución de la cantidad de Dólares gastados por plan\n",
    "box= bill_merged.drop('month',axis=1)\n",
    "box= pd.melt(box)\n",
    "\n",
    "sns.boxplot(x='variable', y='value', data=box)\n",
    "sns.set(rc={\"figure.figsize\":(9, 8)})\n",
    "plt.ylabel('Dollars spent (Mb)')\n",
    "plt.xlabel('Plans')\n",
    "plt.title('Dollars spent by plan')"
   ]
  },
  {
   "cell_type": "markdown",
   "metadata": {
    "id": "KAFidcXZ0q1P"
   },
   "source": [
    "\n",
    "**Conclusiones:**\n",
    " \n",
    "* **Para el plan 'Surf' podemos observar que el comportamiento de los usuarios no obedece a la función del plan, esto debido a que:**\n",
    "    * La varianza observada es alta (238), esto indica que la mayor parte de los datos están \"alejados\" de la media aritmética de la población, en otras palabras, la mayoría de los usuarios gastan un valor alejado de los 50 dolares.\n",
    "    * Los usuarios gastan en promedio 50 dólares mensuales, esto implica un incremento del  250% en relación a la tarifa base (20 dls), esto a causa de las penalizaciones de consumos excedentes.\n",
    "    * El 50% de los usuarios consume entre 40 y 62 dolares mensuales, la distribución de los datos se observa desde los 20 hasta los 68 dólares mensuales\n",
    "\n",
    "* **Para el plan 'Ultimate' podemos observar que el comportamiento de los usuarios respecto a las mensajes si obedece a la función del plan, esto debido a que:**\n",
    "  * La varianza observada es baja (3.8), esto indica que la mayor parte de los datos están cercanos a la media aritmética de la población, en otras palabras, la mayoría de los usuarios gastan un valor cercano a los 72 dólares.\n",
    "  * existe solamente un outlier con un valor de 78 dólares, sin embargo, si bien estadísticamente se considera un outlier, sólo se eleva aproximadamente un 11.5% de la tarifa base, por otro lado, este outlier pertenece al mes de marzo, que vimos en el estudio de consumo de datos móviles que en ese mes hubo un incremento.\n",
    "  * los datos se distribuyen entre los 70 y 73 dólares mensulaes, observamos muy poca varianza de los datos.\n",
    "    \n",
    "**En conclusión, los usuarios que utilizan su plan de manera más \"eficiente\" respecto a las tarifas, son los usuarios del plan Ultimate, esto debido a que no suelen ser penalizados por consumo excedente.**\n",
    "\n",
    "**Respecto a los usuarios del plan surf, se sugiere realizar un nuevo estudio de mercado para verificar las necesidades de los usuarios, esto debido a que en promedio los usuarios gastan un 250% más de la tarifa base debido a las penalizaciones mensuales.**"
   ]
  },
  {
   "cell_type": "markdown",
   "metadata": {
    "id": "ajJ7VKeI0q1Q"
   },
   "source": [
    "## Prueba las hipótesis estadísticas"
   ]
  },
  {
   "cell_type": "markdown",
   "metadata": {
    "id": "IQwa_hsh0q1Q"
   },
   "source": [
    "\n",
    "**Hipótesis nula: Los ingresos promedio procedentes de los planes de llamada Ultimate y Surf son iguales**\n",
    "\n",
    "**Hipótesis alternativa: los ingresos promedio de los usuarios de los planes de llamada Ultimate y Surf son diferentes**\n",
    "\n",
    "**valor alpha = .05**"
   ]
  },
  {
   "cell_type": "code",
   "execution_count": 66,
   "metadata": {},
   "outputs": [
    {
     "name": "stdout",
     "output_type": "stream",
     "text": [
      "valor p:  0.000000000000470\n",
      "Rechazamos la hipótesis nula\n",
      "\n",
      "Los ingresos promedio procedentes de los usuarios del plan Surf son:  60.52600847457627\n",
      "Los ingresos promedio procedentes de los usuarios del plan Ultimate son:  72.27288428324698\n"
     ]
    }
   ],
   "source": [
    "# Prueba las hipótesis\n",
    "#utilizamos la prueba estadística: Hipótesis sobre la igualdad de las medias de dos poblaciones\n",
    "## NOTA ##\n",
    "#se corrige y se utiliza la población completa, sin agrupar por mes#\n",
    "\n",
    "alpha=.05\n",
    "surf=mdf[mdf['plan']=='surf']['bill']\n",
    "ultimate=mdf[mdf['plan']=='ultimate']['bill']\n",
    "\n",
    "results= st.ttest_ind(surf,ultimate, equal_var=False)\n",
    "\n",
    "#print(results)\n",
    "pvalue=f'{results.pvalue/2:.15f}'\n",
    "print('valor p: ',pvalue)\n",
    "\n",
    "if results.pvalue/2 < alpha:\n",
    "    print('Rechazamos la hipótesis nula')\n",
    "    \n",
    "else:\n",
    "    print('No rechazamos la hipótesis nula')\n",
    "print()\n",
    "print('Los ingresos promedio procedentes de los usuarios del plan Surf son: ',surf.mean())\n",
    "print('Los ingresos promedio procedentes de los usuarios del plan Ultimate son: ',ultimate.mean())\n",
    "\n",
    "\n"
   ]
  },
  {
   "cell_type": "markdown",
   "metadata": {
    "id": "LsBgitqj0q1R"
   },
   "source": [
    "**Hipótesis nula: Los ingresos promedio procedentes de los usuarios del área NY-NJ son iguales a los de otras áreas**\n",
    "\n",
    "**Hipótesis alternativa: los ingresos promedio de los usuarios de del área NY-NJ son diferentes a los de otras áreas**\n",
    "\n",
    "**valor alpha = .05**"
   ]
  },
  {
   "cell_type": "code",
   "execution_count": 67,
   "metadata": {
    "id": "Cqcj7wrZ0q1S"
   },
   "outputs": [
    {
     "name": "stdout",
     "output_type": "stream",
     "text": [
      "\n",
      "valor p:  0.0023323806\n",
      "Rechazamos la hipótesis nula\n",
      "\n",
      "La cantidad de dolares mensuales promedio para el área NY-NJ es:  58.129175627240144\n",
      "La cantidad de dolares mensuales promedio para el resto de las áreas es:  65.57341216216216\n"
     ]
    }
   ],
   "source": [
    "# Prueba las hipótesis\n",
    "#utilizamos la prueba estadística: Hipótesis sobre la igualdad de las medias de dos poblaciones\n",
    "\n",
    "ny_nj=mdf[mdf['city']=='New York-Newark-Jersey City, NY-NJ-PA MSA']['bill']\n",
    "\n",
    "other_areas= mdf[mdf['city']!='New York-Newark-Jersey City, NY-NJ-PA MSA']['bill']\n",
    "\n",
    "print()\n",
    "\n",
    "alpha=.05\n",
    "\n",
    "results2= st.ttest_ind(ny_nj,other_areas, equal_var=False)\n",
    "\n",
    "pvalue=f'{results2.pvalue/2:.10f}'\n",
    "print('valor p: ',pvalue)\n",
    "\n",
    "if results2.pvalue/2 < alpha:\n",
    "    print('Rechazamos la hipótesis nula')\n",
    "    \n",
    "else:\n",
    "    print('No rechazamos la hipótesis nula')\n",
    "    \n",
    "    \n",
    "print()\n",
    "print('La cantidad de dolares mensuales promedio para el área NY-NJ es: ',ny_nj.mean())\n",
    "print('La cantidad de dolares mensuales promedio para el resto de las áreas es: ',other_areas.mean())\n"
   ]
  },
  {
   "cell_type": "markdown",
   "metadata": {
    "id": "bbTR8UQO0q1T"
   },
   "source": [
    "## Conclusión general\n",
    "\n",
    "**Conclusiones**\n",
    "\n",
    "Tenemos algunas conclusiones generales y por plan:\n",
    "\n",
    "**Plan Surf:**\n",
    "   * Los usuarios de este plan suelen ser los más penalizados por consumo excedente\n",
    "   * La media de dólares gastados por usuario en este plan es de 60.52 dls\n",
    "   * Los usuarios suelen tener buenas costumbres de consumo respecto a los minutos mensuales\n",
    "   * Los usuarios suelen tener buenas costumbres de consumo respecto a los mensajes mensuales que su plan les ofrece.\n",
    "   * Los usuarios suelen gastar más GB de los que su plan les ofrece mensualmente\n",
    "\n",
    "   \n",
    "   \n",
    "**Este último punto hace que sus facturas sean muy altas, promediando los 60.52 dólares, lo cual no es redituable para el cliente.**\n",
    "\n",
    "**Desde una visión enfocada a la fidelidad y satisfacción de cliente, puede que sea útil un nuevo estudio de mercado para este plan, ya sea incrementar un poco los precios y los beneficios mensuales de tarifa base, o en su defecto diseñar un nuevo plan \"intermedio\" que ofrezca beneficios en tarifa base que sean mayores a Surf pero menores a Ultimate**\n",
    "\n",
    "**Desde una visión enfocada a la redituabilidad del plan de llamadas Surf, este plan es altamente redituable para la empresa, debido a que las penalizaciones mensuales promedian un incremento de un 302.6% en relación a la tarifa base (20 dls)**\n",
    "\n",
    "\n",
    "**Plan Ultimate:**\n",
    "\n",
    "   \n",
    "   * Los usuarios de este plan suelen ser los menos penalizados\n",
    "   * Los usuarios suelen gastar en promedio el 55.6% de su capacidad de GB mensuales (16.7 GB), lo cual se muestra sobrado en relación a los GB incluidos de tarifa base (30GB)\n",
    "   * Los usuarios suelen gastar apenas un 4% de la cantidad de mensajes incluidos en tarifa base\n",
    "   * Los usuarios suelen gastar apenas un 13.6% de la cantidad de minutos incluidos en tarifa base\n",
    "   \n",
    "**Este grupo de usuarios no suele ser penalizado, sin embargo tampoco aprovecha al máximo el beneficio de sus servicios incluidos en tarifa base.**\n",
    "\n",
    "**Desde una visión enfocada a la fidelidad y satisfacción del cliente, puede que sea útil un estudio de mercado para rediseñar el plan, pudiendo tal vez reducir un 15% los precios del plan, así como reducir un 15% los beneficios del mismo, de esta manera el usuario seguiría gozando de una gran cantidad de beneficios, sin sacrificar precio y con bajo riesgo de penalizaciones**\n",
    "\n",
    "**Desde una visión enfocada a la redituabilidad del plan de llamadas Ultimate, este plan es redituable no tanto por las penalizaciones, sino por el poco aprovechamiento del servicio por parte de sus usuarios, tienen un plan muy sobrado y consumen considerablemente menos de lo que pagan, por lo tanto la empresa gana con este comportamiento**\n",
    "\n",
    "\n",
    "\n",
    "**Conclusiones generales:**\n",
    "\n",
    "   * Observamos que para la hipótesis que los ingresos procedentes de los usuarios de ambos planes son diferentes, **se rechaza la Hipótesis Nula**, por lo tanto se **acepta la Hipótesis alternativa**, que establece que **los ingresos procedentes de los usuarios de ambos planes son diferentes**\n",
    "   \n",
    "   \n",
    "   * Observamos que para la hipótesis que los ingresos procedentes de los usuarios del área NY-NJ comparado con los del resto de las áreas son diferentes, **se rechaza la Hipótesis Nula**, por lo tanto se **acepta la Hipótesis alternativa**, que establece que **los ingresos procedentes e los usuarios del área NY-NJ comparado con los del resto de las áreas son diferentes**\n",
    "   \n",
    "   \n",
    "   \n",
    "**Tal como menciono anteriormente, desde una visión enfocada a la redituabilidad, el plan más redituable conluiría que es el Surf, debido a la gran cantidad de penalizaciones que presentan los clientes, esto genera ingresos extas a la empresa**\n",
    "\n",
    "**Sin embargo también consideramos que el plan Ultimate se vuelve redituable debido a los altos beneficios en servicios (llamadas, mensajeria, datos móviles) pagados por los clientes y que no son aprovechados, esto genera un menor consumo de recursos a la empresa, mientras el cliente sigue pagando tarifas \"altas\"**"
   ]
  }
 ],
 "metadata": {
  "ExecuteTimeLog": [
   {
    "duration": 828,
    "start_time": "2021-11-16T09:21:11.304Z"
   },
   {
    "duration": 893,
    "start_time": "2021-11-16T09:21:17.728Z"
   },
   {
    "duration": 1150,
    "start_time": "2021-11-16T09:21:29.568Z"
   },
   {
    "duration": 3,
    "start_time": "2021-11-16T09:24:14.495Z"
   },
   {
    "duration": 120,
    "start_time": "2021-11-16T09:24:46.630Z"
   },
   {
    "duration": 3,
    "start_time": "2021-11-16T09:28:27.882Z"
   },
   {
    "duration": 4,
    "start_time": "2021-11-16T09:29:54.281Z"
   },
   {
    "duration": 3,
    "start_time": "2021-11-16T09:30:45.936Z"
   },
   {
    "duration": 4,
    "start_time": "2021-11-16T09:31:06.300Z"
   },
   {
    "duration": 113,
    "start_time": "2021-11-16T09:31:37.208Z"
   },
   {
    "duration": 143,
    "start_time": "2021-11-16T09:31:48.656Z"
   },
   {
    "duration": 98,
    "start_time": "2021-11-16T09:31:55.678Z"
   },
   {
    "duration": 3,
    "start_time": "2021-11-16T09:32:08.535Z"
   },
   {
    "duration": 111,
    "start_time": "2021-11-16T09:32:10.120Z"
   },
   {
    "duration": 3,
    "start_time": "2021-11-16T09:32:15.732Z"
   },
   {
    "duration": 4,
    "start_time": "2021-11-16T09:32:29.423Z"
   },
   {
    "duration": 3,
    "start_time": "2021-11-16T10:03:03.074Z"
   },
   {
    "duration": 3,
    "start_time": "2021-11-16T10:10:01.288Z"
   },
   {
    "duration": 3,
    "start_time": "2021-11-16T10:10:46.923Z"
   },
   {
    "duration": 121,
    "start_time": "2021-11-16T10:37:46.494Z"
   },
   {
    "duration": 125,
    "start_time": "2021-11-16T10:38:20.632Z"
   },
   {
    "duration": 112,
    "start_time": "2021-11-16T10:46:53.001Z"
   },
   {
    "duration": 110,
    "start_time": "2021-11-16T10:48:25.775Z"
   },
   {
    "duration": 3,
    "start_time": "2021-11-16T10:50:18.720Z"
   },
   {
    "duration": 4,
    "start_time": "2021-11-16T10:50:37.649Z"
   },
   {
    "duration": 2,
    "start_time": "2021-11-16T10:50:51.884Z"
   },
   {
    "duration": 3,
    "start_time": "2021-11-16T10:51:56.237Z"
   },
   {
    "duration": 101,
    "start_time": "2021-11-16T10:53:13.791Z"
   },
   {
    "duration": 3,
    "start_time": "2021-11-16T10:55:59.186Z"
   },
   {
    "duration": 3,
    "start_time": "2021-11-16T10:56:10.751Z"
   },
   {
    "duration": 3,
    "start_time": "2021-11-16T10:56:49.038Z"
   },
   {
    "duration": 3,
    "start_time": "2021-11-16T10:56:49.174Z"
   },
   {
    "duration": 4,
    "start_time": "2021-11-16T10:56:49.414Z"
   },
   {
    "duration": 3,
    "start_time": "2021-11-16T10:56:49.680Z"
   },
   {
    "duration": 3,
    "start_time": "2021-11-16T10:56:50.370Z"
   },
   {
    "duration": 114,
    "start_time": "2021-11-16T10:59:34.518Z"
   },
   {
    "duration": 3,
    "start_time": "2021-11-16T11:01:41.201Z"
   },
   {
    "duration": 116,
    "start_time": "2021-11-16T11:01:48.754Z"
   },
   {
    "duration": 3,
    "start_time": "2021-11-16T11:02:16.685Z"
   },
   {
    "duration": 3,
    "start_time": "2021-11-16T11:02:19.479Z"
   },
   {
    "duration": 3,
    "start_time": "2021-11-16T11:02:47.067Z"
   },
   {
    "duration": 3,
    "start_time": "2021-11-16T11:02:49.353Z"
   },
   {
    "duration": 3,
    "start_time": "2021-11-16T11:03:07.835Z"
   },
   {
    "duration": 3,
    "start_time": "2021-11-16T11:03:07.953Z"
   },
   {
    "duration": 112,
    "start_time": "2021-11-16T11:07:52.072Z"
   },
   {
    "duration": 187,
    "start_time": "2021-11-16T11:09:23.468Z"
   },
   {
    "duration": 4,
    "start_time": "2021-11-16T11:10:01.455Z"
   },
   {
    "duration": 3,
    "start_time": "2021-11-16T11:10:05.069Z"
   },
   {
    "duration": 4,
    "start_time": "2021-11-16T11:10:13.376Z"
   },
   {
    "duration": 3,
    "start_time": "2021-11-16T11:10:14.434Z"
   },
   {
    "duration": 3,
    "start_time": "2021-11-16T11:10:22.853Z"
   },
   {
    "duration": 4,
    "start_time": "2021-11-16T11:27:29.279Z"
   },
   {
    "duration": 4,
    "start_time": "2021-11-16T11:29:08.919Z"
   },
   {
    "duration": 118,
    "start_time": "2021-11-16T11:29:46.703Z"
   },
   {
    "duration": 437,
    "start_time": "2021-11-16T11:36:02.181Z"
   },
   {
    "duration": 157,
    "start_time": "2021-11-16T11:36:14.388Z"
   },
   {
    "duration": 207,
    "start_time": "2021-11-16T11:47:15.898Z"
   },
   {
    "duration": 3,
    "start_time": "2021-11-16T11:53:52.092Z"
   },
   {
    "duration": 3,
    "start_time": "2021-11-16T11:53:52.236Z"
   },
   {
    "duration": 3,
    "start_time": "2021-11-16T11:59:12.005Z"
   },
   {
    "duration": 112,
    "start_time": "2021-11-16T12:00:33.446Z"
   },
   {
    "duration": 3,
    "start_time": "2021-11-16T12:02:14.453Z"
   },
   {
    "duration": 3,
    "start_time": "2021-11-16T12:02:39.512Z"
   },
   {
    "duration": 106,
    "start_time": "2021-11-16T12:03:03.460Z"
   },
   {
    "duration": 3,
    "start_time": "2021-11-17T20:37:21.139Z"
   },
   {
    "duration": 3,
    "start_time": "2021-11-17T20:37:22.229Z"
   },
   {
    "duration": 3,
    "start_time": "2021-11-17T20:38:38.806Z"
   },
   {
    "duration": 3,
    "start_time": "2021-11-17T20:38:41.958Z"
   },
   {
    "duration": 3,
    "start_time": "2021-11-17T20:43:46.551Z"
   },
   {
    "duration": 4,
    "start_time": "2021-11-17T20:58:21.835Z"
   },
   {
    "duration": 3,
    "start_time": "2021-11-17T20:59:21.872Z"
   },
   {
    "duration": 4,
    "start_time": "2021-11-17T20:59:45.352Z"
   },
   {
    "duration": 4,
    "start_time": "2021-11-17T20:59:49.646Z"
   },
   {
    "duration": 159,
    "start_time": "2021-11-17T21:02:26.949Z"
   },
   {
    "duration": 3,
    "start_time": "2021-11-17T21:03:53.461Z"
   },
   {
    "duration": 3,
    "start_time": "2021-11-17T21:03:53.694Z"
   },
   {
    "duration": 3,
    "start_time": "2021-11-17T21:05:28.145Z"
   },
   {
    "duration": 116,
    "start_time": "2021-11-17T21:05:57.787Z"
   },
   {
    "duration": 3,
    "start_time": "2021-11-17T21:06:37.993Z"
   },
   {
    "duration": 3,
    "start_time": "2021-11-17T21:06:38.261Z"
   },
   {
    "duration": 3,
    "start_time": "2021-11-17T21:11:54.358Z"
   },
   {
    "duration": 3,
    "start_time": "2021-11-17T21:12:43.846Z"
   },
   {
    "duration": 4,
    "start_time": "2021-11-17T21:13:08.773Z"
   },
   {
    "duration": 3,
    "start_time": "2021-11-17T21:14:44.441Z"
   },
   {
    "duration": 3,
    "start_time": "2021-11-17T21:15:42.059Z"
   },
   {
    "duration": 4,
    "start_time": "2021-11-17T21:15:51.995Z"
   },
   {
    "duration": 3,
    "start_time": "2021-11-17T21:15:53.923Z"
   },
   {
    "duration": 3,
    "start_time": "2021-11-17T21:15:55.282Z"
   },
   {
    "duration": 3,
    "start_time": "2021-11-17T21:16:28.492Z"
   },
   {
    "duration": 3,
    "start_time": "2021-11-17T21:16:32.603Z"
   },
   {
    "duration": 3,
    "start_time": "2021-11-17T21:17:06.941Z"
   },
   {
    "duration": 98,
    "start_time": "2021-11-17T21:18:05.733Z"
   },
   {
    "duration": 4,
    "start_time": "2021-11-17T21:21:35.255Z"
   },
   {
    "duration": 3,
    "start_time": "2021-11-17T21:21:37.804Z"
   },
   {
    "duration": 4,
    "start_time": "2021-11-17T21:23:06.071Z"
   },
   {
    "duration": 3,
    "start_time": "2021-11-17T21:23:24.799Z"
   },
   {
    "duration": 3,
    "start_time": "2021-11-17T21:23:32.591Z"
   },
   {
    "duration": 98,
    "start_time": "2021-11-17T21:28:31.559Z"
   },
   {
    "duration": 3,
    "start_time": "2021-11-17T21:28:45.448Z"
   },
   {
    "duration": 3,
    "start_time": "2021-11-17T21:29:17.303Z"
   },
   {
    "duration": 3,
    "start_time": "2021-11-17T21:29:29.617Z"
   },
   {
    "duration": 3,
    "start_time": "2021-11-17T21:29:32.681Z"
   },
   {
    "duration": 3,
    "start_time": "2021-11-17T21:36:11.474Z"
   },
   {
    "duration": 3,
    "start_time": "2021-11-17T21:36:14.791Z"
   },
   {
    "duration": 3,
    "start_time": "2021-11-17T21:36:53.943Z"
   },
   {
    "duration": 3,
    "start_time": "2021-11-17T21:36:56.165Z"
   },
   {
    "duration": 4,
    "start_time": "2021-11-17T21:37:16.590Z"
   },
   {
    "duration": 3,
    "start_time": "2021-11-17T21:37:22.702Z"
   },
   {
    "duration": 4,
    "start_time": "2021-11-17T21:38:03.479Z"
   },
   {
    "duration": 3,
    "start_time": "2021-11-17T21:38:08.601Z"
   },
   {
    "duration": 3,
    "start_time": "2021-11-17T21:38:12.928Z"
   },
   {
    "duration": 3,
    "start_time": "2021-11-17T21:38:48.896Z"
   },
   {
    "duration": 2,
    "start_time": "2021-11-17T21:38:49.171Z"
   },
   {
    "duration": 4,
    "start_time": "2021-11-17T21:39:57.889Z"
   },
   {
    "duration": 3,
    "start_time": "2021-11-17T21:39:58.057Z"
   },
   {
    "duration": 3,
    "start_time": "2021-11-17T21:41:20.108Z"
   },
   {
    "duration": 3,
    "start_time": "2021-11-17T21:41:20.629Z"
   },
   {
    "duration": 3,
    "start_time": "2021-11-17T21:42:49.136Z"
   },
   {
    "duration": 3,
    "start_time": "2021-11-17T21:43:15.137Z"
   },
   {
    "duration": 4,
    "start_time": "2021-11-17T21:43:16.766Z"
   },
   {
    "duration": 4,
    "start_time": "2021-11-17T21:43:31.711Z"
   },
   {
    "duration": 3,
    "start_time": "2021-11-17T21:43:36.312Z"
   },
   {
    "duration": 4,
    "start_time": "2021-11-17T21:45:08.825Z"
   },
   {
    "duration": 4,
    "start_time": "2021-11-17T21:45:10.119Z"
   },
   {
    "duration": 4,
    "start_time": "2021-11-17T21:45:13.748Z"
   },
   {
    "duration": 3,
    "start_time": "2021-11-17T21:45:22.219Z"
   },
   {
    "duration": 3,
    "start_time": "2021-11-17T21:45:33.412Z"
   },
   {
    "duration": 2,
    "start_time": "2021-11-17T21:46:01.885Z"
   },
   {
    "duration": 3,
    "start_time": "2021-11-17T21:46:03.628Z"
   },
   {
    "duration": 107,
    "start_time": "2021-11-17T21:47:32.512Z"
   },
   {
    "duration": 103,
    "start_time": "2021-11-17T21:50:36.243Z"
   },
   {
    "duration": 3,
    "start_time": "2021-11-18T06:28:31.440Z"
   },
   {
    "duration": 3,
    "start_time": "2021-11-18T06:29:00.168Z"
   },
   {
    "duration": 3,
    "start_time": "2021-11-18T06:31:27.008Z"
   },
   {
    "duration": 2,
    "start_time": "2021-11-18T06:35:34.288Z"
   },
   {
    "duration": 2,
    "start_time": "2021-11-18T06:38:04.527Z"
   },
   {
    "duration": 1383,
    "start_time": "2024-07-24T08:37:19.461Z"
   },
   {
    "duration": 359,
    "start_time": "2024-07-24T08:37:20.848Z"
   },
   {
    "duration": 16,
    "start_time": "2024-07-24T08:37:21.210Z"
   },
   {
    "duration": 12,
    "start_time": "2024-07-24T08:37:21.232Z"
   },
   {
    "duration": 9,
    "start_time": "2024-07-24T08:37:21.247Z"
   },
   {
    "duration": 16,
    "start_time": "2024-07-24T08:37:21.290Z"
   },
   {
    "duration": 9,
    "start_time": "2024-07-24T08:37:21.310Z"
   },
   {
    "duration": 23,
    "start_time": "2024-07-24T08:37:21.322Z"
   },
   {
    "duration": 44,
    "start_time": "2024-07-24T08:37:21.348Z"
   },
   {
    "duration": 11,
    "start_time": "2024-07-24T08:37:21.399Z"
   },
   {
    "duration": 26,
    "start_time": "2024-07-24T08:37:21.413Z"
   },
   {
    "duration": 50,
    "start_time": "2024-07-24T08:37:21.442Z"
   },
   {
    "duration": 59,
    "start_time": "2024-07-24T08:37:21.495Z"
   },
   {
    "duration": 51,
    "start_time": "2024-07-24T08:37:21.557Z"
   },
   {
    "duration": 21,
    "start_time": "2024-07-24T08:37:21.611Z"
   },
   {
    "duration": 11,
    "start_time": "2024-07-24T08:37:21.635Z"
   },
   {
    "duration": 73,
    "start_time": "2024-07-24T08:37:21.651Z"
   },
   {
    "duration": 18,
    "start_time": "2024-07-24T08:37:21.728Z"
   },
   {
    "duration": 52,
    "start_time": "2024-07-24T08:37:21.749Z"
   },
   {
    "duration": 15,
    "start_time": "2024-07-24T08:37:21.804Z"
   },
   {
    "duration": 76,
    "start_time": "2024-07-24T08:37:21.823Z"
   },
   {
    "duration": 20,
    "start_time": "2024-07-24T08:37:21.902Z"
   },
   {
    "duration": 24,
    "start_time": "2024-07-24T08:37:21.925Z"
   },
   {
    "duration": 39,
    "start_time": "2024-07-24T08:37:21.953Z"
   },
   {
    "duration": 32,
    "start_time": "2024-07-24T08:37:21.996Z"
   },
   {
    "duration": 67,
    "start_time": "2024-07-24T08:37:22.032Z"
   },
   {
    "duration": 8,
    "start_time": "2024-07-24T08:37:22.103Z"
   },
   {
    "duration": 30,
    "start_time": "2024-07-24T08:37:22.120Z"
   },
   {
    "duration": 46,
    "start_time": "2024-07-24T08:37:22.154Z"
   },
   {
    "duration": 6,
    "start_time": "2024-07-24T08:37:22.203Z"
   },
   {
    "duration": 7,
    "start_time": "2024-07-24T08:37:22.213Z"
   },
   {
    "duration": 14,
    "start_time": "2024-07-24T08:37:22.224Z"
   },
   {
    "duration": 69,
    "start_time": "2024-07-24T08:37:22.242Z"
   },
   {
    "duration": 16,
    "start_time": "2024-07-24T08:37:22.314Z"
   },
   {
    "duration": 66,
    "start_time": "2024-07-24T08:37:22.333Z"
   },
   {
    "duration": 5,
    "start_time": "2024-07-24T08:37:22.403Z"
   },
   {
    "duration": 14,
    "start_time": "2024-07-24T08:37:22.413Z"
   },
   {
    "duration": 82,
    "start_time": "2024-07-24T08:37:22.431Z"
   },
   {
    "duration": 15,
    "start_time": "2024-07-24T08:37:22.517Z"
   },
   {
    "duration": 12000,
    "start_time": "2024-07-24T08:37:22.535Z"
   },
   {
    "duration": 16,
    "start_time": "2024-07-24T08:37:34.538Z"
   },
   {
    "duration": 50,
    "start_time": "2024-07-24T08:37:34.558Z"
   },
   {
    "duration": 381,
    "start_time": "2024-07-24T08:37:34.611Z"
   },
   {
    "duration": 4,
    "start_time": "2024-07-24T08:37:34.995Z"
   },
   {
    "duration": 320,
    "start_time": "2024-07-24T08:37:41.905Z"
   }
  ],
  "colab": {
   "provenance": []
  },
  "kernelspec": {
   "display_name": "Python 3 (ipykernel)",
   "language": "python",
   "name": "python3"
  },
  "language_info": {
   "codemirror_mode": {
    "name": "ipython",
    "version": 3
   },
   "file_extension": ".py",
   "mimetype": "text/x-python",
   "name": "python",
   "nbconvert_exporter": "python",
   "pygments_lexer": "ipython3",
   "version": "3.9.19"
  },
  "toc": {
   "base_numbering": 1,
   "nav_menu": {},
   "number_sections": true,
   "sideBar": true,
   "skip_h1_title": false,
   "title_cell": "Table of Contents",
   "title_sidebar": "Contents",
   "toc_cell": false,
   "toc_position": {
    "height": "calc(100% - 180px)",
    "left": "10px",
    "top": "150px",
    "width": "164.979px"
   },
   "toc_section_display": true,
   "toc_window_display": true
  }
 },
 "nbformat": 4,
 "nbformat_minor": 1
}
