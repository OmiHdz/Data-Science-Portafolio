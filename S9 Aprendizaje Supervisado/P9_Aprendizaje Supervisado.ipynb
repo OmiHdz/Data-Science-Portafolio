{
 "cells": [
  {
   "cell_type": "markdown",
   "metadata": {},
   "source": [
    "# Descripción del proyecto\n",
    "\n",
    "Los clientes de Beta Bank se están yendo, cada mes, poco a poco. Los banqueros descubrieron que es más barato salvar a los clientes existentes que atraer nuevos.\n",
    "\n",
    "Se requiere predecir si un cliente dejará el banco pronto. contamos con los datos sobre el comportamiento pasado de los clientes y la terminación de contratos con el banco.\n",
    "\n",
    "Vamos a crear un modelo con el máximo valor F1 posible. se requiere un valor al menos de 0.59 y verificar el F1 para el conjunto de prueba.\n",
    "Además se requerirá medir la métrica AUC-ROC y compararla con el valor F1\n"
   ]
  },
  {
   "cell_type": "markdown",
   "metadata": {},
   "source": [
    "## Importando Librerías"
   ]
  },
  {
   "cell_type": "code",
   "execution_count": 1,
   "metadata": {},
   "outputs": [],
   "source": [
    "import pandas as pd\n",
    "import numpy as np\n",
    "import matplotlib.pyplot as plt\n",
    "import seaborn as sns\n",
    "from sklearn.preprocessing import StandardScaler\n",
    "from sklearn.model_selection import train_test_split, GridSearchCV\n",
    "from sklearn.linear_model import LogisticRegression\n",
    "from sklearn.metrics import f1_score\n",
    "from sklearn.ensemble import RandomForestClassifier\n",
    "from sklearn.metrics import roc_auc_score\n",
    "\n",
    "\n",
    "from sklearn.metrics import accuracy_score\n",
    "from sklearn.utils import shuffle\n"
   ]
  },
  {
   "cell_type": "markdown",
   "metadata": {},
   "source": [
    "## Cargando dataset"
   ]
  },
  {
   "cell_type": "code",
   "execution_count": 2,
   "metadata": {},
   "outputs": [],
   "source": [
    "data = pd.read_csv('/datasets/Churn.csv')"
   ]
  },
  {
   "cell_type": "markdown",
   "metadata": {},
   "source": [
    "## Explorando el contenido del dataset"
   ]
  },
  {
   "cell_type": "code",
   "execution_count": 3,
   "metadata": {
    "scrolled": false
   },
   "outputs": [
    {
     "data": {
      "text/html": [
       "<div>\n",
       "<style scoped>\n",
       "    .dataframe tbody tr th:only-of-type {\n",
       "        vertical-align: middle;\n",
       "    }\n",
       "\n",
       "    .dataframe tbody tr th {\n",
       "        vertical-align: top;\n",
       "    }\n",
       "\n",
       "    .dataframe thead th {\n",
       "        text-align: right;\n",
       "    }\n",
       "</style>\n",
       "<table border=\"1\" class=\"dataframe\">\n",
       "  <thead>\n",
       "    <tr style=\"text-align: right;\">\n",
       "      <th></th>\n",
       "      <th>RowNumber</th>\n",
       "      <th>CustomerId</th>\n",
       "      <th>CreditScore</th>\n",
       "      <th>Age</th>\n",
       "      <th>Tenure</th>\n",
       "      <th>Balance</th>\n",
       "      <th>NumOfProducts</th>\n",
       "      <th>HasCrCard</th>\n",
       "      <th>IsActiveMember</th>\n",
       "      <th>EstimatedSalary</th>\n",
       "      <th>Exited</th>\n",
       "    </tr>\n",
       "  </thead>\n",
       "  <tbody>\n",
       "    <tr>\n",
       "      <th>count</th>\n",
       "      <td>10000.00000</td>\n",
       "      <td>1.000000e+04</td>\n",
       "      <td>10000.000000</td>\n",
       "      <td>10000.000000</td>\n",
       "      <td>9091.000000</td>\n",
       "      <td>10000.000000</td>\n",
       "      <td>10000.000000</td>\n",
       "      <td>10000.00000</td>\n",
       "      <td>10000.000000</td>\n",
       "      <td>10000.000000</td>\n",
       "      <td>10000.000000</td>\n",
       "    </tr>\n",
       "    <tr>\n",
       "      <th>mean</th>\n",
       "      <td>5000.50000</td>\n",
       "      <td>1.569094e+07</td>\n",
       "      <td>650.528800</td>\n",
       "      <td>38.921800</td>\n",
       "      <td>4.997690</td>\n",
       "      <td>76485.889288</td>\n",
       "      <td>1.530200</td>\n",
       "      <td>0.70550</td>\n",
       "      <td>0.515100</td>\n",
       "      <td>100090.239881</td>\n",
       "      <td>0.203700</td>\n",
       "    </tr>\n",
       "    <tr>\n",
       "      <th>std</th>\n",
       "      <td>2886.89568</td>\n",
       "      <td>7.193619e+04</td>\n",
       "      <td>96.653299</td>\n",
       "      <td>10.487806</td>\n",
       "      <td>2.894723</td>\n",
       "      <td>62397.405202</td>\n",
       "      <td>0.581654</td>\n",
       "      <td>0.45584</td>\n",
       "      <td>0.499797</td>\n",
       "      <td>57510.492818</td>\n",
       "      <td>0.402769</td>\n",
       "    </tr>\n",
       "    <tr>\n",
       "      <th>min</th>\n",
       "      <td>1.00000</td>\n",
       "      <td>1.556570e+07</td>\n",
       "      <td>350.000000</td>\n",
       "      <td>18.000000</td>\n",
       "      <td>0.000000</td>\n",
       "      <td>0.000000</td>\n",
       "      <td>1.000000</td>\n",
       "      <td>0.00000</td>\n",
       "      <td>0.000000</td>\n",
       "      <td>11.580000</td>\n",
       "      <td>0.000000</td>\n",
       "    </tr>\n",
       "    <tr>\n",
       "      <th>25%</th>\n",
       "      <td>2500.75000</td>\n",
       "      <td>1.562853e+07</td>\n",
       "      <td>584.000000</td>\n",
       "      <td>32.000000</td>\n",
       "      <td>2.000000</td>\n",
       "      <td>0.000000</td>\n",
       "      <td>1.000000</td>\n",
       "      <td>0.00000</td>\n",
       "      <td>0.000000</td>\n",
       "      <td>51002.110000</td>\n",
       "      <td>0.000000</td>\n",
       "    </tr>\n",
       "    <tr>\n",
       "      <th>50%</th>\n",
       "      <td>5000.50000</td>\n",
       "      <td>1.569074e+07</td>\n",
       "      <td>652.000000</td>\n",
       "      <td>37.000000</td>\n",
       "      <td>5.000000</td>\n",
       "      <td>97198.540000</td>\n",
       "      <td>1.000000</td>\n",
       "      <td>1.00000</td>\n",
       "      <td>1.000000</td>\n",
       "      <td>100193.915000</td>\n",
       "      <td>0.000000</td>\n",
       "    </tr>\n",
       "    <tr>\n",
       "      <th>75%</th>\n",
       "      <td>7500.25000</td>\n",
       "      <td>1.575323e+07</td>\n",
       "      <td>718.000000</td>\n",
       "      <td>44.000000</td>\n",
       "      <td>7.000000</td>\n",
       "      <td>127644.240000</td>\n",
       "      <td>2.000000</td>\n",
       "      <td>1.00000</td>\n",
       "      <td>1.000000</td>\n",
       "      <td>149388.247500</td>\n",
       "      <td>0.000000</td>\n",
       "    </tr>\n",
       "    <tr>\n",
       "      <th>max</th>\n",
       "      <td>10000.00000</td>\n",
       "      <td>1.581569e+07</td>\n",
       "      <td>850.000000</td>\n",
       "      <td>92.000000</td>\n",
       "      <td>10.000000</td>\n",
       "      <td>250898.090000</td>\n",
       "      <td>4.000000</td>\n",
       "      <td>1.00000</td>\n",
       "      <td>1.000000</td>\n",
       "      <td>199992.480000</td>\n",
       "      <td>1.000000</td>\n",
       "    </tr>\n",
       "  </tbody>\n",
       "</table>\n",
       "</div>"
      ],
      "text/plain": [
       "         RowNumber    CustomerId   CreditScore           Age       Tenure  \\\n",
       "count  10000.00000  1.000000e+04  10000.000000  10000.000000  9091.000000   \n",
       "mean    5000.50000  1.569094e+07    650.528800     38.921800     4.997690   \n",
       "std     2886.89568  7.193619e+04     96.653299     10.487806     2.894723   \n",
       "min        1.00000  1.556570e+07    350.000000     18.000000     0.000000   \n",
       "25%     2500.75000  1.562853e+07    584.000000     32.000000     2.000000   \n",
       "50%     5000.50000  1.569074e+07    652.000000     37.000000     5.000000   \n",
       "75%     7500.25000  1.575323e+07    718.000000     44.000000     7.000000   \n",
       "max    10000.00000  1.581569e+07    850.000000     92.000000    10.000000   \n",
       "\n",
       "             Balance  NumOfProducts    HasCrCard  IsActiveMember  \\\n",
       "count   10000.000000   10000.000000  10000.00000    10000.000000   \n",
       "mean    76485.889288       1.530200      0.70550        0.515100   \n",
       "std     62397.405202       0.581654      0.45584        0.499797   \n",
       "min         0.000000       1.000000      0.00000        0.000000   \n",
       "25%         0.000000       1.000000      0.00000        0.000000   \n",
       "50%     97198.540000       1.000000      1.00000        1.000000   \n",
       "75%    127644.240000       2.000000      1.00000        1.000000   \n",
       "max    250898.090000       4.000000      1.00000        1.000000   \n",
       "\n",
       "       EstimatedSalary        Exited  \n",
       "count     10000.000000  10000.000000  \n",
       "mean     100090.239881      0.203700  \n",
       "std       57510.492818      0.402769  \n",
       "min          11.580000      0.000000  \n",
       "25%       51002.110000      0.000000  \n",
       "50%      100193.915000      0.000000  \n",
       "75%      149388.247500      0.000000  \n",
       "max      199992.480000      1.000000  "
      ]
     },
     "execution_count": 3,
     "metadata": {},
     "output_type": "execute_result"
    }
   ],
   "source": [
    "data.describe()"
   ]
  },
  {
   "cell_type": "code",
   "execution_count": 4,
   "metadata": {
    "scrolled": false
   },
   "outputs": [
    {
     "name": "stdout",
     "output_type": "stream",
     "text": [
      "<class 'pandas.core.frame.DataFrame'>\n",
      "RangeIndex: 10000 entries, 0 to 9999\n",
      "Data columns (total 14 columns):\n",
      " #   Column           Non-Null Count  Dtype  \n",
      "---  ------           --------------  -----  \n",
      " 0   RowNumber        10000 non-null  int64  \n",
      " 1   CustomerId       10000 non-null  int64  \n",
      " 2   Surname          10000 non-null  object \n",
      " 3   CreditScore      10000 non-null  int64  \n",
      " 4   Geography        10000 non-null  object \n",
      " 5   Gender           10000 non-null  object \n",
      " 6   Age              10000 non-null  int64  \n",
      " 7   Tenure           9091 non-null   float64\n",
      " 8   Balance          10000 non-null  float64\n",
      " 9   NumOfProducts    10000 non-null  int64  \n",
      " 10  HasCrCard        10000 non-null  int64  \n",
      " 11  IsActiveMember   10000 non-null  int64  \n",
      " 12  EstimatedSalary  10000 non-null  float64\n",
      " 13  Exited           10000 non-null  int64  \n",
      "dtypes: float64(3), int64(8), object(3)\n",
      "memory usage: 1.1+ MB\n",
      "None\n"
     ]
    }
   ],
   "source": [
    "print(data.info())"
   ]
  },
  {
   "cell_type": "code",
   "execution_count": 5,
   "metadata": {
    "scrolled": false
   },
   "outputs": [
    {
     "data": {
      "text/html": [
       "<div>\n",
       "<style scoped>\n",
       "    .dataframe tbody tr th:only-of-type {\n",
       "        vertical-align: middle;\n",
       "    }\n",
       "\n",
       "    .dataframe tbody tr th {\n",
       "        vertical-align: top;\n",
       "    }\n",
       "\n",
       "    .dataframe thead th {\n",
       "        text-align: right;\n",
       "    }\n",
       "</style>\n",
       "<table border=\"1\" class=\"dataframe\">\n",
       "  <thead>\n",
       "    <tr style=\"text-align: right;\">\n",
       "      <th></th>\n",
       "      <th>RowNumber</th>\n",
       "      <th>CustomerId</th>\n",
       "      <th>Surname</th>\n",
       "      <th>CreditScore</th>\n",
       "      <th>Geography</th>\n",
       "      <th>Gender</th>\n",
       "      <th>Age</th>\n",
       "      <th>Tenure</th>\n",
       "      <th>Balance</th>\n",
       "      <th>NumOfProducts</th>\n",
       "      <th>HasCrCard</th>\n",
       "      <th>IsActiveMember</th>\n",
       "      <th>EstimatedSalary</th>\n",
       "      <th>Exited</th>\n",
       "    </tr>\n",
       "  </thead>\n",
       "  <tbody>\n",
       "    <tr>\n",
       "      <th>0</th>\n",
       "      <td>1</td>\n",
       "      <td>15634602</td>\n",
       "      <td>Hargrave</td>\n",
       "      <td>619</td>\n",
       "      <td>France</td>\n",
       "      <td>Female</td>\n",
       "      <td>42</td>\n",
       "      <td>2.0</td>\n",
       "      <td>0.00</td>\n",
       "      <td>1</td>\n",
       "      <td>1</td>\n",
       "      <td>1</td>\n",
       "      <td>101348.88</td>\n",
       "      <td>1</td>\n",
       "    </tr>\n",
       "    <tr>\n",
       "      <th>1</th>\n",
       "      <td>2</td>\n",
       "      <td>15647311</td>\n",
       "      <td>Hill</td>\n",
       "      <td>608</td>\n",
       "      <td>Spain</td>\n",
       "      <td>Female</td>\n",
       "      <td>41</td>\n",
       "      <td>1.0</td>\n",
       "      <td>83807.86</td>\n",
       "      <td>1</td>\n",
       "      <td>0</td>\n",
       "      <td>1</td>\n",
       "      <td>112542.58</td>\n",
       "      <td>0</td>\n",
       "    </tr>\n",
       "    <tr>\n",
       "      <th>2</th>\n",
       "      <td>3</td>\n",
       "      <td>15619304</td>\n",
       "      <td>Onio</td>\n",
       "      <td>502</td>\n",
       "      <td>France</td>\n",
       "      <td>Female</td>\n",
       "      <td>42</td>\n",
       "      <td>8.0</td>\n",
       "      <td>159660.80</td>\n",
       "      <td>3</td>\n",
       "      <td>1</td>\n",
       "      <td>0</td>\n",
       "      <td>113931.57</td>\n",
       "      <td>1</td>\n",
       "    </tr>\n",
       "    <tr>\n",
       "      <th>3</th>\n",
       "      <td>4</td>\n",
       "      <td>15701354</td>\n",
       "      <td>Boni</td>\n",
       "      <td>699</td>\n",
       "      <td>France</td>\n",
       "      <td>Female</td>\n",
       "      <td>39</td>\n",
       "      <td>1.0</td>\n",
       "      <td>0.00</td>\n",
       "      <td>2</td>\n",
       "      <td>0</td>\n",
       "      <td>0</td>\n",
       "      <td>93826.63</td>\n",
       "      <td>0</td>\n",
       "    </tr>\n",
       "    <tr>\n",
       "      <th>4</th>\n",
       "      <td>5</td>\n",
       "      <td>15737888</td>\n",
       "      <td>Mitchell</td>\n",
       "      <td>850</td>\n",
       "      <td>Spain</td>\n",
       "      <td>Female</td>\n",
       "      <td>43</td>\n",
       "      <td>2.0</td>\n",
       "      <td>125510.82</td>\n",
       "      <td>1</td>\n",
       "      <td>1</td>\n",
       "      <td>1</td>\n",
       "      <td>79084.10</td>\n",
       "      <td>0</td>\n",
       "    </tr>\n",
       "  </tbody>\n",
       "</table>\n",
       "</div>"
      ],
      "text/plain": [
       "   RowNumber  CustomerId   Surname  CreditScore Geography  Gender  Age  \\\n",
       "0          1    15634602  Hargrave          619    France  Female   42   \n",
       "1          2    15647311      Hill          608     Spain  Female   41   \n",
       "2          3    15619304      Onio          502    France  Female   42   \n",
       "3          4    15701354      Boni          699    France  Female   39   \n",
       "4          5    15737888  Mitchell          850     Spain  Female   43   \n",
       "\n",
       "   Tenure    Balance  NumOfProducts  HasCrCard  IsActiveMember  \\\n",
       "0     2.0       0.00              1          1               1   \n",
       "1     1.0   83807.86              1          0               1   \n",
       "2     8.0  159660.80              3          1               0   \n",
       "3     1.0       0.00              2          0               0   \n",
       "4     2.0  125510.82              1          1               1   \n",
       "\n",
       "   EstimatedSalary  Exited  \n",
       "0        101348.88       1  \n",
       "1        112542.58       0  \n",
       "2        113931.57       1  \n",
       "3         93826.63       0  \n",
       "4         79084.10       0  "
      ]
     },
     "execution_count": 5,
     "metadata": {},
     "output_type": "execute_result"
    }
   ],
   "source": [
    "data.head()"
   ]
  },
  {
   "cell_type": "code",
   "execution_count": 6,
   "metadata": {},
   "outputs": [
    {
     "data": {
      "text/plain": [
       "(10000, 14)"
      ]
     },
     "execution_count": 6,
     "metadata": {},
     "output_type": "execute_result"
    }
   ],
   "source": [
    "data.shape"
   ]
  },
  {
   "cell_type": "markdown",
   "metadata": {},
   "source": [
    "### **Conociendo el contenido de las columnas:**\n",
    "\n",
    "* RowNumber - índice de fila en los datos\n",
    "* CustomerId - identificador único del cliente\n",
    "* Surname - apellido\n",
    "* CreditScore - calificación crediticia\n",
    "* Geography - país de residencia\n",
    "* Gender - sexo\n",
    "* Age - edad\n",
    "* Tenure - período durante el cual ha madurado el depósito a plazo fijo de un cliente (años)cuántos años una persona ha sido cliente del banco\n",
    "* Balance - saldo de la cuenta\n",
    "* NumOfProducts - número de productos bancarios utilizados por el cliente\n",
    "* HasCrCard - disponibilidad de tarjeta de crédito\n",
    "* IsActiveMember - actividad del cliente\n",
    "* EstimatedSalary - salario estimado"
   ]
  },
  {
   "cell_type": "markdown",
   "metadata": {},
   "source": [
    "## Preprocesado de datos"
   ]
  },
  {
   "cell_type": "markdown",
   "metadata": {},
   "source": [
    "### Normalizando nombres de columnas por convención (Snake case)"
   ]
  },
  {
   "cell_type": "code",
   "execution_count": 7,
   "metadata": {
    "scrolled": true
   },
   "outputs": [],
   "source": [
    "data.columns = data.columns.str.lower()"
   ]
  },
  {
   "cell_type": "markdown",
   "metadata": {},
   "source": [
    "**Una vez normalizados los nombres de las columnas, vamos a analizarlas y decidir que realizar con ellas:**\n",
    "\n",
    "\n",
    "* rownumber — indice de fila, no nos sirve para el modelo, se elimina.\n",
    "* customerid — id de cliente, no nos sirve para el modelo, se elimina.\n",
    "* surname —  apellido del cliente, no nos sirve para el modelo, se elimina.\n",
    "* geography - columna categórica que indica el país del cliente, se realiza codificación One Hot\n",
    "* gender —  Columna categórica que indica el género del cliente, se realiza codificación One Hot\n",
    "* Tenure — se tienen datos faltantes que representan cerca del 9% del total, se rellena con la media de la columna.\n",
    "\n",
    "Para las columnas:\n",
    "* creditscore\n",
    "* age\n",
    "* tenure\n",
    "* balance\n",
    "* numofproducts\n",
    "* estimatedsalary\n",
    "\n",
    "**se realizará escalación de datos para estandarizar las escalas numéricas.**\n",
    "\n",
    "Para las columnas:\n",
    "\n",
    "* hascrcard \n",
    "* isactivemember \n",
    "\n",
    "**Ambas columnas son binarias (o booleanas) por lo tanto no vamos a realizar la estandarización sobre estas columnas.**\n"
   ]
  },
  {
   "cell_type": "markdown",
   "metadata": {},
   "source": [
    "### **Trabajando con los datos ausentes en la columna 'tenure'**\n",
    "\n",
    "Estos representan cerca del 9% de los datos totales, por este motivo vamos a rellenar los datos faltantes con la media de la columna"
   ]
  },
  {
   "cell_type": "code",
   "execution_count": 8,
   "metadata": {},
   "outputs": [],
   "source": [
    "data['tenure'] = data['tenure'].fillna(data['tenure'].mean()) \n"
   ]
  },
  {
   "cell_type": "markdown",
   "metadata": {},
   "source": [
    "### Retirando las columnas que no son útiles para el modelo \n",
    "* rownumber\n",
    "* customerid\n",
    "* surname"
   ]
  },
  {
   "cell_type": "code",
   "execution_count": 9,
   "metadata": {},
   "outputs": [],
   "source": [
    "data.drop(['rownumber','customerid','surname'], axis=1, inplace=True)"
   ]
  },
  {
   "cell_type": "code",
   "execution_count": 10,
   "metadata": {
    "scrolled": false
   },
   "outputs": [
    {
     "data": {
      "text/html": [
       "<div>\n",
       "<style scoped>\n",
       "    .dataframe tbody tr th:only-of-type {\n",
       "        vertical-align: middle;\n",
       "    }\n",
       "\n",
       "    .dataframe tbody tr th {\n",
       "        vertical-align: top;\n",
       "    }\n",
       "\n",
       "    .dataframe thead th {\n",
       "        text-align: right;\n",
       "    }\n",
       "</style>\n",
       "<table border=\"1\" class=\"dataframe\">\n",
       "  <thead>\n",
       "    <tr style=\"text-align: right;\">\n",
       "      <th></th>\n",
       "      <th>creditscore</th>\n",
       "      <th>geography</th>\n",
       "      <th>gender</th>\n",
       "      <th>age</th>\n",
       "      <th>tenure</th>\n",
       "      <th>balance</th>\n",
       "      <th>numofproducts</th>\n",
       "      <th>hascrcard</th>\n",
       "      <th>isactivemember</th>\n",
       "      <th>estimatedsalary</th>\n",
       "      <th>exited</th>\n",
       "    </tr>\n",
       "  </thead>\n",
       "  <tbody>\n",
       "    <tr>\n",
       "      <th>0</th>\n",
       "      <td>619</td>\n",
       "      <td>France</td>\n",
       "      <td>Female</td>\n",
       "      <td>42</td>\n",
       "      <td>2.0</td>\n",
       "      <td>0.00</td>\n",
       "      <td>1</td>\n",
       "      <td>1</td>\n",
       "      <td>1</td>\n",
       "      <td>101348.88</td>\n",
       "      <td>1</td>\n",
       "    </tr>\n",
       "    <tr>\n",
       "      <th>1</th>\n",
       "      <td>608</td>\n",
       "      <td>Spain</td>\n",
       "      <td>Female</td>\n",
       "      <td>41</td>\n",
       "      <td>1.0</td>\n",
       "      <td>83807.86</td>\n",
       "      <td>1</td>\n",
       "      <td>0</td>\n",
       "      <td>1</td>\n",
       "      <td>112542.58</td>\n",
       "      <td>0</td>\n",
       "    </tr>\n",
       "    <tr>\n",
       "      <th>2</th>\n",
       "      <td>502</td>\n",
       "      <td>France</td>\n",
       "      <td>Female</td>\n",
       "      <td>42</td>\n",
       "      <td>8.0</td>\n",
       "      <td>159660.80</td>\n",
       "      <td>3</td>\n",
       "      <td>1</td>\n",
       "      <td>0</td>\n",
       "      <td>113931.57</td>\n",
       "      <td>1</td>\n",
       "    </tr>\n",
       "    <tr>\n",
       "      <th>3</th>\n",
       "      <td>699</td>\n",
       "      <td>France</td>\n",
       "      <td>Female</td>\n",
       "      <td>39</td>\n",
       "      <td>1.0</td>\n",
       "      <td>0.00</td>\n",
       "      <td>2</td>\n",
       "      <td>0</td>\n",
       "      <td>0</td>\n",
       "      <td>93826.63</td>\n",
       "      <td>0</td>\n",
       "    </tr>\n",
       "    <tr>\n",
       "      <th>4</th>\n",
       "      <td>850</td>\n",
       "      <td>Spain</td>\n",
       "      <td>Female</td>\n",
       "      <td>43</td>\n",
       "      <td>2.0</td>\n",
       "      <td>125510.82</td>\n",
       "      <td>1</td>\n",
       "      <td>1</td>\n",
       "      <td>1</td>\n",
       "      <td>79084.10</td>\n",
       "      <td>0</td>\n",
       "    </tr>\n",
       "  </tbody>\n",
       "</table>\n",
       "</div>"
      ],
      "text/plain": [
       "   creditscore geography  gender  age  tenure    balance  numofproducts  \\\n",
       "0          619    France  Female   42     2.0       0.00              1   \n",
       "1          608     Spain  Female   41     1.0   83807.86              1   \n",
       "2          502    France  Female   42     8.0  159660.80              3   \n",
       "3          699    France  Female   39     1.0       0.00              2   \n",
       "4          850     Spain  Female   43     2.0  125510.82              1   \n",
       "\n",
       "   hascrcard  isactivemember  estimatedsalary  exited  \n",
       "0          1               1        101348.88       1  \n",
       "1          0               1        112542.58       0  \n",
       "2          1               0        113931.57       1  \n",
       "3          0               0         93826.63       0  \n",
       "4          1               1         79084.10       0  "
      ]
     },
     "execution_count": 10,
     "metadata": {},
     "output_type": "execute_result"
    }
   ],
   "source": [
    "data.head()"
   ]
  },
  {
   "cell_type": "markdown",
   "metadata": {},
   "source": [
    "## Preparando datos para el modelo"
   ]
  },
  {
   "cell_type": "markdown",
   "metadata": {},
   "source": [
    "### Realizando codificación One Hot para el dataframe"
   ]
  },
  {
   "cell_type": "code",
   "execution_count": 11,
   "metadata": {
    "scrolled": false
   },
   "outputs": [],
   "source": [
    "data = pd.get_dummies(data, drop_first=True)"
   ]
  },
  {
   "cell_type": "code",
   "execution_count": 12,
   "metadata": {},
   "outputs": [
    {
     "data": {
      "text/html": [
       "<div>\n",
       "<style scoped>\n",
       "    .dataframe tbody tr th:only-of-type {\n",
       "        vertical-align: middle;\n",
       "    }\n",
       "\n",
       "    .dataframe tbody tr th {\n",
       "        vertical-align: top;\n",
       "    }\n",
       "\n",
       "    .dataframe thead th {\n",
       "        text-align: right;\n",
       "    }\n",
       "</style>\n",
       "<table border=\"1\" class=\"dataframe\">\n",
       "  <thead>\n",
       "    <tr style=\"text-align: right;\">\n",
       "      <th></th>\n",
       "      <th>creditscore</th>\n",
       "      <th>age</th>\n",
       "      <th>tenure</th>\n",
       "      <th>balance</th>\n",
       "      <th>numofproducts</th>\n",
       "      <th>hascrcard</th>\n",
       "      <th>isactivemember</th>\n",
       "      <th>estimatedsalary</th>\n",
       "      <th>exited</th>\n",
       "      <th>geography_Germany</th>\n",
       "      <th>geography_Spain</th>\n",
       "      <th>gender_Male</th>\n",
       "    </tr>\n",
       "  </thead>\n",
       "  <tbody>\n",
       "    <tr>\n",
       "      <th>0</th>\n",
       "      <td>619</td>\n",
       "      <td>42</td>\n",
       "      <td>2.0</td>\n",
       "      <td>0.00</td>\n",
       "      <td>1</td>\n",
       "      <td>1</td>\n",
       "      <td>1</td>\n",
       "      <td>101348.88</td>\n",
       "      <td>1</td>\n",
       "      <td>0</td>\n",
       "      <td>0</td>\n",
       "      <td>0</td>\n",
       "    </tr>\n",
       "    <tr>\n",
       "      <th>1</th>\n",
       "      <td>608</td>\n",
       "      <td>41</td>\n",
       "      <td>1.0</td>\n",
       "      <td>83807.86</td>\n",
       "      <td>1</td>\n",
       "      <td>0</td>\n",
       "      <td>1</td>\n",
       "      <td>112542.58</td>\n",
       "      <td>0</td>\n",
       "      <td>0</td>\n",
       "      <td>1</td>\n",
       "      <td>0</td>\n",
       "    </tr>\n",
       "    <tr>\n",
       "      <th>2</th>\n",
       "      <td>502</td>\n",
       "      <td>42</td>\n",
       "      <td>8.0</td>\n",
       "      <td>159660.80</td>\n",
       "      <td>3</td>\n",
       "      <td>1</td>\n",
       "      <td>0</td>\n",
       "      <td>113931.57</td>\n",
       "      <td>1</td>\n",
       "      <td>0</td>\n",
       "      <td>0</td>\n",
       "      <td>0</td>\n",
       "    </tr>\n",
       "  </tbody>\n",
       "</table>\n",
       "</div>"
      ],
      "text/plain": [
       "   creditscore  age  tenure    balance  numofproducts  hascrcard  \\\n",
       "0          619   42     2.0       0.00              1          1   \n",
       "1          608   41     1.0   83807.86              1          0   \n",
       "2          502   42     8.0  159660.80              3          1   \n",
       "\n",
       "   isactivemember  estimatedsalary  exited  geography_Germany  \\\n",
       "0               1        101348.88       1                  0   \n",
       "1               1        112542.58       0                  0   \n",
       "2               0        113931.57       1                  0   \n",
       "\n",
       "   geography_Spain  gender_Male  \n",
       "0                0            0  \n",
       "1                1            0  \n",
       "2                0            0  "
      ]
     },
     "execution_count": 12,
     "metadata": {},
     "output_type": "execute_result"
    }
   ],
   "source": [
    "data.head(3)"
   ]
  },
  {
   "cell_type": "markdown",
   "metadata": {},
   "source": [
    "**De la codificación One Hot anteriormente realizada, podemos observar que se crearon las columnas:**\n",
    "* geography_Germany\n",
    "* geography_Spain\n",
    "* gender_Male"
   ]
  },
  {
   "cell_type": "markdown",
   "metadata": {},
   "source": [
    "### Segmentando datos en conjunto de entrenamiento, validación y prueba."
   ]
  },
  {
   "cell_type": "code",
   "execution_count": 13,
   "metadata": {},
   "outputs": [],
   "source": [
    "# Segmentando los conjuntos de datos (Entrenamiento ,validación y pruebas)\n",
    "full_train_df, test_df = train_test_split(data, test_size=0.18, random_state=88)\n",
    "train_df, valid_df  = train_test_split(full_train_df, test_size= .25 , random_state = 888)\n"
   ]
  },
  {
   "cell_type": "code",
   "execution_count": 14,
   "metadata": {},
   "outputs": [
    {
     "name": "stdout",
     "output_type": "stream",
     "text": [
      "[10000, 8200, 6150, 2050, 1800]\n"
     ]
    },
    {
     "data": {
      "text/plain": [
       "[1.0, 0.82, 0.615, 0.205, 0.18]"
      ]
     },
     "execution_count": 14,
     "metadata": {},
     "output_type": "execute_result"
    }
   ],
   "source": [
    "#Verificando las porciones de la segmentación en relación al dataframe original (mega)\n",
    "print([ len(df) for df in [data, full_train_df, train_df, valid_df, test_df]])\n",
    "\n",
    "[round( len(df)/(len(data)) ,3 ) for df in [data, full_train_df, train_df, valid_df, test_df]]"
   ]
  },
  {
   "cell_type": "markdown",
   "metadata": {},
   "source": [
    "Decidimos que vamos a utilizar una segmentación de la siguiente manera:\n",
    "* 82% de los datos para el conjunto completo de entrenamiento\n",
    "* 61.5% de los datos para el conjunto de entrenamiento\n",
    "* 20.5% de los datos para el conjunto de validación\n",
    "* 18% de los datos para el conjunto de prueba"
   ]
  },
  {
   "cell_type": "markdown",
   "metadata": {},
   "source": [
    "### Definiendo los Objetivos y Características (Features y Target)"
   ]
  },
  {
   "cell_type": "code",
   "execution_count": 15,
   "metadata": {},
   "outputs": [
    {
     "name": "stdout",
     "output_type": "stream",
     "text": [
      "exited\n",
      "['creditscore', 'age', 'tenure', 'balance', 'numofproducts', 'hascrcard', 'isactivemember', 'estimatedsalary', 'geography_Germany', 'geography_Spain', 'gender_Male']\n"
     ]
    }
   ],
   "source": [
    "#Definiendo los features y target\n",
    "target = 'exited'\n",
    "features = [i for i in data.columns if i not in [target]]\n",
    "# probar solamente \"dropping\" exitedd features = [i for i in data.columns if i not in [target]]\n",
    "\n",
    "print(target)\n",
    "print(features)\n"
   ]
  },
  {
   "cell_type": "markdown",
   "metadata": {},
   "source": [
    "### Comprobando el desequilibrio de clases"
   ]
  },
  {
   "cell_type": "code",
   "execution_count": 16,
   "metadata": {
    "scrolled": true
   },
   "outputs": [
    {
     "name": "stdout",
     "output_type": "stream",
     "text": [
      "La cantidad promedio de usuarios que se han ido de Beta bank es del: 20.37% del total \n",
      "La cantidad promedio de usuarios que han permanecido en Beta bank es del: 79.63% del total \n"
     ]
    }
   ],
   "source": [
    "#Calculando el promedio del target\n",
    "print(f'La cantidad promedio de usuarios que se han ido de Beta bank es del: {round(data[target].mean()*100,2)}% del total ', )\n",
    "print(f'La cantidad promedio de usuarios que han permanecido en Beta bank es del: {round((1-data[target].mean())*100,2)}% del total ', )"
   ]
  },
  {
   "cell_type": "markdown",
   "metadata": {},
   "source": [
    "Con los datos anteriores **podemos observar un claro desequilibrio de clases**, esto lo determinamos cuando la probabilidad de que la variable (columna) 'exited' sea 1 está muy lejana al 50%, que en este caso observamos un 20% de probabilidad de que el usuario haya desertado contra un casi 80% de que el usuario no haya desertado."
   ]
  },
  {
   "cell_type": "markdown",
   "metadata": {},
   "source": [
    "### Explorando visualmente los datos de las columnas características (features)"
   ]
  },
  {
   "cell_type": "code",
   "execution_count": 17,
   "metadata": {
    "scrolled": false
   },
   "outputs": [],
   "source": [
    "# for feature in features:\n",
    "#     plt.figure(figsize=(8,4))\n",
    "#     data.query(\"exited == 0\")[feature].hist(label='no', alpha=0.25, ax=plt.gca(), density = True)\n",
    "#     data.query(\"exited == 1\")[feature].hist(label='yes', alpha=0.25, ax=plt.gca(), density = True)\n",
    "#     plt.legend(title='exited')\n",
    "#     plt.xlabel(feature)\n",
    "#     plt.show()"
   ]
  },
  {
   "cell_type": "markdown",
   "metadata": {},
   "source": [
    "En esta primera exploración podemos observar:\n",
    "* Los usuarios con un credit score entre 650 y 730 son los que menos suelen irse del banco\n",
    "    * Esto puede deberse a que tienen mejor conocimiento financiero y crediticio\n",
    "    \n",
    "    \n",
    "* Los usuarios más jóvenes (entre los 20 y 40 años) son los que menos suelen irse del banco, en cambio los usuarios de 40+ años, tienen una tasa más alta de deserción.\n",
    " \n",
    "    * Esto puede deberse a que los usuarios jóvenes no suelen tener puntajes crediticios altos, y se quedan con una institución que les abrió las puertas como primera oportunidad, al menos hasta que construyen un mejor credit score\n",
    "\n",
    "\n",
    "* No se observan tendencias importantes en la tenencia de los usuarios (Tenure)\n",
    "\n",
    "\n",
    "* Los usuarios con un balance mayor a 100000 dls suelen irse del banco.\n",
    "    * Esto puede deberse a que encuentran mejores opciones donde tener su dinero\n",
    "    \n",
    "    \n",
    "* Aunque es obvio, los usuarios que tienen actividad, suelen quedarse y los que no, suelen irse del banco.\n",
    "\n",
    "\n",
    "* Los usuarios con salarios mayores a 150000 dls suelen tener un índice de deserción más alto que los salarios inferiores, aunque no generan una tendencia muy importante.\n",
    "\n",
    "\n",
    "* Los usuarios Alemanes suelen tener un indice de deserción alto\n",
    "\n",
    "\n",
    "* Los usuarios Españoles tienen mayor lealtad a los usuarios Alemanes y suelen permancere en el banco\n",
    "\n",
    "\n",
    "* Las mujeres tienen un índice de deserción más alto que el de los hombres.\n",
    "\n"
   ]
  },
  {
   "cell_type": "markdown",
   "metadata": {},
   "source": [
    "### Escalando datos"
   ]
  },
  {
   "cell_type": "code",
   "execution_count": 18,
   "metadata": {},
   "outputs": [
    {
     "data": {
      "text/plain": [
       "Index(['creditscore', 'age', 'tenure', 'balance', 'numofproducts', 'hascrcard',\n",
       "       'isactivemember', 'estimatedsalary', 'exited', 'geography_Germany',\n",
       "       'geography_Spain', 'gender_Male'],\n",
       "      dtype='object')"
      ]
     },
     "execution_count": 18,
     "metadata": {},
     "output_type": "execute_result"
    }
   ],
   "source": [
    "data.columns"
   ]
  },
  {
   "cell_type": "code",
   "execution_count": 165,
   "metadata": {},
   "outputs": [],
   "source": [
    "#Definiendo columnas numéricas (a escalar)\n",
    "numeric = ['creditscore', 'age', 'tenure', 'balance', 'numofproducts', 'estimatedsalary']\n",
    "\n",
    "#Creando la instancia de StandardScaler\n",
    "scaler = StandardScaler()\n",
    "\n",
    "#Entrenando el escalador con los datos de entrenamiento (full_train)\n",
    "scaler.fit(full_train_df[numeric])\n",
    "\n",
    "#Escalando los datos de entrenamiento, prueba y validación\n",
    "train_df_scaled = train_df.copy()\n",
    "train_df_scaled[numeric]= scaler.transform(train_df_scaled[numeric])\n",
    "\n",
    "valid_df_scaled = valid_df.copy()\n",
    "valid_df_scaled[numeric]= scaler.transform(valid_df_scaled[numeric])\n",
    "\n",
    "test_df_scaled = test_df.copy()\n",
    "test_df_scaled[numeric] = scaler.transform(test_df_scaled[numeric])\n"
   ]
  },
  {
   "cell_type": "markdown",
   "metadata": {},
   "source": [
    "## Probando el modelo de regresión logística sin tener en cuenta el desequilibrio de clases"
   ]
  },
  {
   "cell_type": "code",
   "execution_count": 20,
   "metadata": {},
   "outputs": [
    {
     "name": "stdout",
     "output_type": "stream",
     "text": [
      "F1 Score con datos sin modificar hiperparámetros y sin tomar en cuenta el desequilibrio:  0.0892\n"
     ]
    }
   ],
   "source": [
    "#Creando instancia del modelo\n",
    "lr_model_raw= LogisticRegression()\n",
    "\n",
    "#Entrenando el modelo con los datos de entrenamiento *sin escalar*\n",
    "lr_model_raw.fit(full_train_df[features],full_train_df[target])\n",
    "\n",
    "# Evaluando el modelo sin tener en cuenta el desequilibrio\n",
    "lr_predictions_valid = lr_model_raw.predict(test_df[features])\n",
    "\n",
    "# Calculando el f1 score\n",
    "lr_f1_score= f1_score(test_df[target],lr_predictions_valid)\n",
    "print(\"F1 Score con datos sin modificar hiperparámetros y sin tomar en cuenta el desequilibrio: \",round(lr_f1_score,4))\n"
   ]
  },
  {
   "cell_type": "markdown",
   "metadata": {},
   "source": [
    "Podemos observar que sin tomar en cuenta el desequilibrio de clases y sin modificar ningún hiperparámetro, el F1 score nos arroja un valor de 0.0892, el cual está muy alejado del valor deseado 0.59.\n",
    "\n",
    "Veamos cual es el ROC-AUC score para el model sin mejorar sus hiperparámetros"
   ]
  },
  {
   "cell_type": "code",
   "execution_count": 21,
   "metadata": {},
   "outputs": [
    {
     "name": "stdout",
     "output_type": "stream",
     "text": [
      "El valor ROC-AUC para el modelo que no toma en cuenta el desequilibrio de clases es:  0.6625\n"
     ]
    }
   ],
   "source": [
    "lr_predictions_valid_one = lr_model_raw.predict_proba(test_df[features])[:,1]\n",
    "\n",
    "print(\"El valor ROC-AUC para el modelo que no toma en cuenta el desequilibrio de clases es: \", round(roc_auc_score(test_df[target],lr_predictions_valid_one),4))\n"
   ]
  },
  {
   "cell_type": "markdown",
   "metadata": {},
   "source": [
    "Podemos observar que el valor ROC-AUC es de 0.66, el cual está peligrosamente cerca del valor 0.5, que es el valor ROC-AUC cuando el modelo predice de manera aleatoria lo cual sería un modelo que no funciona.\n",
    "\n",
    "En conclusión, nuestro modelo no es lo suficientemente bueno para salir a producción, por lo tanto vamos a probar algunos ajustes de hiperparámetros y estrategias para manejar el desequilibrio de clases"
   ]
  },
  {
   "cell_type": "markdown",
   "metadata": {},
   "source": [
    "## Probando el modelo de regresión logística tomando en cuenta el desequilibrio de clases"
   ]
  },
  {
   "cell_type": "markdown",
   "metadata": {},
   "source": [
    "### Buscando el mejor Umbral y Peso de Clase para el conjunto de validación"
   ]
  },
  {
   "cell_type": "code",
   "execution_count": 22,
   "metadata": {},
   "outputs": [],
   "source": [
    "#Buscando el mejor umbral para la regresión logística\n",
    "\n",
    "class_weights = [4, 4.5, 5, 5.5, 6]\n",
    "best_final_class_weight = 0\n",
    "best_final_score = -1\n",
    "best_final_threshod = -1\n",
    "\n",
    "for class_weight in class_weights :\n",
    "    #Creando instancia del modelo\n",
    "    lr_model = LogisticRegression()\n",
    "\n",
    "    #Entrenando el modelo con los datos de entrenamiento\n",
    "    lr_model.fit(train_df_scaled[features],train_df_scaled[target] )\n",
    "\n",
    "    #Generando predicciones de la clase \"1\" con los datos de validación\n",
    "    predictions_valid_lr = lr_model.predict_proba(valid_df_scaled[features])[:,1] \n",
    "    \n",
    "    thresholds=[]\n",
    "    f1_scores = []\n",
    "    best_threshold = -1\n",
    "    best_f1_score = -1\n",
    "\n",
    "\n",
    "\n",
    "\n",
    "    for t in np.linspace(0, 0.4, 21):\n",
    "            #si la predicción supera al umbral establecido, lo guardamos en un vector\n",
    "            predictions_valid_lr_class = predictions_valid_lr > t\n",
    "    \n",
    "            #realizamos append al umbral iterado a la lista de umbrales\n",
    "            thresholds.append(t)\n",
    "            \n",
    "            # calculamos el f1 score con las predicciones de clase y el target del conjunto de validación\n",
    "            f1_score_result = f1_score(valid_df[target],predictions_valid_lr_class)\n",
    "    \n",
    "            #realizamos append al f1 score obtenido en la iteración a la lista de f1 scores\n",
    "            f1_scores.append(f1_score_result)\n",
    "    \n",
    "            #evaluamos si el f1 score fue mejor al best score previo\n",
    "            if f1_score_result > best_f1_score:\n",
    "                #hacemos reemplazo de valores en las variables best f1 score y best threshold\n",
    "                best_f1_score= f1_score_result\n",
    "                best_threshold = t\n",
    "        \n",
    "            # creamos un dataframe a partir de dos listas (columnas): thresholds y f1_scores\n",
    "            evaluations = pd.DataFrame(data={\n",
    "            \"threshold\": thresholds,\n",
    "            \"f1_score\": f1_scores\n",
    "            })\n",
    "    #Evaluamos si el mejor f1 score es mejor al mejor f1 score previo            \n",
    "    if best_f1_score > best_final_score:\n",
    "            #hacemos reemplazo de valores en las variables best final score, best final threshold y best final class weight\n",
    "            best_final_score = best_f1_score\n",
    "            best_final_threshold = best_threshold\n",
    "            best_final_class_weight = class_weight"
   ]
  },
  {
   "cell_type": "code",
   "execution_count": 23,
   "metadata": {},
   "outputs": [
    {
     "name": "stdout",
     "output_type": "stream",
     "text": [
      "Mejor score: 0.5093411996066863, mejor peso de clase: 4, mejor umbral: -1 \n"
     ]
    }
   ],
   "source": [
    "print(f\"Mejor score: {best_final_score}, mejor peso de clase: {best_final_class_weight}, mejor umbral: {best_final_threshod} \")"
   ]
  },
  {
   "cell_type": "code",
   "execution_count": 24,
   "metadata": {
    "scrolled": true
   },
   "outputs": [
    {
     "data": {
      "image/png": "[encoded data removed]",
      "text/plain": [
       "<Figure size 800x400 with 1 Axes>"
      ]
     },
     "metadata": {},
     "output_type": "display_data"
    }
   ],
   "source": [
    "#Graficamos el dataframe creado a partir de los f1 score y los umbrales\n",
    "plt.figure(figsize=(8,4))\n",
    "plt.title(f'Max F1 score: {round(best_f1_score,4)}, best threshold: {best_threshold}')\n",
    "evaluations.plot(kind='line', x='threshold',y='f1_score', ax = plt.gca())\n",
    "plt.show()"
   ]
  },
  {
   "cell_type": "markdown",
   "metadata": {},
   "source": [
    "Podemos observar que el mejor desempeño del F1 Score para el modelo de Regresión Logística con el dataset de entrenamiento fue con un umbral de 0.24 y un peso de clase igual a 4, con estos hiperparámetros obtuvimos un desempeño del F1 Score de 0.5093, el cual aún no es suficiente para el desempeño que deseamos de al menos 0.59.\n",
    "\n",
    "Veamos como se comporta en el dataset de validación"
   ]
  },
  {
   "cell_type": "markdown",
   "metadata": {},
   "source": [
    "### Probando los hiperparámetros en el conjunto de prueba"
   ]
  },
  {
   "cell_type": "code",
   "execution_count": 164,
   "metadata": {},
   "outputs": [
    {
     "name": "stdout",
     "output_type": "stream",
     "text": [
      "0.3900789177001127\n"
     ]
    }
   ],
   "source": [
    "#Escalando los datos de entrenamiento completos\n",
    "full_train_df_scaled = full_train_df.copy()\n",
    "full_train_df_scaled[numeric] = scaler.transform(full_train_df_scaled[numeric])\n",
    "\n",
    "final_lr_model = LogisticRegression(class_weight={0:1, 1:best_final_class_weight})\n",
    "\n",
    "final_lr_model.fit(full_train_df_scaled[features],full_train_df_scaled[target])\n",
    "\n",
    "test_predictions = final_lr_model.predict_proba(test_df_scaled[features])[:,1]\n",
    "\n",
    "\n",
    "class_test_predictions= test_predictions > best_final_threshold\n",
    "\n",
    "final_f1_score_result = f1_score(test_df[target],class_test_predictions)\n",
    "\n",
    "print(final_f1_score_result)"
   ]
  },
  {
   "cell_type": "markdown",
   "metadata": {},
   "source": [
    "### Hallazgos del modelo de regresión logística\n",
    "Podemos observar que:\n",
    "\n",
    "**Sin considerar el desequilibrio de clases**\n",
    "* El modelo sin entrenar presentó un F1 score de 0.089 el cual está muy alejado del valor deseado (0.59)\n",
    "* El modelo sin entrenar presentó un ROC-AUC de 0.6625 el cual no está lo suficientemente separado del 0.5 (hacia la unidad 1) para considerar que el modelo es bueno realizando predicciones de clase \"1\".\n",
    "\n",
    "**Considerando el desequilibrio de clases**\n",
    "* El modelo presentó un mejor desempeño con el conjunto de entrenamiento que con el de prueba\n",
    "* El mejor desempeño del modelo con el conjunto de entrenamiento arrojó un F1 score de: 0.5093\n",
    "* El desempeño del modelo con el conjunto de prueba y con los mejores hiperparámetros arrojó un F1 score de: 0.390\n",
    "\n",
    "Vamos a probar algunas otras estrategias para mejorar el F1 score, entre ellas:\n",
    "* **Ajuste de peso de clase balanceado**\n",
    "    * Este hiperparámetro funciona de manera similar al submuestreo y sobremuestreo, asigna un peso de clases balanceado para favorecer a la clase minoritaria y acercarla al peso de clase de la clase mayoritaria, buscando la relación 1:1\n",
    "* **Submuestreo**\n",
    "    * Esta técnica nos ayuda a seleccionar una fracción de los datos de la clase mayoritaria para tratar de equilibrar los pesos de clase comparado a la clase minoritaria, buscando una relación 1:1.\n",
    "* **Grid Search CV (Búsqueda de cuadrícula)**\n",
    "    * Es una técnica de búsqueda exhaustiva que encuentra la combinación óptima de hiperparámetros para un módelo.\n",
    "\n"
   ]
  },
  {
   "cell_type": "markdown",
   "metadata": {},
   "source": [
    "### Probando ajustes de hiperparámetro peso de clase balanceado"
   ]
  },
  {
   "cell_type": "code",
   "execution_count": 26,
   "metadata": {},
   "outputs": [
    {
     "name": "stdout",
     "output_type": "stream",
     "text": [
      "0.3931818181818182\n"
     ]
    }
   ],
   "source": [
    "## probando\n",
    "\n",
    "#Escalando los datos de entrenamiento completos\n",
    "full_train_df_scaled = full_train_df.copy()\n",
    "full_train_df_scaled[numeric] = scaler.transform(full_train_df_scaled[numeric])\n",
    "\n",
    "final_lr_model = LogisticRegression(class_weight='balanced')\n",
    "\n",
    "final_lr_model.fit(full_train_df_scaled[features],full_train_df_scaled[target])\n",
    "test_predictions = final_lr_model.predict_proba(test_df_scaled[features])[:,1]\n",
    "\n",
    "\n",
    "class_test_predictions= test_predictions > best_final_threshold\n",
    "\n",
    "final_f1_score_result = f1_score(test_df[target],class_test_predictions)\n",
    "ac= accuracy_score(test_df[target],class_test_predictions)\n",
    "print(final_f1_score_result)\n"
   ]
  },
  {
   "cell_type": "markdown",
   "metadata": {},
   "source": [
    "**Podemos observar que el f1 score mejoró pasando de 0.39 a 0.393, sigamos explorando estrategias**"
   ]
  },
  {
   "cell_type": "markdown",
   "metadata": {},
   "source": [
    "### Probando submuestreo para mejorar el desequilibrio de clase"
   ]
  },
  {
   "cell_type": "code",
   "execution_count": 129,
   "metadata": {},
   "outputs": [
    {
     "data": {
      "text/plain": [
       "0    0.79622\n",
       "1    0.20378\n",
       "Name: exited, dtype: float64"
      ]
     },
     "execution_count": 129,
     "metadata": {},
     "output_type": "execute_result"
    }
   ],
   "source": [
    "#Verificando que relación de clase tiene el valor 1 contra el valor 0\n",
    "full_train_df[target].value_counts(normalize=True)"
   ]
  },
  {
   "cell_type": "markdown",
   "metadata": {},
   "source": [
    "**Obtenemos una relación prácticamente 4 a 1 entre las clases 0 y 1 , vamos a hacer submuestreo de la clase dominante 0**"
   ]
  },
  {
   "cell_type": "code",
   "execution_count": 131,
   "metadata": {},
   "outputs": [
    {
     "name": "stdout",
     "output_type": "stream",
     "text": [
      "0.4498207885304659\n"
     ]
    }
   ],
   "source": [
    "#Definiendo los features y target para el conjunto full_train_df\n",
    "# features_full1=full_train_df_scaled[numeric]\n",
    "features_full=full_train_df[features]\n",
    "target_full = full_train_df[target]\n",
    "\n",
    "#Separando el conjunto de entrenamiento en observaciones negativas y positivas\n",
    "\n",
    "feautres_zeros = features_full[target_full==0]\n",
    "feautres_ones = features_full[target_full==1]\n",
    "target_zeros = target_full[target_full==0]\n",
    "target_ones = target_full[target_full==1]\n",
    "\n",
    "#Fraccionando las observaciones y uniéndolas en un nuevo conjunto de features \n",
    "features_downsampled = pd.concat( [feautres_ones] + [feautres_zeros.sample(frac=0.25, random_state=12345)])\n",
    "target_downsampled = pd.concat( [target_ones] + [target_zeros.sample(frac=0.25, random_state=12345)])\n",
    "\n",
    "#Mezclamos los valores obtenidos\n",
    "features_downsampled, target_downsampled = shuffle(features_downsampled, target_downsampled, random_state=12345)\n",
    "\n",
    "model_downsampled = LogisticRegression(solver='liblinear', random_state=12345)\n",
    "model_downsampled.fit(features_downsampled,target_downsampled)\n",
    "\n",
    "downsampled_predictions = model_downsampled.predict(test_df[features])\n",
    "\n",
    "\n",
    "f1_downsamp = f1_score(test_df[target] ,downsampled_predictions)\n",
    "print(f1_downsamp)"
   ]
  },
  {
   "cell_type": "code",
   "execution_count": 29,
   "metadata": {},
   "outputs": [
    {
     "data": {
      "text/plain": [
       "1    0.505904\n",
       "0    0.494096\n",
       "Name: exited, dtype: float64"
      ]
     },
     "execution_count": 29,
     "metadata": {},
     "output_type": "execute_result"
    }
   ],
   "source": [
    "#Comparando nuevamente el equlibrio de clase\n",
    "full_train_down = features_downsampled.copy()\n",
    "full_train_down['exited'] = target_downsampled\n",
    "\n",
    "\n",
    "full_train_down[target].value_counts(normalize=True)"
   ]
  },
  {
   "cell_type": "markdown",
   "metadata": {},
   "source": [
    "**Podemos observar que la relación de clase es prácticamente 1:1 por lo tanto está equilibrada**\n",
    "\n",
    "**Podemos observar que el f1 score mejoró notablemente pasando de 0.3931 a 0.449, sigamos explorando estrategias para verificar si podemos mejorar nuestro score**"
   ]
  },
  {
   "cell_type": "markdown",
   "metadata": {},
   "source": [
    "### Probando GridSearch para encontrar los mejores hiperparámetros del modelo"
   ]
  },
  {
   "cell_type": "markdown",
   "metadata": {},
   "source": [
    "#### Probando GridSearch sin submuestreo"
   ]
  },
  {
   "cell_type": "code",
   "execution_count": 136,
   "metadata": {},
   "outputs": [
    {
     "name": "stdout",
     "output_type": "stream",
     "text": [
      "Mejores hiperparámetros: {'C': 1.0, 'class_weight': 'balanced', 'max_iter': 100, 'penalty': 'l1', 'random_state': 42}\n",
      "F1 score en el conjunto de prueba: 0.4942528735632184\n"
     ]
    }
   ],
   "source": [
    "#Probando GridSearch para encontrar los mejores hiperparámetros del modelo\n",
    "final_lr_model_Grid= LogisticRegression(solver='liblinear', random_state=42)\n",
    "\n",
    "# Definimos la cuadrícula de hiperparámetros que deseamos ajustar\n",
    "param_grid = {\n",
    "    'C': [0.1, 1.0, 10.0],  \n",
    "    'penalty': ['l1', 'l2'],\n",
    "    'max_iter': [100, 200, 300],\n",
    "    'class_weight': [None, 'balanced'],\n",
    "    'random_state': [42]\n",
    "}\n",
    "\n",
    "#Creamos la instancia GridSearch y la entrenamos con el conjunto entero de entrenamiento sin submuestreo\n",
    "grid_search = GridSearchCV(estimator=final_lr_model_Grid, param_grid = param_grid , cv = 5, scoring = 'f1')\n",
    "grid_search.fit(full_train_df[features],full_train_df[target])\n",
    "\n",
    "\n",
    "# Mostramos los mejores hiperparámetros encontrados\n",
    "print(\"Mejores hiperparámetros:\", grid_search.best_params_)\n",
    "\n",
    "\n",
    "# Evaluamos el modelo en el conjunto de prueba mediante el f1 score\n",
    "f1_grid = grid_search.score(test_df[features], test_df[target])\n",
    "print(\"F1 score en el conjunto de prueba:\", f1_grid)\n",
    "\n"
   ]
  },
  {
   "cell_type": "markdown",
   "metadata": {},
   "source": [
    "**Podemos observar que  entrenando el Grid search sin submuestreo y utilizando los hiperparámetros que la herramienta Grid search nos recomienda, nos arroja un f1 score de 0.494, veamos como se comporta con submuestreo.**"
   ]
  },
  {
   "cell_type": "markdown",
   "metadata": {},
   "source": [
    "#### Probando GridSearch con submuestreo"
   ]
  },
  {
   "cell_type": "code",
   "execution_count": 33,
   "metadata": {
    "scrolled": true
   },
   "outputs": [
    {
     "name": "stdout",
     "output_type": "stream",
     "text": [
      "Mejores hiperparámetros: {'C': 0.1, 'class_weight': None, 'max_iter': 100, 'penalty': 'l1', 'random_state': 42}\n",
      "Precisión en el conjunto de prueba: 0.4794776119402984\n"
     ]
    }
   ],
   "source": [
    "#Probando GridSearch para encontrar los mejores hiperparámetros del modelo\n",
    "final_lr_model_Grid= LogisticRegression(solver='liblinear', random_state=42)\n",
    "\n",
    "# Definimos la cuadrícula de hiperparámetros que deseamos ajustar\n",
    "param_grid = {\n",
    "    'C': [0.1, 1.0, 10.0],  \n",
    "    'penalty': ['l1', 'l2'],\n",
    "    'max_iter': [100, 200, 300],\n",
    "    'class_weight': [None, 'balanced'],\n",
    "    'random_state': [42]\n",
    "}\n",
    "\n",
    "# creamos la instancia GridSearch y la entrenamos con los datos aplicado el submuestreo\n",
    "grid_search = GridSearchCV(estimator=final_lr_model_Grid, param_grid = param_grid , cv = 5 , scoring = 'f1')\n",
    "grid_search.fit(features_downsampled,target_downsampled)\n",
    "\n",
    "\n",
    "# Mostramos los mejores hiperparámetros encontrados\n",
    "print(\"Mejores hiperparámetros:\", grid_search.best_params_)\n",
    "\n",
    "# Evaluamos el modelo en el conjunto de prueba mediante el f1 score\n",
    "f1_grid2 = grid_search.score(test_df[features], test_df[target])\n",
    "print(\"Precisión en el conjunto de prueba:\", f1_grid2)\n"
   ]
  },
  {
   "cell_type": "markdown",
   "metadata": {},
   "source": [
    "**Podemos observar que  entrenando el Grid search con submuestreo y utilizando los hiperparámetros que la herramienta Grid search nos recomienda, nos arroja un f1 score de 0.479, ligeramente inferior al 0.494 arrojado cuando se entrena sin submuestreo, vamos a probar los diferentes hiperparámetros con el conjunto de datos de prueba y el modelo de regresión logística.**"
   ]
  },
  {
   "cell_type": "markdown",
   "metadata": {},
   "source": [
    "### Probando el modelo con los mejores hiperparámetros,  escaldo de características y submuestreo de datos."
   ]
  },
  {
   "cell_type": "markdown",
   "metadata": {},
   "source": [
    "#### Probando con class_weight ='balanced', conjuntos de datos escalados y sin submuestreo:"
   ]
  },
  {
   "cell_type": "code",
   "execution_count": 159,
   "metadata": {},
   "outputs": [
    {
     "name": "stdout",
     "output_type": "stream",
     "text": [
      "0.49377990430622\n"
     ]
    }
   ],
   "source": [
    "# features_downsampled,target_downsampled\n",
    "\n",
    "#Escalando los datos de entrenamiento completos\n",
    "# full_train_df_scaled = full_train_df.copy()\n",
    "# full_train_df_scaled[numeric] = scaler.transform(full_train_df_scaled[numeric])\n",
    "\n",
    "final_lr_model_balanced = LogisticRegression(class_weight= 'balanced', C=1.0, max_iter=100, penalty='l1', random_state=42, solver='liblinear')\n",
    "\n",
    "\n",
    "final_lr_model_balanced.fit(full_train_df_scaled[features],full_train_df_scaled[target])\n",
    "\n",
    "\n",
    "test_predictions_bal = final_lr_model_balanced.predict(test_df_scaled[features])\n",
    "\n",
    "\n",
    "final_f1_score_result_bal = f1_score(test_df[target],test_predictions_bal)\n",
    "\n",
    "print(final_f1_score_result_bal)"
   ]
  },
  {
   "cell_type": "markdown",
   "metadata": {},
   "source": [
    "#### Probando con class_weight ='balanced', conjuntos de datos escalados y con submuestreo:"
   ]
  },
  {
   "cell_type": "code",
   "execution_count": 163,
   "metadata": {},
   "outputs": [
    {
     "name": "stdout",
     "output_type": "stream",
     "text": [
      "0.4978540772532189\n"
     ]
    }
   ],
   "source": [
    "# features_downsampled,target_downsampled\n",
    "\n",
    "final_lr_model_balanced_sub = LogisticRegression(class_weight= 'balanced', C=1.0, max_iter=100, random_state=42, solver='liblinear')\n",
    "\n",
    "final_lr_model_balanced_sub.fit(features_downsampled,target_downsampled)\n",
    "\n",
    "test_predictions_bal_sub = final_lr_model_balanced_sub.predict(test_df_scaled[features])\n",
    "\n",
    "\n",
    "final_f1_score_result_bal_sub = f1_score(test_df[target],test_predictions_bal_sub)\n",
    "\n",
    "print(final_f1_score_result_bal_sub)"
   ]
  },
  {
   "cell_type": "markdown",
   "metadata": {},
   "source": [
    "#### Probando con class_weight = None, conjuntos de datos escalados y con submuestreo"
   ]
  },
  {
   "cell_type": "code",
   "execution_count": 170,
   "metadata": {},
   "outputs": [
    {
     "name": "stdout",
     "output_type": "stream",
     "text": [
      "0.45494830132939446\n"
     ]
    }
   ],
   "source": [
    "\n",
    "final_lr_model = LogisticRegression(class_weight= None, C=1.0, max_iter=100,  random_state=42, solver='liblinear')\n",
    "# final_lr_model = LogisticRegression(class_weight= 'balanced', C=1.0, max_iter=100,  random_state=42, solver='liblinear')\n",
    "\n",
    "\n",
    "final_lr_model.fit(features_downsampled,target_downsampled)\n",
    "# final_lr_model.fit(full_train_df_scaled[features],full_train_df_scaled[target])\n",
    "\n",
    "\n",
    "test_predictions = final_lr_model.predict(test_df_scaled[features])\n",
    "\n",
    "\n",
    "final_f1_score_result_none = f1_score(test_df[target],test_predictions)\n",
    "\n",
    "print(final_f1_score_result_none)"
   ]
  },
  {
   "cell_type": "markdown",
   "metadata": {},
   "source": [
    "#### Probando con class_weight = None, conjuntos de datos escalados y sin submuestreo"
   ]
  },
  {
   "cell_type": "code",
   "execution_count": 189,
   "metadata": {},
   "outputs": [
    {
     "name": "stdout",
     "output_type": "stream",
     "text": [
      "0.3300589390962672\n"
     ]
    }
   ],
   "source": [
    "\n",
    "final_lr_model = LogisticRegression(class_weight= None, penalty='l2', C=1.0, max_iter=100,  random_state=42, solver='liblinear')\n",
    "\n",
    "final_lr_model.fit(full_train_df_scaled[features],full_train_df_scaled[target])\n",
    "\n",
    "\n",
    "test_predictions = final_lr_model.predict(test_df_scaled[features])\n",
    "\n",
    "\n",
    "final_f1_score_result_none = f1_score(test_df[target],test_predictions)\n",
    "\n",
    "print(final_f1_score_result_none)"
   ]
  },
  {
   "cell_type": "markdown",
   "metadata": {},
   "source": [
    "#### Probando con datos escalados, class weight None , mejor umbral (0.24) y sin submuestreo"
   ]
  },
  {
   "cell_type": "code",
   "execution_count": 183,
   "metadata": {},
   "outputs": [
    {
     "name": "stdout",
     "output_type": "stream",
     "text": [
      "0.48936170212765956\n"
     ]
    }
   ],
   "source": [
    "\n",
    "final_lr_model_thres = LogisticRegression(class_weight= None, C=1.0, max_iter=100, penalty='l1', random_state=42, solver='liblinear')\n",
    "\n",
    "\n",
    "final_lr_model_thres.fit(full_train_df_scaled[features],full_train_df_scaled[target])\n",
    "\n",
    "test_predictions = final_lr_model_thres.predict_proba(test_df_scaled[features])[:,1]\n",
    "\n",
    "class_test_predictions= test_predictions > best_final_threshold\n",
    "\n",
    "final_f1_score_result_thres = f1_score(test_df[target],class_test_predictions)\n",
    "\n",
    "print(final_f1_score_result_thres)"
   ]
  },
  {
   "cell_type": "markdown",
   "metadata": {},
   "source": [
    "#### Probando con datos escalados, class weight None , mejor umbral (0.24) y con submuestreo"
   ]
  },
  {
   "cell_type": "code",
   "execution_count": 188,
   "metadata": {},
   "outputs": [
    {
     "name": "stdout",
     "output_type": "stream",
     "text": [
      "0.3379501385041551\n"
     ]
    }
   ],
   "source": [
    "final_lr_model_thres2 = LogisticRegression(class_weight= None, penalty='l2', C=1.0, max_iter=100, random_state=42, solver='liblinear')\n",
    "\n",
    "final_lr_model_thres2.fit(features_downsampled,target_downsampled)\n",
    "\n",
    "\n",
    "test_predictions = final_lr_model_thres2.predict_proba(test_df_scaled[features])[:,1]\n",
    "\n",
    "class_test_predictions= test_predictions > best_final_threshold\n",
    "\n",
    "final_f1_score_result_thres2 = f1_score(test_df[target],class_test_predictions)\n",
    "\n",
    "print(final_f1_score_result_thres2)"
   ]
  },
  {
   "cell_type": "markdown",
   "metadata": {},
   "source": [
    "## Conclusiones del modelo de regresión logística\n",
    "Podemos observar que:\n",
    "\n",
    "**Sin considerar el desequilibrio de clases**\n",
    "* El modelo sin entrenar presentó un F1 score de 0.089 el cual está muy alejado del valor deseado (0.59)\n",
    "* El modelo sin entrenar presentó un ROC-AUC de 0.6625 el cual no está lo suficientemente separado del 0.5 (hacia la unidad 1) para considerar que el modelo es bueno realizando predicciones de clase \"1\".\n",
    "\n",
    "**Considerando el desequilibrio de clases**\n",
    "* El modelo presentó un mejor desempeño con el conjunto de entrenamiento que con el de prueba\n",
    "* El mejor desempeño del modelo con el conjunto de entrenamiento arrojó un F1 score de: 0.5093\n",
    "* El desempeño del modelo con el conjunto de prueba y con los mejores hiperparámetros arrojó un F1 score de: 0.390\n",
    "\n",
    "**Habiendo probado las siguientes estrategias para mitigar el desequilibrio de clases:**\n",
    "* **Ajuste de peso de clase balanceado**\n",
    "* **Submuestreo**\n",
    "* **Grid Search CV (Búsqueda de cuadrícula)**\n",
    "    \n",
    "\n",
    "**Pudimos llegar a la siguiente conclusión:**\n",
    "\n",
    "Configurando el modelo con class_weight ='balanced', utilizando el conjuntos de datos escalados y utilizando el submuestreo logramos un F1 score = 0.4978 el cual se vio notoriamente mejorado en comparación al obtenido sin las herramientas de peso de clase y Grid Search CV que nos arrojó en la iteración previa un F1 score = 0.390 .\n",
    "\n",
    "\n",
    "logramos mejorar de manera muy notoria el desempeño del modelo de regresión logística, ahora vamos a explorar con un modelo de bosque aleatorio para comparar su desempeño"
   ]
  },
  {
   "cell_type": "markdown",
   "metadata": {},
   "source": [
    "## Probando modelo de clasificador de bosque aleatorio (Random Forest Classifier)"
   ]
  },
  {
   "cell_type": "markdown",
   "metadata": {},
   "source": [
    "### Probando el clasificador con el mejor peso de clase y con n_estimators = 150"
   ]
  },
  {
   "cell_type": "code",
   "execution_count": null,
   "metadata": {},
   "outputs": [],
   "source": [
    "class_weights = {0: 1, 1: best_final_class_weight} \n",
    "\n",
    "rf_model = RandomForestClassifier(random_state=123456,class_weight= class_weights, n_estimators=150)\n",
    "rf_model.fit(full_train_df[features],full_train_df[target])\n",
    "\n",
    "rf_predictions=rf_model.predict(test_df[features])\n",
    "\n",
    "fr_f1_score = f1_score(test_df[target],rf_predictions)\n",
    "\n",
    "print(fr_f1_score)"
   ]
  },
  {
   "cell_type": "markdown",
   "metadata": {},
   "source": [
    "Podemos observar que el modelo incremento notablemente su desempeño, arrojando un F1 score de 0.560, sin embargo aún no cumple con el F1 score necesario mayor a 0.59, por lo tanto vamos a realizar un ajuste de umbrales y verificar su desempeño"
   ]
  },
  {
   "cell_type": "markdown",
   "metadata": {},
   "source": [
    "### Probando el clasificador con el mejor peso de clase,  n_estimators = 150 y ajuste de umbral a 0.3"
   ]
  },
  {
   "cell_type": "code",
   "execution_count": null,
   "metadata": {},
   "outputs": [],
   "source": [
    "class_weights = {0: 1, 1: best_final_class_weight} \n",
    "\n",
    "rf_model = RandomForestClassifier(random_state=123456,class_weight= 'class_weights')\n",
    "rf_model.fit(full_train_df[features],full_train_df[target])\n",
    "\n",
    "\n",
    "rf_proba_one = rf_model.predict_proba(test_df[features])[:,1]\n",
    "\n",
    "threshold=0.3\n",
    "\n",
    "predicted_test = rf_proba_one > threshold\n",
    "\n",
    "fr_f1_score = f1_score(test_df[target],predicted_test)\n",
    "\n",
    "print(fr_f1_score)"
   ]
  },
  {
   "cell_type": "markdown",
   "metadata": {},
   "source": [
    "Podemos observar que:\n",
    "\n",
    "**El F1 score ha rebasado el valor mínimo para el planteamiento de este problema con un F1 score = 0.608 > 0.59.**\n",
    "\n",
    "vamos a compararlo con el valor AUC-ROC\n"
   ]
  },
  {
   "cell_type": "code",
   "execution_count": null,
   "metadata": {},
   "outputs": [],
   "source": [
    "auc_roc= roc_auc_score(test_df[target],rf_proba_one )\n",
    "print(auc_roc)"
   ]
  },
  {
   "cell_type": "markdown",
   "metadata": {},
   "source": [
    "Podemos observar que:\n",
    "\n",
    "**El ROC-AUC score es de 0.85 lo cual es un score positivo considerando que entre más cercano se encuentre a 1 nuestro modelo será más hábil a la hora de clasificar correctamente los valores positivos.**\n"
   ]
  },
  {
   "cell_type": "markdown",
   "metadata": {},
   "source": [
    "## Conclusiones\n",
    "\n",
    "Podemos observar que:\n",
    "\n",
    "* El modelo de regresión logística, sin el procesado de datos y la manipulación de hiperparámetros presenta un desempeño del F1 score muy pobre, apenas del 0.089 y un ROC-AUC de 0.66, el cual está muy cercano al valor 0.5 que significa que el modelo tiene un rendimiento aleatorio.\n",
    "\n",
    "\n",
    "* El modelo de bosque aleatorio de clasificación se comporta mucho mejor que el modelo de regresión logística, arrojándonos un primer valor F1 score = 0.56, una vez mejorando los hiperparámetros (umbral, peso de clase y n_estimators) logramos un F1 score =0.608 el cual supera el valor deseado de 0.59, también nos presenta un ROC-AUC = 0.85 el cual indica que el modelo es capaz de clasificar correctamente el 85% de las instancias positivas, lo cual es muy deseable.\n",
    "\n",
    "\n",
    "En conclusión, pudimos verificar que el ajuste de hiperparámetros, la codificación y el estandarizado de los datos nos aporta mucho valor a la hora de entrenar un modelo clasificatorio, también pudimos verificar que los bosques aleatorios tienen un mejor rendimiento que el modelo de regresión logística.\n",
    "\n",
    "Con todos los ajustes que realizamos **logramos entrenar un modelo capaz de clasificar correctamente el 85% de las instancias positivas.**\n",
    "\n"
   ]
  }
 ],
 "metadata": {
  "ExecuteTimeLog": [
   {
    "duration": 5267,
    "start_time": "2024-05-17T20:31:35.882Z"
   },
   {
    "duration": 37,
    "start_time": "2024-05-17T20:31:41.154Z"
   },
   {
    "duration": 58,
    "start_time": "2024-05-17T20:31:41.194Z"
   },
   {
    "duration": 44,
    "start_time": "2024-05-17T20:31:41.256Z"
   },
   {
    "duration": 19,
    "start_time": "2024-05-17T20:31:41.305Z"
   },
   {
    "duration": 6,
    "start_time": "2024-05-17T20:31:41.329Z"
   },
   {
    "duration": 5,
    "start_time": "2024-05-17T20:31:41.339Z"
   },
   {
    "duration": 10,
    "start_time": "2024-05-17T20:31:41.391Z"
   },
   {
    "duration": 7,
    "start_time": "2024-05-17T20:31:41.404Z"
   },
   {
    "duration": 17,
    "start_time": "2024-05-17T20:31:41.415Z"
   },
   {
    "duration": 57,
    "start_time": "2024-05-17T20:31:41.435Z"
   },
   {
    "duration": 17,
    "start_time": "2024-05-17T20:31:41.494Z"
   },
   {
    "duration": 12,
    "start_time": "2024-05-17T20:31:41.515Z"
   },
   {
    "duration": 8,
    "start_time": "2024-05-17T20:31:41.534Z"
   },
   {
    "duration": 43,
    "start_time": "2024-05-17T20:31:41.546Z"
   },
   {
    "duration": 504,
    "start_time": "2024-05-17T20:31:41.593Z"
   },
   {
    "duration": 0,
    "start_time": "2024-05-17T20:31:42.100Z"
   },
   {
    "duration": 0,
    "start_time": "2024-05-17T20:31:42.103Z"
   },
   {
    "duration": 0,
    "start_time": "2024-05-17T20:31:42.104Z"
   },
   {
    "duration": 0,
    "start_time": "2024-05-17T20:31:42.107Z"
   },
   {
    "duration": 0,
    "start_time": "2024-05-17T20:31:42.110Z"
   },
   {
    "duration": 0,
    "start_time": "2024-05-17T20:31:42.112Z"
   },
   {
    "duration": 0,
    "start_time": "2024-05-17T20:31:42.115Z"
   },
   {
    "duration": 0,
    "start_time": "2024-05-17T20:31:42.117Z"
   },
   {
    "duration": 0,
    "start_time": "2024-05-17T20:31:42.119Z"
   },
   {
    "duration": 0,
    "start_time": "2024-05-17T20:31:42.123Z"
   },
   {
    "duration": 0,
    "start_time": "2024-05-17T20:31:42.125Z"
   },
   {
    "duration": 5,
    "start_time": "2024-05-17T20:32:00.458Z"
   },
   {
    "duration": 33,
    "start_time": "2024-05-17T20:32:00.468Z"
   },
   {
    "duration": 52,
    "start_time": "2024-05-17T20:32:00.503Z"
   },
   {
    "duration": 36,
    "start_time": "2024-05-17T20:32:00.561Z"
   },
   {
    "duration": 18,
    "start_time": "2024-05-17T20:32:00.600Z"
   },
   {
    "duration": 6,
    "start_time": "2024-05-17T20:32:00.621Z"
   },
   {
    "duration": 5,
    "start_time": "2024-05-17T20:32:00.630Z"
   },
   {
    "duration": 6,
    "start_time": "2024-05-17T20:32:00.638Z"
   },
   {
    "duration": 6,
    "start_time": "2024-05-17T20:32:00.691Z"
   },
   {
    "duration": 15,
    "start_time": "2024-05-17T20:32:00.703Z"
   },
   {
    "duration": 15,
    "start_time": "2024-05-17T20:32:00.720Z"
   },
   {
    "duration": 58,
    "start_time": "2024-05-17T20:32:00.738Z"
   },
   {
    "duration": 11,
    "start_time": "2024-05-17T20:32:00.799Z"
   },
   {
    "duration": 10,
    "start_time": "2024-05-17T20:32:00.813Z"
   },
   {
    "duration": 5,
    "start_time": "2024-05-17T20:32:00.826Z"
   },
   {
    "duration": 4,
    "start_time": "2024-05-17T20:32:00.834Z"
   },
   {
    "duration": 5,
    "start_time": "2024-05-17T20:32:00.891Z"
   },
   {
    "duration": 3,
    "start_time": "2024-05-17T20:32:00.900Z"
   },
   {
    "duration": 6,
    "start_time": "2024-05-17T20:32:00.906Z"
   },
   {
    "duration": 3164,
    "start_time": "2024-05-17T20:32:00.914Z"
   },
   {
    "duration": 11,
    "start_time": "2024-05-17T20:32:04.081Z"
   },
   {
    "duration": 62,
    "start_time": "2024-05-17T20:32:04.097Z"
   },
   {
    "duration": 0,
    "start_time": "2024-05-17T20:32:04.191Z"
   },
   {
    "duration": 0,
    "start_time": "2024-05-17T20:32:04.193Z"
   },
   {
    "duration": 0,
    "start_time": "2024-05-17T20:32:04.195Z"
   },
   {
    "duration": 0,
    "start_time": "2024-05-17T20:32:04.197Z"
   },
   {
    "duration": 0,
    "start_time": "2024-05-17T20:32:04.199Z"
   },
   {
    "duration": 49,
    "start_time": "2024-05-17T20:32:19.926Z"
   },
   {
    "duration": 54,
    "start_time": "2024-05-17T20:32:26.139Z"
   },
   {
    "duration": 6,
    "start_time": "2024-05-17T20:32:26.197Z"
   },
   {
    "duration": 95,
    "start_time": "2024-05-17T20:32:26.206Z"
   },
   {
    "duration": 196,
    "start_time": "2024-05-17T20:32:26.305Z"
   },
   {
    "duration": 12,
    "start_time": "2024-05-17T20:32:26.504Z"
   },
   {
    "duration": 281,
    "start_time": "2024-05-17T20:32:26.519Z"
   },
   {
    "duration": 10,
    "start_time": "2024-05-17T21:09:11.421Z"
   },
   {
    "duration": 10,
    "start_time": "2024-05-17T21:09:29.880Z"
   },
   {
    "duration": 1149,
    "start_time": "2024-05-17T21:09:41.472Z"
   },
   {
    "duration": 1106,
    "start_time": "2024-05-17T21:09:56.512Z"
   },
   {
    "duration": 236,
    "start_time": "2024-05-17T21:10:01.354Z"
   },
   {
    "duration": 47,
    "start_time": "2024-05-17T21:10:13.146Z"
   },
   {
    "duration": 1171,
    "start_time": "2024-05-17T21:10:14.544Z"
   },
   {
    "duration": 25,
    "start_time": "2024-05-17T21:10:17.525Z"
   },
   {
    "duration": 8,
    "start_time": "2024-05-17T21:13:21.314Z"
   },
   {
    "duration": 7,
    "start_time": "2024-05-17T21:13:24.971Z"
   },
   {
    "duration": 1146,
    "start_time": "2024-05-17T21:13:34.865Z"
   },
   {
    "duration": 4,
    "start_time": "2024-05-17T21:13:38.906Z"
   },
   {
    "duration": 5,
    "start_time": "2024-05-17T21:13:47.137Z"
   },
   {
    "duration": 245,
    "start_time": "2024-05-17T21:13:49.773Z"
   },
   {
    "duration": 5,
    "start_time": "2024-05-17T21:15:01.817Z"
   },
   {
    "duration": 4,
    "start_time": "2024-05-17T21:15:16.949Z"
   },
   {
    "duration": 238,
    "start_time": "2024-05-17T21:15:19.662Z"
   },
   {
    "duration": 4,
    "start_time": "2024-05-17T21:23:02.334Z"
   },
   {
    "duration": 37,
    "start_time": "2024-05-17T21:24:39.298Z"
   },
   {
    "duration": 21,
    "start_time": "2024-05-17T21:24:54.734Z"
   },
   {
    "duration": 19,
    "start_time": "2024-05-17T21:24:58.952Z"
   },
   {
    "duration": 56,
    "start_time": "2024-05-17T21:46:09.741Z"
   },
   {
    "duration": 310,
    "start_time": "2024-05-17T23:34:50.142Z"
   },
   {
    "duration": 22,
    "start_time": "2024-05-17T23:34:53.060Z"
   },
   {
    "duration": 5245,
    "start_time": "2024-05-17T23:34:55.704Z"
   },
   {
    "duration": 44,
    "start_time": "2024-05-17T23:35:00.952Z"
   },
   {
    "duration": 52,
    "start_time": "2024-05-17T23:35:01.000Z"
   },
   {
    "duration": 17,
    "start_time": "2024-05-17T23:35:01.055Z"
   },
   {
    "duration": 42,
    "start_time": "2024-05-17T23:35:01.076Z"
   },
   {
    "duration": 6,
    "start_time": "2024-05-17T23:35:01.122Z"
   },
   {
    "duration": 6,
    "start_time": "2024-05-17T23:35:01.131Z"
   },
   {
    "duration": 6,
    "start_time": "2024-05-17T23:35:01.141Z"
   },
   {
    "duration": 6,
    "start_time": "2024-05-17T23:35:01.150Z"
   },
   {
    "duration": 65,
    "start_time": "2024-05-17T23:35:01.159Z"
   },
   {
    "duration": 13,
    "start_time": "2024-05-17T23:35:01.227Z"
   },
   {
    "duration": 16,
    "start_time": "2024-05-17T23:35:01.243Z"
   },
   {
    "duration": 48,
    "start_time": "2024-05-17T23:35:01.263Z"
   },
   {
    "duration": 8,
    "start_time": "2024-05-17T23:35:01.317Z"
   },
   {
    "duration": 4,
    "start_time": "2024-05-17T23:35:01.328Z"
   },
   {
    "duration": 3,
    "start_time": "2024-05-17T23:35:01.335Z"
   },
   {
    "duration": 5,
    "start_time": "2024-05-17T23:35:01.342Z"
   },
   {
    "duration": 5,
    "start_time": "2024-05-17T23:35:01.351Z"
   },
   {
    "duration": 54,
    "start_time": "2024-05-17T23:35:01.359Z"
   },
   {
    "duration": 3068,
    "start_time": "2024-05-17T23:35:01.417Z"
   },
   {
    "duration": 20,
    "start_time": "2024-05-17T23:35:04.488Z"
   },
   {
    "duration": 37,
    "start_time": "2024-05-17T23:35:04.512Z"
   },
   {
    "duration": 4,
    "start_time": "2024-05-17T23:35:04.551Z"
   },
   {
    "duration": 77,
    "start_time": "2024-05-17T23:35:04.558Z"
   },
   {
    "duration": 1226,
    "start_time": "2024-05-17T23:35:04.710Z"
   },
   {
    "duration": 4,
    "start_time": "2024-05-17T23:35:06.011Z"
   },
   {
    "duration": 266,
    "start_time": "2024-05-17T23:35:06.018Z"
   },
   {
    "duration": 129,
    "start_time": "2024-05-17T23:35:06.287Z"
   },
   {
    "duration": 379,
    "start_time": "2024-05-17T23:35:15.031Z"
   },
   {
    "duration": 5189,
    "start_time": "2024-05-22T11:50:55.394Z"
   },
   {
    "duration": 30,
    "start_time": "2024-05-22T11:51:00.586Z"
   },
   {
    "duration": 59,
    "start_time": "2024-05-22T11:51:00.619Z"
   },
   {
    "duration": 20,
    "start_time": "2024-05-22T11:51:00.681Z"
   },
   {
    "duration": 38,
    "start_time": "2024-05-22T11:51:00.706Z"
   },
   {
    "duration": 5,
    "start_time": "2024-05-22T11:51:00.748Z"
   },
   {
    "duration": 4,
    "start_time": "2024-05-22T11:51:00.757Z"
   },
   {
    "duration": 6,
    "start_time": "2024-05-22T11:51:00.765Z"
   },
   {
    "duration": 57,
    "start_time": "2024-05-22T11:51:00.774Z"
   },
   {
    "duration": 16,
    "start_time": "2024-05-22T11:51:00.835Z"
   },
   {
    "duration": 15,
    "start_time": "2024-05-22T11:51:00.854Z"
   },
   {
    "duration": 16,
    "start_time": "2024-05-22T11:51:00.872Z"
   },
   {
    "duration": 49,
    "start_time": "2024-05-22T11:51:00.891Z"
   },
   {
    "duration": 7,
    "start_time": "2024-05-22T11:51:00.948Z"
   },
   {
    "duration": 4,
    "start_time": "2024-05-22T11:51:00.958Z"
   },
   {
    "duration": 5,
    "start_time": "2024-05-22T11:51:00.965Z"
   },
   {
    "duration": 6,
    "start_time": "2024-05-22T11:51:00.973Z"
   },
   {
    "duration": 4,
    "start_time": "2024-05-22T11:51:01.031Z"
   },
   {
    "duration": 6,
    "start_time": "2024-05-22T11:51:01.038Z"
   },
   {
    "duration": 3140,
    "start_time": "2024-05-22T11:51:01.047Z"
   },
   {
    "duration": 8,
    "start_time": "2024-05-22T11:51:04.191Z"
   },
   {
    "duration": 55,
    "start_time": "2024-05-22T11:51:04.202Z"
   },
   {
    "duration": 3,
    "start_time": "2024-05-22T11:51:04.260Z"
   },
   {
    "duration": 77,
    "start_time": "2024-05-22T11:51:04.266Z"
   },
   {
    "duration": 1210,
    "start_time": "2024-05-22T11:51:04.346Z"
   },
   {
    "duration": 5,
    "start_time": "2024-05-22T11:51:05.559Z"
   },
   {
    "duration": 303,
    "start_time": "2024-05-22T11:51:05.567Z"
   },
   {
    "duration": 166,
    "start_time": "2024-05-22T11:51:05.874Z"
   },
   {
    "duration": 72,
    "start_time": "2024-05-22T11:51:11.979Z"
   },
   {
    "duration": 322,
    "start_time": "2024-05-22T20:56:41.222Z"
   },
   {
    "duration": 26,
    "start_time": "2024-05-22T20:56:43.579Z"
   },
   {
    "duration": 24,
    "start_time": "2024-05-22T20:56:47.081Z"
   },
   {
    "duration": 5270,
    "start_time": "2024-05-22T20:56:49.111Z"
   },
   {
    "duration": 39,
    "start_time": "2024-05-22T20:56:54.384Z"
   },
   {
    "duration": 57,
    "start_time": "2024-05-22T20:56:54.427Z"
   },
   {
    "duration": 37,
    "start_time": "2024-05-22T20:56:54.487Z"
   },
   {
    "duration": 17,
    "start_time": "2024-05-22T20:56:54.530Z"
   },
   {
    "duration": 11,
    "start_time": "2024-05-22T20:56:54.549Z"
   },
   {
    "duration": 5,
    "start_time": "2024-05-22T20:56:54.563Z"
   },
   {
    "duration": 44,
    "start_time": "2024-05-22T20:56:54.571Z"
   },
   {
    "duration": 6,
    "start_time": "2024-05-22T20:56:54.618Z"
   },
   {
    "duration": 16,
    "start_time": "2024-05-22T20:56:54.628Z"
   },
   {
    "duration": 15,
    "start_time": "2024-05-22T20:56:54.647Z"
   },
   {
    "duration": 60,
    "start_time": "2024-05-22T20:56:54.665Z"
   },
   {
    "duration": 11,
    "start_time": "2024-05-22T20:56:54.728Z"
   },
   {
    "duration": 8,
    "start_time": "2024-05-22T20:56:54.745Z"
   },
   {
    "duration": 5,
    "start_time": "2024-05-22T20:56:54.756Z"
   },
   {
    "duration": 4,
    "start_time": "2024-05-22T20:56:54.764Z"
   },
   {
    "duration": 5,
    "start_time": "2024-05-22T20:56:54.814Z"
   },
   {
    "duration": 3,
    "start_time": "2024-05-22T20:56:54.822Z"
   },
   {
    "duration": 6,
    "start_time": "2024-05-22T20:56:54.829Z"
   },
   {
    "duration": 3099,
    "start_time": "2024-05-22T20:56:54.838Z"
   },
   {
    "duration": 7,
    "start_time": "2024-05-22T20:56:57.940Z"
   },
   {
    "duration": 38,
    "start_time": "2024-05-22T20:56:57.950Z"
   },
   {
    "duration": 23,
    "start_time": "2024-05-22T20:56:57.990Z"
   },
   {
    "duration": 100,
    "start_time": "2024-05-22T20:56:58.017Z"
   },
   {
    "duration": 1296,
    "start_time": "2024-05-22T20:56:58.120Z"
   },
   {
    "duration": 5,
    "start_time": "2024-05-22T20:56:59.419Z"
   },
   {
    "duration": 261,
    "start_time": "2024-05-22T20:56:59.428Z"
   },
   {
    "duration": 129,
    "start_time": "2024-05-22T20:56:59.693Z"
   },
   {
    "duration": 112,
    "start_time": "2024-05-22T20:57:25.401Z"
   },
   {
    "duration": 111,
    "start_time": "2024-05-22T20:58:18.410Z"
   },
   {
    "duration": 95,
    "start_time": "2024-05-22T20:58:24.727Z"
   },
   {
    "duration": 30,
    "start_time": "2024-05-22T21:06:07.818Z"
   },
   {
    "duration": 4,
    "start_time": "2024-05-22T21:07:48.713Z"
   },
   {
    "duration": 321,
    "start_time": "2024-05-22T21:23:54.705Z"
   },
   {
    "duration": 5,
    "start_time": "2024-05-22T21:24:07.384Z"
   },
   {
    "duration": 30,
    "start_time": "2024-05-22T21:24:07.393Z"
   },
   {
    "duration": 54,
    "start_time": "2024-05-22T21:24:07.426Z"
   },
   {
    "duration": 36,
    "start_time": "2024-05-22T21:24:07.483Z"
   },
   {
    "duration": 18,
    "start_time": "2024-05-22T21:24:07.524Z"
   },
   {
    "duration": 6,
    "start_time": "2024-05-22T21:24:07.545Z"
   },
   {
    "duration": 5,
    "start_time": "2024-05-22T21:24:07.555Z"
   },
   {
    "duration": 49,
    "start_time": "2024-05-22T21:24:07.563Z"
   },
   {
    "duration": 5,
    "start_time": "2024-05-22T21:24:07.615Z"
   },
   {
    "duration": 16,
    "start_time": "2024-05-22T21:24:07.623Z"
   },
   {
    "duration": 15,
    "start_time": "2024-05-22T21:24:07.642Z"
   },
   {
    "duration": 53,
    "start_time": "2024-05-22T21:24:07.659Z"
   },
   {
    "duration": 11,
    "start_time": "2024-05-22T21:24:07.715Z"
   },
   {
    "duration": 10,
    "start_time": "2024-05-22T21:24:07.731Z"
   },
   {
    "duration": 3,
    "start_time": "2024-05-22T21:24:07.745Z"
   },
   {
    "duration": 6,
    "start_time": "2024-05-22T21:24:07.751Z"
   },
   {
    "duration": 6,
    "start_time": "2024-05-22T21:24:07.760Z"
   },
   {
    "duration": 4,
    "start_time": "2024-05-22T21:24:07.812Z"
   },
   {
    "duration": 6,
    "start_time": "2024-05-22T21:24:07.819Z"
   },
   {
    "duration": 3089,
    "start_time": "2024-05-22T21:24:07.828Z"
   },
   {
    "duration": 6,
    "start_time": "2024-05-22T21:24:10.920Z"
   },
   {
    "duration": 40,
    "start_time": "2024-05-22T21:24:10.931Z"
   },
   {
    "duration": 4,
    "start_time": "2024-05-22T21:24:10.974Z"
   },
   {
    "duration": 29,
    "start_time": "2024-05-22T21:24:11.013Z"
   },
   {
    "duration": 1193,
    "start_time": "2024-05-22T21:24:11.045Z"
   },
   {
    "duration": 5,
    "start_time": "2024-05-22T21:24:12.241Z"
   },
   {
    "duration": 267,
    "start_time": "2024-05-22T21:24:12.249Z"
   },
   {
    "duration": 107,
    "start_time": "2024-05-22T21:24:12.518Z"
   },
   {
    "duration": 100,
    "start_time": "2024-05-22T21:24:12.628Z"
   },
   {
    "duration": 5249,
    "start_time": "2024-05-23T09:45:12.642Z"
   },
   {
    "duration": 38,
    "start_time": "2024-05-23T09:45:17.896Z"
   },
   {
    "duration": 54,
    "start_time": "2024-05-23T09:45:17.937Z"
   },
   {
    "duration": 39,
    "start_time": "2024-05-23T09:45:17.994Z"
   },
   {
    "duration": 17,
    "start_time": "2024-05-23T09:45:18.038Z"
   },
   {
    "duration": 5,
    "start_time": "2024-05-23T09:45:18.058Z"
   },
   {
    "duration": 5,
    "start_time": "2024-05-23T09:45:18.066Z"
   },
   {
    "duration": 6,
    "start_time": "2024-05-23T09:45:18.074Z"
   },
   {
    "duration": 5,
    "start_time": "2024-05-23T09:45:18.083Z"
   },
   {
    "duration": 16,
    "start_time": "2024-05-23T09:45:18.134Z"
   },
   {
    "duration": 13,
    "start_time": "2024-05-23T09:45:18.154Z"
   },
   {
    "duration": 15,
    "start_time": "2024-05-23T09:45:18.170Z"
   },
   {
    "duration": 52,
    "start_time": "2024-05-23T09:45:18.189Z"
   },
   {
    "duration": 7,
    "start_time": "2024-05-23T09:45:18.248Z"
   },
   {
    "duration": 7,
    "start_time": "2024-05-23T09:45:18.259Z"
   },
   {
    "duration": 3,
    "start_time": "2024-05-23T09:45:18.271Z"
   },
   {
    "duration": 5,
    "start_time": "2024-05-23T09:45:18.277Z"
   },
   {
    "duration": 48,
    "start_time": "2024-05-23T09:45:18.285Z"
   },
   {
    "duration": 6,
    "start_time": "2024-05-23T09:45:18.335Z"
   },
   {
    "duration": 3111,
    "start_time": "2024-05-23T09:45:18.344Z"
   },
   {
    "duration": 6,
    "start_time": "2024-05-23T09:45:21.459Z"
   },
   {
    "duration": 35,
    "start_time": "2024-05-23T09:45:21.469Z"
   },
   {
    "duration": 30,
    "start_time": "2024-05-23T09:45:21.507Z"
   },
   {
    "duration": 104,
    "start_time": "2024-05-23T09:45:21.540Z"
   },
   {
    "duration": 1286,
    "start_time": "2024-05-23T09:45:21.647Z"
   },
   {
    "duration": 6,
    "start_time": "2024-05-23T09:45:22.936Z"
   },
   {
    "duration": 286,
    "start_time": "2024-05-23T09:45:22.946Z"
   },
   {
    "duration": 113,
    "start_time": "2024-05-23T09:45:23.236Z"
   },
   {
    "duration": 763,
    "start_time": "2024-05-23T09:45:23.352Z"
   },
   {
    "duration": 1222,
    "start_time": "2024-05-23T09:45:30.375Z"
   },
   {
    "duration": 3096,
    "start_time": "2024-05-23T09:45:41.052Z"
   },
   {
    "duration": 3339,
    "start_time": "2024-05-23T09:47:52.266Z"
   },
   {
    "duration": 3096,
    "start_time": "2024-05-23T09:48:08.382Z"
   },
   {
    "duration": 3117,
    "start_time": "2024-05-23T09:48:14.138Z"
   },
   {
    "duration": 3097,
    "start_time": "2024-05-23T09:49:06.652Z"
   },
   {
    "duration": 3456,
    "start_time": "2024-05-23T09:49:58.745Z"
   },
   {
    "duration": 5,
    "start_time": "2024-05-23T09:51:51.610Z"
   },
   {
    "duration": 1323,
    "start_time": "2024-05-23T09:52:19.910Z"
   },
   {
    "duration": 1729,
    "start_time": "2024-05-23T09:52:26.645Z"
   },
   {
    "duration": 1289,
    "start_time": "2024-05-23T09:54:53.484Z"
   },
   {
    "duration": 1291,
    "start_time": "2024-05-23T09:55:10.125Z"
   },
   {
    "duration": 1294,
    "start_time": "2024-05-23T09:55:35.067Z"
   },
   {
    "duration": 1288,
    "start_time": "2024-05-23T09:55:37.620Z"
   },
   {
    "duration": 579,
    "start_time": "2024-05-23T09:56:37.253Z"
   },
   {
    "duration": 1041,
    "start_time": "2024-05-23T09:56:41.518Z"
   },
   {
    "duration": 7,
    "start_time": "2024-05-23T09:56:48.634Z"
   },
   {
    "duration": 1513,
    "start_time": "2024-05-23T09:56:54.606Z"
   },
   {
    "duration": 1222,
    "start_time": "2024-05-23T09:57:00.646Z"
   },
   {
    "duration": 1290,
    "start_time": "2024-05-23T09:57:06.893Z"
   },
   {
    "duration": 1393,
    "start_time": "2024-05-23T09:57:24.490Z"
   },
   {
    "duration": 1298,
    "start_time": "2024-05-23T09:57:37.401Z"
   },
   {
    "duration": 8,
    "start_time": "2024-05-23T10:00:03.171Z"
   },
   {
    "duration": 1265,
    "start_time": "2024-05-23T10:00:13.641Z"
   },
   {
    "duration": 1263,
    "start_time": "2024-05-23T10:00:21.558Z"
   },
   {
    "duration": 1359,
    "start_time": "2024-05-23T10:00:24.055Z"
   },
   {
    "duration": 1330,
    "start_time": "2024-05-23T10:00:27.711Z"
   },
   {
    "duration": 1261,
    "start_time": "2024-05-23T10:00:33.233Z"
   },
   {
    "duration": 1252,
    "start_time": "2024-05-23T10:00:37.965Z"
   },
   {
    "duration": 1288,
    "start_time": "2024-05-23T10:00:42.927Z"
   },
   {
    "duration": 1246,
    "start_time": "2024-05-23T10:00:48.967Z"
   },
   {
    "duration": 1859,
    "start_time": "2024-05-23T10:01:16.902Z"
   },
   {
    "duration": 63,
    "start_time": "2024-05-23T10:01:48.673Z"
   },
   {
    "duration": 5,
    "start_time": "2024-05-23T10:02:37.322Z"
   },
   {
    "duration": 37,
    "start_time": "2024-05-23T10:03:03.859Z"
   },
   {
    "duration": 67,
    "start_time": "2024-05-23T10:03:10.362Z"
   },
   {
    "duration": 31,
    "start_time": "2024-05-23T10:03:23.191Z"
   },
   {
    "duration": 67,
    "start_time": "2024-05-23T10:03:31.896Z"
   },
   {
    "duration": 27,
    "start_time": "2024-05-23T10:03:38.645Z"
   },
   {
    "duration": 66,
    "start_time": "2024-05-23T10:03:44.849Z"
   },
   {
    "duration": 68,
    "start_time": "2024-05-23T10:03:46.972Z"
   },
   {
    "duration": 67,
    "start_time": "2024-05-23T10:03:47.718Z"
   },
   {
    "duration": 66,
    "start_time": "2024-05-23T10:03:48.223Z"
   },
   {
    "duration": 68,
    "start_time": "2024-05-23T10:03:48.769Z"
   },
   {
    "duration": 69,
    "start_time": "2024-05-23T10:03:49.432Z"
   },
   {
    "duration": 1860,
    "start_time": "2024-05-23T10:03:54.168Z"
   },
   {
    "duration": 1844,
    "start_time": "2024-05-23T10:03:58.896Z"
   },
   {
    "duration": 1867,
    "start_time": "2024-05-23T10:04:03.745Z"
   },
   {
    "duration": 1857,
    "start_time": "2024-05-23T10:04:14.563Z"
   },
   {
    "duration": 1949,
    "start_time": "2024-05-23T10:04:26.574Z"
   },
   {
    "duration": 1888,
    "start_time": "2024-05-23T10:04:35.296Z"
   },
   {
    "duration": 1856,
    "start_time": "2024-05-23T10:04:42.391Z"
   },
   {
    "duration": 1243,
    "start_time": "2024-05-23T10:04:45.985Z"
   },
   {
    "duration": 2467,
    "start_time": "2024-05-23T10:04:53.968Z"
   },
   {
    "duration": 2144,
    "start_time": "2024-05-23T10:05:00.845Z"
   },
   {
    "duration": 1850,
    "start_time": "2024-05-23T10:05:08.054Z"
   },
   {
    "duration": 1878,
    "start_time": "2024-05-23T10:05:16.574Z"
   },
   {
    "duration": 1869,
    "start_time": "2024-05-23T10:05:21.570Z"
   },
   {
    "duration": 1856,
    "start_time": "2024-05-23T10:05:28.866Z"
   },
   {
    "duration": 1845,
    "start_time": "2024-05-23T10:05:32.989Z"
   },
   {
    "duration": 1878,
    "start_time": "2024-05-23T10:05:36.748Z"
   },
   {
    "duration": 1868,
    "start_time": "2024-05-23T10:05:41.347Z"
   },
   {
    "duration": 1870,
    "start_time": "2024-05-23T10:05:45.669Z"
   },
   {
    "duration": 1855,
    "start_time": "2024-05-23T10:05:49.280Z"
   },
   {
    "duration": 66,
    "start_time": "2024-05-23T10:08:14.745Z"
   },
   {
    "duration": 68,
    "start_time": "2024-05-23T10:08:19.598Z"
   },
   {
    "duration": 68,
    "start_time": "2024-05-23T10:08:22.596Z"
   },
   {
    "duration": 75,
    "start_time": "2024-05-23T10:08:25.906Z"
   },
   {
    "duration": 70,
    "start_time": "2024-05-23T10:08:27.574Z"
   },
   {
    "duration": 1991,
    "start_time": "2024-05-23T10:08:30.658Z"
   },
   {
    "duration": 2167,
    "start_time": "2024-05-23T10:15:51.872Z"
   },
   {
    "duration": 1979,
    "start_time": "2024-05-23T10:18:36.436Z"
   },
   {
    "duration": 1857,
    "start_time": "2024-05-23T10:19:11.898Z"
   },
   {
    "duration": 1855,
    "start_time": "2024-05-23T10:19:32.988Z"
   },
   {
    "duration": 1881,
    "start_time": "2024-05-23T10:19:44.410Z"
   },
   {
    "duration": 1860,
    "start_time": "2024-05-23T10:19:52.852Z"
   },
   {
    "duration": 1842,
    "start_time": "2024-05-23T10:19:57.235Z"
   },
   {
    "duration": 1852,
    "start_time": "2024-05-23T10:20:08.681Z"
   },
   {
    "duration": 1857,
    "start_time": "2024-05-23T10:20:14.831Z"
   },
   {
    "duration": 1846,
    "start_time": "2024-05-23T10:20:56.720Z"
   },
   {
    "duration": 1252,
    "start_time": "2024-05-23T10:21:05.974Z"
   },
   {
    "duration": 1245,
    "start_time": "2024-05-23T10:21:08.189Z"
   },
   {
    "duration": 333,
    "start_time": "2024-05-23T10:29:26.487Z"
   },
   {
    "duration": 28,
    "start_time": "2024-05-23T10:32:54.009Z"
   },
   {
    "duration": 1911,
    "start_time": "2024-05-23T10:33:27.929Z"
   },
   {
    "duration": 1289,
    "start_time": "2024-05-23T10:33:36.952Z"
   },
   {
    "duration": 1273,
    "start_time": "2024-05-23T10:35:20.531Z"
   },
   {
    "duration": 4,
    "start_time": "2024-05-23T11:19:49.809Z"
   },
   {
    "duration": 1288,
    "start_time": "2024-05-23T11:22:21.363Z"
   },
   {
    "duration": 1247,
    "start_time": "2024-05-23T11:22:29.807Z"
   },
   {
    "duration": 1245,
    "start_time": "2024-05-23T11:22:34.057Z"
   },
   {
    "duration": 32,
    "start_time": "2024-05-23T11:23:44.063Z"
   },
   {
    "duration": 7,
    "start_time": "2024-05-23T11:23:52.895Z"
   },
   {
    "duration": 106,
    "start_time": "2024-05-23T11:41:47.229Z"
   },
   {
    "duration": 121,
    "start_time": "2024-05-23T11:42:24.915Z"
   },
   {
    "duration": 107,
    "start_time": "2024-05-23T11:44:13.132Z"
   },
   {
    "duration": 92,
    "start_time": "2024-05-23T11:44:19.342Z"
   },
   {
    "duration": 353,
    "start_time": "2024-05-24T08:03:41.799Z"
   },
   {
    "duration": 5551,
    "start_time": "2024-05-24T08:03:45.094Z"
   },
   {
    "duration": 45,
    "start_time": "2024-05-24T08:03:50.650Z"
   },
   {
    "duration": 60,
    "start_time": "2024-05-24T08:03:50.698Z"
   },
   {
    "duration": 18,
    "start_time": "2024-05-24T08:03:50.762Z"
   },
   {
    "duration": 19,
    "start_time": "2024-05-24T08:03:50.783Z"
   },
   {
    "duration": 6,
    "start_time": "2024-05-24T08:03:50.828Z"
   },
   {
    "duration": 5,
    "start_time": "2024-05-24T08:03:50.838Z"
   },
   {
    "duration": 6,
    "start_time": "2024-05-24T08:03:50.848Z"
   },
   {
    "duration": 7,
    "start_time": "2024-05-24T08:03:50.857Z"
   },
   {
    "duration": 15,
    "start_time": "2024-05-24T08:03:50.928Z"
   },
   {
    "duration": 15,
    "start_time": "2024-05-24T08:03:50.946Z"
   },
   {
    "duration": 17,
    "start_time": "2024-05-24T08:03:50.964Z"
   },
   {
    "duration": 46,
    "start_time": "2024-05-24T08:03:50.984Z"
   },
   {
    "duration": 11,
    "start_time": "2024-05-24T08:03:51.033Z"
   },
   {
    "duration": 3,
    "start_time": "2024-05-24T08:03:51.047Z"
   },
   {
    "duration": 3,
    "start_time": "2024-05-24T08:03:51.054Z"
   },
   {
    "duration": 6,
    "start_time": "2024-05-24T08:03:51.060Z"
   },
   {
    "duration": 58,
    "start_time": "2024-05-24T08:03:51.070Z"
   },
   {
    "duration": 3263,
    "start_time": "2024-05-24T08:03:51.131Z"
   },
   {
    "duration": 10,
    "start_time": "2024-05-24T08:03:54.397Z"
   },
   {
    "duration": 51,
    "start_time": "2024-05-24T08:03:54.411Z"
   },
   {
    "duration": 88,
    "start_time": "2024-05-24T08:03:54.466Z"
   },
   {
    "duration": 1194,
    "start_time": "2024-05-24T08:03:54.558Z"
   },
   {
    "duration": 5,
    "start_time": "2024-05-24T08:03:55.755Z"
   },
   {
    "duration": 318,
    "start_time": "2024-05-24T08:03:55.764Z"
   },
   {
    "duration": 168,
    "start_time": "2024-05-24T08:03:56.086Z"
   },
   {
    "duration": 2178,
    "start_time": "2024-05-24T08:03:56.257Z"
   },
   {
    "duration": 1330,
    "start_time": "2024-05-24T08:03:58.444Z"
   },
   {
    "duration": 8,
    "start_time": "2024-05-24T08:03:59.778Z"
   },
   {
    "duration": 4,
    "start_time": "2024-05-24T08:03:59.788Z"
   },
   {
    "duration": 30,
    "start_time": "2024-05-24T08:03:59.796Z"
   },
   {
    "duration": 38,
    "start_time": "2024-05-24T08:04:06.374Z"
   },
   {
    "duration": 67,
    "start_time": "2024-05-24T08:04:10.166Z"
   },
   {
    "duration": 310,
    "start_time": "2024-05-24T08:08:57.918Z"
   },
   {
    "duration": 211,
    "start_time": "2024-05-24T08:09:10.433Z"
   },
   {
    "duration": 33,
    "start_time": "2024-05-24T08:09:34.424Z"
   },
   {
    "duration": 208,
    "start_time": "2024-05-24T08:11:41.722Z"
   },
   {
    "duration": 230,
    "start_time": "2024-05-24T08:11:51.418Z"
   },
   {
    "duration": 222,
    "start_time": "2024-05-24T08:12:51.315Z"
   },
   {
    "duration": 157,
    "start_time": "2024-05-24T08:14:31.462Z"
   },
   {
    "duration": 356,
    "start_time": "2024-05-24T08:14:45.780Z"
   },
   {
    "duration": 11,
    "start_time": "2024-05-24T08:15:19.518Z"
   },
   {
    "duration": 251,
    "start_time": "2024-05-24T08:16:12.798Z"
   },
   {
    "duration": 191,
    "start_time": "2024-05-24T08:16:20.056Z"
   },
   {
    "duration": 266,
    "start_time": "2024-05-24T08:16:37.341Z"
   },
   {
    "duration": 225,
    "start_time": "2024-05-24T08:16:43.301Z"
   },
   {
    "duration": 18,
    "start_time": "2024-05-24T08:17:10.652Z"
   },
   {
    "duration": 13,
    "start_time": "2024-05-24T08:17:25.356Z"
   },
   {
    "duration": 31,
    "start_time": "2024-05-24T08:17:32.497Z"
   },
   {
    "duration": 18,
    "start_time": "2024-05-24T08:17:39.158Z"
   },
   {
    "duration": 22,
    "start_time": "2024-05-24T08:17:44.629Z"
   },
   {
    "duration": 15,
    "start_time": "2024-05-24T08:17:48.357Z"
   },
   {
    "duration": 1718,
    "start_time": "2024-05-24T08:20:54.913Z"
   },
   {
    "duration": 29,
    "start_time": "2024-05-24T08:20:56.636Z"
   },
   {
    "duration": 85,
    "start_time": "2024-05-24T08:20:56.668Z"
   },
   {
    "duration": 23,
    "start_time": "2024-05-24T08:20:56.757Z"
   },
   {
    "duration": 44,
    "start_time": "2024-05-24T08:20:56.786Z"
   },
   {
    "duration": 9,
    "start_time": "2024-05-24T08:20:56.834Z"
   },
   {
    "duration": 6,
    "start_time": "2024-05-24T08:20:56.846Z"
   },
   {
    "duration": 6,
    "start_time": "2024-05-24T08:20:56.856Z"
   },
   {
    "duration": 58,
    "start_time": "2024-05-24T08:20:56.867Z"
   },
   {
    "duration": 18,
    "start_time": "2024-05-24T08:20:56.929Z"
   },
   {
    "duration": 15,
    "start_time": "2024-05-24T08:20:56.951Z"
   },
   {
    "duration": 16,
    "start_time": "2024-05-24T08:20:56.969Z"
   },
   {
    "duration": 47,
    "start_time": "2024-05-24T08:20:56.988Z"
   },
   {
    "duration": 8,
    "start_time": "2024-05-24T08:20:57.042Z"
   },
   {
    "duration": 4,
    "start_time": "2024-05-24T08:20:57.053Z"
   },
   {
    "duration": 4,
    "start_time": "2024-05-24T08:20:57.060Z"
   },
   {
    "duration": 6,
    "start_time": "2024-05-24T08:20:57.068Z"
   },
   {
    "duration": 7,
    "start_time": "2024-05-24T08:20:57.126Z"
   },
   {
    "duration": 3301,
    "start_time": "2024-05-24T08:20:57.136Z"
   },
   {
    "duration": 7,
    "start_time": "2024-05-24T08:21:00.441Z"
   },
   {
    "duration": 39,
    "start_time": "2024-05-24T08:21:00.451Z"
   },
   {
    "duration": 216,
    "start_time": "2024-05-24T08:21:00.525Z"
   },
   {
    "duration": 695,
    "start_time": "2024-05-24T08:21:00.744Z"
   },
   {
    "duration": 0,
    "start_time": "2024-05-24T08:21:01.443Z"
   },
   {
    "duration": 0,
    "start_time": "2024-05-24T08:21:01.446Z"
   },
   {
    "duration": 0,
    "start_time": "2024-05-24T08:21:01.448Z"
   },
   {
    "duration": 0,
    "start_time": "2024-05-24T08:21:01.451Z"
   },
   {
    "duration": 0,
    "start_time": "2024-05-24T08:21:01.454Z"
   },
   {
    "duration": 0,
    "start_time": "2024-05-24T08:21:01.457Z"
   },
   {
    "duration": 0,
    "start_time": "2024-05-24T08:21:01.460Z"
   },
   {
    "duration": 0,
    "start_time": "2024-05-24T08:21:01.462Z"
   },
   {
    "duration": 0,
    "start_time": "2024-05-24T08:21:01.464Z"
   },
   {
    "duration": 0,
    "start_time": "2024-05-24T08:21:01.465Z"
   },
   {
    "duration": 6,
    "start_time": "2024-05-24T08:22:28.839Z"
   },
   {
    "duration": 25,
    "start_time": "2024-05-24T08:22:28.850Z"
   },
   {
    "duration": 101,
    "start_time": "2024-05-24T08:22:28.879Z"
   },
   {
    "duration": 23,
    "start_time": "2024-05-24T08:22:28.985Z"
   },
   {
    "duration": 24,
    "start_time": "2024-05-24T08:22:29.028Z"
   },
   {
    "duration": 6,
    "start_time": "2024-05-24T08:22:29.055Z"
   },
   {
    "duration": 5,
    "start_time": "2024-05-24T08:22:29.065Z"
   },
   {
    "duration": 7,
    "start_time": "2024-05-24T08:22:29.074Z"
   },
   {
    "duration": 6,
    "start_time": "2024-05-24T08:22:29.130Z"
   },
   {
    "duration": 19,
    "start_time": "2024-05-24T08:22:29.140Z"
   },
   {
    "duration": 27,
    "start_time": "2024-05-24T08:22:29.163Z"
   },
   {
    "duration": 45,
    "start_time": "2024-05-24T08:22:29.202Z"
   },
   {
    "duration": 13,
    "start_time": "2024-05-24T08:22:29.255Z"
   },
   {
    "duration": 9,
    "start_time": "2024-05-24T08:22:29.272Z"
   },
   {
    "duration": 4,
    "start_time": "2024-05-24T08:22:29.285Z"
   },
   {
    "duration": 4,
    "start_time": "2024-05-24T08:22:29.327Z"
   },
   {
    "duration": 6,
    "start_time": "2024-05-24T08:22:29.335Z"
   },
   {
    "duration": 6,
    "start_time": "2024-05-24T08:22:29.344Z"
   },
   {
    "duration": 3474,
    "start_time": "2024-05-24T08:22:29.354Z"
   },
   {
    "duration": 8,
    "start_time": "2024-05-24T08:22:32.832Z"
   },
   {
    "duration": 46,
    "start_time": "2024-05-24T08:22:32.844Z"
   },
   {
    "duration": 442,
    "start_time": "2024-05-24T08:22:32.892Z"
   },
   {
    "duration": 92,
    "start_time": "2024-05-24T08:22:33.339Z"
   },
   {
    "duration": 6,
    "start_time": "2024-05-24T08:22:33.443Z"
   },
   {
    "duration": 1609,
    "start_time": "2024-05-24T08:22:33.455Z"
   },
   {
    "duration": 5,
    "start_time": "2024-05-24T08:22:35.068Z"
   },
   {
    "duration": 284,
    "start_time": "2024-05-24T08:22:35.078Z"
   },
   {
    "duration": 177,
    "start_time": "2024-05-24T08:22:35.366Z"
   },
   {
    "duration": 2190,
    "start_time": "2024-05-24T08:22:35.546Z"
   },
   {
    "duration": 1319,
    "start_time": "2024-05-24T08:22:37.740Z"
   },
   {
    "duration": 7,
    "start_time": "2024-05-24T08:22:39.063Z"
   },
   {
    "duration": 3,
    "start_time": "2024-05-24T08:22:39.074Z"
   },
   {
    "duration": 5,
    "start_time": "2024-05-24T08:22:39.080Z"
   },
   {
    "duration": 19,
    "start_time": "2024-05-24T08:22:47.690Z"
   },
   {
    "duration": 13,
    "start_time": "2024-05-24T08:23:50.300Z"
   },
   {
    "duration": 582,
    "start_time": "2024-05-24T08:23:52.661Z"
   },
   {
    "duration": 88,
    "start_time": "2024-05-24T08:27:45.439Z"
   },
   {
    "duration": 16,
    "start_time": "2024-05-24T08:27:49.208Z"
   },
   {
    "duration": 12,
    "start_time": "2024-05-24T08:27:53.613Z"
   },
   {
    "duration": 22,
    "start_time": "2024-05-24T08:31:04.867Z"
   },
   {
    "duration": 18,
    "start_time": "2024-05-24T08:31:19.380Z"
   },
   {
    "duration": 7,
    "start_time": "2024-05-24T08:42:51.352Z"
   },
   {
    "duration": 32,
    "start_time": "2024-05-24T08:42:51.364Z"
   },
   {
    "duration": 72,
    "start_time": "2024-05-24T08:42:51.400Z"
   },
   {
    "duration": 20,
    "start_time": "2024-05-24T08:42:51.476Z"
   },
   {
    "duration": 46,
    "start_time": "2024-05-24T08:42:51.502Z"
   },
   {
    "duration": 8,
    "start_time": "2024-05-24T08:42:51.552Z"
   },
   {
    "duration": 8,
    "start_time": "2024-05-24T08:42:51.563Z"
   },
   {
    "duration": 8,
    "start_time": "2024-05-24T08:42:51.577Z"
   },
   {
    "duration": 41,
    "start_time": "2024-05-24T08:42:51.589Z"
   },
   {
    "duration": 22,
    "start_time": "2024-05-24T08:42:51.633Z"
   },
   {
    "duration": 18,
    "start_time": "2024-05-24T08:42:51.658Z"
   },
   {
    "duration": 60,
    "start_time": "2024-05-24T08:42:51.680Z"
   },
   {
    "duration": 14,
    "start_time": "2024-05-24T08:42:51.745Z"
   },
   {
    "duration": 12,
    "start_time": "2024-05-24T08:42:51.770Z"
   },
   {
    "duration": 4,
    "start_time": "2024-05-24T08:42:51.786Z"
   },
   {
    "duration": 5,
    "start_time": "2024-05-24T08:42:51.828Z"
   },
   {
    "duration": 7,
    "start_time": "2024-05-24T08:42:51.838Z"
   },
   {
    "duration": 8,
    "start_time": "2024-05-24T08:42:51.849Z"
   },
   {
    "duration": 3284,
    "start_time": "2024-05-24T08:42:51.861Z"
   },
   {
    "duration": 12,
    "start_time": "2024-05-24T08:42:55.152Z"
   },
   {
    "duration": 63,
    "start_time": "2024-05-24T08:42:55.167Z"
   },
   {
    "duration": 511,
    "start_time": "2024-05-24T08:42:55.234Z"
   },
   {
    "duration": 83,
    "start_time": "2024-05-24T08:42:55.749Z"
   },
   {
    "duration": 5,
    "start_time": "2024-05-24T08:42:55.839Z"
   },
   {
    "duration": 1284,
    "start_time": "2024-05-24T08:42:55.846Z"
   },
   {
    "duration": 5,
    "start_time": "2024-05-24T08:42:57.133Z"
   },
   {
    "duration": 284,
    "start_time": "2024-05-24T08:42:57.141Z"
   },
   {
    "duration": 216,
    "start_time": "2024-05-24T08:42:57.429Z"
   },
   {
    "duration": 2132,
    "start_time": "2024-05-24T08:42:57.650Z"
   },
   {
    "duration": 1308,
    "start_time": "2024-05-24T08:42:59.785Z"
   },
   {
    "duration": 10,
    "start_time": "2024-05-24T08:43:01.096Z"
   },
   {
    "duration": 4,
    "start_time": "2024-05-24T08:43:01.127Z"
   },
   {
    "duration": 4,
    "start_time": "2024-05-24T08:43:01.135Z"
   },
   {
    "duration": 33,
    "start_time": "2024-05-24T09:10:05.372Z"
   },
   {
    "duration": 36,
    "start_time": "2024-05-24T09:10:11.397Z"
   },
   {
    "duration": 22,
    "start_time": "2024-05-24T09:10:17.771Z"
   },
   {
    "duration": 9,
    "start_time": "2024-05-24T09:10:29.414Z"
   },
   {
    "duration": 6,
    "start_time": "2024-05-24T09:10:36.235Z"
   },
   {
    "duration": 7,
    "start_time": "2024-05-24T09:10:48.953Z"
   },
   {
    "duration": 25,
    "start_time": "2024-05-24T09:10:56.375Z"
   },
   {
    "duration": 23,
    "start_time": "2024-05-24T09:10:59.860Z"
   },
   {
    "duration": 14,
    "start_time": "2024-05-24T09:11:08.205Z"
   },
   {
    "duration": 1619,
    "start_time": "2024-05-24T09:17:51.707Z"
   },
   {
    "duration": 26,
    "start_time": "2024-05-24T09:17:53.329Z"
   },
   {
    "duration": 72,
    "start_time": "2024-05-24T09:17:53.357Z"
   },
   {
    "duration": 19,
    "start_time": "2024-05-24T09:17:53.433Z"
   },
   {
    "duration": 18,
    "start_time": "2024-05-24T09:17:53.456Z"
   },
   {
    "duration": 6,
    "start_time": "2024-05-24T09:17:53.477Z"
   },
   {
    "duration": 5,
    "start_time": "2024-05-24T09:17:53.527Z"
   },
   {
    "duration": 7,
    "start_time": "2024-05-24T09:17:53.536Z"
   },
   {
    "duration": 6,
    "start_time": "2024-05-24T09:17:53.548Z"
   },
   {
    "duration": 19,
    "start_time": "2024-05-24T09:17:53.562Z"
   },
   {
    "duration": 14,
    "start_time": "2024-05-24T09:17:53.627Z"
   },
   {
    "duration": 16,
    "start_time": "2024-05-24T09:17:53.643Z"
   },
   {
    "duration": 12,
    "start_time": "2024-05-24T09:17:53.662Z"
   },
   {
    "duration": 8,
    "start_time": "2024-05-24T09:17:53.677Z"
   },
   {
    "duration": 4,
    "start_time": "2024-05-24T09:17:53.728Z"
   },
   {
    "duration": 3,
    "start_time": "2024-05-24T09:17:53.736Z"
   },
   {
    "duration": 6,
    "start_time": "2024-05-24T09:17:53.742Z"
   },
   {
    "duration": 7,
    "start_time": "2024-05-24T09:17:53.752Z"
   },
   {
    "duration": 3167,
    "start_time": "2024-05-24T09:17:53.762Z"
   },
   {
    "duration": 6,
    "start_time": "2024-05-24T09:17:56.932Z"
   },
   {
    "duration": 36,
    "start_time": "2024-05-24T09:17:56.940Z"
   },
   {
    "duration": 248,
    "start_time": "2024-05-24T09:17:56.979Z"
   },
   {
    "duration": 20,
    "start_time": "2024-05-24T09:17:57.230Z"
   },
   {
    "duration": 1301,
    "start_time": "2024-05-24T09:17:57.253Z"
   },
   {
    "duration": 5,
    "start_time": "2024-05-24T09:17:58.557Z"
   },
   {
    "duration": 271,
    "start_time": "2024-05-24T09:17:58.565Z"
   },
   {
    "duration": 91,
    "start_time": "2024-05-24T09:17:58.839Z"
   },
   {
    "duration": 2065,
    "start_time": "2024-05-24T09:17:58.936Z"
   },
   {
    "duration": 1301,
    "start_time": "2024-05-24T09:18:01.005Z"
   },
   {
    "duration": 18,
    "start_time": "2024-05-24T09:18:02.309Z"
   },
   {
    "duration": 3,
    "start_time": "2024-05-24T09:18:02.330Z"
   },
   {
    "duration": 4,
    "start_time": "2024-05-24T09:18:02.339Z"
   },
   {
    "duration": 13,
    "start_time": "2024-05-26T01:50:27.515Z"
   },
   {
    "duration": 5167,
    "start_time": "2024-05-26T08:57:39.230Z"
   },
   {
    "duration": 36,
    "start_time": "2024-05-26T08:57:44.401Z"
   },
   {
    "duration": 53,
    "start_time": "2024-05-26T08:57:44.442Z"
   },
   {
    "duration": 34,
    "start_time": "2024-05-26T08:57:44.498Z"
   },
   {
    "duration": 17,
    "start_time": "2024-05-26T08:57:44.538Z"
   },
   {
    "duration": 6,
    "start_time": "2024-05-26T08:57:44.559Z"
   },
   {
    "duration": 4,
    "start_time": "2024-05-26T08:57:44.568Z"
   },
   {
    "duration": 6,
    "start_time": "2024-05-26T08:57:44.576Z"
   },
   {
    "duration": 49,
    "start_time": "2024-05-26T08:57:44.585Z"
   },
   {
    "duration": 16,
    "start_time": "2024-05-26T08:57:44.638Z"
   },
   {
    "duration": 13,
    "start_time": "2024-05-26T08:57:44.657Z"
   },
   {
    "duration": 17,
    "start_time": "2024-05-26T08:57:44.673Z"
   },
   {
    "duration": 13,
    "start_time": "2024-05-26T08:57:44.733Z"
   },
   {
    "duration": 10,
    "start_time": "2024-05-26T08:57:44.753Z"
   },
   {
    "duration": 5,
    "start_time": "2024-05-26T08:57:44.767Z"
   },
   {
    "duration": 6,
    "start_time": "2024-05-26T08:57:44.775Z"
   },
   {
    "duration": 3077,
    "start_time": "2024-05-26T08:57:44.784Z"
   },
   {
    "duration": 6,
    "start_time": "2024-05-26T08:57:47.864Z"
   },
   {
    "duration": 61,
    "start_time": "2024-05-26T08:57:47.873Z"
   },
   {
    "duration": 215,
    "start_time": "2024-05-26T08:57:47.937Z"
   },
   {
    "duration": 86,
    "start_time": "2024-05-26T08:57:48.155Z"
   },
   {
    "duration": 1217,
    "start_time": "2024-05-26T08:57:48.244Z"
   },
   {
    "duration": 4,
    "start_time": "2024-05-26T08:57:49.464Z"
   },
   {
    "duration": 285,
    "start_time": "2024-05-26T08:57:49.471Z"
   },
   {
    "duration": 89,
    "start_time": "2024-05-26T08:57:49.760Z"
   },
   {
    "duration": 2141,
    "start_time": "2024-05-26T08:57:49.851Z"
   },
   {
    "duration": 1265,
    "start_time": "2024-05-26T08:57:51.995Z"
   },
   {
    "duration": 8,
    "start_time": "2024-05-26T08:57:53.262Z"
   },
   {
    "duration": 5,
    "start_time": "2024-05-26T09:14:13.009Z"
   },
   {
    "duration": 26,
    "start_time": "2024-05-26T09:14:13.017Z"
   },
   {
    "duration": 50,
    "start_time": "2024-05-26T09:14:13.046Z"
   },
   {
    "duration": 39,
    "start_time": "2024-05-26T09:14:13.099Z"
   },
   {
    "duration": 18,
    "start_time": "2024-05-26T09:14:13.144Z"
   },
   {
    "duration": 5,
    "start_time": "2024-05-26T09:14:13.165Z"
   },
   {
    "duration": 6,
    "start_time": "2024-05-26T09:14:13.173Z"
   },
   {
    "duration": 53,
    "start_time": "2024-05-26T09:14:13.182Z"
   },
   {
    "duration": 6,
    "start_time": "2024-05-26T09:14:13.238Z"
   },
   {
    "duration": 16,
    "start_time": "2024-05-26T09:14:13.247Z"
   },
   {
    "duration": 14,
    "start_time": "2024-05-26T09:14:13.266Z"
   },
   {
    "duration": 56,
    "start_time": "2024-05-26T09:14:13.283Z"
   },
   {
    "duration": 11,
    "start_time": "2024-05-26T09:14:13.341Z"
   },
   {
    "duration": 8,
    "start_time": "2024-05-26T09:14:13.357Z"
   },
   {
    "duration": 6,
    "start_time": "2024-05-26T09:14:13.368Z"
   },
   {
    "duration": 6,
    "start_time": "2024-05-26T09:14:13.377Z"
   },
   {
    "duration": 2946,
    "start_time": "2024-05-26T09:14:13.432Z"
   },
   {
    "duration": 7,
    "start_time": "2024-05-26T09:14:16.380Z"
   },
   {
    "duration": 63,
    "start_time": "2024-05-26T09:14:16.390Z"
   },
   {
    "duration": 279,
    "start_time": "2024-05-26T09:14:16.457Z"
   },
   {
    "duration": 87,
    "start_time": "2024-05-26T09:14:16.746Z"
   },
   {
    "duration": 1316,
    "start_time": "2024-05-26T09:14:16.843Z"
   },
   {
    "duration": 4,
    "start_time": "2024-05-26T09:14:18.163Z"
   },
   {
    "duration": 276,
    "start_time": "2024-05-26T09:14:18.171Z"
   },
   {
    "duration": 93,
    "start_time": "2024-05-26T09:14:18.450Z"
   },
   {
    "duration": 2016,
    "start_time": "2024-05-26T09:14:18.548Z"
   },
   {
    "duration": 1296,
    "start_time": "2024-05-26T09:14:20.568Z"
   },
   {
    "duration": 8,
    "start_time": "2024-05-26T09:14:21.867Z"
   },
   {
    "duration": 110,
    "start_time": "2024-05-26T09:38:20.622Z"
   },
   {
    "duration": 984,
    "start_time": "2024-05-26T09:45:51.779Z"
   },
   {
    "duration": 99,
    "start_time": "2024-05-26T09:46:34.437Z"
   },
   {
    "duration": 110,
    "start_time": "2024-05-26T09:47:44.426Z"
   },
   {
    "duration": 5,
    "start_time": "2024-05-26T09:56:55.319Z"
   },
   {
    "duration": 33,
    "start_time": "2024-05-26T09:57:30.793Z"
   },
   {
    "duration": 29,
    "start_time": "2024-05-26T09:57:37.849Z"
   },
   {
    "duration": 2752,
    "start_time": "2024-05-26T09:57:52.753Z"
   },
   {
    "duration": 2222,
    "start_time": "2024-05-26T09:58:18.927Z"
   },
   {
    "duration": 2079,
    "start_time": "2024-05-26T09:58:39.061Z"
   },
   {
    "duration": 2439,
    "start_time": "2024-05-26T09:59:17.145Z"
   },
   {
    "duration": 822,
    "start_time": "2024-05-26T10:00:07.860Z"
   },
   {
    "duration": 710,
    "start_time": "2024-05-26T10:00:17.858Z"
   },
   {
    "duration": 814,
    "start_time": "2024-05-26T10:09:49.321Z"
   },
   {
    "duration": 3888,
    "start_time": "2024-05-26T10:14:50.545Z"
   },
   {
    "duration": 6,
    "start_time": "2024-05-26T10:16:59.619Z"
   },
   {
    "duration": 76,
    "start_time": "2024-05-26T10:17:14.870Z"
   },
   {
    "duration": 55,
    "start_time": "2024-05-26T10:17:21.486Z"
   },
   {
    "duration": 69,
    "start_time": "2024-05-26T10:17:45.468Z"
   },
   {
    "duration": 4563,
    "start_time": "2024-05-26T10:20:27.972Z"
   },
   {
    "duration": 5151,
    "start_time": "2024-05-26T10:29:36.336Z"
   },
   {
    "duration": 3787,
    "start_time": "2024-05-26T10:30:14.251Z"
   },
   {
    "duration": 3700,
    "start_time": "2024-05-26T10:31:03.780Z"
   },
   {
    "duration": 3751,
    "start_time": "2024-05-26T10:32:10.222Z"
   },
   {
    "duration": 3804,
    "start_time": "2024-05-26T10:32:19.949Z"
   },
   {
    "duration": 102,
    "start_time": "2024-05-26T10:40:25.316Z"
   },
   {
    "duration": 87,
    "start_time": "2024-05-26T10:40:57.947Z"
   },
   {
    "duration": 80,
    "start_time": "2024-05-26T10:41:57.609Z"
   },
   {
    "duration": 83,
    "start_time": "2024-05-26T10:43:07.421Z"
   },
   {
    "duration": 9,
    "start_time": "2024-05-26T10:43:14.135Z"
   },
   {
    "duration": 85,
    "start_time": "2024-05-26T10:43:31.856Z"
   },
   {
    "duration": 90,
    "start_time": "2024-05-26T10:43:39.470Z"
   },
   {
    "duration": 12,
    "start_time": "2024-05-26T10:43:46.736Z"
   },
   {
    "duration": 26,
    "start_time": "2024-05-26T10:43:51.837Z"
   },
   {
    "duration": 84,
    "start_time": "2024-05-26T10:44:10.831Z"
   },
   {
    "duration": 88,
    "start_time": "2024-05-26T10:44:20.485Z"
   },
   {
    "duration": 83,
    "start_time": "2024-05-26T10:44:25.839Z"
   },
   {
    "duration": 11,
    "start_time": "2024-05-26T10:44:30.922Z"
   },
   {
    "duration": 9,
    "start_time": "2024-05-26T10:44:51.622Z"
   },
   {
    "duration": 24,
    "start_time": "2024-05-26T10:46:00.600Z"
   },
   {
    "duration": 5,
    "start_time": "2024-05-26T10:46:05.212Z"
   },
   {
    "duration": 5,
    "start_time": "2024-05-26T10:46:09.396Z"
   },
   {
    "duration": 6,
    "start_time": "2024-05-26T10:46:11.213Z"
   },
   {
    "duration": 6,
    "start_time": "2024-05-26T10:46:22.069Z"
   },
   {
    "duration": 10,
    "start_time": "2024-05-26T10:46:28.476Z"
   },
   {
    "duration": 8,
    "start_time": "2024-05-26T10:47:11.553Z"
   },
   {
    "duration": 13,
    "start_time": "2024-05-26T10:48:29.607Z"
   },
   {
    "duration": 8,
    "start_time": "2024-05-26T10:50:06.155Z"
   },
   {
    "duration": 6,
    "start_time": "2024-05-26T10:50:23.273Z"
   },
   {
    "duration": 13,
    "start_time": "2024-05-26T10:50:35.521Z"
   },
   {
    "duration": 17,
    "start_time": "2024-05-26T10:50:59.966Z"
   },
   {
    "duration": 42,
    "start_time": "2024-05-26T11:20:23.139Z"
   },
   {
    "duration": 5,
    "start_time": "2024-05-26T11:20:36.672Z"
   },
   {
    "duration": 40,
    "start_time": "2024-05-26T11:20:46.202Z"
   },
   {
    "duration": 464,
    "start_time": "2024-05-26T11:20:57.907Z"
   },
   {
    "duration": 256,
    "start_time": "2024-05-26T11:21:17.963Z"
   },
   {
    "duration": 53,
    "start_time": "2024-05-26T11:21:44.897Z"
   },
   {
    "duration": 44,
    "start_time": "2024-05-26T11:21:55.465Z"
   },
   {
    "duration": 322,
    "start_time": "2024-05-26T11:21:59.296Z"
   },
   {
    "duration": 80,
    "start_time": "2024-05-26T11:22:30.068Z"
   },
   {
    "duration": 42,
    "start_time": "2024-05-26T11:22:37.507Z"
   },
   {
    "duration": 3813,
    "start_time": "2024-05-26T11:26:19.523Z"
   },
   {
    "duration": 31,
    "start_time": "2024-05-26T11:27:23.852Z"
   },
   {
    "duration": 34837,
    "start_time": "2024-05-26T11:27:33.735Z"
   },
   {
    "duration": 5374,
    "start_time": "2024-05-26T11:28:31.859Z"
   },
   {
    "duration": 6,
    "start_time": "2024-05-26T11:29:13.644Z"
   },
   {
    "duration": 31,
    "start_time": "2024-05-26T11:29:13.654Z"
   },
   {
    "duration": 78,
    "start_time": "2024-05-26T11:29:13.689Z"
   },
   {
    "duration": 17,
    "start_time": "2024-05-26T11:29:13.772Z"
   },
   {
    "duration": 43,
    "start_time": "2024-05-26T11:29:13.792Z"
   },
   {
    "duration": 6,
    "start_time": "2024-05-26T11:29:13.838Z"
   },
   {
    "duration": 5,
    "start_time": "2024-05-26T11:29:13.847Z"
   },
   {
    "duration": 5,
    "start_time": "2024-05-26T11:29:13.856Z"
   },
   {
    "duration": 6,
    "start_time": "2024-05-26T11:29:13.864Z"
   },
   {
    "duration": 59,
    "start_time": "2024-05-26T11:29:13.876Z"
   },
   {
    "duration": 14,
    "start_time": "2024-05-26T11:29:13.939Z"
   },
   {
    "duration": 19,
    "start_time": "2024-05-26T11:29:13.956Z"
   },
   {
    "duration": 55,
    "start_time": "2024-05-26T11:29:13.978Z"
   },
   {
    "duration": 10,
    "start_time": "2024-05-26T11:29:14.036Z"
   },
   {
    "duration": 6,
    "start_time": "2024-05-26T11:29:14.048Z"
   },
   {
    "duration": 7,
    "start_time": "2024-05-26T11:29:14.057Z"
   },
   {
    "duration": 3085,
    "start_time": "2024-05-26T11:29:14.067Z"
   },
   {
    "duration": 18,
    "start_time": "2024-05-26T11:29:17.155Z"
   },
   {
    "duration": 37,
    "start_time": "2024-05-26T11:29:17.177Z"
   },
   {
    "duration": 216,
    "start_time": "2024-05-26T11:29:17.232Z"
   },
   {
    "duration": 88,
    "start_time": "2024-05-26T11:29:17.452Z"
   },
   {
    "duration": 1207,
    "start_time": "2024-05-26T11:29:17.543Z"
   },
   {
    "duration": 5,
    "start_time": "2024-05-26T11:29:18.753Z"
   },
   {
    "duration": 256,
    "start_time": "2024-05-26T11:29:18.760Z"
   },
   {
    "duration": 117,
    "start_time": "2024-05-26T11:29:19.019Z"
   },
   {
    "duration": 198,
    "start_time": "2024-05-26T11:29:19.140Z"
   },
   {
    "duration": 11,
    "start_time": "2024-05-26T11:29:19.341Z"
   },
   {
    "duration": 41,
    "start_time": "2024-05-26T11:29:19.433Z"
   },
   {
    "duration": 34961,
    "start_time": "2024-05-26T11:29:19.477Z"
   },
   {
    "duration": 5491,
    "start_time": "2024-05-26T11:29:54.443Z"
   },
   {
    "duration": 1989,
    "start_time": "2024-05-26T11:29:59.937Z"
   },
   {
    "duration": 1266,
    "start_time": "2024-05-26T11:30:01.933Z"
   },
   {
    "duration": 10,
    "start_time": "2024-05-26T11:30:03.203Z"
   },
   {
    "duration": 3668,
    "start_time": "2024-05-26T11:31:12.668Z"
   },
   {
    "duration": 38,
    "start_time": "2024-05-26T11:32:42.115Z"
   },
   {
    "duration": 34988,
    "start_time": "2024-05-26T11:32:50.578Z"
   },
   {
    "duration": 34,
    "start_time": "2024-05-26T11:50:51.931Z"
   },
   {
    "duration": 35,
    "start_time": "2024-05-26T11:50:55.247Z"
   },
   {
    "duration": 46,
    "start_time": "2024-05-26T11:50:57.770Z"
   },
   {
    "duration": 32,
    "start_time": "2024-05-26T11:51:08.199Z"
   },
   {
    "duration": 59,
    "start_time": "2024-05-26T11:51:11.817Z"
   },
   {
    "duration": 105,
    "start_time": "2024-05-26T11:52:06.349Z"
   },
   {
    "duration": 50,
    "start_time": "2024-05-26T11:53:36.204Z"
   },
   {
    "duration": 62,
    "start_time": "2024-05-26T11:53:38.152Z"
   },
   {
    "duration": 43,
    "start_time": "2024-05-26T11:54:04.549Z"
   },
   {
    "duration": 17,
    "start_time": "2024-05-26T11:54:11.051Z"
   },
   {
    "duration": 22,
    "start_time": "2024-05-26T11:54:19.412Z"
   },
   {
    "duration": 5319,
    "start_time": "2024-05-27T08:34:50.577Z"
   },
   {
    "duration": 33,
    "start_time": "2024-05-27T08:34:55.900Z"
   },
   {
    "duration": 58,
    "start_time": "2024-05-27T08:34:55.936Z"
   },
   {
    "duration": 43,
    "start_time": "2024-05-27T08:34:55.999Z"
   },
   {
    "duration": 21,
    "start_time": "2024-05-27T08:34:56.046Z"
   },
   {
    "duration": 42,
    "start_time": "2024-05-27T08:34:56.070Z"
   },
   {
    "duration": 5,
    "start_time": "2024-05-27T08:34:56.116Z"
   },
   {
    "duration": 6,
    "start_time": "2024-05-27T08:34:56.125Z"
   },
   {
    "duration": 6,
    "start_time": "2024-05-27T08:34:56.135Z"
   },
   {
    "duration": 64,
    "start_time": "2024-05-27T08:34:56.148Z"
   },
   {
    "duration": 15,
    "start_time": "2024-05-27T08:34:56.215Z"
   },
   {
    "duration": 17,
    "start_time": "2024-05-27T08:34:56.233Z"
   },
   {
    "duration": 13,
    "start_time": "2024-05-27T08:34:56.253Z"
   },
   {
    "duration": 46,
    "start_time": "2024-05-27T08:34:56.269Z"
   },
   {
    "duration": 6,
    "start_time": "2024-05-27T08:34:56.318Z"
   },
   {
    "duration": 7,
    "start_time": "2024-05-27T08:34:56.327Z"
   },
   {
    "duration": 3154,
    "start_time": "2024-05-27T08:34:56.337Z"
   },
   {
    "duration": 6,
    "start_time": "2024-05-27T08:34:59.494Z"
   },
   {
    "duration": 37,
    "start_time": "2024-05-27T08:34:59.513Z"
   },
   {
    "duration": 263,
    "start_time": "2024-05-27T08:34:59.553Z"
   },
   {
    "duration": 13,
    "start_time": "2024-05-27T08:34:59.819Z"
   },
   {
    "duration": 1209,
    "start_time": "2024-05-27T08:34:59.837Z"
   },
   {
    "duration": 5,
    "start_time": "2024-05-27T08:35:01.049Z"
   },
   {
    "duration": 276,
    "start_time": "2024-05-27T08:35:01.058Z"
   },
   {
    "duration": 95,
    "start_time": "2024-05-27T08:35:01.337Z"
   },
   {
    "duration": 286,
    "start_time": "2024-05-27T08:35:01.435Z"
   },
   {
    "duration": 12,
    "start_time": "2024-05-27T08:35:01.724Z"
   },
   {
    "duration": 98,
    "start_time": "2024-05-27T08:35:01.818Z"
   },
   {
    "duration": 99,
    "start_time": "2024-05-27T08:35:01.921Z"
   },
   {
    "duration": 23,
    "start_time": "2024-05-27T08:35:02.023Z"
   },
   {
    "duration": 35364,
    "start_time": "2024-05-27T08:35:02.049Z"
   },
   {
    "duration": 6192,
    "start_time": "2024-05-27T08:35:37.421Z"
   },
   {
    "duration": 56,
    "start_time": "2024-05-27T08:38:13.777Z"
   },
   {
    "duration": 7,
    "start_time": "2024-05-27T08:42:59.250Z"
   },
   {
    "duration": 23,
    "start_time": "2024-05-27T08:43:06.477Z"
   },
   {
    "duration": 28,
    "start_time": "2024-05-27T08:44:50.321Z"
   },
   {
    "duration": 422,
    "start_time": "2024-05-27T08:45:43.881Z"
   },
   {
    "duration": 12,
    "start_time": "2024-05-27T08:45:48.489Z"
   },
   {
    "duration": 9,
    "start_time": "2024-05-27T08:46:06.616Z"
   },
   {
    "duration": 361,
    "start_time": "2024-05-27T08:47:48.235Z"
   },
   {
    "duration": 3,
    "start_time": "2024-05-27T08:49:52.572Z"
   },
   {
    "duration": 12,
    "start_time": "2024-05-27T08:52:41.090Z"
   },
   {
    "duration": 8,
    "start_time": "2024-05-27T08:52:50.201Z"
   },
   {
    "duration": 117,
    "start_time": "2024-05-27T08:54:09.612Z"
   },
   {
    "duration": 132,
    "start_time": "2024-05-27T08:54:17.692Z"
   },
   {
    "duration": 111,
    "start_time": "2024-05-27T08:54:31.311Z"
   },
   {
    "duration": 99,
    "start_time": "2024-05-27T08:55:21.327Z"
   },
   {
    "duration": 26,
    "start_time": "2024-05-27T08:55:47.661Z"
   },
   {
    "duration": 8,
    "start_time": "2024-05-27T08:55:51.275Z"
   },
   {
    "duration": 257,
    "start_time": "2024-05-27T08:56:05.174Z"
   },
   {
    "duration": 6,
    "start_time": "2024-05-27T08:56:20.190Z"
   },
   {
    "duration": 24,
    "start_time": "2024-05-27T08:56:20.200Z"
   },
   {
    "duration": 49,
    "start_time": "2024-05-27T08:56:20.227Z"
   },
   {
    "duration": 40,
    "start_time": "2024-05-27T08:56:20.280Z"
   },
   {
    "duration": 17,
    "start_time": "2024-05-27T08:56:20.324Z"
   },
   {
    "duration": 6,
    "start_time": "2024-05-27T08:56:20.345Z"
   },
   {
    "duration": 5,
    "start_time": "2024-05-27T08:56:20.354Z"
   },
   {
    "duration": 51,
    "start_time": "2024-05-27T08:56:20.362Z"
   },
   {
    "duration": 6,
    "start_time": "2024-05-27T08:56:20.416Z"
   },
   {
    "duration": 15,
    "start_time": "2024-05-27T08:56:20.430Z"
   },
   {
    "duration": 13,
    "start_time": "2024-05-27T08:56:20.448Z"
   },
   {
    "duration": 54,
    "start_time": "2024-05-27T08:56:20.464Z"
   },
   {
    "duration": 11,
    "start_time": "2024-05-27T08:56:20.521Z"
   },
   {
    "duration": 8,
    "start_time": "2024-05-27T08:56:20.535Z"
   },
   {
    "duration": 6,
    "start_time": "2024-05-27T08:56:20.546Z"
   },
   {
    "duration": 6,
    "start_time": "2024-05-27T08:56:20.555Z"
   },
   {
    "duration": 4,
    "start_time": "2024-05-27T08:56:20.613Z"
   },
   {
    "duration": 6,
    "start_time": "2024-05-27T08:56:20.620Z"
   },
   {
    "duration": 37,
    "start_time": "2024-05-27T08:56:20.629Z"
   },
   {
    "duration": 241,
    "start_time": "2024-05-27T08:56:20.672Z"
   },
   {
    "duration": 20,
    "start_time": "2024-05-27T08:56:20.916Z"
   },
   {
    "duration": 1294,
    "start_time": "2024-05-27T08:56:20.939Z"
   },
   {
    "duration": 4,
    "start_time": "2024-05-27T08:56:22.236Z"
   },
   {
    "duration": 262,
    "start_time": "2024-05-27T08:56:22.244Z"
   },
   {
    "duration": 107,
    "start_time": "2024-05-27T08:56:22.511Z"
   },
   {
    "duration": 202,
    "start_time": "2024-05-27T08:56:22.622Z"
   },
   {
    "duration": 85,
    "start_time": "2024-05-27T08:56:22.827Z"
   },
   {
    "duration": 131,
    "start_time": "2024-05-27T08:56:22.926Z"
   },
   {
    "duration": 67,
    "start_time": "2024-05-27T08:56:23.063Z"
   },
   {
    "duration": 97,
    "start_time": "2024-05-27T08:56:23.134Z"
   },
   {
    "duration": 34981,
    "start_time": "2024-05-27T08:56:23.234Z"
   },
   {
    "duration": 5712,
    "start_time": "2024-05-27T08:56:58.219Z"
   },
   {
    "duration": 8,
    "start_time": "2024-05-27T08:57:03.934Z"
   },
   {
    "duration": 117,
    "start_time": "2024-05-27T08:57:04.016Z"
   },
   {
    "duration": 14,
    "start_time": "2024-05-27T08:57:04.138Z"
   },
   {
    "duration": 26,
    "start_time": "2024-05-27T09:01:29.141Z"
   },
   {
    "duration": 202,
    "start_time": "2024-05-27T09:03:21.376Z"
   },
   {
    "duration": 41,
    "start_time": "2024-05-27T09:03:28.242Z"
   },
   {
    "duration": 91,
    "start_time": "2024-05-27T09:03:32.185Z"
   },
   {
    "duration": 24,
    "start_time": "2024-05-27T09:03:50.793Z"
   },
   {
    "duration": 25,
    "start_time": "2024-05-27T09:03:55.894Z"
   },
   {
    "duration": 23,
    "start_time": "2024-05-27T09:03:59.170Z"
   },
   {
    "duration": 7486,
    "start_time": "2024-05-27T09:04:34.129Z"
   },
   {
    "duration": 358,
    "start_time": "2024-05-27T09:05:12.267Z"
   },
   {
    "duration": 27,
    "start_time": "2024-05-27T09:07:58.265Z"
   },
   {
    "duration": 26,
    "start_time": "2024-05-27T09:08:01.536Z"
   },
   {
    "duration": 27,
    "start_time": "2024-05-27T09:08:05.697Z"
   },
   {
    "duration": 3161,
    "start_time": "2024-05-27T09:14:19.314Z"
   },
   {
    "duration": 217,
    "start_time": "2024-05-27T09:14:43.630Z"
   },
   {
    "duration": 22,
    "start_time": "2024-05-27T09:14:50.894Z"
   },
   {
    "duration": 101,
    "start_time": "2024-05-27T09:14:54.092Z"
   },
   {
    "duration": 26,
    "start_time": "2024-05-27T09:14:59.508Z"
   },
   {
    "duration": 27,
    "start_time": "2024-05-27T09:15:06.024Z"
   },
   {
    "duration": 9,
    "start_time": "2024-05-27T09:15:08.305Z"
   },
   {
    "duration": 27,
    "start_time": "2024-05-27T09:15:12.492Z"
   },
   {
    "duration": 24,
    "start_time": "2024-05-27T09:15:16.370Z"
   },
   {
    "duration": 23,
    "start_time": "2024-05-27T09:15:18.657Z"
   },
   {
    "duration": 6,
    "start_time": "2024-05-27T09:16:09.005Z"
   },
   {
    "duration": 74,
    "start_time": "2024-05-27T09:16:24.953Z"
   },
   {
    "duration": 62,
    "start_time": "2024-05-27T09:16:39.886Z"
   },
   {
    "duration": 24,
    "start_time": "2024-05-27T09:16:44.210Z"
   },
   {
    "duration": 61,
    "start_time": "2024-05-27T09:16:58.363Z"
   },
   {
    "duration": 90,
    "start_time": "2024-05-27T09:18:14.221Z"
   },
   {
    "duration": 22,
    "start_time": "2024-05-27T09:18:21.022Z"
   },
   {
    "duration": 50,
    "start_time": "2024-05-27T09:18:24.392Z"
   },
   {
    "duration": 62,
    "start_time": "2024-05-27T09:18:53.812Z"
   },
   {
    "duration": 39,
    "start_time": "2024-05-27T09:19:07.088Z"
   },
   {
    "duration": 73,
    "start_time": "2024-05-27T09:19:10.914Z"
   },
   {
    "duration": 41,
    "start_time": "2024-05-27T09:19:14.945Z"
   },
   {
    "duration": 25,
    "start_time": "2024-05-27T09:20:53.393Z"
   },
   {
    "duration": 869,
    "start_time": "2024-05-27T09:21:01.654Z"
   },
   {
    "duration": 156,
    "start_time": "2024-05-27T09:22:16.239Z"
   },
   {
    "duration": 117,
    "start_time": "2024-05-27T09:22:25.912Z"
   },
   {
    "duration": 73,
    "start_time": "2024-05-27T09:23:26.337Z"
   },
   {
    "duration": 22,
    "start_time": "2024-05-27T09:23:34.266Z"
   },
   {
    "duration": 7,
    "start_time": "2024-05-27T09:23:39.950Z"
   },
   {
    "duration": 23,
    "start_time": "2024-05-27T09:23:42.120Z"
   },
   {
    "duration": 81,
    "start_time": "2024-05-27T09:23:49.552Z"
   },
   {
    "duration": 25,
    "start_time": "2024-05-27T09:24:07.507Z"
   },
   {
    "duration": 25,
    "start_time": "2024-05-27T09:24:50.355Z"
   },
   {
    "duration": 25,
    "start_time": "2024-05-27T09:25:00.973Z"
   },
   {
    "duration": 27,
    "start_time": "2024-05-27T09:25:16.346Z"
   },
   {
    "duration": 5,
    "start_time": "2024-05-27T09:25:24.882Z"
   },
   {
    "duration": 30,
    "start_time": "2024-05-27T09:25:24.892Z"
   },
   {
    "duration": 57,
    "start_time": "2024-05-27T09:25:24.925Z"
   },
   {
    "duration": 38,
    "start_time": "2024-05-27T09:25:24.985Z"
   },
   {
    "duration": 17,
    "start_time": "2024-05-27T09:25:25.027Z"
   },
   {
    "duration": 5,
    "start_time": "2024-05-27T09:25:25.048Z"
   },
   {
    "duration": 5,
    "start_time": "2024-05-27T09:25:25.056Z"
   },
   {
    "duration": 5,
    "start_time": "2024-05-27T09:25:25.064Z"
   },
   {
    "duration": 42,
    "start_time": "2024-05-27T09:25:25.072Z"
   },
   {
    "duration": 19,
    "start_time": "2024-05-27T09:25:25.118Z"
   },
   {
    "duration": 17,
    "start_time": "2024-05-27T09:25:25.141Z"
   },
   {
    "duration": 51,
    "start_time": "2024-05-27T09:25:25.161Z"
   },
   {
    "duration": 11,
    "start_time": "2024-05-27T09:25:25.216Z"
   },
   {
    "duration": 8,
    "start_time": "2024-05-27T09:25:25.232Z"
   },
   {
    "duration": 5,
    "start_time": "2024-05-27T09:25:25.244Z"
   },
   {
    "duration": 6,
    "start_time": "2024-05-27T09:25:25.253Z"
   },
   {
    "duration": 50,
    "start_time": "2024-05-27T09:25:25.262Z"
   },
   {
    "duration": 7,
    "start_time": "2024-05-27T09:25:25.315Z"
   },
   {
    "duration": 38,
    "start_time": "2024-05-27T09:25:25.325Z"
   },
   {
    "duration": 260,
    "start_time": "2024-05-27T09:25:25.365Z"
   },
   {
    "duration": 85,
    "start_time": "2024-05-27T09:25:25.628Z"
   },
   {
    "duration": 1218,
    "start_time": "2024-05-27T09:25:25.716Z"
   },
   {
    "duration": 6,
    "start_time": "2024-05-27T09:25:26.936Z"
   },
   {
    "duration": 268,
    "start_time": "2024-05-27T09:25:26.945Z"
   },
   {
    "duration": 106,
    "start_time": "2024-05-27T09:25:27.215Z"
   },
   {
    "duration": 200,
    "start_time": "2024-05-27T09:25:27.323Z"
   },
   {
    "duration": 9,
    "start_time": "2024-05-27T09:25:27.526Z"
   },
   {
    "duration": 124,
    "start_time": "2024-05-27T09:25:27.613Z"
   },
   {
    "duration": 89,
    "start_time": "2024-05-27T09:25:27.740Z"
   },
   {
    "duration": 27,
    "start_time": "2024-05-27T09:25:32.376Z"
   },
   {
    "duration": 118,
    "start_time": "2024-05-27T09:25:34.699Z"
   },
   {
    "duration": 10,
    "start_time": "2024-05-27T09:25:43.822Z"
   },
   {
    "duration": 9,
    "start_time": "2024-05-27T09:26:25.870Z"
   },
   {
    "duration": 5887,
    "start_time": "2024-05-27T09:32:59.757Z"
   },
   {
    "duration": 34971,
    "start_time": "2024-05-27T09:33:06.751Z"
   },
   {
    "duration": 35074,
    "start_time": "2024-05-27T09:34:03.443Z"
   },
   {
    "duration": 5952,
    "start_time": "2024-05-27T09:34:38.522Z"
   },
   {
    "duration": 5785,
    "start_time": "2024-05-27T09:36:41.941Z"
   },
   {
    "duration": 4154,
    "start_time": "2024-05-27T09:37:04.216Z"
   },
   {
    "duration": 1744,
    "start_time": "2024-05-27T09:37:23.795Z"
   },
   {
    "duration": 25,
    "start_time": "2024-05-27T09:37:25.543Z"
   },
   {
    "duration": 87,
    "start_time": "2024-05-27T09:37:25.571Z"
   },
   {
    "duration": 20,
    "start_time": "2024-05-27T09:37:25.662Z"
   },
   {
    "duration": 32,
    "start_time": "2024-05-27T09:37:25.689Z"
   },
   {
    "duration": 5,
    "start_time": "2024-05-27T09:37:25.724Z"
   },
   {
    "duration": 4,
    "start_time": "2024-05-27T09:37:25.733Z"
   },
   {
    "duration": 7,
    "start_time": "2024-05-27T09:37:25.740Z"
   },
   {
    "duration": 5,
    "start_time": "2024-05-27T09:37:25.750Z"
   },
   {
    "duration": 61,
    "start_time": "2024-05-27T09:37:25.759Z"
   },
   {
    "duration": 14,
    "start_time": "2024-05-27T09:37:25.823Z"
   },
   {
    "duration": 15,
    "start_time": "2024-05-27T09:37:25.840Z"
   },
   {
    "duration": 13,
    "start_time": "2024-05-27T09:37:25.858Z"
   },
   {
    "duration": 7,
    "start_time": "2024-05-27T09:37:25.916Z"
   },
   {
    "duration": 7,
    "start_time": "2024-05-27T09:37:25.926Z"
   },
   {
    "duration": 8,
    "start_time": "2024-05-27T09:37:25.937Z"
   },
   {
    "duration": 6,
    "start_time": "2024-05-27T09:37:25.948Z"
   },
   {
    "duration": 54,
    "start_time": "2024-05-27T09:37:25.958Z"
   },
   {
    "duration": 52,
    "start_time": "2024-05-27T09:37:26.016Z"
   },
   {
    "duration": 443,
    "start_time": "2024-05-27T09:37:26.071Z"
   },
   {
    "duration": 23,
    "start_time": "2024-05-27T09:37:26.517Z"
   },
   {
    "duration": 1324,
    "start_time": "2024-05-27T09:37:26.613Z"
   },
   {
    "duration": 7,
    "start_time": "2024-05-27T09:37:27.941Z"
   },
   {
    "duration": 290,
    "start_time": "2024-05-27T09:37:27.952Z"
   },
   {
    "duration": 89,
    "start_time": "2024-05-27T09:37:28.245Z"
   },
   {
    "duration": 303,
    "start_time": "2024-05-27T09:37:28.338Z"
   },
   {
    "duration": 82,
    "start_time": "2024-05-27T09:37:28.645Z"
   },
   {
    "duration": 119,
    "start_time": "2024-05-27T09:37:28.731Z"
   },
   {
    "duration": 9,
    "start_time": "2024-05-27T09:37:28.853Z"
   },
   {
    "duration": 19,
    "start_time": "2024-05-27T09:37:28.914Z"
   },
   {
    "duration": 97,
    "start_time": "2024-05-27T09:37:28.936Z"
   },
   {
    "duration": 35811,
    "start_time": "2024-05-27T09:37:29.036Z"
   },
   {
    "duration": 5247,
    "start_time": "2024-05-27T09:38:04.850Z"
   },
   {
    "duration": 0,
    "start_time": "2024-05-27T09:38:10.100Z"
   },
   {
    "duration": 0,
    "start_time": "2024-05-27T09:38:10.102Z"
   },
   {
    "duration": 0,
    "start_time": "2024-05-27T09:38:10.114Z"
   },
   {
    "duration": 0,
    "start_time": "2024-05-27T09:38:10.115Z"
   },
   {
    "duration": 0,
    "start_time": "2024-05-27T09:38:10.118Z"
   },
   {
    "duration": 0,
    "start_time": "2024-05-27T09:38:10.120Z"
   },
   {
    "duration": 0,
    "start_time": "2024-05-27T09:38:10.122Z"
   },
   {
    "duration": 0,
    "start_time": "2024-05-27T09:38:10.125Z"
   },
   {
    "duration": 4184,
    "start_time": "2024-05-27T09:38:40.637Z"
   },
   {
    "duration": 27,
    "start_time": "2024-05-27T09:38:48.370Z"
   },
   {
    "duration": 48,
    "start_time": "2024-05-27T09:38:55.085Z"
   },
   {
    "duration": 25,
    "start_time": "2024-05-27T09:39:45.624Z"
   },
   {
    "duration": 1540,
    "start_time": "2024-05-27T09:41:01.961Z"
   },
   {
    "duration": 31,
    "start_time": "2024-05-27T09:41:03.505Z"
   },
   {
    "duration": 55,
    "start_time": "2024-05-27T09:41:03.539Z"
   },
   {
    "duration": 21,
    "start_time": "2024-05-27T09:41:03.614Z"
   },
   {
    "duration": 22,
    "start_time": "2024-05-27T09:41:03.639Z"
   },
   {
    "duration": 7,
    "start_time": "2024-05-27T09:41:03.664Z"
   },
   {
    "duration": 39,
    "start_time": "2024-05-27T09:41:03.675Z"
   },
   {
    "duration": 8,
    "start_time": "2024-05-27T09:41:03.717Z"
   },
   {
    "duration": 8,
    "start_time": "2024-05-27T09:41:03.728Z"
   },
   {
    "duration": 17,
    "start_time": "2024-05-27T09:41:03.740Z"
   },
   {
    "duration": 58,
    "start_time": "2024-05-27T09:41:03.759Z"
   },
   {
    "duration": 17,
    "start_time": "2024-05-27T09:41:03.819Z"
   },
   {
    "duration": 11,
    "start_time": "2024-05-27T09:41:03.839Z"
   },
   {
    "duration": 8,
    "start_time": "2024-05-27T09:41:03.859Z"
   },
   {
    "duration": 9,
    "start_time": "2024-05-27T09:41:03.912Z"
   },
   {
    "duration": 6,
    "start_time": "2024-05-27T09:41:03.924Z"
   },
   {
    "duration": 4,
    "start_time": "2024-05-27T09:41:03.933Z"
   },
   {
    "duration": 7,
    "start_time": "2024-05-27T09:41:03.940Z"
   },
   {
    "duration": 83,
    "start_time": "2024-05-27T09:41:03.950Z"
   },
   {
    "duration": 280,
    "start_time": "2024-05-27T09:41:04.036Z"
   },
   {
    "duration": 16,
    "start_time": "2024-05-27T09:41:04.319Z"
   },
   {
    "duration": 1225,
    "start_time": "2024-05-27T09:41:04.414Z"
   },
   {
    "duration": 5,
    "start_time": "2024-05-27T09:41:05.641Z"
   },
   {
    "duration": 303,
    "start_time": "2024-05-27T09:41:05.649Z"
   },
   {
    "duration": 79,
    "start_time": "2024-05-27T09:41:05.955Z"
   },
   {
    "duration": 276,
    "start_time": "2024-05-27T09:41:06.037Z"
   },
   {
    "duration": 9,
    "start_time": "2024-05-27T09:41:06.316Z"
   },
   {
    "duration": 120,
    "start_time": "2024-05-27T09:41:06.328Z"
   },
   {
    "duration": 60,
    "start_time": "2024-05-27T09:41:06.451Z"
   },
   {
    "duration": 22,
    "start_time": "2024-05-27T09:41:06.514Z"
   },
   {
    "duration": 24,
    "start_time": "2024-05-27T09:41:06.612Z"
   },
   {
    "duration": 35310,
    "start_time": "2024-05-27T09:41:06.639Z"
   },
   {
    "duration": 4469,
    "start_time": "2024-05-27T09:41:41.951Z"
   },
   {
    "duration": 3950,
    "start_time": "2024-05-27T09:41:46.423Z"
   },
   {
    "duration": 0,
    "start_time": "2024-05-27T09:41:50.376Z"
   },
   {
    "duration": 0,
    "start_time": "2024-05-27T09:41:50.377Z"
   },
   {
    "duration": 0,
    "start_time": "2024-05-27T09:41:50.381Z"
   },
   {
    "duration": 0,
    "start_time": "2024-05-27T09:41:50.383Z"
   },
   {
    "duration": 0,
    "start_time": "2024-05-27T09:41:50.385Z"
   },
   {
    "duration": 0,
    "start_time": "2024-05-27T09:41:50.386Z"
   },
   {
    "duration": 0,
    "start_time": "2024-05-27T09:41:50.389Z"
   },
   {
    "duration": 4259,
    "start_time": "2024-05-27T09:42:10.522Z"
   },
   {
    "duration": 4193,
    "start_time": "2024-05-27T09:42:20.793Z"
   },
   {
    "duration": 5,
    "start_time": "2024-05-27T09:43:19.384Z"
   },
   {
    "duration": 27,
    "start_time": "2024-05-27T09:43:19.393Z"
   },
   {
    "duration": 50,
    "start_time": "2024-05-27T09:43:19.423Z"
   },
   {
    "duration": 47,
    "start_time": "2024-05-27T09:43:19.476Z"
   },
   {
    "duration": 18,
    "start_time": "2024-05-27T09:43:19.529Z"
   },
   {
    "duration": 6,
    "start_time": "2024-05-27T09:43:19.552Z"
   },
   {
    "duration": 5,
    "start_time": "2024-05-27T09:43:19.561Z"
   },
   {
    "duration": 46,
    "start_time": "2024-05-27T09:43:19.569Z"
   },
   {
    "duration": 6,
    "start_time": "2024-05-27T09:43:19.618Z"
   },
   {
    "duration": 16,
    "start_time": "2024-05-27T09:43:19.628Z"
   },
   {
    "duration": 13,
    "start_time": "2024-05-27T09:43:19.647Z"
   },
   {
    "duration": 56,
    "start_time": "2024-05-27T09:43:19.663Z"
   },
   {
    "duration": 11,
    "start_time": "2024-05-27T09:43:19.722Z"
   },
   {
    "duration": 8,
    "start_time": "2024-05-27T09:43:19.740Z"
   },
   {
    "duration": 6,
    "start_time": "2024-05-27T09:43:19.751Z"
   },
   {
    "duration": 6,
    "start_time": "2024-05-27T09:43:19.761Z"
   },
   {
    "duration": 4,
    "start_time": "2024-05-27T09:43:19.814Z"
   },
   {
    "duration": 6,
    "start_time": "2024-05-27T09:43:19.822Z"
   },
   {
    "duration": 36,
    "start_time": "2024-05-27T09:43:19.831Z"
   },
   {
    "duration": 343,
    "start_time": "2024-05-27T09:43:19.870Z"
   },
   {
    "duration": 12,
    "start_time": "2024-05-27T09:43:20.216Z"
   },
   {
    "duration": 1304,
    "start_time": "2024-05-27T09:43:20.231Z"
   },
   {
    "duration": 4,
    "start_time": "2024-05-27T09:43:21.538Z"
   },
   {
    "duration": 343,
    "start_time": "2024-05-27T09:43:21.546Z"
   },
   {
    "duration": 121,
    "start_time": "2024-05-27T09:43:21.892Z"
   },
   {
    "duration": 195,
    "start_time": "2024-05-27T09:43:22.017Z"
   },
   {
    "duration": 11,
    "start_time": "2024-05-27T09:43:22.215Z"
   },
   {
    "duration": 121,
    "start_time": "2024-05-27T09:43:22.229Z"
   },
   {
    "duration": 66,
    "start_time": "2024-05-27T09:43:22.354Z"
   },
   {
    "duration": 89,
    "start_time": "2024-05-27T09:43:22.427Z"
   },
   {
    "duration": 24,
    "start_time": "2024-05-27T09:43:22.519Z"
   },
   {
    "duration": 35801,
    "start_time": "2024-05-27T09:43:22.546Z"
   },
   {
    "duration": 5710,
    "start_time": "2024-05-27T09:43:58.350Z"
   },
   {
    "duration": 3075,
    "start_time": "2024-05-27T09:44:04.063Z"
   },
   {
    "duration": 171,
    "start_time": "2024-05-27T09:44:07.141Z"
   },
   {
    "duration": 13,
    "start_time": "2024-05-27T09:44:07.315Z"
   },
   {
    "duration": 6,
    "start_time": "2024-05-27T09:44:07.331Z"
   },
   {
    "duration": 79,
    "start_time": "2024-05-27T09:44:07.340Z"
   },
   {
    "duration": 1971,
    "start_time": "2024-05-27T09:44:07.422Z"
   },
   {
    "duration": 162,
    "start_time": "2024-05-27T09:44:09.396Z"
   },
   {
    "duration": 0,
    "start_time": "2024-05-27T09:44:09.561Z"
   },
   {
    "duration": 5463,
    "start_time": "2024-05-27T09:44:14.504Z"
   },
   {
    "duration": 3127,
    "start_time": "2024-05-27T09:44:45.288Z"
   },
   {
    "duration": 39,
    "start_time": "2024-05-27T09:44:52.636Z"
   },
   {
    "duration": 33,
    "start_time": "2024-05-27T09:45:10.777Z"
   },
   {
    "duration": 38,
    "start_time": "2024-05-27T09:45:24.042Z"
   },
   {
    "duration": 34,
    "start_time": "2024-05-27T09:45:28.472Z"
   },
   {
    "duration": 38,
    "start_time": "2024-05-27T09:45:33.044Z"
   },
   {
    "duration": 38,
    "start_time": "2024-05-27T09:45:36.449Z"
   },
   {
    "duration": 39,
    "start_time": "2024-05-27T09:45:39.038Z"
   },
   {
    "duration": 5393,
    "start_time": "2024-05-27T09:49:47.723Z"
   },
   {
    "duration": 5684,
    "start_time": "2024-05-27T09:50:10.308Z"
   },
   {
    "duration": 5671,
    "start_time": "2024-05-27T09:51:38.848Z"
   },
   {
    "duration": 5865,
    "start_time": "2024-05-27T09:52:32.478Z"
   },
   {
    "duration": 38,
    "start_time": "2024-05-27T09:53:46.677Z"
   },
   {
    "duration": 54,
    "start_time": "2024-05-27T09:53:48.463Z"
   },
   {
    "duration": 38,
    "start_time": "2024-05-27T09:53:52.139Z"
   },
   {
    "duration": 5984,
    "start_time": "2024-05-27T09:54:33.508Z"
   },
   {
    "duration": 5454,
    "start_time": "2024-05-27T09:54:54.416Z"
   },
   {
    "duration": 5497,
    "start_time": "2024-05-27T09:55:36.383Z"
   },
   {
    "duration": 38,
    "start_time": "2024-05-27T09:57:34.180Z"
   },
   {
    "duration": 53,
    "start_time": "2024-05-27T10:00:01.047Z"
   },
   {
    "duration": 39,
    "start_time": "2024-05-27T10:00:04.958Z"
   },
   {
    "duration": 8,
    "start_time": "2024-05-27T10:00:08.549Z"
   },
   {
    "duration": 39,
    "start_time": "2024-05-27T10:00:15.293Z"
   },
   {
    "duration": 43,
    "start_time": "2024-05-27T10:01:39.352Z"
   },
   {
    "duration": 41,
    "start_time": "2024-05-27T10:02:26.885Z"
   },
   {
    "duration": 6249,
    "start_time": "2024-05-27T10:04:27.499Z"
   },
   {
    "duration": 35263,
    "start_time": "2024-05-27T10:04:33.752Z"
   },
   {
    "duration": 37,
    "start_time": "2024-05-27T10:05:26.929Z"
   },
   {
    "duration": 40,
    "start_time": "2024-05-27T10:06:32.349Z"
   },
   {
    "duration": 53,
    "start_time": "2024-05-27T10:07:58.592Z"
   },
   {
    "duration": 49,
    "start_time": "2024-05-27T10:08:12.086Z"
   },
   {
    "duration": 3143,
    "start_time": "2024-05-27T10:08:14.971Z"
   },
   {
    "duration": 40,
    "start_time": "2024-05-27T10:08:32.354Z"
   },
   {
    "duration": 5601,
    "start_time": "2024-05-27T10:08:34.277Z"
   },
   {
    "duration": 38,
    "start_time": "2024-05-27T10:09:02.379Z"
   },
   {
    "duration": 38,
    "start_time": "2024-05-27T10:09:04.421Z"
   },
   {
    "duration": 43,
    "start_time": "2024-05-27T10:09:07.578Z"
   },
   {
    "duration": 37,
    "start_time": "2024-05-27T10:09:11.342Z"
   },
   {
    "duration": 43,
    "start_time": "2024-05-27T10:09:21.345Z"
   },
   {
    "duration": 34,
    "start_time": "2024-05-27T10:09:25.523Z"
   },
   {
    "duration": 6159,
    "start_time": "2024-05-27T10:09:53.606Z"
   },
   {
    "duration": 5863,
    "start_time": "2024-05-27T10:10:26.419Z"
   },
   {
    "duration": 5507,
    "start_time": "2024-05-27T10:10:44.920Z"
   },
   {
    "duration": 1599,
    "start_time": "2024-05-27T10:11:39.215Z"
   },
   {
    "duration": 25,
    "start_time": "2024-05-27T10:11:40.817Z"
   },
   {
    "duration": 71,
    "start_time": "2024-05-27T10:11:40.845Z"
   },
   {
    "duration": 19,
    "start_time": "2024-05-27T10:11:40.920Z"
   },
   {
    "duration": 20,
    "start_time": "2024-05-27T10:11:40.943Z"
   },
   {
    "duration": 13,
    "start_time": "2024-05-27T10:11:40.968Z"
   },
   {
    "duration": 5,
    "start_time": "2024-05-27T10:11:41.013Z"
   },
   {
    "duration": 7,
    "start_time": "2024-05-27T10:11:41.021Z"
   },
   {
    "duration": 8,
    "start_time": "2024-05-27T10:11:41.032Z"
   },
   {
    "duration": 16,
    "start_time": "2024-05-27T10:11:41.046Z"
   },
   {
    "duration": 54,
    "start_time": "2024-05-27T10:11:41.065Z"
   },
   {
    "duration": 15,
    "start_time": "2024-05-27T10:11:41.122Z"
   },
   {
    "duration": 12,
    "start_time": "2024-05-27T10:11:41.141Z"
   },
   {
    "duration": 8,
    "start_time": "2024-05-27T10:11:41.156Z"
   },
   {
    "duration": 47,
    "start_time": "2024-05-27T10:11:41.167Z"
   },
   {
    "duration": 6,
    "start_time": "2024-05-27T10:11:41.218Z"
   },
   {
    "duration": 4,
    "start_time": "2024-05-27T10:11:41.227Z"
   },
   {
    "duration": 7,
    "start_time": "2024-05-27T10:11:41.235Z"
   },
   {
    "duration": 81,
    "start_time": "2024-05-27T10:11:41.245Z"
   },
   {
    "duration": 284,
    "start_time": "2024-05-27T10:11:41.329Z"
   },
   {
    "duration": 12,
    "start_time": "2024-05-27T10:11:41.616Z"
   },
   {
    "duration": 1304,
    "start_time": "2024-05-27T10:11:41.631Z"
   },
   {
    "duration": 5,
    "start_time": "2024-05-27T10:11:42.938Z"
   },
   {
    "duration": 316,
    "start_time": "2024-05-27T10:11:42.946Z"
   },
   {
    "duration": 148,
    "start_time": "2024-05-27T10:11:43.265Z"
   },
   {
    "duration": 206,
    "start_time": "2024-05-27T10:11:43.417Z"
   },
   {
    "duration": 81,
    "start_time": "2024-05-27T10:11:43.634Z"
   },
   {
    "duration": 51,
    "start_time": "2024-05-27T10:11:43.723Z"
   },
   {
    "duration": 13,
    "start_time": "2024-05-27T10:11:43.820Z"
   },
   {
    "duration": 18,
    "start_time": "2024-05-27T10:11:43.911Z"
   },
   {
    "duration": 23,
    "start_time": "2024-05-27T10:11:43.933Z"
   },
   {
    "duration": 35791,
    "start_time": "2024-05-27T10:11:43.959Z"
   },
   {
    "duration": 5787,
    "start_time": "2024-05-27T10:12:19.755Z"
   },
   {
    "duration": 3271,
    "start_time": "2024-05-27T10:12:25.547Z"
   },
   {
    "duration": 114,
    "start_time": "2024-05-27T10:12:28.822Z"
   },
   {
    "duration": 3,
    "start_time": "2024-05-27T10:12:29.016Z"
   },
   {
    "duration": 45,
    "start_time": "2024-05-27T10:12:29.022Z"
   },
   {
    "duration": 107,
    "start_time": "2024-05-27T10:12:29.112Z"
   },
   {
    "duration": 2031,
    "start_time": "2024-05-27T10:12:29.227Z"
   },
   {
    "duration": 562,
    "start_time": "2024-05-27T10:12:31.264Z"
   },
   {
    "duration": 0,
    "start_time": "2024-05-27T10:12:31.828Z"
   },
   {
    "duration": 43,
    "start_time": "2024-05-27T10:16:55.513Z"
   },
   {
    "duration": 39,
    "start_time": "2024-05-27T10:17:18.221Z"
   },
   {
    "duration": 42,
    "start_time": "2024-05-27T10:17:25.108Z"
   },
   {
    "duration": 65,
    "start_time": "2024-05-27T10:19:33.606Z"
   },
   {
    "duration": 43,
    "start_time": "2024-05-27T10:19:36.283Z"
   },
   {
    "duration": 32,
    "start_time": "2024-05-27T10:19:56.914Z"
   },
   {
    "duration": 34,
    "start_time": "2024-05-27T10:20:04.551Z"
   },
   {
    "duration": 40,
    "start_time": "2024-05-27T10:21:45.380Z"
   },
   {
    "duration": 34,
    "start_time": "2024-05-27T10:21:49.248Z"
   },
   {
    "duration": 38,
    "start_time": "2024-05-27T10:21:51.406Z"
   },
   {
    "duration": 39,
    "start_time": "2024-05-27T10:21:57.224Z"
   },
   {
    "duration": 38,
    "start_time": "2024-05-27T10:21:59.082Z"
   },
   {
    "duration": 59,
    "start_time": "2024-05-27T10:22:07.537Z"
   },
   {
    "duration": 59,
    "start_time": "2024-05-27T10:22:09.479Z"
   },
   {
    "duration": 40,
    "start_time": "2024-05-27T10:22:12.425Z"
   },
   {
    "duration": 58,
    "start_time": "2024-05-27T10:22:16.858Z"
   },
   {
    "duration": 36,
    "start_time": "2024-05-27T10:22:24.394Z"
   },
   {
    "duration": 28,
    "start_time": "2024-05-27T10:22:35.765Z"
   },
   {
    "duration": 37,
    "start_time": "2024-05-27T10:22:41.561Z"
   },
   {
    "duration": 42,
    "start_time": "2024-05-27T10:22:44.602Z"
   },
   {
    "duration": 33,
    "start_time": "2024-05-27T10:22:46.922Z"
   },
   {
    "duration": 61,
    "start_time": "2024-05-27T10:22:50.114Z"
   },
   {
    "duration": 28,
    "start_time": "2024-05-27T10:22:52.773Z"
   },
   {
    "duration": 61,
    "start_time": "2024-05-27T10:23:02.340Z"
   },
   {
    "duration": 1614,
    "start_time": "2024-05-27T10:23:20.798Z"
   },
   {
    "duration": 25,
    "start_time": "2024-05-27T10:23:22.415Z"
   },
   {
    "duration": 71,
    "start_time": "2024-05-27T10:23:22.443Z"
   },
   {
    "duration": 20,
    "start_time": "2024-05-27T10:23:22.518Z"
   },
   {
    "duration": 18,
    "start_time": "2024-05-27T10:23:22.540Z"
   },
   {
    "duration": 6,
    "start_time": "2024-05-27T10:23:22.561Z"
   },
   {
    "duration": 45,
    "start_time": "2024-05-27T10:23:22.570Z"
   },
   {
    "duration": 5,
    "start_time": "2024-05-27T10:23:22.618Z"
   },
   {
    "duration": 6,
    "start_time": "2024-05-27T10:23:22.626Z"
   },
   {
    "duration": 22,
    "start_time": "2024-05-27T10:23:22.639Z"
   },
   {
    "duration": 51,
    "start_time": "2024-05-27T10:23:22.664Z"
   },
   {
    "duration": 15,
    "start_time": "2024-05-27T10:23:22.718Z"
   },
   {
    "duration": 12,
    "start_time": "2024-05-27T10:23:22.737Z"
   },
   {
    "duration": 9,
    "start_time": "2024-05-27T10:23:22.752Z"
   },
   {
    "duration": 5,
    "start_time": "2024-05-27T10:23:22.765Z"
   },
   {
    "duration": 6,
    "start_time": "2024-05-27T10:23:22.813Z"
   },
   {
    "duration": 4,
    "start_time": "2024-05-27T10:23:22.822Z"
   },
   {
    "duration": 8,
    "start_time": "2024-05-27T10:23:22.830Z"
   },
   {
    "duration": 73,
    "start_time": "2024-05-27T10:23:22.840Z"
   },
   {
    "duration": 213,
    "start_time": "2024-05-27T10:23:22.915Z"
   },
   {
    "duration": 87,
    "start_time": "2024-05-27T10:23:23.133Z"
   },
   {
    "duration": 1300,
    "start_time": "2024-05-27T10:23:23.223Z"
   },
   {
    "duration": 5,
    "start_time": "2024-05-27T10:23:24.526Z"
   },
   {
    "duration": 283,
    "start_time": "2024-05-27T10:23:24.535Z"
   },
   {
    "duration": 102,
    "start_time": "2024-05-27T10:23:24.820Z"
   },
   {
    "duration": 208,
    "start_time": "2024-05-27T10:23:24.925Z"
   },
   {
    "duration": 81,
    "start_time": "2024-05-27T10:23:25.136Z"
   },
   {
    "duration": 120,
    "start_time": "2024-05-27T10:23:25.226Z"
   },
   {
    "duration": 67,
    "start_time": "2024-05-27T10:23:25.349Z"
   },
   {
    "duration": 95,
    "start_time": "2024-05-27T10:23:25.418Z"
   },
   {
    "duration": 22,
    "start_time": "2024-05-27T10:23:25.516Z"
   },
   {
    "duration": 36308,
    "start_time": "2024-05-27T10:23:25.542Z"
   },
   {
    "duration": 5486,
    "start_time": "2024-05-27T10:24:01.853Z"
   },
   {
    "duration": 5,
    "start_time": "2024-05-27T10:24:07.343Z"
   },
   {
    "duration": 193,
    "start_time": "2024-05-27T10:24:07.350Z"
   },
   {
    "duration": 7,
    "start_time": "2024-05-27T10:24:07.548Z"
   },
   {
    "duration": 1,
    "start_time": "2024-05-27T10:24:07.557Z"
   },
   {
    "duration": 0,
    "start_time": "2024-05-27T10:24:07.613Z"
   },
   {
    "duration": 0,
    "start_time": "2024-05-27T10:24:07.617Z"
   },
   {
    "duration": 0,
    "start_time": "2024-05-27T10:24:07.618Z"
   },
   {
    "duration": 37,
    "start_time": "2024-05-27T10:30:51.664Z"
   },
   {
    "duration": 31,
    "start_time": "2024-05-27T10:30:58.965Z"
   },
   {
    "duration": 37,
    "start_time": "2024-05-27T10:31:01.299Z"
   },
   {
    "duration": 32,
    "start_time": "2024-05-27T10:31:07.032Z"
   },
   {
    "duration": 37,
    "start_time": "2024-05-27T10:31:56.956Z"
   },
   {
    "duration": 35,
    "start_time": "2024-05-27T10:32:01.251Z"
   },
   {
    "duration": 44,
    "start_time": "2024-05-27T10:32:04.684Z"
   },
   {
    "duration": 36,
    "start_time": "2024-05-27T10:32:11.613Z"
   },
   {
    "duration": 40,
    "start_time": "2024-05-27T10:32:14.956Z"
   },
   {
    "duration": 39,
    "start_time": "2024-05-27T10:32:17.624Z"
   },
   {
    "duration": 32,
    "start_time": "2024-05-27T10:32:34.588Z"
   },
   {
    "duration": 40,
    "start_time": "2024-05-27T10:33:05.785Z"
   },
   {
    "duration": 38,
    "start_time": "2024-05-27T10:33:07.845Z"
   },
   {
    "duration": 691,
    "start_time": "2024-05-27T10:33:17.179Z"
   },
   {
    "duration": 34,
    "start_time": "2024-05-27T10:33:31.136Z"
   },
   {
    "duration": 40,
    "start_time": "2024-05-27T10:34:06.025Z"
   },
   {
    "duration": 33,
    "start_time": "2024-05-27T10:34:11.158Z"
   },
   {
    "duration": 38,
    "start_time": "2024-05-27T10:34:14.206Z"
   },
   {
    "duration": 40,
    "start_time": "2024-05-27T10:34:23.480Z"
   },
   {
    "duration": 40,
    "start_time": "2024-05-27T10:34:32.389Z"
   },
   {
    "duration": 51,
    "start_time": "2024-05-27T10:34:36.257Z"
   },
   {
    "duration": 36,
    "start_time": "2024-05-27T10:34:39.114Z"
   },
   {
    "duration": 43,
    "start_time": "2024-05-27T10:34:42.248Z"
   },
   {
    "duration": 71,
    "start_time": "2024-05-27T10:34:52.358Z"
   },
   {
    "duration": 64,
    "start_time": "2024-05-27T10:34:59.511Z"
   },
   {
    "duration": 22,
    "start_time": "2024-05-27T10:35:19.874Z"
   },
   {
    "duration": 7,
    "start_time": "2024-05-27T10:35:31.715Z"
   },
   {
    "duration": 7,
    "start_time": "2024-05-27T10:35:34.662Z"
   },
   {
    "duration": 65,
    "start_time": "2024-05-27T10:35:50.098Z"
   },
   {
    "duration": 290,
    "start_time": "2024-05-27T10:35:52.283Z"
   },
   {
    "duration": 62,
    "start_time": "2024-05-27T10:35:54.389Z"
   },
   {
    "duration": 65,
    "start_time": "2024-05-27T10:36:39.163Z"
   },
   {
    "duration": 8,
    "start_time": "2024-05-27T10:36:54.591Z"
   },
   {
    "duration": 68,
    "start_time": "2024-05-27T10:37:03.882Z"
   },
   {
    "duration": 64,
    "start_time": "2024-05-27T10:37:11.923Z"
   },
   {
    "duration": 33,
    "start_time": "2024-05-27T10:37:19.864Z"
   },
   {
    "duration": 35,
    "start_time": "2024-05-27T10:37:25.764Z"
   },
   {
    "duration": 34,
    "start_time": "2024-05-27T10:38:57.816Z"
   },
   {
    "duration": 33,
    "start_time": "2024-05-27T10:39:20.779Z"
   },
   {
    "duration": 43,
    "start_time": "2024-05-27T10:41:12.122Z"
   },
   {
    "duration": 28,
    "start_time": "2024-05-27T10:41:57.952Z"
   },
   {
    "duration": 48,
    "start_time": "2024-05-27T10:42:02.996Z"
   },
   {
    "duration": 39,
    "start_time": "2024-05-27T10:42:13.941Z"
   },
   {
    "duration": 39,
    "start_time": "2024-05-27T10:42:18.359Z"
   },
   {
    "duration": 41,
    "start_time": "2024-05-27T10:42:26.308Z"
   },
   {
    "duration": 16354,
    "start_time": "2024-05-27T10:55:03.258Z"
   },
   {
    "duration": 35578,
    "start_time": "2024-05-27T10:55:22.645Z"
   },
   {
    "duration": 43,
    "start_time": "2024-05-27T10:56:16.944Z"
   },
   {
    "duration": 61,
    "start_time": "2024-05-27T10:56:32.531Z"
   },
   {
    "duration": 38,
    "start_time": "2024-05-27T10:56:39.683Z"
   },
   {
    "duration": 61,
    "start_time": "2024-05-27T10:56:59.420Z"
   },
   {
    "duration": 58,
    "start_time": "2024-05-27T10:57:01.299Z"
   },
   {
    "duration": 63,
    "start_time": "2024-05-27T10:57:06.238Z"
   },
   {
    "duration": 50,
    "start_time": "2024-05-27T10:57:09.488Z"
   },
   {
    "duration": 38,
    "start_time": "2024-05-27T10:57:16.189Z"
   },
   {
    "duration": 32,
    "start_time": "2024-05-27T10:57:37.688Z"
   },
   {
    "duration": 33,
    "start_time": "2024-05-27T10:58:02.736Z"
   },
   {
    "duration": 33,
    "start_time": "2024-05-27T10:58:14.007Z"
   },
   {
    "duration": 30,
    "start_time": "2024-05-27T10:58:24.302Z"
   },
   {
    "duration": 33,
    "start_time": "2024-05-27T11:02:03.844Z"
   },
   {
    "duration": 45,
    "start_time": "2024-05-27T11:02:49.101Z"
   },
   {
    "duration": 41,
    "start_time": "2024-05-27T11:02:56.173Z"
   },
   {
    "duration": 39,
    "start_time": "2024-05-27T11:03:59.379Z"
   },
   {
    "duration": 45,
    "start_time": "2024-05-27T11:04:09.295Z"
   },
   {
    "duration": 42,
    "start_time": "2024-05-27T11:04:14.695Z"
   },
   {
    "duration": 41,
    "start_time": "2024-05-27T11:05:14.780Z"
   },
   {
    "duration": 31,
    "start_time": "2024-05-27T11:05:31.548Z"
   },
   {
    "duration": 38,
    "start_time": "2024-05-27T11:05:39.080Z"
   },
   {
    "duration": 8,
    "start_time": "2024-05-27T11:05:51.970Z"
   },
   {
    "duration": 62,
    "start_time": "2024-05-27T11:05:56.285Z"
   },
   {
    "duration": 33,
    "start_time": "2024-05-27T11:05:58.906Z"
   },
   {
    "duration": 39,
    "start_time": "2024-05-27T11:06:26.683Z"
   },
   {
    "duration": 97,
    "start_time": "2024-05-27T11:06:50.815Z"
   },
   {
    "duration": 29,
    "start_time": "2024-05-27T11:06:52.655Z"
   },
   {
    "duration": 37,
    "start_time": "2024-05-27T11:07:04.968Z"
   },
   {
    "duration": 35,
    "start_time": "2024-05-27T11:07:19.939Z"
   },
   {
    "duration": 29,
    "start_time": "2024-05-27T11:07:26.077Z"
   },
   {
    "duration": 30,
    "start_time": "2024-05-27T11:07:27.734Z"
   },
   {
    "duration": 32,
    "start_time": "2024-05-27T11:07:28.561Z"
   },
   {
    "duration": 35,
    "start_time": "2024-05-27T11:07:31.887Z"
   },
   {
    "duration": 28,
    "start_time": "2024-05-27T11:08:06.574Z"
   },
   {
    "duration": 30,
    "start_time": "2024-05-27T11:08:27.912Z"
   },
   {
    "duration": 42,
    "start_time": "2024-05-27T11:10:45.435Z"
   },
   {
    "duration": 59,
    "start_time": "2024-05-27T11:12:30.228Z"
   },
   {
    "duration": 39,
    "start_time": "2024-05-27T11:13:16.658Z"
   },
   {
    "duration": 34,
    "start_time": "2024-05-27T11:13:18.391Z"
   },
   {
    "duration": 33,
    "start_time": "2024-05-27T11:13:44.525Z"
   },
   {
    "duration": 38,
    "start_time": "2024-05-27T11:14:10.059Z"
   },
   {
    "duration": 43,
    "start_time": "2024-05-27T11:14:45.079Z"
   },
   {
    "duration": 40,
    "start_time": "2024-05-27T11:16:10.461Z"
   },
   {
    "duration": 38,
    "start_time": "2024-05-27T11:16:51.089Z"
   },
   {
    "duration": 41,
    "start_time": "2024-05-27T11:17:30.883Z"
   },
   {
    "duration": 8,
    "start_time": "2024-05-27T11:26:19.937Z"
   },
   {
    "duration": 51,
    "start_time": "2024-05-27T11:26:42.935Z"
   },
   {
    "duration": 49,
    "start_time": "2024-05-27T11:26:58.775Z"
   },
   {
    "duration": 3,
    "start_time": "2024-05-27T11:28:53.682Z"
   },
   {
    "duration": 3,
    "start_time": "2024-05-27T11:28:54.563Z"
   },
   {
    "duration": 36201,
    "start_time": "2024-05-27T11:30:04.222Z"
   },
   {
    "duration": 35397,
    "start_time": "2024-05-27T11:34:45.324Z"
   },
   {
    "duration": 40,
    "start_time": "2024-05-27T11:37:01.995Z"
   },
   {
    "duration": 39,
    "start_time": "2024-05-27T11:37:14.280Z"
   },
   {
    "duration": 41,
    "start_time": "2024-05-27T11:37:18.039Z"
   },
   {
    "duration": 42,
    "start_time": "2024-05-27T11:37:33.777Z"
   },
   {
    "duration": 39,
    "start_time": "2024-05-27T11:37:35.851Z"
   },
   {
    "duration": 38,
    "start_time": "2024-05-27T11:37:54.783Z"
   },
   {
    "duration": 69,
    "start_time": "2024-05-27T11:38:12.964Z"
   },
   {
    "duration": 32,
    "start_time": "2024-05-27T11:38:19.697Z"
   },
   {
    "duration": 40,
    "start_time": "2024-05-27T11:38:38.975Z"
   },
   {
    "duration": 44,
    "start_time": "2024-05-27T11:38:42.090Z"
   },
   {
    "duration": 33,
    "start_time": "2024-05-27T11:38:46.534Z"
   },
   {
    "duration": 33,
    "start_time": "2024-05-27T11:39:01.851Z"
   },
   {
    "duration": 29,
    "start_time": "2024-05-27T11:39:06.873Z"
   },
   {
    "duration": 47,
    "start_time": "2024-05-27T11:39:08.716Z"
   },
   {
    "duration": 63,
    "start_time": "2024-05-27T11:39:20.435Z"
   },
   {
    "duration": 33,
    "start_time": "2024-05-27T11:39:22.092Z"
   },
   {
    "duration": 29,
    "start_time": "2024-05-27T11:39:28.768Z"
   },
   {
    "duration": 34,
    "start_time": "2024-05-27T11:49:59.509Z"
   },
   {
    "duration": 34,
    "start_time": "2024-05-27T11:50:04.803Z"
   },
   {
    "duration": 37,
    "start_time": "2024-05-27T11:50:09.187Z"
   },
   {
    "duration": 28,
    "start_time": "2024-05-27T11:53:33.077Z"
   },
   {
    "duration": 86,
    "start_time": "2024-05-27T11:53:45.046Z"
   },
   {
    "duration": 41,
    "start_time": "2024-05-27T11:53:50.248Z"
   },
   {
    "duration": 89,
    "start_time": "2024-05-27T11:54:01.666Z"
   },
   {
    "duration": 63,
    "start_time": "2024-05-27T11:54:12.239Z"
   },
   {
    "duration": 36,
    "start_time": "2024-05-27T11:54:18.243Z"
   },
   {
    "duration": 34,
    "start_time": "2024-05-27T11:54:24.417Z"
   },
   {
    "duration": 115,
    "start_time": "2024-05-27T11:57:56.997Z"
   },
   {
    "duration": 44,
    "start_time": "2024-05-27T12:02:07.491Z"
   },
   {
    "duration": 32,
    "start_time": "2024-05-27T12:03:55.193Z"
   },
   {
    "duration": 30,
    "start_time": "2024-05-27T12:04:04.290Z"
   },
   {
    "duration": 32,
    "start_time": "2024-05-27T12:04:13.564Z"
   },
   {
    "duration": 35,
    "start_time": "2024-05-27T12:04:21.576Z"
   },
   {
    "duration": 31,
    "start_time": "2024-05-27T12:04:52.521Z"
   },
   {
    "duration": 30,
    "start_time": "2024-05-27T12:05:30.105Z"
   },
   {
    "duration": 30,
    "start_time": "2024-05-27T12:05:48.086Z"
   },
   {
    "duration": 36,
    "start_time": "2024-05-27T12:06:20.322Z"
   },
   {
    "duration": 36,
    "start_time": "2024-05-27T12:06:27.202Z"
   },
   {
    "duration": 40,
    "start_time": "2024-05-27T12:06:45.530Z"
   },
   {
    "duration": 34,
    "start_time": "2024-05-27T12:06:49.498Z"
   },
   {
    "duration": 40,
    "start_time": "2024-05-27T12:15:20.876Z"
   },
   {
    "duration": 36,
    "start_time": "2024-05-27T12:15:23.891Z"
   },
   {
    "duration": 41,
    "start_time": "2024-05-27T12:15:30.411Z"
   },
   {
    "duration": 9,
    "start_time": "2024-05-27T12:15:35.878Z"
   },
   {
    "duration": 40,
    "start_time": "2024-05-27T12:15:40.234Z"
   },
   {
    "duration": 36,
    "start_time": "2024-05-27T12:15:45.353Z"
   },
   {
    "duration": 41,
    "start_time": "2024-05-27T12:15:47.482Z"
   },
   {
    "duration": 61,
    "start_time": "2024-05-27T12:15:55.839Z"
   },
   {
    "duration": 30,
    "start_time": "2024-05-27T12:15:58.513Z"
   },
   {
    "duration": 30,
    "start_time": "2024-05-27T12:16:35.215Z"
   },
   {
    "duration": 60,
    "start_time": "2024-05-27T12:16:45.461Z"
   },
   {
    "duration": 36,
    "start_time": "2024-05-27T12:16:47.640Z"
   },
   {
    "duration": 35,
    "start_time": "2024-05-27T12:16:58.567Z"
   }
  ],
  "kernelspec": {
   "display_name": "Python 3 (ipykernel)",
   "language": "python",
   "name": "python3"
  },
  "language_info": {
   "codemirror_mode": {
    "name": "ipython",
    "version": 3
   },
   "file_extension": ".py",
   "mimetype": "text/x-python",
   "name": "python",
   "nbconvert_exporter": "python",
   "pygments_lexer": "ipython3",
   "version": "3.9.19"
  },
  "toc": {
   "base_numbering": 1,
   "nav_menu": {},
   "number_sections": true,
   "sideBar": true,
   "skip_h1_title": true,
   "title_cell": "Table of Contents",
   "title_sidebar": "Contents",
   "toc_cell": false,
   "toc_position": {},
   "toc_section_display": true,
   "toc_window_display": false
  }
 },
 "nbformat": 4,
 "nbformat_minor": 2
}
