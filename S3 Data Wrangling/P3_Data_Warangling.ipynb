{
 "cells": [
  {
   "cell_type": "markdown",
   "id": "3Xg_RQfnafXz",
   "metadata": {
    "id": "3Xg_RQfnafXz"
   },
   "source": [
    "# ¡Llena ese carrito!"
   ]
  },
  {
   "cell_type": "markdown",
   "id": "mhIvmmkW414q",
   "metadata": {
    "id": "mhIvmmkW414q"
   },
   "source": [
    "# Introducción\n",
    "\n",
    "Instacart es una plataforma de entregas de comestibles donde la clientela puede registrar un pedido y hacer que se lo entreguen, similar a Uber Eats y Door Dash.\n",
    "El conjunto de datos que te hemos proporcionado tiene modificaciones del original. Redujimos el tamaño del conjunto para que tus cálculos se hicieran más rápido e introdujimos valores ausentes y duplicados. Tuvimos cuidado de conservar las distribuciones de los datos originales cuando hicimos los cambios.\n",
    "\n",
    "Debes completar tres pasos. Para cada uno de ellos, escribe una breve introducción que refleje con claridad cómo pretendes resolver cada paso, y escribe párrafos explicatorios que justifiquen tus decisiones al tiempo que avanzas en tu solución.  También escribe una conclusión que resuma tus hallazgos y elecciones.\n"
   ]
  },
  {
   "cell_type": "markdown",
   "id": "3MbyzpOQZ5Or",
   "metadata": {
    "id": "3MbyzpOQZ5Or"
   },
   "source": [
    "## Diccionario de datos\n",
    "\n",
    "Hay cinco tablas en el conjunto de datos, y tendrás que usarlas todas para hacer el preprocesamiento de datos y el análisis exploratorio de datos. A continuación se muestra un diccionario de datos que enumera las columnas de cada tabla y describe los datos que contienen.\n",
    "\n",
    "- `instacart_orders.csv`: cada fila corresponde a un pedido en la aplicación Instacart.\n",
    "    - `'order_id'`: número de ID que identifica de manera única cada pedido.\n",
    "    - `'user_id'`: número de ID que identifica de manera única la cuenta de cada cliente.\n",
    "    - `'order_number'`: el número de veces que este cliente ha hecho un pedido.\n",
    "    - `'order_dow'`: día de la semana en que se hizo el pedido (0 si es domingo).\n",
    "    - `'order_hour_of_day'`: hora del día en que se hizo el pedido.\n",
    "    - `'days_since_prior_order'`: número de días transcurridos desde que este cliente hizo su pedido anterior.\n",
    "- `products.csv`: cada fila corresponde a un producto único que pueden comprar los clientes.\n",
    "    - `'product_id'`: número ID que identifica de manera única cada producto.\n",
    "    - `'product_name'`: nombre del producto.\n",
    "    - `'aisle_id'`: número ID que identifica de manera única cada categoría de pasillo de víveres.\n",
    "    - `'department_id'`: número ID que identifica de manera única cada departamento de víveres.\n",
    "- `order_products.csv`: cada fila corresponde a un artículo pedido en un pedido.\n",
    "    - `'order_id'`: número de ID que identifica de manera única cada pedido.\n",
    "    - `'product_id'`: número ID que identifica de manera única cada producto.\n",
    "    - `'add_to_cart_order'`: el orden secuencial en el que se añadió cada artículo en el carrito.\n",
    "    - `'reordered'`: 0 si el cliente nunca ha pedido este producto antes, 1 si lo ha pedido.\n",
    "- `aisles.csv`\n",
    "    - `'aisle_id'`: número ID que identifica de manera única cada categoría de pasillo de víveres.\n",
    "    - `'aisle'`: nombre del pasillo.\n",
    "- `departments.csv`\n",
    "    - `'department_id'`: número ID que identifica de manera única cada departamento de víveres.\n",
    "    - `'department'`: nombre del departamento."
   ]
  },
  {
   "cell_type": "markdown",
   "id": "n3Ha_cNSZ8lK",
   "metadata": {
    "id": "n3Ha_cNSZ8lK"
   },
   "source": [
    "# Paso 1. Descripción de los datos\n",
    "\n",
    "Lee los archivos de datos (`/datasets/instacart_orders.csv`, `/datasets/products.csv`, `/datasets/aisles.csv`, `/datasets/departments.csv` y `/datasets/order_products.csv`) con `pd.read_csv()` usando los parámetros adecuados para leer los datos correctamente. Verifica la información para cada DataFrame creado.\n"
   ]
  },
  {
   "cell_type": "markdown",
   "id": "OmlQPLlyaAfR",
   "metadata": {
    "id": "OmlQPLlyaAfR"
   },
   "source": [
    "## Plan de solución\n",
    "\n",
    "Escribe aquí tu plan de solución para el Paso 1. Descripción de los datos.\n",
    "\n",
    "**importaré las librerías, posterior a ello voy a imprimir el head de cada uno de los dataframes para verificar en que formato vienen y si es necesario añadir un separador diferente al predeterminado**"
   ]
  },
  {
   "cell_type": "code",
   "execution_count": 1,
   "id": "fbf1adab",
   "metadata": {
    "id": "fbf1adab"
   },
   "outputs": [],
   "source": [
    "# importar librerías\n",
    "import pandas as pd\n",
    "import matplotlib.pyplot as plt"
   ]
  },
  {
   "cell_type": "code",
   "execution_count": 2,
   "id": "ad36396d",
   "metadata": {
    "id": "ad36396d"
   },
   "outputs": [],
   "source": [
    "# leer conjuntos de datos en los DataFrames\n",
    "orders=pd.read_csv('/datasets/instacart_orders.csv',sep=';')\n",
    "products=pd.read_csv('/datasets/products.csv',sep=';')\n",
    "aisles=pd.read_csv('/datasets/aisles.csv',sep=';')\n",
    "departments=pd.read_csv('/datasets/departments.csv',sep=';')\n",
    "order_products=pd.read_csv('/datasets/order_products.csv',sep=';')\n"
   ]
  },
  {
   "cell_type": "code",
   "execution_count": 3,
   "id": "ad6a1efa",
   "metadata": {
    "id": "ad6a1efa"
   },
   "outputs": [
    {
     "name": "stdout",
     "output_type": "stream",
     "text": [
      "<class 'pandas.core.frame.DataFrame'>\n",
      "RangeIndex: 478967 entries, 0 to 478966\n",
      "Data columns (total 6 columns):\n",
      " #   Column                  Non-Null Count   Dtype  \n",
      "---  ------                  --------------   -----  \n",
      " 0   order_id                478967 non-null  int64  \n",
      " 1   user_id                 478967 non-null  int64  \n",
      " 2   order_number            478967 non-null  int64  \n",
      " 3   order_dow               478967 non-null  int64  \n",
      " 4   order_hour_of_day       478967 non-null  int64  \n",
      " 5   days_since_prior_order  450148 non-null  float64\n",
      "dtypes: float64(1), int64(5)\n",
      "memory usage: 21.9 MB\n"
     ]
    }
   ],
   "source": [
    "# mostrar información del DataFrame\n",
    "#print(orders.head(5))\n",
    "orders.info()"
   ]
  },
  {
   "cell_type": "code",
   "execution_count": 4,
   "id": "5130e05e",
   "metadata": {
    "id": "5130e05e"
   },
   "outputs": [
    {
     "name": "stdout",
     "output_type": "stream",
     "text": [
      "<class 'pandas.core.frame.DataFrame'>\n",
      "RangeIndex: 49694 entries, 0 to 49693\n",
      "Data columns (total 4 columns):\n",
      " #   Column         Non-Null Count  Dtype \n",
      "---  ------         --------------  ----- \n",
      " 0   product_id     49694 non-null  int64 \n",
      " 1   product_name   48436 non-null  object\n",
      " 2   aisle_id       49694 non-null  int64 \n",
      " 3   department_id  49694 non-null  int64 \n",
      "dtypes: int64(3), object(1)\n",
      "memory usage: 1.5+ MB\n"
     ]
    }
   ],
   "source": [
    "# mostrar información del DataFrame\n",
    "#print(products.head(5))\n",
    "products.info()"
   ]
  },
  {
   "cell_type": "code",
   "execution_count": 5,
   "id": "d8370c05",
   "metadata": {
    "id": "d8370c05"
   },
   "outputs": [
    {
     "name": "stdout",
     "output_type": "stream",
     "text": [
      "<class 'pandas.core.frame.DataFrame'>\n",
      "RangeIndex: 134 entries, 0 to 133\n",
      "Data columns (total 2 columns):\n",
      " #   Column    Non-Null Count  Dtype \n",
      "---  ------    --------------  ----- \n",
      " 0   aisle_id  134 non-null    int64 \n",
      " 1   aisle     134 non-null    object\n",
      "dtypes: int64(1), object(1)\n",
      "memory usage: 2.2+ KB\n"
     ]
    }
   ],
   "source": [
    "# mostrar información del DataFrame\n",
    "#print(aisles.head(5))\n",
    "aisles.info()\n"
   ]
  },
  {
   "cell_type": "code",
   "execution_count": 6,
   "id": "59e2090f",
   "metadata": {
    "id": "59e2090f"
   },
   "outputs": [
    {
     "name": "stdout",
     "output_type": "stream",
     "text": [
      "<class 'pandas.core.frame.DataFrame'>\n",
      "RangeIndex: 21 entries, 0 to 20\n",
      "Data columns (total 2 columns):\n",
      " #   Column         Non-Null Count  Dtype \n",
      "---  ------         --------------  ----- \n",
      " 0   department_id  21 non-null     int64 \n",
      " 1   department     21 non-null     object\n",
      "dtypes: int64(1), object(1)\n",
      "memory usage: 464.0+ bytes\n"
     ]
    }
   ],
   "source": [
    "# mostrar información del DataFrame\n",
    "#print(departments.head(5))\n",
    "departments.info()\n"
   ]
  },
  {
   "cell_type": "code",
   "execution_count": 7,
   "id": "6fc81694",
   "metadata": {
    "id": "6fc81694"
   },
   "outputs": [
    {
     "name": "stdout",
     "output_type": "stream",
     "text": [
      "<class 'pandas.core.frame.DataFrame'>\n",
      "RangeIndex: 4545007 entries, 0 to 4545006\n",
      "Data columns (total 4 columns):\n",
      " #   Column             Non-Null Count    Dtype  \n",
      "---  ------             --------------    -----  \n",
      " 0   order_id           4545007 non-null  int64  \n",
      " 1   product_id         4545007 non-null  int64  \n",
      " 2   add_to_cart_order  4544171 non-null  float64\n",
      " 3   reordered          4545007 non-null  int64  \n",
      "dtypes: float64(1), int64(3)\n",
      "memory usage: 138.7 MB\n"
     ]
    }
   ],
   "source": [
    "# mostrar información del DataFrame\n",
    "#print(order_products.head(5))\n",
    "order_products.info(show_counts=True)"
   ]
  },
  {
   "cell_type": "markdown",
   "id": "42b1a418",
   "metadata": {},
   "source": [
    "###  ***Añadido por el estudiante ***\n",
    "**Proceso para investigar el motivo por el cual los  dataframe order_products tiene datos nulos en la columna: 'add_to_cart_order' y el dataframe products tiene datos nulos en la columna: product_name**\n"
   ]
  },
  {
   "cell_type": "markdown",
   "id": "3ef61362",
   "metadata": {},
   "source": [
    "**Comenzamos proceso para dataframe add_to_cart_order**"
   ]
  },
  {
   "cell_type": "code",
   "execution_count": 8,
   "id": "7110756b",
   "metadata": {
    "scrolled": true
   },
   "outputs": [
    {
     "name": "stdout",
     "output_type": "stream",
     "text": [
      "       order_id  product_id  add_to_cart_order  reordered\n",
      "737     2449164        5068                NaN          0\n",
      "9926    1968313       43867                NaN          0\n",
      "14394   2926893       11688                NaN          0\n"
     ]
    }
   ],
   "source": [
    "#Busco un ejemplo de valor NaN en la columna 'add_to_cart_order' mediante los métodos isna().any(axis=1)\n",
    "print(order_products[order_products.isna().any(axis=1)].head(3))"
   ]
  },
  {
   "cell_type": "code",
   "execution_count": 9,
   "id": "d5ca7539",
   "metadata": {
    "scrolled": true
   },
   "outputs": [
    {
     "name": "stdout",
     "output_type": "stream",
     "text": [
      "         order_id  product_id  add_to_cart_order  reordered\n",
      "925415    2449164        5212                1.0          1\n",
      "3040088   2449164       24852                2.0          1\n",
      "1866557   2449164       20995                3.0          1\n",
      "3278416   2449164       29487                4.0          1\n",
      "3761978   2449164       45066                5.0          1\n",
      "...           ...         ...                ...        ...\n",
      "2887452   2449164       46969                NaN          1\n",
      "3373025   2449164       49323                NaN          0\n",
      "3799063   2449164       31562                NaN          0\n",
      "4407623   2449164        4920                NaN          1\n",
      "4423417   2449164       35912                NaN          0\n",
      "\n",
      "[76 rows x 4 columns]\n"
     ]
    }
   ],
   "source": [
    "#Exploramos el pedido 2449164 para ver su tamaño y sus valores NaN\n",
    "print(order_products[order_products['order_id']==2449164].sort_values(by='add_to_cart_order'))"
   ]
  },
  {
   "cell_type": "code",
   "execution_count": 10,
   "id": "f7e7f624",
   "metadata": {},
   "outputs": [
    {
     "name": "stdout",
     "output_type": "stream",
     "text": [
      "         order_id  product_id  add_to_cart_order  reordered\n",
      "925415    2449164        5212                1.0          1\n",
      "3040088   2449164       24852                2.0          1\n",
      "1866557   2449164       20995                3.0          1\n",
      "3278416   2449164       29487                4.0          1\n",
      "3761978   2449164       45066                5.0          1\n",
      "...           ...         ...                ...        ...\n",
      "2369520   2449164        2450               63.0          0\n",
      "508706    2449164       22935               64.0          0\n",
      "737       2449164        5068                NaN          0\n",
      "128360    2449164       14386                NaN          0\n",
      "193859    2449164        8518                NaN          0\n",
      "\n",
      "[67 rows x 4 columns]\n"
     ]
    }
   ],
   "source": [
    "#  exploramos el mismo pedido anterior e imprimimos los primeros 67 registros \n",
    "#  aquí nos percatamos que a partir del artículo número 64, \n",
    "#  el df no contabiliza más artículos en la columna 'ad_to_cart_order'\n",
    "print(order_products[order_products['order_id']==2449164].sort_values(by='add_to_cart_order').head(67))"
   ]
  },
  {
   "cell_type": "code",
   "execution_count": 11,
   "id": "f74e607d",
   "metadata": {
    "scrolled": false
   },
   "outputs": [
    {
     "name": "stdout",
     "output_type": "stream",
     "text": [
      "         order_id  product_id  add_to_cart_order  reordered\n",
      "1824996    404157       34270                1.0          1\n",
      "116288     404157       28420                2.0          1\n",
      "2423339    404157        5785                3.0          1\n",
      "164204     404157       14233                4.0          1\n",
      "3722054    404157       23044                5.0          1\n",
      "...           ...         ...                ...        ...\n",
      "2762984    404157       33953               62.0          1\n",
      "2114464    404157       33143               63.0          1\n",
      "3241962    404157       27336               64.0          1\n",
      "281168     404157       40146                NaN          0\n",
      "641294     404157       17803                NaN          0\n",
      "\n",
      "[66 rows x 4 columns]\n"
     ]
    }
   ],
   "source": [
    "#Exploramos la misma hipótesis para order_id distintas y coincide el comportamiento\n",
    "\n",
    "#print(order_products[order_products['order_id']==1968313].sort_values(by='add_to_cart_order').head(66))\n",
    "#print(order_products[order_products['order_id']==2926893].sort_values(by='add_to_cart_order').head(66))\n",
    "print(order_products[order_products['order_id']==404157].sort_values(by='add_to_cart_order').head(66))"
   ]
  },
  {
   "cell_type": "markdown",
   "id": "fbdac72b",
   "metadata": {},
   "source": [
    "**terminamos proceso para dataframe add_to_cart_products**"
   ]
  },
  {
   "cell_type": "markdown",
   "id": "245a6153",
   "metadata": {},
   "source": [
    "**Comenzamos proceso para dataframe products**"
   ]
  },
  {
   "cell_type": "code",
   "execution_count": 12,
   "id": "389290b8",
   "metadata": {},
   "outputs": [
    {
     "name": "stdout",
     "output_type": "stream",
     "text": [
      "       product_id product_name  aisle_id  department_id\n",
      "49405       49406          NaN       100             21\n",
      "49422       49423          NaN       100             21\n",
      "49481       49482          NaN       100             21\n",
      "49483       49484          NaN       100             21\n",
      "49545       49546          NaN       100             21\n",
      "49552       49553          NaN       100             21\n",
      "49574       49575          NaN       100             21\n",
      "49640       49641          NaN       100             21\n",
      "49663       49664          NaN       100             21\n",
      "49668       49669          NaN       100             21\n",
      "\n",
      "    aisle_id    aisle\n",
      "99       100  missing\n",
      "\n",
      "    department_id department\n",
      "20             21    missing\n"
     ]
    }
   ],
   "source": [
    "\n",
    "# Verificando que particularidades tienen los productos sin nombre mediante la exploración del df\n",
    "#en su head y en su tail\n",
    "\n",
    "#print(products[products.isna().any(axis=1)].head(60))\n",
    "#print(products[products.isna().any(axis=1)].tail(60))\n",
    "\n",
    "print(products[products.isna().any(axis=1)].tail(10))\n",
    "\n",
    "##NOTA##\n",
    "#Explorando el dataframe desde su head y su tail, observamos que los productos que no cuentan\n",
    "# con nombre, parecen pertenecer todos al 'aisle_id'=100 y al 'department_id'=21\n",
    "\n",
    "print()\n",
    "#exploramos que se tiene en el aisle_id = 100 y observamos valor \"missing\"\n",
    "print(aisles[aisles['aisle_id']==100])\n",
    "print()\n",
    "#exploramos que se tiene en el department_id = 21 y observamos valor \"missing\"\n",
    "print(departments[departments['department_id']==21])"
   ]
  },
  {
   "cell_type": "markdown",
   "id": "5ed303cf",
   "metadata": {},
   "source": [
    "**terminamos proceso para dataframe products**"
   ]
  },
  {
   "cell_type": "markdown",
   "id": "63346754",
   "metadata": {},
   "source": [
    "### Conclusión de la exploración de valores NaN en los dataframes\n",
    "**Para el dataframe products:**\n",
    "* Explorando el dataframe desde su head y su tail, observamos que los productos que no cuentan con nombre, parecen pertenecer todos al 'aisle_id'=100 y al 'department_id'=21\n",
    "* procedemos a explorar los dataframes aisles y departments en sus id 100 y 21 y observamos que cuentan con el valor:'missing' por lo que podemos concluir que ya no existen o fueron dados de baja\n",
    "\n",
    "**Para el dataframe order_products:**\n",
    "\n",
    "* Nos percatamos que los pedidos que contienen más de 64 artículos, no se contabiliza el orden de los artículos nuevos añadidos a partir del número 64, se realizan pruebas con diferentes pedidos y en todos coincide el comportamiento"
   ]
  },
  {
   "cell_type": "markdown",
   "id": "t75BD19oaR5f",
   "metadata": {
    "id": "t75BD19oaR5f"
   },
   "source": [
    "## Conclusiones\n",
    "\n",
    "Escribe aquí tus conclusiones intermedias sobre el Paso 1. Descripción de los datos.\n",
    "\n",
    "Desarrollando conclusiones por dataframe:\n",
    "\n",
    "**orders:**\n",
    "* El df cuenta con 478967 datos no nulos\n",
    "* el dataframe **cuenta con datos** nulos en la columna: days_since_prior_order y su tipo de dato es Float (podría ser convertido a int) debido a que los días para este tipo de análisis deberían ser días enteros y no flotantes\n",
    "    * Los datos nulos presentes es posible que existan debido a que haya productos que nunca hayan sido ordenados previamente y en ese campo se tenga un NaN\n",
    "* el resto de los tipos de datos se observa ok y sin datos nulos\n",
    "\n",
    "**products:**\n",
    "* El df cuena con 49694 datos no nulos\n",
    "* La columna 'product_name' **cuenta con datos nulos**\n",
    "    * Tal como desarrollé previamente, el motivo de los datos nulos es porque pertenecen a un al pasillo 100 y departamento 21 , estos pasillo y departamento fueron desaparecidos o dados de baja\n",
    "* Los tipos de datos del resto de las columnas parecen adecuados para el análisis\n",
    "\n",
    "**aisles:**\n",
    "* el df cuenta con 134 datos no nulos\n",
    "* los tipos de datos parecen adecuados para el análisis\n",
    "\n",
    "**departments:**\n",
    "* el df cuenta con 21 datos no nulos\n",
    "* los tipos de datos parecen adecuados para el análisis\n",
    "\n",
    "**order_products:**\n",
    "* el df cuenta con 4545007 datos no nulos\n",
    "* la columna add_to_cart_order **cuenta con datos nulos**\n",
    "    * tal como desarrollé previamente, los datos nulos en esta columna se deben a que la fuente de datos no contabiliza artículos en pedidos mayores a 64 artículos, los restantes se etiquetan como NaN en la columna 'add_to_cart_order'"
   ]
  },
  {
   "cell_type": "markdown",
   "id": "8RJHqxVmaVsF",
   "metadata": {
    "id": "8RJHqxVmaVsF"
   },
   "source": [
    "# Paso 2. Preprocesamiento de los datos\n",
    "\n",
    "Preprocesa los datos de la siguiente manera:\n",
    "\n",
    "- Verifica y corrige los tipos de datos (por ejemplo, asegúrate de que las columnas de ID sean números enteros).\n",
    "- Identifica y completa los valores ausentes.\n",
    "- Identifica y elimina los valores duplicados.\n",
    "\n",
    "Asegúrate de explicar qué tipos de valores ausentes y duplicados encontraste, cómo los completaste o eliminaste y por qué usaste esos métodos. ¿Por qué crees que estos valores ausentes y duplicados pueden haber estado presentes en el conjunto de datos?"
   ]
  },
  {
   "cell_type": "markdown",
   "id": "p6poABZQaZYb",
   "metadata": {
    "id": "p6poABZQaZYb"
   },
   "source": [
    "## Plan de solución\n",
    "\n",
    "Escribe aquí tu plan para el Paso 2. Preprocesamiento de los datos.\n",
    "\n",
    "* los tipos de datos fueron previamente verificados, procederé a realizar un cambio de tipos de datos mediante astype() o to_numeric() dependiendo cual sea el método conveniente\n",
    "\n",
    "* Los valores ausentes fueron identificados, serán completados conforme sea conveniente, por ejemplo podría proponer:\n",
    "    * para los datos de productos sin nombre ('product_name') en el dataframe 'products'  sean rellenados con el valor ='Non-existent'.\n",
    "    * para los datos uasentes de 'add_to_cart_order' del dataframe 'order_products' , propondría llenarlos con un número fijo para que puedan ser identificados y no estorben al análisis"
   ]
  },
  {
   "cell_type": "markdown",
   "id": "07357848-dc64-4156-9cc3-01ff4365226d",
   "metadata": {
    "id": "07357848-dc64-4156-9cc3-01ff4365226d"
   },
   "source": [
    "## Encuentra y elimina los valores duplicados (y describe cómo tomaste tus decisiones)."
   ]
  },
  {
   "cell_type": "markdown",
   "id": "f179f0a9",
   "metadata": {
    "id": "f179f0a9"
   },
   "source": [
    "### `orders` data frame"
   ]
  },
  {
   "cell_type": "code",
   "execution_count": 13,
   "id": "b99297a5-405a-463d-8535-9adc3da4ad74",
   "metadata": {
    "id": "b99297a5-405a-463d-8535-9adc3da4ad74",
    "scrolled": false
   },
   "outputs": [
    {
     "name": "stdout",
     "output_type": "stream",
     "text": [
      "        order_id  user_id  order_number  order_dow  order_hour_of_day  \\\n",
      "145574    794638    50898            24          3                  2   \n",
      "223105   2160484   107525            16          3                  2   \n",
      "230807   1918001   188546            14          3                  2   \n",
      "266232   1782114   106752             1          3                  2   \n",
      "273805   1112182   202304            84          3                  2   \n",
      "284038   2845099    31189            11          3                  2   \n",
      "311713   1021560    53767             3          3                  2   \n",
      "321100    408114    68324             4          3                  2   \n",
      "323900   1919531   191501            32          3                  2   \n",
      "345917   2232988    82565             1          3                  2   \n",
      "371905    391768    57671            19          3                  2   \n",
      "394347    467134    63189            21          3                  2   \n",
      "411408   1286742   183220            48          3                  2   \n",
      "415163   2282673    86751            49          3                  2   \n",
      "441599   2125197    14050            48          3                  2   \n",
      "\n",
      "        days_since_prior_order  \n",
      "145574                     2.0  \n",
      "223105                    30.0  \n",
      "230807                    16.0  \n",
      "266232                     NaN  \n",
      "273805                     6.0  \n",
      "284038                     7.0  \n",
      "311713                     9.0  \n",
      "321100                    18.0  \n",
      "323900                     7.0  \n",
      "345917                     NaN  \n",
      "371905                    10.0  \n",
      "394347                     2.0  \n",
      "411408                     4.0  \n",
      "415163                     2.0  \n",
      "441599                     3.0  \n"
     ]
    }
   ],
   "source": [
    "# Revisa si hay pedidos duplicados\n",
    "print(orders[orders.duplicated(subset='order_id')])\n",
    "\n",
    "\n"
   ]
  },
  {
   "cell_type": "markdown",
   "id": "PEkwUX_gvt5A",
   "metadata": {
    "id": "PEkwUX_gvt5A"
   },
   "source": [
    "¿Tienes líneas duplicadas? Si sí, ¿qué tienen en común?\n",
    "\n",
    "**Todos los pedidos duplicadas fueron realizados el día miércoles a las 2am**"
   ]
  },
  {
   "cell_type": "code",
   "execution_count": 14,
   "id": "0d44de5d",
   "metadata": {
    "id": "0d44de5d",
    "scrolled": true
   },
   "outputs": [
    {
     "name": "stdout",
     "output_type": "stream",
     "text": [
      "    order_id  user_id  order_number  order_dow  order_hour_of_day  \\\n",
      "0        191   176417            44          3                  2   \n",
      "1     222962    54979            59          3                  2   \n",
      "2     238782   196224             6          3                  2   \n",
      "3     248760   204961            25          3                  2   \n",
      "4     264348    34806             6          3                  2   \n",
      "5     272079   121263             7          3                  2   \n",
      "6     284770   137352             7          3                  2   \n",
      "7     332561   201301             1          3                  2   \n",
      "8     350018   142887             6          3                  2   \n",
      "9     353088    46038             4          3                  2   \n",
      "10    382357   120200            19          3                  2   \n",
      "11    391768    57671            19          3                  2   \n",
      "12    391768    57671            19          3                  2   \n",
      "13    401662    15693             2          3                  2   \n",
      "14    404972   144464             2          3                  2   \n",
      "15    408114    68324             4          3                  2   \n",
      "16    408114    68324             4          3                  2   \n",
      "17    449909   198005            19          3                  2   \n",
      "18    467134    63189            21          3                  2   \n",
      "19    467134    63189            21          3                  2   \n",
      "\n",
      "    days_since_prior_order  \n",
      "0                      6.0  \n",
      "1                      3.0  \n",
      "2                      3.0  \n",
      "3                     15.0  \n",
      "4                      5.0  \n",
      "5                      3.0  \n",
      "6                      8.0  \n",
      "7                      NaN  \n",
      "8                      1.0  \n",
      "9                     11.0  \n",
      "10                    11.0  \n",
      "11                    10.0  \n",
      "12                    10.0  \n",
      "13                    29.0  \n",
      "14                    19.0  \n",
      "15                    18.0  \n",
      "16                    18.0  \n",
      "17                    30.0  \n",
      "18                     2.0  \n",
      "19                     2.0  \n"
     ]
    }
   ],
   "source": [
    "# Basándote en tus hallazgos,\n",
    "# Verifica todos los pedidos que se hicieron el miércoles a las 2:00 a.m.\n",
    "print(orders[(orders['order_dow']==3) & (orders['order_hour_of_day']==2) ].sort_values(by='order_id').reset_index(drop=True).head(20))\n",
    "\n",
    "##Corregido, se resetea el index y hacemos drop=True ##"
   ]
  },
  {
   "cell_type": "markdown",
   "id": "2df94e1a",
   "metadata": {},
   "source": [
    "<div class=\"alert alert-block alert-info\">\n",
    "<b>Respuesta del estudiante: Se corrige reiniciando el index y aplicando Drop=True</b> <a class=\"tocSkip\"></a>\n",
    "</div>"
   ]
  },
  {
   "cell_type": "markdown",
   "id": "c82a3a40",
   "metadata": {
    "id": "vu2OWyoqwOx5"
   },
   "source": [
    "¿Qué sugiere este resultado?\n",
    "\n",
    "**al parecer los pedidos duplicados fueron falla de la plataforma/ sistema, debido a que los índices de las filas duplicadas están muy separados entre si, parece como si el sistema se hubiera saturado y procesó el pedido duplicado durante la misma hora**"
   ]
  },
  {
   "cell_type": "code",
   "execution_count": 15,
   "id": "480563c7",
   "metadata": {
    "id": "480563c7",
    "scrolled": false
   },
   "outputs": [
    {
     "name": "stdout",
     "output_type": "stream",
     "text": [
      "<class 'pandas.core.frame.DataFrame'>\n",
      "Int64Index: 478952 entries, 0 to 478966\n",
      "Data columns (total 6 columns):\n",
      " #   Column                  Non-Null Count   Dtype  \n",
      "---  ------                  --------------   -----  \n",
      " 0   order_id                478952 non-null  int64  \n",
      " 1   user_id                 478952 non-null  int64  \n",
      " 2   order_number            478952 non-null  int64  \n",
      " 3   order_dow               478952 non-null  int64  \n",
      " 4   order_hour_of_day       478952 non-null  int64  \n",
      " 5   days_since_prior_order  450135 non-null  float64\n",
      "dtypes: float64(1), int64(5)\n",
      "memory usage: 25.6 MB\n",
      "\n",
      "   order_id  user_id  order_number  order_dow  order_hour_of_day  \\\n",
      "0   1515936   183418            11          6                 13   \n",
      "1   1690866   163593             5          5                 12   \n",
      "2   1454967    39980             4          5                 19   \n",
      "3   1768857    82516            56          0                 20   \n",
      "4   3007858   196724             2          4                 12   \n",
      "\n",
      "   days_since_prior_order  \n",
      "0                    30.0  \n",
      "1                     9.0  \n",
      "2                     2.0  \n",
      "3                    10.0  \n",
      "4                    17.0  \n"
     ]
    }
   ],
   "source": [
    "# Elimina los pedidos duplicados\n",
    "orders.drop_duplicates( inplace=True)\n",
    "#verificamos cuantas entries quedan después del proceso\n",
    "orders.info()\n",
    "\n",
    "print()\n",
    "#Reiniciamos el índice del dataframe\n",
    "orders.reset_index(drop=True, inplace=True)\n",
    "#Verificamos los cambios\n",
    "print(orders.head(5))"
   ]
  },
  {
   "cell_type": "code",
   "execution_count": 16,
   "id": "0b2396a2",
   "metadata": {
    "id": "0b2396a2"
   },
   "outputs": [
    {
     "name": "stdout",
     "output_type": "stream",
     "text": [
      "False\n"
     ]
    }
   ],
   "source": [
    "# Vuelve a verificar si hay filas duplicadas\n",
    "print(orders.duplicated().any())"
   ]
  },
  {
   "cell_type": "code",
   "execution_count": 17,
   "id": "f6113ef1",
   "metadata": {
    "id": "f6113ef1",
    "scrolled": true
   },
   "outputs": [
    {
     "name": "stdout",
     "output_type": "stream",
     "text": [
      "Empty DataFrame\n",
      "Columns: [order_id, user_id, order_number, order_dow, order_hour_of_day, days_since_prior_order]\n",
      "Index: []\n"
     ]
    }
   ],
   "source": [
    "# Vuelve a verificar únicamente si hay IDs duplicados de pedidos\n",
    "print(orders[orders.duplicated(subset='order_id')])"
   ]
  },
  {
   "cell_type": "markdown",
   "id": "5e8905ae",
   "metadata": {
    "id": "5e8905ae"
   },
   "source": [
    "Describe brevemente tus hallazgos y lo que hiciste con ellos\n",
    "\n",
    "**encontramos 15 filas repetidas dentro del dataframe, fueron verificadas y eliminadas mediante los métodos duplitated(), any(),drop_duplicates() y pasamos de 478967 entries a 478952 entries**"
   ]
  },
  {
   "cell_type": "markdown",
   "id": "45e6bc46",
   "metadata": {
    "id": "45e6bc46"
   },
   "source": [
    "### `products` data frame"
   ]
  },
  {
   "cell_type": "code",
   "execution_count": 18,
   "id": "5f526b5b-8175-46fa-a0fd-441767d50e64",
   "metadata": {
    "id": "5f526b5b-8175-46fa-a0fd-441767d50e64"
   },
   "outputs": [
    {
     "name": "stdout",
     "output_type": "stream",
     "text": [
      "product_id       False\n",
      "product_name     False\n",
      "aisle_id         False\n",
      "department_id    False\n",
      "dtype: bool\n"
     ]
    }
   ],
   "source": [
    "# Verifica si hay filas totalmente duplicadas\n",
    "#No hay filas totalmente duplicadas\n",
    "print(products[products.duplicated()].any())\n"
   ]
  },
  {
   "cell_type": "code",
   "execution_count": 19,
   "id": "88daa4f4",
   "metadata": {
    "id": "88daa4f4"
   },
   "outputs": [
    {
     "name": "stdout",
     "output_type": "stream",
     "text": [
      "True\n"
     ]
    }
   ],
   "source": [
    "# Revisa únicamente si hay ID de departamentos duplicados\n",
    "\n",
    "#si hay ID de departamentos duplicados\n",
    "print(products['department_id'].duplicated().any())\n"
   ]
  },
  {
   "cell_type": "code",
   "execution_count": 20,
   "id": "c773f0bf",
   "metadata": {
    "id": "c773f0bf",
    "scrolled": false
   },
   "outputs": [
    {
     "name": "stdout",
     "output_type": "stream",
     "text": [
      "       product_id                                     product_name  aisle_id  \\\n",
      "71             72                                              NaN       100   \n",
      "109           110                                              NaN       100   \n",
      "296           297                                              NaN       100   \n",
      "416           417                                              NaN       100   \n",
      "436           437                                              NaN       100   \n",
      "...           ...                                              ...       ...   \n",
      "49689       49690                    HIGH PERFORMANCE ENERGY DRINK        64   \n",
      "49690       49691                    ORIGINAL PANCAKE & WAFFLE MIX       130   \n",
      "49691       49692  ORGANIC INSTANT OATMEAL LIGHT MAPLE BROWN SUGAR       130   \n",
      "49692       49693                           SPRING WATER BODY WASH       127   \n",
      "49693       49694                          BURRITO- STEAK & CHEESE        38   \n",
      "\n",
      "       department_id  \n",
      "71                21  \n",
      "109               21  \n",
      "296               21  \n",
      "416               21  \n",
      "436               21  \n",
      "...              ...  \n",
      "49689              7  \n",
      "49690             14  \n",
      "49691             14  \n",
      "49692             11  \n",
      "49693              1  \n",
      "\n",
      "[1361 rows x 4 columns]\n"
     ]
    }
   ],
   "source": [
    "# Revisa únicamente si hay nombres duplicados de productos (convierte los nombres a letras mayúsculas para compararlos mejor)\n",
    "\n",
    "#convertimos los nombres de producto a mayúsculas mediante str.upper()\n",
    "products['product_name']=products['product_name'].str.upper()\n",
    "#imprimimos los nombres duplicados para verificar si hay existentes\n",
    "print(products[products.duplicated(subset='product_name')])\n"
   ]
  },
  {
   "cell_type": "code",
   "execution_count": 21,
   "id": "01efd02e",
   "metadata": {
    "id": "01efd02e",
    "scrolled": false
   },
   "outputs": [
    {
     "name": "stdout",
     "output_type": "stream",
     "text": [
      "       product_id                                     product_name  aisle_id  \\\n",
      "2058         2059                                  BIOTIN 1000 MCG        47   \n",
      "5455         5456                 GREEN TEA WITH GINSENG AND HONEY        96   \n",
      "5558         5559                           CREAM OF MUSHROOM SOUP        69   \n",
      "7558         7559                        CINNAMON ROLLS WITH ICING       105   \n",
      "9037         9038                           AMERICAN CHEESE SLICES        21   \n",
      "...           ...                                              ...       ...   \n",
      "49689       49690                    HIGH PERFORMANCE ENERGY DRINK        64   \n",
      "49690       49691                    ORIGINAL PANCAKE & WAFFLE MIX       130   \n",
      "49691       49692  ORGANIC INSTANT OATMEAL LIGHT MAPLE BROWN SUGAR       130   \n",
      "49692       49693                           SPRING WATER BODY WASH       127   \n",
      "49693       49694                          BURRITO- STEAK & CHEESE        38   \n",
      "\n",
      "       department_id  \n",
      "2058              11  \n",
      "5455              20  \n",
      "5558              15  \n",
      "7558              13  \n",
      "9037              16  \n",
      "...              ...  \n",
      "49689              7  \n",
      "49690             14  \n",
      "49691             14  \n",
      "49692             11  \n",
      "49693              1  \n",
      "\n",
      "[104 rows x 4 columns]\n"
     ]
    }
   ],
   "source": [
    "# Revisa si hay nombres duplicados de productos no faltantes\n",
    "#filtramos por nombres de producto duplicados\n",
    "na_products=products[products['product_name'].duplicated()]\n",
    "#filtramos por nombres de productos duplicados no faltantes\n",
    "na_products=na_products[~na_products['product_name'].isna()]\n",
    "print(na_products)\n"
   ]
  },
  {
   "cell_type": "markdown",
   "id": "9da8d293",
   "metadata": {
    "id": "9da8d293"
   },
   "source": [
    "Describe brevemente tus hallazgos y lo que hiciste con ellos.\n",
    "\n",
    "**encontramos valores duplicados en los nombres de producto así como valores nulos en la misma columna ('product_name'), por el momento, no vamos a reritrar los valores duplicados porque también se eliminarían los NaN, que serán tratados más adelante**\n",
    "\n",
    "**los valores duplicados en el 'department_id' son correctos, debido a que varios productos pueden pertenecer al mismo departamento**"
   ]
  },
  {
   "cell_type": "markdown",
   "id": "60f30db1",
   "metadata": {
    "id": "60f30db1"
   },
   "source": [
    "### `departments` data frame"
   ]
  },
  {
   "cell_type": "code",
   "execution_count": 22,
   "id": "fb410ad4-0fbf-4b80-bb09-23fdea79afe3",
   "metadata": {
    "id": "fb410ad4-0fbf-4b80-bb09-23fdea79afe3"
   },
   "outputs": [
    {
     "name": "stdout",
     "output_type": "stream",
     "text": [
      "False\n"
     ]
    }
   ],
   "source": [
    "# Revisa si hay filas totalmente duplicadas\n",
    "print(departments.duplicated().any())\n",
    "\n"
   ]
  },
  {
   "cell_type": "code",
   "execution_count": 23,
   "id": "332b12bb",
   "metadata": {
    "id": "332b12bb"
   },
   "outputs": [
    {
     "name": "stdout",
     "output_type": "stream",
     "text": [
      "Empty DataFrame\n",
      "Columns: [department_id, department]\n",
      "Index: []\n",
      "\n",
      "Empty DataFrame\n",
      "Columns: [department_id, department]\n",
      "Index: []\n"
     ]
    }
   ],
   "source": [
    "# Revisa únicamente si hay IDs duplicadas de productos\n",
    "#no hay filas de department_id  ni de department duplicados\n",
    "print(departments[departments.duplicated(subset='department_id')])\n",
    "print()\n",
    "print(departments[departments.duplicated(subset='department')])"
   ]
  },
  {
   "cell_type": "markdown",
   "id": "bd30d78e",
   "metadata": {
    "id": "bd30d78e"
   },
   "source": [
    "Describe brevemente tus hallazgos y lo que hiciste con ellos.\n",
    "\n",
    "**en este dataframe no existen datos nulos ni duplicados, no fue necesario realizar cambios**"
   ]
  },
  {
   "cell_type": "markdown",
   "id": "889349c1",
   "metadata": {
    "id": "889349c1"
   },
   "source": [
    "### `aisles` data frame"
   ]
  },
  {
   "cell_type": "code",
   "execution_count": 24,
   "id": "9da89fb9-4679-40f5-ad0d-c34df753a3f8",
   "metadata": {
    "id": "9da89fb9-4679-40f5-ad0d-c34df753a3f8"
   },
   "outputs": [
    {
     "name": "stdout",
     "output_type": "stream",
     "text": [
      "aisle_id    False\n",
      "aisle       False\n",
      "dtype: bool\n"
     ]
    }
   ],
   "source": [
    "# Revisa si hay filas totalmente duplicadas\n",
    "print(aisles[aisles.duplicated()].any())"
   ]
  },
  {
   "cell_type": "code",
   "execution_count": 25,
   "id": "da7c2822",
   "metadata": {
    "id": "da7c2822",
    "scrolled": true
   },
   "outputs": [
    {
     "name": "stdout",
     "output_type": "stream",
     "text": [
      "Empty DataFrame\n",
      "Columns: [aisle_id, aisle]\n",
      "Index: []\n",
      "\n",
      "Empty DataFrame\n",
      "Columns: [aisle_id, aisle]\n",
      "Index: []\n"
     ]
    }
   ],
   "source": [
    "# Revisa únicamente si hay IDs duplicadas de productos\n",
    "#verificando si hay 'aisle_id' duplicados\n",
    "print(aisles[aisles.duplicated(subset='aisle_id')])\n",
    "print()\n",
    "\n",
    "#verificando si hay 'aisle' duplicados\n",
    "print(aisles[aisles.duplicated(subset='aisle')])\n"
   ]
  },
  {
   "cell_type": "code",
   "execution_count": 26,
   "id": "dc170089",
   "metadata": {
    "scrolled": true
   },
   "outputs": [
    {
     "name": "stdout",
     "output_type": "stream",
     "text": [
      "aisle_id    False\n",
      "aisle       False\n",
      "dtype: bool\n"
     ]
    }
   ],
   "source": [
    "#Verificando si hay valores nulos\n",
    "print(aisles.isna().any())"
   ]
  },
  {
   "cell_type": "markdown",
   "id": "ac63826f",
   "metadata": {
    "id": "ac63826f"
   },
   "source": [
    "Describe brevemente tus hallazgos y lo que hiciste con ellos.\n",
    "\n",
    "**en este dataframe no hay datos duplicados, no fue necesario hacer cambios**"
   ]
  },
  {
   "cell_type": "markdown",
   "id": "274cd06a",
   "metadata": {
    "id": "274cd06a"
   },
   "source": [
    "### `order_products` data frame"
   ]
  },
  {
   "cell_type": "code",
   "execution_count": 27,
   "id": "52326689-84a8-4b8f-a881-7c68780f62c9",
   "metadata": {
    "id": "52326689-84a8-4b8f-a881-7c68780f62c9"
   },
   "outputs": [
    {
     "name": "stdout",
     "output_type": "stream",
     "text": [
      "order_id             False\n",
      "product_id           False\n",
      "add_to_cart_order    False\n",
      "reordered            False\n",
      "dtype: bool\n"
     ]
    }
   ],
   "source": [
    "# Revisa si hay filas totalmente duplicadas\n",
    "print(order_products[order_products.duplicated()].any())\n"
   ]
  },
  {
   "cell_type": "code",
   "execution_count": 28,
   "id": "7b861391",
   "metadata": {
    "id": "7b861391",
    "scrolled": true
   },
   "outputs": [
    {
     "name": "stdout",
     "output_type": "stream",
     "text": [
      "         order_id  product_id  add_to_cart_order  reordered\n",
      "2834230         4       26434                2.0          1\n",
      "1420535         4       10054                5.0          1\n",
      "2507695         4       17616               10.0          1\n",
      "1295279         4       39758                3.0          1\n",
      "1299531         4       32645               12.0          1\n",
      "...           ...         ...                ...        ...\n",
      "1718460   3421071       21791                2.0          0\n",
      "1692878   3421071       32293                4.0          1\n",
      "1505667   3421077       27966                1.0          0\n",
      "4417991   3421077       45007                2.0          0\n",
      "4000108   3421077       27845                4.0          0\n",
      "\n",
      "[4094961 rows x 4 columns]\n",
      "\n",
      "\n",
      "         order_id  product_id  add_to_cart_order  reordered\n",
      "1420535         4       10054                5.0          1\n",
      "2507695         4       17616               10.0          1\n",
      "3977678         4       21351                6.0          1\n",
      "1172585         4       22598                7.0          1\n",
      "3189411         4       25146               11.0          1\n",
      "2834230         4       26434                2.0          1\n",
      "1169276         4       27761                4.0          1\n",
      "1299531         4       32645               12.0          1\n",
      "2043091         4       34862                8.0          1\n",
      "1295279         4       39758                3.0          1\n",
      "4107072         4       40285                9.0          1\n",
      "2502556         4       41276               13.0          1\n",
      "311805          4       46842                1.0          0\n"
     ]
    }
   ],
   "source": [
    "# Vuelve a verificar si hay cualquier otro duplicado engañoso\n",
    "#Verificamos si hay duplicados en order_id\n",
    "print(order_products[order_products.duplicated(subset='order_id')].sort_values(by='order_id'))\n",
    "print()\n",
    "print()\n",
    "#verificamos un ejemplo (order_id =4) para ver el motivo del duplicado\n",
    "print(order_products[order_products['order_id']==4].sort_values(by='product_id'))\n"
   ]
  },
  {
   "cell_type": "markdown",
   "id": "0b890492",
   "metadata": {
    "id": "0b890492"
   },
   "source": [
    "Describe brevemente tus hallazgos y lo que hiciste con ellos.\n",
    "\n",
    "**en este dataframe encontramos que no se tiene ninguna fila completamente duplicada, dentro de los valores de columna si hay valores duplicados, sin embargo hace sentido porque un product_id puede pertenecer a diferentes order_id, así como un order_id duplicado puede tener diferentes product_id\n",
    "por lo tanto no es necesario realizar cambios**"
   ]
  },
  {
   "cell_type": "markdown",
   "id": "1e46de76",
   "metadata": {
    "id": "1e46de76"
   },
   "source": [
    "## Encuentra y elimina los valores ausentes\n",
    "\n",
    "Al trabajar con valores duplicados, pudimos observar que también nos falta investigar valores ausentes:\n",
    "\n",
    "* La columna `'product_name'` de la tabla products.\n",
    "* La columna `'days_since_prior_order'` de la tabla orders.\n",
    "* La columna `'add_to_cart_order'` de la tabla order_productos."
   ]
  },
  {
   "cell_type": "markdown",
   "id": "c0aebd78",
   "metadata": {
    "id": "c0aebd78"
   },
   "source": [
    "### `products` data frame"
   ]
  },
  {
   "cell_type": "code",
   "execution_count": 29,
   "id": "fe4a8b0f",
   "metadata": {
    "id": "fe4a8b0f",
    "scrolled": false
   },
   "outputs": [
    {
     "name": "stdout",
     "output_type": "stream",
     "text": [
      "       product_id product_name  aisle_id  department_id\n",
      "37             38          NaN       100             21\n",
      "71             72          NaN       100             21\n",
      "109           110          NaN       100             21\n",
      "296           297          NaN       100             21\n",
      "416           417          NaN       100             21\n",
      "...           ...          ...       ...            ...\n",
      "49552       49553          NaN       100             21\n",
      "49574       49575          NaN       100             21\n",
      "49640       49641          NaN       100             21\n",
      "49663       49664          NaN       100             21\n",
      "49668       49669          NaN       100             21\n",
      "\n",
      "[1258 rows x 4 columns]\n"
     ]
    }
   ],
   "source": [
    "# Encuentra los valores ausentes en la columna 'product_name'\n",
    "print(products[products['product_name'].isna()])"
   ]
  },
  {
   "cell_type": "markdown",
   "id": "-A6x1AbJhjkp",
   "metadata": {
    "id": "-A6x1AbJhjkp"
   },
   "source": [
    "Describe brevemente cuáles son tus hallazgos.\n",
    "**al parecer todos los productos ausentes se encuentran en el aisle_id 100 y department_id 21**"
   ]
  },
  {
   "cell_type": "code",
   "execution_count": 30,
   "id": "e96167bc",
   "metadata": {
    "id": "e96167bc",
    "scrolled": true
   },
   "outputs": [
    {
     "name": "stdout",
     "output_type": "stream",
     "text": [
      "[100]\n"
     ]
    }
   ],
   "source": [
    "#  ¿Todos los nombres de productos ausentes están relacionados con el pasillo con ID 100?\n",
    "print(products[products['product_name'].isna()]['aisle_id'].unique())"
   ]
  },
  {
   "cell_type": "markdown",
   "id": "WRpIfXRphpSL",
   "metadata": {
    "id": "WRpIfXRphpSL"
   },
   "source": [
    "Describe brevemente cuáles son tus hallazgos.\n",
    "\n",
    "**todos los valores ausentes están relacionados con el aisle_id 100 y con el department_id 21, tal como desarrollé en la sección 2.1, cuando verificas el aisle_id 100 y el department_id 21 , te percatas que ambos tienen el valor = 'missing', por lo que concluimos que fueron dados de baja o son inexistentes**"
   ]
  },
  {
   "cell_type": "code",
   "execution_count": 31,
   "id": "8fd0a541",
   "metadata": {
    "id": "8fd0a541"
   },
   "outputs": [
    {
     "name": "stdout",
     "output_type": "stream",
     "text": [
      "[21]\n"
     ]
    }
   ],
   "source": [
    "# ¿Todos los nombres de productos ausentes están relacionados con el departamento con ID 21?\n",
    "print(products[products['product_name'].isna()]['department_id'].unique())"
   ]
  },
  {
   "cell_type": "markdown",
   "id": "qDpdYn1Fht_I",
   "metadata": {
    "id": "qDpdYn1Fht_I"
   },
   "source": [
    "Describe brevemente cuáles son tus hallazgos.\n",
    "\n",
    "**todos los valores ausentes están relacionados con el aisle_id 100 y con el department_id 21, tal como desarrollé en la sección 2.1, cuando verificas el aisle_id 100 y el department_id 21 , te percatas que ambos tienen el valor = 'missing', por lo que concluimos que fueron dados de baja o son inexistentes**"
   ]
  },
  {
   "cell_type": "code",
   "execution_count": 32,
   "id": "325c3464",
   "metadata": {
    "id": "325c3464",
    "scrolled": true
   },
   "outputs": [
    {
     "name": "stdout",
     "output_type": "stream",
     "text": [
      "    aisle_id    aisle\n",
      "99       100  missing\n",
      "\n",
      "    department_id department\n",
      "20             21    missing\n"
     ]
    }
   ],
   "source": [
    "# Usa las tablas department y aisle para revisar los datos del pasillo con ID 100 y el departamento con ID 21.\n",
    "print(aisles[aisles['aisle_id']==100])\n",
    "print()\n",
    "print(departments[departments['department_id']==21])\n"
   ]
  },
  {
   "cell_type": "code",
   "execution_count": 33,
   "id": "82050fa6",
   "metadata": {},
   "outputs": [
    {
     "name": "stdout",
     "output_type": "stream",
     "text": [
      "    aisle_id            aisle  department_id department\n",
      "20        21  packaged cheese           21.0    missing\n",
      "99       100          missing            NaN        NaN\n"
     ]
    }
   ],
   "source": [
    "###Otra manera de visualizar el punto anterior, realizamos join a los dataframes y mostramos las coincidencias donde 'aisle_id' sea 100 y donde 'department_id' sea 21\n",
    "test= aisles.join(departments)\n",
    "print(test[(test['aisle_id']==100) | (test['department_id']==21)])"
   ]
  },
  {
   "cell_type": "markdown",
   "id": "nqhSTUPhhvEJ",
   "metadata": {
    "id": "nqhSTUPhhvEJ"
   },
   "source": [
    "Describe brevemente cuáles son tus hallazgos.\n",
    "\n",
    "**podemos observar que los valores tanto del departamento 21 como del pasillo 100, se encuentran como \"missing\", podemos concluir que fueron dados de baja o son inexistentes**"
   ]
  },
  {
   "cell_type": "code",
   "execution_count": 34,
   "id": "6b295120",
   "metadata": {
    "id": "6b295120",
    "scrolled": true
   },
   "outputs": [
    {
     "name": "stdout",
     "output_type": "stream",
     "text": [
      "       product_id product_name  aisle_id  department_id\n",
      "37             38      Unknown       100             21\n",
      "71             72      Unknown       100             21\n",
      "109           110      Unknown       100             21\n",
      "296           297      Unknown       100             21\n",
      "416           417      Unknown       100             21\n",
      "...           ...          ...       ...            ...\n",
      "49552       49553      Unknown       100             21\n",
      "49574       49575      Unknown       100             21\n",
      "49640       49641      Unknown       100             21\n",
      "49663       49664      Unknown       100             21\n",
      "49668       49669      Unknown       100             21\n",
      "\n",
      "[1258 rows x 4 columns]\n"
     ]
    }
   ],
   "source": [
    "# Completa los nombres de productos ausentes con 'Unknown'\n",
    "#print(products)\n",
    "products['product_name']=products['product_name'].fillna('Unknown')\n",
    "print(products[products['product_name']=='Unknown'])\n"
   ]
  },
  {
   "cell_type": "code",
   "execution_count": 35,
   "id": "51e05c3c",
   "metadata": {
    "scrolled": true
   },
   "outputs": [
    {
     "name": "stdout",
     "output_type": "stream",
     "text": [
      "<class 'pandas.core.frame.DataFrame'>\n",
      "Int64Index: 49590 entries, 0 to 49687\n",
      "Data columns (total 4 columns):\n",
      " #   Column         Non-Null Count  Dtype \n",
      "---  ------         --------------  ----- \n",
      " 0   product_id     49590 non-null  int64 \n",
      " 1   product_name   49590 non-null  object\n",
      " 2   aisle_id       49590 non-null  int64 \n",
      " 3   department_id  49590 non-null  int64 \n",
      "dtypes: int64(3), object(1)\n",
      "memory usage: 1.9+ MB\n"
     ]
    }
   ],
   "source": [
    "## Añadido por el estudiante##\n",
    "#en las secciones previas decidí no eliminar los duplicados para este dataframe\n",
    "#debido a que si los eliminaba, se irían también los duplicados NaN\n",
    "#por lo tanto en este momento  procedo a eliminar los duplicados pero respetando\n",
    "#los product_name =Unknown\n",
    "\n",
    "\n",
    "#filtramos los productos duplicados en 'product_name'\n",
    "prod_test=products[products['product_name'].duplicated()]\n",
    "#filtramos los productos duplicados conservando los productos 'Unknown'\n",
    "prod_test1 = prod_test[(prod_test['product_name']!='Unknown')]\n",
    "\n",
    "#obtenemos un series product_test_series para filtrar posteriormente en query\n",
    "prod_test_s=prod_test1['product_id']\n",
    "\n",
    "#filtramos en query  para obtener todos los valores excepto los duplicados que filtramos previamente\n",
    "products=products.query(\"product_id not in @prod_test_s\")\n",
    "#verificamos la info del dataframe y observamos que eliminamos 104 registros de nombre duplicado, conservando los valores'Unknown'\n",
    "products.info()\n",
    "\n"
   ]
  },
  {
   "cell_type": "markdown",
   "id": "fc70e5ad",
   "metadata": {
    "id": "fc70e5ad"
   },
   "source": [
    "Describe brevemente tus hallazgos y lo que hiciste con ellos.\n",
    "\n",
    "**en esta sección:**\n",
    "* reemplazamos los productos sin nombre que venían afectados por el pasillo 100 y departamento 21 por el valor 'Unknown', esto para que no afecte a nuestro análisis.\n",
    "\n",
    "\n",
    "* Eliminamos los product_name duplicados, sin embargo conservamos los valores 'Unknown'"
   ]
  },
  {
   "cell_type": "markdown",
   "id": "7eb45c86",
   "metadata": {
    "id": "7eb45c86"
   },
   "source": [
    "### `orders` data frame"
   ]
  },
  {
   "cell_type": "code",
   "execution_count": 36,
   "id": "93e41d96",
   "metadata": {
    "id": "93e41d96"
   },
   "outputs": [
    {
     "name": "stdout",
     "output_type": "stream",
     "text": [
      "order_id                  False\n",
      "user_id                   False\n",
      "order_number              False\n",
      "order_dow                 False\n",
      "order_hour_of_day         False\n",
      "days_since_prior_order     True\n",
      "dtype: bool\n",
      "\n",
      "        order_id  user_id  order_number  order_dow  order_hour_of_day  \\\n",
      "28        133707   182261             1          3                 10   \n",
      "96        787445    25685             1          6                 18   \n",
      "100       294410   111449             1          0                 19   \n",
      "103      2869915   123958             1          4                 16   \n",
      "104      2521921    42286             1          3                 18   \n",
      "...          ...      ...           ...        ...                ...   \n",
      "478880   2589657   205028             1          0                 16   \n",
      "478881   2222353   141211             1          2                 13   \n",
      "478907   2272807   204154             1          1                 15   \n",
      "478911   2499542    68810             1          4                 19   \n",
      "478930   1387033    22496             1          5                 14   \n",
      "\n",
      "        days_since_prior_order  \n",
      "28                         NaN  \n",
      "96                         NaN  \n",
      "100                        NaN  \n",
      "103                        NaN  \n",
      "104                        NaN  \n",
      "...                        ...  \n",
      "478880                     NaN  \n",
      "478881                     NaN  \n",
      "478907                     NaN  \n",
      "478911                     NaN  \n",
      "478930                     NaN  \n",
      "\n",
      "[28817 rows x 6 columns]\n"
     ]
    }
   ],
   "source": [
    "# Encuentra los valores ausentes\n",
    "#imprimimos las columnas para verificar en cual tenemos ausentes\n",
    "print(orders.isna().any())\n",
    "print()\n",
    "#imprimimos todas las filas con valores ausentes resultando 28817 filas\n",
    "print(orders[orders.isna().any(axis=1)])\n"
   ]
  },
  {
   "cell_type": "code",
   "execution_count": 37,
   "id": "166e5a86",
   "metadata": {
    "id": "166e5a86",
    "scrolled": true
   },
   "outputs": [
    {
     "name": "stdout",
     "output_type": "stream",
     "text": [
      "        order_id  user_id  order_number  order_dow  order_hour_of_day  \\\n",
      "28        133707   182261             1          3                 10   \n",
      "96        787445    25685             1          6                 18   \n",
      "100       294410   111449             1          0                 19   \n",
      "103      2869915   123958             1          4                 16   \n",
      "104      2521921    42286             1          3                 18   \n",
      "...          ...      ...           ...        ...                ...   \n",
      "478880   2589657   205028             1          0                 16   \n",
      "478881   2222353   141211             1          2                 13   \n",
      "478907   2272807   204154             1          1                 15   \n",
      "478911   2499542    68810             1          4                 19   \n",
      "478930   1387033    22496             1          5                 14   \n",
      "\n",
      "        days_since_prior_order  \n",
      "28                         NaN  \n",
      "96                         NaN  \n",
      "100                        NaN  \n",
      "103                        NaN  \n",
      "104                        NaN  \n",
      "...                        ...  \n",
      "478880                     NaN  \n",
      "478881                     NaN  \n",
      "478907                     NaN  \n",
      "478911                     NaN  \n",
      "478930                     NaN  \n",
      "\n",
      "[28817 rows x 6 columns]\n"
     ]
    }
   ],
   "source": [
    "# ¿Hay algún valor ausente que no sea el primer pedido del cliente?\n",
    "\n",
    "#imprimimos los pedidos donde 'order_number'=1 (primer pedido) y donde 'days_since_prior_order'=NaN resultando 28817 rows\n",
    "#lo cual coincide con la cantidad total de ausentes\n",
    "print(orders[(orders['order_number']==1) & (orders['days_since_prior_order'].isna())])\n",
    "\n"
   ]
  },
  {
   "cell_type": "markdown",
   "id": "4e23d089",
   "metadata": {
    "id": "4e23d089"
   },
   "source": [
    "Describe brevemente tus hallazgos y lo que hiciste con ellos\n",
    "\n",
    "**encontramos valores nulos en la columna 'days_since_prior_order' que indican que es la primera vez que el cliente realiza una orden (no hay ordenes previas), decidí no rellenar esos valores NaN debido a que si los rellenamos es posible que perdamos o alteremos la información para el análisis.**"
   ]
  },
  {
   "cell_type": "markdown",
   "id": "69dc9ca4",
   "metadata": {
    "id": "69dc9ca4"
   },
   "source": [
    "### `order_products` data frame"
   ]
  },
  {
   "cell_type": "code",
   "execution_count": 38,
   "id": "b8240253",
   "metadata": {
    "id": "b8240253"
   },
   "outputs": [
    {
     "name": "stdout",
     "output_type": "stream",
     "text": [
      "order_id             False\n",
      "product_id           False\n",
      "add_to_cart_order     True\n",
      "reordered            False\n",
      "dtype: bool\n",
      "\n",
      "         order_id  product_id  add_to_cart_order  reordered\n",
      "737       2449164        5068                NaN          0\n",
      "9926      1968313       43867                NaN          0\n",
      "14394     2926893       11688                NaN          0\n",
      "16418     1717990        4142                NaN          0\n",
      "30114     1959075       42828                NaN          1\n",
      "...           ...         ...                ...        ...\n",
      "4505662   1800005        7411                NaN          0\n",
      "4511400   1633337         260                NaN          0\n",
      "4517562    404157        9517                NaN          0\n",
      "4534112   1673227       17835                NaN          0\n",
      "4535739   1832957       17949                NaN          1\n",
      "\n",
      "[836 rows x 4 columns]\n"
     ]
    }
   ],
   "source": [
    "# Encuentra los valores ausentes\n",
    "print(order_products.isna().any())\n",
    "print()\n",
    "\n",
    "print(order_products[order_products['add_to_cart_order'].isna()])"
   ]
  },
  {
   "cell_type": "code",
   "execution_count": 39,
   "id": "9a78e5ee",
   "metadata": {
    "id": "9a78e5ee"
   },
   "outputs": [
    {
     "name": "stdout",
     "output_type": "stream",
     "text": [
      "el valor mínimo de la columna es:  1.0\n",
      "el valor máximo de la columna es:  64.0\n"
     ]
    }
   ],
   "source": [
    "# ¿Cuáles son los valores mínimos y máximos en esta columna?\n",
    "print(\"el valor mínimo de la columna es: \",order_products['add_to_cart_order'].min())\n",
    "print(\"el valor máximo de la columna es: \",order_products['add_to_cart_order'].max())"
   ]
  },
  {
   "cell_type": "markdown",
   "id": "-Z2Ja215jW78",
   "metadata": {
    "id": "-Z2Ja215jW78"
   },
   "source": [
    "Describe brevemente cuáles son tus hallazgos.\n",
    "\n",
    "**tal como desarrollamos previamente, el sistema solo contabiliza ordenes de 1 a 64 productos añadidos, a partir del producto 65, comienza a rellenar con nulos**"
   ]
  },
  {
   "cell_type": "code",
   "execution_count": 40,
   "id": "ab9d0c2b",
   "metadata": {
    "id": "ab9d0c2b",
    "scrolled": true
   },
   "outputs": [
    {
     "name": "stdout",
     "output_type": "stream",
     "text": [
      "737        2449164\n",
      "9926       1968313\n",
      "14394      2926893\n",
      "16418      1717990\n",
      "30114      1959075\n",
      "            ...   \n",
      "4505662    1800005\n",
      "4511400    1633337\n",
      "4517562     404157\n",
      "4534112    1673227\n",
      "4535739    1832957\n",
      "Name: order_id, Length: 836, dtype: int64\n"
     ]
    }
   ],
   "source": [
    "# Guarda todas las IDs de pedidos que tengan un valor ausente en 'add_to_cart_order'\n",
    "#filtramos el dataframe para obtener las filas con NaN en la columna 'add_to_cart_order' y la guardamos en un Series conservando la columna 'order_id'\n",
    "absent_id= order_products[order_products['add_to_cart_order'].isna()]['order_id']\n",
    "print(absent_id)\n"
   ]
  },
  {
   "cell_type": "code",
   "execution_count": 41,
   "id": "54c31695",
   "metadata": {
    "id": "54c31695",
    "scrolled": false
   },
   "outputs": [
    {
     "name": "stdout",
     "output_type": "stream",
     "text": [
      "el dataframe tiene  5316 ordenes con valores ausentes\n",
      "\n",
      "Cada pedido ausente tiene un mínimo de  65 artículos por orden\n"
     ]
    }
   ],
   "source": [
    "# ¿Todos los pedidos con valores ausentes tienen más de 64 productos?\n",
    "# Agrupa todos los pedidos con datos ausentes por su ID de pedido.\n",
    "# Cuenta el número de 'product_id' en cada pedido y revisa el valor mínimo del conteo.\n",
    "\n",
    "#hacemos un query donde obtengamos las filas de'order_id' donde se tengan valores ausentes en 'add_to_cart_order'\n",
    "orders_w_absent= order_products.query(\"order_id in @absent_id\")\n",
    "\n",
    "#imprimimos la cantidad de filas que tiene el df anterior\n",
    "print(\"el dataframe tiene \",orders_w_absent.shape[0], \"ordenes con valores ausentes\")\n",
    "\n",
    "print()\n",
    "#agrupamos por 'order_id' el dataframe anterior\n",
    "grouped_orders= orders_w_absent.sort_values(by='order_id')\n",
    "#filtramos la columna 'order_id' y aplicamos un conteo de valores, que contará la cantidad de articulos que tiene cada 'order_id'\n",
    "print(\"Cada pedido ausente tiene un mínimo de \", grouped_orders['order_id'].value_counts().min(), \"artículos por orden\")\n",
    "\n"
   ]
  },
  {
   "cell_type": "markdown",
   "id": "p9V6pddtjglj",
   "metadata": {
    "id": "p9V6pddtjglj"
   },
   "source": [
    "Describe brevemente cuáles son tus hallazgos.\n",
    "\n",
    "**observamos que  todos los artículos que tienen valores ausentes en 'add_to_cart_order' pertenecen a pedidos con un mínimo de 65 artículos, esto reafirma la hipótesis que el sistema no contabiliza los pedidos con más de 65 artículos.**"
   ]
  },
  {
   "cell_type": "code",
   "execution_count": 42,
   "id": "7a987d08",
   "metadata": {
    "id": "7a987d08"
   },
   "outputs": [
    {
     "name": "stdout",
     "output_type": "stream",
     "text": [
      "order_id             False\n",
      "product_id           False\n",
      "add_to_cart_order    False\n",
      "reordered            False\n",
      "dtype: bool\n",
      "\n",
      "<class 'pandas.core.frame.DataFrame'>\n",
      "RangeIndex: 4545007 entries, 0 to 4545006\n",
      "Data columns (total 4 columns):\n",
      " #   Column             Non-Null Count    Dtype\n",
      "---  ------             --------------    -----\n",
      " 0   order_id           4545007 non-null  int64\n",
      " 1   product_id         4545007 non-null  int64\n",
      " 2   add_to_cart_order  4545007 non-null  int64\n",
      " 3   reordered          4545007 non-null  int64\n",
      "dtypes: int64(4)\n",
      "memory usage: 138.7 MB\n"
     ]
    }
   ],
   "source": [
    "# Remplaza los valores ausentes en la columna 'add_to_cart? con 999 y convierte la columna al tipo entero.\n",
    "#reemplazando valores ausentes por 999\n",
    "order_products['add_to_cart_order']=order_products['add_to_cart_order'].fillna(999)\n",
    "#convirtiendo la columna a tipo entero\n",
    "order_products['add_to_cart_order']=order_products['add_to_cart_order'].astype(int)\n",
    "\n",
    "#verificando si quedan valores ausentes en el dataframe\n",
    "print(order_products.isna().any())\n",
    "print()\n",
    "#verificando que las columnas sean del tipo de dato adecuado\n",
    "order_products.info(show_counts=True)"
   ]
  },
  {
   "cell_type": "markdown",
   "id": "fea4bcc7",
   "metadata": {
    "id": "fea4bcc7"
   },
   "source": [
    "Describe brevemente tus hallazgos y lo que hiciste con ellos.\n",
    "\n",
    "**reemplacé los valores ausentes con el número 999 y cambiamos el tipo de dato a entero, esto para facilitar el análisis para las visualizaciones**"
   ]
  },
  {
   "cell_type": "markdown",
   "id": "RnplPFY1gSrb",
   "metadata": {
    "id": "RnplPFY1gSrb"
   },
   "source": [
    "## Conclusiones\n",
    "\n",
    "Escribe aquí tus conclusiones intermedias sobre el Paso 2. Preprocesamiento de los datos\n",
    "\n",
    "**El paso 2 presentó retos para la normalización de los datos, encontramos**\n",
    "* Columnas con valores ausentes\n",
    "* Columnas con valores duplicados innecesarios\n",
    "* Columnas con valores con mezclas de minúsculas y mayúsculas\n",
    "\n",
    "**Todos estos datos fueron normalizados para su posterior análisis**\n"
   ]
  },
  {
   "cell_type": "markdown",
   "id": "UjrOIwTcz3ri",
   "metadata": {
    "id": "UjrOIwTcz3ri"
   },
   "source": [
    "# Paso 3. Análisis de los datos\n",
    "\n",
    "Una vez los datos estén procesados y listos, haz el siguiente análisis:"
   ]
  },
  {
   "cell_type": "markdown",
   "id": "turkish-kidney",
   "metadata": {
    "id": "turkish-kidney"
   },
   "source": [
    "# [A] \n",
    "\n",
    "1. Verifica que los valores en las columnas `'order_hour_of_day'` y `'order_dow'` en la tabla orders sean razonables (es decir, `'order_hour_of_day'` oscile entre 0 y 23 y `'order_dow'` oscile entre 0 y 6).\n",
    "2. Crea un gráfico que muestre el número de personas que hacen pedidos dependiendo de la hora del día.\n",
    "3. Crea un gráfico que muestre qué día de la semana la gente hace sus compras.\n",
    "4. Crea un gráfico que muestre el tiempo que la gente espera hasta hacer su siguiente pedido, y comenta sobre los valores mínimos y máximos."
   ]
  },
  {
   "cell_type": "markdown",
   "id": "short-capability",
   "metadata": {
    "id": "short-capability"
   },
   "source": [
    "### [A1] Verifica que los valores sean sensibles"
   ]
  },
  {
   "cell_type": "code",
   "execution_count": 43,
   "id": "growing-fruit",
   "metadata": {
    "id": "growing-fruit"
   },
   "outputs": [
    {
     "name": "stdout",
     "output_type": "stream",
     "text": [
      "[ 0  1  2  3  4  5  6  7  8  9 10 11 12 13 14 15 16 17 18 19 20 21 22 23]\n"
     ]
    }
   ],
   "source": [
    "print(orders['order_hour_of_day'].sort_values().unique())"
   ]
  },
  {
   "cell_type": "code",
   "execution_count": 44,
   "id": "accessory-malaysia",
   "metadata": {
    "id": "accessory-malaysia"
   },
   "outputs": [
    {
     "name": "stdout",
     "output_type": "stream",
     "text": [
      "[0 1 2 3 4 5 6]\n"
     ]
    }
   ],
   "source": [
    "print(orders['order_dow'].sort_values().unique())"
   ]
  },
  {
   "cell_type": "markdown",
   "id": "hmR2GNQ6lCsX",
   "metadata": {
    "id": "hmR2GNQ6lCsX"
   },
   "source": [
    "Escribe aquí tus conclusiones\n",
    "**Podemos observar que los datos de los días y las horas son íntegros y están en un rango de 0 a 23 para las horas y de 0 a 7 para los días**"
   ]
  },
  {
   "cell_type": "markdown",
   "id": "a6743a70",
   "metadata": {
    "id": "a6743a70"
   },
   "source": [
    "### [A2] Para cada hora del día, ¿cuántas personas hacen órdenes?"
   ]
  },
  {
   "cell_type": "code",
   "execution_count": 45,
   "id": "a36cca27",
   "metadata": {
    "id": "a36cca27"
   },
   "outputs": [
    {
     "name": "stdout",
     "output_type": "stream",
     "text": [
      "\n"
     ]
    },
    {
     "data": {
      "image/png": "[encoded data removed]",
      "text/plain": [
       "<Figure size 1000x500 with 1 Axes>"
      ]
     },
     "metadata": {},
     "output_type": "display_data"
    }
   ],
   "source": [
    "hour_series=orders.sort_values(by='order_hour_of_day')['order_hour_of_day'].value_counts()\n",
    "hour_series.sort_index(inplace=True)\n",
    "\n",
    "print()\n",
    "\n",
    "hour_series.plot(kind='bar',title='Number of orders placed by hour of the day',\n",
    "       xlabel='Hour of the day', ylabel='Orders placed', rot=0,figsize=[10,5])\n",
    "plt.show()\n"
   ]
  },
  {
   "cell_type": "markdown",
   "id": "11270eed",
   "metadata": {
    "id": "11270eed"
   },
   "source": [
    "Escribe aquí tus conclusiones\n",
    "\n",
    "**Podemos observar que:**\n",
    "* Las horas en las que nuestros clientes realizan más compras es entre las 10 y 11:59 del día, así como las 2 y las 3:59 de la tarde. nuestros horarios más inactivos a partir de las 9pm y hasta las 6am.\n",
    "\n",
    "**estos comportamientos pueden deberse a que los clientes suelen hacer sus compras durante el desayuno o la comida, siendo un pequeño tiempo libre durante su día para resolver sus compras pendientes de la semana/mes**"
   ]
  },
  {
   "cell_type": "markdown",
   "id": "documented-command",
   "metadata": {
    "id": "documented-command"
   },
   "source": [
    "### [A3] ¿Qué día de la semana compran víveres las personas?"
   ]
  },
  {
   "cell_type": "code",
   "execution_count": 46,
   "id": "chief-digit",
   "metadata": {
    "id": "chief-digit"
   },
   "outputs": [
    {
     "data": {
      "image/png": "[encoded data removed]",
      "text/plain": [
       "<Figure size 640x480 with 1 Axes>"
      ]
     },
     "metadata": {},
     "output_type": "display_data"
    }
   ],
   "source": [
    "#print(orders.head())\n",
    "day=orders['order_dow'].sort_values().value_counts()\n",
    "day.sort_index(inplace=True)\n",
    "index_val=['Sun','Mon', 'Tues','Wed','Thurs','Fri','Sat']\n",
    "day = day.set_axis(index_val)\n",
    "\n",
    "\n",
    "\n",
    "day.plot(kind='bar',title='Orders placed by day of the week',\n",
    "         xlabel='Day of the week', ylabel='Orders placed',rot=45)\n",
    "\n",
    "plt.show()"
   ]
  },
  {
   "cell_type": "markdown",
   "id": "dominant-lightning",
   "metadata": {
    "id": "dominant-lightning"
   },
   "source": [
    "Escribe aquí tus conclusiones\n",
    "\n",
    "**Podemos observar que:**\n",
    "* Los días en los que nuestros clientes realizan más compras son los Domingos y Lunes, el día más inactivo es el Jueves.\n",
    "\n",
    "**estos comportamientos pueden deberse a que los clientes suelen hacer sus compras durante el principal día no laboral (Domingo) o inicio de semana (Lunes) para resolver sus compras pendientes de la semana/mes**"
   ]
  },
  {
   "cell_type": "markdown",
   "id": "cutting-concert",
   "metadata": {
    "id": "cutting-concert"
   },
   "source": [
    "### [A4] ¿Cuánto tiempo esperan las personas hasta hacer otro pedido? Comenta sobre los valores mínimos y máximos."
   ]
  },
  {
   "cell_type": "code",
   "execution_count": 47,
   "id": "c231f523",
   "metadata": {
    "id": "c231f523",
    "scrolled": true
   },
   "outputs": [
    {
     "data": {
      "image/png": "[encoded data removed]",
      "text/plain": [
       "<Figure size 1100x600 with 1 Axes>"
      ]
     },
     "metadata": {},
     "output_type": "display_data"
    }
   ],
   "source": [
    "ord=orders['days_since_prior_order'].sort_values().value_counts()\n",
    "ord.sort_index(inplace=True)\n",
    "\n",
    "\n",
    "ord.plot(kind='bar',title='Days waited to place another order',\n",
    "         xlabel='Days',ylabel='Orders Placed',figsize=[11,6])\n",
    "\n",
    "plt.show()"
   ]
  },
  {
   "cell_type": "markdown",
   "id": "discrete-vertex",
   "metadata": {
    "id": "discrete-vertex"
   },
   "source": [
    "Escribe aquí tus conclusiones\n",
    "\n",
    "**Podemos observar que la mayoría de nuestros clientes realizan sus compras con una frecuencia mensual (cada 30 días), seguido por  semanal (cada 7días) y por último cada 6 días.**\n",
    "\n",
    "* El valor Máximo es una frecuencia de 30 días debido a que nuestros clientes utilizan la aplicación para resurtir sus víveres de manera mensual\n",
    "* el valor Mínimo es una frecuencia de 29 días, posiblemente debido a que no sincroniza con ninguna frecuencia de pago de salarios (mensual, quincenal, semanal) y posiblemente porque nuestros clientes tienen poco presupuesto en esos periodos\n",
    "\n",
    "**esto puede obedecer a la frecuencia de pago de salario en sus trabajos o la organización de su vida familiar**"
   ]
  },
  {
   "cell_type": "markdown",
   "id": "tight-staff",
   "metadata": {
    "id": "tight-staff"
   },
   "source": [
    "# [B]\n",
    "\n",
    "1. ¿Existe alguna diferencia entre las distribuciones `'order_hour_of_day'` de los miércoles y los sábados? Traza gráficos de barra de `'order_hour_of_day'` para ambos días en la misma figura y describe las diferencias que observes.\n",
    "2. Grafica la distribución para el número de órdenes que hacen los clientes (es decir, cuántos clientes hicieron solo 1 pedido, cuántos hicieron 2, cuántos 3, y así sucesivamente...).\n",
    "3. ¿Cuáles son los 20 principales productos que se piden con más frecuencia (muestra su identificación y nombre)?"
   ]
  },
  {
   "cell_type": "markdown",
   "id": "packed-classic",
   "metadata": {
    "id": "packed-classic"
   },
   "source": [
    "### [B1] Diferencia entre miércoles y sábados para  `'order_hour_of_day'`. Traza gráficos de barra para los dos días y describe las diferencias que veas."
   ]
  },
  {
   "cell_type": "code",
   "execution_count": 48,
   "id": "d89b8403",
   "metadata": {
    "id": "d89b8403"
   },
   "outputs": [],
   "source": [
    "\n",
    "day_4 = orders.query(\"order_dow == 4\")\n",
    "day_6= orders.query(\"order_dow == 6\")\n",
    "\n",
    "day_4= day_4[['order_hour_of_day']]\n",
    "day_4=day_4.sort_values(by='order_hour_of_day')\n",
    "day_4=day_4.value_counts().sort_index()\n",
    "\n",
    "\n",
    "day_6= day_6[['order_hour_of_day']]\n",
    "day_6=day_6.sort_values(by='order_hour_of_day')\n",
    "day_6=day_6.value_counts().sort_index()\n"
   ]
  },
  {
   "cell_type": "code",
   "execution_count": 49,
   "id": "797c90a8",
   "metadata": {
    "id": "797c90a8",
    "scrolled": true
   },
   "outputs": [
    {
     "data": {
      "text/plain": [
       "order_hour_of_day\n",
       "0                     324\n",
       "1                     229\n",
       "2                     114\n",
       "3                     109\n",
       "4                     100\n",
       "5                     198\n",
       "6                     594\n",
       "7                    1787\n",
       "8                    3136\n",
       "9                    4332\n",
       "10                   4938\n",
       "11                   4842\n",
       "12                   4433\n",
       "13                   4567\n",
       "14                   4795\n",
       "15                   4795\n",
       "16                   4788\n",
       "17                   4089\n",
       "18                   3379\n",
       "19                   2691\n",
       "20                   2037\n",
       "21                   1506\n",
       "22                   1236\n",
       "23                    791\n",
       "Name: Wednesday, dtype: int64"
      ]
     },
     "execution_count": 49,
     "metadata": {},
     "output_type": "execute_result"
    }
   ],
   "source": [
    "day_6.rename('Saturday',inplace=True)\n",
    "day_4.rename('Wednesday',inplace=True)"
   ]
  },
  {
   "cell_type": "code",
   "execution_count": 50,
   "id": "a729c33f",
   "metadata": {
    "scrolled": true
   },
   "outputs": [],
   "source": [
    "mdf=pd.merge(day_4,day_6, left_index=True, right_index=True)\n",
    "\n",
    "mdf.reset_index(inplace=True,drop=True)"
   ]
  },
  {
   "cell_type": "code",
   "execution_count": 51,
   "id": "35bcea30",
   "metadata": {
    "id": "35bcea30"
   },
   "outputs": [
    {
     "data": {
      "text/plain": [
       "<AxesSubplot:title={'center':'Orders by hour on Wednesday and Saturday'}, xlabel='Hours of the day', ylabel='Orders placed'>"
      ]
     },
     "execution_count": 51,
     "metadata": {},
     "output_type": "execute_result"
    },
    {
     "data": {
      "image/png": "[encoded data removed]",
      "text/plain": [
       "<Figure size 1200x500 with 1 Axes>"
      ]
     },
     "metadata": {},
     "output_type": "display_data"
    }
   ],
   "source": [
    "mdf.plot(kind='bar',rot=0,title='Orders by hour on Wednesday and Saturday',\n",
    "        xlabel='Hours of the day',ylabel='Orders placed',figsize=[12,5])"
   ]
  },
  {
   "cell_type": "markdown",
   "id": "charitable-congo",
   "metadata": {
    "id": "charitable-congo"
   },
   "source": [
    "Escribe aquí tus conclusiones\n",
    "**Podemos observar que:**\n",
    "* los Miércoles los clientes suelen realizar sus pedidos entre las 10am y 11:59am, esto puede deberse a que es un día hábil y suelen hacer sus compras durante el desayuno o en algún momento libre durante el trabajo\n",
    "* los Sábados los clientes suelen realizar sus compras entre las 11am y 14:59pm, esto puede deberse a que es un día de descanso laboral y aprovechan para resolver sus necesidades de compras durante el tiempo libre.\n"
   ]
  },
  {
   "cell_type": "markdown",
   "id": "e3891143",
   "metadata": {
    "id": "e3891143"
   },
   "source": [
    "### [B2] ¿Cuál es la distribución para el número de pedidos por cliente?"
   ]
  },
  {
   "cell_type": "code",
   "execution_count": 52,
   "id": "d8c26c23",
   "metadata": {
    "id": "d8c26c23",
    "scrolled": false
   },
   "outputs": [
    {
     "name": "stdout",
     "output_type": "stream",
     "text": [
      "         order_id  order_number  order_dow  order_hour_of_day  \\\n",
      "user_id                                                         \n",
      "152331          1             1          1                  1   \n",
      "139876          1             1          1                  1   \n",
      "60408           1             1          1                  1   \n",
      "139873          1             1          1                  1   \n",
      "139871          1             1          1                  1   \n",
      "...           ...           ...        ...                ...   \n",
      "47490           4             4          4                  4   \n",
      "108687          4             4          4                  4   \n",
      "142035          4             4          4                  4   \n",
      "21024           4             4          4                  4   \n",
      "181950          4             4          4                  4   \n",
      "\n",
      "         days_since_prior_order  \n",
      "user_id                          \n",
      "152331                        1  \n",
      "139876                        1  \n",
      "60408                         0  \n",
      "139873                        1  \n",
      "139871                        1  \n",
      "...                         ...  \n",
      "47490                         4  \n",
      "108687                        4  \n",
      "142035                        4  \n",
      "21024                         4  \n",
      "181950                        4  \n",
      "\n",
      "[126910 rows x 5 columns]\n"
     ]
    }
   ],
   "source": [
    "df_orders =orders.groupby('user_id').count().sort_values(by='order_id')\n",
    "\n",
    "print(df_orders[df_orders['order_id']<5])"
   ]
  },
  {
   "cell_type": "code",
   "execution_count": 53,
   "id": "704e9745",
   "metadata": {
    "scrolled": false
   },
   "outputs": [
    {
     "data": {
      "text/plain": [
       "Text(0, 0.5, 'Frequency of orders placed')"
      ]
     },
     "execution_count": 53,
     "metadata": {},
     "output_type": "execute_result"
    },
    {
     "data": {
      "image/png": "[encoded data removed]",
      "text/plain": [
       "<Figure size 1000x700 with 1 Axes>"
      ]
     },
     "metadata": {},
     "output_type": "display_data"
    }
   ],
   "source": [
    "df_orders['order_id'].hist(edgecolor='black',figsize=[10,7])\n",
    "plt.title('Frecuency of orders placed')\n",
    "plt.xlabel('Number of Orders made by users')\n",
    "plt.ylabel('Frequency of orders placed')"
   ]
  },
  {
   "cell_type": "markdown",
   "id": "d2eff7d5",
   "metadata": {
    "id": "d2eff7d5"
   },
   "source": [
    "Escribe aquí tus conclusiones\n",
    "\n",
    "**Podemos observar que la mayoría de los clientes realiza entre 1 y 4 pedidos  esto por la Frecuencia observada mayor a 100,000 veces, esto podría indicar que la mayor parte de los clientes son relativamente nuevos y están construyendo lealtad con la plataforma** \n",
    "\n",
    "**Nota**\n",
    "* si tuvieramos información respecto a cuantos clientes están activos (no dados de baja) en el momento del estudio, podríamos determinar si la cantidad alta de usuarios que realizan entre 1 y 4 pedidos son porque están construyendo lealtad, o por el contrario, son porque los clientes no realizan más de 4 pedidos y abandonan la plataforma"
   ]
  },
  {
   "cell_type": "markdown",
   "id": "54a0319c",
   "metadata": {
    "id": "54a0319c"
   },
   "source": [
    "### [B3] ¿Cuáles son los 20 productos más populares (muestra su ID y nombre)?"
   ]
  },
  {
   "cell_type": "code",
   "execution_count": 54,
   "id": "exterior-arizona",
   "metadata": {
    "id": "exterior-arizona",
    "scrolled": true
   },
   "outputs": [
    {
     "name": "stdout",
     "output_type": "stream",
     "text": [
      "order_id             False\n",
      "product_id           False\n",
      "add_to_cart_order    False\n",
      "reordered            False\n",
      "product_name         False\n",
      "aisle_id             False\n",
      "department_id        False\n",
      "dtype: bool\n",
      "\n",
      "   order_id  product_id  add_to_cart_order  reordered  \\\n",
      "0   2141543       11440                 17          0   \n",
      "1    147172       11440                  7          1   \n",
      "2   3341719       11440                  4          1   \n",
      "3   1938779       11440                  8          1   \n",
      "4   1728338       11440                 23          0   \n",
      "\n",
      "                     product_name  aisle_id  department_id  \n",
      "0  CHICKEN BREAST TENDERS BREADED       129              1  \n",
      "1  CHICKEN BREAST TENDERS BREADED       129              1  \n",
      "2  CHICKEN BREAST TENDERS BREADED       129              1  \n",
      "3  CHICKEN BREAST TENDERS BREADED       129              1  \n",
      "4  CHICKEN BREAST TENDERS BREADED       129              1  \n"
     ]
    }
   ],
   "source": [
    "merged_df= pd.merge(order_products, products, on='product_id')\n",
    "\n",
    "print(merged_df.isna().any())\n",
    "print()\n",
    "print(merged_df.head(5))"
   ]
  },
  {
   "cell_type": "code",
   "execution_count": 55,
   "id": "universal-facial",
   "metadata": {
    "id": "universal-facial"
   },
   "outputs": [
    {
     "name": "stdout",
     "output_type": "stream",
     "text": [
      "product_id\n",
      "24852    66050\n",
      "13176    53297\n",
      "21137    37039\n",
      "21903    33971\n",
      "47209    29773\n",
      "Name: order_id, dtype: int64\n"
     ]
    }
   ],
   "source": [
    "top_20=merged_df.groupby(by='product_id').count().sort_values(by='order_id',ascending=False)\n",
    "top_serie=top_20['order_id']\n",
    "print(top_serie.head(5))\n"
   ]
  },
  {
   "cell_type": "code",
   "execution_count": 56,
   "id": "bbcdd20b",
   "metadata": {
    "id": "bbcdd20b"
   },
   "outputs": [
    {
     "name": "stdout",
     "output_type": "stream",
     "text": [
      "    product_id              product_name\n",
      "0        24852                    BANANA\n",
      "1        13176    BAG OF ORGANIC BANANAS\n",
      "2        21137      ORGANIC STRAWBERRIES\n",
      "3        21903      ORGANIC BABY SPINACH\n",
      "4        47209      ORGANIC HASS AVOCADO\n",
      "5        47766           ORGANIC AVOCADO\n",
      "6        47626               LARGE LEMON\n",
      "7        16797              STRAWBERRIES\n",
      "8        26209                     LIMES\n",
      "9        27845        ORGANIC WHOLE MILK\n",
      "10       27966       ORGANIC RASPBERRIES\n",
      "11       22935      ORGANIC YELLOW ONION\n",
      "12       24964            ORGANIC GARLIC\n",
      "13       45007          ORGANIC ZUCCHINI\n",
      "14       39275       ORGANIC BLUEBERRIES\n",
      "15       49683            CUCUMBER KIRBY\n",
      "16       28204        ORGANIC FUJI APPLE\n",
      "17        5876             ORGANIC LEMON\n",
      "18        8277  APPLE HONEYCRISP ORGANIC\n",
      "19       40706    ORGANIC GRAPE TOMATOES\n"
     ]
    }
   ],
   "source": [
    "prod_test =products[['product_id','product_name']]\n",
    "merged_top= pd.merge(prod_test,top_serie ,left_on='product_id',right_index=True)\n",
    "\n",
    "print(merged_top.sort_values(by='order_id', ascending=False).reset_index()[['product_id','product_name']].head(20))\n"
   ]
  },
  {
   "cell_type": "markdown",
   "id": "7df00f47",
   "metadata": {
    "id": "7df00f47"
   },
   "source": [
    "Escribe aquí tus conclusiones\n",
    "\n",
    "**Podemos observar que el producto más vendido son las 'bananas' y dentro del top 20 de productos la mayoría son víveres y consumibles**"
   ]
  },
  {
   "cell_type": "markdown",
   "id": "gross-theme",
   "metadata": {
    "id": "gross-theme"
   },
   "source": [
    "# [C]\n",
    "\n",
    "1. ¿Cuántos artículos suelen comprar las personas en un pedido? ¿Cómo es la distribución?\n",
    "2. ¿Cuáles son los 20 principales artículos que vuelven a pedirse con mayor frecuencia (muestra sus nombres e IDs de los productos)?\n",
    "3. Para cada producto, ¿cuál es la tasa de repetición del pedido (número de repeticiones de pedido/total de pedidos?\n",
    "4. Para cada cliente, ¿qué proporción de los productos que pidió ya los había pedido? Calcula la tasa de repetición de pedido para cada usuario en lugar de para cada producto.\n",
    "5. ¿Cuáles son los 20 principales artículos que la gente pone primero en sus carritos (muestra las IDs de los productos, sus nombres, y el número de veces en que fueron el primer artículo en añadirse al carrito)?"
   ]
  },
  {
   "cell_type": "markdown",
   "id": "romantic-deposit",
   "metadata": {
    "id": "romantic-deposit"
   },
   "source": [
    "### [C1] ¿Cuántos artículos compran normalmente las personas en un pedido? ¿Cómo es la distribución?"
   ]
  },
  {
   "cell_type": "code",
   "execution_count": 57,
   "id": "virtual-punch",
   "metadata": {
    "id": "virtual-punch"
   },
   "outputs": [
    {
     "name": "stdout",
     "output_type": "stream",
     "text": [
      "        product_id  add_to_cart_order  reordered\n",
      "0                1                  1          1\n",
      "1                1                  1          1\n",
      "2                1                  1          1\n",
      "3                1                  1          1\n",
      "4                1                  1          1\n",
      "...            ...                ...        ...\n",
      "450041          98                 98         98\n",
      "450042         104                104        104\n",
      "450043         108                108        108\n",
      "450044         115                115        115\n",
      "450045         127                127        127\n",
      "\n",
      "[450046 rows x 3 columns]\n",
      "        product_id  add_to_cart_order  reordered\n",
      "0                1                  1          1\n",
      "1                1                  1          1\n",
      "2                1                  1          1\n",
      "3                1                  1          1\n",
      "4                1                  1          1\n",
      "...            ...                ...        ...\n",
      "335648          13                 13         13\n",
      "335649          13                 13         13\n",
      "335650          13                 13         13\n",
      "335651          13                 13         13\n",
      "335652          13                 13         13\n",
      "\n",
      "[335653 rows x 3 columns]\n"
     ]
    }
   ],
   "source": [
    "order_df=order_products.groupby(by='order_id').count().sort_values(by='product_id').reset_index(drop=True)\n",
    "print(order_df)\n",
    "\n",
    "print(order_df[order_df['product_id']<14])"
   ]
  },
  {
   "cell_type": "code",
   "execution_count": 58,
   "id": "sensitive-breathing",
   "metadata": {
    "id": "sensitive-breathing"
   },
   "outputs": [
    {
     "data": {
      "text/plain": [
       "Text(0, 0.5, 'Quantity of orders placed')"
      ]
     },
     "execution_count": 58,
     "metadata": {},
     "output_type": "execute_result"
    },
    {
     "data": {
      "image/png": "[encoded data removed]",
      "text/plain": [
       "<Figure size 1000x1000 with 1 Axes>"
      ]
     },
     "metadata": {},
     "output_type": "display_data"
    }
   ],
   "source": [
    "order_df['product_id'].hist(figsize=[10,10],edgecolor='black')\n",
    "plt.title('Quantity of products by orders placed')\n",
    "plt.xlabel('Quantity of products')\n",
    "plt.ylabel('Quantity of orders placed')"
   ]
  },
  {
   "cell_type": "markdown",
   "id": "designed-mortality",
   "metadata": {
    "id": "designed-mortality"
   },
   "source": [
    "Escribe aquí tus conclusiones\n",
    "\n",
    "**Podemos observar que la mayoría de los clientes ingresa menos de 15 productos en sus pedidos, observamos una frecuencia mayor a 325,000 pedidos con menos de 15 productos, seguido por ceerca de 100,000 pedidos con menos de 25 productos**"
   ]
  },
  {
   "cell_type": "markdown",
   "id": "5e6b5537",
   "metadata": {
    "id": "5e6b5537"
   },
   "source": [
    "### [C2] ¿Cuáles son los 20 principales artículos que vuelven a pedirse con mayor frecuencia (muestra sus nombres e IDs de los productos)?"
   ]
  },
  {
   "cell_type": "code",
   "execution_count": 59,
   "id": "9374e55a",
   "metadata": {
    "id": "9374e55a",
    "scrolled": true
   },
   "outputs": [
    {
     "name": "stdout",
     "output_type": "stream",
     "text": [
      "   order_id  product_id  add_to_cart_order  reordered  \\\n",
      "1    147172       11440                  7          1   \n",
      "2   3341719       11440                  4          1   \n",
      "3   1938779       11440                  8          1   \n",
      "7    331884       11440                  5          1   \n",
      "8   1869056       11440                 12          1   \n",
      "\n",
      "                     product_name  aisle_id  department_id  \n",
      "1  CHICKEN BREAST TENDERS BREADED       129              1  \n",
      "2  CHICKEN BREAST TENDERS BREADED       129              1  \n",
      "3  CHICKEN BREAST TENDERS BREADED       129              1  \n",
      "7  CHICKEN BREAST TENDERS BREADED       129              1  \n",
      "8  CHICKEN BREAST TENDERS BREADED       129              1  \n"
     ]
    }
   ],
   "source": [
    "#Filtramos del dataframe merged los product_id que si hayan sido reordenados\n",
    "reordered = merged_df[merged_df['reordered']==1]\n",
    "print(reordered.head())\n"
   ]
  },
  {
   "cell_type": "code",
   "execution_count": 60,
   "id": "0b41fb0e",
   "metadata": {},
   "outputs": [
    {
     "name": "stdout",
     "output_type": "stream",
     "text": [
      "            order_id  add_to_cart_order  reordered  product_name  aisle_id  \\\n",
      "product_id                                                                   \n",
      "24852          55763              55763      55763         55763     55763   \n",
      "13176          44450              44450      44450         44450     44450   \n",
      "21137          28639              28639      28639         28639     28639   \n",
      "21903          26233              26233      26233         26233     26233   \n",
      "47209          23629              23629      23629         23629     23629   \n",
      "\n",
      "            department_id  \n",
      "product_id                 \n",
      "24852               55763  \n",
      "13176               44450  \n",
      "21137               28639  \n",
      "21903               26233  \n",
      "47209               23629  \n"
     ]
    }
   ],
   "source": [
    "#agrupamos el dataframe por product_id y contamos las incidencias\n",
    "reordered=reordered.groupby('product_id').count().sort_values(by='reordered',ascending=False).head(20)\n",
    "\n",
    "print(reordered.head())"
   ]
  },
  {
   "cell_type": "code",
   "execution_count": 61,
   "id": "professional-surfing",
   "metadata": {
    "id": "professional-surfing",
    "scrolled": true
   },
   "outputs": [
    {
     "name": "stdout",
     "output_type": "stream",
     "text": [
      "product_id\n",
      "24852    55763\n",
      "13176    44450\n",
      "21137    28639\n",
      "21903    26233\n",
      "47209    23629\n",
      "Name: order_id, dtype: int64\n"
     ]
    }
   ],
   "source": [
    "#generamos una serie del dataframe anterior donde conservamos el product_id (indice) y la cuenta de incidencias\n",
    "reordered_serie= reordered['order_id']\n",
    "print(reordered_serie.head())"
   ]
  },
  {
   "cell_type": "code",
   "execution_count": 62,
   "id": "48dd3658",
   "metadata": {
    "id": "48dd3658",
    "scrolled": false
   },
   "outputs": [
    {
     "name": "stdout",
     "output_type": "stream",
     "text": [
      "    product_id              product_name\n",
      "0        24852                    BANANA\n",
      "1        13176    BAG OF ORGANIC BANANAS\n",
      "2        21137      ORGANIC STRAWBERRIES\n",
      "3        21903      ORGANIC BABY SPINACH\n",
      "4        47209      ORGANIC HASS AVOCADO\n",
      "5        47766           ORGANIC AVOCADO\n",
      "6        27845        ORGANIC WHOLE MILK\n",
      "7        47626               LARGE LEMON\n",
      "8        27966       ORGANIC RASPBERRIES\n",
      "9        16797              STRAWBERRIES\n",
      "10       26209                     LIMES\n",
      "11       22935      ORGANIC YELLOW ONION\n",
      "12       24964            ORGANIC GARLIC\n",
      "13       45007          ORGANIC ZUCCHINI\n",
      "14       49683            CUCUMBER KIRBY\n",
      "15       28204        ORGANIC FUJI APPLE\n",
      "16        8277  APPLE HONEYCRISP ORGANIC\n",
      "17       39275       ORGANIC BLUEBERRIES\n",
      "18        5876             ORGANIC LEMON\n",
      "19       49235       ORGANIC HALF & HALF\n"
     ]
    }
   ],
   "source": [
    "#imprimimos el merged df ordenando los valores de manera descendente y conservando solo su nombre y product id\n",
    "prod_test =products[['product_id','product_name']]\n",
    "merged_top_reordered= pd.merge(prod_test,reordered_serie ,left_on='product_id',right_index=True)\n",
    "print(merged_top_reordered.sort_values(by='order_id', ascending=False).reset_index()[['product_id','product_name']].head(20))"
   ]
  },
  {
   "cell_type": "markdown",
   "id": "80e70c74",
   "metadata": {
    "id": "80e70c74"
   },
   "source": [
    "\n",
    "\n",
    "**podemos observar que la mayoría de víveres son los productos que se vuelven a ordenar, cabe mencionar que observamos que la mayoría de los artículos top 20 vendidos , son los top 20 que se vuelven a ordenar, sin embargo hay algunos cambios en la frecuencia de orden así como algunos pocos artículos que no figuran en el top 20 más vendidos, pero sin en el top 20 más reordenados**"
   ]
  },
  {
   "cell_type": "markdown",
   "id": "9d312b14",
   "metadata": {
    "id": "9d312b14"
   },
   "source": [
    "### [C3] Para cada producto, ¿cuál es la proporción de las veces que se pide y que se vuelve a pedir?"
   ]
  },
  {
   "cell_type": "code",
   "execution_count": 63,
   "id": "f7a5492a",
   "metadata": {},
   "outputs": [],
   "source": [
    "orders_merged = pd.merge(merged_df,orders,on='order_id')"
   ]
  },
  {
   "cell_type": "code",
   "execution_count": 64,
   "id": "8ae9f4b1",
   "metadata": {
    "id": "8ae9f4b1",
    "scrolled": false
   },
   "outputs": [
    {
     "name": "stdout",
     "output_type": "stream",
     "text": [
      "reordered                                        0     1  reordered_rate\n",
      "product_name                                                            \n",
      "#2 COFFEE FILTERS                             82.0  28.0        0.254545\n",
      "#4 NATURAL BROWN COFFEE FILTERS               25.0  14.0        0.358974\n",
      "& GO! HAZELNUT SPREAD + PRETZEL STICKS         8.0   7.0        0.466667\n",
      "+ENERGY BLACK CHERRY VEGETABLE & FRUIT JUICE   4.0   3.0        0.428571\n",
      "0 CALORIE ACAI RASPBERRY WATER BEVERAGE        5.0   7.0        0.583333\n",
      "0.46014896771560676\n"
     ]
    }
   ],
   "source": [
    "piv_orders_merged=orders_merged[['product_name','reordered','product_id']]\n",
    "\n",
    "pivot_df =piv_orders_merged.pivot_table(index='product_name',\n",
    "                          columns='reordered',\n",
    "                            values='product_id',\n",
    "                          aggfunc='count')\n",
    "\n",
    "pivot_df=pivot_df.dropna(axis=0)\n",
    "pivot_df['reordered_rate']=pivot_df[1]/(pivot_df[0] +pivot_df[1])\n",
    "print(pivot_df.head())\n",
    "print(pivot_df['reordered_rate'].mean())\n",
    "\n"
   ]
  },
  {
   "cell_type": "code",
   "execution_count": 65,
   "id": "103e7fe1",
   "metadata": {
    "id": "103e7fe1",
    "scrolled": true
   },
   "outputs": [
    {
     "data": {
      "text/plain": [
       "Text(0, 0.5, 'Frequency of products')"
      ]
     },
     "execution_count": 65,
     "metadata": {},
     "output_type": "execute_result"
    },
    {
     "data": {
      "image/png": "[encoded data removed]",
      "text/plain": [
       "<Figure size 640x480 with 1 Axes>"
      ]
     },
     "metadata": {},
     "output_type": "display_data"
    }
   ],
   "source": [
    "pivot_df['reordered_rate'].hist()\n",
    "plt.title('Ratio of products that gets reordered')\n",
    "plt.xlabel('Reordered rate')\n",
    "plt.ylabel('Frequency of products')"
   ]
  },
  {
   "cell_type": "markdown",
   "id": "I10dEIAyldcO",
   "metadata": {
    "id": "I10dEIAyldcO"
   },
   "source": [
    "Escribe aquí tus conclusiones\n",
    "\n",
    "**Podemos observar que la mayor parte de los productos se reordenan con una taza entre el 45% a 55% , observamos aproximadamente 7500 productos con este comportamiento**"
   ]
  },
  {
   "cell_type": "markdown",
   "id": "subject-boxing",
   "metadata": {
    "id": "subject-boxing"
   },
   "source": [
    "### [C4] Para cada cliente, ¿qué proporción de sus productos ya los había pedido?"
   ]
  },
  {
   "cell_type": "code",
   "execution_count": 66,
   "id": "medical-couple",
   "metadata": {
    "id": "medical-couple",
    "scrolled": false
   },
   "outputs": [
    {
     "name": "stdout",
     "output_type": "stream",
     "text": [
      "reordered     0     1  reordered_rate\n",
      "user_id                              \n",
      "2          25.0   1.0        0.038462\n",
      "5           4.0   8.0        0.666667\n",
      "7           1.0  13.0        0.928571\n",
      "11         12.0   3.0        0.200000\n",
      "12          9.0   3.0        0.250000\n",
      "0.5281246130162509\n"
     ]
    }
   ],
   "source": [
    "piv_orders_merged_2=orders_merged[['product_name','reordered','product_id','user_id']]\n",
    "\n",
    "pivot_df_2 =piv_orders_merged_2.pivot_table(index='user_id',\n",
    "                          columns='reordered',\n",
    "                            values='product_id',\n",
    "                          aggfunc='count')\n",
    "\n",
    "pivot_df_2=pivot_df_2.dropna(axis=0)\n",
    "pivot_df_2['reordered_rate']=pivot_df_2[1]/(pivot_df_2[0] +pivot_df_2[1])\n",
    "print(pivot_df_2.head())\n",
    "print(pivot_df_2['reordered_rate'].mean())"
   ]
  },
  {
   "cell_type": "code",
   "execution_count": 67,
   "id": "8892e4b4",
   "metadata": {
    "id": "8892e4b4",
    "scrolled": true
   },
   "outputs": [
    {
     "data": {
      "text/plain": [
       "Text(0, 0.5, 'Frequency of clients')"
      ]
     },
     "execution_count": 67,
     "metadata": {},
     "output_type": "execute_result"
    },
    {
     "data": {
      "image/png": "[encoded data removed]",
      "text/plain": [
       "<Figure size 640x480 with 1 Axes>"
      ]
     },
     "metadata": {},
     "output_type": "display_data"
    }
   ],
   "source": [
    "pivot_df_2['reordered_rate'].hist()\n",
    "plt.title('Ratio of products that gets reordered by client')\n",
    "plt.xlabel('Reordered products rate')\n",
    "plt.ylabel('Frequency of clients')"
   ]
  },
  {
   "cell_type": "markdown",
   "id": "BgJSvXDsleXz",
   "metadata": {
    "id": "BgJSvXDsleXz"
   },
   "source": [
    "Escribe aquí tus conclusiones\n",
    "\n",
    "**Podemos observar que aproximadamente el 45% a 55% de los productos pedidos por cada cliente son reordenados, teniendo una frecuencia superior a las 175,000 incidencias**"
   ]
  },
  {
   "cell_type": "markdown",
   "id": "92d35137",
   "metadata": {
    "id": "92d35137"
   },
   "source": [
    "### [C5] ¿Cuáles son los 20 principales artículos que las personas ponen primero en sus carritos?"
   ]
  },
  {
   "cell_type": "code",
   "execution_count": 68,
   "id": "0ae57274",
   "metadata": {
    "id": "0ae57274",
    "scrolled": false
   },
   "outputs": [
    {
     "name": "stdout",
     "output_type": "stream",
     "text": [
      "   order_id  product_id  add_to_cart_order  reordered  \\\n",
      "0   2141543       11440                 17          0   \n",
      "1   2141543       24561                 13          1   \n",
      "2   2141543       13176                  2          1   \n",
      "3   2141543       31869                 15          1   \n",
      "4   2141543       16759                  5          1   \n",
      "\n",
      "                     product_name  aisle_id  department_id  user_id  \\\n",
      "0  CHICKEN BREAST TENDERS BREADED       129              1    58454   \n",
      "1     ORGANIC CHEESE FROZEN PIZZA        79              1    58454   \n",
      "2          BAG OF ORGANIC BANANAS        24              4    58454   \n",
      "3                 ORGANIC EDAMAME       116              1    58454   \n",
      "4            ORGANIC CARROT BUNCH        83              4    58454   \n",
      "\n",
      "   order_number  order_dow  order_hour_of_day  days_since_prior_order  \n",
      "0            25          0                 15                     8.0  \n",
      "1            25          0                 15                     8.0  \n",
      "2            25          0                 15                     8.0  \n",
      "3            25          0                 15                     8.0  \n",
      "4            25          0                 15                     8.0  \n"
     ]
    }
   ],
   "source": [
    "print(orders_merged.head(5))"
   ]
  },
  {
   "cell_type": "code",
   "execution_count": 69,
   "id": "forty-netherlands",
   "metadata": {
    "id": "forty-netherlands",
    "scrolled": true
   },
   "outputs": [
    {
     "name": "stdout",
     "output_type": "stream",
     "text": [
      "product_id\n",
      "24852    15562\n",
      "13176    11026\n",
      "27845     4363\n",
      "21137     3946\n",
      "47209     3390\n",
      "21903     3336\n",
      "47766     3044\n",
      "19660     2336\n",
      "16797     2308\n",
      "27966     2024\n",
      "44632     1914\n",
      "49235     1797\n",
      "47626     1737\n",
      "196       1733\n",
      "38689     1397\n",
      "26209     1370\n",
      "12341     1340\n",
      "5785      1310\n",
      "27086     1309\n",
      "43352     1246\n",
      "Name: order_id, dtype: int64\n"
     ]
    }
   ],
   "source": [
    "first_added= orders_merged[orders_merged['add_to_cart_order']==1]\n",
    "first_added =first_added.groupby('product_id').count().sort_values(by='order_id',ascending=False).head(20)\n",
    "first_added_series= first_added['order_id']\n",
    "print(first_added_series)\n"
   ]
  },
  {
   "cell_type": "code",
   "execution_count": 70,
   "id": "08e41ec2",
   "metadata": {
    "id": "08e41ec2"
   },
   "outputs": [
    {
     "name": "stdout",
     "output_type": "stream",
     "text": [
      "    product_id                 product_name\n",
      "0        24852                       BANANA\n",
      "1        13176       BAG OF ORGANIC BANANAS\n",
      "2        27845           ORGANIC WHOLE MILK\n",
      "3        21137         ORGANIC STRAWBERRIES\n",
      "4        47209         ORGANIC HASS AVOCADO\n",
      "5        21903         ORGANIC BABY SPINACH\n",
      "6        47766              ORGANIC AVOCADO\n",
      "7        19660                 SPRING WATER\n",
      "8        16797                 STRAWBERRIES\n",
      "9        27966          ORGANIC RASPBERRIES\n",
      "10       44632   SPARKLING WATER GRAPEFRUIT\n",
      "11       49235          ORGANIC HALF & HALF\n",
      "12       47626                  LARGE LEMON\n",
      "13         196                         SODA\n",
      "14       38689     ORGANIC REDUCED FAT MILK\n",
      "15       26209                        LIMES\n",
      "16       12341                HASS AVOCADOS\n",
      "17        5785  ORGANIC REDUCED FAT 2% MILK\n",
      "18       27086                  HALF & HALF\n",
      "19       43352                  RASPBERRIES\n"
     ]
    }
   ],
   "source": [
    "prod_test =products[['product_id','product_name']]\n",
    "merged_first_added= pd.merge(prod_test,first_added_series ,left_on='product_id',right_index=True).sort_values(by='order_id',ascending=False).reset_index()\n",
    "print(merged_first_added[['product_id','product_name']])"
   ]
  },
  {
   "cell_type": "markdown",
   "id": "28ce9872",
   "metadata": {
    "id": "28ce9872"
   },
   "source": [
    "Escribe aquí tus conclusiones\n",
    "\n",
    "**Podemos observar que las 'bananas' siguen siendo el producto preferido por los clientes, incluso para ser el primero en ser depositado en el carrito de compras, podemos observar que la lista de los top 20 productos primeros en ser ordenados, tiene una buena similitud con los top 20 productos pedidos en general**"
   ]
  },
  {
   "cell_type": "markdown",
   "id": "uITbFCEoDosC",
   "metadata": {
    "id": "uITbFCEoDosC"
   },
   "source": [
    "### Conclusion general del proyecto:"
   ]
  },
  {
   "cell_type": "markdown",
   "id": "71b5a54a",
   "metadata": {
    "id": "Nk-4GS7mDwqY"
   },
   "source": [
    "**En este proyecto exploramos diferentes puntos muy importantes del análisis de datos, comenzamos con la lectura normalización de los datos, realizamos partes fundamentales el proceso ETL ,tratando valores duplicados, ausentes y normalización de variables, me pareció muy retador e interesante trabajar con datos reales y \"sin tanta\" ayuda, debido a que no sabía si los datos filtrados que estaba obteniendo eran correctos o incorrectos.**\n",
    "\n",
    "\n",
    "**Puntualmente respecto al análisis realizado, pudimos observar que nuestros clientes:**\n",
    "* Suelen realizar sus compras los Domingos y Lunes\n",
    "* Utilizan la plataforma en su mayoría para hacer compras de víveres\n",
    "* Suelen comprar durante la mañana o las primeras horas de la tarde\n",
    "* Suelen comprar con una frecuencia de 7,14 y 30 días\n",
    "* La mayoría de ellos ha realizado menos de 5 pedidos\n",
    "\n",
    "**También observamos que:**\n",
    "\n",
    "* La taza de reorden de los productos oscila en un 46\n",
    "* La taza de reorden de los productos por orden de cliente oscila en un 52\n",
    "* Tuvimos algunas discrepancias en el sistema el miércoles a las 2am lo que ocasionó que algunas órdenes se repitieran\n",
    "* Dentro de los principales productos observamos que la Banana es el producto preferido de los clientes\n",
    "* La mayoría de clientes suele pedir menos de 15 productos por orden\n",
    "* El producto que más se reordena es la Banana\n",
    "* El producto que los clientes añaden primero en el carrito es la Banana\n",
    "\n",
    "\n",
    "**######Nota########**\n",
    "\n",
    "\n",
    "Decidí añadir la sección 2.1 debido a que me hacía sentido realizar ese análisis previo respecto a los pasillos y departamentos con valores 'missing' para poder llegar a las primeras conclusiones de manera adecuada, sin embargo desarrollo los mismos puntos más adelante en el orden que se sugiere.\n"
   ]
  }
 ],
 "metadata": {
  "ExecuteTimeLog": [
   {
    "duration": 4145,
    "start_time": "2024-07-24T08:28:41.395Z"
   },
   {
    "duration": 1686,
    "start_time": "2024-07-24T08:28:45.544Z"
   },
   {
    "duration": 19,
    "start_time": "2024-07-24T08:28:47.233Z"
   },
   {
    "duration": 41,
    "start_time": "2024-07-24T08:28:47.254Z"
   },
   {
    "duration": 14,
    "start_time": "2024-07-24T08:28:47.299Z"
   },
   {
    "duration": 14,
    "start_time": "2024-07-24T08:28:47.316Z"
   },
   {
    "duration": 72,
    "start_time": "2024-07-24T08:28:47.332Z"
   },
   {
    "duration": 44,
    "start_time": "2024-07-24T08:28:47.406Z"
   },
   {
    "duration": 46,
    "start_time": "2024-07-24T08:28:47.453Z"
   },
   {
    "duration": 17,
    "start_time": "2024-07-24T08:28:47.502Z"
   },
   {
    "duration": 16,
    "start_time": "2024-07-24T08:28:47.522Z"
   },
   {
    "duration": 54,
    "start_time": "2024-07-24T08:28:47.541Z"
   },
   {
    "duration": 101,
    "start_time": "2024-07-24T08:28:47.598Z"
   },
   {
    "duration": 14,
    "start_time": "2024-07-24T08:28:47.707Z"
   },
   {
    "duration": 212,
    "start_time": "2024-07-24T08:28:47.724Z"
   },
   {
    "duration": 165,
    "start_time": "2024-07-24T08:28:47.941Z"
   },
   {
    "duration": 94,
    "start_time": "2024-07-24T08:28:48.109Z"
   },
   {
    "duration": 24,
    "start_time": "2024-07-24T08:28:48.206Z"
   },
   {
    "duration": 6,
    "start_time": "2024-07-24T08:28:48.233Z"
   },
   {
    "duration": 75,
    "start_time": "2024-07-24T08:28:48.243Z"
   },
   {
    "duration": 17,
    "start_time": "2024-07-24T08:28:48.320Z"
   },
   {
    "duration": 6,
    "start_time": "2024-07-24T08:28:48.340Z"
   },
   {
    "duration": 46,
    "start_time": "2024-07-24T08:28:48.349Z"
   },
   {
    "duration": 8,
    "start_time": "2024-07-24T08:28:48.398Z"
   },
   {
    "duration": 10,
    "start_time": "2024-07-24T08:28:48.409Z"
   },
   {
    "duration": 7,
    "start_time": "2024-07-24T08:28:48.422Z"
   },
   {
    "duration": 1358,
    "start_time": "2024-07-24T08:28:48.432Z"
   },
   {
    "duration": 1794,
    "start_time": "2024-07-24T08:28:49.793Z"
   },
   {
    "duration": 13,
    "start_time": "2024-07-24T08:28:51.590Z"
   },
   {
    "duration": 9,
    "start_time": "2024-07-24T08:28:51.607Z"
   },
   {
    "duration": 9,
    "start_time": "2024-07-24T08:28:51.619Z"
   },
   {
    "duration": 10,
    "start_time": "2024-07-24T08:28:51.631Z"
   },
   {
    "duration": 12,
    "start_time": "2024-07-24T08:28:51.691Z"
   },
   {
    "duration": 20,
    "start_time": "2024-07-24T08:28:51.706Z"
   },
   {
    "duration": 61,
    "start_time": "2024-07-24T08:28:51.729Z"
   },
   {
    "duration": 20,
    "start_time": "2024-07-24T08:28:51.793Z"
   },
   {
    "duration": 17,
    "start_time": "2024-07-24T08:28:51.816Z"
   },
   {
    "duration": 69,
    "start_time": "2024-07-24T08:28:51.838Z"
   },
   {
    "duration": 51,
    "start_time": "2024-07-24T08:28:51.911Z"
   },
   {
    "duration": 30,
    "start_time": "2024-07-24T08:28:51.965Z"
   },
   {
    "duration": 59,
    "start_time": "2024-07-24T08:28:52.004Z"
   },
   {
    "duration": 102,
    "start_time": "2024-07-24T08:28:52.090Z"
   },
   {
    "duration": 42,
    "start_time": "2024-07-24T08:28:52.195Z"
   },
   {
    "duration": 56,
    "start_time": "2024-07-24T08:28:52.240Z"
   },
   {
    "duration": 508,
    "start_time": "2024-07-24T08:28:52.298Z"
   },
   {
    "duration": 266,
    "start_time": "2024-07-24T08:28:52.810Z"
   },
   {
    "duration": 459,
    "start_time": "2024-07-24T08:28:53.079Z"
   },
   {
    "duration": 52,
    "start_time": "2024-07-24T08:28:53.542Z"
   },
   {
    "duration": 10,
    "start_time": "2024-07-24T08:28:53.597Z"
   },
   {
    "duration": 8,
    "start_time": "2024-07-24T08:28:53.610Z"
   },
   {
    "duration": 479,
    "start_time": "2024-07-24T08:28:53.621Z"
   },
   {
    "duration": 111,
    "start_time": "2024-07-24T08:28:54.103Z"
   },
   {
    "duration": 262,
    "start_time": "2024-07-24T08:28:54.217Z"
   },
   {
    "duration": 1233,
    "start_time": "2024-07-24T08:28:54.482Z"
   },
   {
    "duration": 590,
    "start_time": "2024-07-24T08:28:55.718Z"
   },
   {
    "duration": 34,
    "start_time": "2024-07-24T08:28:56.311Z"
   },
   {
    "duration": 713,
    "start_time": "2024-07-24T08:28:56.348Z"
   },
   {
    "duration": 320,
    "start_time": "2024-07-24T08:28:57.064Z"
   },
   {
    "duration": 177,
    "start_time": "2024-07-24T08:28:57.393Z"
   },
   {
    "duration": 328,
    "start_time": "2024-07-24T08:28:57.574Z"
   },
   {
    "duration": 5,
    "start_time": "2024-07-24T08:28:57.905Z"
   },
   {
    "duration": 21,
    "start_time": "2024-07-24T08:28:57.913Z"
   },
   {
    "duration": 2409,
    "start_time": "2024-07-24T08:28:57.937Z"
   },
   {
    "duration": 1453,
    "start_time": "2024-07-24T08:29:00.349Z"
   },
   {
    "duration": 237,
    "start_time": "2024-07-24T08:29:01.804Z"
   },
   {
    "duration": 634,
    "start_time": "2024-07-24T08:29:02.044Z"
   },
   {
    "duration": 254,
    "start_time": "2024-07-24T08:29:02.682Z"
   },
   {
    "duration": 9,
    "start_time": "2024-07-24T08:29:02.940Z"
   },
   {
    "duration": 183,
    "start_time": "2024-07-24T08:29:02.952Z"
   },
   {
    "duration": 20,
    "start_time": "2024-07-24T08:29:03.137Z"
   }
  ],
  "colab": {
   "provenance": []
  },
  "kernelspec": {
   "display_name": "Python 3 (ipykernel)",
   "language": "python",
   "name": "python3"
  },
  "language_info": {
   "codemirror_mode": {
    "name": "ipython",
    "version": 3
   },
   "file_extension": ".py",
   "mimetype": "text/x-python",
   "name": "python",
   "nbconvert_exporter": "python",
   "pygments_lexer": "ipython3",
   "version": "3.9.19"
  },
  "toc": {
   "base_numbering": 1,
   "nav_menu": {
    "height": "11.28px",
    "width": "160px"
   },
   "number_sections": true,
   "sideBar": true,
   "skip_h1_title": true,
   "title_cell": "Table of Contents",
   "title_sidebar": "Contents",
   "toc_cell": false,
   "toc_position": {},
   "toc_section_display": true,
   "toc_window_display": false
  },
  "vscode": {
   "interpreter": {
    "hash": "01a7be9ec63e704a62cefc5fe7a4756944464ee731be31632bdf42a4cb4688cf"
   }
  }
 },
 "nbformat": 4,
 "nbformat_minor": 5
}
