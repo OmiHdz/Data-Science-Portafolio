{
 "cells": [
  {
   "cell_type": "markdown",
   "metadata": {},
   "source": [
    "El servicio de venta de autos usados Rusty Bargain está desarrollando una aplicación para atraer nuevos clientes. Gracias a esa app, puedes averiguar rápidamente el valor de mercado de tu coche. Tienes acceso al historial: especificaciones técnicas, versiones de equipamiento y precios. Tienes que crear un modelo que determine el valor de mercado.\n",
    "A Rusty Bargain le interesa:\n",
    "- la calidad de la predicción;\n",
    "- la velocidad de la predicción;\n",
    "- el tiempo requerido para el entrenamiento"
   ]
  },
  {
   "cell_type": "markdown",
   "metadata": {},
   "source": [
    "## Preparación de datos"
   ]
  },
  {
   "cell_type": "code",
   "execution_count": 1,
   "metadata": {
    "scrolled": true
   },
   "outputs": [
    {
     "name": "stdout",
     "output_type": "stream",
     "text": [
      "Requirement already satisfied: category_encoders in /opt/conda/envs/python3/lib/python3.9/site-packages (2.6.3)\n",
      "Requirement already satisfied: numpy>=1.14.0 in /opt/conda/envs/python3/lib/python3.9/site-packages (from category_encoders) (1.21.2)\n",
      "Requirement already satisfied: scikit-learn>=0.20.0 in /opt/conda/envs/python3/lib/python3.9/site-packages (from category_encoders) (0.24.1)\n",
      "Requirement already satisfied: scipy>=1.0.0 in /opt/conda/envs/python3/lib/python3.9/site-packages (from category_encoders) (1.10.1)\n",
      "Requirement already satisfied: statsmodels>=0.9.0 in /opt/conda/envs/python3/lib/python3.9/site-packages (from category_encoders) (0.13.2)\n",
      "Requirement already satisfied: pandas>=1.0.5 in /opt/conda/envs/python3/lib/python3.9/site-packages (from category_encoders) (1.2.4)\n",
      "Requirement already satisfied: patsy>=0.5.1 in /opt/conda/envs/python3/lib/python3.9/site-packages (from category_encoders) (0.5.6)\n",
      "Requirement already satisfied: python-dateutil>=2.7.3 in /opt/conda/envs/python3/lib/python3.9/site-packages (from pandas>=1.0.5->category_encoders) (2.9.0)\n",
      "Requirement already satisfied: pytz>=2017.3 in /opt/conda/envs/python3/lib/python3.9/site-packages (from pandas>=1.0.5->category_encoders) (2024.1)\n",
      "Requirement already satisfied: six in /opt/conda/envs/python3/lib/python3.9/site-packages (from patsy>=0.5.1->category_encoders) (1.16.0)\n",
      "Requirement already satisfied: joblib>=0.11 in /opt/conda/envs/python3/lib/python3.9/site-packages (from scikit-learn>=0.20.0->category_encoders) (1.4.2)\n",
      "Requirement already satisfied: threadpoolctl>=2.0.0 in /opt/conda/envs/python3/lib/python3.9/site-packages (from scikit-learn>=0.20.0->category_encoders) (3.5.0)\n",
      "Requirement already satisfied: packaging>=21.3 in /opt/conda/envs/python3/lib/python3.9/site-packages (from statsmodels>=0.9.0->category_encoders) (24.0)\n",
      "Note: you may need to restart the kernel to use updated packages.\n"
     ]
    }
   ],
   "source": [
    "pip install category_encoders"
   ]
  },
  {
   "cell_type": "code",
   "execution_count": 2,
   "metadata": {},
   "outputs": [],
   "source": [
    "import numpy as np\n",
    "import pandas as pd\n",
    "from sklearn.model_selection import train_test_split\n",
    "from sklearn.linear_model import LinearRegression\n",
    "from sklearn.preprocessing import StandardScaler\n",
    "from sklearn.metrics import mean_squared_error\n",
    "import category_encoders as ce\n",
    "import math\n",
    "from sklearn.ensemble import RandomForestRegressor\n",
    "from sklearn.model_selection import GridSearchCV\n",
    "from lightgbm import LGBMRegressor\n",
    "from catboost import CatBoostRegressor\n"
   ]
  },
  {
   "cell_type": "code",
   "execution_count": 3,
   "metadata": {
    "scrolled": true
   },
   "outputs": [
    {
     "data": {
      "text/html": [
       "<div>\n",
       "<style scoped>\n",
       "    .dataframe tbody tr th:only-of-type {\n",
       "        vertical-align: middle;\n",
       "    }\n",
       "\n",
       "    .dataframe tbody tr th {\n",
       "        vertical-align: top;\n",
       "    }\n",
       "\n",
       "    .dataframe thead th {\n",
       "        text-align: right;\n",
       "    }\n",
       "</style>\n",
       "<table border=\"1\" class=\"dataframe\">\n",
       "  <thead>\n",
       "    <tr style=\"text-align: right;\">\n",
       "      <th></th>\n",
       "      <th>Price</th>\n",
       "      <th>RegistrationYear</th>\n",
       "      <th>Power</th>\n",
       "      <th>Mileage</th>\n",
       "      <th>RegistrationMonth</th>\n",
       "      <th>NumberOfPictures</th>\n",
       "      <th>PostalCode</th>\n",
       "    </tr>\n",
       "  </thead>\n",
       "  <tbody>\n",
       "    <tr>\n",
       "      <th>count</th>\n",
       "      <td>354369.000000</td>\n",
       "      <td>354369.000000</td>\n",
       "      <td>354369.000000</td>\n",
       "      <td>354369.000000</td>\n",
       "      <td>354369.000000</td>\n",
       "      <td>354369.0</td>\n",
       "      <td>354369.000000</td>\n",
       "    </tr>\n",
       "    <tr>\n",
       "      <th>mean</th>\n",
       "      <td>4416.656776</td>\n",
       "      <td>2004.234448</td>\n",
       "      <td>110.094337</td>\n",
       "      <td>128211.172535</td>\n",
       "      <td>5.714645</td>\n",
       "      <td>0.0</td>\n",
       "      <td>50508.689087</td>\n",
       "    </tr>\n",
       "    <tr>\n",
       "      <th>std</th>\n",
       "      <td>4514.158514</td>\n",
       "      <td>90.227958</td>\n",
       "      <td>189.850405</td>\n",
       "      <td>37905.341530</td>\n",
       "      <td>3.726421</td>\n",
       "      <td>0.0</td>\n",
       "      <td>25783.096248</td>\n",
       "    </tr>\n",
       "    <tr>\n",
       "      <th>min</th>\n",
       "      <td>0.000000</td>\n",
       "      <td>1000.000000</td>\n",
       "      <td>0.000000</td>\n",
       "      <td>5000.000000</td>\n",
       "      <td>0.000000</td>\n",
       "      <td>0.0</td>\n",
       "      <td>1067.000000</td>\n",
       "    </tr>\n",
       "    <tr>\n",
       "      <th>25%</th>\n",
       "      <td>1050.000000</td>\n",
       "      <td>1999.000000</td>\n",
       "      <td>69.000000</td>\n",
       "      <td>125000.000000</td>\n",
       "      <td>3.000000</td>\n",
       "      <td>0.0</td>\n",
       "      <td>30165.000000</td>\n",
       "    </tr>\n",
       "    <tr>\n",
       "      <th>50%</th>\n",
       "      <td>2700.000000</td>\n",
       "      <td>2003.000000</td>\n",
       "      <td>105.000000</td>\n",
       "      <td>150000.000000</td>\n",
       "      <td>6.000000</td>\n",
       "      <td>0.0</td>\n",
       "      <td>49413.000000</td>\n",
       "    </tr>\n",
       "    <tr>\n",
       "      <th>75%</th>\n",
       "      <td>6400.000000</td>\n",
       "      <td>2008.000000</td>\n",
       "      <td>143.000000</td>\n",
       "      <td>150000.000000</td>\n",
       "      <td>9.000000</td>\n",
       "      <td>0.0</td>\n",
       "      <td>71083.000000</td>\n",
       "    </tr>\n",
       "    <tr>\n",
       "      <th>max</th>\n",
       "      <td>20000.000000</td>\n",
       "      <td>9999.000000</td>\n",
       "      <td>20000.000000</td>\n",
       "      <td>150000.000000</td>\n",
       "      <td>12.000000</td>\n",
       "      <td>0.0</td>\n",
       "      <td>99998.000000</td>\n",
       "    </tr>\n",
       "  </tbody>\n",
       "</table>\n",
       "</div>"
      ],
      "text/plain": [
       "               Price  RegistrationYear          Power        Mileage  \\\n",
       "count  354369.000000     354369.000000  354369.000000  354369.000000   \n",
       "mean     4416.656776       2004.234448     110.094337  128211.172535   \n",
       "std      4514.158514         90.227958     189.850405   37905.341530   \n",
       "min         0.000000       1000.000000       0.000000    5000.000000   \n",
       "25%      1050.000000       1999.000000      69.000000  125000.000000   \n",
       "50%      2700.000000       2003.000000     105.000000  150000.000000   \n",
       "75%      6400.000000       2008.000000     143.000000  150000.000000   \n",
       "max     20000.000000       9999.000000   20000.000000  150000.000000   \n",
       "\n",
       "       RegistrationMonth  NumberOfPictures     PostalCode  \n",
       "count      354369.000000          354369.0  354369.000000  \n",
       "mean            5.714645               0.0   50508.689087  \n",
       "std             3.726421               0.0   25783.096248  \n",
       "min             0.000000               0.0    1067.000000  \n",
       "25%             3.000000               0.0   30165.000000  \n",
       "50%             6.000000               0.0   49413.000000  \n",
       "75%             9.000000               0.0   71083.000000  \n",
       "max            12.000000               0.0   99998.000000  "
      ]
     },
     "execution_count": 3,
     "metadata": {},
     "output_type": "execute_result"
    }
   ],
   "source": [
    "data = pd.read_csv('/datasets/car_data.csv')\n",
    "data.describe()"
   ]
  },
  {
   "cell_type": "markdown",
   "metadata": {},
   "source": [
    "Podemos observar algunos datos y discrepancias en una primera revisión de los datos:\n",
    "* Existen vehículos con precio = 0 lo cual no es posible \n",
    "* Existen vehículos con año de registro = 9999 cómo máximo y 1000 cómo mínimo, estos datos tampoco son posibles \n",
    "    * Nota: el primer automóvil con motor de combustión interna fue patentado en 1886 por Karl Benz, es considerado el primer atomóvil moderno\n",
    "* Existen vehículos con 0 caballos de vapor y con 20,000 CV, lo cual no es posible\n",
    "    * Nota: El vehículo con mayor CV en la actualidad es el Rimac Nevera, con 1914 HP, equivalente a 1,941 CV.\n",
    "* Existen vehículos que tienen como mes de registro el mes 0, lo cual no es posible (debido a que el máximo es 12 y contamos de manera natural)\n",
    "* Ningún vehículo fue cargado con fotografías, el máximo es = 0 \n",
    "\n",
    "Trataremos estas particularidades más adelante\n"
   ]
  },
  {
   "cell_type": "code",
   "execution_count": 4,
   "metadata": {},
   "outputs": [
    {
     "data": {
      "text/plain": [
       "Index(['DateCrawled', 'Price', 'VehicleType', 'RegistrationYear', 'Gearbox',\n",
       "       'Power', 'Model', 'Mileage', 'RegistrationMonth', 'FuelType', 'Brand',\n",
       "       'NotRepaired', 'DateCreated', 'NumberOfPictures', 'PostalCode',\n",
       "       'LastSeen'],\n",
       "      dtype='object')"
      ]
     },
     "execution_count": 4,
     "metadata": {},
     "output_type": "execute_result"
    }
   ],
   "source": [
    "data.columns"
   ]
  },
  {
   "cell_type": "code",
   "execution_count": 5,
   "metadata": {
    "scrolled": true
   },
   "outputs": [
    {
     "data": {
      "text/html": [
       "<div>\n",
       "<style scoped>\n",
       "    .dataframe tbody tr th:only-of-type {\n",
       "        vertical-align: middle;\n",
       "    }\n",
       "\n",
       "    .dataframe tbody tr th {\n",
       "        vertical-align: top;\n",
       "    }\n",
       "\n",
       "    .dataframe thead th {\n",
       "        text-align: right;\n",
       "    }\n",
       "</style>\n",
       "<table border=\"1\" class=\"dataframe\">\n",
       "  <thead>\n",
       "    <tr style=\"text-align: right;\">\n",
       "      <th></th>\n",
       "      <th>DateCrawled</th>\n",
       "      <th>Price</th>\n",
       "      <th>VehicleType</th>\n",
       "      <th>RegistrationYear</th>\n",
       "      <th>Gearbox</th>\n",
       "      <th>Power</th>\n",
       "      <th>Model</th>\n",
       "      <th>Mileage</th>\n",
       "      <th>RegistrationMonth</th>\n",
       "      <th>FuelType</th>\n",
       "      <th>Brand</th>\n",
       "      <th>NotRepaired</th>\n",
       "      <th>DateCreated</th>\n",
       "      <th>NumberOfPictures</th>\n",
       "      <th>PostalCode</th>\n",
       "      <th>LastSeen</th>\n",
       "    </tr>\n",
       "  </thead>\n",
       "  <tbody>\n",
       "    <tr>\n",
       "      <th>0</th>\n",
       "      <td>24/03/2016 11:52</td>\n",
       "      <td>480</td>\n",
       "      <td>NaN</td>\n",
       "      <td>1993</td>\n",
       "      <td>manual</td>\n",
       "      <td>0</td>\n",
       "      <td>golf</td>\n",
       "      <td>150000</td>\n",
       "      <td>0</td>\n",
       "      <td>petrol</td>\n",
       "      <td>volkswagen</td>\n",
       "      <td>NaN</td>\n",
       "      <td>24/03/2016 00:00</td>\n",
       "      <td>0</td>\n",
       "      <td>70435</td>\n",
       "      <td>07/04/2016 03:16</td>\n",
       "    </tr>\n",
       "    <tr>\n",
       "      <th>1</th>\n",
       "      <td>24/03/2016 10:58</td>\n",
       "      <td>18300</td>\n",
       "      <td>coupe</td>\n",
       "      <td>2011</td>\n",
       "      <td>manual</td>\n",
       "      <td>190</td>\n",
       "      <td>NaN</td>\n",
       "      <td>125000</td>\n",
       "      <td>5</td>\n",
       "      <td>gasoline</td>\n",
       "      <td>audi</td>\n",
       "      <td>yes</td>\n",
       "      <td>24/03/2016 00:00</td>\n",
       "      <td>0</td>\n",
       "      <td>66954</td>\n",
       "      <td>07/04/2016 01:46</td>\n",
       "    </tr>\n",
       "    <tr>\n",
       "      <th>2</th>\n",
       "      <td>14/03/2016 12:52</td>\n",
       "      <td>9800</td>\n",
       "      <td>suv</td>\n",
       "      <td>2004</td>\n",
       "      <td>auto</td>\n",
       "      <td>163</td>\n",
       "      <td>grand</td>\n",
       "      <td>125000</td>\n",
       "      <td>8</td>\n",
       "      <td>gasoline</td>\n",
       "      <td>jeep</td>\n",
       "      <td>NaN</td>\n",
       "      <td>14/03/2016 00:00</td>\n",
       "      <td>0</td>\n",
       "      <td>90480</td>\n",
       "      <td>05/04/2016 12:47</td>\n",
       "    </tr>\n",
       "    <tr>\n",
       "      <th>3</th>\n",
       "      <td>17/03/2016 16:54</td>\n",
       "      <td>1500</td>\n",
       "      <td>small</td>\n",
       "      <td>2001</td>\n",
       "      <td>manual</td>\n",
       "      <td>75</td>\n",
       "      <td>golf</td>\n",
       "      <td>150000</td>\n",
       "      <td>6</td>\n",
       "      <td>petrol</td>\n",
       "      <td>volkswagen</td>\n",
       "      <td>no</td>\n",
       "      <td>17/03/2016 00:00</td>\n",
       "      <td>0</td>\n",
       "      <td>91074</td>\n",
       "      <td>17/03/2016 17:40</td>\n",
       "    </tr>\n",
       "    <tr>\n",
       "      <th>4</th>\n",
       "      <td>31/03/2016 17:25</td>\n",
       "      <td>3600</td>\n",
       "      <td>small</td>\n",
       "      <td>2008</td>\n",
       "      <td>manual</td>\n",
       "      <td>69</td>\n",
       "      <td>fabia</td>\n",
       "      <td>90000</td>\n",
       "      <td>7</td>\n",
       "      <td>gasoline</td>\n",
       "      <td>skoda</td>\n",
       "      <td>no</td>\n",
       "      <td>31/03/2016 00:00</td>\n",
       "      <td>0</td>\n",
       "      <td>60437</td>\n",
       "      <td>06/04/2016 10:17</td>\n",
       "    </tr>\n",
       "  </tbody>\n",
       "</table>\n",
       "</div>"
      ],
      "text/plain": [
       "        DateCrawled  Price VehicleType  RegistrationYear Gearbox  Power  \\\n",
       "0  24/03/2016 11:52    480         NaN              1993  manual      0   \n",
       "1  24/03/2016 10:58  18300       coupe              2011  manual    190   \n",
       "2  14/03/2016 12:52   9800         suv              2004    auto    163   \n",
       "3  17/03/2016 16:54   1500       small              2001  manual     75   \n",
       "4  31/03/2016 17:25   3600       small              2008  manual     69   \n",
       "\n",
       "   Model  Mileage  RegistrationMonth  FuelType       Brand NotRepaired  \\\n",
       "0   golf   150000                  0    petrol  volkswagen         NaN   \n",
       "1    NaN   125000                  5  gasoline        audi         yes   \n",
       "2  grand   125000                  8  gasoline        jeep         NaN   \n",
       "3   golf   150000                  6    petrol  volkswagen          no   \n",
       "4  fabia    90000                  7  gasoline       skoda          no   \n",
       "\n",
       "        DateCreated  NumberOfPictures  PostalCode          LastSeen  \n",
       "0  24/03/2016 00:00                 0       70435  07/04/2016 03:16  \n",
       "1  24/03/2016 00:00                 0       66954  07/04/2016 01:46  \n",
       "2  14/03/2016 00:00                 0       90480  05/04/2016 12:47  \n",
       "3  17/03/2016 00:00                 0       91074  17/03/2016 17:40  \n",
       "4  31/03/2016 00:00                 0       60437  06/04/2016 10:17  "
      ]
     },
     "execution_count": 5,
     "metadata": {},
     "output_type": "execute_result"
    }
   ],
   "source": [
    "data.head()"
   ]
  },
  {
   "cell_type": "code",
   "execution_count": 6,
   "metadata": {
    "scrolled": false
   },
   "outputs": [
    {
     "name": "stdout",
     "output_type": "stream",
     "text": [
      "<class 'pandas.core.frame.DataFrame'>\n",
      "RangeIndex: 354369 entries, 0 to 354368\n",
      "Data columns (total 16 columns):\n",
      " #   Column             Non-Null Count   Dtype \n",
      "---  ------             --------------   ----- \n",
      " 0   DateCrawled        354369 non-null  object\n",
      " 1   Price              354369 non-null  int64 \n",
      " 2   VehicleType        316879 non-null  object\n",
      " 3   RegistrationYear   354369 non-null  int64 \n",
      " 4   Gearbox            334536 non-null  object\n",
      " 5   Power              354369 non-null  int64 \n",
      " 6   Model              334664 non-null  object\n",
      " 7   Mileage            354369 non-null  int64 \n",
      " 8   RegistrationMonth  354369 non-null  int64 \n",
      " 9   FuelType           321474 non-null  object\n",
      " 10  Brand              354369 non-null  object\n",
      " 11  NotRepaired        283215 non-null  object\n",
      " 12  DateCreated        354369 non-null  object\n",
      " 13  NumberOfPictures   354369 non-null  int64 \n",
      " 14  PostalCode         354369 non-null  int64 \n",
      " 15  LastSeen           354369 non-null  object\n",
      "dtypes: int64(7), object(9)\n",
      "memory usage: 43.3+ MB\n"
     ]
    }
   ],
   "source": [
    "data.info()"
   ]
  },
  {
   "cell_type": "markdown",
   "metadata": {},
   "source": [
    "### Explorando columnas"
   ]
  },
  {
   "cell_type": "markdown",
   "metadata": {},
   "source": [
    "### Descripción de los datos\n",
    "\n",
    "Contamos con 354,369 registros, 16 columnas de las cuales 5 de ellas cuentan con datos Nulos, entre ellas:\n",
    "* VehicleType\n",
    "* Gearbox\n",
    "* Model\n",
    "* FuelType\n",
    "* NotRepaired\n",
    "\n",
    "#### Descripción de las columnas\n",
    "\n",
    "- *DateCrawled* — fecha en la que se descargó el perfil de la base de datos\n",
    "- *VehicleType* — tipo de carrocería del vehículo\n",
    "- *RegistrationYear* — año de matriculación del vehículo\n",
    "- *Gearbox* — tipo de caja de cambios\n",
    "- *Power* — potencia (CV)\n",
    "- *Model* — modelo del vehículo\n",
    "- Mileage — kilometraje (medido en km de acuerdo con las especificidades regionales del conjunto de datos)\n",
    "- *RegistrationMonth* — mes de matriculación del vehículo\n",
    "- *FuelType* — tipo de combustible\n",
    "- *Brand* — marca del vehículo\n",
    "- *NotRepaired* — vehículo con o sin reparación\n",
    "- *DateCreated* — fecha de creación del perfil\n",
    "- *NumberOfPictures* — número de fotos del vehículo\n",
    "- *PostalCode* — código postal del propietario del perfil (usuario)\n",
    "- *LastSeen* — fecha de la última vez que el usuario estuvo activo\n",
    "\n",
    "\n",
    "\n",
    "Por la relevancia y la información que proveen las siguientes columnas, hemos decidido que no son relevantes para el modelo:\n",
    "* DateCrawled \n",
    "* RegistrationMonth\n",
    "* LastSeen\n",
    "* PostalCode\n",
    "* DateCreated\n",
    "* NumberOfPictures"
   ]
  },
  {
   "cell_type": "markdown",
   "metadata": {},
   "source": [
    "#### Normalizando nombres de columnas"
   ]
  },
  {
   "cell_type": "code",
   "execution_count": 7,
   "metadata": {
    "scrolled": true
   },
   "outputs": [
    {
     "name": "stdout",
     "output_type": "stream",
     "text": [
      "Index(['date_crawled', 'price', 'vehicle_type', 'registration_year', 'gearbox',\n",
      "       'power', 'model', 'mileage', 'registration_month', 'fuel_type', 'brand',\n",
      "       'not_repaired', 'date_created', 'number_of_pictures', 'postal_code',\n",
      "       'last_seen'],\n",
      "      dtype='object')\n"
     ]
    },
    {
     "data": {
      "text/html": [
       "<div>\n",
       "<style scoped>\n",
       "    .dataframe tbody tr th:only-of-type {\n",
       "        vertical-align: middle;\n",
       "    }\n",
       "\n",
       "    .dataframe tbody tr th {\n",
       "        vertical-align: top;\n",
       "    }\n",
       "\n",
       "    .dataframe thead th {\n",
       "        text-align: right;\n",
       "    }\n",
       "</style>\n",
       "<table border=\"1\" class=\"dataframe\">\n",
       "  <thead>\n",
       "    <tr style=\"text-align: right;\">\n",
       "      <th></th>\n",
       "      <th>date_crawled</th>\n",
       "      <th>price</th>\n",
       "      <th>vehicle_type</th>\n",
       "      <th>registration_year</th>\n",
       "      <th>gearbox</th>\n",
       "      <th>power</th>\n",
       "      <th>model</th>\n",
       "      <th>mileage</th>\n",
       "      <th>registration_month</th>\n",
       "      <th>fuel_type</th>\n",
       "      <th>brand</th>\n",
       "      <th>not_repaired</th>\n",
       "      <th>date_created</th>\n",
       "      <th>number_of_pictures</th>\n",
       "      <th>postal_code</th>\n",
       "      <th>last_seen</th>\n",
       "    </tr>\n",
       "  </thead>\n",
       "  <tbody>\n",
       "    <tr>\n",
       "      <th>0</th>\n",
       "      <td>24/03/2016 11:52</td>\n",
       "      <td>480</td>\n",
       "      <td>NaN</td>\n",
       "      <td>1993</td>\n",
       "      <td>manual</td>\n",
       "      <td>0</td>\n",
       "      <td>golf</td>\n",
       "      <td>150000</td>\n",
       "      <td>0</td>\n",
       "      <td>petrol</td>\n",
       "      <td>volkswagen</td>\n",
       "      <td>NaN</td>\n",
       "      <td>24/03/2016 00:00</td>\n",
       "      <td>0</td>\n",
       "      <td>70435</td>\n",
       "      <td>07/04/2016 03:16</td>\n",
       "    </tr>\n",
       "    <tr>\n",
       "      <th>1</th>\n",
       "      <td>24/03/2016 10:58</td>\n",
       "      <td>18300</td>\n",
       "      <td>coupe</td>\n",
       "      <td>2011</td>\n",
       "      <td>manual</td>\n",
       "      <td>190</td>\n",
       "      <td>NaN</td>\n",
       "      <td>125000</td>\n",
       "      <td>5</td>\n",
       "      <td>gasoline</td>\n",
       "      <td>audi</td>\n",
       "      <td>yes</td>\n",
       "      <td>24/03/2016 00:00</td>\n",
       "      <td>0</td>\n",
       "      <td>66954</td>\n",
       "      <td>07/04/2016 01:46</td>\n",
       "    </tr>\n",
       "    <tr>\n",
       "      <th>2</th>\n",
       "      <td>14/03/2016 12:52</td>\n",
       "      <td>9800</td>\n",
       "      <td>suv</td>\n",
       "      <td>2004</td>\n",
       "      <td>auto</td>\n",
       "      <td>163</td>\n",
       "      <td>grand</td>\n",
       "      <td>125000</td>\n",
       "      <td>8</td>\n",
       "      <td>gasoline</td>\n",
       "      <td>jeep</td>\n",
       "      <td>NaN</td>\n",
       "      <td>14/03/2016 00:00</td>\n",
       "      <td>0</td>\n",
       "      <td>90480</td>\n",
       "      <td>05/04/2016 12:47</td>\n",
       "    </tr>\n",
       "    <tr>\n",
       "      <th>3</th>\n",
       "      <td>17/03/2016 16:54</td>\n",
       "      <td>1500</td>\n",
       "      <td>small</td>\n",
       "      <td>2001</td>\n",
       "      <td>manual</td>\n",
       "      <td>75</td>\n",
       "      <td>golf</td>\n",
       "      <td>150000</td>\n",
       "      <td>6</td>\n",
       "      <td>petrol</td>\n",
       "      <td>volkswagen</td>\n",
       "      <td>no</td>\n",
       "      <td>17/03/2016 00:00</td>\n",
       "      <td>0</td>\n",
       "      <td>91074</td>\n",
       "      <td>17/03/2016 17:40</td>\n",
       "    </tr>\n",
       "    <tr>\n",
       "      <th>4</th>\n",
       "      <td>31/03/2016 17:25</td>\n",
       "      <td>3600</td>\n",
       "      <td>small</td>\n",
       "      <td>2008</td>\n",
       "      <td>manual</td>\n",
       "      <td>69</td>\n",
       "      <td>fabia</td>\n",
       "      <td>90000</td>\n",
       "      <td>7</td>\n",
       "      <td>gasoline</td>\n",
       "      <td>skoda</td>\n",
       "      <td>no</td>\n",
       "      <td>31/03/2016 00:00</td>\n",
       "      <td>0</td>\n",
       "      <td>60437</td>\n",
       "      <td>06/04/2016 10:17</td>\n",
       "    </tr>\n",
       "  </tbody>\n",
       "</table>\n",
       "</div>"
      ],
      "text/plain": [
       "       date_crawled  price vehicle_type  registration_year gearbox  power  \\\n",
       "0  24/03/2016 11:52    480          NaN               1993  manual      0   \n",
       "1  24/03/2016 10:58  18300        coupe               2011  manual    190   \n",
       "2  14/03/2016 12:52   9800          suv               2004    auto    163   \n",
       "3  17/03/2016 16:54   1500        small               2001  manual     75   \n",
       "4  31/03/2016 17:25   3600        small               2008  manual     69   \n",
       "\n",
       "   model  mileage  registration_month fuel_type       brand not_repaired  \\\n",
       "0   golf   150000                   0    petrol  volkswagen          NaN   \n",
       "1    NaN   125000                   5  gasoline        audi          yes   \n",
       "2  grand   125000                   8  gasoline        jeep          NaN   \n",
       "3   golf   150000                   6    petrol  volkswagen           no   \n",
       "4  fabia    90000                   7  gasoline       skoda           no   \n",
       "\n",
       "       date_created  number_of_pictures  postal_code         last_seen  \n",
       "0  24/03/2016 00:00                   0        70435  07/04/2016 03:16  \n",
       "1  24/03/2016 00:00                   0        66954  07/04/2016 01:46  \n",
       "2  14/03/2016 00:00                   0        90480  05/04/2016 12:47  \n",
       "3  17/03/2016 00:00                   0        91074  17/03/2016 17:40  \n",
       "4  31/03/2016 00:00                   0        60437  06/04/2016 10:17  "
      ]
     },
     "execution_count": 7,
     "metadata": {},
     "output_type": "execute_result"
    }
   ],
   "source": [
    "data.columns = data.columns.str.lower()\n",
    "data.rename(columns={'datecrawled':'date_crawled','vehicletype':'vehicle_type',\n",
    "                     'registrationyear':'registration_year','registrationmonth':'registration_month',\n",
    "                    'fueltype':'fuel_type','notrepaired':'not_repaired',\n",
    "                    'datecreated':'date_created','numberofpictures':'number_of_pictures',\n",
    "                    'postalcode':'postal_code','lastseen':'last_seen'},inplace=True)\n",
    "print(data.columns)\n",
    "data.head(5)\n",
    "\n"
   ]
  },
  {
   "cell_type": "markdown",
   "metadata": {},
   "source": [
    "#### Eliminando filas duplicadas"
   ]
  },
  {
   "cell_type": "code",
   "execution_count": 8,
   "metadata": {
    "scrolled": true
   },
   "outputs": [
    {
     "name": "stdout",
     "output_type": "stream",
     "text": [
      "262\n",
      "Comprobando si existen datos duplicados despúes de la operación : 0\n"
     ]
    }
   ],
   "source": [
    "print(data[data.duplicated()]['price'].count())\n",
    "data.drop_duplicates(inplace=True)\n",
    "print(\"Comprobando si existen datos duplicados despúes de la operación :\",data[data.duplicated()]['price'].count())\n"
   ]
  },
  {
   "cell_type": "code",
   "execution_count": 9,
   "metadata": {},
   "outputs": [
    {
     "name": "stdout",
     "output_type": "stream",
     "text": [
      "<class 'pandas.core.frame.DataFrame'>\n",
      "Int64Index: 354107 entries, 0 to 354368\n",
      "Data columns (total 16 columns):\n",
      " #   Column              Non-Null Count   Dtype \n",
      "---  ------              --------------   ----- \n",
      " 0   date_crawled        354107 non-null  object\n",
      " 1   price               354107 non-null  int64 \n",
      " 2   vehicle_type        316623 non-null  object\n",
      " 3   registration_year   354107 non-null  int64 \n",
      " 4   gearbox             334277 non-null  object\n",
      " 5   power               354107 non-null  int64 \n",
      " 6   model               334406 non-null  object\n",
      " 7   mileage             354107 non-null  int64 \n",
      " 8   registration_month  354107 non-null  int64 \n",
      " 9   fuel_type           321218 non-null  object\n",
      " 10  brand               354107 non-null  object\n",
      " 11  not_repaired        282962 non-null  object\n",
      " 12  date_created        354107 non-null  object\n",
      " 13  number_of_pictures  354107 non-null  int64 \n",
      " 14  postal_code         354107 non-null  int64 \n",
      " 15  last_seen           354107 non-null  object\n",
      "dtypes: int64(7), object(9)\n",
      "memory usage: 45.9+ MB\n"
     ]
    }
   ],
   "source": [
    "data.info()"
   ]
  },
  {
   "cell_type": "markdown",
   "metadata": {},
   "source": [
    "#### Pre- procesando columnas\n",
    "en esta sección buscaremos discriminar registros que no aporten valor al modelo, por ejemplo:\n",
    "* Vehículos sin modelo ni tipo de vehículo\n",
    "* Vehículos sin precio ni tipo de vehículo"
   ]
  },
  {
   "cell_type": "code",
   "execution_count": 10,
   "metadata": {
    "scrolled": true
   },
   "outputs": [
    {
     "data": {
      "text/html": [
       "<div>\n",
       "<style scoped>\n",
       "    .dataframe tbody tr th:only-of-type {\n",
       "        vertical-align: middle;\n",
       "    }\n",
       "\n",
       "    .dataframe tbody tr th {\n",
       "        vertical-align: top;\n",
       "    }\n",
       "\n",
       "    .dataframe thead th {\n",
       "        text-align: right;\n",
       "    }\n",
       "</style>\n",
       "<table border=\"1\" class=\"dataframe\">\n",
       "  <thead>\n",
       "    <tr style=\"text-align: right;\">\n",
       "      <th></th>\n",
       "      <th>date_crawled</th>\n",
       "      <th>price</th>\n",
       "      <th>vehicle_type</th>\n",
       "      <th>registration_year</th>\n",
       "      <th>gearbox</th>\n",
       "      <th>power</th>\n",
       "      <th>model</th>\n",
       "      <th>mileage</th>\n",
       "      <th>registration_month</th>\n",
       "      <th>fuel_type</th>\n",
       "      <th>brand</th>\n",
       "      <th>not_repaired</th>\n",
       "      <th>date_created</th>\n",
       "      <th>number_of_pictures</th>\n",
       "      <th>postal_code</th>\n",
       "      <th>last_seen</th>\n",
       "    </tr>\n",
       "  </thead>\n",
       "  <tbody>\n",
       "    <tr>\n",
       "      <th>0</th>\n",
       "      <td>24/03/2016 11:52</td>\n",
       "      <td>480</td>\n",
       "      <td>NaN</td>\n",
       "      <td>1993</td>\n",
       "      <td>manual</td>\n",
       "      <td>0</td>\n",
       "      <td>golf</td>\n",
       "      <td>150000</td>\n",
       "      <td>0</td>\n",
       "      <td>petrol</td>\n",
       "      <td>volkswagen</td>\n",
       "      <td>NaN</td>\n",
       "      <td>24/03/2016 00:00</td>\n",
       "      <td>0</td>\n",
       "      <td>70435</td>\n",
       "      <td>07/04/2016 03:16</td>\n",
       "    </tr>\n",
       "    <tr>\n",
       "      <th>1</th>\n",
       "      <td>24/03/2016 10:58</td>\n",
       "      <td>18300</td>\n",
       "      <td>coupe</td>\n",
       "      <td>2011</td>\n",
       "      <td>manual</td>\n",
       "      <td>190</td>\n",
       "      <td>NaN</td>\n",
       "      <td>125000</td>\n",
       "      <td>5</td>\n",
       "      <td>gasoline</td>\n",
       "      <td>audi</td>\n",
       "      <td>yes</td>\n",
       "      <td>24/03/2016 00:00</td>\n",
       "      <td>0</td>\n",
       "      <td>66954</td>\n",
       "      <td>07/04/2016 01:46</td>\n",
       "    </tr>\n",
       "    <tr>\n",
       "      <th>2</th>\n",
       "      <td>14/03/2016 12:52</td>\n",
       "      <td>9800</td>\n",
       "      <td>suv</td>\n",
       "      <td>2004</td>\n",
       "      <td>auto</td>\n",
       "      <td>163</td>\n",
       "      <td>grand</td>\n",
       "      <td>125000</td>\n",
       "      <td>8</td>\n",
       "      <td>gasoline</td>\n",
       "      <td>jeep</td>\n",
       "      <td>NaN</td>\n",
       "      <td>14/03/2016 00:00</td>\n",
       "      <td>0</td>\n",
       "      <td>90480</td>\n",
       "      <td>05/04/2016 12:47</td>\n",
       "    </tr>\n",
       "    <tr>\n",
       "      <th>3</th>\n",
       "      <td>17/03/2016 16:54</td>\n",
       "      <td>1500</td>\n",
       "      <td>small</td>\n",
       "      <td>2001</td>\n",
       "      <td>manual</td>\n",
       "      <td>75</td>\n",
       "      <td>golf</td>\n",
       "      <td>150000</td>\n",
       "      <td>6</td>\n",
       "      <td>petrol</td>\n",
       "      <td>volkswagen</td>\n",
       "      <td>no</td>\n",
       "      <td>17/03/2016 00:00</td>\n",
       "      <td>0</td>\n",
       "      <td>91074</td>\n",
       "      <td>17/03/2016 17:40</td>\n",
       "    </tr>\n",
       "    <tr>\n",
       "      <th>4</th>\n",
       "      <td>31/03/2016 17:25</td>\n",
       "      <td>3600</td>\n",
       "      <td>small</td>\n",
       "      <td>2008</td>\n",
       "      <td>manual</td>\n",
       "      <td>69</td>\n",
       "      <td>fabia</td>\n",
       "      <td>90000</td>\n",
       "      <td>7</td>\n",
       "      <td>gasoline</td>\n",
       "      <td>skoda</td>\n",
       "      <td>no</td>\n",
       "      <td>31/03/2016 00:00</td>\n",
       "      <td>0</td>\n",
       "      <td>60437</td>\n",
       "      <td>06/04/2016 10:17</td>\n",
       "    </tr>\n",
       "  </tbody>\n",
       "</table>\n",
       "</div>"
      ],
      "text/plain": [
       "       date_crawled  price vehicle_type  registration_year gearbox  power  \\\n",
       "0  24/03/2016 11:52    480          NaN               1993  manual      0   \n",
       "1  24/03/2016 10:58  18300        coupe               2011  manual    190   \n",
       "2  14/03/2016 12:52   9800          suv               2004    auto    163   \n",
       "3  17/03/2016 16:54   1500        small               2001  manual     75   \n",
       "4  31/03/2016 17:25   3600        small               2008  manual     69   \n",
       "\n",
       "   model  mileage  registration_month fuel_type       brand not_repaired  \\\n",
       "0   golf   150000                   0    petrol  volkswagen          NaN   \n",
       "1    NaN   125000                   5  gasoline        audi          yes   \n",
       "2  grand   125000                   8  gasoline        jeep          NaN   \n",
       "3   golf   150000                   6    petrol  volkswagen           no   \n",
       "4  fabia    90000                   7  gasoline       skoda           no   \n",
       "\n",
       "       date_created  number_of_pictures  postal_code         last_seen  \n",
       "0  24/03/2016 00:00                   0        70435  07/04/2016 03:16  \n",
       "1  24/03/2016 00:00                   0        66954  07/04/2016 01:46  \n",
       "2  14/03/2016 00:00                   0        90480  05/04/2016 12:47  \n",
       "3  17/03/2016 00:00                   0        91074  17/03/2016 17:40  \n",
       "4  31/03/2016 00:00                   0        60437  06/04/2016 10:17  "
      ]
     },
     "execution_count": 10,
     "metadata": {},
     "output_type": "execute_result"
    }
   ],
   "source": [
    "data.head()"
   ]
  },
  {
   "cell_type": "markdown",
   "metadata": {},
   "source": [
    "**Reemplazando los precios = 0 por la mediana (2700)**"
   ]
  },
  {
   "cell_type": "code",
   "execution_count": 11,
   "metadata": {
    "scrolled": true
   },
   "outputs": [
    {
     "data": {
      "text/plain": [
       "False"
      ]
     },
     "execution_count": 11,
     "metadata": {},
     "output_type": "execute_result"
    }
   ],
   "source": [
    "data.loc[data['price']== 0,'price']= data['price'].median()\n",
    "#Comprobando los cambios\n",
    "data[data['price']==0]['price'].any()"
   ]
  },
  {
   "cell_type": "markdown",
   "metadata": {},
   "source": [
    "**Trabajando con el año de registro de los vehículos ('registration_year')**\n",
    "\n",
    "primero estudiemos los valores únicos de años registrados"
   ]
  },
  {
   "cell_type": "code",
   "execution_count": 12,
   "metadata": {
    "scrolled": false
   },
   "outputs": [
    {
     "data": {
      "text/plain": [
       "array([1000, 1001, 1039, 1111, 1200, 1234, 1253, 1255, 1300, 1400, 1500,\n",
       "       1600, 1602, 1688, 1800, 1910, 1915, 1919, 1920, 1923, 1925, 1927,\n",
       "       1928, 1929, 1930, 1931, 1932, 1933, 1934, 1935, 1936, 1937, 1938,\n",
       "       1940, 1941, 1942, 1943, 1944, 1945, 1946, 1947, 1948, 1949, 1950,\n",
       "       1951, 1952, 1953, 1954, 1955, 1956, 1957, 1958, 1959, 1960, 1961,\n",
       "       1962, 1963, 1964, 1965, 1966, 1967, 1968, 1969, 1970, 1971, 1972,\n",
       "       1973, 1974, 1975, 1976, 1977, 1978, 1979, 1980, 1981, 1982, 1983,\n",
       "       1984, 1985, 1986, 1987, 1988, 1989, 1990, 1991, 1992, 1993, 1994,\n",
       "       1995, 1996, 1997, 1998, 1999, 2000, 2001, 2002, 2003, 2004, 2005,\n",
       "       2006, 2007, 2008, 2009, 2010, 2011, 2012, 2013, 2014, 2015, 2016,\n",
       "       2017, 2018, 2019, 2066, 2200, 2222, 2290, 2500, 2800, 2900, 3000,\n",
       "       3200, 3500, 3700, 3800, 4000, 4100, 4500, 4800, 5000, 5300, 5555,\n",
       "       5600, 5900, 5911, 6000, 6500, 7000, 7100, 7500, 7800, 8000, 8200,\n",
       "       8455, 8500, 8888, 9000, 9229, 9450, 9996, 9999])"
      ]
     },
     "execution_count": 12,
     "metadata": {},
     "output_type": "execute_result"
    }
   ],
   "source": [
    "data['registration_year'].sort_values().unique()"
   ]
  },
  {
   "cell_type": "markdown",
   "metadata": {},
   "source": [
    "**Observamos que:**\n",
    "* El año más cercano al mínimo de la historia automotriz moderna(1886) es el 1910, lo tomaremos como un valor mínimo.\n",
    "* El año más cercano a la actualidad (2024) es el 2019, lo tomaremos como un valor máximo.\n"
   ]
  },
  {
   "cell_type": "markdown",
   "metadata": {},
   "source": [
    "**Descartando los registros con año de registro menores a 1910 y mayores a 2019**"
   ]
  },
  {
   "cell_type": "code",
   "execution_count": 13,
   "metadata": {
    "scrolled": true
   },
   "outputs": [
    {
     "name": "stdout",
     "output_type": "stream",
     "text": [
      "min year:  1910\n",
      "max year:  2019\n"
     ]
    }
   ],
   "source": [
    "data = data.loc[(data['registration_year']>=1910) & (data['registration_year']<=2019)]\n",
    "#Verificando los cambios\n",
    "print('min year: ',data['registration_year'].min())\n",
    "print('max year: ',data['registration_year'].max())"
   ]
  },
  {
   "cell_type": "markdown",
   "metadata": {},
   "source": [
    "#### Trabajando con la columna 'Power'\n",
    "El primer automóvil con motor de combustión interna fue patentado en 1886 por Karl Benz, es considerado el primer atomóvil moderno y contaba con 0.74 CV "
   ]
  },
  {
   "cell_type": "markdown",
   "metadata": {},
   "source": [
    "Reemplazando los valores de los vehículos con Power=0 y Power > 1941 CV por la mediana"
   ]
  },
  {
   "cell_type": "code",
   "execution_count": 14,
   "metadata": {},
   "outputs": [
    {
     "data": {
      "text/plain": [
       "20000"
      ]
     },
     "execution_count": 14,
     "metadata": {},
     "output_type": "execute_result"
    }
   ],
   "source": [
    "data['power'].max()"
   ]
  },
  {
   "cell_type": "code",
   "execution_count": 15,
   "metadata": {},
   "outputs": [],
   "source": [
    "mask_min= data['power']<1\n",
    "mask_max= data['power']>1940\n",
    "median = data['power'].median().astype(int)\n",
    "\n",
    "data.loc[mask_max,'power']=median\n",
    "data.loc[mask_min,'power']=median"
   ]
  },
  {
   "cell_type": "code",
   "execution_count": 16,
   "metadata": {
    "scrolled": true
   },
   "outputs": [
    {
     "name": "stdout",
     "output_type": "stream",
     "text": [
      "min power:  1\n",
      "max power:  1937\n"
     ]
    }
   ],
   "source": [
    "print('min power: ',data['power'].min())\n",
    "print('max power: ',data['power'].max())\n"
   ]
  },
  {
   "cell_type": "markdown",
   "metadata": {},
   "source": [
    "#### Trabajando con la columna 'vehicle_type'\n"
   ]
  },
  {
   "cell_type": "code",
   "execution_count": 17,
   "metadata": {},
   "outputs": [
    {
     "data": {
      "text/plain": [
       "37313"
      ]
     },
     "execution_count": 17,
     "metadata": {},
     "output_type": "execute_result"
    }
   ],
   "source": [
    "data['vehicle_type'].isna().sum()"
   ]
  },
  {
   "cell_type": "markdown",
   "metadata": {},
   "source": [
    "Observamos que la columna cuenta con 37,313 registros donde el tipo de vehículo no fue cargado, lo vamos a reemplazar por 'unknown'"
   ]
  },
  {
   "cell_type": "markdown",
   "metadata": {},
   "source": [
    "**Reemplazando valores NaN en el tipo de vehículo por 'unknown'**"
   ]
  },
  {
   "cell_type": "code",
   "execution_count": 18,
   "metadata": {},
   "outputs": [],
   "source": [
    "data['vehicle_type'] = data['vehicle_type'].fillna('unknown')"
   ]
  },
  {
   "cell_type": "markdown",
   "metadata": {},
   "source": [
    "**Trabajando con la columna 'model'**"
   ]
  },
  {
   "cell_type": "code",
   "execution_count": 19,
   "metadata": {},
   "outputs": [
    {
     "name": "stdout",
     "output_type": "stream",
     "text": [
      "19626\n",
      "5.55\n"
     ]
    }
   ],
   "source": [
    "print(data['model'].isna().sum())\n",
    "print(round((data['model'].isna().sum()*100)/len(data),2))"
   ]
  },
  {
   "cell_type": "markdown",
   "metadata": {},
   "source": [
    "Podemos observar que hay 19,626 vehículos que no cuentan con el modelo, para propósitos de venta y de calcular el precio, se vuelve una característica indispensable, estos registros representan el 5.55% del total de los datos, por lo que decidimos eliminarlos"
   ]
  },
  {
   "cell_type": "code",
   "execution_count": 20,
   "metadata": {},
   "outputs": [
    {
     "data": {
      "text/plain": [
       "0"
      ]
     },
     "execution_count": 20,
     "metadata": {},
     "output_type": "execute_result"
    }
   ],
   "source": [
    "data = data[~data['model'].isna()]\n",
    "#Verificando los cambios\n",
    "data['model'].isna().sum()\n"
   ]
  },
  {
   "cell_type": "markdown",
   "metadata": {},
   "source": [
    "#### Trabajado con la columna 'fuel_type'"
   ]
  },
  {
   "cell_type": "code",
   "execution_count": 21,
   "metadata": {},
   "outputs": [
    {
     "data": {
      "text/plain": [
       "25662"
      ]
     },
     "execution_count": 21,
     "metadata": {},
     "output_type": "execute_result"
    }
   ],
   "source": [
    "data['fuel_type'].isna().sum()\n"
   ]
  },
  {
   "cell_type": "code",
   "execution_count": 22,
   "metadata": {
    "scrolled": false
   },
   "outputs": [
    {
     "name": "stdout",
     "output_type": "stream",
     "text": [
      "Cantidad de datos nulos en fuel_type :  0\n"
     ]
    },
    {
     "data": {
      "text/plain": [
       "array(['petrol', 'gasoline', 'lpg', 'other', 'hybrid', 'cng', 'electric'],\n",
       "      dtype=object)"
      ]
     },
     "execution_count": 22,
     "metadata": {},
     "output_type": "execute_result"
    }
   ],
   "source": [
    "#Realizamos una agrupación y transformación para sobreescribir los datos nulos por la moda de cada modelo en su columna fuel_type\n",
    "data['fuel_type'] = data['fuel_type'].fillna(data.groupby('model')['fuel_type'].transform(lambda x: x.value_counts().idxmax()))\n",
    "print(\"Cantidad de datos nulos en fuel_type : \",data['fuel_type'].isna().sum())\n",
    "data['fuel_type'].unique()"
   ]
  },
  {
   "cell_type": "markdown",
   "metadata": {},
   "source": [
    "#### Trabajando con la columna 'not_repaired\""
   ]
  },
  {
   "cell_type": "code",
   "execution_count": 23,
   "metadata": {},
   "outputs": [
    {
     "name": "stdout",
     "output_type": "stream",
     "text": [
      "2094.9552930000596\n",
      "5366.576604893258\n"
     ]
    }
   ],
   "source": [
    "#Verificando el precio promedio de los vehículos por su status de reparación ('yes', 'no')\n",
    "print(data[data['not_repaired']=='yes']['price'].mean())\n",
    "print(data[data['not_repaired']=='no']['price'].mean())"
   ]
  },
  {
   "cell_type": "markdown",
   "metadata": {},
   "source": [
    "Podemos observar que los vehículos reparados valen 4 veces más que los vehículos no reparados, con esto y en ausencia de la especificidad del significado de la columna, interpretamos que los vehículos \"no\" reparados son vehículos descompuestos de alguna manera y por eso su valor se reduce.\n",
    "\n",
    "Vamos a asumir que los valores NaN son vehículos funcionales, por lo tanto vamos a reemplazar los valores nulos con 'yes'"
   ]
  },
  {
   "cell_type": "code",
   "execution_count": 24,
   "metadata": {},
   "outputs": [
    {
     "data": {
      "text/plain": [
       "False"
      ]
     },
     "execution_count": 24,
     "metadata": {},
     "output_type": "execute_result"
    }
   ],
   "source": [
    "data['not_repaired'] = data['not_repaired'].fillna('yes')\n",
    "#verificando los cambios\n",
    "data['not_repaired'].isna().any()"
   ]
  },
  {
   "cell_type": "markdown",
   "metadata": {},
   "source": [
    "#### Trabajando con la columna 'gearbox'"
   ]
  },
  {
   "cell_type": "code",
   "execution_count": 25,
   "metadata": {
    "scrolled": true
   },
   "outputs": [
    {
     "name": "stdout",
     "output_type": "stream",
     "text": [
      "True\n"
     ]
    },
    {
     "data": {
      "text/html": [
       "<div>\n",
       "<style scoped>\n",
       "    .dataframe tbody tr th:only-of-type {\n",
       "        vertical-align: middle;\n",
       "    }\n",
       "\n",
       "    .dataframe tbody tr th {\n",
       "        vertical-align: top;\n",
       "    }\n",
       "\n",
       "    .dataframe thead th {\n",
       "        text-align: right;\n",
       "    }\n",
       "</style>\n",
       "<table border=\"1\" class=\"dataframe\">\n",
       "  <thead>\n",
       "    <tr style=\"text-align: right;\">\n",
       "      <th></th>\n",
       "      <th>date_crawled</th>\n",
       "      <th>price</th>\n",
       "      <th>vehicle_type</th>\n",
       "      <th>registration_year</th>\n",
       "      <th>gearbox</th>\n",
       "      <th>power</th>\n",
       "      <th>model</th>\n",
       "      <th>mileage</th>\n",
       "      <th>registration_month</th>\n",
       "      <th>fuel_type</th>\n",
       "      <th>brand</th>\n",
       "      <th>not_repaired</th>\n",
       "      <th>date_created</th>\n",
       "      <th>number_of_pictures</th>\n",
       "      <th>postal_code</th>\n",
       "      <th>last_seen</th>\n",
       "    </tr>\n",
       "  </thead>\n",
       "  <tbody>\n",
       "    <tr>\n",
       "      <th>15</th>\n",
       "      <td>11/03/2016 21:39</td>\n",
       "      <td>450.0</td>\n",
       "      <td>small</td>\n",
       "      <td>1910</td>\n",
       "      <td>NaN</td>\n",
       "      <td>105</td>\n",
       "      <td>ka</td>\n",
       "      <td>5000</td>\n",
       "      <td>0</td>\n",
       "      <td>petrol</td>\n",
       "      <td>ford</td>\n",
       "      <td>yes</td>\n",
       "      <td>11/03/2016 00:00</td>\n",
       "      <td>0</td>\n",
       "      <td>24148</td>\n",
       "      <td>19/03/2016 08:46</td>\n",
       "    </tr>\n",
       "    <tr>\n",
       "      <th>16</th>\n",
       "      <td>01/04/2016 12:46</td>\n",
       "      <td>300.0</td>\n",
       "      <td>unknown</td>\n",
       "      <td>2016</td>\n",
       "      <td>NaN</td>\n",
       "      <td>60</td>\n",
       "      <td>polo</td>\n",
       "      <td>150000</td>\n",
       "      <td>0</td>\n",
       "      <td>petrol</td>\n",
       "      <td>volkswagen</td>\n",
       "      <td>yes</td>\n",
       "      <td>01/04/2016 00:00</td>\n",
       "      <td>0</td>\n",
       "      <td>38871</td>\n",
       "      <td>01/04/2016 12:46</td>\n",
       "    </tr>\n",
       "    <tr>\n",
       "      <th>32</th>\n",
       "      <td>15/03/2016 20:59</td>\n",
       "      <td>245.0</td>\n",
       "      <td>sedan</td>\n",
       "      <td>1994</td>\n",
       "      <td>NaN</td>\n",
       "      <td>105</td>\n",
       "      <td>golf</td>\n",
       "      <td>150000</td>\n",
       "      <td>2</td>\n",
       "      <td>petrol</td>\n",
       "      <td>volkswagen</td>\n",
       "      <td>no</td>\n",
       "      <td>15/03/2016 00:00</td>\n",
       "      <td>0</td>\n",
       "      <td>44145</td>\n",
       "      <td>17/03/2016 18:17</td>\n",
       "    </tr>\n",
       "    <tr>\n",
       "      <th>37</th>\n",
       "      <td>28/03/2016 17:50</td>\n",
       "      <td>1500.0</td>\n",
       "      <td>unknown</td>\n",
       "      <td>2016</td>\n",
       "      <td>NaN</td>\n",
       "      <td>105</td>\n",
       "      <td>kangoo</td>\n",
       "      <td>150000</td>\n",
       "      <td>1</td>\n",
       "      <td>gasoline</td>\n",
       "      <td>renault</td>\n",
       "      <td>no</td>\n",
       "      <td>28/03/2016 00:00</td>\n",
       "      <td>0</td>\n",
       "      <td>46483</td>\n",
       "      <td>30/03/2016 09:18</td>\n",
       "    </tr>\n",
       "    <tr>\n",
       "      <th>40</th>\n",
       "      <td>26/03/2016 22:06</td>\n",
       "      <td>2700.0</td>\n",
       "      <td>unknown</td>\n",
       "      <td>1990</td>\n",
       "      <td>NaN</td>\n",
       "      <td>105</td>\n",
       "      <td>corsa</td>\n",
       "      <td>150000</td>\n",
       "      <td>1</td>\n",
       "      <td>petrol</td>\n",
       "      <td>opel</td>\n",
       "      <td>yes</td>\n",
       "      <td>26/03/2016 00:00</td>\n",
       "      <td>0</td>\n",
       "      <td>56412</td>\n",
       "      <td>27/03/2016 17:43</td>\n",
       "    </tr>\n",
       "  </tbody>\n",
       "</table>\n",
       "</div>"
      ],
      "text/plain": [
       "        date_crawled   price vehicle_type  registration_year gearbox  power  \\\n",
       "15  11/03/2016 21:39   450.0        small               1910     NaN    105   \n",
       "16  01/04/2016 12:46   300.0      unknown               2016     NaN     60   \n",
       "32  15/03/2016 20:59   245.0        sedan               1994     NaN    105   \n",
       "37  28/03/2016 17:50  1500.0      unknown               2016     NaN    105   \n",
       "40  26/03/2016 22:06  2700.0      unknown               1990     NaN    105   \n",
       "\n",
       "     model  mileage  registration_month fuel_type       brand not_repaired  \\\n",
       "15      ka     5000                   0    petrol        ford          yes   \n",
       "16    polo   150000                   0    petrol  volkswagen          yes   \n",
       "32    golf   150000                   2    petrol  volkswagen           no   \n",
       "37  kangoo   150000                   1  gasoline     renault           no   \n",
       "40   corsa   150000                   1    petrol        opel          yes   \n",
       "\n",
       "        date_created  number_of_pictures  postal_code         last_seen  \n",
       "15  11/03/2016 00:00                   0        24148  19/03/2016 08:46  \n",
       "16  01/04/2016 00:00                   0        38871  01/04/2016 12:46  \n",
       "32  15/03/2016 00:00                   0        44145  17/03/2016 18:17  \n",
       "37  28/03/2016 00:00                   0        46483  30/03/2016 09:18  \n",
       "40  26/03/2016 00:00                   0        56412  27/03/2016 17:43  "
      ]
     },
     "execution_count": 25,
     "metadata": {},
     "output_type": "execute_result"
    }
   ],
   "source": [
    "print(data['gearbox'].isna().any())\n",
    "data[data['gearbox'].isna()].head()"
   ]
  },
  {
   "cell_type": "markdown",
   "metadata": {},
   "source": [
    "Realizamos el mismo proceso de la columna 'vehicle_type' , vamos a sustituir los valores NaN por la moda del modelo del vehículo"
   ]
  },
  {
   "cell_type": "code",
   "execution_count": 26,
   "metadata": {},
   "outputs": [],
   "source": [
    "data['gearbox'] = data['gearbox'].fillna(data.groupby('model')['gearbox'].transform(lambda x : x.value_counts().idxmax()))"
   ]
  },
  {
   "cell_type": "code",
   "execution_count": 27,
   "metadata": {
    "scrolled": false
   },
   "outputs": [
    {
     "name": "stdout",
     "output_type": "stream",
     "text": [
      "['manual' 'auto']\n"
     ]
    },
    {
     "data": {
      "text/html": [
       "<div>\n",
       "<style scoped>\n",
       "    .dataframe tbody tr th:only-of-type {\n",
       "        vertical-align: middle;\n",
       "    }\n",
       "\n",
       "    .dataframe tbody tr th {\n",
       "        vertical-align: top;\n",
       "    }\n",
       "\n",
       "    .dataframe thead th {\n",
       "        text-align: right;\n",
       "    }\n",
       "</style>\n",
       "<table border=\"1\" class=\"dataframe\">\n",
       "  <thead>\n",
       "    <tr style=\"text-align: right;\">\n",
       "      <th></th>\n",
       "      <th>date_crawled</th>\n",
       "      <th>price</th>\n",
       "      <th>vehicle_type</th>\n",
       "      <th>registration_year</th>\n",
       "      <th>gearbox</th>\n",
       "      <th>power</th>\n",
       "      <th>model</th>\n",
       "      <th>mileage</th>\n",
       "      <th>registration_month</th>\n",
       "      <th>fuel_type</th>\n",
       "      <th>brand</th>\n",
       "      <th>not_repaired</th>\n",
       "      <th>date_created</th>\n",
       "      <th>number_of_pictures</th>\n",
       "      <th>postal_code</th>\n",
       "      <th>last_seen</th>\n",
       "    </tr>\n",
       "  </thead>\n",
       "  <tbody>\n",
       "    <tr>\n",
       "      <th>15</th>\n",
       "      <td>11/03/2016 21:39</td>\n",
       "      <td>450.0</td>\n",
       "      <td>small</td>\n",
       "      <td>1910</td>\n",
       "      <td>manual</td>\n",
       "      <td>105</td>\n",
       "      <td>ka</td>\n",
       "      <td>5000</td>\n",
       "      <td>0</td>\n",
       "      <td>petrol</td>\n",
       "      <td>ford</td>\n",
       "      <td>yes</td>\n",
       "      <td>11/03/2016 00:00</td>\n",
       "      <td>0</td>\n",
       "      <td>24148</td>\n",
       "      <td>19/03/2016 08:46</td>\n",
       "    </tr>\n",
       "    <tr>\n",
       "      <th>16</th>\n",
       "      <td>01/04/2016 12:46</td>\n",
       "      <td>300.0</td>\n",
       "      <td>unknown</td>\n",
       "      <td>2016</td>\n",
       "      <td>manual</td>\n",
       "      <td>60</td>\n",
       "      <td>polo</td>\n",
       "      <td>150000</td>\n",
       "      <td>0</td>\n",
       "      <td>petrol</td>\n",
       "      <td>volkswagen</td>\n",
       "      <td>yes</td>\n",
       "      <td>01/04/2016 00:00</td>\n",
       "      <td>0</td>\n",
       "      <td>38871</td>\n",
       "      <td>01/04/2016 12:46</td>\n",
       "    </tr>\n",
       "  </tbody>\n",
       "</table>\n",
       "</div>"
      ],
      "text/plain": [
       "        date_crawled  price vehicle_type  registration_year gearbox  power  \\\n",
       "15  11/03/2016 21:39  450.0        small               1910  manual    105   \n",
       "16  01/04/2016 12:46  300.0      unknown               2016  manual     60   \n",
       "\n",
       "   model  mileage  registration_month fuel_type       brand not_repaired  \\\n",
       "15    ka     5000                   0    petrol        ford          yes   \n",
       "16  polo   150000                   0    petrol  volkswagen          yes   \n",
       "\n",
       "        date_created  number_of_pictures  postal_code         last_seen  \n",
       "15  11/03/2016 00:00                   0        24148  19/03/2016 08:46  \n",
       "16  01/04/2016 00:00                   0        38871  01/04/2016 12:46  "
      ]
     },
     "execution_count": 27,
     "metadata": {},
     "output_type": "execute_result"
    }
   ],
   "source": [
    "print(data['gearbox'].unique())\n",
    "data.iloc[14:16]"
   ]
  },
  {
   "cell_type": "markdown",
   "metadata": {},
   "source": [
    "#### Trabajando con la columna 'price'\n",
    "Podemos observar que price tiene registros con valor = 0  así como valores muy bajos, esto bajo la conclusión de que pueden ser usuarios llenando datos de sus vehículos de manera ficticia.\n",
    "\n",
    "Debido a que no podemos tratar esta columna con ningúna otra métrica estadística para \"estimar\" los precios, decidimos eliminar los registros con precios menores a 10 euros"
   ]
  },
  {
   "cell_type": "code",
   "execution_count": 28,
   "metadata": {},
   "outputs": [
    {
     "data": {
      "text/html": [
       "<div>\n",
       "<style scoped>\n",
       "    .dataframe tbody tr th:only-of-type {\n",
       "        vertical-align: middle;\n",
       "    }\n",
       "\n",
       "    .dataframe tbody tr th {\n",
       "        vertical-align: top;\n",
       "    }\n",
       "\n",
       "    .dataframe thead th {\n",
       "        text-align: right;\n",
       "    }\n",
       "</style>\n",
       "<table border=\"1\" class=\"dataframe\">\n",
       "  <thead>\n",
       "    <tr style=\"text-align: right;\">\n",
       "      <th></th>\n",
       "      <th>date_crawled</th>\n",
       "      <th>price</th>\n",
       "      <th>vehicle_type</th>\n",
       "      <th>registration_year</th>\n",
       "      <th>gearbox</th>\n",
       "      <th>power</th>\n",
       "      <th>model</th>\n",
       "      <th>mileage</th>\n",
       "      <th>registration_month</th>\n",
       "      <th>fuel_type</th>\n",
       "      <th>brand</th>\n",
       "      <th>not_repaired</th>\n",
       "      <th>date_created</th>\n",
       "      <th>number_of_pictures</th>\n",
       "      <th>postal_code</th>\n",
       "      <th>last_seen</th>\n",
       "    </tr>\n",
       "  </thead>\n",
       "  <tbody>\n",
       "    <tr>\n",
       "      <th>0</th>\n",
       "      <td>24/03/2016 11:52</td>\n",
       "      <td>480.0</td>\n",
       "      <td>unknown</td>\n",
       "      <td>1993</td>\n",
       "      <td>manual</td>\n",
       "      <td>105</td>\n",
       "      <td>golf</td>\n",
       "      <td>150000</td>\n",
       "      <td>0</td>\n",
       "      <td>petrol</td>\n",
       "      <td>volkswagen</td>\n",
       "      <td>yes</td>\n",
       "      <td>24/03/2016 00:00</td>\n",
       "      <td>0</td>\n",
       "      <td>70435</td>\n",
       "      <td>07/04/2016 03:16</td>\n",
       "    </tr>\n",
       "    <tr>\n",
       "      <th>2</th>\n",
       "      <td>14/03/2016 12:52</td>\n",
       "      <td>9800.0</td>\n",
       "      <td>suv</td>\n",
       "      <td>2004</td>\n",
       "      <td>auto</td>\n",
       "      <td>163</td>\n",
       "      <td>grand</td>\n",
       "      <td>125000</td>\n",
       "      <td>8</td>\n",
       "      <td>gasoline</td>\n",
       "      <td>jeep</td>\n",
       "      <td>yes</td>\n",
       "      <td>14/03/2016 00:00</td>\n",
       "      <td>0</td>\n",
       "      <td>90480</td>\n",
       "      <td>05/04/2016 12:47</td>\n",
       "    </tr>\n",
       "    <tr>\n",
       "      <th>3</th>\n",
       "      <td>17/03/2016 16:54</td>\n",
       "      <td>1500.0</td>\n",
       "      <td>small</td>\n",
       "      <td>2001</td>\n",
       "      <td>manual</td>\n",
       "      <td>75</td>\n",
       "      <td>golf</td>\n",
       "      <td>150000</td>\n",
       "      <td>6</td>\n",
       "      <td>petrol</td>\n",
       "      <td>volkswagen</td>\n",
       "      <td>no</td>\n",
       "      <td>17/03/2016 00:00</td>\n",
       "      <td>0</td>\n",
       "      <td>91074</td>\n",
       "      <td>17/03/2016 17:40</td>\n",
       "    </tr>\n",
       "    <tr>\n",
       "      <th>4</th>\n",
       "      <td>31/03/2016 17:25</td>\n",
       "      <td>3600.0</td>\n",
       "      <td>small</td>\n",
       "      <td>2008</td>\n",
       "      <td>manual</td>\n",
       "      <td>69</td>\n",
       "      <td>fabia</td>\n",
       "      <td>90000</td>\n",
       "      <td>7</td>\n",
       "      <td>gasoline</td>\n",
       "      <td>skoda</td>\n",
       "      <td>no</td>\n",
       "      <td>31/03/2016 00:00</td>\n",
       "      <td>0</td>\n",
       "      <td>60437</td>\n",
       "      <td>06/04/2016 10:17</td>\n",
       "    </tr>\n",
       "    <tr>\n",
       "      <th>5</th>\n",
       "      <td>04/04/2016 17:36</td>\n",
       "      <td>650.0</td>\n",
       "      <td>sedan</td>\n",
       "      <td>1995</td>\n",
       "      <td>manual</td>\n",
       "      <td>102</td>\n",
       "      <td>3er</td>\n",
       "      <td>150000</td>\n",
       "      <td>10</td>\n",
       "      <td>petrol</td>\n",
       "      <td>bmw</td>\n",
       "      <td>yes</td>\n",
       "      <td>04/04/2016 00:00</td>\n",
       "      <td>0</td>\n",
       "      <td>33775</td>\n",
       "      <td>06/04/2016 19:17</td>\n",
       "    </tr>\n",
       "  </tbody>\n",
       "</table>\n",
       "</div>"
      ],
      "text/plain": [
       "       date_crawled   price vehicle_type  registration_year gearbox  power  \\\n",
       "0  24/03/2016 11:52   480.0      unknown               1993  manual    105   \n",
       "2  14/03/2016 12:52  9800.0          suv               2004    auto    163   \n",
       "3  17/03/2016 16:54  1500.0        small               2001  manual     75   \n",
       "4  31/03/2016 17:25  3600.0        small               2008  manual     69   \n",
       "5  04/04/2016 17:36   650.0        sedan               1995  manual    102   \n",
       "\n",
       "   model  mileage  registration_month fuel_type       brand not_repaired  \\\n",
       "0   golf   150000                   0    petrol  volkswagen          yes   \n",
       "2  grand   125000                   8  gasoline        jeep          yes   \n",
       "3   golf   150000                   6    petrol  volkswagen           no   \n",
       "4  fabia    90000                   7  gasoline       skoda           no   \n",
       "5    3er   150000                  10    petrol         bmw          yes   \n",
       "\n",
       "       date_created  number_of_pictures  postal_code         last_seen  \n",
       "0  24/03/2016 00:00                   0        70435  07/04/2016 03:16  \n",
       "2  14/03/2016 00:00                   0        90480  05/04/2016 12:47  \n",
       "3  17/03/2016 00:00                   0        91074  17/03/2016 17:40  \n",
       "4  31/03/2016 00:00                   0        60437  06/04/2016 10:17  \n",
       "5  04/04/2016 00:00                   0        33775  06/04/2016 19:17  "
      ]
     },
     "execution_count": 28,
     "metadata": {},
     "output_type": "execute_result"
    }
   ],
   "source": [
    "data.head()"
   ]
  },
  {
   "cell_type": "code",
   "execution_count": 29,
   "metadata": {},
   "outputs": [
    {
     "data": {
      "text/html": [
       "<div>\n",
       "<style scoped>\n",
       "    .dataframe tbody tr th:only-of-type {\n",
       "        vertical-align: middle;\n",
       "    }\n",
       "\n",
       "    .dataframe tbody tr th {\n",
       "        vertical-align: top;\n",
       "    }\n",
       "\n",
       "    .dataframe thead th {\n",
       "        text-align: right;\n",
       "    }\n",
       "</style>\n",
       "<table border=\"1\" class=\"dataframe\">\n",
       "  <thead>\n",
       "    <tr style=\"text-align: right;\">\n",
       "      <th></th>\n",
       "      <th>date_crawled</th>\n",
       "      <th>price</th>\n",
       "      <th>vehicle_type</th>\n",
       "      <th>registration_year</th>\n",
       "      <th>gearbox</th>\n",
       "      <th>power</th>\n",
       "      <th>model</th>\n",
       "      <th>mileage</th>\n",
       "      <th>registration_month</th>\n",
       "      <th>fuel_type</th>\n",
       "      <th>brand</th>\n",
       "      <th>not_repaired</th>\n",
       "      <th>date_created</th>\n",
       "      <th>number_of_pictures</th>\n",
       "      <th>postal_code</th>\n",
       "      <th>last_seen</th>\n",
       "    </tr>\n",
       "  </thead>\n",
       "  <tbody>\n",
       "    <tr>\n",
       "      <th>0</th>\n",
       "      <td>24/03/2016 11:52</td>\n",
       "      <td>480.0</td>\n",
       "      <td>unknown</td>\n",
       "      <td>1993</td>\n",
       "      <td>manual</td>\n",
       "      <td>105</td>\n",
       "      <td>golf</td>\n",
       "      <td>150000</td>\n",
       "      <td>0</td>\n",
       "      <td>petrol</td>\n",
       "      <td>volkswagen</td>\n",
       "      <td>yes</td>\n",
       "      <td>24/03/2016 00:00</td>\n",
       "      <td>0</td>\n",
       "      <td>70435</td>\n",
       "      <td>07/04/2016 03:16</td>\n",
       "    </tr>\n",
       "    <tr>\n",
       "      <th>2</th>\n",
       "      <td>14/03/2016 12:52</td>\n",
       "      <td>9800.0</td>\n",
       "      <td>suv</td>\n",
       "      <td>2004</td>\n",
       "      <td>auto</td>\n",
       "      <td>163</td>\n",
       "      <td>grand</td>\n",
       "      <td>125000</td>\n",
       "      <td>8</td>\n",
       "      <td>gasoline</td>\n",
       "      <td>jeep</td>\n",
       "      <td>yes</td>\n",
       "      <td>14/03/2016 00:00</td>\n",
       "      <td>0</td>\n",
       "      <td>90480</td>\n",
       "      <td>05/04/2016 12:47</td>\n",
       "    </tr>\n",
       "    <tr>\n",
       "      <th>3</th>\n",
       "      <td>17/03/2016 16:54</td>\n",
       "      <td>1500.0</td>\n",
       "      <td>small</td>\n",
       "      <td>2001</td>\n",
       "      <td>manual</td>\n",
       "      <td>75</td>\n",
       "      <td>golf</td>\n",
       "      <td>150000</td>\n",
       "      <td>6</td>\n",
       "      <td>petrol</td>\n",
       "      <td>volkswagen</td>\n",
       "      <td>no</td>\n",
       "      <td>17/03/2016 00:00</td>\n",
       "      <td>0</td>\n",
       "      <td>91074</td>\n",
       "      <td>17/03/2016 17:40</td>\n",
       "    </tr>\n",
       "    <tr>\n",
       "      <th>4</th>\n",
       "      <td>31/03/2016 17:25</td>\n",
       "      <td>3600.0</td>\n",
       "      <td>small</td>\n",
       "      <td>2008</td>\n",
       "      <td>manual</td>\n",
       "      <td>69</td>\n",
       "      <td>fabia</td>\n",
       "      <td>90000</td>\n",
       "      <td>7</td>\n",
       "      <td>gasoline</td>\n",
       "      <td>skoda</td>\n",
       "      <td>no</td>\n",
       "      <td>31/03/2016 00:00</td>\n",
       "      <td>0</td>\n",
       "      <td>60437</td>\n",
       "      <td>06/04/2016 10:17</td>\n",
       "    </tr>\n",
       "    <tr>\n",
       "      <th>5</th>\n",
       "      <td>04/04/2016 17:36</td>\n",
       "      <td>650.0</td>\n",
       "      <td>sedan</td>\n",
       "      <td>1995</td>\n",
       "      <td>manual</td>\n",
       "      <td>102</td>\n",
       "      <td>3er</td>\n",
       "      <td>150000</td>\n",
       "      <td>10</td>\n",
       "      <td>petrol</td>\n",
       "      <td>bmw</td>\n",
       "      <td>yes</td>\n",
       "      <td>04/04/2016 00:00</td>\n",
       "      <td>0</td>\n",
       "      <td>33775</td>\n",
       "      <td>06/04/2016 19:17</td>\n",
       "    </tr>\n",
       "    <tr>\n",
       "      <th>...</th>\n",
       "      <td>...</td>\n",
       "      <td>...</td>\n",
       "      <td>...</td>\n",
       "      <td>...</td>\n",
       "      <td>...</td>\n",
       "      <td>...</td>\n",
       "      <td>...</td>\n",
       "      <td>...</td>\n",
       "      <td>...</td>\n",
       "      <td>...</td>\n",
       "      <td>...</td>\n",
       "      <td>...</td>\n",
       "      <td>...</td>\n",
       "      <td>...</td>\n",
       "      <td>...</td>\n",
       "      <td>...</td>\n",
       "    </tr>\n",
       "    <tr>\n",
       "      <th>354363</th>\n",
       "      <td>27/03/2016 20:36</td>\n",
       "      <td>1150.0</td>\n",
       "      <td>bus</td>\n",
       "      <td>2000</td>\n",
       "      <td>manual</td>\n",
       "      <td>105</td>\n",
       "      <td>zafira</td>\n",
       "      <td>150000</td>\n",
       "      <td>3</td>\n",
       "      <td>petrol</td>\n",
       "      <td>opel</td>\n",
       "      <td>no</td>\n",
       "      <td>27/03/2016 00:00</td>\n",
       "      <td>0</td>\n",
       "      <td>26624</td>\n",
       "      <td>29/03/2016 10:17</td>\n",
       "    </tr>\n",
       "    <tr>\n",
       "      <th>354364</th>\n",
       "      <td>21/03/2016 09:50</td>\n",
       "      <td>2700.0</td>\n",
       "      <td>unknown</td>\n",
       "      <td>2005</td>\n",
       "      <td>manual</td>\n",
       "      <td>105</td>\n",
       "      <td>colt</td>\n",
       "      <td>150000</td>\n",
       "      <td>7</td>\n",
       "      <td>petrol</td>\n",
       "      <td>mitsubishi</td>\n",
       "      <td>yes</td>\n",
       "      <td>21/03/2016 00:00</td>\n",
       "      <td>0</td>\n",
       "      <td>2694</td>\n",
       "      <td>21/03/2016 10:42</td>\n",
       "    </tr>\n",
       "    <tr>\n",
       "      <th>354366</th>\n",
       "      <td>05/03/2016 19:56</td>\n",
       "      <td>1199.0</td>\n",
       "      <td>convertible</td>\n",
       "      <td>2000</td>\n",
       "      <td>auto</td>\n",
       "      <td>101</td>\n",
       "      <td>fortwo</td>\n",
       "      <td>125000</td>\n",
       "      <td>3</td>\n",
       "      <td>petrol</td>\n",
       "      <td>smart</td>\n",
       "      <td>no</td>\n",
       "      <td>05/03/2016 00:00</td>\n",
       "      <td>0</td>\n",
       "      <td>26135</td>\n",
       "      <td>11/03/2016 18:17</td>\n",
       "    </tr>\n",
       "    <tr>\n",
       "      <th>354367</th>\n",
       "      <td>19/03/2016 18:57</td>\n",
       "      <td>9200.0</td>\n",
       "      <td>bus</td>\n",
       "      <td>1996</td>\n",
       "      <td>manual</td>\n",
       "      <td>102</td>\n",
       "      <td>transporter</td>\n",
       "      <td>150000</td>\n",
       "      <td>3</td>\n",
       "      <td>gasoline</td>\n",
       "      <td>volkswagen</td>\n",
       "      <td>no</td>\n",
       "      <td>19/03/2016 00:00</td>\n",
       "      <td>0</td>\n",
       "      <td>87439</td>\n",
       "      <td>07/04/2016 07:15</td>\n",
       "    </tr>\n",
       "    <tr>\n",
       "      <th>354368</th>\n",
       "      <td>20/03/2016 19:41</td>\n",
       "      <td>3400.0</td>\n",
       "      <td>wagon</td>\n",
       "      <td>2002</td>\n",
       "      <td>manual</td>\n",
       "      <td>100</td>\n",
       "      <td>golf</td>\n",
       "      <td>150000</td>\n",
       "      <td>6</td>\n",
       "      <td>gasoline</td>\n",
       "      <td>volkswagen</td>\n",
       "      <td>yes</td>\n",
       "      <td>20/03/2016 00:00</td>\n",
       "      <td>0</td>\n",
       "      <td>40764</td>\n",
       "      <td>24/03/2016 12:45</td>\n",
       "    </tr>\n",
       "  </tbody>\n",
       "</table>\n",
       "<p>333267 rows × 16 columns</p>\n",
       "</div>"
      ],
      "text/plain": [
       "            date_crawled   price vehicle_type  registration_year gearbox  \\\n",
       "0       24/03/2016 11:52   480.0      unknown               1993  manual   \n",
       "2       14/03/2016 12:52  9800.0          suv               2004    auto   \n",
       "3       17/03/2016 16:54  1500.0        small               2001  manual   \n",
       "4       31/03/2016 17:25  3600.0        small               2008  manual   \n",
       "5       04/04/2016 17:36   650.0        sedan               1995  manual   \n",
       "...                  ...     ...          ...                ...     ...   \n",
       "354363  27/03/2016 20:36  1150.0          bus               2000  manual   \n",
       "354364  21/03/2016 09:50  2700.0      unknown               2005  manual   \n",
       "354366  05/03/2016 19:56  1199.0  convertible               2000    auto   \n",
       "354367  19/03/2016 18:57  9200.0          bus               1996  manual   \n",
       "354368  20/03/2016 19:41  3400.0        wagon               2002  manual   \n",
       "\n",
       "        power        model  mileage  registration_month fuel_type       brand  \\\n",
       "0         105         golf   150000                   0    petrol  volkswagen   \n",
       "2         163        grand   125000                   8  gasoline        jeep   \n",
       "3          75         golf   150000                   6    petrol  volkswagen   \n",
       "4          69        fabia    90000                   7  gasoline       skoda   \n",
       "5         102          3er   150000                  10    petrol         bmw   \n",
       "...       ...          ...      ...                 ...       ...         ...   \n",
       "354363    105       zafira   150000                   3    petrol        opel   \n",
       "354364    105         colt   150000                   7    petrol  mitsubishi   \n",
       "354366    101       fortwo   125000                   3    petrol       smart   \n",
       "354367    102  transporter   150000                   3  gasoline  volkswagen   \n",
       "354368    100         golf   150000                   6  gasoline  volkswagen   \n",
       "\n",
       "       not_repaired      date_created  number_of_pictures  postal_code  \\\n",
       "0               yes  24/03/2016 00:00                   0        70435   \n",
       "2               yes  14/03/2016 00:00                   0        90480   \n",
       "3                no  17/03/2016 00:00                   0        91074   \n",
       "4                no  31/03/2016 00:00                   0        60437   \n",
       "5               yes  04/04/2016 00:00                   0        33775   \n",
       "...             ...               ...                 ...          ...   \n",
       "354363           no  27/03/2016 00:00                   0        26624   \n",
       "354364          yes  21/03/2016 00:00                   0         2694   \n",
       "354366           no  05/03/2016 00:00                   0        26135   \n",
       "354367           no  19/03/2016 00:00                   0        87439   \n",
       "354368          yes  20/03/2016 00:00                   0        40764   \n",
       "\n",
       "               last_seen  \n",
       "0       07/04/2016 03:16  \n",
       "2       05/04/2016 12:47  \n",
       "3       17/03/2016 17:40  \n",
       "4       06/04/2016 10:17  \n",
       "5       06/04/2016 19:17  \n",
       "...                  ...  \n",
       "354363  29/03/2016 10:17  \n",
       "354364  21/03/2016 10:42  \n",
       "354366  11/03/2016 18:17  \n",
       "354367  07/04/2016 07:15  \n",
       "354368  24/03/2016 12:45  \n",
       "\n",
       "[333267 rows x 16 columns]"
      ]
     },
     "execution_count": 29,
     "metadata": {},
     "output_type": "execute_result"
    }
   ],
   "source": [
    "mask_price = data['price']>10\n",
    "data=data[mask_price]\n",
    "data\n"
   ]
  },
  {
   "cell_type": "markdown",
   "metadata": {},
   "source": [
    "#### Trabajando con la columna 'registration_month'"
   ]
  },
  {
   "cell_type": "code",
   "execution_count": 30,
   "metadata": {
    "scrolled": false
   },
   "outputs": [
    {
     "data": {
      "text/plain": [
       "registration_month\n",
       "0     30324\n",
       "1     21973\n",
       "2     20352\n",
       "3     33010\n",
       "4     27894\n",
       "5     27768\n",
       "6     29992\n",
       "7     25882\n",
       "8     21629\n",
       "9     22912\n",
       "10    25050\n",
       "11    23274\n",
       "12    23207\n",
       "Name: date_crawled, dtype: int64"
      ]
     },
     "execution_count": 30,
     "metadata": {},
     "output_type": "execute_result"
    }
   ],
   "source": [
    "data.groupby('registration_month')['date_crawled'].count()"
   ]
  },
  {
   "cell_type": "markdown",
   "metadata": {},
   "source": [
    "En esta columna podemos observar que el mes 0 tiene la segunda mayor cantidad de registros, podríamos pensar que los usuarios seleccionaron el primer mes en el selector, esto nos trae problemas debido a que no podríamos utilizar la moda de los modelos, o el promedio del mes seleccionado en el resto de los registros, si bien, saber hace cuantos meses (y años) fue registrado el vehículo puede ser útil para que el comprador tome una decisión, para la predicción del precio del vehículo podríamos tomar por practicidad solamente el año de publicación del vehículo.\n",
    "\n",
    "Con estas conclusiones reafirmamos la decisión inicial de eliminar esta columna"
   ]
  },
  {
   "cell_type": "markdown",
   "metadata": {},
   "source": [
    "#### Eliminando columnas innecesarias para el modelo"
   ]
  },
  {
   "cell_type": "code",
   "execution_count": 31,
   "metadata": {
    "scrolled": true
   },
   "outputs": [
    {
     "data": {
      "text/plain": [
       "Index(['date_crawled', 'price', 'vehicle_type', 'registration_year', 'gearbox',\n",
       "       'power', 'model', 'mileage', 'registration_month', 'fuel_type', 'brand',\n",
       "       'not_repaired', 'date_created', 'number_of_pictures', 'postal_code',\n",
       "       'last_seen'],\n",
       "      dtype='object')"
      ]
     },
     "execution_count": 31,
     "metadata": {},
     "output_type": "execute_result"
    }
   ],
   "source": [
    "data.columns"
   ]
  },
  {
   "cell_type": "code",
   "execution_count": 32,
   "metadata": {},
   "outputs": [],
   "source": [
    "data.drop(['date_crawled','registration_month',\n",
    "           'date_created','number_of_pictures',\n",
    "          'postal_code','last_seen'],axis=1,inplace=True)"
   ]
  },
  {
   "cell_type": "markdown",
   "metadata": {},
   "source": [
    "### Descripción de los datos después de los cambios y normalización"
   ]
  },
  {
   "cell_type": "code",
   "execution_count": 33,
   "metadata": {},
   "outputs": [
    {
     "data": {
      "text/html": [
       "<div>\n",
       "<style scoped>\n",
       "    .dataframe tbody tr th:only-of-type {\n",
       "        vertical-align: middle;\n",
       "    }\n",
       "\n",
       "    .dataframe tbody tr th {\n",
       "        vertical-align: top;\n",
       "    }\n",
       "\n",
       "    .dataframe thead th {\n",
       "        text-align: right;\n",
       "    }\n",
       "</style>\n",
       "<table border=\"1\" class=\"dataframe\">\n",
       "  <thead>\n",
       "    <tr style=\"text-align: right;\">\n",
       "      <th></th>\n",
       "      <th>price</th>\n",
       "      <th>vehicle_type</th>\n",
       "      <th>registration_year</th>\n",
       "      <th>gearbox</th>\n",
       "      <th>power</th>\n",
       "      <th>model</th>\n",
       "      <th>mileage</th>\n",
       "      <th>fuel_type</th>\n",
       "      <th>brand</th>\n",
       "      <th>not_repaired</th>\n",
       "    </tr>\n",
       "  </thead>\n",
       "  <tbody>\n",
       "    <tr>\n",
       "      <th>0</th>\n",
       "      <td>480.0</td>\n",
       "      <td>unknown</td>\n",
       "      <td>1993</td>\n",
       "      <td>manual</td>\n",
       "      <td>105</td>\n",
       "      <td>golf</td>\n",
       "      <td>150000</td>\n",
       "      <td>petrol</td>\n",
       "      <td>volkswagen</td>\n",
       "      <td>yes</td>\n",
       "    </tr>\n",
       "    <tr>\n",
       "      <th>2</th>\n",
       "      <td>9800.0</td>\n",
       "      <td>suv</td>\n",
       "      <td>2004</td>\n",
       "      <td>auto</td>\n",
       "      <td>163</td>\n",
       "      <td>grand</td>\n",
       "      <td>125000</td>\n",
       "      <td>gasoline</td>\n",
       "      <td>jeep</td>\n",
       "      <td>yes</td>\n",
       "    </tr>\n",
       "    <tr>\n",
       "      <th>3</th>\n",
       "      <td>1500.0</td>\n",
       "      <td>small</td>\n",
       "      <td>2001</td>\n",
       "      <td>manual</td>\n",
       "      <td>75</td>\n",
       "      <td>golf</td>\n",
       "      <td>150000</td>\n",
       "      <td>petrol</td>\n",
       "      <td>volkswagen</td>\n",
       "      <td>no</td>\n",
       "    </tr>\n",
       "    <tr>\n",
       "      <th>4</th>\n",
       "      <td>3600.0</td>\n",
       "      <td>small</td>\n",
       "      <td>2008</td>\n",
       "      <td>manual</td>\n",
       "      <td>69</td>\n",
       "      <td>fabia</td>\n",
       "      <td>90000</td>\n",
       "      <td>gasoline</td>\n",
       "      <td>skoda</td>\n",
       "      <td>no</td>\n",
       "    </tr>\n",
       "    <tr>\n",
       "      <th>5</th>\n",
       "      <td>650.0</td>\n",
       "      <td>sedan</td>\n",
       "      <td>1995</td>\n",
       "      <td>manual</td>\n",
       "      <td>102</td>\n",
       "      <td>3er</td>\n",
       "      <td>150000</td>\n",
       "      <td>petrol</td>\n",
       "      <td>bmw</td>\n",
       "      <td>yes</td>\n",
       "    </tr>\n",
       "  </tbody>\n",
       "</table>\n",
       "</div>"
      ],
      "text/plain": [
       "    price vehicle_type  registration_year gearbox  power  model  mileage  \\\n",
       "0   480.0      unknown               1993  manual    105   golf   150000   \n",
       "2  9800.0          suv               2004    auto    163  grand   125000   \n",
       "3  1500.0        small               2001  manual     75   golf   150000   \n",
       "4  3600.0        small               2008  manual     69  fabia    90000   \n",
       "5   650.0        sedan               1995  manual    102    3er   150000   \n",
       "\n",
       "  fuel_type       brand not_repaired  \n",
       "0    petrol  volkswagen          yes  \n",
       "2  gasoline        jeep          yes  \n",
       "3    petrol  volkswagen           no  \n",
       "4  gasoline       skoda           no  \n",
       "5    petrol         bmw          yes  "
      ]
     },
     "execution_count": 33,
     "metadata": {},
     "output_type": "execute_result"
    }
   ],
   "source": [
    "data.head()"
   ]
  },
  {
   "cell_type": "code",
   "execution_count": 34,
   "metadata": {
    "scrolled": false
   },
   "outputs": [
    {
     "data": {
      "text/html": [
       "<div>\n",
       "<style scoped>\n",
       "    .dataframe tbody tr th:only-of-type {\n",
       "        vertical-align: middle;\n",
       "    }\n",
       "\n",
       "    .dataframe tbody tr th {\n",
       "        vertical-align: top;\n",
       "    }\n",
       "\n",
       "    .dataframe thead th {\n",
       "        text-align: right;\n",
       "    }\n",
       "</style>\n",
       "<table border=\"1\" class=\"dataframe\">\n",
       "  <thead>\n",
       "    <tr style=\"text-align: right;\">\n",
       "      <th></th>\n",
       "      <th>price</th>\n",
       "      <th>registration_year</th>\n",
       "      <th>power</th>\n",
       "      <th>mileage</th>\n",
       "    </tr>\n",
       "  </thead>\n",
       "  <tbody>\n",
       "    <tr>\n",
       "      <th>count</th>\n",
       "      <td>333267.000000</td>\n",
       "      <td>333267.000000</td>\n",
       "      <td>333267.000000</td>\n",
       "      <td>333267.000000</td>\n",
       "    </tr>\n",
       "    <tr>\n",
       "      <th>mean</th>\n",
       "      <td>4588.222962</td>\n",
       "      <td>2003.210375</td>\n",
       "      <td>119.327461</td>\n",
       "      <td>128626.251624</td>\n",
       "    </tr>\n",
       "    <tr>\n",
       "      <th>std</th>\n",
       "      <td>4482.252175</td>\n",
       "      <td>7.136372</td>\n",
       "      <td>58.636867</td>\n",
       "      <td>37090.767887</td>\n",
       "    </tr>\n",
       "    <tr>\n",
       "      <th>min</th>\n",
       "      <td>11.000000</td>\n",
       "      <td>1910.000000</td>\n",
       "      <td>1.000000</td>\n",
       "      <td>5000.000000</td>\n",
       "    </tr>\n",
       "    <tr>\n",
       "      <th>25%</th>\n",
       "      <td>1290.000000</td>\n",
       "      <td>1999.000000</td>\n",
       "      <td>82.000000</td>\n",
       "      <td>125000.000000</td>\n",
       "    </tr>\n",
       "    <tr>\n",
       "      <th>50%</th>\n",
       "      <td>2850.000000</td>\n",
       "      <td>2003.000000</td>\n",
       "      <td>105.000000</td>\n",
       "      <td>150000.000000</td>\n",
       "    </tr>\n",
       "    <tr>\n",
       "      <th>75%</th>\n",
       "      <td>6500.000000</td>\n",
       "      <td>2008.000000</td>\n",
       "      <td>143.000000</td>\n",
       "      <td>150000.000000</td>\n",
       "    </tr>\n",
       "    <tr>\n",
       "      <th>max</th>\n",
       "      <td>20000.000000</td>\n",
       "      <td>2019.000000</td>\n",
       "      <td>1937.000000</td>\n",
       "      <td>150000.000000</td>\n",
       "    </tr>\n",
       "  </tbody>\n",
       "</table>\n",
       "</div>"
      ],
      "text/plain": [
       "               price  registration_year          power        mileage\n",
       "count  333267.000000      333267.000000  333267.000000  333267.000000\n",
       "mean     4588.222962        2003.210375     119.327461  128626.251624\n",
       "std      4482.252175           7.136372      58.636867   37090.767887\n",
       "min        11.000000        1910.000000       1.000000    5000.000000\n",
       "25%      1290.000000        1999.000000      82.000000  125000.000000\n",
       "50%      2850.000000        2003.000000     105.000000  150000.000000\n",
       "75%      6500.000000        2008.000000     143.000000  150000.000000\n",
       "max     20000.000000        2019.000000    1937.000000  150000.000000"
      ]
     },
     "execution_count": 34,
     "metadata": {},
     "output_type": "execute_result"
    }
   ],
   "source": [
    "data.describe()"
   ]
  },
  {
   "cell_type": "code",
   "execution_count": 35,
   "metadata": {
    "scrolled": true
   },
   "outputs": [
    {
     "name": "stdout",
     "output_type": "stream",
     "text": [
      "<class 'pandas.core.frame.DataFrame'>\n",
      "Int64Index: 333267 entries, 0 to 354368\n",
      "Data columns (total 10 columns):\n",
      " #   Column             Non-Null Count   Dtype  \n",
      "---  ------             --------------   -----  \n",
      " 0   price              333267 non-null  float64\n",
      " 1   vehicle_type       333267 non-null  object \n",
      " 2   registration_year  333267 non-null  int64  \n",
      " 3   gearbox            333267 non-null  object \n",
      " 4   power              333267 non-null  int64  \n",
      " 5   model              333267 non-null  object \n",
      " 6   mileage            333267 non-null  int64  \n",
      " 7   fuel_type          333267 non-null  object \n",
      " 8   brand              333267 non-null  object \n",
      " 9   not_repaired       333267 non-null  object \n",
      "dtypes: float64(1), int64(3), object(6)\n",
      "memory usage: 28.0+ MB\n"
     ]
    }
   ],
   "source": [
    "data.info()"
   ]
  },
  {
   "cell_type": "markdown",
   "metadata": {},
   "source": [
    "Podemos observar que tenemos 10 columnas con 333,267 registros no nulos,que representan el 94.04% de los datos originales, este porcentaje nos representa una buena integridad de los datos iniciales\n",
    "\n",
    "* Los precios oscilan entre los 11 y 200,000 euros\n",
    "* El año de registro de los vehículos oscila entre 1910 y 2019\n",
    "* La potencia (CV) de los vehículos oscila entre 1 y 1937 caballos de vapor\n",
    "* El millaje de los vehículos oscila entre los 5,000 y 150,000 millas"
   ]
  },
  {
   "cell_type": "markdown",
   "metadata": {},
   "source": [
    "### Preparación de los datos para el modelo\n",
    "En esta sección vamos a realizar el preparado de los datos específicamente para el modelo:\n",
    "* Codificación de características categóricas\n",
    "* Segmentación de datos de prueba y entrenamiento\n",
    "* Escalamiento de los datos\n",
    "* Definición de características y Objetivo\n",
    "\n"
   ]
  },
  {
   "cell_type": "markdown",
   "metadata": {},
   "source": [
    "#### Codificando características categóricas mediante Binary Encoder"
   ]
  },
  {
   "cell_type": "code",
   "execution_count": 36,
   "metadata": {},
   "outputs": [],
   "source": [
    "data2= data.copy()"
   ]
  },
  {
   "cell_type": "code",
   "execution_count": 37,
   "metadata": {},
   "outputs": [
    {
     "data": {
      "text/html": [
       "<div>\n",
       "<style scoped>\n",
       "    .dataframe tbody tr th:only-of-type {\n",
       "        vertical-align: middle;\n",
       "    }\n",
       "\n",
       "    .dataframe tbody tr th {\n",
       "        vertical-align: top;\n",
       "    }\n",
       "\n",
       "    .dataframe thead th {\n",
       "        text-align: right;\n",
       "    }\n",
       "</style>\n",
       "<table border=\"1\" class=\"dataframe\">\n",
       "  <thead>\n",
       "    <tr style=\"text-align: right;\">\n",
       "      <th></th>\n",
       "      <th>price</th>\n",
       "      <th>vehicle_type</th>\n",
       "      <th>registration_year</th>\n",
       "      <th>gearbox</th>\n",
       "      <th>power</th>\n",
       "      <th>model</th>\n",
       "      <th>mileage</th>\n",
       "      <th>fuel_type</th>\n",
       "      <th>brand</th>\n",
       "      <th>not_repaired</th>\n",
       "    </tr>\n",
       "  </thead>\n",
       "  <tbody>\n",
       "    <tr>\n",
       "      <th>0</th>\n",
       "      <td>480.0</td>\n",
       "      <td>unknown</td>\n",
       "      <td>1993</td>\n",
       "      <td>manual</td>\n",
       "      <td>105</td>\n",
       "      <td>golf</td>\n",
       "      <td>150000</td>\n",
       "      <td>petrol</td>\n",
       "      <td>volkswagen</td>\n",
       "      <td>yes</td>\n",
       "    </tr>\n",
       "    <tr>\n",
       "      <th>2</th>\n",
       "      <td>9800.0</td>\n",
       "      <td>suv</td>\n",
       "      <td>2004</td>\n",
       "      <td>auto</td>\n",
       "      <td>163</td>\n",
       "      <td>grand</td>\n",
       "      <td>125000</td>\n",
       "      <td>gasoline</td>\n",
       "      <td>jeep</td>\n",
       "      <td>yes</td>\n",
       "    </tr>\n",
       "    <tr>\n",
       "      <th>3</th>\n",
       "      <td>1500.0</td>\n",
       "      <td>small</td>\n",
       "      <td>2001</td>\n",
       "      <td>manual</td>\n",
       "      <td>75</td>\n",
       "      <td>golf</td>\n",
       "      <td>150000</td>\n",
       "      <td>petrol</td>\n",
       "      <td>volkswagen</td>\n",
       "      <td>no</td>\n",
       "    </tr>\n",
       "    <tr>\n",
       "      <th>4</th>\n",
       "      <td>3600.0</td>\n",
       "      <td>small</td>\n",
       "      <td>2008</td>\n",
       "      <td>manual</td>\n",
       "      <td>69</td>\n",
       "      <td>fabia</td>\n",
       "      <td>90000</td>\n",
       "      <td>gasoline</td>\n",
       "      <td>skoda</td>\n",
       "      <td>no</td>\n",
       "    </tr>\n",
       "    <tr>\n",
       "      <th>5</th>\n",
       "      <td>650.0</td>\n",
       "      <td>sedan</td>\n",
       "      <td>1995</td>\n",
       "      <td>manual</td>\n",
       "      <td>102</td>\n",
       "      <td>3er</td>\n",
       "      <td>150000</td>\n",
       "      <td>petrol</td>\n",
       "      <td>bmw</td>\n",
       "      <td>yes</td>\n",
       "    </tr>\n",
       "    <tr>\n",
       "      <th>...</th>\n",
       "      <td>...</td>\n",
       "      <td>...</td>\n",
       "      <td>...</td>\n",
       "      <td>...</td>\n",
       "      <td>...</td>\n",
       "      <td>...</td>\n",
       "      <td>...</td>\n",
       "      <td>...</td>\n",
       "      <td>...</td>\n",
       "      <td>...</td>\n",
       "    </tr>\n",
       "    <tr>\n",
       "      <th>354363</th>\n",
       "      <td>1150.0</td>\n",
       "      <td>bus</td>\n",
       "      <td>2000</td>\n",
       "      <td>manual</td>\n",
       "      <td>105</td>\n",
       "      <td>zafira</td>\n",
       "      <td>150000</td>\n",
       "      <td>petrol</td>\n",
       "      <td>opel</td>\n",
       "      <td>no</td>\n",
       "    </tr>\n",
       "    <tr>\n",
       "      <th>354364</th>\n",
       "      <td>2700.0</td>\n",
       "      <td>unknown</td>\n",
       "      <td>2005</td>\n",
       "      <td>manual</td>\n",
       "      <td>105</td>\n",
       "      <td>colt</td>\n",
       "      <td>150000</td>\n",
       "      <td>petrol</td>\n",
       "      <td>mitsubishi</td>\n",
       "      <td>yes</td>\n",
       "    </tr>\n",
       "    <tr>\n",
       "      <th>354366</th>\n",
       "      <td>1199.0</td>\n",
       "      <td>convertible</td>\n",
       "      <td>2000</td>\n",
       "      <td>auto</td>\n",
       "      <td>101</td>\n",
       "      <td>fortwo</td>\n",
       "      <td>125000</td>\n",
       "      <td>petrol</td>\n",
       "      <td>smart</td>\n",
       "      <td>no</td>\n",
       "    </tr>\n",
       "    <tr>\n",
       "      <th>354367</th>\n",
       "      <td>9200.0</td>\n",
       "      <td>bus</td>\n",
       "      <td>1996</td>\n",
       "      <td>manual</td>\n",
       "      <td>102</td>\n",
       "      <td>transporter</td>\n",
       "      <td>150000</td>\n",
       "      <td>gasoline</td>\n",
       "      <td>volkswagen</td>\n",
       "      <td>no</td>\n",
       "    </tr>\n",
       "    <tr>\n",
       "      <th>354368</th>\n",
       "      <td>3400.0</td>\n",
       "      <td>wagon</td>\n",
       "      <td>2002</td>\n",
       "      <td>manual</td>\n",
       "      <td>100</td>\n",
       "      <td>golf</td>\n",
       "      <td>150000</td>\n",
       "      <td>gasoline</td>\n",
       "      <td>volkswagen</td>\n",
       "      <td>yes</td>\n",
       "    </tr>\n",
       "  </tbody>\n",
       "</table>\n",
       "<p>333267 rows × 10 columns</p>\n",
       "</div>"
      ],
      "text/plain": [
       "         price vehicle_type  registration_year gearbox  power        model  \\\n",
       "0        480.0      unknown               1993  manual    105         golf   \n",
       "2       9800.0          suv               2004    auto    163        grand   \n",
       "3       1500.0        small               2001  manual     75         golf   \n",
       "4       3600.0        small               2008  manual     69        fabia   \n",
       "5        650.0        sedan               1995  manual    102          3er   \n",
       "...        ...          ...                ...     ...    ...          ...   \n",
       "354363  1150.0          bus               2000  manual    105       zafira   \n",
       "354364  2700.0      unknown               2005  manual    105         colt   \n",
       "354366  1199.0  convertible               2000    auto    101       fortwo   \n",
       "354367  9200.0          bus               1996  manual    102  transporter   \n",
       "354368  3400.0        wagon               2002  manual    100         golf   \n",
       "\n",
       "        mileage fuel_type       brand not_repaired  \n",
       "0        150000    petrol  volkswagen          yes  \n",
       "2        125000  gasoline        jeep          yes  \n",
       "3        150000    petrol  volkswagen           no  \n",
       "4         90000  gasoline       skoda           no  \n",
       "5        150000    petrol         bmw          yes  \n",
       "...         ...       ...         ...          ...  \n",
       "354363   150000    petrol        opel           no  \n",
       "354364   150000    petrol  mitsubishi          yes  \n",
       "354366   125000    petrol       smart           no  \n",
       "354367   150000  gasoline  volkswagen           no  \n",
       "354368   150000  gasoline  volkswagen          yes  \n",
       "\n",
       "[333267 rows x 10 columns]"
      ]
     },
     "execution_count": 37,
     "metadata": {},
     "output_type": "execute_result"
    }
   ],
   "source": [
    "data2"
   ]
  },
  {
   "cell_type": "code",
   "execution_count": 38,
   "metadata": {},
   "outputs": [],
   "source": [
    "#definiendo categorías únicas\n",
    "unique_cat = data['model'].unique()\n",
    "cat_num= len(unique_cat)\n",
    "#Obteniendo el logaritmo base 2 para obtener la cantidad de bits necesarios para cubrir las 250 categorías\n",
    "num_bits = math.ceil(math.log2(cat_num))\n",
    "categorical = ['vehicle_type','gearbox','model','fuel_type','brand','not_repaired']\n"
   ]
  },
  {
   "cell_type": "code",
   "execution_count": 39,
   "metadata": {
    "scrolled": true
   },
   "outputs": [],
   "source": [
    "#Creando una instancia de Binary Encoder\n",
    "binary_enc =ce.BinaryEncoder(cols=data[categorical])\n",
    "#Codificando columnas categóricas\n",
    "data_b_enc= binary_enc.fit_transform(data[categorical])\n",
    "#Concatenando columnas nuevas con columnas existentes y eliminando las columnas categóricas originales\n",
    "#Se crea un nuevo dataframe 'data_encoded'\n",
    "data_encoded = pd.concat([data.drop(data[categorical],axis=1),data_b_enc],axis=1)\n"
   ]
  },
  {
   "cell_type": "markdown",
   "metadata": {},
   "source": [
    "#### Segmentando datos de entrenamiento y validación\n",
    "* Escalando características numéricas"
   ]
  },
  {
   "cell_type": "code",
   "execution_count": 40,
   "metadata": {
    "scrolled": true
   },
   "outputs": [
    {
     "name": "stdout",
     "output_type": "stream",
     "text": [
      "(233286, 29)\n",
      "(99981, 29)\n"
     ]
    }
   ],
   "source": [
    "#Segmentando datos de validación y entrenamiento\n",
    "df_train, df_valid = train_test_split(data_encoded, test_size = 0.3,random_state=12345)\n",
    "df_train_scaled= df_train.copy()\n",
    "df_valid_scaled = df_valid.copy()\n",
    "\n",
    "# Segmentando datos de validación y entrenamiento para  CatBoost\n",
    "df_train, df_valid = train_test_split(data2, test_size = 0.3,random_state=12345)\n",
    "df_train2= df_train.copy()\n",
    "df_valid2 = df_valid.copy()\n",
    "\n",
    "#Escalando características numéricas\n",
    "numeric =['registration_year','power','mileage']\n",
    "scaler = StandardScaler()\n",
    "scaler.fit(df_train[numeric])\n",
    "\n",
    "df_train_scaled.loc[:,numeric] = scaler.transform(df_train_scaled[numeric])\n",
    "df_valid_scaled.loc[:,numeric] = scaler.transform(df_valid_scaled[numeric])\n",
    "\n",
    "\n",
    "print(df_train_scaled.shape)\n",
    "print(df_valid_scaled.shape)\n"
   ]
  },
  {
   "cell_type": "code",
   "execution_count": 41,
   "metadata": {},
   "outputs": [
    {
     "data": {
      "text/html": [
       "<div>\n",
       "<style scoped>\n",
       "    .dataframe tbody tr th:only-of-type {\n",
       "        vertical-align: middle;\n",
       "    }\n",
       "\n",
       "    .dataframe tbody tr th {\n",
       "        vertical-align: top;\n",
       "    }\n",
       "\n",
       "    .dataframe thead th {\n",
       "        text-align: right;\n",
       "    }\n",
       "</style>\n",
       "<table border=\"1\" class=\"dataframe\">\n",
       "  <thead>\n",
       "    <tr style=\"text-align: right;\">\n",
       "      <th></th>\n",
       "      <th>price</th>\n",
       "      <th>registration_year</th>\n",
       "      <th>power</th>\n",
       "      <th>mileage</th>\n",
       "      <th>vehicle_type_0</th>\n",
       "      <th>vehicle_type_1</th>\n",
       "      <th>vehicle_type_2</th>\n",
       "      <th>vehicle_type_3</th>\n",
       "      <th>gearbox_0</th>\n",
       "      <th>gearbox_1</th>\n",
       "      <th>...</th>\n",
       "      <th>fuel_type_1</th>\n",
       "      <th>fuel_type_2</th>\n",
       "      <th>brand_0</th>\n",
       "      <th>brand_1</th>\n",
       "      <th>brand_2</th>\n",
       "      <th>brand_3</th>\n",
       "      <th>brand_4</th>\n",
       "      <th>brand_5</th>\n",
       "      <th>not_repaired_0</th>\n",
       "      <th>not_repaired_1</th>\n",
       "    </tr>\n",
       "  </thead>\n",
       "  <tbody>\n",
       "    <tr>\n",
       "      <th>84837</th>\n",
       "      <td>1200.0</td>\n",
       "      <td>0.250576</td>\n",
       "      <td>-0.245609</td>\n",
       "      <td>0.575511</td>\n",
       "      <td>0</td>\n",
       "      <td>0</td>\n",
       "      <td>0</td>\n",
       "      <td>1</td>\n",
       "      <td>1</td>\n",
       "      <td>0</td>\n",
       "      <td>...</td>\n",
       "      <td>1</td>\n",
       "      <td>0</td>\n",
       "      <td>0</td>\n",
       "      <td>0</td>\n",
       "      <td>0</td>\n",
       "      <td>1</td>\n",
       "      <td>0</td>\n",
       "      <td>0</td>\n",
       "      <td>0</td>\n",
       "      <td>1</td>\n",
       "    </tr>\n",
       "    <tr>\n",
       "      <th>348627</th>\n",
       "      <td>6450.0</td>\n",
       "      <td>1.089438</td>\n",
       "      <td>-0.245609</td>\n",
       "      <td>-1.313432</td>\n",
       "      <td>0</td>\n",
       "      <td>0</td>\n",
       "      <td>1</td>\n",
       "      <td>1</td>\n",
       "      <td>0</td>\n",
       "      <td>1</td>\n",
       "      <td>...</td>\n",
       "      <td>0</td>\n",
       "      <td>1</td>\n",
       "      <td>0</td>\n",
       "      <td>0</td>\n",
       "      <td>0</td>\n",
       "      <td>1</td>\n",
       "      <td>1</td>\n",
       "      <td>0</td>\n",
       "      <td>1</td>\n",
       "      <td>0</td>\n",
       "    </tr>\n",
       "    <tr>\n",
       "      <th>248206</th>\n",
       "      <td>2900.0</td>\n",
       "      <td>-0.029045</td>\n",
       "      <td>-0.951659</td>\n",
       "      <td>-0.773734</td>\n",
       "      <td>0</td>\n",
       "      <td>0</td>\n",
       "      <td>1</td>\n",
       "      <td>1</td>\n",
       "      <td>0</td>\n",
       "      <td>1</td>\n",
       "      <td>...</td>\n",
       "      <td>0</td>\n",
       "      <td>1</td>\n",
       "      <td>0</td>\n",
       "      <td>0</td>\n",
       "      <td>0</td>\n",
       "      <td>0</td>\n",
       "      <td>0</td>\n",
       "      <td>1</td>\n",
       "      <td>1</td>\n",
       "      <td>0</td>\n",
       "    </tr>\n",
       "    <tr>\n",
       "      <th>137921</th>\n",
       "      <td>2700.0</td>\n",
       "      <td>-0.029045</td>\n",
       "      <td>0.202130</td>\n",
       "      <td>0.575511</td>\n",
       "      <td>0</td>\n",
       "      <td>1</td>\n",
       "      <td>0</td>\n",
       "      <td>0</td>\n",
       "      <td>0</td>\n",
       "      <td>1</td>\n",
       "      <td>...</td>\n",
       "      <td>1</td>\n",
       "      <td>0</td>\n",
       "      <td>0</td>\n",
       "      <td>1</td>\n",
       "      <td>0</td>\n",
       "      <td>0</td>\n",
       "      <td>1</td>\n",
       "      <td>1</td>\n",
       "      <td>1</td>\n",
       "      <td>0</td>\n",
       "    </tr>\n",
       "    <tr>\n",
       "      <th>224745</th>\n",
       "      <td>6900.0</td>\n",
       "      <td>-3.803926</td>\n",
       "      <td>-1.468281</td>\n",
       "      <td>-2.122979</td>\n",
       "      <td>0</td>\n",
       "      <td>0</td>\n",
       "      <td>1</td>\n",
       "      <td>1</td>\n",
       "      <td>0</td>\n",
       "      <td>1</td>\n",
       "      <td>...</td>\n",
       "      <td>0</td>\n",
       "      <td>1</td>\n",
       "      <td>0</td>\n",
       "      <td>0</td>\n",
       "      <td>0</td>\n",
       "      <td>0</td>\n",
       "      <td>0</td>\n",
       "      <td>1</td>\n",
       "      <td>1</td>\n",
       "      <td>0</td>\n",
       "    </tr>\n",
       "  </tbody>\n",
       "</table>\n",
       "<p>5 rows × 29 columns</p>\n",
       "</div>"
      ],
      "text/plain": [
       "         price  registration_year     power   mileage  vehicle_type_0  \\\n",
       "84837   1200.0           0.250576 -0.245609  0.575511               0   \n",
       "348627  6450.0           1.089438 -0.245609 -1.313432               0   \n",
       "248206  2900.0          -0.029045 -0.951659 -0.773734               0   \n",
       "137921  2700.0          -0.029045  0.202130  0.575511               0   \n",
       "224745  6900.0          -3.803926 -1.468281 -2.122979               0   \n",
       "\n",
       "        vehicle_type_1  vehicle_type_2  vehicle_type_3  gearbox_0  gearbox_1  \\\n",
       "84837                0               0               1          1          0   \n",
       "348627               0               1               1          0          1   \n",
       "248206               0               1               1          0          1   \n",
       "137921               1               0               0          0          1   \n",
       "224745               0               1               1          0          1   \n",
       "\n",
       "        ...  fuel_type_1  fuel_type_2  brand_0  brand_1  brand_2  brand_3  \\\n",
       "84837   ...            1            0        0        0        0        1   \n",
       "348627  ...            0            1        0        0        0        1   \n",
       "248206  ...            0            1        0        0        0        0   \n",
       "137921  ...            1            0        0        1        0        0   \n",
       "224745  ...            0            1        0        0        0        0   \n",
       "\n",
       "        brand_4  brand_5  not_repaired_0  not_repaired_1  \n",
       "84837         0        0               0               1  \n",
       "348627        1        0               1               0  \n",
       "248206        0        1               1               0  \n",
       "137921        1        1               1               0  \n",
       "224745        0        1               1               0  \n",
       "\n",
       "[5 rows x 29 columns]"
      ]
     },
     "execution_count": 41,
     "metadata": {},
     "output_type": "execute_result"
    }
   ],
   "source": [
    "df_valid_scaled.head()"
   ]
  },
  {
   "cell_type": "markdown",
   "metadata": {},
   "source": [
    "#### Definiendo características y objetivo"
   ]
  },
  {
   "cell_type": "code",
   "execution_count": 42,
   "metadata": {},
   "outputs": [
    {
     "name": "stdout",
     "output_type": "stream",
     "text": [
      "28\n",
      "9\n"
     ]
    }
   ],
   "source": [
    "#Definiendo características y objetivo\n",
    "target = 'price'\n",
    "features = [i for i in data_encoded.columns if i not in target]\n",
    "print(len(features))\n",
    "\n",
    "#Definiendo características para CatBoostRegressor\n",
    "features2 = [i for i in data2.columns if i not in target]\n",
    "print(len(features2))"
   ]
  },
  {
   "cell_type": "markdown",
   "metadata": {},
   "source": [
    "## Entrenamiento del modelo "
   ]
  },
  {
   "cell_type": "markdown",
   "metadata": {},
   "source": [
    "### Modelo de regresión lineal (modelo base)"
   ]
  },
  {
   "cell_type": "code",
   "execution_count": 43,
   "metadata": {
    "scrolled": true
   },
   "outputs": [
    {
     "name": "stdout",
     "output_type": "stream",
     "text": [
      "CPU times: user 362 ms, sys: 158 ms, total: 519 ms\n",
      "Wall time: 497 ms\n"
     ]
    },
    {
     "data": {
      "text/plain": [
       "LinearRegression()"
      ]
     },
     "execution_count": 43,
     "metadata": {},
     "output_type": "execute_result"
    }
   ],
   "source": [
    "%%time\n",
    "model_lr = LinearRegression()\n",
    "model_lr.fit(df_train_scaled[features],df_train_scaled[target])"
   ]
  },
  {
   "cell_type": "code",
   "execution_count": 44,
   "metadata": {},
   "outputs": [
    {
     "name": "stdout",
     "output_type": "stream",
     "text": [
      "CPU times: user 4.52 ms, sys: 19 ms, total: 23.5 ms\n",
      "Wall time: 19.1 ms\n"
     ]
    }
   ],
   "source": [
    "%%time\n",
    "predictions_valid = model_lr.predict(df_valid_scaled[features])"
   ]
  },
  {
   "cell_type": "code",
   "execution_count": 45,
   "metadata": {},
   "outputs": [
    {
     "name": "stdout",
     "output_type": "stream",
     "text": [
      "el precio promedio predicho de los vehículos es: 4598.69 euros\n",
      "el error medio cuadrático para la estimaciones es: 3080.16 euros\n"
     ]
    }
   ],
   "source": [
    "mean_lrmodel = predictions_valid.mean()\n",
    "mse = mean_squared_error(df_valid[target],predictions_valid)\n",
    "rmse = mse **.5\n",
    "print(f'el precio promedio predicho de los vehículos es: {round(mean_lrmodel,2)} euros')\n",
    "print(f'el error medio cuadrático para la estimaciones es: {round(rmse,2)} euros')\n"
   ]
  },
  {
   "cell_type": "markdown",
   "metadata": {},
   "source": [
    "Podemos observar que la regresión lineal nos arrojó una predicción promedio de 4,598 euros y un RMSE de 3,080 euros, el desempeño del modelo no es muy bueno, sin embargo, lo importante del modelo de regresión lineal (para este ejercicio) es utilizarlo para hacer una prueba de cordura de otros métodos."
   ]
  },
  {
   "cell_type": "markdown",
   "metadata": {},
   "source": [
    "### Random Forest Regressor sin ajuste de hiperparámetros (modelo base)"
   ]
  },
  {
   "cell_type": "code",
   "execution_count": 46,
   "metadata": {},
   "outputs": [
    {
     "name": "stdout",
     "output_type": "stream",
     "text": [
      "CPU times: user 37.1 s, sys: 241 ms, total: 37.3 s\n",
      "Wall time: 37.4 s\n"
     ]
    },
    {
     "data": {
      "text/plain": [
       "RandomForestRegressor(n_estimators=30, random_state=12345)"
      ]
     },
     "execution_count": 46,
     "metadata": {},
     "output_type": "execute_result"
    }
   ],
   "source": [
    "%%time\n",
    "model_rf= RandomForestRegressor(n_estimators=30, random_state=12345)\n",
    "model_rf.fit(df_train_scaled[features],df_train_scaled[target])"
   ]
  },
  {
   "cell_type": "code",
   "execution_count": 47,
   "metadata": {
    "scrolled": true
   },
   "outputs": [
    {
     "name": "stdout",
     "output_type": "stream",
     "text": [
      "CPU times: user 1.31 s, sys: 7.86 ms, total: 1.32 s\n",
      "Wall time: 1.33 s\n"
     ]
    }
   ],
   "source": [
    "%%time\n",
    "predictions_rf = model_rf.predict(df_valid_scaled[features])"
   ]
  },
  {
   "cell_type": "code",
   "execution_count": 48,
   "metadata": {},
   "outputs": [
    {
     "name": "stdout",
     "output_type": "stream",
     "text": [
      "el precio promedio predicho de los vehículos es: 4611.18 euros\n",
      "el error medio cuadrático para la estimaciones es: 1719.13 euros\n"
     ]
    }
   ],
   "source": [
    "mean_rfmodel = predictions_rf.mean()\n",
    "mse = mean_squared_error(df_valid[target],predictions_rf)\n",
    "rmse = mse **.5\n",
    "print(f'el precio promedio predicho de los vehículos es: {round(mean_rfmodel,2)} euros')\n",
    "print(f'el error medio cuadrático para la estimaciones es: {round(rmse,2)} euros')\n",
    "\n"
   ]
  },
  {
   "cell_type": "code",
   "execution_count": 49,
   "metadata": {},
   "outputs": [],
   "source": [
    "#Borrando variables para evitar kernel se muera.\n",
    "del model_rf\n",
    "del mse\n",
    "del rmse\n"
   ]
  },
  {
   "cell_type": "markdown",
   "metadata": {},
   "source": [
    "### Random Forest Regressor con ajuste de hiperparámetros"
   ]
  },
  {
   "cell_type": "code",
   "execution_count": 50,
   "metadata": {},
   "outputs": [
    {
     "name": "stdout",
     "output_type": "stream",
     "text": [
      "CPU times: user 83 µs, sys: 4 µs, total: 87 µs\n",
      "Wall time: 89.2 µs\n"
     ]
    }
   ],
   "source": [
    "%%time\n",
    "param_grid = {'n_estimators': [50,60],\n",
    "                'max_features': ['log2', 'sqrt']}\n",
    "\n",
    "grid_search = GridSearchCV(RandomForestRegressor(random_state=12345),\n",
    "                           param_grid=param_grid, scoring='neg_root_mean_squared_error', n_jobs=-1)\n"
   ]
  },
  {
   "cell_type": "code",
   "execution_count": 51,
   "metadata": {},
   "outputs": [
    {
     "name": "stdout",
     "output_type": "stream",
     "text": [
      "CPU times: user 5min 22s, sys: 5.7 s, total: 5min 28s\n",
      "Wall time: 5min 28s\n"
     ]
    },
    {
     "data": {
      "text/plain": [
       "GridSearchCV(estimator=RandomForestRegressor(random_state=12345), n_jobs=-1,\n",
       "             param_grid={'max_features': ['log2', 'sqrt'],\n",
       "                         'n_estimators': [50, 60]},\n",
       "             scoring='neg_root_mean_squared_error')"
      ]
     },
     "execution_count": 51,
     "metadata": {},
     "output_type": "execute_result"
    }
   ],
   "source": [
    "%%time\n",
    "grid_search.fit(df_train_scaled[features],df_train_scaled[target])\n",
    "# Wall time: 5min 44s\n"
   ]
  },
  {
   "cell_type": "code",
   "execution_count": 52,
   "metadata": {},
   "outputs": [
    {
     "name": "stdout",
     "output_type": "stream",
     "text": [
      "CPU times: user 5 µs, sys: 0 ns, total: 5 µs\n",
      "Wall time: 9.06 µs\n"
     ]
    }
   ],
   "source": [
    "%%time\n",
    "best_model_rf = grid_search.best_estimator_\n"
   ]
  },
  {
   "cell_type": "code",
   "execution_count": 53,
   "metadata": {
    "scrolled": true
   },
   "outputs": [
    {
     "name": "stdout",
     "output_type": "stream",
     "text": [
      "{'max_features': 'sqrt', 'n_estimators': 60}\n"
     ]
    }
   ],
   "source": [
    "print(grid_search.best_params_)"
   ]
  },
  {
   "cell_type": "code",
   "execution_count": 54,
   "metadata": {},
   "outputs": [
    {
     "name": "stdout",
     "output_type": "stream",
     "text": [
      "el precio promedio predicho de los vehículos es: 4580.58 euros\n",
      "el error medio cuadrático para la estimaciones es: 1683.79 euros\n",
      "CPU times: user 2.63 s, sys: 8.01 ms, total: 2.64 s\n",
      "Wall time: 2.67 s\n"
     ]
    }
   ],
   "source": [
    "%%time\n",
    "final_rf_predicitons= best_model_rf.predict(df_valid_scaled[features])\n",
    "mse_cv_rf = mean_squared_error(df_valid[target],final_rf_predicitons)\n",
    "final_rf_rmse = mse_cv_rf**.5\n",
    "print(f'el precio promedio predicho de los vehículos es: {round(final_rf_predicitons.mean(),2)} euros')\n",
    "print(f'el error medio cuadrático para la estimaciones es: {round(final_rf_rmse,2)} euros')\n",
    "\n"
   ]
  },
  {
   "cell_type": "code",
   "execution_count": 55,
   "metadata": {},
   "outputs": [],
   "source": [
    "del best_model_rf\n",
    "del final_rf_predicitons\n",
    "del mse_cv_rf\n",
    "del final_rf_rmse"
   ]
  },
  {
   "cell_type": "markdown",
   "metadata": {},
   "source": [
    "### LightGBM sin ajuste de hiperparámetros (modelo base)"
   ]
  },
  {
   "cell_type": "code",
   "execution_count": 56,
   "metadata": {
    "scrolled": true
   },
   "outputs": [
    {
     "name": "stdout",
     "output_type": "stream",
     "text": [
      "CPU times: user 4.81 s, sys: 67.6 ms, total: 4.88 s\n",
      "Wall time: 4.87 s\n"
     ]
    },
    {
     "data": {
      "text/plain": [
       "LGBMRegressor(random_state=12345)"
      ]
     },
     "execution_count": 56,
     "metadata": {},
     "output_type": "execute_result"
    }
   ],
   "source": [
    "%%time\n",
    "lgbm_b_model= LGBMRegressor(random_state=12345)\n",
    "lgbm_b_model.fit(df_train_scaled[features],df_train_scaled[target])\n"
   ]
  },
  {
   "cell_type": "code",
   "execution_count": 57,
   "metadata": {},
   "outputs": [
    {
     "name": "stdout",
     "output_type": "stream",
     "text": [
      "CPU times: user 888 ms, sys: 7.92 ms, total: 896 ms\n",
      "Wall time: 893 ms\n"
     ]
    }
   ],
   "source": [
    "%%time\n",
    "lgbm_b_predictions = lgbm_b_model.predict(df_valid_scaled[features])\n",
    "lgbm_b_mean = lgbm_b_predictions.mean()\n",
    "lgbm_b_mse= mean_squared_error(df_valid_scaled[target],lgbm_b_predictions)\n",
    "lgbm_b_rmse= lgbm_b_mse **.5"
   ]
  },
  {
   "cell_type": "code",
   "execution_count": 58,
   "metadata": {},
   "outputs": [
    {
     "name": "stdout",
     "output_type": "stream",
     "text": [
      "el precio promedio predicho de los vehículos es: 4589.93 euros\n",
      "el error medio cuadrático para la estimaciones es: 1823.87 euros\n"
     ]
    }
   ],
   "source": [
    "print(f'el precio promedio predicho de los vehículos es: {round(lgbm_b_mean,2)} euros')\n",
    "print(f'el error medio cuadrático para la estimaciones es: {round(lgbm_b_rmse,2)} euros')"
   ]
  },
  {
   "cell_type": "code",
   "execution_count": 59,
   "metadata": {},
   "outputs": [],
   "source": [
    "del lgbm_b_model\n",
    "del lgbm_b_predictions\n",
    "del lgbm_b_mean\n",
    "del lgbm_b_mse\n",
    "del lgbm_b_rmse"
   ]
  },
  {
   "cell_type": "markdown",
   "metadata": {},
   "source": [
    "### LightGBM con ajuste de hiperparámetros"
   ]
  },
  {
   "cell_type": "code",
   "execution_count": 60,
   "metadata": {},
   "outputs": [],
   "source": [
    "param_grid={'num_leaves':[50,100],\n",
    "       'max_depth':[3,5],\n",
    "       'learning_rate':[None,.01],\n",
    "}\n"
   ]
  },
  {
   "cell_type": "code",
   "execution_count": 61,
   "metadata": {},
   "outputs": [],
   "source": [
    "gridsearch_lgbm = GridSearchCV(LGBMRegressor(random_state=12345),\n",
    "                               param_grid=param_grid,n_jobs=-1,scoring='neg_root_mean_squared_error')"
   ]
  },
  {
   "cell_type": "code",
   "execution_count": 62,
   "metadata": {},
   "outputs": [
    {
     "name": "stdout",
     "output_type": "stream",
     "text": [
      "CPU times: user 4min 5s, sys: 1.98 s, total: 4min 7s\n",
      "Wall time: 4min 8s\n"
     ]
    },
    {
     "data": {
      "text/plain": [
       "GridSearchCV(estimator=LGBMRegressor(random_state=12345), n_jobs=-1,\n",
       "             param_grid={'learning_rate': [None, 0.01], 'max_depth': [None, 10],\n",
       "                         'num_leaves': [50, 100]},\n",
       "             scoring='neg_root_mean_squared_error')"
      ]
     },
     "execution_count": 62,
     "metadata": {},
     "output_type": "execute_result"
    }
   ],
   "source": [
    "%%time\n",
    "gridsearch_lgbm.fit(df_train_scaled[features],df_train_scaled[target])\n",
    "\n"
   ]
  },
  {
   "cell_type": "code",
   "execution_count": 63,
   "metadata": {},
   "outputs": [],
   "source": [
    "gridsearch_lgbm_best= gridsearch_lgbm.best_estimator_"
   ]
  },
  {
   "cell_type": "code",
   "execution_count": 64,
   "metadata": {
    "scrolled": true
   },
   "outputs": [
    {
     "name": "stdout",
     "output_type": "stream",
     "text": [
      "{'learning_rate': None, 'max_depth': None, 'num_leaves': 100}\n"
     ]
    }
   ],
   "source": [
    "print(gridsearch_lgbm.best_params_)\n",
    "# {'learning_rate': None, 'max_depth': None, 'num_leaves': 100}"
   ]
  },
  {
   "cell_type": "markdown",
   "metadata": {},
   "source": [
    "Esto indica que los mejores parámetros fueron:\n",
    "\n",
    "* **learning_rate= 0.1**\n",
    "* **max_depth = -1**\n",
    "* **num_leaves= 100**"
   ]
  },
  {
   "cell_type": "code",
   "execution_count": 65,
   "metadata": {},
   "outputs": [
    {
     "name": "stdout",
     "output_type": "stream",
     "text": [
      "el precio promedio predicho de los vehículos es: 4592.53 euros\n",
      "el error medio cuadrático para la estimaciones es: 1718.73 euros\n",
      "CPU times: user 1.26 s, sys: 8.06 ms, total: 1.26 s\n",
      "Wall time: 1.29 s\n"
     ]
    }
   ],
   "source": [
    "%%time\n",
    "final_lgbm_predicitons= gridsearch_lgbm_best.predict(df_valid_scaled[features])\n",
    "mse_cv_lgbm = mean_squared_error(df_valid[target],final_lgbm_predicitons)\n",
    "final_lgbm_rmse = mse_cv_lgbm**.5\n",
    "print(f'el precio promedio predicho de los vehículos es: {round(final_lgbm_predicitons.mean(),2)} euros')\n",
    "print(f'el error medio cuadrático para la estimaciones es: {round(final_lgbm_rmse,2)} euros')\n",
    "\n"
   ]
  },
  {
   "cell_type": "code",
   "execution_count": 66,
   "metadata": {},
   "outputs": [],
   "source": [
    "del gridsearch_lgbm\n",
    "del gridsearch_lgbm_best\n",
    "del final_lgbm_predicitons\n",
    "del mse_cv_lgbm\n",
    "del final_lgbm_rmse"
   ]
  },
  {
   "cell_type": "markdown",
   "metadata": {},
   "source": [
    "### Catboost sin ajuste de hiperparámetros (modelo base)"
   ]
  },
  {
   "cell_type": "code",
   "execution_count": 67,
   "metadata": {},
   "outputs": [],
   "source": [
    "#Definiendo características categóricas\n",
    "cat_features=['vehicle_type','gearbox','model','fuel_type','brand','not_repaired']"
   ]
  },
  {
   "cell_type": "code",
   "execution_count": 68,
   "metadata": {
    "scrolled": true
   },
   "outputs": [
    {
     "name": "stdout",
     "output_type": "stream",
     "text": [
      "Learning rate set to 0.453048\n",
      "0:\tlearn: 3372.4091298\ttotal: 217ms\tremaining: 32.4s\n",
      "100:\tlearn: 1717.9328863\ttotal: 15.6s\tremaining: 7.55s\n",
      "149:\tlearn: 1681.9248020\ttotal: 23.3s\tremaining: 0us\n",
      "CPU times: user 23.4 s, sys: 136 ms, total: 23.5 s\n",
      "Wall time: 24 s\n"
     ]
    },
    {
     "data": {
      "text/plain": [
       "<catboost.core.CatBoostRegressor at 0x7fd951b0d0d0>"
      ]
     },
     "execution_count": 68,
     "metadata": {},
     "output_type": "execute_result"
    }
   ],
   "source": [
    "%%time\n",
    "cb_model= CatBoostRegressor(random_state=12345, loss_function='RMSE', iterations=150)\n",
    "cb_model.fit(df_train2[features2],df_train2[target],verbose=100,cat_features=cat_features)"
   ]
  },
  {
   "cell_type": "code",
   "execution_count": 69,
   "metadata": {},
   "outputs": [
    {
     "name": "stdout",
     "output_type": "stream",
     "text": [
      "el precio promedio predicho de los vehículos es: 4594.54 euros\n",
      "el error medio cuadrático para la estimaciones es: 1743.44 euros\n",
      "CPU times: user 175 ms, sys: 3.99 ms, total: 179 ms\n",
      "Wall time: 178 ms\n"
     ]
    }
   ],
   "source": [
    "%%time\n",
    "cb_predictions = cb_model.predict(df_valid2[features2])\n",
    "cb_mean = cb_predictions.mean()\n",
    "cb_mse= mean_squared_error(df_valid2[target],cb_predictions)\n",
    "cb_rmse= cb_mse **.5\n",
    "\n",
    "print(f'el precio promedio predicho de los vehículos es: {round(cb_mean,2)} euros')\n",
    "print(f'el error medio cuadrático para la estimaciones es: {round(cb_rmse,2)} euros')"
   ]
  },
  {
   "cell_type": "code",
   "execution_count": 70,
   "metadata": {},
   "outputs": [],
   "source": [
    "del cb_model\n",
    "del cb_predictions\n",
    "del cb_mean\n",
    "del cb_mse\n",
    "del cb_rmse"
   ]
  },
  {
   "cell_type": "markdown",
   "metadata": {},
   "source": [
    "### Catboost con ajuste de hiperparámetros"
   ]
  },
  {
   "cell_type": "code",
   "execution_count": 71,
   "metadata": {},
   "outputs": [],
   "source": [
    "param_grid={\n",
    "           'learning_rate':[0.5],\n",
    "    'depth':[5,10],\n",
    "    'early_stopping_rounds': [7]\n",
    "           }\n"
   ]
  },
  {
   "cell_type": "markdown",
   "metadata": {},
   "source": [
    "En el paso anterior probamos las siguientes combinaciones:\n",
    "\n",
    "**Configuración 1:**\n",
    "* 'iterations'\n",
    "    * [100,1000]\n",
    "* 'learning_rate':[0.1,.01]\n",
    "* RECM: aproximado de 1657 euros\n",
    "* Wall time: 51min 2s\n",
    "\n",
    "**Configuración 2:**\n",
    "* 'iterations'\n",
    "    * [100,500]\n",
    "* 'learning_rate':[0.1,.01]\n",
    "* RECM: 1721.26 euros \n",
    "* Wall time: 27min 2s\n",
    "\n",
    "**Configuración 3:**\n",
    "* 'iterations'\n",
    "    * [100,1000]\n",
    "* 'learning_rate':[0.1]\n",
    "* RECM: aproximado de \n",
    "* Wall time: \n",
    "\n",
    "decidimos conservar la configuración 3 por su desempeño tanto en el estimador como en el tiempo de procesamiento.\n",
    "\n"
   ]
  },
  {
   "cell_type": "code",
   "execution_count": 72,
   "metadata": {},
   "outputs": [],
   "source": [
    "cb_gridsearch= GridSearchCV(CatBoostRegressor(random_state=12345,loss_function='RMSE',iterations=150),param_grid=param_grid, n_jobs=-1)"
   ]
  },
  {
   "cell_type": "code",
   "execution_count": 73,
   "metadata": {
    "scrolled": true
   },
   "outputs": [
    {
     "name": "stdout",
     "output_type": "stream",
     "text": [
      "0:\tlearn: 3314.2450892\ttotal: 119ms\tremaining: 17.7s\n",
      "100:\tlearn: 1755.8005997\ttotal: 10.7s\tremaining: 5.2s\n",
      "149:\tlearn: 1719.7409511\ttotal: 15.9s\tremaining: 0us\n",
      "0:\tlearn: 3329.7553209\ttotal: 119ms\tremaining: 17.7s\n",
      "100:\tlearn: 1752.7349594\ttotal: 10.6s\tremaining: 5.15s\n",
      "149:\tlearn: 1718.7820876\ttotal: 15.7s\tremaining: 0us\n",
      "0:\tlearn: 3322.8128032\ttotal: 116ms\tremaining: 17.3s\n",
      "100:\tlearn: 1757.1143035\ttotal: 10.7s\tremaining: 5.18s\n",
      "149:\tlearn: 1721.4998362\ttotal: 15.8s\tremaining: 0us\n",
      "0:\tlearn: 3328.7134088\ttotal: 117ms\tremaining: 17.4s\n",
      "100:\tlearn: 1762.9185007\ttotal: 10.7s\tremaining: 5.18s\n",
      "149:\tlearn: 1726.6128477\ttotal: 15.8s\tremaining: 0us\n",
      "0:\tlearn: 3288.2150254\ttotal: 122ms\tremaining: 18.1s\n",
      "100:\tlearn: 1762.3299598\ttotal: 10.7s\tremaining: 5.17s\n",
      "149:\tlearn: 1728.2869439\ttotal: 15.8s\tremaining: 0us\n",
      "0:\tlearn: 3081.7762402\ttotal: 228ms\tremaining: 33.9s\n",
      "100:\tlearn: 1510.3925690\ttotal: 22.5s\tremaining: 10.9s\n",
      "149:\tlearn: 1456.0737623\ttotal: 33.5s\tremaining: 0us\n",
      "0:\tlearn: 3070.1642003\ttotal: 235ms\tremaining: 34.9s\n",
      "100:\tlearn: 1500.5652713\ttotal: 22.5s\tremaining: 10.9s\n",
      "149:\tlearn: 1446.1404155\ttotal: 33.5s\tremaining: 0us\n",
      "0:\tlearn: 3097.7268146\ttotal: 233ms\tremaining: 34.7s\n",
      "100:\tlearn: 1509.0714260\ttotal: 22.6s\tremaining: 11s\n",
      "149:\tlearn: 1451.2808945\ttotal: 33.4s\tremaining: 0us\n",
      "0:\tlearn: 3093.1557822\ttotal: 233ms\tremaining: 34.7s\n",
      "100:\tlearn: 1513.6070417\ttotal: 22.9s\tremaining: 11.1s\n",
      "149:\tlearn: 1457.4395034\ttotal: 33.8s\tremaining: 0us\n",
      "0:\tlearn: 3075.1502695\ttotal: 249ms\tremaining: 37.1s\n",
      "100:\tlearn: 1518.4626910\ttotal: 22.6s\tremaining: 11s\n",
      "149:\tlearn: 1462.6270468\ttotal: 33.6s\tremaining: 0us\n",
      "0:\tlearn: 3090.5125278\ttotal: 291ms\tremaining: 43.4s\n",
      "100:\tlearn: 1518.6174617\ttotal: 28.1s\tremaining: 13.6s\n",
      "149:\tlearn: 1467.6785242\ttotal: 41.6s\tremaining: 0us\n",
      "CPU times: user 4min 53s, sys: 806 ms, total: 4min 53s\n",
      "Wall time: 4min 55s\n"
     ]
    },
    {
     "data": {
      "text/plain": [
       "GridSearchCV(estimator=<catboost.core.CatBoostRegressor object at 0x7fd951b11af0>,\n",
       "             n_jobs=-1,\n",
       "             param_grid={'depth': [5, 10], 'early_stopping_rounds': [7],\n",
       "                         'learning_rate': [0.5]})"
      ]
     },
     "execution_count": 73,
     "metadata": {},
     "output_type": "execute_result"
    }
   ],
   "source": [
    "%%time\n",
    "cb_gridsearch.fit(df_train2[features2],df_train2[target],verbose=100,cat_features=cat_features)\n",
    "# Wall time: 51min 2s\n"
   ]
  },
  {
   "cell_type": "code",
   "execution_count": 74,
   "metadata": {},
   "outputs": [],
   "source": [
    "cb_gridsearch_best = cb_gridsearch.best_estimator_"
   ]
  },
  {
   "cell_type": "code",
   "execution_count": 75,
   "metadata": {},
   "outputs": [
    {
     "data": {
      "text/plain": [
       "{'depth': 10, 'early_stopping_rounds': 7, 'learning_rate': 0.5}"
      ]
     },
     "execution_count": 75,
     "metadata": {},
     "output_type": "execute_result"
    }
   ],
   "source": [
    "cb_gridsearch.best_params_"
   ]
  },
  {
   "cell_type": "code",
   "execution_count": 76,
   "metadata": {},
   "outputs": [
    {
     "name": "stdout",
     "output_type": "stream",
     "text": [
      "el precio promedio predicho de los vehículos es: 4585.31 euros\n",
      "el error medio cuadrático para la estimaciones es: 1683.11 euros\n",
      "CPU times: user 225 ms, sys: 10 µs, total: 225 ms\n",
      "Wall time: 254 ms\n"
     ]
    }
   ],
   "source": [
    "%%time\n",
    "cb_f_predictions = cb_gridsearch_best.predict(df_valid2[features2])\n",
    "cb_f_mean = cb_f_predictions.mean()\n",
    "cb_f_mse= mean_squared_error(df_valid2[target],cb_f_predictions)\n",
    "cb_f_rmse= cb_f_mse **.5\n",
    "\n",
    "print(f'el precio promedio predicho de los vehículos es: {round(cb_f_mean,2)} euros')\n",
    "print(f'el error medio cuadrático para la estimaciones es: {round(cb_f_rmse,2)} euros')"
   ]
  },
  {
   "cell_type": "markdown",
   "metadata": {},
   "source": [
    "## Conclusiones"
   ]
  },
  {
   "cell_type": "markdown",
   "metadata": {},
   "source": [
    "### Conclusiones de los modelos\n",
    "\n",
    "Resumamos los resultados obtenidos:\n",
    "\n",
    "**Regresión lineal sin ajuste de hiperparámetros (modelo benchmark)**:\n",
    "* Tiempo de entrenamiento : 579 ms\n",
    "* Tiempo de predicción : 1.42 s\n",
    "* Precio promedio en la predicción = 4598.69 euros\n",
    "* Error cuadrático medio = 3080.16\n",
    "\n",
    "*Un error muy grande si lo comparamos con la media*\n",
    "\n",
    "**Random Forest Regressor sin ajuste de hiperparámetros**\n",
    "* Tiempo de entrenamiento : 37.1 s\n",
    "* Tiempo de predicción : 1.42 s\n",
    "* Precio promedio en la predicción = 4611.18 euros\n",
    "* Error cuadrático medio = 1719.13\n",
    "\n",
    "*Podemos observar la primera iteración de mejora del RMSE*\n",
    "\n",
    "**Random Forest Regressor con ajuste de hiperparámetros mediante GridSearchCV**\n",
    "* Tiempo de entrenamiento : 5 min 45 segundos\n",
    "* Tiempo de predicción : 1.42 s\n",
    "* Precio promedio en la predicción = 4580.58 euros\n",
    "* Error cuadrático medio = 1683.79\n",
    "* Mejores Hiperparámetros:\n",
    "    * max_features = sqrt\n",
    "    * n_estimators = 60\n",
    "    \n",
    "*Podemos observar 2da iteración de mejora del RMSE*\n",
    "\n",
    "**LightGBM sin ajuste de hiperparámetros**\n",
    "* Tiempo de entrenamiento : 4.97 s\n",
    "* Tiempo de predicción : 823 ms\n",
    "* Precio promedio en la predicción = 4589.93 euros\n",
    "* Error cuadrático medio = 1823.87\n",
    "\n",
    "*Observamos un RMSE mejor que el modelo benchmark, pero no mejor que Random Forest, sin embargo el tiempo de entrenamiento y predicción fue notablemente mejor que el modelo de bosque aleatorio, veamos como se comporta con mejores hiperparámetros.*\n",
    "\n",
    "\n",
    "**LightGBM con ajuste de hiperparámetros**\n",
    "* Tiempo de entrenamiento : 4 min 5 segundos\n",
    "* Tiempo de predicción : 1.29 s\n",
    "* Precio promedio en la predicción = 4592.53 euros\n",
    "* Error cuadrático medio = 1718.73\n",
    "* Mejores Hiperparámetros:\n",
    "    * learning_rate = None (por default : 0.1 )\n",
    "    * max_depth = None (por default : -1)\n",
    "    * num_leaves = 100\n",
    "    \n",
    "*Podemos observar otra ronda de mejora del RMSE en relación al modelo benchmark y al modelo LightGBM sin ajuste de hiperparámetros, aumenta el tiempo de entrenamiento y de predicción, pero mejora sustancialmente el evaluador RMSE.*\n",
    "\n",
    "\n",
    "**Catboost sin ajuste de hiperparámetros**\n",
    "* Tiempo de entrenamiento : 24 s\n",
    "* Tiempo de predicción : 178 ms\n",
    "* Precio promedio en la predicción = 4594.54 euros\n",
    "* Error cuadrático medio = 1743.44\n",
    "\n",
    "*Podemos observar un tiempo de entrenamiento y  predicción muy aceptable, el RMSE mejor que el modelo benchmark pero no mejor que LightGBM ni RandomForest, pensando en el tiempo de entrenamiento, podríamos pensar que es un modelo \"equilibrado\".*\n",
    "\n",
    "**Catboost con ajuste de hiperparámetros**\n",
    "* Tiempo de entrenamiento : 27 min 59 s\n",
    "* Tiempo de predicción : 1.07 ms\n",
    "* Precio promedio en la predicción = 4585.31 euros\n",
    "* Error cuadrático medio = 1683.11\n",
    "* Mejores Hiperparámetros:\n",
    "    * learning_rate = 0.5\n",
    "    * depth = 10\n",
    "    * early_stopping_rounds = 7\n",
    "    * iterations = 150\n",
    "    \n",
    "*Podemos observar el mejor RMSE en relación a todos los modelos, sin embargo el tiempo de entrenamiento aumenta sustancialmente, podríamos concluir que es un modelo muy exacto pero con un costo computacional alto.*\n",
    "\n",
    "\n",
    "\n"
   ]
  },
  {
   "cell_type": "markdown",
   "metadata": {},
   "source": [
    "### Conclusión general"
   ]
  },
  {
   "cell_type": "markdown",
   "metadata": {},
   "source": [
    "Pudimos observar que el mejor resultado (desde el punto de vista de la predicción y RMSE) fue obtenido por **Catboost** con:\n",
    "* Precio promedio en la predicción = 4585.31 euros\n",
    "* Error cuadrático medio = 1683.11\n",
    "\n",
    "Si embargo su costo computacional fue alto, el tiempo de predicción de 30 minutos es muy notorio, podemos mejorar la exactitud iterando más hiperparámetros mediante GridSearchCV (por ejemplo iterations = 1000) sin embargo el RMSE no baja \"demasiado\" para que compense un costo computacional alto (mayor a 51 min según las pruebas realizadas).\n",
    "\n",
    "\n",
    "**Codificación de datos:**\n",
    "\n",
    "En este punto decidimos utilizar un codificador **Binary-Encoder** debido a que la propuesta de utilizar **OneHot Encoder** nos generaba +300 columnas categóricas, esto nos traía una alta dimensionalidad para los modelos, lo cual no es deseable, aunado a que constantemente mataba el kernel.\n",
    "\n",
    "**En conclusión:**\n",
    "\n",
    "Los modelos que utilizan potenciación de gradiente nos ofrecen una mayor exactitud en las métricas de evaluación sin embargo aumentan su complejidad y *pueden* aumentar su costo computacional, dentro de los modelos evaluados pudimos observar un modelo *equilibrado*, en este caso fue el LightGBM con ajuste de hiperparámetros, nos ofreció las bondades de un RMSE aceptable (en relación al resto de los modelos) y un tiempo de entrenamiento aceptable.\n",
    "\n",
    "Me parece importante destacar que la potenciación del gradiente nos ofrece bondades sustanciales al momento de buscar un mejor desempeño de los modelos."
   ]
  },
  {
   "cell_type": "markdown",
   "metadata": {},
   "source": [
    "### Notas del equipo de ciencia de datos\n",
    "\n",
    "Decidimos brindar un orden al notebook en el cual observamos una secuencia de \"entrenamiento -> ejecución-> eliminación de variables\" para cada modelo debido a que el kernel constantemente se moría cuando intentabamos conservar todas los modelos \"vivos\" y entrenados para despúes realizar las predicciones.\n",
    "\n"
   ]
  }
 ],
 "metadata": {
  "ExecuteTimeLog": [
   {
    "duration": 425,
    "start_time": "2024-06-23T23:27:41.051Z"
   },
   {
    "duration": 874,
    "start_time": "2024-06-23T23:27:46.106Z"
   },
   {
    "duration": 751,
    "start_time": "2024-06-23T23:27:54.242Z"
   },
   {
    "duration": 824,
    "start_time": "2024-06-23T23:27:56.818Z"
   },
   {
    "duration": 734,
    "start_time": "2024-06-23T23:28:07.398Z"
   },
   {
    "duration": 691,
    "start_time": "2024-06-23T23:28:20.272Z"
   },
   {
    "duration": 767,
    "start_time": "2024-06-23T23:28:26.345Z"
   },
   {
    "duration": 698,
    "start_time": "2024-06-23T23:28:28.604Z"
   },
   {
    "duration": 7,
    "start_time": "2024-06-23T23:28:31.695Z"
   },
   {
    "duration": 121,
    "start_time": "2024-06-23T23:28:33.489Z"
   },
   {
    "duration": 148,
    "start_time": "2024-06-23T23:29:39.148Z"
   },
   {
    "duration": 25,
    "start_time": "2024-06-23T23:30:14.469Z"
   },
   {
    "duration": 790,
    "start_time": "2024-06-23T23:30:16.750Z"
   },
   {
    "duration": 796,
    "start_time": "2024-06-23T23:33:15.590Z"
   },
   {
    "duration": 7,
    "start_time": "2024-06-23T23:35:12.887Z"
   },
   {
    "duration": 9,
    "start_time": "2024-06-23T23:35:18.370Z"
   },
   {
    "duration": 342,
    "start_time": "2024-06-23T23:35:24.735Z"
   },
   {
    "duration": 32,
    "start_time": "2024-06-23T23:35:46.320Z"
   },
   {
    "duration": 38,
    "start_time": "2024-06-23T23:36:13.725Z"
   },
   {
    "duration": 40,
    "start_time": "2024-06-23T23:36:19.508Z"
   },
   {
    "duration": 17,
    "start_time": "2024-06-23T23:36:29.119Z"
   },
   {
    "duration": 30,
    "start_time": "2024-06-23T23:36:34.230Z"
   },
   {
    "duration": 18,
    "start_time": "2024-06-23T23:36:39.048Z"
   },
   {
    "duration": 20,
    "start_time": "2024-06-23T23:36:43.133Z"
   },
   {
    "duration": 3,
    "start_time": "2024-06-23T23:36:50.172Z"
   },
   {
    "duration": 18,
    "start_time": "2024-06-23T23:36:51.811Z"
   },
   {
    "duration": 18,
    "start_time": "2024-06-23T23:46:41.543Z"
   },
   {
    "duration": 28,
    "start_time": "2024-06-23T23:47:39.040Z"
   },
   {
    "duration": 29,
    "start_time": "2024-06-23T23:48:08.955Z"
   },
   {
    "duration": 31,
    "start_time": "2024-06-23T23:48:14.094Z"
   },
   {
    "duration": 33,
    "start_time": "2024-06-23T23:48:19.155Z"
   },
   {
    "duration": 28,
    "start_time": "2024-06-23T23:48:29.223Z"
   },
   {
    "duration": 55,
    "start_time": "2024-06-23T23:55:44.435Z"
   },
   {
    "duration": 80,
    "start_time": "2024-06-23T23:57:01.180Z"
   },
   {
    "duration": 84,
    "start_time": "2024-06-23T23:57:52.037Z"
   },
   {
    "duration": 21,
    "start_time": "2024-06-23T23:57:57.003Z"
   },
   {
    "duration": 47,
    "start_time": "2024-06-23T23:58:08.816Z"
   },
   {
    "duration": 46,
    "start_time": "2024-06-23T23:58:14.476Z"
   },
   {
    "duration": 24,
    "start_time": "2024-06-23T23:58:32.674Z"
   },
   {
    "duration": 21,
    "start_time": "2024-06-23T23:58:39.629Z"
   },
   {
    "duration": 19,
    "start_time": "2024-06-23T23:58:45.289Z"
   },
   {
    "duration": 836,
    "start_time": "2024-06-23T23:59:44.411Z"
   },
   {
    "duration": 38,
    "start_time": "2024-06-23T23:59:50.461Z"
   },
   {
    "duration": 28,
    "start_time": "2024-06-24T00:00:24.103Z"
   },
   {
    "duration": 14,
    "start_time": "2024-06-24T00:00:33.391Z"
   },
   {
    "duration": 33,
    "start_time": "2024-06-24T00:00:44.961Z"
   },
   {
    "duration": 21,
    "start_time": "2024-06-24T00:00:59.708Z"
   },
   {
    "duration": 52,
    "start_time": "2024-06-24T00:03:22.465Z"
   },
   {
    "duration": 63,
    "start_time": "2024-06-24T00:03:51.267Z"
   },
   {
    "duration": 31,
    "start_time": "2024-06-24T00:04:11.274Z"
   },
   {
    "duration": 28,
    "start_time": "2024-06-24T00:04:18.561Z"
   },
   {
    "duration": 15,
    "start_time": "2024-06-24T00:04:23.865Z"
   },
   {
    "duration": 52,
    "start_time": "2024-06-24T00:04:28.236Z"
   },
   {
    "duration": 60,
    "start_time": "2024-06-24T00:04:31.972Z"
   },
   {
    "duration": 66,
    "start_time": "2024-06-24T00:05:03.118Z"
   },
   {
    "duration": 71,
    "start_time": "2024-06-24T00:05:17.508Z"
   },
   {
    "duration": 85,
    "start_time": "2024-06-24T00:05:24.772Z"
   },
   {
    "duration": 48,
    "start_time": "2024-06-24T00:05:32.611Z"
   },
   {
    "duration": 64,
    "start_time": "2024-06-24T00:05:37.224Z"
   },
   {
    "duration": 83,
    "start_time": "2024-06-24T00:05:53.658Z"
   },
   {
    "duration": 76,
    "start_time": "2024-06-24T00:06:07.325Z"
   },
   {
    "duration": 390,
    "start_time": "2024-06-24T00:09:06.346Z"
   },
   {
    "duration": 404,
    "start_time": "2024-06-24T00:09:11.319Z"
   },
   {
    "duration": 438,
    "start_time": "2024-06-24T00:09:18.197Z"
   },
   {
    "duration": 413,
    "start_time": "2024-06-24T00:09:22.717Z"
   },
   {
    "duration": 411,
    "start_time": "2024-06-24T00:10:29.321Z"
   },
   {
    "duration": 8,
    "start_time": "2024-06-24T00:10:45.949Z"
   },
   {
    "duration": 76,
    "start_time": "2024-06-24T00:13:24.889Z"
   },
   {
    "duration": 80,
    "start_time": "2024-06-24T00:14:12.201Z"
   },
   {
    "duration": 435,
    "start_time": "2024-06-24T00:15:14.290Z"
   },
   {
    "duration": 26,
    "start_time": "2024-06-24T00:16:15.104Z"
   },
   {
    "duration": 5,
    "start_time": "2024-06-24T00:16:46.815Z"
   },
   {
    "duration": 7,
    "start_time": "2024-06-24T00:16:53.161Z"
   },
   {
    "duration": 12,
    "start_time": "2024-06-24T00:17:00.481Z"
   },
   {
    "duration": 47,
    "start_time": "2024-06-24T00:19:58.374Z"
   },
   {
    "duration": 6,
    "start_time": "2024-06-24T00:20:13.419Z"
   },
   {
    "duration": 10,
    "start_time": "2024-06-24T00:20:21.666Z"
   },
   {
    "duration": 9,
    "start_time": "2024-06-24T00:20:34.213Z"
   },
   {
    "duration": 7,
    "start_time": "2024-06-24T00:20:42.549Z"
   },
   {
    "duration": 20,
    "start_time": "2024-06-24T00:20:48.363Z"
   },
   {
    "duration": 436,
    "start_time": "2024-06-24T00:21:01.901Z"
   },
   {
    "duration": 367,
    "start_time": "2024-06-24T00:21:12.135Z"
   },
   {
    "duration": 377,
    "start_time": "2024-06-24T00:21:21.041Z"
   },
   {
    "duration": 5,
    "start_time": "2024-06-24T00:21:24.711Z"
   },
   {
    "duration": 402,
    "start_time": "2024-06-24T00:21:28.034Z"
   },
   {
    "duration": 382,
    "start_time": "2024-06-24T00:39:39.018Z"
   },
   {
    "duration": 1177,
    "start_time": "2024-06-24T00:40:13.828Z"
   },
   {
    "duration": 1165,
    "start_time": "2024-06-24T00:40:37.296Z"
   },
   {
    "duration": 116,
    "start_time": "2024-06-24T00:41:14.678Z"
   },
   {
    "duration": 126,
    "start_time": "2024-06-24T00:41:24.627Z"
   },
   {
    "duration": 7,
    "start_time": "2024-06-24T00:42:00.831Z"
   },
   {
    "duration": 8,
    "start_time": "2024-06-24T00:42:03.680Z"
   },
   {
    "duration": 9,
    "start_time": "2024-06-24T00:42:10.453Z"
   },
   {
    "duration": 12,
    "start_time": "2024-06-24T00:42:18.851Z"
   },
   {
    "duration": 98,
    "start_time": "2024-06-24T00:42:37.946Z"
   },
   {
    "duration": 93,
    "start_time": "2024-06-24T00:42:51.402Z"
   },
   {
    "duration": 84,
    "start_time": "2024-06-24T00:42:59.911Z"
   },
   {
    "duration": 75,
    "start_time": "2024-06-24T00:43:03.899Z"
   },
   {
    "duration": 8,
    "start_time": "2024-06-24T00:43:23.200Z"
   },
   {
    "duration": 9,
    "start_time": "2024-06-24T00:43:34.173Z"
   },
   {
    "duration": 70,
    "start_time": "2024-06-24T00:43:48.042Z"
   },
   {
    "duration": 44,
    "start_time": "2024-06-24T00:51:15.379Z"
   },
   {
    "duration": 44,
    "start_time": "2024-06-24T00:51:20.204Z"
   },
   {
    "duration": 57,
    "start_time": "2024-06-24T00:51:31.234Z"
   },
   {
    "duration": 86,
    "start_time": "2024-06-24T00:51:53.780Z"
   },
   {
    "duration": 76,
    "start_time": "2024-06-24T00:52:29.883Z"
   },
   {
    "duration": 127,
    "start_time": "2024-06-24T00:53:06.831Z"
   },
   {
    "duration": 163,
    "start_time": "2024-06-24T00:55:10.512Z"
   },
   {
    "duration": 62,
    "start_time": "2024-06-24T01:04:13.538Z"
   },
   {
    "duration": 803,
    "start_time": "2024-06-24T01:04:28.924Z"
   },
   {
    "duration": 101,
    "start_time": "2024-06-24T01:05:13.512Z"
   },
   {
    "duration": 164,
    "start_time": "2024-06-24T01:05:33.096Z"
   },
   {
    "duration": 203,
    "start_time": "2024-06-24T01:05:53.229Z"
   },
   {
    "duration": 188,
    "start_time": "2024-06-24T01:06:29.283Z"
   },
   {
    "duration": 201,
    "start_time": "2024-06-24T01:06:43.508Z"
   },
   {
    "duration": 177,
    "start_time": "2024-06-24T01:06:59.864Z"
   },
   {
    "duration": 215,
    "start_time": "2024-06-24T01:07:17.752Z"
   },
   {
    "duration": 1175,
    "start_time": "2024-06-24T01:36:39.784Z"
   },
   {
    "duration": 4,
    "start_time": "2024-06-24T01:37:09.842Z"
   },
   {
    "duration": 19,
    "start_time": "2024-06-24T01:37:16.262Z"
   },
   {
    "duration": 21,
    "start_time": "2024-06-24T01:37:38.744Z"
   },
   {
    "duration": 25,
    "start_time": "2024-06-24T01:38:12.670Z"
   },
   {
    "duration": 42,
    "start_time": "2024-06-24T01:38:19.000Z"
   },
   {
    "duration": 22,
    "start_time": "2024-06-24T01:38:23.054Z"
   },
   {
    "duration": 37,
    "start_time": "2024-06-24T01:39:13.468Z"
   },
   {
    "duration": 5,
    "start_time": "2024-06-24T01:39:17.239Z"
   },
   {
    "duration": 12,
    "start_time": "2024-06-24T01:39:20.137Z"
   },
   {
    "duration": 36,
    "start_time": "2024-06-24T01:39:30.185Z"
   },
   {
    "duration": 60,
    "start_time": "2024-06-24T01:40:02.052Z"
   },
   {
    "duration": 245,
    "start_time": "2024-06-24T01:40:15.275Z"
   },
   {
    "duration": 667,
    "start_time": "2024-06-24T01:40:24.853Z"
   },
   {
    "duration": 133,
    "start_time": "2024-06-24T01:40:32.824Z"
   },
   {
    "duration": 4,
    "start_time": "2024-06-24T01:40:39.112Z"
   },
   {
    "duration": 809,
    "start_time": "2024-06-24T01:40:39.120Z"
   },
   {
    "duration": 6,
    "start_time": "2024-06-24T01:40:39.932Z"
   },
   {
    "duration": 17,
    "start_time": "2024-06-24T01:40:39.943Z"
   },
   {
    "duration": 174,
    "start_time": "2024-06-24T01:40:39.963Z"
   },
   {
    "duration": 21,
    "start_time": "2024-06-24T01:40:40.140Z"
   },
   {
    "duration": 1254,
    "start_time": "2024-06-24T01:40:40.164Z"
   },
   {
    "duration": 158,
    "start_time": "2024-06-24T01:40:41.422Z"
   },
   {
    "duration": 23,
    "start_time": "2024-06-24T01:40:41.584Z"
   },
   {
    "duration": 25,
    "start_time": "2024-06-24T01:40:41.613Z"
   },
   {
    "duration": 26,
    "start_time": "2024-06-24T01:40:41.642Z"
   },
   {
    "duration": 265,
    "start_time": "2024-06-24T01:40:44.033Z"
   },
   {
    "duration": 3,
    "start_time": "2024-06-24T01:40:47.497Z"
   },
   {
    "duration": 8,
    "start_time": "2024-06-24T01:40:49.178Z"
   },
   {
    "duration": 23,
    "start_time": "2024-06-24T01:41:11.703Z"
   },
   {
    "duration": 20,
    "start_time": "2024-06-24T01:41:16.426Z"
   },
   {
    "duration": 30,
    "start_time": "2024-06-24T01:41:20.611Z"
   },
   {
    "duration": 4,
    "start_time": "2024-06-24T01:41:27.631Z"
   },
   {
    "duration": 819,
    "start_time": "2024-06-24T01:41:27.639Z"
   },
   {
    "duration": 6,
    "start_time": "2024-06-24T01:41:28.460Z"
   },
   {
    "duration": 36,
    "start_time": "2024-06-24T01:41:28.470Z"
   },
   {
    "duration": 152,
    "start_time": "2024-06-24T01:41:28.512Z"
   },
   {
    "duration": 40,
    "start_time": "2024-06-24T01:41:28.667Z"
   },
   {
    "duration": 1174,
    "start_time": "2024-06-24T01:41:28.712Z"
   },
   {
    "duration": 148,
    "start_time": "2024-06-24T01:41:29.889Z"
   },
   {
    "duration": 4,
    "start_time": "2024-06-24T01:41:30.040Z"
   },
   {
    "duration": 19,
    "start_time": "2024-06-24T01:41:30.047Z"
   },
   {
    "duration": 30,
    "start_time": "2024-06-24T01:41:32.630Z"
   },
   {
    "duration": 54,
    "start_time": "2024-06-24T01:41:54.092Z"
   },
   {
    "duration": 38,
    "start_time": "2024-06-24T01:42:03.014Z"
   },
   {
    "duration": 73,
    "start_time": "2024-06-24T01:42:12.524Z"
   },
   {
    "duration": 807,
    "start_time": "2024-06-24T01:42:30.854Z"
   },
   {
    "duration": 4,
    "start_time": "2024-06-24T01:42:41.835Z"
   },
   {
    "duration": 802,
    "start_time": "2024-06-24T01:42:41.843Z"
   },
   {
    "duration": 5,
    "start_time": "2024-06-24T01:42:42.648Z"
   },
   {
    "duration": 18,
    "start_time": "2024-06-24T01:42:42.658Z"
   },
   {
    "duration": 146,
    "start_time": "2024-06-24T01:42:42.707Z"
   },
   {
    "duration": 21,
    "start_time": "2024-06-24T01:42:42.856Z"
   },
   {
    "duration": 1178,
    "start_time": "2024-06-24T01:42:42.879Z"
   },
   {
    "duration": 167,
    "start_time": "2024-06-24T01:42:44.059Z"
   },
   {
    "duration": 4,
    "start_time": "2024-06-24T01:42:44.230Z"
   },
   {
    "duration": 18,
    "start_time": "2024-06-24T01:42:44.238Z"
   },
   {
    "duration": 55,
    "start_time": "2024-06-24T01:42:44.259Z"
   },
   {
    "duration": 4,
    "start_time": "2024-06-24T01:42:44.317Z"
   },
   {
    "duration": 26,
    "start_time": "2024-06-24T01:42:56.367Z"
   },
   {
    "duration": 22,
    "start_time": "2024-06-24T01:43:09.642Z"
   },
   {
    "duration": 1068,
    "start_time": "2024-06-24T01:43:48.127Z"
   },
   {
    "duration": 223,
    "start_time": "2024-06-24T01:43:56.563Z"
   },
   {
    "duration": 134,
    "start_time": "2024-06-24T01:44:00.467Z"
   },
   {
    "duration": 89,
    "start_time": "2024-06-24T01:44:53.658Z"
   },
   {
    "duration": 86,
    "start_time": "2024-06-24T01:44:55.718Z"
   },
   {
    "duration": 91,
    "start_time": "2024-06-24T01:45:06.855Z"
   },
   {
    "duration": 4,
    "start_time": "2024-06-24T01:45:11.344Z"
   },
   {
    "duration": 773,
    "start_time": "2024-06-24T01:45:11.353Z"
   },
   {
    "duration": 10,
    "start_time": "2024-06-24T01:45:12.129Z"
   },
   {
    "duration": 22,
    "start_time": "2024-06-24T01:45:12.142Z"
   },
   {
    "duration": 168,
    "start_time": "2024-06-24T01:45:12.169Z"
   },
   {
    "duration": 22,
    "start_time": "2024-06-24T01:45:12.340Z"
   },
   {
    "duration": 1171,
    "start_time": "2024-06-24T01:45:12.365Z"
   },
   {
    "duration": 148,
    "start_time": "2024-06-24T01:45:13.539Z"
   },
   {
    "duration": 17,
    "start_time": "2024-06-24T01:45:13.690Z"
   },
   {
    "duration": 19,
    "start_time": "2024-06-24T01:45:13.710Z"
   },
   {
    "duration": 24,
    "start_time": "2024-06-24T01:45:13.732Z"
   },
   {
    "duration": 4,
    "start_time": "2024-06-24T01:45:13.759Z"
   },
   {
    "duration": 14,
    "start_time": "2024-06-24T01:45:16.900Z"
   },
   {
    "duration": 20,
    "start_time": "2024-06-24T01:45:29.482Z"
   },
   {
    "duration": 20,
    "start_time": "2024-06-24T01:45:42.674Z"
   },
   {
    "duration": 9,
    "start_time": "2024-06-24T01:46:18.787Z"
   },
   {
    "duration": 7,
    "start_time": "2024-06-24T01:46:28.153Z"
   },
   {
    "duration": 61,
    "start_time": "2024-06-24T01:46:53.011Z"
   },
   {
    "duration": 90,
    "start_time": "2024-06-24T01:47:02.272Z"
   },
   {
    "duration": 75,
    "start_time": "2024-06-24T01:47:16.398Z"
   },
   {
    "duration": 28,
    "start_time": "2024-06-24T01:47:24.606Z"
   },
   {
    "duration": 4,
    "start_time": "2024-06-24T01:47:29.015Z"
   },
   {
    "duration": 802,
    "start_time": "2024-06-24T01:47:29.024Z"
   },
   {
    "duration": 7,
    "start_time": "2024-06-24T01:47:29.829Z"
   },
   {
    "duration": 18,
    "start_time": "2024-06-24T01:47:29.839Z"
   },
   {
    "duration": 168,
    "start_time": "2024-06-24T01:47:29.861Z"
   },
   {
    "duration": 20,
    "start_time": "2024-06-24T01:47:30.032Z"
   },
   {
    "duration": 1171,
    "start_time": "2024-06-24T01:47:30.056Z"
   },
   {
    "duration": 151,
    "start_time": "2024-06-24T01:47:31.230Z"
   },
   {
    "duration": 4,
    "start_time": "2024-06-24T01:47:31.384Z"
   },
   {
    "duration": 18,
    "start_time": "2024-06-24T01:47:31.406Z"
   },
   {
    "duration": 24,
    "start_time": "2024-06-24T01:47:31.427Z"
   },
   {
    "duration": 3,
    "start_time": "2024-06-24T01:47:31.454Z"
   },
   {
    "duration": 56,
    "start_time": "2024-06-24T01:47:31.467Z"
   },
   {
    "duration": 23,
    "start_time": "2024-06-24T01:47:40.340Z"
   },
   {
    "duration": 19,
    "start_time": "2024-06-24T01:47:46.405Z"
   },
   {
    "duration": 24,
    "start_time": "2024-06-24T01:47:48.690Z"
   },
   {
    "duration": 46,
    "start_time": "2024-06-24T01:47:59.463Z"
   },
   {
    "duration": 18,
    "start_time": "2024-06-24T01:48:50.640Z"
   },
   {
    "duration": 40,
    "start_time": "2024-06-24T01:48:52.596Z"
   },
   {
    "duration": 40,
    "start_time": "2024-06-24T01:53:06.582Z"
   },
   {
    "duration": 18,
    "start_time": "2024-06-24T01:53:14.045Z"
   },
   {
    "duration": 23,
    "start_time": "2024-06-24T01:53:46.472Z"
   },
   {
    "duration": 21,
    "start_time": "2024-06-24T01:53:49.356Z"
   },
   {
    "duration": 18,
    "start_time": "2024-06-24T01:53:56.002Z"
   },
   {
    "duration": 7,
    "start_time": "2024-06-24T01:59:20.088Z"
   },
   {
    "duration": 9,
    "start_time": "2024-06-24T01:59:24.826Z"
   },
   {
    "duration": 7,
    "start_time": "2024-06-24T01:59:31.805Z"
   },
   {
    "duration": 9,
    "start_time": "2024-06-24T02:00:48.362Z"
   },
   {
    "duration": 35,
    "start_time": "2024-06-24T02:00:59.392Z"
   },
   {
    "duration": 35,
    "start_time": "2024-06-24T02:02:03.831Z"
   },
   {
    "duration": 20,
    "start_time": "2024-06-24T02:02:26.124Z"
   },
   {
    "duration": 3,
    "start_time": "2024-06-24T02:04:58.148Z"
   },
   {
    "duration": 35,
    "start_time": "2024-06-24T02:07:37.255Z"
   },
   {
    "duration": 26,
    "start_time": "2024-06-24T02:17:18.121Z"
   },
   {
    "duration": 1131,
    "start_time": "2024-06-24T02:17:35.198Z"
   },
   {
    "duration": 3,
    "start_time": "2024-06-24T02:17:39.063Z"
   },
   {
    "duration": 804,
    "start_time": "2024-06-24T02:17:39.072Z"
   },
   {
    "duration": 6,
    "start_time": "2024-06-24T02:17:39.879Z"
   },
   {
    "duration": 18,
    "start_time": "2024-06-24T02:17:39.906Z"
   },
   {
    "duration": 153,
    "start_time": "2024-06-24T02:17:39.927Z"
   },
   {
    "duration": 38,
    "start_time": "2024-06-24T02:17:40.083Z"
   },
   {
    "duration": 1157,
    "start_time": "2024-06-24T02:17:41.635Z"
   },
   {
    "duration": 1193,
    "start_time": "2024-06-24T02:17:53.091Z"
   },
   {
    "duration": 149,
    "start_time": "2024-06-24T02:17:57.208Z"
   },
   {
    "duration": 7,
    "start_time": "2024-06-24T02:21:15.560Z"
   },
   {
    "duration": 36,
    "start_time": "2024-06-24T02:21:49.138Z"
   },
   {
    "duration": 6,
    "start_time": "2024-06-24T02:27:19.818Z"
   },
   {
    "duration": 64,
    "start_time": "2024-06-24T02:27:27.223Z"
   },
   {
    "duration": 36,
    "start_time": "2024-06-24T02:27:34.262Z"
   },
   {
    "duration": 91,
    "start_time": "2024-06-24T02:28:08.287Z"
   },
   {
    "duration": 61,
    "start_time": "2024-06-24T02:28:15.208Z"
   },
   {
    "duration": 7,
    "start_time": "2024-06-24T02:30:18.142Z"
   },
   {
    "duration": 8,
    "start_time": "2024-06-24T02:39:14.617Z"
   },
   {
    "duration": 27,
    "start_time": "2024-06-24T02:39:24.231Z"
   },
   {
    "duration": 26,
    "start_time": "2024-06-24T02:39:29.720Z"
   },
   {
    "duration": 9,
    "start_time": "2024-06-24T02:39:33.902Z"
   },
   {
    "duration": 53,
    "start_time": "2024-06-24T02:40:18.036Z"
   },
   {
    "duration": 37,
    "start_time": "2024-06-24T02:40:35.244Z"
   },
   {
    "duration": 72,
    "start_time": "2024-06-24T02:41:13.145Z"
   },
   {
    "duration": 30,
    "start_time": "2024-06-24T02:41:20.936Z"
   },
   {
    "duration": 5,
    "start_time": "2024-06-24T02:41:29.977Z"
   },
   {
    "duration": 7,
    "start_time": "2024-06-24T02:41:33.187Z"
   },
   {
    "duration": 5,
    "start_time": "2024-06-24T02:41:36.805Z"
   },
   {
    "duration": 309,
    "start_time": "2024-06-24T02:41:41.987Z"
   },
   {
    "duration": 449,
    "start_time": "2024-06-24T02:41:45.729Z"
   },
   {
    "duration": 883,
    "start_time": "2024-06-24T02:41:46.182Z"
   },
   {
    "duration": 6,
    "start_time": "2024-06-24T02:41:47.068Z"
   },
   {
    "duration": 37,
    "start_time": "2024-06-24T02:41:47.079Z"
   },
   {
    "duration": 155,
    "start_time": "2024-06-24T02:41:47.119Z"
   },
   {
    "duration": 34,
    "start_time": "2024-06-24T02:41:47.277Z"
   },
   {
    "duration": 1299,
    "start_time": "2024-06-24T02:41:47.314Z"
   },
   {
    "duration": 154,
    "start_time": "2024-06-24T02:41:48.616Z"
   },
   {
    "duration": 34,
    "start_time": "2024-06-24T02:41:48.773Z"
   },
   {
    "duration": 22,
    "start_time": "2024-06-24T02:41:48.814Z"
   },
   {
    "duration": 36,
    "start_time": "2024-06-24T02:41:48.839Z"
   },
   {
    "duration": 74,
    "start_time": "2024-06-24T02:41:48.906Z"
   },
   {
    "duration": 25,
    "start_time": "2024-06-24T02:41:48.983Z"
   },
   {
    "duration": 37,
    "start_time": "2024-06-24T02:41:52.678Z"
   },
   {
    "duration": 44,
    "start_time": "2024-06-24T02:42:19.358Z"
   },
   {
    "duration": 36,
    "start_time": "2024-06-24T02:42:20.623Z"
   },
   {
    "duration": 48,
    "start_time": "2024-06-24T02:42:28.077Z"
   },
   {
    "duration": 55,
    "start_time": "2024-06-24T02:43:52.378Z"
   },
   {
    "duration": 52,
    "start_time": "2024-06-24T02:43:55.667Z"
   },
   {
    "duration": 51,
    "start_time": "2024-06-24T02:44:09.483Z"
   },
   {
    "duration": 35,
    "start_time": "2024-06-24T02:44:19.706Z"
   },
   {
    "duration": 39,
    "start_time": "2024-06-24T02:44:22.198Z"
   },
   {
    "duration": 36,
    "start_time": "2024-06-24T02:44:28.924Z"
   },
   {
    "duration": 39,
    "start_time": "2024-06-24T02:44:31.154Z"
   },
   {
    "duration": 42,
    "start_time": "2024-06-24T02:44:36.380Z"
   },
   {
    "duration": 40,
    "start_time": "2024-06-24T02:44:37.803Z"
   },
   {
    "duration": 42,
    "start_time": "2024-06-24T02:44:50.869Z"
   },
   {
    "duration": 52,
    "start_time": "2024-06-24T02:44:52.238Z"
   },
   {
    "duration": 42,
    "start_time": "2024-06-24T02:45:01.514Z"
   },
   {
    "duration": 38,
    "start_time": "2024-06-24T02:45:03.179Z"
   },
   {
    "duration": 45,
    "start_time": "2024-06-24T02:45:14.936Z"
   },
   {
    "duration": 44,
    "start_time": "2024-06-24T02:45:24.911Z"
   },
   {
    "duration": 40,
    "start_time": "2024-06-24T02:45:27.548Z"
   },
   {
    "duration": 6,
    "start_time": "2024-06-24T02:54:27.505Z"
   },
   {
    "duration": 18,
    "start_time": "2024-06-24T02:54:30.475Z"
   },
   {
    "duration": 6,
    "start_time": "2024-06-24T02:54:32.076Z"
   },
   {
    "duration": 5,
    "start_time": "2024-06-24T02:54:52.791Z"
   },
   {
    "duration": 5,
    "start_time": "2024-06-24T02:55:04.963Z"
   },
   {
    "duration": 82,
    "start_time": "2024-06-24T02:55:15.219Z"
   },
   {
    "duration": 5,
    "start_time": "2024-06-24T02:56:44.034Z"
   },
   {
    "duration": 8,
    "start_time": "2024-06-24T02:57:48.840Z"
   },
   {
    "duration": 27,
    "start_time": "2024-06-24T02:57:53.079Z"
   },
   {
    "duration": 28,
    "start_time": "2024-06-24T02:57:58.272Z"
   },
   {
    "duration": 21,
    "start_time": "2024-06-24T02:58:01.202Z"
   },
   {
    "duration": 23,
    "start_time": "2024-06-24T02:58:36.992Z"
   },
   {
    "duration": 20,
    "start_time": "2024-06-24T02:58:38.772Z"
   },
   {
    "duration": 863,
    "start_time": "2024-06-24T02:59:01.363Z"
   },
   {
    "duration": 8,
    "start_time": "2024-06-24T02:59:08.444Z"
   },
   {
    "duration": 125,
    "start_time": "2024-06-24T03:01:20.591Z"
   },
   {
    "duration": 143,
    "start_time": "2024-06-24T03:01:29.703Z"
   },
   {
    "duration": 7,
    "start_time": "2024-06-24T03:02:26.682Z"
   },
   {
    "duration": 21,
    "start_time": "2024-06-24T03:02:30.816Z"
   },
   {
    "duration": 20,
    "start_time": "2024-06-24T03:02:33.776Z"
   },
   {
    "duration": 21,
    "start_time": "2024-06-24T03:04:44.087Z"
   },
   {
    "duration": 24,
    "start_time": "2024-06-24T03:05:00.673Z"
   },
   {
    "duration": 22,
    "start_time": "2024-06-24T03:08:32.110Z"
   },
   {
    "duration": 316,
    "start_time": "2024-06-24T06:41:26.971Z"
   },
   {
    "duration": 426,
    "start_time": "2024-06-24T06:41:29.701Z"
   },
   {
    "duration": 881,
    "start_time": "2024-06-24T06:41:30.133Z"
   },
   {
    "duration": 16,
    "start_time": "2024-06-24T06:41:31.017Z"
   },
   {
    "duration": 19,
    "start_time": "2024-06-24T06:41:31.037Z"
   },
   {
    "duration": 180,
    "start_time": "2024-06-24T06:41:31.062Z"
   },
   {
    "duration": 25,
    "start_time": "2024-06-24T06:41:31.245Z"
   },
   {
    "duration": 1351,
    "start_time": "2024-06-24T06:41:31.273Z"
   },
   {
    "duration": 170,
    "start_time": "2024-06-24T06:41:32.628Z"
   },
   {
    "duration": 46,
    "start_time": "2024-06-24T06:41:32.801Z"
   },
   {
    "duration": 29,
    "start_time": "2024-06-24T06:41:32.850Z"
   },
   {
    "duration": 63,
    "start_time": "2024-06-24T06:41:32.883Z"
   },
   {
    "duration": 61,
    "start_time": "2024-06-24T06:41:32.949Z"
   },
   {
    "duration": 7,
    "start_time": "2024-06-24T06:41:33.032Z"
   },
   {
    "duration": 85,
    "start_time": "2024-06-24T06:41:33.045Z"
   },
   {
    "duration": 0,
    "start_time": "2024-06-24T06:41:33.134Z"
   },
   {
    "duration": 0,
    "start_time": "2024-06-24T06:41:33.136Z"
   },
   {
    "duration": 1,
    "start_time": "2024-06-24T06:41:33.138Z"
   },
   {
    "duration": 0,
    "start_time": "2024-06-24T06:41:33.140Z"
   },
   {
    "duration": 20,
    "start_time": "2024-06-24T06:41:46.490Z"
   },
   {
    "duration": 7,
    "start_time": "2024-06-24T06:41:48.174Z"
   },
   {
    "duration": 5,
    "start_time": "2024-06-24T06:50:41.619Z"
   },
   {
    "duration": 13,
    "start_time": "2024-06-24T06:50:50.088Z"
   },
   {
    "duration": 7,
    "start_time": "2024-06-24T06:51:09.020Z"
   },
   {
    "duration": 7,
    "start_time": "2024-06-24T06:51:11.869Z"
   },
   {
    "duration": 52,
    "start_time": "2024-06-24T06:51:27.895Z"
   },
   {
    "duration": 1898,
    "start_time": "2024-06-24T06:51:36.822Z"
   },
   {
    "duration": 234,
    "start_time": "2024-06-24T06:51:59.804Z"
   },
   {
    "duration": 50,
    "start_time": "2024-06-24T06:52:11.658Z"
   },
   {
    "duration": 50,
    "start_time": "2024-06-24T06:52:25.988Z"
   },
   {
    "duration": 20,
    "start_time": "2024-06-24T06:55:59.346Z"
   },
   {
    "duration": 7,
    "start_time": "2024-06-24T06:56:03.916Z"
   },
   {
    "duration": 24,
    "start_time": "2024-06-24T06:57:57.542Z"
   },
   {
    "duration": 27,
    "start_time": "2024-06-24T06:58:08.050Z"
   },
   {
    "duration": 21,
    "start_time": "2024-06-24T06:59:23.563Z"
   },
   {
    "duration": 4,
    "start_time": "2024-06-24T06:59:44.749Z"
   },
   {
    "duration": 22,
    "start_time": "2024-06-24T06:59:54.182Z"
   },
   {
    "duration": 872,
    "start_time": "2024-06-24T07:01:58.159Z"
   },
   {
    "duration": 8,
    "start_time": "2024-06-24T07:02:29.307Z"
   },
   {
    "duration": 866,
    "start_time": "2024-06-24T07:03:34.824Z"
   },
   {
    "duration": 429,
    "start_time": "2024-06-24T07:03:44.023Z"
   },
   {
    "duration": 463,
    "start_time": "2024-06-24T07:04:04.934Z"
   },
   {
    "duration": 488,
    "start_time": "2024-06-24T07:06:30.031Z"
   },
   {
    "duration": 569,
    "start_time": "2024-06-24T07:06:44.157Z"
   },
   {
    "duration": 4,
    "start_time": "2024-06-24T07:06:51.089Z"
   },
   {
    "duration": 800,
    "start_time": "2024-06-24T07:06:51.097Z"
   },
   {
    "duration": 7,
    "start_time": "2024-06-24T07:06:51.900Z"
   },
   {
    "duration": 30,
    "start_time": "2024-06-24T07:06:51.914Z"
   },
   {
    "duration": 167,
    "start_time": "2024-06-24T07:06:51.949Z"
   },
   {
    "duration": 38,
    "start_time": "2024-06-24T07:06:52.120Z"
   },
   {
    "duration": 1189,
    "start_time": "2024-06-24T07:06:52.161Z"
   },
   {
    "duration": 147,
    "start_time": "2024-06-24T07:06:53.354Z"
   },
   {
    "duration": 31,
    "start_time": "2024-06-24T07:06:53.504Z"
   },
   {
    "duration": 21,
    "start_time": "2024-06-24T07:06:53.538Z"
   },
   {
    "duration": 36,
    "start_time": "2024-06-24T07:06:53.562Z"
   },
   {
    "duration": 60,
    "start_time": "2024-06-24T07:06:53.631Z"
   },
   {
    "duration": 7,
    "start_time": "2024-06-24T07:06:53.693Z"
   },
   {
    "duration": 24,
    "start_time": "2024-06-24T07:06:53.731Z"
   },
   {
    "duration": 0,
    "start_time": "2024-06-24T07:06:53.758Z"
   },
   {
    "duration": 0,
    "start_time": "2024-06-24T07:06:53.760Z"
   },
   {
    "duration": 0,
    "start_time": "2024-06-24T07:06:53.762Z"
   },
   {
    "duration": 0,
    "start_time": "2024-06-24T07:06:53.764Z"
   },
   {
    "duration": 1,
    "start_time": "2024-06-24T07:06:53.766Z"
   },
   {
    "duration": 4,
    "start_time": "2024-06-24T07:06:59.280Z"
   },
   {
    "duration": 791,
    "start_time": "2024-06-24T07:06:59.287Z"
   },
   {
    "duration": 7,
    "start_time": "2024-06-24T07:07:00.081Z"
   },
   {
    "duration": 39,
    "start_time": "2024-06-24T07:07:00.091Z"
   },
   {
    "duration": 143,
    "start_time": "2024-06-24T07:07:00.135Z"
   },
   {
    "duration": 21,
    "start_time": "2024-06-24T07:07:00.281Z"
   },
   {
    "duration": 1157,
    "start_time": "2024-06-24T07:07:00.330Z"
   },
   {
    "duration": 153,
    "start_time": "2024-06-24T07:07:01.489Z"
   },
   {
    "duration": 17,
    "start_time": "2024-06-24T07:07:01.645Z"
   },
   {
    "duration": 23,
    "start_time": "2024-06-24T07:07:01.666Z"
   },
   {
    "duration": 74,
    "start_time": "2024-06-24T07:07:01.693Z"
   },
   {
    "duration": 75,
    "start_time": "2024-06-24T07:07:01.769Z"
   },
   {
    "duration": 7,
    "start_time": "2024-06-24T07:07:01.847Z"
   },
   {
    "duration": 27,
    "start_time": "2024-06-24T07:07:01.859Z"
   },
   {
    "duration": 0,
    "start_time": "2024-06-24T07:07:01.889Z"
   },
   {
    "duration": 0,
    "start_time": "2024-06-24T07:07:01.891Z"
   },
   {
    "duration": 0,
    "start_time": "2024-06-24T07:07:01.893Z"
   },
   {
    "duration": 0,
    "start_time": "2024-06-24T07:07:01.896Z"
   },
   {
    "duration": 0,
    "start_time": "2024-06-24T07:07:01.931Z"
   },
   {
    "duration": 6,
    "start_time": "2024-06-24T07:07:03.470Z"
   },
   {
    "duration": 22,
    "start_time": "2024-06-24T07:07:05.358Z"
   },
   {
    "duration": 419,
    "start_time": "2024-06-24T07:07:06.821Z"
   },
   {
    "duration": 516,
    "start_time": "2024-06-24T07:07:29.037Z"
   },
   {
    "duration": 857,
    "start_time": "2024-06-24T07:07:29.557Z"
   },
   {
    "duration": 16,
    "start_time": "2024-06-24T07:07:30.417Z"
   },
   {
    "duration": 20,
    "start_time": "2024-06-24T07:07:30.437Z"
   },
   {
    "duration": 192,
    "start_time": "2024-06-24T07:07:30.463Z"
   },
   {
    "duration": 25,
    "start_time": "2024-06-24T07:07:30.658Z"
   },
   {
    "duration": 1408,
    "start_time": "2024-06-24T07:07:30.686Z"
   },
   {
    "duration": 163,
    "start_time": "2024-06-24T07:07:32.096Z"
   },
   {
    "duration": 22,
    "start_time": "2024-06-24T07:07:32.261Z"
   },
   {
    "duration": 52,
    "start_time": "2024-06-24T07:07:32.286Z"
   },
   {
    "duration": 46,
    "start_time": "2024-06-24T07:07:32.343Z"
   },
   {
    "duration": 85,
    "start_time": "2024-06-24T07:07:32.395Z"
   },
   {
    "duration": 6,
    "start_time": "2024-06-24T07:07:32.483Z"
   },
   {
    "duration": 363,
    "start_time": "2024-06-24T07:07:32.494Z"
   },
   {
    "duration": 0,
    "start_time": "2024-06-24T07:07:32.860Z"
   },
   {
    "duration": 0,
    "start_time": "2024-06-24T07:07:32.862Z"
   },
   {
    "duration": 0,
    "start_time": "2024-06-24T07:07:32.865Z"
   },
   {
    "duration": 0,
    "start_time": "2024-06-24T07:07:32.867Z"
   },
   {
    "duration": 0,
    "start_time": "2024-06-24T07:07:32.869Z"
   },
   {
    "duration": 8,
    "start_time": "2024-06-24T07:07:40.583Z"
   },
   {
    "duration": 1837,
    "start_time": "2024-06-24T07:07:42.553Z"
   },
   {
    "duration": 458,
    "start_time": "2024-06-24T07:07:58.858Z"
   },
   {
    "duration": 26,
    "start_time": "2024-06-24T07:08:57.513Z"
   },
   {
    "duration": 22,
    "start_time": "2024-06-24T07:09:02.772Z"
   },
   {
    "duration": 17,
    "start_time": "2024-06-24T07:09:05.979Z"
   },
   {
    "duration": 5,
    "start_time": "2024-06-24T07:09:07.974Z"
   },
   {
    "duration": 20,
    "start_time": "2024-06-24T07:09:09.776Z"
   },
   {
    "duration": 24,
    "start_time": "2024-06-24T07:09:12.304Z"
   },
   {
    "duration": 21,
    "start_time": "2024-06-24T07:09:26.464Z"
   },
   {
    "duration": 42,
    "start_time": "2024-06-24T07:09:28.002Z"
   },
   {
    "duration": 45,
    "start_time": "2024-06-24T07:09:36.833Z"
   },
   {
    "duration": 68,
    "start_time": "2024-06-24T07:10:26.337Z"
   },
   {
    "duration": 37,
    "start_time": "2024-06-24T07:10:31.947Z"
   },
   {
    "duration": 26,
    "start_time": "2024-06-24T07:10:38.475Z"
   },
   {
    "duration": 424,
    "start_time": "2024-06-24T07:10:47.374Z"
   },
   {
    "duration": 21,
    "start_time": "2024-06-24T07:11:06.680Z"
   },
   {
    "duration": 20,
    "start_time": "2024-06-24T07:11:10.945Z"
   },
   {
    "duration": 423,
    "start_time": "2024-06-24T07:17:18.904Z"
   },
   {
    "duration": 39,
    "start_time": "2024-06-24T07:17:25.639Z"
   },
   {
    "duration": 454,
    "start_time": "2024-06-24T07:17:43.867Z"
   },
   {
    "duration": 33,
    "start_time": "2024-06-24T07:18:17.007Z"
   },
   {
    "duration": 22,
    "start_time": "2024-06-24T07:24:47.322Z"
   },
   {
    "duration": 20,
    "start_time": "2024-06-24T07:24:50.449Z"
   },
   {
    "duration": 19,
    "start_time": "2024-06-24T07:26:53.242Z"
   },
   {
    "duration": 5,
    "start_time": "2024-06-24T07:27:00.097Z"
   },
   {
    "duration": 25,
    "start_time": "2024-06-24T07:27:50.712Z"
   },
   {
    "duration": 5,
    "start_time": "2024-06-24T07:27:56.907Z"
   },
   {
    "duration": 446,
    "start_time": "2024-06-24T07:27:59.976Z"
   },
   {
    "duration": 23,
    "start_time": "2024-06-24T07:28:14.305Z"
   },
   {
    "duration": 23,
    "start_time": "2024-06-24T07:28:18.114Z"
   },
   {
    "duration": 27,
    "start_time": "2024-06-24T07:28:23.200Z"
   },
   {
    "duration": 324,
    "start_time": "2024-06-24T07:28:25.018Z"
   },
   {
    "duration": 338,
    "start_time": "2024-06-24T07:28:31.411Z"
   },
   {
    "duration": 329,
    "start_time": "2024-06-24T07:28:41.187Z"
   },
   {
    "duration": 23,
    "start_time": "2024-06-24T07:28:51.137Z"
   },
   {
    "duration": 417,
    "start_time": "2024-06-24T07:28:59.274Z"
   },
   {
    "duration": 4,
    "start_time": "2024-06-24T07:29:08.705Z"
   },
   {
    "duration": 349,
    "start_time": "2024-06-24T07:29:26.075Z"
   },
   {
    "duration": 8,
    "start_time": "2024-06-24T07:29:37.152Z"
   },
   {
    "duration": 34,
    "start_time": "2024-06-24T07:29:40.665Z"
   },
   {
    "duration": 166,
    "start_time": "2024-06-24T07:29:54.752Z"
   },
   {
    "duration": 22,
    "start_time": "2024-06-24T07:30:27.257Z"
   },
   {
    "duration": 20,
    "start_time": "2024-06-24T07:30:37.639Z"
   },
   {
    "duration": 3,
    "start_time": "2024-06-24T07:30:45.498Z"
   },
   {
    "duration": 806,
    "start_time": "2024-06-24T07:30:45.506Z"
   },
   {
    "duration": 16,
    "start_time": "2024-06-24T07:30:46.315Z"
   },
   {
    "duration": 18,
    "start_time": "2024-06-24T07:30:46.334Z"
   },
   {
    "duration": 173,
    "start_time": "2024-06-24T07:30:46.357Z"
   },
   {
    "duration": 23,
    "start_time": "2024-06-24T07:30:46.533Z"
   },
   {
    "duration": 1214,
    "start_time": "2024-06-24T07:30:46.559Z"
   },
   {
    "duration": 155,
    "start_time": "2024-06-24T07:30:47.776Z"
   },
   {
    "duration": 19,
    "start_time": "2024-06-24T07:30:47.934Z"
   },
   {
    "duration": 21,
    "start_time": "2024-06-24T07:30:47.956Z"
   },
   {
    "duration": 71,
    "start_time": "2024-06-24T07:30:47.980Z"
   },
   {
    "duration": 83,
    "start_time": "2024-06-24T07:30:48.054Z"
   },
   {
    "duration": 7,
    "start_time": "2024-06-24T07:30:48.140Z"
   },
   {
    "duration": 21,
    "start_time": "2024-06-24T07:30:48.154Z"
   },
   {
    "duration": 7,
    "start_time": "2024-06-24T07:30:48.178Z"
   },
   {
    "duration": 57,
    "start_time": "2024-06-24T07:30:48.191Z"
   },
   {
    "duration": 25,
    "start_time": "2024-06-24T07:30:48.251Z"
   },
   {
    "duration": 53,
    "start_time": "2024-06-24T07:30:48.279Z"
   },
   {
    "duration": 4,
    "start_time": "2024-06-24T07:31:30.481Z"
   },
   {
    "duration": 453,
    "start_time": "2024-06-24T07:31:48.660Z"
   },
   {
    "duration": 145,
    "start_time": "2024-06-24T07:31:52.048Z"
   },
   {
    "duration": 549,
    "start_time": "2024-06-24T07:31:53.281Z"
   },
   {
    "duration": 367,
    "start_time": "2024-06-24T07:32:00.747Z"
   },
   {
    "duration": 8,
    "start_time": "2024-06-24T07:32:30.761Z"
   },
   {
    "duration": 346,
    "start_time": "2024-06-24T07:32:46.159Z"
   },
   {
    "duration": 24,
    "start_time": "2024-06-24T07:34:12.836Z"
   },
   {
    "duration": 175,
    "start_time": "2024-06-24T07:34:17.096Z"
   },
   {
    "duration": 23,
    "start_time": "2024-06-24T07:34:18.647Z"
   },
   {
    "duration": 204,
    "start_time": "2024-06-24T07:34:32.153Z"
   },
   {
    "duration": 163,
    "start_time": "2024-06-24T07:34:34.821Z"
   },
   {
    "duration": 20,
    "start_time": "2024-06-24T07:34:39.822Z"
   },
   {
    "duration": 4,
    "start_time": "2024-06-24T07:34:45.489Z"
   },
   {
    "duration": 769,
    "start_time": "2024-06-24T07:34:45.498Z"
   },
   {
    "duration": 6,
    "start_time": "2024-06-24T07:34:46.270Z"
   },
   {
    "duration": 18,
    "start_time": "2024-06-24T07:34:46.279Z"
   },
   {
    "duration": 151,
    "start_time": "2024-06-24T07:34:46.330Z"
   },
   {
    "duration": 23,
    "start_time": "2024-06-24T07:34:46.484Z"
   },
   {
    "duration": 1176,
    "start_time": "2024-06-24T07:34:46.511Z"
   },
   {
    "duration": 156,
    "start_time": "2024-06-24T07:34:47.690Z"
   },
   {
    "duration": 18,
    "start_time": "2024-06-24T07:34:47.848Z"
   },
   {
    "duration": 22,
    "start_time": "2024-06-24T07:34:47.870Z"
   },
   {
    "duration": 63,
    "start_time": "2024-06-24T07:34:47.894Z"
   },
   {
    "duration": 82,
    "start_time": "2024-06-24T07:34:47.960Z"
   },
   {
    "duration": 6,
    "start_time": "2024-06-24T07:34:48.045Z"
   },
   {
    "duration": 20,
    "start_time": "2024-06-24T07:34:48.057Z"
   },
   {
    "duration": 6,
    "start_time": "2024-06-24T07:34:48.080Z"
   },
   {
    "duration": 57,
    "start_time": "2024-06-24T07:34:48.089Z"
   },
   {
    "duration": 24,
    "start_time": "2024-06-24T07:34:48.149Z"
   },
   {
    "duration": 21,
    "start_time": "2024-06-24T07:34:48.175Z"
   },
   {
    "duration": 21,
    "start_time": "2024-06-24T07:34:58.739Z"
   },
   {
    "duration": 22,
    "start_time": "2024-06-24T07:35:09.502Z"
   },
   {
    "duration": 58,
    "start_time": "2024-06-24T07:35:32.786Z"
   },
   {
    "duration": 4,
    "start_time": "2024-06-24T07:35:36.648Z"
   },
   {
    "duration": 793,
    "start_time": "2024-06-24T07:35:36.655Z"
   },
   {
    "duration": 7,
    "start_time": "2024-06-24T07:35:37.451Z"
   },
   {
    "duration": 18,
    "start_time": "2024-06-24T07:35:37.462Z"
   },
   {
    "duration": 175,
    "start_time": "2024-06-24T07:35:37.483Z"
   },
   {
    "duration": 24,
    "start_time": "2024-06-24T07:35:37.662Z"
   },
   {
    "duration": 1181,
    "start_time": "2024-06-24T07:35:37.689Z"
   },
   {
    "duration": 156,
    "start_time": "2024-06-24T07:35:38.874Z"
   },
   {
    "duration": 19,
    "start_time": "2024-06-24T07:35:39.033Z"
   },
   {
    "duration": 22,
    "start_time": "2024-06-24T07:35:39.057Z"
   },
   {
    "duration": 68,
    "start_time": "2024-06-24T07:35:39.083Z"
   },
   {
    "duration": 80,
    "start_time": "2024-06-24T07:35:39.154Z"
   },
   {
    "duration": 7,
    "start_time": "2024-06-24T07:35:39.236Z"
   },
   {
    "duration": 20,
    "start_time": "2024-06-24T07:35:39.247Z"
   },
   {
    "duration": 6,
    "start_time": "2024-06-24T07:35:39.270Z"
   },
   {
    "duration": 61,
    "start_time": "2024-06-24T07:35:39.279Z"
   },
   {
    "duration": 23,
    "start_time": "2024-06-24T07:35:39.344Z"
   },
   {
    "duration": 20,
    "start_time": "2024-06-24T07:35:39.371Z"
   },
   {
    "duration": 58,
    "start_time": "2024-06-24T07:35:41.242Z"
   },
   {
    "duration": 20,
    "start_time": "2024-06-24T07:35:43.973Z"
   },
   {
    "duration": 48,
    "start_time": "2024-06-24T07:35:45.265Z"
   },
   {
    "duration": 30,
    "start_time": "2024-06-24T07:35:50.093Z"
   },
   {
    "duration": 65,
    "start_time": "2024-06-24T07:36:12.822Z"
   },
   {
    "duration": 74,
    "start_time": "2024-06-24T07:36:23.331Z"
   },
   {
    "duration": 66,
    "start_time": "2024-06-24T07:36:26.523Z"
   },
   {
    "duration": 558,
    "start_time": "2024-06-24T07:36:30.669Z"
   },
   {
    "duration": 21,
    "start_time": "2024-06-24T07:40:59.460Z"
   },
   {
    "duration": 36,
    "start_time": "2024-06-24T07:41:04.852Z"
   },
   {
    "duration": 35,
    "start_time": "2024-06-24T07:41:08.691Z"
   },
   {
    "duration": 20,
    "start_time": "2024-06-24T07:41:14.674Z"
   },
   {
    "duration": 20,
    "start_time": "2024-06-24T07:41:17.348Z"
   },
   {
    "duration": 44,
    "start_time": "2024-06-24T07:43:24.626Z"
   },
   {
    "duration": 22,
    "start_time": "2024-06-24T07:43:27.415Z"
   },
   {
    "duration": 50,
    "start_time": "2024-06-24T07:43:47.901Z"
   },
   {
    "duration": 22,
    "start_time": "2024-06-24T07:44:14.509Z"
   },
   {
    "duration": 19,
    "start_time": "2024-06-24T07:44:16.471Z"
   },
   {
    "duration": 35,
    "start_time": "2024-06-24T07:45:29.237Z"
   },
   {
    "duration": 34,
    "start_time": "2024-06-24T07:45:49.711Z"
   },
   {
    "duration": 1182,
    "start_time": "2024-06-24T07:46:25.702Z"
   },
   {
    "duration": 114,
    "start_time": "2024-06-24T07:46:37.977Z"
   },
   {
    "duration": 85,
    "start_time": "2024-06-24T07:47:22.713Z"
   },
   {
    "duration": 75,
    "start_time": "2024-06-24T07:47:46.075Z"
   },
   {
    "duration": 83,
    "start_time": "2024-06-24T07:47:48.733Z"
   },
   {
    "duration": 56,
    "start_time": "2024-06-24T07:47:53.088Z"
   },
   {
    "duration": 84,
    "start_time": "2024-06-24T07:48:11.041Z"
   },
   {
    "duration": 80,
    "start_time": "2024-06-24T07:48:14.879Z"
   },
   {
    "duration": 88,
    "start_time": "2024-06-24T07:48:26.148Z"
   },
   {
    "duration": 19,
    "start_time": "2024-06-24T07:48:33.486Z"
   },
   {
    "duration": 4,
    "start_time": "2024-06-24T07:48:52.715Z"
   },
   {
    "duration": 764,
    "start_time": "2024-06-24T07:48:52.723Z"
   },
   {
    "duration": 7,
    "start_time": "2024-06-24T07:48:53.490Z"
   },
   {
    "duration": 37,
    "start_time": "2024-06-24T07:48:53.500Z"
   },
   {
    "duration": 159,
    "start_time": "2024-06-24T07:48:53.542Z"
   },
   {
    "duration": 35,
    "start_time": "2024-06-24T07:48:53.704Z"
   },
   {
    "duration": 1099,
    "start_time": "2024-06-24T07:48:53.743Z"
   },
   {
    "duration": 152,
    "start_time": "2024-06-24T07:48:54.845Z"
   },
   {
    "duration": 32,
    "start_time": "2024-06-24T07:48:55.000Z"
   },
   {
    "duration": 21,
    "start_time": "2024-06-24T07:48:55.035Z"
   },
   {
    "duration": 36,
    "start_time": "2024-06-24T07:48:55.059Z"
   },
   {
    "duration": 85,
    "start_time": "2024-06-24T07:48:55.098Z"
   },
   {
    "duration": 7,
    "start_time": "2024-06-24T07:48:55.186Z"
   },
   {
    "duration": 44,
    "start_time": "2024-06-24T07:48:55.199Z"
   },
   {
    "duration": 8,
    "start_time": "2024-06-24T07:48:55.246Z"
   },
   {
    "duration": 21,
    "start_time": "2024-06-24T07:48:55.256Z"
   },
   {
    "duration": 51,
    "start_time": "2024-06-24T07:48:55.280Z"
   },
   {
    "duration": 34,
    "start_time": "2024-06-24T07:48:55.335Z"
   },
   {
    "duration": 3,
    "start_time": "2024-06-24T07:48:55.372Z"
   },
   {
    "duration": 19,
    "start_time": "2024-06-24T07:48:58.400Z"
   },
   {
    "duration": 21,
    "start_time": "2024-06-24T07:49:06.399Z"
   },
   {
    "duration": 87,
    "start_time": "2024-06-24T07:49:08.540Z"
   },
   {
    "duration": 19,
    "start_time": "2024-06-24T07:49:10.174Z"
   },
   {
    "duration": 332,
    "start_time": "2024-06-24T07:49:18.856Z"
   },
   {
    "duration": 337,
    "start_time": "2024-06-24T07:49:21.373Z"
   },
   {
    "duration": 518,
    "start_time": "2024-06-24T07:49:24.862Z"
   },
   {
    "duration": 386,
    "start_time": "2024-06-24T07:49:33.282Z"
   },
   {
    "duration": 367,
    "start_time": "2024-06-24T07:49:54.778Z"
   },
   {
    "duration": 18,
    "start_time": "2024-06-24T07:50:13.339Z"
   },
   {
    "duration": 3,
    "start_time": "2024-06-24T07:50:17.442Z"
   },
   {
    "duration": 782,
    "start_time": "2024-06-24T07:50:17.449Z"
   },
   {
    "duration": 6,
    "start_time": "2024-06-24T07:50:18.233Z"
   },
   {
    "duration": 18,
    "start_time": "2024-06-24T07:50:18.242Z"
   },
   {
    "duration": 178,
    "start_time": "2024-06-24T07:50:18.265Z"
   },
   {
    "duration": 22,
    "start_time": "2024-06-24T07:50:18.446Z"
   },
   {
    "duration": 508,
    "start_time": "2024-06-24T08:13:00.940Z"
   },
   {
    "duration": 1035,
    "start_time": "2024-06-24T08:13:01.452Z"
   },
   {
    "duration": 7,
    "start_time": "2024-06-24T08:13:02.490Z"
   },
   {
    "duration": 30,
    "start_time": "2024-06-24T08:13:02.502Z"
   },
   {
    "duration": 165,
    "start_time": "2024-06-24T08:13:02.536Z"
   },
   {
    "duration": 36,
    "start_time": "2024-06-24T08:13:02.704Z"
   },
   {
    "duration": 1310,
    "start_time": "2024-06-24T08:13:02.743Z"
   },
   {
    "duration": 206,
    "start_time": "2024-06-24T08:13:04.056Z"
   },
   {
    "duration": 24,
    "start_time": "2024-06-24T08:13:04.265Z"
   },
   {
    "duration": 45,
    "start_time": "2024-06-24T08:13:04.297Z"
   },
   {
    "duration": 41,
    "start_time": "2024-06-24T08:13:04.345Z"
   },
   {
    "duration": 94,
    "start_time": "2024-06-24T08:13:04.388Z"
   },
   {
    "duration": 12,
    "start_time": "2024-06-24T08:13:04.486Z"
   },
   {
    "duration": 36,
    "start_time": "2024-06-24T08:13:04.503Z"
   },
   {
    "duration": 7,
    "start_time": "2024-06-24T08:13:04.542Z"
   },
   {
    "duration": 32,
    "start_time": "2024-06-24T08:13:04.558Z"
   },
   {
    "duration": 43,
    "start_time": "2024-06-24T08:13:04.595Z"
   },
   {
    "duration": 51,
    "start_time": "2024-06-24T08:13:04.641Z"
   },
   {
    "duration": 120,
    "start_time": "2024-06-24T08:13:04.698Z"
   },
   {
    "duration": 26,
    "start_time": "2024-06-24T08:13:05.896Z"
   },
   {
    "duration": 456,
    "start_time": "2024-06-24T08:13:09.338Z"
   },
   {
    "duration": 34,
    "start_time": "2024-06-24T08:13:19.647Z"
   },
   {
    "duration": 34,
    "start_time": "2024-06-24T08:13:54.462Z"
   },
   {
    "duration": 136,
    "start_time": "2024-06-24T08:14:06.895Z"
   },
   {
    "duration": 45,
    "start_time": "2024-06-24T08:14:51.978Z"
   },
   {
    "duration": 502,
    "start_time": "2024-06-24T08:16:19.293Z"
   },
   {
    "duration": 30,
    "start_time": "2024-06-24T08:16:22.847Z"
   },
   {
    "duration": 54,
    "start_time": "2024-06-24T08:16:27.142Z"
   },
   {
    "duration": 23,
    "start_time": "2024-06-24T08:16:34.341Z"
   },
   {
    "duration": 114,
    "start_time": "2024-06-24T08:16:46.600Z"
   },
   {
    "duration": 84,
    "start_time": "2024-06-24T08:17:00.222Z"
   },
   {
    "duration": 41,
    "start_time": "2024-06-24T08:17:23.615Z"
   },
   {
    "duration": 120,
    "start_time": "2024-06-24T08:17:43.582Z"
   },
   {
    "duration": 115,
    "start_time": "2024-06-24T08:18:26.450Z"
   },
   {
    "duration": 24,
    "start_time": "2024-06-24T08:21:32.567Z"
   },
   {
    "duration": 183,
    "start_time": "2024-06-24T08:21:38.845Z"
   },
   {
    "duration": 43,
    "start_time": "2024-06-24T08:22:01.064Z"
   },
   {
    "duration": 37,
    "start_time": "2024-06-24T08:22:06.919Z"
   },
   {
    "duration": 180,
    "start_time": "2024-06-24T08:29:48.899Z"
   },
   {
    "duration": 23,
    "start_time": "2024-06-24T08:30:16.968Z"
   },
   {
    "duration": 13,
    "start_time": "2024-06-24T08:30:35.948Z"
   },
   {
    "duration": 12,
    "start_time": "2024-06-24T08:32:12.077Z"
   },
   {
    "duration": 242,
    "start_time": "2024-06-24T08:32:43.837Z"
   },
   {
    "duration": 253,
    "start_time": "2024-06-24T08:32:53.641Z"
   },
   {
    "duration": 235,
    "start_time": "2024-06-24T08:33:09.090Z"
   },
   {
    "duration": 181,
    "start_time": "2024-06-24T08:33:11.628Z"
   },
   {
    "duration": 4,
    "start_time": "2024-06-24T08:33:25.631Z"
   },
   {
    "duration": 867,
    "start_time": "2024-06-24T08:33:25.639Z"
   },
   {
    "duration": 6,
    "start_time": "2024-06-24T08:33:26.510Z"
   },
   {
    "duration": 22,
    "start_time": "2024-06-24T08:33:26.535Z"
   },
   {
    "duration": 186,
    "start_time": "2024-06-24T08:33:26.561Z"
   },
   {
    "duration": 24,
    "start_time": "2024-06-24T08:33:26.751Z"
   },
   {
    "duration": 1253,
    "start_time": "2024-06-24T08:33:26.778Z"
   },
   {
    "duration": 224,
    "start_time": "2024-06-24T08:33:28.035Z"
   },
   {
    "duration": 22,
    "start_time": "2024-06-24T08:33:28.262Z"
   },
   {
    "duration": 56,
    "start_time": "2024-06-24T08:33:28.290Z"
   },
   {
    "duration": 40,
    "start_time": "2024-06-24T08:33:28.348Z"
   },
   {
    "duration": 81,
    "start_time": "2024-06-24T08:33:28.394Z"
   },
   {
    "duration": 7,
    "start_time": "2024-06-24T08:33:28.478Z"
   },
   {
    "duration": 42,
    "start_time": "2024-06-24T08:33:28.488Z"
   },
   {
    "duration": 7,
    "start_time": "2024-06-24T08:33:28.533Z"
   },
   {
    "duration": 21,
    "start_time": "2024-06-24T08:33:28.543Z"
   },
   {
    "duration": 64,
    "start_time": "2024-06-24T08:33:28.567Z"
   },
   {
    "duration": 35,
    "start_time": "2024-06-24T08:33:28.637Z"
   },
   {
    "duration": 131,
    "start_time": "2024-06-24T08:33:28.675Z"
   },
   {
    "duration": 29,
    "start_time": "2024-06-24T08:33:28.811Z"
   },
   {
    "duration": 421,
    "start_time": "2024-06-24T08:33:28.843Z"
   },
   {
    "duration": 136,
    "start_time": "2024-06-24T08:33:29.268Z"
   },
   {
    "duration": 69,
    "start_time": "2024-06-24T08:33:29.407Z"
   },
   {
    "duration": 21,
    "start_time": "2024-06-24T08:33:29.479Z"
   },
   {
    "duration": 42,
    "start_time": "2024-06-24T08:33:32.433Z"
   },
   {
    "duration": 54,
    "start_time": "2024-06-24T08:33:59.776Z"
   },
   {
    "duration": 258,
    "start_time": "2024-06-24T08:34:12.208Z"
   },
   {
    "duration": 33,
    "start_time": "2024-06-24T08:34:14.026Z"
   },
   {
    "duration": 31,
    "start_time": "2024-06-24T08:34:15.668Z"
   },
   {
    "duration": 7,
    "start_time": "2024-06-24T08:34:18.371Z"
   },
   {
    "duration": 245,
    "start_time": "2024-06-24T08:34:43.945Z"
   },
   {
    "duration": 4,
    "start_time": "2024-06-24T08:34:48.628Z"
   },
   {
    "duration": 850,
    "start_time": "2024-06-24T08:34:48.637Z"
   },
   {
    "duration": 6,
    "start_time": "2024-06-24T08:34:49.490Z"
   },
   {
    "duration": 41,
    "start_time": "2024-06-24T08:34:49.499Z"
   },
   {
    "duration": 156,
    "start_time": "2024-06-24T08:34:49.547Z"
   },
   {
    "duration": 28,
    "start_time": "2024-06-24T08:34:49.706Z"
   },
   {
    "duration": 1204,
    "start_time": "2024-06-24T08:34:49.738Z"
   },
   {
    "duration": 186,
    "start_time": "2024-06-24T08:34:50.945Z"
   },
   {
    "duration": 18,
    "start_time": "2024-06-24T08:34:51.134Z"
   },
   {
    "duration": 24,
    "start_time": "2024-06-24T08:34:51.158Z"
   },
   {
    "duration": 74,
    "start_time": "2024-06-24T08:34:51.185Z"
   },
   {
    "duration": 94,
    "start_time": "2024-06-24T08:34:51.262Z"
   },
   {
    "duration": 7,
    "start_time": "2024-06-24T08:34:51.363Z"
   },
   {
    "duration": 25,
    "start_time": "2024-06-24T08:34:51.379Z"
   },
   {
    "duration": 15,
    "start_time": "2024-06-24T08:34:51.420Z"
   },
   {
    "duration": 22,
    "start_time": "2024-06-24T08:34:51.442Z"
   },
   {
    "duration": 27,
    "start_time": "2024-06-24T08:34:51.470Z"
   },
   {
    "duration": 61,
    "start_time": "2024-06-24T08:34:51.500Z"
   },
   {
    "duration": 111,
    "start_time": "2024-06-24T08:34:51.565Z"
   },
   {
    "duration": 20,
    "start_time": "2024-06-24T08:34:51.681Z"
   },
   {
    "duration": 475,
    "start_time": "2024-06-24T08:34:51.705Z"
   },
   {
    "duration": 117,
    "start_time": "2024-06-24T08:34:52.187Z"
   },
   {
    "duration": 56,
    "start_time": "2024-06-24T08:34:52.307Z"
   },
   {
    "duration": 24,
    "start_time": "2024-06-24T08:34:52.367Z"
   },
   {
    "duration": 338,
    "start_time": "2024-06-24T08:34:52.396Z"
   },
   {
    "duration": 27,
    "start_time": "2024-06-24T08:34:52.737Z"
   },
   {
    "duration": 9,
    "start_time": "2024-06-24T08:34:52.768Z"
   },
   {
    "duration": 177,
    "start_time": "2024-06-24T08:34:52.781Z"
   },
   {
    "duration": 3,
    "start_time": "2024-06-24T08:34:52.962Z"
   },
   {
    "duration": 5,
    "start_time": "2024-06-24T08:34:52.969Z"
   },
   {
    "duration": 4,
    "start_time": "2024-06-24T08:34:52.978Z"
   },
   {
    "duration": 45,
    "start_time": "2024-06-24T08:34:52.986Z"
   },
   {
    "duration": 0,
    "start_time": "2024-06-24T08:34:53.034Z"
   },
   {
    "duration": 0,
    "start_time": "2024-06-24T08:34:53.037Z"
   },
   {
    "duration": 11,
    "start_time": "2024-06-24T08:35:00.039Z"
   },
   {
    "duration": 426,
    "start_time": "2024-06-24T08:36:02.160Z"
   },
   {
    "duration": 28,
    "start_time": "2024-06-24T08:36:03.705Z"
   },
   {
    "duration": 8,
    "start_time": "2024-06-24T08:36:05.750Z"
   },
   {
    "duration": 5,
    "start_time": "2024-06-24T08:36:42.046Z"
   },
   {
    "duration": 877,
    "start_time": "2024-06-24T08:36:42.056Z"
   },
   {
    "duration": 8,
    "start_time": "2024-06-24T08:36:42.936Z"
   },
   {
    "duration": 22,
    "start_time": "2024-06-24T08:36:42.949Z"
   },
   {
    "duration": 195,
    "start_time": "2024-06-24T08:36:42.975Z"
   },
   {
    "duration": 25,
    "start_time": "2024-06-24T08:36:43.173Z"
   },
   {
    "duration": 1210,
    "start_time": "2024-06-24T08:36:43.202Z"
   },
   {
    "duration": 231,
    "start_time": "2024-06-24T08:36:44.416Z"
   },
   {
    "duration": 19,
    "start_time": "2024-06-24T08:36:44.653Z"
   },
   {
    "duration": 25,
    "start_time": "2024-06-24T08:36:44.676Z"
   },
   {
    "duration": 37,
    "start_time": "2024-06-24T08:36:44.732Z"
   },
   {
    "duration": 90,
    "start_time": "2024-06-24T08:36:44.772Z"
   },
   {
    "duration": 8,
    "start_time": "2024-06-24T08:36:44.866Z"
   },
   {
    "duration": 20,
    "start_time": "2024-06-24T08:36:44.877Z"
   },
   {
    "duration": 32,
    "start_time": "2024-06-24T08:36:44.901Z"
   },
   {
    "duration": 30,
    "start_time": "2024-06-24T08:36:44.936Z"
   },
   {
    "duration": 24,
    "start_time": "2024-06-24T08:36:44.969Z"
   },
   {
    "duration": 44,
    "start_time": "2024-06-24T08:36:45.030Z"
   },
   {
    "duration": 117,
    "start_time": "2024-06-24T08:36:45.077Z"
   },
   {
    "duration": 36,
    "start_time": "2024-06-24T08:36:45.198Z"
   },
   {
    "duration": 408,
    "start_time": "2024-06-24T08:36:45.237Z"
   },
   {
    "duration": 116,
    "start_time": "2024-06-24T08:36:45.649Z"
   },
   {
    "duration": 41,
    "start_time": "2024-06-24T08:36:45.768Z"
   },
   {
    "duration": 19,
    "start_time": "2024-06-24T08:36:45.831Z"
   },
   {
    "duration": 79,
    "start_time": "2024-06-24T08:36:45.854Z"
   },
   {
    "duration": 375,
    "start_time": "2024-06-24T08:36:48.128Z"
   },
   {
    "duration": 34,
    "start_time": "2024-06-24T08:36:50.072Z"
   },
   {
    "duration": 15,
    "start_time": "2024-06-24T08:36:51.795Z"
   },
   {
    "duration": 41,
    "start_time": "2024-06-24T08:37:11.439Z"
   },
   {
    "duration": 5,
    "start_time": "2024-06-24T08:37:15.895Z"
   },
   {
    "duration": 827,
    "start_time": "2024-06-24T08:37:15.903Z"
   },
   {
    "duration": 10,
    "start_time": "2024-06-24T08:37:16.738Z"
   },
   {
    "duration": 18,
    "start_time": "2024-06-24T08:37:16.753Z"
   },
   {
    "duration": 182,
    "start_time": "2024-06-24T08:37:16.774Z"
   },
   {
    "duration": 25,
    "start_time": "2024-06-24T08:37:16.959Z"
   },
   {
    "duration": 1223,
    "start_time": "2024-06-24T08:37:16.987Z"
   },
   {
    "duration": 149,
    "start_time": "2024-06-24T08:37:18.213Z"
   },
   {
    "duration": 22,
    "start_time": "2024-06-24T08:37:18.370Z"
   },
   {
    "duration": 51,
    "start_time": "2024-06-24T08:37:18.395Z"
   },
   {
    "duration": 44,
    "start_time": "2024-06-24T08:37:18.452Z"
   },
   {
    "duration": 99,
    "start_time": "2024-06-24T08:37:18.499Z"
   },
   {
    "duration": 7,
    "start_time": "2024-06-24T08:37:18.601Z"
   },
   {
    "duration": 35,
    "start_time": "2024-06-24T08:37:18.612Z"
   },
   {
    "duration": 7,
    "start_time": "2024-06-24T08:37:18.649Z"
   },
   {
    "duration": 25,
    "start_time": "2024-06-24T08:37:18.659Z"
   },
   {
    "duration": 66,
    "start_time": "2024-06-24T08:37:18.687Z"
   },
   {
    "duration": 35,
    "start_time": "2024-06-24T08:37:18.757Z"
   },
   {
    "duration": 118,
    "start_time": "2024-06-24T08:37:18.795Z"
   },
   {
    "duration": 37,
    "start_time": "2024-06-24T08:37:18.916Z"
   },
   {
    "duration": 409,
    "start_time": "2024-06-24T08:37:18.957Z"
   },
   {
    "duration": 128,
    "start_time": "2024-06-24T08:37:19.369Z"
   },
   {
    "duration": 58,
    "start_time": "2024-06-24T08:37:19.500Z"
   },
   {
    "duration": 83,
    "start_time": "2024-06-24T08:37:19.565Z"
   },
   {
    "duration": 438,
    "start_time": "2024-06-24T08:37:27.361Z"
   },
   {
    "duration": 287,
    "start_time": "2024-06-24T08:37:36.240Z"
   },
   {
    "duration": 22,
    "start_time": "2024-06-24T08:37:41.219Z"
   },
   {
    "duration": 20,
    "start_time": "2024-06-24T08:37:45.269Z"
   },
   {
    "duration": 42,
    "start_time": "2024-06-24T08:38:17.361Z"
   },
   {
    "duration": 233,
    "start_time": "2024-06-24T08:38:29.073Z"
   },
   {
    "duration": 106,
    "start_time": "2024-06-24T08:38:45.147Z"
   },
   {
    "duration": 175,
    "start_time": "2024-06-24T08:38:47.037Z"
   },
   {
    "duration": 27,
    "start_time": "2024-06-24T08:38:52.223Z"
   },
   {
    "duration": 7,
    "start_time": "2024-06-24T08:41:49.948Z"
   },
   {
    "duration": 24,
    "start_time": "2024-06-24T08:41:56.157Z"
   },
   {
    "duration": 8,
    "start_time": "2024-06-24T08:41:59.486Z"
   },
   {
    "duration": 198,
    "start_time": "2024-06-24T08:42:13.975Z"
   },
   {
    "duration": 28,
    "start_time": "2024-06-24T08:43:12.699Z"
   },
   {
    "duration": 6,
    "start_time": "2024-06-24T08:53:58.034Z"
   },
   {
    "duration": 48,
    "start_time": "2024-06-24T08:55:13.390Z"
   },
   {
    "duration": 25,
    "start_time": "2024-06-24T08:55:19.983Z"
   },
   {
    "duration": 19,
    "start_time": "2024-06-24T08:55:26.265Z"
   },
   {
    "duration": 4,
    "start_time": "2024-06-24T08:55:46.621Z"
   },
   {
    "duration": 856,
    "start_time": "2024-06-24T08:55:46.630Z"
   },
   {
    "duration": 6,
    "start_time": "2024-06-24T08:55:47.492Z"
   },
   {
    "duration": 35,
    "start_time": "2024-06-24T08:55:47.504Z"
   },
   {
    "duration": 161,
    "start_time": "2024-06-24T08:55:47.543Z"
   },
   {
    "duration": 35,
    "start_time": "2024-06-24T08:55:47.706Z"
   },
   {
    "duration": 1263,
    "start_time": "2024-06-24T08:55:47.745Z"
   },
   {
    "duration": 157,
    "start_time": "2024-06-24T08:55:49.011Z"
   },
   {
    "duration": 24,
    "start_time": "2024-06-24T08:55:49.172Z"
   },
   {
    "duration": 42,
    "start_time": "2024-06-24T08:55:49.209Z"
   },
   {
    "duration": 46,
    "start_time": "2024-06-24T08:55:49.255Z"
   },
   {
    "duration": 76,
    "start_time": "2024-06-24T08:55:49.304Z"
   },
   {
    "duration": 7,
    "start_time": "2024-06-24T08:55:49.383Z"
   },
   {
    "duration": 47,
    "start_time": "2024-06-24T08:55:49.394Z"
   },
   {
    "duration": 6,
    "start_time": "2024-06-24T08:55:49.443Z"
   },
   {
    "duration": 21,
    "start_time": "2024-06-24T08:55:49.452Z"
   },
   {
    "duration": 56,
    "start_time": "2024-06-24T08:55:49.475Z"
   },
   {
    "duration": 35,
    "start_time": "2024-06-24T08:55:49.534Z"
   },
   {
    "duration": 115,
    "start_time": "2024-06-24T08:55:49.572Z"
   },
   {
    "duration": 21,
    "start_time": "2024-06-24T08:55:49.691Z"
   },
   {
    "duration": 402,
    "start_time": "2024-06-24T08:55:49.734Z"
   },
   {
    "duration": 126,
    "start_time": "2024-06-24T08:55:50.139Z"
   },
   {
    "duration": 63,
    "start_time": "2024-06-24T08:55:50.272Z"
   },
   {
    "duration": 92,
    "start_time": "2024-06-24T08:55:50.338Z"
   },
   {
    "duration": 373,
    "start_time": "2024-06-24T08:55:50.434Z"
   },
   {
    "duration": 47,
    "start_time": "2024-06-24T08:55:50.810Z"
   },
   {
    "duration": 40,
    "start_time": "2024-06-24T08:55:50.860Z"
   },
   {
    "duration": 8,
    "start_time": "2024-06-24T08:55:50.931Z"
   },
   {
    "duration": 26,
    "start_time": "2024-06-24T08:55:50.943Z"
   },
   {
    "duration": 16,
    "start_time": "2024-06-24T08:55:50.972Z"
   },
   {
    "duration": 5,
    "start_time": "2024-06-24T08:56:00.704Z"
   },
   {
    "duration": 900,
    "start_time": "2024-06-24T08:56:00.713Z"
   },
   {
    "duration": 13,
    "start_time": "2024-06-24T08:56:01.619Z"
   },
   {
    "duration": 25,
    "start_time": "2024-06-24T08:56:01.636Z"
   },
   {
    "duration": 245,
    "start_time": "2024-06-24T08:56:01.664Z"
   },
   {
    "duration": 35,
    "start_time": "2024-06-24T08:56:01.915Z"
   },
   {
    "duration": 1319,
    "start_time": "2024-06-24T08:56:01.953Z"
   },
   {
    "duration": 161,
    "start_time": "2024-06-24T08:56:03.275Z"
   },
   {
    "duration": 19,
    "start_time": "2024-06-24T08:56:03.439Z"
   },
   {
    "duration": 23,
    "start_time": "2024-06-24T08:56:03.464Z"
   },
   {
    "duration": 64,
    "start_time": "2024-06-24T08:56:03.491Z"
   },
   {
    "duration": 74,
    "start_time": "2024-06-24T08:56:03.558Z"
   },
   {
    "duration": 8,
    "start_time": "2024-06-24T08:56:03.636Z"
   },
   {
    "duration": 20,
    "start_time": "2024-06-24T08:56:03.648Z"
   },
   {
    "duration": 6,
    "start_time": "2024-06-24T08:56:03.672Z"
   },
   {
    "duration": 63,
    "start_time": "2024-06-24T08:56:03.682Z"
   },
   {
    "duration": 29,
    "start_time": "2024-06-24T08:56:03.755Z"
   },
   {
    "duration": 66,
    "start_time": "2024-06-24T08:56:03.787Z"
   },
   {
    "duration": 110,
    "start_time": "2024-06-24T08:56:03.856Z"
   },
   {
    "duration": 28,
    "start_time": "2024-06-24T08:56:03.970Z"
   },
   {
    "duration": 430,
    "start_time": "2024-06-24T08:56:04.001Z"
   },
   {
    "duration": 123,
    "start_time": "2024-06-24T08:56:04.435Z"
   },
   {
    "duration": 41,
    "start_time": "2024-06-24T08:56:04.562Z"
   },
   {
    "duration": 76,
    "start_time": "2024-06-24T08:56:04.605Z"
   },
   {
    "duration": 403,
    "start_time": "2024-06-24T08:56:04.684Z"
   },
   {
    "duration": 60,
    "start_time": "2024-06-24T08:56:05.091Z"
   },
   {
    "duration": 40,
    "start_time": "2024-06-24T08:56:05.154Z"
   },
   {
    "duration": 31,
    "start_time": "2024-06-24T08:56:05.200Z"
   },
   {
    "duration": 19,
    "start_time": "2024-06-24T08:56:05.234Z"
   },
   {
    "duration": 25,
    "start_time": "2024-06-24T08:56:05.257Z"
   },
   {
    "duration": 17,
    "start_time": "2024-06-24T08:56:45.055Z"
   },
   {
    "duration": 72,
    "start_time": "2024-06-24T08:56:46.881Z"
   },
   {
    "duration": 90,
    "start_time": "2024-06-24T08:56:48.826Z"
   },
   {
    "duration": 9,
    "start_time": "2024-06-24T09:06:27.105Z"
   },
   {
    "duration": 30,
    "start_time": "2024-06-24T09:06:40.854Z"
   },
   {
    "duration": 38,
    "start_time": "2024-06-24T09:07:24.889Z"
   },
   {
    "duration": 42,
    "start_time": "2024-06-24T09:07:32.601Z"
   },
   {
    "duration": 29,
    "start_time": "2024-06-24T09:08:50.762Z"
   },
   {
    "duration": 33,
    "start_time": "2024-06-24T09:08:56.242Z"
   },
   {
    "duration": 33,
    "start_time": "2024-06-24T09:08:59.405Z"
   },
   {
    "duration": 32,
    "start_time": "2024-06-24T09:09:06.788Z"
   },
   {
    "duration": 39,
    "start_time": "2024-06-24T09:10:19.203Z"
   },
   {
    "duration": 12,
    "start_time": "2024-06-24T09:10:37.059Z"
   },
   {
    "duration": 287,
    "start_time": "2024-06-24T09:10:50.981Z"
   },
   {
    "duration": 32,
    "start_time": "2024-06-24T09:11:02.815Z"
   },
   {
    "duration": 33,
    "start_time": "2024-06-24T09:12:33.108Z"
   },
   {
    "duration": 49,
    "start_time": "2024-06-24T09:12:38.344Z"
   },
   {
    "duration": 55,
    "start_time": "2024-06-24T09:12:42.196Z"
   },
   {
    "duration": 47,
    "start_time": "2024-06-24T09:12:49.711Z"
   },
   {
    "duration": 49,
    "start_time": "2024-06-24T09:12:54.743Z"
   },
   {
    "duration": 79,
    "start_time": "2024-06-24T09:13:01.010Z"
   },
   {
    "duration": 70,
    "start_time": "2024-06-24T09:13:06.535Z"
   },
   {
    "duration": 79,
    "start_time": "2024-06-24T09:13:09.365Z"
   },
   {
    "duration": 7,
    "start_time": "2024-06-24T09:15:00.814Z"
   },
   {
    "duration": 0,
    "start_time": "2024-06-24T09:17:44.380Z"
   },
   {
    "duration": 4,
    "start_time": "2024-06-24T09:17:48.221Z"
   },
   {
    "duration": 886,
    "start_time": "2024-06-24T09:17:48.229Z"
   },
   {
    "duration": 6,
    "start_time": "2024-06-24T09:17:49.130Z"
   },
   {
    "duration": 19,
    "start_time": "2024-06-24T09:17:49.140Z"
   },
   {
    "duration": 172,
    "start_time": "2024-06-24T09:17:49.163Z"
   },
   {
    "duration": 22,
    "start_time": "2024-06-24T09:17:49.339Z"
   },
   {
    "duration": 1240,
    "start_time": "2024-06-24T09:17:49.365Z"
   },
   {
    "duration": 155,
    "start_time": "2024-06-24T09:17:50.611Z"
   },
   {
    "duration": 20,
    "start_time": "2024-06-24T09:17:50.768Z"
   },
   {
    "duration": 56,
    "start_time": "2024-06-24T09:17:50.792Z"
   },
   {
    "duration": 43,
    "start_time": "2024-06-24T09:17:50.855Z"
   },
   {
    "duration": 92,
    "start_time": "2024-06-24T09:17:50.902Z"
   },
   {
    "duration": 8,
    "start_time": "2024-06-24T09:17:50.998Z"
   },
   {
    "duration": 26,
    "start_time": "2024-06-24T09:17:51.030Z"
   },
   {
    "duration": 7,
    "start_time": "2024-06-24T09:17:51.060Z"
   },
   {
    "duration": 27,
    "start_time": "2024-06-24T09:17:51.071Z"
   },
   {
    "duration": 51,
    "start_time": "2024-06-24T09:17:51.103Z"
   },
   {
    "duration": 52,
    "start_time": "2024-06-24T09:17:51.156Z"
   },
   {
    "duration": 118,
    "start_time": "2024-06-24T09:17:51.231Z"
   },
   {
    "duration": 28,
    "start_time": "2024-06-24T09:17:51.353Z"
   },
   {
    "duration": 427,
    "start_time": "2024-06-24T09:17:51.386Z"
   },
   {
    "duration": 127,
    "start_time": "2024-06-24T09:17:51.816Z"
   },
   {
    "duration": 40,
    "start_time": "2024-06-24T09:17:51.946Z"
   },
   {
    "duration": 91,
    "start_time": "2024-06-24T09:17:51.991Z"
   },
   {
    "duration": 434,
    "start_time": "2024-06-24T09:17:52.085Z"
   },
   {
    "duration": 46,
    "start_time": "2024-06-24T09:17:52.530Z"
   },
   {
    "duration": 29,
    "start_time": "2024-06-24T09:17:52.582Z"
   },
   {
    "duration": 10,
    "start_time": "2024-06-24T09:17:52.632Z"
   },
   {
    "duration": 24,
    "start_time": "2024-06-24T09:17:52.650Z"
   },
   {
    "duration": 18,
    "start_time": "2024-06-24T09:17:52.680Z"
   },
   {
    "duration": 110,
    "start_time": "2024-06-24T09:17:52.701Z"
   },
   {
    "duration": 101,
    "start_time": "2024-06-24T09:17:52.815Z"
   },
   {
    "duration": 29,
    "start_time": "2024-06-24T09:17:52.933Z"
   },
   {
    "duration": 28,
    "start_time": "2024-06-24T09:17:57.814Z"
   },
   {
    "duration": 29,
    "start_time": "2024-06-24T09:18:18.504Z"
   },
   {
    "duration": 37,
    "start_time": "2024-06-24T09:19:41.400Z"
   },
   {
    "duration": 30,
    "start_time": "2024-06-24T09:19:59.609Z"
   },
   {
    "duration": 26,
    "start_time": "2024-06-24T09:27:00.276Z"
   },
   {
    "duration": 39,
    "start_time": "2024-06-24T09:27:06.602Z"
   },
   {
    "duration": 30,
    "start_time": "2024-06-24T09:29:20.238Z"
   },
   {
    "duration": 31,
    "start_time": "2024-06-24T09:29:27.475Z"
   },
   {
    "duration": 27,
    "start_time": "2024-06-24T09:29:33.539Z"
   },
   {
    "duration": 36,
    "start_time": "2024-06-24T09:29:37.167Z"
   },
   {
    "duration": 28,
    "start_time": "2024-06-24T09:29:39.906Z"
   },
   {
    "duration": 29,
    "start_time": "2024-06-24T09:29:51.972Z"
   },
   {
    "duration": 38,
    "start_time": "2024-06-24T09:31:38.305Z"
   },
   {
    "duration": 381,
    "start_time": "2024-06-24T09:31:42.627Z"
   },
   {
    "duration": 4,
    "start_time": "2024-06-24T09:31:51.366Z"
   },
   {
    "duration": 1146,
    "start_time": "2024-06-24T09:31:51.374Z"
   },
   {
    "duration": 18,
    "start_time": "2024-06-24T09:31:52.531Z"
   },
   {
    "duration": 22,
    "start_time": "2024-06-24T09:31:52.559Z"
   },
   {
    "duration": 241,
    "start_time": "2024-06-24T09:31:52.586Z"
   },
   {
    "duration": 38,
    "start_time": "2024-06-24T09:31:52.833Z"
   },
   {
    "duration": 1383,
    "start_time": "2024-06-24T09:31:52.875Z"
   },
   {
    "duration": 181,
    "start_time": "2024-06-24T09:31:54.262Z"
   },
   {
    "duration": 22,
    "start_time": "2024-06-24T09:31:54.447Z"
   },
   {
    "duration": 32,
    "start_time": "2024-06-24T09:31:54.478Z"
   },
   {
    "duration": 41,
    "start_time": "2024-06-24T09:31:54.532Z"
   },
   {
    "duration": 88,
    "start_time": "2024-06-24T09:31:54.577Z"
   },
   {
    "duration": 8,
    "start_time": "2024-06-24T09:31:54.668Z"
   },
   {
    "duration": 21,
    "start_time": "2024-06-24T09:31:54.682Z"
   },
   {
    "duration": 7,
    "start_time": "2024-06-24T09:31:54.730Z"
   },
   {
    "duration": 22,
    "start_time": "2024-06-24T09:31:54.740Z"
   },
   {
    "duration": 25,
    "start_time": "2024-06-24T09:31:54.766Z"
   },
   {
    "duration": 53,
    "start_time": "2024-06-24T09:31:54.830Z"
   },
   {
    "duration": 136,
    "start_time": "2024-06-24T09:31:54.887Z"
   },
   {
    "duration": 29,
    "start_time": "2024-06-24T09:31:55.032Z"
   },
   {
    "duration": 439,
    "start_time": "2024-06-24T09:31:55.065Z"
   },
   {
    "duration": 144,
    "start_time": "2024-06-24T09:31:55.507Z"
   },
   {
    "duration": 49,
    "start_time": "2024-06-24T09:31:55.654Z"
   },
   {
    "duration": 80,
    "start_time": "2024-06-24T09:31:55.705Z"
   },
   {
    "duration": 506,
    "start_time": "2024-06-24T09:31:55.787Z"
   },
   {
    "duration": 65,
    "start_time": "2024-06-24T09:31:56.297Z"
   },
   {
    "duration": 339,
    "start_time": "2024-06-24T09:31:59.164Z"
   },
   {
    "duration": 417,
    "start_time": "2024-06-24T09:32:01.486Z"
   },
   {
    "duration": 35,
    "start_time": "2024-06-24T09:32:09.694Z"
   },
   {
    "duration": 5,
    "start_time": "2024-06-24T09:32:17.734Z"
   },
   {
    "duration": 900,
    "start_time": "2024-06-24T09:32:17.746Z"
   },
   {
    "duration": 6,
    "start_time": "2024-06-24T09:32:18.652Z"
   },
   {
    "duration": 21,
    "start_time": "2024-06-24T09:32:18.662Z"
   },
   {
    "duration": 200,
    "start_time": "2024-06-24T09:32:18.686Z"
   },
   {
    "duration": 50,
    "start_time": "2024-06-24T09:32:18.891Z"
   },
   {
    "duration": 469,
    "start_time": "2024-06-24T09:32:26.301Z"
   },
   {
    "duration": 960,
    "start_time": "2024-06-24T09:32:26.774Z"
   },
   {
    "duration": 7,
    "start_time": "2024-06-24T09:32:27.737Z"
   },
   {
    "duration": 21,
    "start_time": "2024-06-24T09:32:27.748Z"
   },
   {
    "duration": 176,
    "start_time": "2024-06-24T09:32:27.772Z"
   },
   {
    "duration": 24,
    "start_time": "2024-06-24T09:32:27.952Z"
   },
   {
    "duration": 1396,
    "start_time": "2024-06-24T09:32:27.978Z"
   },
   {
    "duration": 159,
    "start_time": "2024-06-24T09:32:29.377Z"
   },
   {
    "duration": 20,
    "start_time": "2024-06-24T09:32:29.539Z"
   },
   {
    "duration": 24,
    "start_time": "2024-06-24T09:32:29.566Z"
   },
   {
    "duration": 75,
    "start_time": "2024-06-24T09:32:29.594Z"
   },
   {
    "duration": 93,
    "start_time": "2024-06-24T09:32:29.672Z"
   },
   {
    "duration": 8,
    "start_time": "2024-06-24T09:32:29.768Z"
   },
   {
    "duration": 21,
    "start_time": "2024-06-24T09:32:29.780Z"
   },
   {
    "duration": 7,
    "start_time": "2024-06-24T09:32:29.831Z"
   },
   {
    "duration": 30,
    "start_time": "2024-06-24T09:32:29.842Z"
   },
   {
    "duration": 58,
    "start_time": "2024-06-24T09:32:29.875Z"
   },
   {
    "duration": 36,
    "start_time": "2024-06-24T09:32:29.937Z"
   },
   {
    "duration": 123,
    "start_time": "2024-06-24T09:32:29.977Z"
   },
   {
    "duration": 30,
    "start_time": "2024-06-24T09:32:30.103Z"
   },
   {
    "duration": 484,
    "start_time": "2024-06-24T09:32:30.137Z"
   },
   {
    "duration": 122,
    "start_time": "2024-06-24T09:32:30.624Z"
   },
   {
    "duration": 40,
    "start_time": "2024-06-24T09:32:30.750Z"
   },
   {
    "duration": 70,
    "start_time": "2024-06-24T09:32:30.794Z"
   },
   {
    "duration": 390,
    "start_time": "2024-06-24T09:32:30.867Z"
   },
   {
    "duration": 43,
    "start_time": "2024-06-24T09:32:31.260Z"
   },
   {
    "duration": 54,
    "start_time": "2024-06-24T09:32:31.307Z"
   },
   {
    "duration": 4,
    "start_time": "2024-06-24T09:32:48.407Z"
   },
   {
    "duration": 33,
    "start_time": "2024-06-24T09:32:58.854Z"
   },
   {
    "duration": 5,
    "start_time": "2024-06-24T09:33:01.835Z"
   },
   {
    "duration": 35,
    "start_time": "2024-06-24T09:33:04.067Z"
   },
   {
    "duration": 311,
    "start_time": "2024-06-24T09:33:10.605Z"
   },
   {
    "duration": 37,
    "start_time": "2024-06-24T09:33:12.036Z"
   },
   {
    "duration": 5,
    "start_time": "2024-06-24T09:33:23.210Z"
   },
   {
    "duration": 810,
    "start_time": "2024-06-24T09:33:23.220Z"
   },
   {
    "duration": 6,
    "start_time": "2024-06-24T09:33:24.033Z"
   },
   {
    "duration": 18,
    "start_time": "2024-06-24T09:33:24.043Z"
   },
   {
    "duration": 171,
    "start_time": "2024-06-24T09:33:24.064Z"
   },
   {
    "duration": 23,
    "start_time": "2024-06-24T09:33:24.238Z"
   },
   {
    "duration": 1161,
    "start_time": "2024-06-24T09:33:24.263Z"
   },
   {
    "duration": 143,
    "start_time": "2024-06-24T09:33:25.431Z"
   },
   {
    "duration": 19,
    "start_time": "2024-06-24T09:33:25.577Z"
   },
   {
    "duration": 49,
    "start_time": "2024-06-24T09:33:25.604Z"
   },
   {
    "duration": 42,
    "start_time": "2024-06-24T09:33:25.656Z"
   },
   {
    "duration": 91,
    "start_time": "2024-06-24T09:33:25.701Z"
   },
   {
    "duration": 7,
    "start_time": "2024-06-24T09:33:25.795Z"
   },
   {
    "duration": 40,
    "start_time": "2024-06-24T09:33:25.805Z"
   },
   {
    "duration": 6,
    "start_time": "2024-06-24T09:33:25.848Z"
   },
   {
    "duration": 20,
    "start_time": "2024-06-24T09:33:25.858Z"
   },
   {
    "duration": 57,
    "start_time": "2024-06-24T09:33:25.880Z"
   },
   {
    "duration": 35,
    "start_time": "2024-06-24T09:33:25.940Z"
   },
   {
    "duration": 112,
    "start_time": "2024-06-24T09:33:25.979Z"
   },
   {
    "duration": 20,
    "start_time": "2024-06-24T09:33:26.094Z"
   },
   {
    "duration": 381,
    "start_time": "2024-06-24T09:33:26.131Z"
   },
   {
    "duration": 116,
    "start_time": "2024-06-24T09:33:26.515Z"
   },
   {
    "duration": 41,
    "start_time": "2024-06-24T09:33:26.634Z"
   },
   {
    "duration": 75,
    "start_time": "2024-06-24T09:33:26.678Z"
   },
   {
    "duration": 360,
    "start_time": "2024-06-24T09:33:26.756Z"
   },
   {
    "duration": 45,
    "start_time": "2024-06-24T09:33:27.121Z"
   },
   {
    "duration": 35,
    "start_time": "2024-06-24T09:33:27.172Z"
   },
   {
    "duration": 18,
    "start_time": "2024-06-24T09:33:29.634Z"
   },
   {
    "duration": 1122,
    "start_time": "2024-06-24T09:34:03.591Z"
   },
   {
    "duration": 394,
    "start_time": "2024-06-24T09:34:27.593Z"
   },
   {
    "duration": 891,
    "start_time": "2024-06-24T09:34:27.991Z"
   },
   {
    "duration": 7,
    "start_time": "2024-06-24T09:34:28.885Z"
   },
   {
    "duration": 38,
    "start_time": "2024-06-24T09:34:28.897Z"
   },
   {
    "duration": 160,
    "start_time": "2024-06-24T09:34:28.938Z"
   },
   {
    "duration": 30,
    "start_time": "2024-06-24T09:34:29.102Z"
   },
   {
    "duration": 1260,
    "start_time": "2024-06-24T09:34:29.135Z"
   },
   {
    "duration": 150,
    "start_time": "2024-06-24T09:34:30.398Z"
   },
   {
    "duration": 19,
    "start_time": "2024-06-24T09:34:30.553Z"
   },
   {
    "duration": 22,
    "start_time": "2024-06-24T09:34:30.578Z"
   },
   {
    "duration": 40,
    "start_time": "2024-06-24T09:34:30.631Z"
   },
   {
    "duration": 79,
    "start_time": "2024-06-24T09:34:30.674Z"
   },
   {
    "duration": 6,
    "start_time": "2024-06-24T09:34:30.756Z"
   },
   {
    "duration": 19,
    "start_time": "2024-06-24T09:34:30.765Z"
   },
   {
    "duration": 6,
    "start_time": "2024-06-24T09:34:30.787Z"
   },
   {
    "duration": 26,
    "start_time": "2024-06-24T09:34:30.832Z"
   },
   {
    "duration": 28,
    "start_time": "2024-06-24T09:34:30.861Z"
   },
   {
    "duration": 60,
    "start_time": "2024-06-24T09:34:30.892Z"
   },
   {
    "duration": 108,
    "start_time": "2024-06-24T09:34:30.955Z"
   },
   {
    "duration": 20,
    "start_time": "2024-06-24T09:34:31.066Z"
   },
   {
    "duration": 409,
    "start_time": "2024-06-24T09:34:31.089Z"
   },
   {
    "duration": 114,
    "start_time": "2024-06-24T09:34:31.501Z"
   },
   {
    "duration": 40,
    "start_time": "2024-06-24T09:34:31.630Z"
   },
   {
    "duration": 70,
    "start_time": "2024-06-24T09:34:31.673Z"
   },
   {
    "duration": 403,
    "start_time": "2024-06-24T09:34:31.746Z"
   },
   {
    "duration": 41,
    "start_time": "2024-06-24T09:34:32.152Z"
   },
   {
    "duration": 42,
    "start_time": "2024-06-24T09:34:32.195Z"
   },
   {
    "duration": 1149,
    "start_time": "2024-06-24T09:34:32.245Z"
   },
   {
    "duration": 0,
    "start_time": "2024-06-24T09:34:33.397Z"
   },
   {
    "duration": 0,
    "start_time": "2024-06-24T09:34:33.399Z"
   },
   {
    "duration": 0,
    "start_time": "2024-06-24T09:34:33.400Z"
   },
   {
    "duration": 0,
    "start_time": "2024-06-24T09:34:33.403Z"
   },
   {
    "duration": 0,
    "start_time": "2024-06-24T09:34:33.405Z"
   },
   {
    "duration": 0,
    "start_time": "2024-06-24T09:34:33.407Z"
   },
   {
    "duration": 0,
    "start_time": "2024-06-24T09:34:33.409Z"
   },
   {
    "duration": 0,
    "start_time": "2024-06-24T09:34:33.432Z"
   },
   {
    "duration": 21,
    "start_time": "2024-06-24T09:34:38.588Z"
   },
   {
    "duration": 6,
    "start_time": "2024-06-24T09:35:13.271Z"
   },
   {
    "duration": 14,
    "start_time": "2024-06-24T09:35:16.492Z"
   },
   {
    "duration": 74,
    "start_time": "2024-06-24T09:35:25.583Z"
   },
   {
    "duration": 53,
    "start_time": "2024-06-24T09:35:37.061Z"
   },
   {
    "duration": 91,
    "start_time": "2024-06-24T09:35:41.446Z"
   },
   {
    "duration": 78,
    "start_time": "2024-06-24T09:35:56.569Z"
   },
   {
    "duration": 85,
    "start_time": "2024-06-24T09:36:02.109Z"
   },
   {
    "duration": 4,
    "start_time": "2024-06-24T09:36:10.784Z"
   },
   {
    "duration": 816,
    "start_time": "2024-06-24T09:36:10.792Z"
   },
   {
    "duration": 16,
    "start_time": "2024-06-24T09:36:11.613Z"
   },
   {
    "duration": 18,
    "start_time": "2024-06-24T09:36:11.634Z"
   },
   {
    "duration": 178,
    "start_time": "2024-06-24T09:36:11.655Z"
   },
   {
    "duration": 22,
    "start_time": "2024-06-24T09:36:11.836Z"
   },
   {
    "duration": 1300,
    "start_time": "2024-06-24T09:36:11.862Z"
   },
   {
    "duration": 162,
    "start_time": "2024-06-24T09:36:13.164Z"
   },
   {
    "duration": 17,
    "start_time": "2024-06-24T09:36:13.334Z"
   },
   {
    "duration": 23,
    "start_time": "2024-06-24T09:36:13.354Z"
   },
   {
    "duration": 68,
    "start_time": "2024-06-24T09:36:13.380Z"
   },
   {
    "duration": 62,
    "start_time": "2024-06-24T09:36:13.451Z"
   },
   {
    "duration": 7,
    "start_time": "2024-06-24T09:36:13.534Z"
   },
   {
    "duration": 22,
    "start_time": "2024-06-24T09:36:13.545Z"
   },
   {
    "duration": 7,
    "start_time": "2024-06-24T09:36:13.570Z"
   },
   {
    "duration": 57,
    "start_time": "2024-06-24T09:36:13.581Z"
   },
   {
    "duration": 24,
    "start_time": "2024-06-24T09:36:13.641Z"
   },
   {
    "duration": 35,
    "start_time": "2024-06-24T09:36:13.668Z"
   },
   {
    "duration": 102,
    "start_time": "2024-06-24T09:36:13.732Z"
   },
   {
    "duration": 19,
    "start_time": "2024-06-24T09:36:13.837Z"
   },
   {
    "duration": 396,
    "start_time": "2024-06-24T09:36:13.859Z"
   },
   {
    "duration": 118,
    "start_time": "2024-06-24T09:36:14.258Z"
   },
   {
    "duration": 52,
    "start_time": "2024-06-24T09:36:14.380Z"
   },
   {
    "duration": 53,
    "start_time": "2024-06-24T09:36:14.439Z"
   },
   {
    "duration": 368,
    "start_time": "2024-06-24T09:36:14.496Z"
   },
   {
    "duration": 42,
    "start_time": "2024-06-24T09:36:14.867Z"
   },
   {
    "duration": 19,
    "start_time": "2024-06-24T09:36:14.932Z"
   },
   {
    "duration": 97,
    "start_time": "2024-06-24T09:36:14.953Z"
   },
   {
    "duration": 29,
    "start_time": "2024-06-24T09:36:15.053Z"
   },
   {
    "duration": 6,
    "start_time": "2024-06-24T09:36:15.084Z"
   },
   {
    "duration": 66,
    "start_time": "2024-06-24T09:36:15.093Z"
   },
   {
    "duration": 16,
    "start_time": "2024-06-24T09:36:15.161Z"
   },
   {
    "duration": 88,
    "start_time": "2024-06-24T09:36:15.180Z"
   },
   {
    "duration": 90,
    "start_time": "2024-06-24T09:36:20.477Z"
   },
   {
    "duration": 69,
    "start_time": "2024-06-24T09:38:23.251Z"
   },
   {
    "duration": 751,
    "start_time": "2024-06-24T09:44:32.161Z"
   },
   {
    "duration": 97,
    "start_time": "2024-06-24T09:54:23.568Z"
   },
   {
    "duration": 124,
    "start_time": "2024-06-24T09:54:26.325Z"
   },
   {
    "duration": 98,
    "start_time": "2024-06-24T09:54:31.214Z"
   },
   {
    "duration": 121,
    "start_time": "2024-06-24T09:54:35.429Z"
   },
   {
    "duration": 98,
    "start_time": "2024-06-24T09:54:38.527Z"
   },
   {
    "duration": 155,
    "start_time": "2024-06-24T09:54:41.777Z"
   },
   {
    "duration": 141,
    "start_time": "2024-06-24T09:54:46.412Z"
   },
   {
    "duration": 6,
    "start_time": "2024-06-24T09:56:58.939Z"
   },
   {
    "duration": 4,
    "start_time": "2024-06-24T09:57:06.115Z"
   },
   {
    "duration": 6,
    "start_time": "2024-06-24T09:58:18.000Z"
   },
   {
    "duration": 31,
    "start_time": "2024-06-24T09:58:21.442Z"
   },
   {
    "duration": 3,
    "start_time": "2024-06-24T09:58:33.511Z"
   },
   {
    "duration": 174,
    "start_time": "2024-06-24T09:59:05.078Z"
   },
   {
    "duration": 5,
    "start_time": "2024-06-24T10:00:20.558Z"
   },
   {
    "duration": 127,
    "start_time": "2024-06-24T10:00:38.572Z"
   },
   {
    "duration": 129,
    "start_time": "2024-06-24T10:01:31.877Z"
   },
   {
    "duration": 156,
    "start_time": "2024-06-24T10:01:35.525Z"
   },
   {
    "duration": 132,
    "start_time": "2024-06-24T10:02:36.922Z"
   },
   {
    "duration": 396,
    "start_time": "2024-06-24T10:03:51.007Z"
   },
   {
    "duration": 377,
    "start_time": "2024-06-24T10:04:08.325Z"
   },
   {
    "duration": 393,
    "start_time": "2024-06-24T10:05:40.371Z"
   },
   {
    "duration": 17,
    "start_time": "2024-06-24T10:05:43.419Z"
   },
   {
    "duration": 15,
    "start_time": "2024-06-24T10:50:08.970Z"
   },
   {
    "duration": 308,
    "start_time": "2024-06-24T22:13:29.989Z"
   },
   {
    "duration": 1170,
    "start_time": "2024-06-24T22:13:33.316Z"
   },
   {
    "duration": 899,
    "start_time": "2024-06-24T22:13:34.489Z"
   },
   {
    "duration": 6,
    "start_time": "2024-06-24T22:13:35.391Z"
   },
   {
    "duration": 36,
    "start_time": "2024-06-24T22:13:35.399Z"
   },
   {
    "duration": 158,
    "start_time": "2024-06-24T22:13:35.440Z"
   },
   {
    "duration": 32,
    "start_time": "2024-06-24T22:13:35.601Z"
   },
   {
    "duration": 1270,
    "start_time": "2024-06-24T22:13:35.637Z"
   },
   {
    "duration": 151,
    "start_time": "2024-06-24T22:13:36.911Z"
   },
   {
    "duration": 21,
    "start_time": "2024-06-24T22:13:37.065Z"
   },
   {
    "duration": 48,
    "start_time": "2024-06-24T22:13:37.089Z"
   },
   {
    "duration": 38,
    "start_time": "2024-06-24T22:13:37.140Z"
   },
   {
    "duration": 79,
    "start_time": "2024-06-24T22:13:37.181Z"
   },
   {
    "duration": 7,
    "start_time": "2024-06-24T22:13:37.263Z"
   },
   {
    "duration": 19,
    "start_time": "2024-06-24T22:13:37.276Z"
   },
   {
    "duration": 35,
    "start_time": "2024-06-24T22:13:37.298Z"
   },
   {
    "duration": 21,
    "start_time": "2024-06-24T22:13:37.336Z"
   },
   {
    "duration": 23,
    "start_time": "2024-06-24T22:13:37.361Z"
   },
   {
    "duration": 66,
    "start_time": "2024-06-24T22:13:37.386Z"
   },
   {
    "duration": 110,
    "start_time": "2024-06-24T22:13:37.457Z"
   },
   {
    "duration": 23,
    "start_time": "2024-06-24T22:13:37.570Z"
   },
   {
    "duration": 424,
    "start_time": "2024-06-24T22:13:37.596Z"
   },
   {
    "duration": 115,
    "start_time": "2024-06-24T22:13:38.022Z"
   },
   {
    "duration": 40,
    "start_time": "2024-06-24T22:13:38.140Z"
   },
   {
    "duration": 79,
    "start_time": "2024-06-24T22:13:38.183Z"
   },
   {
    "duration": 366,
    "start_time": "2024-06-24T22:13:38.265Z"
   },
   {
    "duration": 45,
    "start_time": "2024-06-24T22:13:38.634Z"
   },
   {
    "duration": 49,
    "start_time": "2024-06-24T22:13:38.682Z"
   },
   {
    "duration": 79,
    "start_time": "2024-06-24T22:13:38.735Z"
   },
   {
    "duration": 29,
    "start_time": "2024-06-24T22:13:38.830Z"
   },
   {
    "duration": 6,
    "start_time": "2024-06-24T22:13:38.862Z"
   },
   {
    "duration": 61,
    "start_time": "2024-06-24T22:13:38.871Z"
   },
   {
    "duration": 16,
    "start_time": "2024-06-24T22:13:38.935Z"
   },
   {
    "duration": 89,
    "start_time": "2024-06-24T22:13:38.954Z"
   },
   {
    "duration": 97,
    "start_time": "2024-06-24T22:13:39.046Z"
   },
   {
    "duration": 664,
    "start_time": "2024-06-24T22:13:39.146Z"
   },
   {
    "duration": 204,
    "start_time": "2024-06-24T22:13:47.248Z"
   },
   {
    "duration": 152,
    "start_time": "2024-06-24T22:16:34.621Z"
   },
   {
    "duration": 1159,
    "start_time": "2024-06-24T22:16:40.019Z"
   },
   {
    "duration": 22,
    "start_time": "2024-06-24T22:16:44.185Z"
   },
   {
    "duration": 1321,
    "start_time": "2024-06-24T22:25:01.394Z"
   },
   {
    "duration": 22,
    "start_time": "2024-06-24T22:25:09.913Z"
   },
   {
    "duration": 3,
    "start_time": "2024-06-24T22:25:29.921Z"
   },
   {
    "duration": 11,
    "start_time": "2024-06-24T22:25:33.547Z"
   },
   {
    "duration": 5,
    "start_time": "2024-06-24T22:28:58.463Z"
   },
   {
    "duration": 1228,
    "start_time": "2024-06-24T22:31:02.056Z"
   },
   {
    "duration": 938,
    "start_time": "2024-06-24T22:31:03.288Z"
   },
   {
    "duration": 6,
    "start_time": "2024-06-24T22:31:04.232Z"
   },
   {
    "duration": 20,
    "start_time": "2024-06-24T22:31:04.241Z"
   },
   {
    "duration": 175,
    "start_time": "2024-06-24T22:31:04.268Z"
   },
   {
    "duration": 23,
    "start_time": "2024-06-24T22:31:04.446Z"
   },
   {
    "duration": 1284,
    "start_time": "2024-06-24T22:31:04.472Z"
   },
   {
    "duration": 154,
    "start_time": "2024-06-24T22:31:05.759Z"
   },
   {
    "duration": 27,
    "start_time": "2024-06-24T22:31:05.916Z"
   },
   {
    "duration": 26,
    "start_time": "2024-06-24T22:31:05.946Z"
   },
   {
    "duration": 66,
    "start_time": "2024-06-24T22:31:05.975Z"
   },
   {
    "duration": 65,
    "start_time": "2024-06-24T22:31:06.044Z"
   },
   {
    "duration": 24,
    "start_time": "2024-06-24T22:31:06.112Z"
   },
   {
    "duration": 19,
    "start_time": "2024-06-24T22:31:06.142Z"
   },
   {
    "duration": 5,
    "start_time": "2024-06-24T22:31:06.164Z"
   },
   {
    "duration": 61,
    "start_time": "2024-06-24T22:31:06.172Z"
   },
   {
    "duration": 24,
    "start_time": "2024-06-24T22:31:06.236Z"
   },
   {
    "duration": 41,
    "start_time": "2024-06-24T22:31:06.262Z"
   },
   {
    "duration": 114,
    "start_time": "2024-06-24T22:31:06.332Z"
   },
   {
    "duration": 22,
    "start_time": "2024-06-24T22:31:06.449Z"
   },
   {
    "duration": 421,
    "start_time": "2024-06-24T22:31:06.474Z"
   },
   {
    "duration": 105,
    "start_time": "2024-06-24T22:31:06.899Z"
   },
   {
    "duration": 61,
    "start_time": "2024-06-24T22:31:07.007Z"
   },
   {
    "duration": 77,
    "start_time": "2024-06-24T22:31:07.071Z"
   },
   {
    "duration": 360,
    "start_time": "2024-06-24T22:31:07.151Z"
   },
   {
    "duration": 52,
    "start_time": "2024-06-24T22:31:07.514Z"
   },
   {
    "duration": 24,
    "start_time": "2024-06-24T22:31:07.569Z"
   },
   {
    "duration": 103,
    "start_time": "2024-06-24T22:31:07.597Z"
   },
   {
    "duration": 44,
    "start_time": "2024-06-24T22:31:07.704Z"
   },
   {
    "duration": 6,
    "start_time": "2024-06-24T22:31:07.751Z"
   },
   {
    "duration": 34,
    "start_time": "2024-06-24T22:31:07.760Z"
   },
   {
    "duration": 44,
    "start_time": "2024-06-24T22:31:07.797Z"
   },
   {
    "duration": 69,
    "start_time": "2024-06-24T22:31:07.846Z"
   },
   {
    "duration": 101,
    "start_time": "2024-06-24T22:31:07.930Z"
   },
   {
    "duration": 1042,
    "start_time": "2024-06-24T22:31:08.035Z"
   },
   {
    "duration": 16,
    "start_time": "2024-06-24T22:31:09.079Z"
   },
   {
    "duration": 7,
    "start_time": "2024-06-24T22:31:09.098Z"
   },
   {
    "duration": 1034,
    "start_time": "2024-06-24T22:31:12.860Z"
   },
   {
    "duration": 6,
    "start_time": "2024-06-24T22:31:32.821Z"
   },
   {
    "duration": 63,
    "start_time": "2024-06-24T22:31:34.277Z"
   },
   {
    "duration": 1411,
    "start_time": "2024-06-24T22:33:28.674Z"
   },
   {
    "duration": 29,
    "start_time": "2024-06-24T22:33:32.019Z"
   },
   {
    "duration": 7,
    "start_time": "2024-06-24T22:33:34.384Z"
   },
   {
    "duration": 1206,
    "start_time": "2024-06-24T22:33:48.358Z"
   },
   {
    "duration": 950,
    "start_time": "2024-06-24T22:33:49.568Z"
   },
   {
    "duration": 11,
    "start_time": "2024-06-24T22:33:50.521Z"
   },
   {
    "duration": 18,
    "start_time": "2024-06-24T22:33:50.536Z"
   },
   {
    "duration": 170,
    "start_time": "2024-06-24T22:33:50.560Z"
   },
   {
    "duration": 23,
    "start_time": "2024-06-24T22:33:50.733Z"
   },
   {
    "duration": 1262,
    "start_time": "2024-06-24T22:33:50.761Z"
   },
   {
    "duration": 168,
    "start_time": "2024-06-24T22:33:52.032Z"
   },
   {
    "duration": 32,
    "start_time": "2024-06-24T22:33:52.204Z"
   },
   {
    "duration": 24,
    "start_time": "2024-06-24T22:33:52.240Z"
   },
   {
    "duration": 67,
    "start_time": "2024-06-24T22:33:52.267Z"
   },
   {
    "duration": 69,
    "start_time": "2024-06-24T22:33:52.337Z"
   },
   {
    "duration": 25,
    "start_time": "2024-06-24T22:33:52.410Z"
   },
   {
    "duration": 22,
    "start_time": "2024-06-24T22:33:52.442Z"
   },
   {
    "duration": 7,
    "start_time": "2024-06-24T22:33:52.466Z"
   },
   {
    "duration": 59,
    "start_time": "2024-06-24T22:33:52.476Z"
   },
   {
    "duration": 24,
    "start_time": "2024-06-24T22:33:52.541Z"
   },
   {
    "duration": 35,
    "start_time": "2024-06-24T22:33:52.567Z"
   },
   {
    "duration": 101,
    "start_time": "2024-06-24T22:33:52.630Z"
   },
   {
    "duration": 22,
    "start_time": "2024-06-24T22:33:52.734Z"
   },
   {
    "duration": 432,
    "start_time": "2024-06-24T22:33:52.759Z"
   },
   {
    "duration": 167,
    "start_time": "2024-06-24T22:33:53.194Z"
   },
   {
    "duration": 39,
    "start_time": "2024-06-24T22:33:53.364Z"
   },
   {
    "duration": 57,
    "start_time": "2024-06-24T22:33:53.429Z"
   },
   {
    "duration": 369,
    "start_time": "2024-06-24T22:33:53.489Z"
   },
   {
    "duration": 42,
    "start_time": "2024-06-24T22:33:53.860Z"
   },
   {
    "duration": 40,
    "start_time": "2024-06-24T22:33:53.905Z"
   },
   {
    "duration": 90,
    "start_time": "2024-06-24T22:33:53.948Z"
   },
   {
    "duration": 29,
    "start_time": "2024-06-24T22:33:54.042Z"
   },
   {
    "duration": 6,
    "start_time": "2024-06-24T22:33:54.075Z"
   },
   {
    "duration": 68,
    "start_time": "2024-06-24T22:33:54.084Z"
   },
   {
    "duration": 15,
    "start_time": "2024-06-24T22:33:54.156Z"
   },
   {
    "duration": 94,
    "start_time": "2024-06-24T22:33:54.174Z"
   },
   {
    "duration": 92,
    "start_time": "2024-06-24T22:33:54.274Z"
   },
   {
    "duration": 1862,
    "start_time": "2024-06-24T22:33:54.368Z"
   },
   {
    "duration": 22,
    "start_time": "2024-06-24T22:33:56.233Z"
   },
   {
    "duration": 6,
    "start_time": "2024-06-24T22:33:56.258Z"
   },
   {
    "duration": 1173,
    "start_time": "2024-06-24T22:34:04.685Z"
   },
   {
    "duration": 896,
    "start_time": "2024-06-24T22:34:05.862Z"
   },
   {
    "duration": 6,
    "start_time": "2024-06-24T22:34:06.761Z"
   },
   {
    "duration": 18,
    "start_time": "2024-06-24T22:34:06.774Z"
   },
   {
    "duration": 182,
    "start_time": "2024-06-24T22:34:06.795Z"
   },
   {
    "duration": 23,
    "start_time": "2024-06-24T22:34:06.980Z"
   },
   {
    "duration": 1288,
    "start_time": "2024-06-24T22:34:07.006Z"
   },
   {
    "duration": 149,
    "start_time": "2024-06-24T22:34:08.297Z"
   },
   {
    "duration": 19,
    "start_time": "2024-06-24T22:34:08.449Z"
   },
   {
    "duration": 23,
    "start_time": "2024-06-24T22:34:08.475Z"
   },
   {
    "duration": 36,
    "start_time": "2024-06-24T22:34:08.532Z"
   },
   {
    "duration": 83,
    "start_time": "2024-06-24T22:34:08.570Z"
   },
   {
    "duration": 7,
    "start_time": "2024-06-24T22:34:08.657Z"
   },
   {
    "duration": 20,
    "start_time": "2024-06-24T22:34:08.666Z"
   },
   {
    "duration": 6,
    "start_time": "2024-06-24T22:34:08.688Z"
   },
   {
    "duration": 56,
    "start_time": "2024-06-24T22:34:08.696Z"
   },
   {
    "duration": 23,
    "start_time": "2024-06-24T22:34:08.755Z"
   },
   {
    "duration": 66,
    "start_time": "2024-06-24T22:34:08.781Z"
   },
   {
    "duration": 109,
    "start_time": "2024-06-24T22:34:08.850Z"
   },
   {
    "duration": 20,
    "start_time": "2024-06-24T22:34:08.963Z"
   },
   {
    "duration": 413,
    "start_time": "2024-06-24T22:34:08.985Z"
   },
   {
    "duration": 108,
    "start_time": "2024-06-24T22:34:09.401Z"
   },
   {
    "duration": 51,
    "start_time": "2024-06-24T22:34:09.512Z"
   },
   {
    "duration": 72,
    "start_time": "2024-06-24T22:34:09.566Z"
   },
   {
    "duration": 345,
    "start_time": "2024-06-24T22:34:09.641Z"
   },
   {
    "duration": 52,
    "start_time": "2024-06-24T22:34:09.988Z"
   },
   {
    "duration": 18,
    "start_time": "2024-06-24T22:34:10.044Z"
   },
   {
    "duration": 120,
    "start_time": "2024-06-24T22:34:10.071Z"
   },
   {
    "duration": 40,
    "start_time": "2024-06-24T22:34:10.195Z"
   },
   {
    "duration": 6,
    "start_time": "2024-06-24T22:34:10.239Z"
   },
   {
    "duration": 40,
    "start_time": "2024-06-24T22:34:10.248Z"
   },
   {
    "duration": 49,
    "start_time": "2024-06-24T22:34:10.292Z"
   },
   {
    "duration": 70,
    "start_time": "2024-06-24T22:34:10.344Z"
   },
   {
    "duration": 102,
    "start_time": "2024-06-24T22:34:10.431Z"
   },
   {
    "duration": 1877,
    "start_time": "2024-06-24T22:34:10.536Z"
   },
   {
    "duration": 46,
    "start_time": "2024-06-24T22:34:12.416Z"
   },
   {
    "duration": 7,
    "start_time": "2024-06-24T22:34:12.465Z"
   },
   {
    "duration": 379,
    "start_time": "2024-06-24T22:34:40.126Z"
   },
   {
    "duration": 20,
    "start_time": "2024-06-24T22:34:43.141Z"
   },
   {
    "duration": 1256,
    "start_time": "2024-06-24T22:34:45.614Z"
   },
   {
    "duration": 933,
    "start_time": "2024-06-24T22:34:46.874Z"
   },
   {
    "duration": 21,
    "start_time": "2024-06-24T22:34:47.810Z"
   },
   {
    "duration": 20,
    "start_time": "2024-06-24T22:34:47.835Z"
   },
   {
    "duration": 161,
    "start_time": "2024-06-24T22:34:47.857Z"
   },
   {
    "duration": 24,
    "start_time": "2024-06-24T22:34:48.032Z"
   },
   {
    "duration": 1272,
    "start_time": "2024-06-24T22:34:48.059Z"
   },
   {
    "duration": 150,
    "start_time": "2024-06-24T22:34:49.334Z"
   },
   {
    "duration": 19,
    "start_time": "2024-06-24T22:34:49.487Z"
   },
   {
    "duration": 24,
    "start_time": "2024-06-24T22:34:49.535Z"
   },
   {
    "duration": 38,
    "start_time": "2024-06-24T22:34:49.562Z"
   },
   {
    "duration": 84,
    "start_time": "2024-06-24T22:34:49.603Z"
   },
   {
    "duration": 8,
    "start_time": "2024-06-24T22:34:49.689Z"
   },
   {
    "duration": 47,
    "start_time": "2024-06-24T22:34:49.700Z"
   },
   {
    "duration": 7,
    "start_time": "2024-06-24T22:34:49.750Z"
   },
   {
    "duration": 20,
    "start_time": "2024-06-24T22:34:49.760Z"
   },
   {
    "duration": 55,
    "start_time": "2024-06-24T22:34:49.783Z"
   },
   {
    "duration": 34,
    "start_time": "2024-06-24T22:34:49.840Z"
   },
   {
    "duration": 120,
    "start_time": "2024-06-24T22:34:49.877Z"
   },
   {
    "duration": 29,
    "start_time": "2024-06-24T22:34:50.000Z"
   },
   {
    "duration": 413,
    "start_time": "2024-06-24T22:34:50.032Z"
   },
   {
    "duration": 123,
    "start_time": "2024-06-24T22:34:50.450Z"
   },
   {
    "duration": 40,
    "start_time": "2024-06-24T22:34:50.576Z"
   },
   {
    "duration": 52,
    "start_time": "2024-06-24T22:34:50.632Z"
   },
   {
    "duration": 364,
    "start_time": "2024-06-24T22:34:50.687Z"
   },
   {
    "duration": 41,
    "start_time": "2024-06-24T22:34:51.054Z"
   },
   {
    "duration": 40,
    "start_time": "2024-06-24T22:34:51.098Z"
   },
   {
    "duration": 86,
    "start_time": "2024-06-24T22:34:51.146Z"
   },
   {
    "duration": 28,
    "start_time": "2024-06-24T22:34:51.235Z"
   },
   {
    "duration": 6,
    "start_time": "2024-06-24T22:34:51.266Z"
   },
   {
    "duration": 66,
    "start_time": "2024-06-24T22:34:51.275Z"
   },
   {
    "duration": 16,
    "start_time": "2024-06-24T22:34:51.344Z"
   },
   {
    "duration": 90,
    "start_time": "2024-06-24T22:34:51.363Z"
   },
   {
    "duration": 102,
    "start_time": "2024-06-24T22:34:51.456Z"
   },
   {
    "duration": 1917,
    "start_time": "2024-06-24T22:34:51.562Z"
   },
   {
    "duration": 23,
    "start_time": "2024-06-24T22:34:53.482Z"
   },
   {
    "duration": 7,
    "start_time": "2024-06-24T22:34:53.529Z"
   },
   {
    "duration": 132,
    "start_time": "2024-06-24T22:34:53.538Z"
   },
   {
    "duration": 6,
    "start_time": "2024-06-24T22:34:59.507Z"
   },
   {
    "duration": 4,
    "start_time": "2024-06-24T23:19:01.437Z"
   },
   {
    "duration": 872,
    "start_time": "2024-06-24T23:19:01.446Z"
   },
   {
    "duration": 5,
    "start_time": "2024-06-24T23:19:02.321Z"
   },
   {
    "duration": 23,
    "start_time": "2024-06-24T23:19:02.335Z"
   },
   {
    "duration": 175,
    "start_time": "2024-06-24T23:19:02.361Z"
   },
   {
    "duration": 22,
    "start_time": "2024-06-24T23:19:02.540Z"
   },
   {
    "duration": 1166,
    "start_time": "2024-06-24T23:19:02.565Z"
   },
   {
    "duration": 156,
    "start_time": "2024-06-24T23:19:03.734Z"
   },
   {
    "duration": 38,
    "start_time": "2024-06-24T23:19:03.893Z"
   },
   {
    "duration": 21,
    "start_time": "2024-06-24T23:19:03.936Z"
   },
   {
    "duration": 36,
    "start_time": "2024-06-24T23:19:03.960Z"
   },
   {
    "duration": 86,
    "start_time": "2024-06-24T23:19:03.999Z"
   },
   {
    "duration": 7,
    "start_time": "2024-06-24T23:19:04.088Z"
   },
   {
    "duration": 46,
    "start_time": "2024-06-24T23:19:04.098Z"
   },
   {
    "duration": 6,
    "start_time": "2024-06-24T23:19:04.146Z"
   },
   {
    "duration": 20,
    "start_time": "2024-06-24T23:19:04.155Z"
   },
   {
    "duration": 55,
    "start_time": "2024-06-24T23:19:04.178Z"
   },
   {
    "duration": 35,
    "start_time": "2024-06-24T23:19:04.235Z"
   },
   {
    "duration": 107,
    "start_time": "2024-06-24T23:19:04.273Z"
   },
   {
    "duration": 21,
    "start_time": "2024-06-24T23:19:04.383Z"
   },
   {
    "duration": 400,
    "start_time": "2024-06-24T23:19:04.409Z"
   },
   {
    "duration": 122,
    "start_time": "2024-06-24T23:19:04.813Z"
   },
   {
    "duration": 39,
    "start_time": "2024-06-24T23:19:04.938Z"
   },
   {
    "duration": 72,
    "start_time": "2024-06-24T23:19:04.980Z"
   },
   {
    "duration": 357,
    "start_time": "2024-06-24T23:19:05.054Z"
   },
   {
    "duration": 48,
    "start_time": "2024-06-24T23:19:05.414Z"
   },
   {
    "duration": 19,
    "start_time": "2024-06-24T23:19:05.466Z"
   },
   {
    "duration": 94,
    "start_time": "2024-06-24T23:19:05.493Z"
   },
   {
    "duration": 43,
    "start_time": "2024-06-24T23:19:05.590Z"
   },
   {
    "duration": 7,
    "start_time": "2024-06-24T23:19:05.636Z"
   },
   {
    "duration": 37,
    "start_time": "2024-06-24T23:19:05.651Z"
   },
   {
    "duration": 40,
    "start_time": "2024-06-24T23:19:05.691Z"
   },
   {
    "duration": 71,
    "start_time": "2024-06-24T23:19:05.734Z"
   },
   {
    "duration": 111,
    "start_time": "2024-06-24T23:19:05.808Z"
   },
   {
    "duration": 33,
    "start_time": "2024-06-24T23:19:05.932Z"
   },
   {
    "duration": 29,
    "start_time": "2024-06-24T23:19:42.631Z"
   },
   {
    "duration": 3787,
    "start_time": "2024-06-24T23:21:59.302Z"
   },
   {
    "duration": 84,
    "start_time": "2024-06-24T23:22:10.067Z"
   },
   {
    "duration": 32,
    "start_time": "2024-06-24T23:22:42.871Z"
   },
   {
    "duration": 4,
    "start_time": "2024-06-24T23:23:06.748Z"
   },
   {
    "duration": 855,
    "start_time": "2024-06-24T23:23:43.118Z"
   },
   {
    "duration": 25,
    "start_time": "2024-06-24T23:23:50.263Z"
   },
   {
    "duration": 34,
    "start_time": "2024-06-24T23:23:57.271Z"
   },
   {
    "duration": 6,
    "start_time": "2024-06-24T23:24:08.374Z"
   },
   {
    "duration": 3,
    "start_time": "2024-06-24T23:24:11.434Z"
   },
   {
    "duration": 30,
    "start_time": "2024-06-24T23:24:44.558Z"
   },
   {
    "duration": 33,
    "start_time": "2024-06-24T23:24:47.270Z"
   },
   {
    "duration": 32,
    "start_time": "2024-06-24T23:25:00.584Z"
   },
   {
    "duration": 18,
    "start_time": "2024-06-24T23:29:15.844Z"
   },
   {
    "duration": 105,
    "start_time": "2024-06-24T23:29:54.683Z"
   },
   {
    "duration": 41,
    "start_time": "2024-06-24T23:30:06.770Z"
   },
   {
    "duration": 42,
    "start_time": "2024-06-24T23:30:34.214Z"
   },
   {
    "duration": 41,
    "start_time": "2024-06-24T23:30:53.464Z"
   },
   {
    "duration": 20,
    "start_time": "2024-06-24T23:31:13.388Z"
   },
   {
    "duration": 1945,
    "start_time": "2024-06-24T23:32:27.305Z"
   },
   {
    "duration": 1993,
    "start_time": "2024-06-24T23:32:30.413Z"
   },
   {
    "duration": 456,
    "start_time": "2024-06-24T23:34:15.537Z"
   },
   {
    "duration": 1893,
    "start_time": "2024-06-24T23:34:58.004Z"
   },
   {
    "duration": 2199,
    "start_time": "2024-06-24T23:35:00.768Z"
   },
   {
    "duration": 527,
    "start_time": "2024-06-24T23:35:16.192Z"
   },
   {
    "duration": 6,
    "start_time": "2024-06-24T23:35:58.178Z"
   },
   {
    "duration": 6,
    "start_time": "2024-06-24T23:36:02.980Z"
   },
   {
    "duration": 12,
    "start_time": "2024-06-24T23:36:16.644Z"
   },
   {
    "duration": 8,
    "start_time": "2024-06-24T23:36:20.563Z"
   },
   {
    "duration": 7,
    "start_time": "2024-06-24T23:36:24.059Z"
   },
   {
    "duration": 490,
    "start_time": "2024-06-24T23:36:41.093Z"
   },
   {
    "duration": 6,
    "start_time": "2024-06-24T23:36:43.334Z"
   },
   {
    "duration": 125,
    "start_time": "2024-06-24T23:36:48.214Z"
   },
   {
    "duration": 124,
    "start_time": "2024-06-24T23:37:06.303Z"
   },
   {
    "duration": 287,
    "start_time": "2024-06-24T23:37:10.479Z"
   },
   {
    "duration": 114,
    "start_time": "2024-06-24T23:37:20.909Z"
   },
   {
    "duration": 2439,
    "start_time": "2024-06-24T23:40:04.213Z"
   },
   {
    "duration": 1840,
    "start_time": "2024-06-24T23:40:25.883Z"
   },
   {
    "duration": 2134,
    "start_time": "2024-06-24T23:40:29.824Z"
   },
   {
    "duration": 1878,
    "start_time": "2024-06-24T23:40:46.546Z"
   },
   {
    "duration": 304,
    "start_time": "2024-06-24T23:40:56.941Z"
   },
   {
    "duration": 27,
    "start_time": "2024-06-24T23:40:59.163Z"
   },
   {
    "duration": 1167,
    "start_time": "2024-06-24T23:41:02.800Z"
   },
   {
    "duration": 924,
    "start_time": "2024-06-24T23:41:03.971Z"
   },
   {
    "duration": 6,
    "start_time": "2024-06-24T23:41:04.898Z"
   },
   {
    "duration": 36,
    "start_time": "2024-06-24T23:41:04.910Z"
   },
   {
    "duration": 162,
    "start_time": "2024-06-24T23:41:04.949Z"
   },
   {
    "duration": 31,
    "start_time": "2024-06-24T23:41:05.114Z"
   },
   {
    "duration": 1305,
    "start_time": "2024-06-24T23:41:05.148Z"
   },
   {
    "duration": 148,
    "start_time": "2024-06-24T23:41:06.456Z"
   },
   {
    "duration": 31,
    "start_time": "2024-06-24T23:41:06.607Z"
   },
   {
    "duration": 24,
    "start_time": "2024-06-24T23:41:06.644Z"
   },
   {
    "duration": 67,
    "start_time": "2024-06-24T23:41:06.672Z"
   },
   {
    "duration": 58,
    "start_time": "2024-06-24T23:41:06.742Z"
   },
   {
    "duration": 29,
    "start_time": "2024-06-24T23:41:06.804Z"
   },
   {
    "duration": 20,
    "start_time": "2024-06-24T23:41:06.836Z"
   },
   {
    "duration": 6,
    "start_time": "2024-06-24T23:41:06.858Z"
   },
   {
    "duration": 22,
    "start_time": "2024-06-24T23:41:06.867Z"
   },
   {
    "duration": 63,
    "start_time": "2024-06-24T23:41:06.892Z"
   },
   {
    "duration": 34,
    "start_time": "2024-06-24T23:41:06.957Z"
   },
   {
    "duration": 118,
    "start_time": "2024-06-24T23:41:06.994Z"
   },
   {
    "duration": 18,
    "start_time": "2024-06-24T23:41:07.130Z"
   },
   {
    "duration": 394,
    "start_time": "2024-06-24T23:41:07.151Z"
   },
   {
    "duration": 115,
    "start_time": "2024-06-24T23:41:07.548Z"
   },
   {
    "duration": 39,
    "start_time": "2024-06-24T23:41:07.666Z"
   },
   {
    "duration": 70,
    "start_time": "2024-06-24T23:41:07.708Z"
   },
   {
    "duration": 402,
    "start_time": "2024-06-24T23:41:07.782Z"
   },
   {
    "duration": 53,
    "start_time": "2024-06-24T23:41:08.187Z"
   },
   {
    "duration": 20,
    "start_time": "2024-06-24T23:41:08.244Z"
   },
   {
    "duration": 100,
    "start_time": "2024-06-24T23:41:08.272Z"
   },
   {
    "duration": 29,
    "start_time": "2024-06-24T23:41:08.376Z"
   },
   {
    "duration": 27,
    "start_time": "2024-06-24T23:41:08.408Z"
   },
   {
    "duration": 35,
    "start_time": "2024-06-24T23:41:08.438Z"
   },
   {
    "duration": 16,
    "start_time": "2024-06-24T23:41:08.476Z"
   },
   {
    "duration": 69,
    "start_time": "2024-06-24T23:41:08.530Z"
   },
   {
    "duration": 106,
    "start_time": "2024-06-24T23:41:08.602Z"
   },
   {
    "duration": 3493,
    "start_time": "2024-06-24T23:41:08.713Z"
   },
   {
    "duration": 99,
    "start_time": "2024-06-24T23:41:12.210Z"
   },
   {
    "duration": 16,
    "start_time": "2024-06-24T23:41:12.312Z"
   },
   {
    "duration": 32,
    "start_time": "2024-06-24T23:41:12.332Z"
   },
   {
    "duration": 1928,
    "start_time": "2024-06-24T23:41:14.031Z"
   },
   {
    "duration": 108,
    "start_time": "2024-06-24T23:41:16.974Z"
   },
   {
    "duration": 28,
    "start_time": "2024-06-24T23:41:25.817Z"
   },
   {
    "duration": 477,
    "start_time": "2024-06-24T23:41:31.654Z"
   },
   {
    "duration": 6,
    "start_time": "2024-06-24T23:41:34.799Z"
   },
   {
    "duration": 465,
    "start_time": "2024-06-24T23:41:50.881Z"
   },
   {
    "duration": 6,
    "start_time": "2024-06-24T23:49:39.837Z"
   },
   {
    "duration": 128,
    "start_time": "2024-06-25T00:06:33.685Z"
   },
   {
    "duration": 22,
    "start_time": "2024-06-25T00:06:36.949Z"
   },
   {
    "duration": 25,
    "start_time": "2024-06-25T00:06:42.026Z"
   },
   {
    "duration": 11,
    "start_time": "2024-06-25T00:06:43.470Z"
   },
   {
    "duration": 6,
    "start_time": "2024-06-25T00:06:57.567Z"
   },
   {
    "duration": 5,
    "start_time": "2024-06-25T00:07:07.051Z"
   },
   {
    "duration": 19,
    "start_time": "2024-06-25T00:07:59.104Z"
   },
   {
    "duration": 8,
    "start_time": "2024-06-25T00:08:51.462Z"
   },
   {
    "duration": 353,
    "start_time": "2024-06-25T00:09:08.571Z"
   },
   {
    "duration": 9,
    "start_time": "2024-06-25T00:09:12.289Z"
   },
   {
    "duration": 5,
    "start_time": "2024-06-25T00:09:13.738Z"
   },
   {
    "duration": 479,
    "start_time": "2024-06-25T00:09:15.158Z"
   },
   {
    "duration": 26,
    "start_time": "2024-06-25T00:09:16.621Z"
   },
   {
    "duration": 6,
    "start_time": "2024-06-25T00:09:21.601Z"
   },
   {
    "duration": 22,
    "start_time": "2024-06-25T00:09:38.377Z"
   },
   {
    "duration": 20,
    "start_time": "2024-06-25T00:09:41.885Z"
   },
   {
    "duration": 18,
    "start_time": "2024-06-25T00:09:48.422Z"
   },
   {
    "duration": 4,
    "start_time": "2024-06-25T00:31:44.772Z"
   },
   {
    "duration": 804,
    "start_time": "2024-06-25T00:31:44.779Z"
   },
   {
    "duration": 8,
    "start_time": "2024-06-25T00:31:45.585Z"
   },
   {
    "duration": 35,
    "start_time": "2024-06-25T00:31:45.597Z"
   },
   {
    "duration": 150,
    "start_time": "2024-06-25T00:31:45.636Z"
   },
   {
    "duration": 42,
    "start_time": "2024-06-25T00:31:45.789Z"
   },
   {
    "duration": 1116,
    "start_time": "2024-06-25T00:31:45.834Z"
   },
   {
    "duration": 146,
    "start_time": "2024-06-25T00:31:46.953Z"
   },
   {
    "duration": 39,
    "start_time": "2024-06-25T00:31:47.108Z"
   },
   {
    "duration": 21,
    "start_time": "2024-06-25T00:31:47.150Z"
   },
   {
    "duration": 64,
    "start_time": "2024-06-25T00:31:47.174Z"
   },
   {
    "duration": 52,
    "start_time": "2024-06-25T00:31:47.242Z"
   },
   {
    "duration": 7,
    "start_time": "2024-06-25T00:31:47.297Z"
   },
   {
    "duration": 20,
    "start_time": "2024-06-25T00:31:47.332Z"
   },
   {
    "duration": 7,
    "start_time": "2024-06-25T00:31:47.354Z"
   },
   {
    "duration": 21,
    "start_time": "2024-06-25T00:31:47.363Z"
   },
   {
    "duration": 54,
    "start_time": "2024-06-25T00:31:47.389Z"
   },
   {
    "duration": 42,
    "start_time": "2024-06-25T00:31:47.446Z"
   },
   {
    "duration": 103,
    "start_time": "2024-06-25T00:31:47.491Z"
   },
   {
    "duration": 34,
    "start_time": "2024-06-25T00:31:47.598Z"
   },
   {
    "duration": 400,
    "start_time": "2024-06-25T00:31:47.635Z"
   },
   {
    "duration": 113,
    "start_time": "2024-06-25T00:31:48.039Z"
   },
   {
    "duration": 40,
    "start_time": "2024-06-25T00:31:48.155Z"
   },
   {
    "duration": 78,
    "start_time": "2024-06-25T00:31:48.201Z"
   },
   {
    "duration": 454,
    "start_time": "2024-06-25T00:31:48.282Z"
   },
   {
    "duration": 44,
    "start_time": "2024-06-25T00:31:48.739Z"
   },
   {
    "duration": 54,
    "start_time": "2024-06-25T00:31:48.787Z"
   },
   {
    "duration": 94,
    "start_time": "2024-06-25T00:31:48.845Z"
   },
   {
    "duration": 29,
    "start_time": "2024-06-25T00:31:48.942Z"
   },
   {
    "duration": 7,
    "start_time": "2024-06-25T00:31:48.973Z"
   },
   {
    "duration": 64,
    "start_time": "2024-06-25T00:31:48.983Z"
   },
   {
    "duration": 15,
    "start_time": "2024-06-25T00:31:49.050Z"
   },
   {
    "duration": 94,
    "start_time": "2024-06-25T00:31:49.068Z"
   },
   {
    "duration": 101,
    "start_time": "2024-06-25T00:31:49.166Z"
   },
   {
    "duration": 3553,
    "start_time": "2024-06-25T00:31:49.272Z"
   },
   {
    "duration": 9,
    "start_time": "2024-06-25T00:31:52.829Z"
   },
   {
    "duration": 17,
    "start_time": "2024-06-25T00:31:52.841Z"
   },
   {
    "duration": 32,
    "start_time": "2024-06-25T00:31:52.861Z"
   },
   {
    "duration": 1935,
    "start_time": "2024-06-25T00:31:52.896Z"
   },
   {
    "duration": 387,
    "start_time": "2024-06-25T00:31:54.835Z"
   },
   {
    "duration": 6,
    "start_time": "2024-06-25T00:31:55.230Z"
   },
   {
    "duration": 5,
    "start_time": "2024-06-25T00:31:55.240Z"
   },
   {
    "duration": 499,
    "start_time": "2024-06-25T00:31:55.249Z"
   },
   {
    "duration": 98,
    "start_time": "2024-06-25T00:31:55.751Z"
   },
   {
    "duration": 10,
    "start_time": "2024-06-25T00:32:45.415Z"
   },
   {
    "duration": 6,
    "start_time": "2024-06-25T00:33:59.809Z"
   },
   {
    "duration": 7,
    "start_time": "2024-06-25T00:34:12.032Z"
   },
   {
    "duration": 3436,
    "start_time": "2024-06-25T00:45:35.640Z"
   },
   {
    "duration": 5,
    "start_time": "2024-06-25T00:45:39.080Z"
   },
   {
    "duration": 44,
    "start_time": "2024-06-25T00:46:22.647Z"
   },
   {
    "duration": 25,
    "start_time": "2024-06-25T00:46:39.642Z"
   },
   {
    "duration": 14,
    "start_time": "2024-06-25T00:46:46.447Z"
   },
   {
    "duration": 31,
    "start_time": "2024-06-25T00:48:23.319Z"
   },
   {
    "duration": 6,
    "start_time": "2024-06-25T00:48:35.514Z"
   },
   {
    "duration": 6,
    "start_time": "2024-06-25T00:48:43.305Z"
   },
   {
    "duration": 31,
    "start_time": "2024-06-25T00:49:38.617Z"
   },
   {
    "duration": 29,
    "start_time": "2024-06-25T00:49:42.692Z"
   },
   {
    "duration": 29,
    "start_time": "2024-06-25T00:50:04.655Z"
   },
   {
    "duration": 28,
    "start_time": "2024-06-25T00:50:19.721Z"
   },
   {
    "duration": 62,
    "start_time": "2024-06-25T00:50:32.167Z"
   },
   {
    "duration": 352,
    "start_time": "2024-06-25T00:50:43.182Z"
   },
   {
    "duration": 1933,
    "start_time": "2024-06-25T00:51:05.892Z"
   },
   {
    "duration": 1885,
    "start_time": "2024-06-25T00:51:38.559Z"
   },
   {
    "duration": 357,
    "start_time": "2024-06-25T00:54:06.835Z"
   },
   {
    "duration": 372,
    "start_time": "2024-06-25T00:55:48.490Z"
   },
   {
    "duration": 3510,
    "start_time": "2024-06-25T00:55:51.748Z"
   },
   {
    "duration": 6,
    "start_time": "2024-06-25T00:55:55.262Z"
   },
   {
    "duration": 772,
    "start_time": "2024-06-25T00:55:55.271Z"
   },
   {
    "duration": 7,
    "start_time": "2024-06-25T00:55:56.046Z"
   },
   {
    "duration": 18,
    "start_time": "2024-06-25T00:55:56.058Z"
   },
   {
    "duration": 170,
    "start_time": "2024-06-25T00:55:56.079Z"
   },
   {
    "duration": 27,
    "start_time": "2024-06-25T00:55:56.252Z"
   },
   {
    "duration": 1147,
    "start_time": "2024-06-25T00:55:56.283Z"
   },
   {
    "duration": 151,
    "start_time": "2024-06-25T00:55:57.434Z"
   },
   {
    "duration": 18,
    "start_time": "2024-06-25T00:55:57.588Z"
   },
   {
    "duration": 24,
    "start_time": "2024-06-25T00:55:57.632Z"
   },
   {
    "duration": 36,
    "start_time": "2024-06-25T00:55:57.659Z"
   },
   {
    "duration": 72,
    "start_time": "2024-06-25T00:55:57.698Z"
   },
   {
    "duration": 3512,
    "start_time": "2024-06-25T00:56:03.527Z"
   },
   {
    "duration": 1216,
    "start_time": "2024-06-25T00:56:07.042Z"
   },
   {
    "duration": 889,
    "start_time": "2024-06-25T00:56:08.262Z"
   },
   {
    "duration": 6,
    "start_time": "2024-06-25T00:56:09.156Z"
   },
   {
    "duration": 18,
    "start_time": "2024-06-25T00:56:09.165Z"
   },
   {
    "duration": 178,
    "start_time": "2024-06-25T00:56:09.187Z"
   },
   {
    "duration": 22,
    "start_time": "2024-06-25T00:56:09.369Z"
   },
   {
    "duration": 1308,
    "start_time": "2024-06-25T00:56:09.395Z"
   },
   {
    "duration": 150,
    "start_time": "2024-06-25T00:56:10.705Z"
   },
   {
    "duration": 18,
    "start_time": "2024-06-25T00:56:10.862Z"
   },
   {
    "duration": 56,
    "start_time": "2024-06-25T00:56:10.884Z"
   },
   {
    "duration": 39,
    "start_time": "2024-06-25T00:56:10.944Z"
   },
   {
    "duration": 94,
    "start_time": "2024-06-25T00:56:10.987Z"
   },
   {
    "duration": 7,
    "start_time": "2024-06-25T00:56:11.084Z"
   },
   {
    "duration": 38,
    "start_time": "2024-06-25T00:56:11.094Z"
   },
   {
    "duration": 5,
    "start_time": "2024-06-25T00:56:11.136Z"
   },
   {
    "duration": 21,
    "start_time": "2024-06-25T00:56:11.145Z"
   },
   {
    "duration": 24,
    "start_time": "2024-06-25T00:56:11.169Z"
   },
   {
    "duration": 38,
    "start_time": "2024-06-25T00:56:11.232Z"
   },
   {
    "duration": 119,
    "start_time": "2024-06-25T00:56:11.272Z"
   },
   {
    "duration": 20,
    "start_time": "2024-06-25T00:56:11.394Z"
   },
   {
    "duration": 412,
    "start_time": "2024-06-25T00:56:11.431Z"
   },
   {
    "duration": 120,
    "start_time": "2024-06-25T00:56:11.847Z"
   },
   {
    "duration": 42,
    "start_time": "2024-06-25T00:56:11.970Z"
   },
   {
    "duration": 66,
    "start_time": "2024-06-25T00:56:12.031Z"
   },
   {
    "duration": 378,
    "start_time": "2024-06-25T00:56:12.101Z"
   },
   {
    "duration": 55,
    "start_time": "2024-06-25T00:56:12.482Z"
   },
   {
    "duration": 19,
    "start_time": "2024-06-25T00:56:12.544Z"
   },
   {
    "duration": 99,
    "start_time": "2024-06-25T00:56:12.567Z"
   },
   {
    "duration": 28,
    "start_time": "2024-06-25T00:56:12.670Z"
   },
   {
    "duration": 29,
    "start_time": "2024-06-25T00:56:12.701Z"
   },
   {
    "duration": 35,
    "start_time": "2024-06-25T00:56:12.735Z"
   },
   {
    "duration": 19,
    "start_time": "2024-06-25T00:56:12.773Z"
   },
   {
    "duration": 97,
    "start_time": "2024-06-25T00:56:12.796Z"
   },
   {
    "duration": 104,
    "start_time": "2024-06-25T00:56:12.896Z"
   },
   {
    "duration": 43,
    "start_time": "2024-06-25T00:56:13.003Z"
   },
   {
    "duration": 1925,
    "start_time": "2024-06-25T00:56:14.731Z"
   },
   {
    "duration": 112,
    "start_time": "2024-06-25T00:56:19.747Z"
   },
   {
    "duration": 391,
    "start_time": "2024-06-25T00:56:29.158Z"
   },
   {
    "duration": 43,
    "start_time": "2024-06-25T00:56:33.019Z"
   },
   {
    "duration": 22,
    "start_time": "2024-06-25T00:56:35.698Z"
   },
   {
    "duration": 23,
    "start_time": "2024-06-25T01:01:13.554Z"
   },
   {
    "duration": 6,
    "start_time": "2024-06-25T01:01:17.514Z"
   },
   {
    "duration": 533,
    "start_time": "2024-06-25T01:01:49.600Z"
   },
   {
    "duration": 22,
    "start_time": "2024-06-25T01:01:51.916Z"
   },
   {
    "duration": 9,
    "start_time": "2024-06-25T01:01:55.158Z"
   },
   {
    "duration": 7,
    "start_time": "2024-06-25T01:02:05.858Z"
   },
   {
    "duration": 9,
    "start_time": "2024-06-25T01:09:50.396Z"
   },
   {
    "duration": 7,
    "start_time": "2024-06-25T01:09:55.680Z"
   },
   {
    "duration": 7,
    "start_time": "2024-06-25T01:10:22.869Z"
   },
   {
    "duration": 5,
    "start_time": "2024-06-25T01:10:47.407Z"
   },
   {
    "duration": 8,
    "start_time": "2024-06-25T01:11:06.655Z"
   },
   {
    "duration": 3,
    "start_time": "2024-06-25T01:18:19.220Z"
   },
   {
    "duration": 8,
    "start_time": "2024-06-25T01:18:27.339Z"
   },
   {
    "duration": 4,
    "start_time": "2024-06-25T01:18:36.935Z"
   },
   {
    "duration": 546,
    "start_time": "2024-06-25T01:19:44.287Z"
   },
   {
    "duration": 18,
    "start_time": "2024-06-25T01:19:55.603Z"
   },
   {
    "duration": 30,
    "start_time": "2024-06-25T01:31:12.480Z"
   },
   {
    "duration": 3,
    "start_time": "2024-06-25T01:32:51.580Z"
   },
   {
    "duration": 13458,
    "start_time": "2024-06-25T01:42:51.011Z"
   },
   {
    "duration": 171,
    "start_time": "2024-06-25T01:45:59.683Z"
   },
   {
    "duration": 3460,
    "start_time": "2024-06-25T01:46:03.072Z"
   },
   {
    "duration": 1318,
    "start_time": "2024-06-25T01:46:06.537Z"
   },
   {
    "duration": 947,
    "start_time": "2024-06-25T01:46:07.858Z"
   },
   {
    "duration": 7,
    "start_time": "2024-06-25T01:46:08.808Z"
   },
   {
    "duration": 19,
    "start_time": "2024-06-25T01:46:08.830Z"
   },
   {
    "duration": 163,
    "start_time": "2024-06-25T01:46:08.855Z"
   },
   {
    "duration": 26,
    "start_time": "2024-06-25T01:46:09.021Z"
   },
   {
    "duration": 1307,
    "start_time": "2024-06-25T01:46:09.050Z"
   },
   {
    "duration": 151,
    "start_time": "2024-06-25T01:46:10.360Z"
   },
   {
    "duration": 18,
    "start_time": "2024-06-25T01:46:10.530Z"
   },
   {
    "duration": 23,
    "start_time": "2024-06-25T01:46:10.551Z"
   },
   {
    "duration": 64,
    "start_time": "2024-06-25T01:46:10.577Z"
   },
   {
    "duration": 70,
    "start_time": "2024-06-25T01:46:10.644Z"
   },
   {
    "duration": 7,
    "start_time": "2024-06-25T01:46:10.731Z"
   },
   {
    "duration": 19,
    "start_time": "2024-06-25T01:46:10.740Z"
   },
   {
    "duration": 5,
    "start_time": "2024-06-25T01:46:10.762Z"
   },
   {
    "duration": 60,
    "start_time": "2024-06-25T01:46:10.771Z"
   },
   {
    "duration": 25,
    "start_time": "2024-06-25T01:46:10.835Z"
   },
   {
    "duration": 67,
    "start_time": "2024-06-25T01:46:10.864Z"
   },
   {
    "duration": 102,
    "start_time": "2024-06-25T01:46:10.933Z"
   },
   {
    "duration": 19,
    "start_time": "2024-06-25T01:46:11.037Z"
   },
   {
    "duration": 401,
    "start_time": "2024-06-25T01:46:11.059Z"
   },
   {
    "duration": 120,
    "start_time": "2024-06-25T01:46:11.463Z"
   },
   {
    "duration": 51,
    "start_time": "2024-06-25T01:46:11.586Z"
   },
   {
    "duration": 52,
    "start_time": "2024-06-25T01:46:11.640Z"
   },
   {
    "duration": 386,
    "start_time": "2024-06-25T01:46:11.695Z"
   },
   {
    "duration": 55,
    "start_time": "2024-06-25T01:46:12.084Z"
   },
   {
    "duration": 19,
    "start_time": "2024-06-25T01:46:12.148Z"
   },
   {
    "duration": 96,
    "start_time": "2024-06-25T01:46:12.170Z"
   },
   {
    "duration": 29,
    "start_time": "2024-06-25T01:46:12.269Z"
   },
   {
    "duration": 33,
    "start_time": "2024-06-25T01:46:12.301Z"
   },
   {
    "duration": 35,
    "start_time": "2024-06-25T01:46:12.339Z"
   },
   {
    "duration": 16,
    "start_time": "2024-06-25T01:46:12.377Z"
   },
   {
    "duration": 109,
    "start_time": "2024-06-25T01:46:12.397Z"
   },
   {
    "duration": 99,
    "start_time": "2024-06-25T01:46:12.509Z"
   },
   {
    "duration": 42,
    "start_time": "2024-06-25T01:46:12.611Z"
   },
   {
    "duration": 1965,
    "start_time": "2024-06-25T01:46:12.655Z"
   },
   {
    "duration": 402,
    "start_time": "2024-06-25T01:46:14.623Z"
   },
   {
    "duration": 23,
    "start_time": "2024-06-25T01:46:15.031Z"
   },
   {
    "duration": 6,
    "start_time": "2024-06-25T01:46:15.057Z"
   },
   {
    "duration": 487,
    "start_time": "2024-06-25T01:46:15.067Z"
   },
   {
    "duration": 25,
    "start_time": "2024-06-25T01:46:15.632Z"
   },
   {
    "duration": 72,
    "start_time": "2024-06-25T01:46:15.659Z"
   },
   {
    "duration": 5,
    "start_time": "2024-06-25T01:46:15.735Z"
   },
   {
    "duration": 12650,
    "start_time": "2024-06-25T01:46:15.745Z"
   },
   {
    "duration": 52030,
    "start_time": "2024-06-25T01:46:47.642Z"
   },
   {
    "duration": 81,
    "start_time": "2024-06-25T01:47:57.690Z"
   },
   {
    "duration": 68,
    "start_time": "2024-06-25T01:56:48.299Z"
   },
   {
    "duration": 112,
    "start_time": "2024-06-25T01:56:54.709Z"
   },
   {
    "duration": 24,
    "start_time": "2024-06-25T01:56:56.333Z"
   },
   {
    "duration": 117,
    "start_time": "2024-06-25T01:57:29.392Z"
   },
   {
    "duration": 25,
    "start_time": "2024-06-25T01:57:31.430Z"
   },
   {
    "duration": 583,
    "start_time": "2024-06-25T01:58:09.634Z"
   },
   {
    "duration": 24,
    "start_time": "2024-06-25T02:03:16.838Z"
   },
   {
    "duration": 55,
    "start_time": "2024-06-25T02:03:21.803Z"
   },
   {
    "duration": 4,
    "start_time": "2024-06-25T02:03:35.453Z"
   },
   {
    "duration": 117,
    "start_time": "2024-06-25T02:04:05.609Z"
   },
   {
    "duration": 106,
    "start_time": "2024-06-25T02:04:15.987Z"
   },
   {
    "duration": 25,
    "start_time": "2024-06-25T02:04:17.835Z"
   },
   {
    "duration": 104,
    "start_time": "2024-06-25T02:04:19.516Z"
   },
   {
    "duration": 32,
    "start_time": "2024-06-25T02:04:38.227Z"
   },
   {
    "duration": 9,
    "start_time": "2024-06-25T02:04:46.807Z"
   },
   {
    "duration": 99,
    "start_time": "2024-06-25T02:04:58.902Z"
   },
   {
    "duration": 3405,
    "start_time": "2024-06-25T02:05:07.028Z"
   },
   {
    "duration": 1272,
    "start_time": "2024-06-25T02:05:10.438Z"
   },
   {
    "duration": 963,
    "start_time": "2024-06-25T02:05:11.713Z"
   },
   {
    "duration": 7,
    "start_time": "2024-06-25T02:05:12.680Z"
   },
   {
    "duration": 18,
    "start_time": "2024-06-25T02:05:12.690Z"
   },
   {
    "duration": 162,
    "start_time": "2024-06-25T02:05:12.732Z"
   },
   {
    "duration": 35,
    "start_time": "2024-06-25T02:05:12.896Z"
   },
   {
    "duration": 1264,
    "start_time": "2024-06-25T02:05:12.935Z"
   },
   {
    "duration": 147,
    "start_time": "2024-06-25T02:05:14.202Z"
   },
   {
    "duration": 19,
    "start_time": "2024-06-25T02:05:14.355Z"
   },
   {
    "duration": 55,
    "start_time": "2024-06-25T02:05:14.377Z"
   },
   {
    "duration": 36,
    "start_time": "2024-06-25T02:05:14.435Z"
   },
   {
    "duration": 87,
    "start_time": "2024-06-25T02:05:14.474Z"
   },
   {
    "duration": 12,
    "start_time": "2024-06-25T02:05:14.564Z"
   },
   {
    "duration": 21,
    "start_time": "2024-06-25T02:05:14.580Z"
   },
   {
    "duration": 30,
    "start_time": "2024-06-25T02:05:14.604Z"
   },
   {
    "duration": 24,
    "start_time": "2024-06-25T02:05:14.637Z"
   },
   {
    "duration": 23,
    "start_time": "2024-06-25T02:05:14.664Z"
   },
   {
    "duration": 58,
    "start_time": "2024-06-25T02:05:14.690Z"
   },
   {
    "duration": 114,
    "start_time": "2024-06-25T02:05:14.752Z"
   },
   {
    "duration": 20,
    "start_time": "2024-06-25T02:05:14.869Z"
   },
   {
    "duration": 407,
    "start_time": "2024-06-25T02:05:14.892Z"
   },
   {
    "duration": 112,
    "start_time": "2024-06-25T02:05:15.302Z"
   },
   {
    "duration": 48,
    "start_time": "2024-06-25T02:05:15.417Z"
   },
   {
    "duration": 78,
    "start_time": "2024-06-25T02:05:15.468Z"
   },
   {
    "duration": 362,
    "start_time": "2024-06-25T02:05:15.549Z"
   },
   {
    "duration": 49,
    "start_time": "2024-06-25T02:05:15.914Z"
   },
   {
    "duration": 19,
    "start_time": "2024-06-25T02:05:15.970Z"
   },
   {
    "duration": 105,
    "start_time": "2024-06-25T02:05:15.992Z"
   },
   {
    "duration": 44,
    "start_time": "2024-06-25T02:05:16.100Z"
   },
   {
    "duration": 6,
    "start_time": "2024-06-25T02:05:16.147Z"
   },
   {
    "duration": 37,
    "start_time": "2024-06-25T02:05:16.156Z"
   },
   {
    "duration": 39,
    "start_time": "2024-06-25T02:05:16.197Z"
   },
   {
    "duration": 70,
    "start_time": "2024-06-25T02:05:16.239Z"
   },
   {
    "duration": 101,
    "start_time": "2024-06-25T02:05:16.331Z"
   },
   {
    "duration": 32,
    "start_time": "2024-06-25T02:05:16.435Z"
   },
   {
    "duration": 1911,
    "start_time": "2024-06-25T02:05:16.469Z"
   },
   {
    "duration": 412,
    "start_time": "2024-06-25T02:05:18.387Z"
   },
   {
    "duration": 37,
    "start_time": "2024-06-25T02:05:18.802Z"
   },
   {
    "duration": 6,
    "start_time": "2024-06-25T02:05:18.843Z"
   },
   {
    "duration": 578,
    "start_time": "2024-06-25T02:05:18.853Z"
   },
   {
    "duration": 26,
    "start_time": "2024-06-25T02:05:19.435Z"
   },
   {
    "duration": 71,
    "start_time": "2024-06-25T02:05:19.464Z"
   },
   {
    "duration": 10,
    "start_time": "2024-06-25T02:05:19.537Z"
   },
   {
    "duration": 136,
    "start_time": "2024-06-25T02:05:19.552Z"
   },
   {
    "duration": 135,
    "start_time": "2024-06-25T02:05:19.691Z"
   },
   {
    "duration": 34,
    "start_time": "2024-06-25T02:05:19.828Z"
   },
   {
    "duration": 328,
    "start_time": "2024-06-25T02:05:19.865Z"
   },
   {
    "duration": 93,
    "start_time": "2024-06-25T02:05:56.711Z"
   },
   {
    "duration": 68,
    "start_time": "2024-06-25T02:07:05.543Z"
   },
   {
    "duration": 24,
    "start_time": "2024-06-25T02:08:34.449Z"
   },
   {
    "duration": 66,
    "start_time": "2024-06-25T02:08:40.002Z"
   },
   {
    "duration": 26,
    "start_time": "2024-06-25T02:08:47.867Z"
   },
   {
    "duration": 33,
    "start_time": "2024-06-25T02:08:51.211Z"
   },
   {
    "duration": 3,
    "start_time": "2024-06-25T02:11:01.009Z"
   },
   {
    "duration": 3,
    "start_time": "2024-06-25T02:11:02.342Z"
   },
   {
    "duration": 3,
    "start_time": "2024-06-25T02:11:04.663Z"
   },
   {
    "duration": 756,
    "start_time": "2024-06-25T02:11:12.610Z"
   },
   {
    "duration": 3436,
    "start_time": "2024-06-25T02:11:16.656Z"
   },
   {
    "duration": 5,
    "start_time": "2024-06-25T02:11:20.096Z"
   },
   {
    "duration": 828,
    "start_time": "2024-06-25T02:11:20.104Z"
   },
   {
    "duration": 6,
    "start_time": "2024-06-25T02:11:20.936Z"
   },
   {
    "duration": 18,
    "start_time": "2024-06-25T02:11:20.946Z"
   },
   {
    "duration": 176,
    "start_time": "2024-06-25T02:11:20.968Z"
   },
   {
    "duration": 23,
    "start_time": "2024-06-25T02:11:21.147Z"
   },
   {
    "duration": 1188,
    "start_time": "2024-06-25T02:11:21.173Z"
   },
   {
    "duration": 166,
    "start_time": "2024-06-25T02:11:22.365Z"
   },
   {
    "duration": 18,
    "start_time": "2024-06-25T02:11:22.538Z"
   },
   {
    "duration": 22,
    "start_time": "2024-06-25T02:11:22.559Z"
   },
   {
    "duration": 75,
    "start_time": "2024-06-25T02:11:22.584Z"
   },
   {
    "duration": 54,
    "start_time": "2024-06-25T02:11:22.662Z"
   },
   {
    "duration": 8,
    "start_time": "2024-06-25T02:11:22.732Z"
   },
   {
    "duration": 20,
    "start_time": "2024-06-25T02:11:22.743Z"
   },
   {
    "duration": 6,
    "start_time": "2024-06-25T02:11:22.765Z"
   },
   {
    "duration": 57,
    "start_time": "2024-06-25T02:11:22.775Z"
   },
   {
    "duration": 24,
    "start_time": "2024-06-25T02:11:22.835Z"
   },
   {
    "duration": 34,
    "start_time": "2024-06-25T02:11:22.862Z"
   },
   {
    "duration": 120,
    "start_time": "2024-06-25T02:11:22.899Z"
   },
   {
    "duration": 21,
    "start_time": "2024-06-25T02:11:23.032Z"
   },
   {
    "duration": 402,
    "start_time": "2024-06-25T02:11:23.055Z"
   },
   {
    "duration": 118,
    "start_time": "2024-06-25T02:11:23.460Z"
   },
   {
    "duration": 52,
    "start_time": "2024-06-25T02:11:23.581Z"
   },
   {
    "duration": 56,
    "start_time": "2024-06-25T02:11:23.636Z"
   },
   {
    "duration": 363,
    "start_time": "2024-06-25T02:11:23.695Z"
   },
   {
    "duration": 41,
    "start_time": "2024-06-25T02:11:24.061Z"
   },
   {
    "duration": 35,
    "start_time": "2024-06-25T02:11:24.110Z"
   },
   {
    "duration": 91,
    "start_time": "2024-06-25T02:11:24.148Z"
   },
   {
    "duration": 30,
    "start_time": "2024-06-25T02:11:24.242Z"
   },
   {
    "duration": 7,
    "start_time": "2024-06-25T02:11:24.275Z"
   },
   {
    "duration": 71,
    "start_time": "2024-06-25T02:11:24.285Z"
   },
   {
    "duration": 15,
    "start_time": "2024-06-25T02:11:24.359Z"
   },
   {
    "duration": 91,
    "start_time": "2024-06-25T02:11:24.377Z"
   },
   {
    "duration": 100,
    "start_time": "2024-06-25T02:11:24.472Z"
   },
   {
    "duration": 30,
    "start_time": "2024-06-25T02:11:24.575Z"
   },
   {
    "duration": 1123,
    "start_time": "2024-06-25T02:11:24.608Z"
   },
   {
    "duration": 0,
    "start_time": "2024-06-25T02:11:25.734Z"
   },
   {
    "duration": 0,
    "start_time": "2024-06-25T02:11:25.736Z"
   },
   {
    "duration": 0,
    "start_time": "2024-06-25T02:11:25.738Z"
   },
   {
    "duration": 0,
    "start_time": "2024-06-25T02:11:25.739Z"
   },
   {
    "duration": 0,
    "start_time": "2024-06-25T02:11:25.741Z"
   },
   {
    "duration": 0,
    "start_time": "2024-06-25T02:11:25.743Z"
   },
   {
    "duration": 0,
    "start_time": "2024-06-25T02:11:25.745Z"
   },
   {
    "duration": 0,
    "start_time": "2024-06-25T02:11:25.747Z"
   },
   {
    "duration": 0,
    "start_time": "2024-06-25T02:11:25.749Z"
   },
   {
    "duration": 0,
    "start_time": "2024-06-25T02:11:25.751Z"
   },
   {
    "duration": 0,
    "start_time": "2024-06-25T02:11:25.754Z"
   },
   {
    "duration": 3467,
    "start_time": "2024-06-25T02:11:32.350Z"
   },
   {
    "duration": 5,
    "start_time": "2024-06-25T02:11:35.821Z"
   },
   {
    "duration": 842,
    "start_time": "2024-06-25T02:11:35.830Z"
   },
   {
    "duration": 5,
    "start_time": "2024-06-25T02:11:36.676Z"
   },
   {
    "duration": 19,
    "start_time": "2024-06-25T02:11:36.684Z"
   },
   {
    "duration": 159,
    "start_time": "2024-06-25T02:11:36.733Z"
   },
   {
    "duration": 37,
    "start_time": "2024-06-25T02:11:36.895Z"
   },
   {
    "duration": 1140,
    "start_time": "2024-06-25T02:11:36.935Z"
   },
   {
    "duration": 155,
    "start_time": "2024-06-25T02:11:38.078Z"
   },
   {
    "duration": 18,
    "start_time": "2024-06-25T02:11:38.238Z"
   },
   {
    "duration": 22,
    "start_time": "2024-06-25T02:11:38.260Z"
   },
   {
    "duration": 68,
    "start_time": "2024-06-25T02:11:38.284Z"
   },
   {
    "duration": 48,
    "start_time": "2024-06-25T02:11:38.355Z"
   },
   {
    "duration": 28,
    "start_time": "2024-06-25T02:11:38.406Z"
   },
   {
    "duration": 19,
    "start_time": "2024-06-25T02:11:38.437Z"
   },
   {
    "duration": 6,
    "start_time": "2024-06-25T02:11:38.459Z"
   },
   {
    "duration": 22,
    "start_time": "2024-06-25T02:11:38.467Z"
   },
   {
    "duration": 60,
    "start_time": "2024-06-25T02:11:38.491Z"
   },
   {
    "duration": 34,
    "start_time": "2024-06-25T02:11:38.553Z"
   },
   {
    "duration": 109,
    "start_time": "2024-06-25T02:11:38.590Z"
   },
   {
    "duration": 36,
    "start_time": "2024-06-25T02:11:38.702Z"
   },
   {
    "duration": 399,
    "start_time": "2024-06-25T02:11:38.741Z"
   },
   {
    "duration": 120,
    "start_time": "2024-06-25T02:11:39.143Z"
   },
   {
    "duration": 39,
    "start_time": "2024-06-25T02:11:39.266Z"
   },
   {
    "duration": 74,
    "start_time": "2024-06-25T02:11:39.308Z"
   },
   {
    "duration": 361,
    "start_time": "2024-06-25T02:11:39.385Z"
   },
   {
    "duration": 40,
    "start_time": "2024-06-25T02:11:39.749Z"
   },
   {
    "duration": 39,
    "start_time": "2024-06-25T02:11:39.797Z"
   },
   {
    "duration": 73,
    "start_time": "2024-06-25T02:11:39.839Z"
   },
   {
    "duration": 28,
    "start_time": "2024-06-25T02:11:39.932Z"
   },
   {
    "duration": 7,
    "start_time": "2024-06-25T02:11:39.965Z"
   },
   {
    "duration": 64,
    "start_time": "2024-06-25T02:11:39.976Z"
   },
   {
    "duration": 16,
    "start_time": "2024-06-25T02:11:40.043Z"
   },
   {
    "duration": 105,
    "start_time": "2024-06-25T02:11:40.063Z"
   },
   {
    "duration": 102,
    "start_time": "2024-06-25T02:11:40.171Z"
   },
   {
    "duration": 31,
    "start_time": "2024-06-25T02:11:40.276Z"
   },
   {
    "duration": 1981,
    "start_time": "2024-06-25T02:11:40.330Z"
   },
   {
    "duration": 420,
    "start_time": "2024-06-25T02:11:42.314Z"
   },
   {
    "duration": 26,
    "start_time": "2024-06-25T02:11:42.741Z"
   },
   {
    "duration": 7,
    "start_time": "2024-06-25T02:11:42.770Z"
   },
   {
    "duration": 555,
    "start_time": "2024-06-25T02:11:42.780Z"
   },
   {
    "duration": 97,
    "start_time": "2024-06-25T02:11:43.338Z"
   },
   {
    "duration": 13,
    "start_time": "2024-06-25T02:11:43.440Z"
   },
   {
    "duration": 5,
    "start_time": "2024-06-25T02:11:43.536Z"
   },
   {
    "duration": 3,
    "start_time": "2024-06-25T02:11:43.547Z"
   },
   {
    "duration": 4,
    "start_time": "2024-06-25T02:11:43.553Z"
   },
   {
    "duration": 4,
    "start_time": "2024-06-25T02:11:43.632Z"
   },
   {
    "duration": 13619,
    "start_time": "2024-06-25T02:11:48.724Z"
   },
   {
    "duration": 165,
    "start_time": "2024-06-25T02:12:13.565Z"
   },
   {
    "duration": 3459,
    "start_time": "2024-06-25T02:12:17.693Z"
   },
   {
    "duration": 1358,
    "start_time": "2024-06-25T02:12:21.157Z"
   },
   {
    "duration": 969,
    "start_time": "2024-06-25T02:12:22.518Z"
   },
   {
    "duration": 7,
    "start_time": "2024-06-25T02:12:23.490Z"
   },
   {
    "duration": 34,
    "start_time": "2024-06-25T02:12:23.500Z"
   },
   {
    "duration": 161,
    "start_time": "2024-06-25T02:12:23.537Z"
   },
   {
    "duration": 31,
    "start_time": "2024-06-25T02:12:23.701Z"
   },
   {
    "duration": 1258,
    "start_time": "2024-06-25T02:12:23.735Z"
   },
   {
    "duration": 148,
    "start_time": "2024-06-25T02:12:24.996Z"
   },
   {
    "duration": 18,
    "start_time": "2024-06-25T02:12:25.151Z"
   },
   {
    "duration": 23,
    "start_time": "2024-06-25T02:12:25.171Z"
   },
   {
    "duration": 36,
    "start_time": "2024-06-25T02:12:25.231Z"
   },
   {
    "duration": 84,
    "start_time": "2024-06-25T02:12:25.270Z"
   },
   {
    "duration": 7,
    "start_time": "2024-06-25T02:12:25.358Z"
   },
   {
    "duration": 20,
    "start_time": "2024-06-25T02:12:25.369Z"
   },
   {
    "duration": 38,
    "start_time": "2024-06-25T02:12:25.394Z"
   },
   {
    "duration": 20,
    "start_time": "2024-06-25T02:12:25.435Z"
   },
   {
    "duration": 24,
    "start_time": "2024-06-25T02:12:25.459Z"
   },
   {
    "duration": 63,
    "start_time": "2024-06-25T02:12:25.486Z"
   },
   {
    "duration": 113,
    "start_time": "2024-06-25T02:12:25.552Z"
   },
   {
    "duration": 18,
    "start_time": "2024-06-25T02:12:25.668Z"
   },
   {
    "duration": 404,
    "start_time": "2024-06-25T02:12:25.690Z"
   },
   {
    "duration": 123,
    "start_time": "2024-06-25T02:12:26.097Z"
   },
   {
    "duration": 45,
    "start_time": "2024-06-25T02:12:26.223Z"
   },
   {
    "duration": 77,
    "start_time": "2024-06-25T02:12:26.272Z"
   },
   {
    "duration": 363,
    "start_time": "2024-06-25T02:12:26.352Z"
   },
   {
    "duration": 44,
    "start_time": "2024-06-25T02:12:26.718Z"
   },
   {
    "duration": 20,
    "start_time": "2024-06-25T02:12:26.771Z"
   },
   {
    "duration": 110,
    "start_time": "2024-06-25T02:12:26.794Z"
   },
   {
    "duration": 41,
    "start_time": "2024-06-25T02:12:26.907Z"
   },
   {
    "duration": 8,
    "start_time": "2024-06-25T02:12:26.950Z"
   },
   {
    "duration": 39,
    "start_time": "2024-06-25T02:12:26.960Z"
   },
   {
    "duration": 41,
    "start_time": "2024-06-25T02:12:27.002Z"
   },
   {
    "duration": 91,
    "start_time": "2024-06-25T02:12:27.046Z"
   },
   {
    "duration": 97,
    "start_time": "2024-06-25T02:12:27.140Z"
   },
   {
    "duration": 31,
    "start_time": "2024-06-25T02:12:27.240Z"
   },
   {
    "duration": 1907,
    "start_time": "2024-06-25T02:12:27.274Z"
   },
   {
    "duration": 404,
    "start_time": "2024-06-25T02:12:29.184Z"
   },
   {
    "duration": 23,
    "start_time": "2024-06-25T02:12:29.591Z"
   },
   {
    "duration": 18,
    "start_time": "2024-06-25T02:12:29.616Z"
   },
   {
    "duration": 511,
    "start_time": "2024-06-25T02:12:29.637Z"
   },
   {
    "duration": 105,
    "start_time": "2024-06-25T02:12:30.155Z"
   },
   {
    "duration": 12,
    "start_time": "2024-06-25T02:12:30.263Z"
   },
   {
    "duration": 60,
    "start_time": "2024-06-25T02:12:30.278Z"
   },
   {
    "duration": 8,
    "start_time": "2024-06-25T02:12:30.340Z"
   },
   {
    "duration": 79,
    "start_time": "2024-06-25T02:12:30.351Z"
   },
   {
    "duration": 3,
    "start_time": "2024-06-25T02:12:30.435Z"
   },
   {
    "duration": 17365,
    "start_time": "2024-06-25T02:12:30.442Z"
   },
   {
    "duration": 18864,
    "start_time": "2024-06-25T02:13:16.958Z"
   },
   {
    "duration": 20557,
    "start_time": "2024-06-25T02:13:46.310Z"
   },
   {
    "duration": 21227,
    "start_time": "2024-06-25T02:14:13.952Z"
   },
   {
    "duration": 22602,
    "start_time": "2024-06-25T02:14:43.011Z"
   },
   {
    "duration": 192,
    "start_time": "2024-06-25T02:15:54.052Z"
   },
   {
    "duration": 3432,
    "start_time": "2024-06-25T02:16:05.447Z"
   },
   {
    "duration": 1343,
    "start_time": "2024-06-25T02:16:08.883Z"
   },
   {
    "duration": 872,
    "start_time": "2024-06-25T02:16:10.230Z"
   },
   {
    "duration": 5,
    "start_time": "2024-06-25T02:16:11.107Z"
   },
   {
    "duration": 18,
    "start_time": "2024-06-25T02:16:11.132Z"
   },
   {
    "duration": 179,
    "start_time": "2024-06-25T02:16:11.153Z"
   },
   {
    "duration": 25,
    "start_time": "2024-06-25T02:16:11.336Z"
   },
   {
    "duration": 1295,
    "start_time": "2024-06-25T02:16:11.365Z"
   },
   {
    "duration": 156,
    "start_time": "2024-06-25T02:16:12.663Z"
   },
   {
    "duration": 21,
    "start_time": "2024-06-25T02:16:12.834Z"
   },
   {
    "duration": 25,
    "start_time": "2024-06-25T02:16:12.859Z"
   },
   {
    "duration": 67,
    "start_time": "2024-06-25T02:16:12.887Z"
   },
   {
    "duration": 72,
    "start_time": "2024-06-25T02:16:12.957Z"
   },
   {
    "duration": 8,
    "start_time": "2024-06-25T02:16:13.032Z"
   },
   {
    "duration": 19,
    "start_time": "2024-06-25T02:16:13.044Z"
   },
   {
    "duration": 6,
    "start_time": "2024-06-25T02:16:13.065Z"
   },
   {
    "duration": 61,
    "start_time": "2024-06-25T02:16:13.074Z"
   },
   {
    "duration": 25,
    "start_time": "2024-06-25T02:16:13.137Z"
   },
   {
    "duration": 33,
    "start_time": "2024-06-25T02:16:13.165Z"
   },
   {
    "duration": 120,
    "start_time": "2024-06-25T02:16:13.200Z"
   },
   {
    "duration": 19,
    "start_time": "2024-06-25T02:16:13.330Z"
   },
   {
    "duration": 403,
    "start_time": "2024-06-25T02:16:13.352Z"
   },
   {
    "duration": 116,
    "start_time": "2024-06-25T02:16:13.759Z"
   },
   {
    "duration": 39,
    "start_time": "2024-06-25T02:16:13.878Z"
   },
   {
    "duration": 61,
    "start_time": "2024-06-25T02:16:13.919Z"
   },
   {
    "duration": 373,
    "start_time": "2024-06-25T02:16:13.983Z"
   },
   {
    "duration": 45,
    "start_time": "2024-06-25T02:16:14.360Z"
   },
   {
    "duration": 19,
    "start_time": "2024-06-25T02:16:14.430Z"
   },
   {
    "duration": 94,
    "start_time": "2024-06-25T02:16:14.453Z"
   },
   {
    "duration": 33,
    "start_time": "2024-06-25T02:16:14.550Z"
   },
   {
    "duration": 11,
    "start_time": "2024-06-25T02:16:14.586Z"
   },
   {
    "duration": 58,
    "start_time": "2024-06-25T02:16:14.601Z"
   },
   {
    "duration": 16,
    "start_time": "2024-06-25T02:16:14.662Z"
   },
   {
    "duration": 102,
    "start_time": "2024-06-25T02:16:14.682Z"
   },
   {
    "duration": 94,
    "start_time": "2024-06-25T02:16:14.786Z"
   },
   {
    "duration": 50,
    "start_time": "2024-06-25T02:16:14.882Z"
   },
   {
    "duration": 1919,
    "start_time": "2024-06-25T02:16:14.935Z"
   },
   {
    "duration": 407,
    "start_time": "2024-06-25T02:16:16.856Z"
   },
   {
    "duration": 23,
    "start_time": "2024-06-25T02:16:17.266Z"
   },
   {
    "duration": 6,
    "start_time": "2024-06-25T02:16:17.293Z"
   },
   {
    "duration": 533,
    "start_time": "2024-06-25T02:16:17.303Z"
   },
   {
    "duration": 96,
    "start_time": "2024-06-25T02:16:17.839Z"
   },
   {
    "duration": 7,
    "start_time": "2024-06-25T02:16:17.942Z"
   },
   {
    "duration": 80,
    "start_time": "2024-06-25T02:16:17.952Z"
   },
   {
    "duration": 7,
    "start_time": "2024-06-25T02:16:18.035Z"
   },
   {
    "duration": 3,
    "start_time": "2024-06-25T02:16:18.045Z"
   },
   {
    "duration": 4,
    "start_time": "2024-06-25T02:16:18.051Z"
   },
   {
    "duration": 74,
    "start_time": "2024-06-25T02:16:18.058Z"
   },
   {
    "duration": 23817,
    "start_time": "2024-06-25T02:16:18.135Z"
   },
   {
    "duration": 25408,
    "start_time": "2024-06-25T02:16:49.888Z"
   },
   {
    "duration": 27892,
    "start_time": "2024-06-25T02:17:24.289Z"
   },
   {
    "duration": 30249,
    "start_time": "2024-06-25T02:17:56.571Z"
   },
   {
    "duration": 170,
    "start_time": "2024-06-25T02:19:03.126Z"
   },
   {
    "duration": 7,
    "start_time": "2024-06-25T02:19:04.354Z"
   },
   {
    "duration": 170,
    "start_time": "2024-06-25T02:19:11.760Z"
   },
   {
    "duration": 334,
    "start_time": "2024-06-25T02:19:36.487Z"
   },
   {
    "duration": 6,
    "start_time": "2024-06-25T02:19:42.517Z"
   },
   {
    "duration": 7,
    "start_time": "2024-06-25T02:19:57.953Z"
   },
   {
    "duration": 172,
    "start_time": "2024-06-25T02:20:09.984Z"
   },
   {
    "duration": 6,
    "start_time": "2024-06-25T02:20:15.829Z"
   },
   {
    "duration": 171,
    "start_time": "2024-06-25T02:21:53.288Z"
   },
   {
    "duration": 3811,
    "start_time": "2024-06-25T02:22:01.130Z"
   },
   {
    "duration": 1386,
    "start_time": "2024-06-25T02:22:04.946Z"
   },
   {
    "duration": 1061,
    "start_time": "2024-06-25T02:22:06.336Z"
   },
   {
    "duration": 13,
    "start_time": "2024-06-25T02:22:07.401Z"
   },
   {
    "duration": 22,
    "start_time": "2024-06-25T02:22:07.430Z"
   },
   {
    "duration": 203,
    "start_time": "2024-06-25T02:22:07.455Z"
   },
   {
    "duration": 37,
    "start_time": "2024-06-25T02:22:07.662Z"
   },
   {
    "duration": 1413,
    "start_time": "2024-06-25T02:22:07.731Z"
   },
   {
    "duration": 147,
    "start_time": "2024-06-25T02:22:09.147Z"
   },
   {
    "duration": 31,
    "start_time": "2024-06-25T02:22:09.299Z"
   },
   {
    "duration": 23,
    "start_time": "2024-06-25T02:22:09.333Z"
   },
   {
    "duration": 43,
    "start_time": "2024-06-25T02:22:09.361Z"
   },
   {
    "duration": 64,
    "start_time": "2024-06-25T02:22:09.432Z"
   },
   {
    "duration": 31,
    "start_time": "2024-06-25T02:22:09.500Z"
   },
   {
    "duration": 18,
    "start_time": "2024-06-25T02:22:09.534Z"
   },
   {
    "duration": 6,
    "start_time": "2024-06-25T02:22:09.555Z"
   },
   {
    "duration": 21,
    "start_time": "2024-06-25T02:22:09.563Z"
   },
   {
    "duration": 64,
    "start_time": "2024-06-25T02:22:09.587Z"
   },
   {
    "duration": 33,
    "start_time": "2024-06-25T02:22:09.654Z"
   },
   {
    "duration": 128,
    "start_time": "2024-06-25T02:22:09.689Z"
   },
   {
    "duration": 28,
    "start_time": "2024-06-25T02:22:09.820Z"
   },
   {
    "duration": 401,
    "start_time": "2024-06-25T02:22:09.850Z"
   },
   {
    "duration": 118,
    "start_time": "2024-06-25T02:22:10.254Z"
   },
   {
    "duration": 41,
    "start_time": "2024-06-25T02:22:10.374Z"
   },
   {
    "duration": 62,
    "start_time": "2024-06-25T02:22:10.431Z"
   },
   {
    "duration": 366,
    "start_time": "2024-06-25T02:22:10.498Z"
   },
   {
    "duration": 43,
    "start_time": "2024-06-25T02:22:10.867Z"
   },
   {
    "duration": 19,
    "start_time": "2024-06-25T02:22:10.934Z"
   },
   {
    "duration": 102,
    "start_time": "2024-06-25T02:22:10.956Z"
   },
   {
    "duration": 31,
    "start_time": "2024-06-25T02:22:11.061Z"
   },
   {
    "duration": 6,
    "start_time": "2024-06-25T02:22:11.095Z"
   },
   {
    "duration": 60,
    "start_time": "2024-06-25T02:22:11.104Z"
   },
   {
    "duration": 17,
    "start_time": "2024-06-25T02:22:11.167Z"
   },
   {
    "duration": 103,
    "start_time": "2024-06-25T02:22:11.187Z"
   },
   {
    "duration": 97,
    "start_time": "2024-06-25T02:22:11.293Z"
   },
   {
    "duration": 47,
    "start_time": "2024-06-25T02:22:11.392Z"
   },
   {
    "duration": 2051,
    "start_time": "2024-06-25T02:22:11.442Z"
   },
   {
    "duration": 466,
    "start_time": "2024-06-25T02:22:13.496Z"
   },
   {
    "duration": 23,
    "start_time": "2024-06-25T02:22:13.965Z"
   },
   {
    "duration": 7,
    "start_time": "2024-06-25T02:22:13.992Z"
   },
   {
    "duration": 619,
    "start_time": "2024-06-25T02:22:14.031Z"
   },
   {
    "duration": 103,
    "start_time": "2024-06-25T02:22:14.652Z"
   },
   {
    "duration": 8,
    "start_time": "2024-06-25T02:22:14.757Z"
   },
   {
    "duration": 3,
    "start_time": "2024-06-25T02:22:14.831Z"
   },
   {
    "duration": 3,
    "start_time": "2024-06-25T02:22:14.837Z"
   },
   {
    "duration": 4,
    "start_time": "2024-06-25T02:22:14.843Z"
   },
   {
    "duration": 3,
    "start_time": "2024-06-25T02:22:14.850Z"
   },
   {
    "duration": 78,
    "start_time": "2024-06-25T02:22:14.855Z"
   },
   {
    "duration": 38168,
    "start_time": "2024-06-25T02:22:14.937Z"
   },
   {
    "duration": 233,
    "start_time": "2024-06-25T02:22:53.108Z"
   },
   {
    "duration": 7,
    "start_time": "2024-06-25T02:22:53.344Z"
   },
   {
    "duration": 34,
    "start_time": "2024-06-25T02:23:08.439Z"
   },
   {
    "duration": 1345,
    "start_time": "2024-06-25T02:23:46.977Z"
   },
   {
    "duration": 7,
    "start_time": "2024-06-25T02:23:49.495Z"
   },
   {
    "duration": 3753,
    "start_time": "2024-06-25T07:35:12.299Z"
   },
   {
    "duration": 1303,
    "start_time": "2024-06-25T07:35:16.056Z"
   },
   {
    "duration": 895,
    "start_time": "2024-06-25T07:35:17.361Z"
   },
   {
    "duration": 6,
    "start_time": "2024-06-25T07:35:18.261Z"
   },
   {
    "duration": 20,
    "start_time": "2024-06-25T07:35:18.271Z"
   },
   {
    "duration": 149,
    "start_time": "2024-06-25T07:35:18.323Z"
   },
   {
    "duration": 22,
    "start_time": "2024-06-25T07:35:18.475Z"
   },
   {
    "duration": 1268,
    "start_time": "2024-06-25T07:35:18.500Z"
   },
   {
    "duration": 173,
    "start_time": "2024-06-25T07:35:19.771Z"
   },
   {
    "duration": 18,
    "start_time": "2024-06-25T07:35:19.951Z"
   },
   {
    "duration": 58,
    "start_time": "2024-06-25T07:35:19.972Z"
   },
   {
    "duration": 39,
    "start_time": "2024-06-25T07:35:20.033Z"
   },
   {
    "duration": 84,
    "start_time": "2024-06-25T07:35:20.075Z"
   },
   {
    "duration": 8,
    "start_time": "2024-06-25T07:35:20.161Z"
   },
   {
    "duration": 24,
    "start_time": "2024-06-25T07:35:20.171Z"
   },
   {
    "duration": 29,
    "start_time": "2024-06-25T07:35:20.199Z"
   },
   {
    "duration": 21,
    "start_time": "2024-06-25T07:35:20.232Z"
   },
   {
    "duration": 24,
    "start_time": "2024-06-25T07:35:20.258Z"
   },
   {
    "duration": 66,
    "start_time": "2024-06-25T07:35:20.285Z"
   },
   {
    "duration": 115,
    "start_time": "2024-06-25T07:35:20.354Z"
   },
   {
    "duration": 22,
    "start_time": "2024-06-25T07:35:20.475Z"
   },
   {
    "duration": 425,
    "start_time": "2024-06-25T07:35:20.501Z"
   },
   {
    "duration": 118,
    "start_time": "2024-06-25T07:35:20.929Z"
   },
   {
    "duration": 40,
    "start_time": "2024-06-25T07:35:21.050Z"
   },
   {
    "duration": 77,
    "start_time": "2024-06-25T07:35:21.092Z"
   },
   {
    "duration": 361,
    "start_time": "2024-06-25T07:35:21.172Z"
   },
   {
    "duration": 46,
    "start_time": "2024-06-25T07:35:21.536Z"
   },
   {
    "duration": 42,
    "start_time": "2024-06-25T07:35:21.591Z"
   },
   {
    "duration": 91,
    "start_time": "2024-06-25T07:35:21.636Z"
   },
   {
    "duration": 30,
    "start_time": "2024-06-25T07:35:21.731Z"
   },
   {
    "duration": 9,
    "start_time": "2024-06-25T07:35:21.764Z"
   },
   {
    "duration": 64,
    "start_time": "2024-06-25T07:35:21.779Z"
   },
   {
    "duration": 15,
    "start_time": "2024-06-25T07:35:21.846Z"
   },
   {
    "duration": 90,
    "start_time": "2024-06-25T07:35:21.864Z"
   },
   {
    "duration": 100,
    "start_time": "2024-06-25T07:35:21.957Z"
   },
   {
    "duration": 31,
    "start_time": "2024-06-25T07:35:22.060Z"
   },
   {
    "duration": 1901,
    "start_time": "2024-06-25T07:35:22.094Z"
   },
   {
    "duration": 410,
    "start_time": "2024-06-25T07:35:23.997Z"
   },
   {
    "duration": 31,
    "start_time": "2024-06-25T07:35:24.411Z"
   },
   {
    "duration": 7,
    "start_time": "2024-06-25T07:35:24.444Z"
   },
   {
    "duration": 567,
    "start_time": "2024-06-25T07:35:24.455Z"
   },
   {
    "duration": 26,
    "start_time": "2024-06-25T07:35:25.026Z"
   },
   {
    "duration": 8,
    "start_time": "2024-06-25T07:35:25.124Z"
   },
   {
    "duration": 4,
    "start_time": "2024-06-25T07:35:25.136Z"
   },
   {
    "duration": 4,
    "start_time": "2024-06-25T07:35:25.142Z"
   },
   {
    "duration": 4,
    "start_time": "2024-06-25T07:35:25.222Z"
   },
   {
    "duration": 12,
    "start_time": "2024-06-25T07:35:25.229Z"
   },
   {
    "duration": 4,
    "start_time": "2024-06-25T07:35:25.245Z"
   },
   {
    "duration": 38297,
    "start_time": "2024-06-25T07:35:25.252Z"
   },
   {
    "duration": 1362,
    "start_time": "2024-06-25T07:36:03.552Z"
   },
   {
    "duration": 8,
    "start_time": "2024-06-25T07:36:04.923Z"
   },
   {
    "duration": 5,
    "start_time": "2024-06-25T07:49:19.512Z"
   },
   {
    "duration": 655,
    "start_time": "2024-06-25T08:02:42.269Z"
   },
   {
    "duration": 4,
    "start_time": "2024-06-25T08:03:08.147Z"
   },
   {
    "duration": 11027,
    "start_time": "2024-06-25T08:03:38.120Z"
   },
   {
    "duration": 4,
    "start_time": "2024-06-25T08:03:52.599Z"
   },
   {
    "duration": 5,
    "start_time": "2024-06-25T08:04:00.926Z"
   },
   {
    "duration": 1045000,
    "start_time": "2024-06-25T08:04:02.569Z"
   },
   {
    "duration": 0,
    "start_time": "2024-06-25T08:21:27.572Z"
   },
   {
    "duration": 6,
    "start_time": "2024-06-25T08:22:02.318Z"
   },
   {
    "duration": 367798,
    "start_time": "2024-06-25T08:22:10.641Z"
   },
   {
    "duration": 5,
    "start_time": "2024-06-25T08:28:18.443Z"
   },
   {
    "duration": 540,
    "start_time": "2024-06-25T08:29:44.863Z"
   },
   {
    "duration": 5,
    "start_time": "2024-06-25T08:34:32.322Z"
   },
   {
    "duration": 83,
    "start_time": "2024-06-25T08:35:15.757Z"
   },
   {
    "duration": 16,
    "start_time": "2024-06-25T08:35:34.074Z"
   },
   {
    "duration": 15,
    "start_time": "2024-06-25T08:35:40.100Z"
   },
   {
    "duration": 14,
    "start_time": "2024-06-25T08:35:46.966Z"
   },
   {
    "duration": 12253,
    "start_time": "2024-06-25T08:35:53.193Z"
   },
   {
    "duration": 5,
    "start_time": "2024-06-25T08:36:06.686Z"
   },
   {
    "duration": 789546,
    "start_time": "2024-06-25T08:36:12.077Z"
   },
   {
    "duration": 5,
    "start_time": "2024-06-25T08:49:21.626Z"
   },
   {
    "duration": 6,
    "start_time": "2024-06-25T08:49:57.523Z"
   },
   {
    "duration": 5,
    "start_time": "2024-06-25T08:50:03.532Z"
   },
   {
    "duration": 5,
    "start_time": "2024-06-25T08:50:05.781Z"
   },
   {
    "duration": 1292,
    "start_time": "2024-06-25T08:50:11.562Z"
   },
   {
    "duration": 6,
    "start_time": "2024-06-25T09:01:03.396Z"
   },
   {
    "duration": 762373,
    "start_time": "2024-06-25T09:01:07.788Z"
   },
   {
    "duration": 5,
    "start_time": "2024-06-25T09:15:43.231Z"
   },
   {
    "duration": 5,
    "start_time": "2024-06-25T09:15:45.275Z"
   },
   {
    "duration": 1316,
    "start_time": "2024-06-25T09:15:46.859Z"
   },
   {
    "duration": 1347,
    "start_time": "2024-06-25T09:16:26.675Z"
   },
   {
    "duration": 6,
    "start_time": "2024-06-25T09:20:13.470Z"
   },
   {
    "duration": 6,
    "start_time": "2024-06-25T09:20:15.457Z"
   },
   {
    "duration": 182,
    "start_time": "2024-06-25T09:27:00.098Z"
   },
   {
    "duration": 3559,
    "start_time": "2024-06-25T09:27:12.313Z"
   },
   {
    "duration": 1349,
    "start_time": "2024-06-25T09:27:15.876Z"
   },
   {
    "duration": 925,
    "start_time": "2024-06-25T09:27:17.228Z"
   },
   {
    "duration": 6,
    "start_time": "2024-06-25T09:27:18.158Z"
   },
   {
    "duration": 19,
    "start_time": "2024-06-25T09:27:18.167Z"
   },
   {
    "duration": 178,
    "start_time": "2024-06-25T09:27:18.189Z"
   },
   {
    "duration": 23,
    "start_time": "2024-06-25T09:27:18.369Z"
   },
   {
    "duration": 1277,
    "start_time": "2024-06-25T09:27:18.395Z"
   },
   {
    "duration": 178,
    "start_time": "2024-06-25T09:27:19.675Z"
   },
   {
    "duration": 21,
    "start_time": "2024-06-25T09:27:19.861Z"
   },
   {
    "duration": 57,
    "start_time": "2024-06-25T09:27:19.886Z"
   },
   {
    "duration": 40,
    "start_time": "2024-06-25T09:27:19.945Z"
   },
   {
    "duration": 78,
    "start_time": "2024-06-25T09:27:19.988Z"
   },
   {
    "duration": 7,
    "start_time": "2024-06-25T09:27:20.070Z"
   },
   {
    "duration": 45,
    "start_time": "2024-06-25T09:27:20.082Z"
   },
   {
    "duration": 6,
    "start_time": "2024-06-25T09:27:20.131Z"
   },
   {
    "duration": 21,
    "start_time": "2024-06-25T09:27:20.140Z"
   },
   {
    "duration": 59,
    "start_time": "2024-06-25T09:27:20.164Z"
   },
   {
    "duration": 34,
    "start_time": "2024-06-25T09:27:20.226Z"
   },
   {
    "duration": 116,
    "start_time": "2024-06-25T09:27:20.263Z"
   },
   {
    "duration": 19,
    "start_time": "2024-06-25T09:27:20.382Z"
   },
   {
    "duration": 424,
    "start_time": "2024-06-25T09:27:20.404Z"
   },
   {
    "duration": 121,
    "start_time": "2024-06-25T09:27:20.831Z"
   },
   {
    "duration": 41,
    "start_time": "2024-06-25T09:27:20.955Z"
   },
   {
    "duration": 70,
    "start_time": "2024-06-25T09:27:21.000Z"
   },
   {
    "duration": 365,
    "start_time": "2024-06-25T09:27:21.072Z"
   },
   {
    "duration": 40,
    "start_time": "2024-06-25T09:27:21.440Z"
   },
   {
    "duration": 43,
    "start_time": "2024-06-25T09:27:21.488Z"
   },
   {
    "duration": 92,
    "start_time": "2024-06-25T09:27:21.535Z"
   },
   {
    "duration": 28,
    "start_time": "2024-06-25T09:27:21.630Z"
   },
   {
    "duration": 6,
    "start_time": "2024-06-25T09:27:21.663Z"
   },
   {
    "duration": 61,
    "start_time": "2024-06-25T09:27:21.673Z"
   },
   {
    "duration": 19,
    "start_time": "2024-06-25T09:27:21.738Z"
   },
   {
    "duration": 94,
    "start_time": "2024-06-25T09:27:21.760Z"
   },
   {
    "duration": 103,
    "start_time": "2024-06-25T09:27:21.857Z"
   },
   {
    "duration": 31,
    "start_time": "2024-06-25T09:27:21.963Z"
   },
   {
    "duration": 1965,
    "start_time": "2024-06-25T09:27:21.996Z"
   },
   {
    "duration": 419,
    "start_time": "2024-06-25T09:27:23.964Z"
   },
   {
    "duration": 38,
    "start_time": "2024-06-25T09:27:24.386Z"
   },
   {
    "duration": 7,
    "start_time": "2024-06-25T09:27:24.428Z"
   },
   {
    "duration": 502,
    "start_time": "2024-06-25T09:27:24.437Z"
   },
   {
    "duration": 100,
    "start_time": "2024-06-25T09:27:24.942Z"
   },
   {
    "duration": 75,
    "start_time": "2024-06-25T09:27:25.047Z"
   },
   {
    "duration": 3,
    "start_time": "2024-06-25T09:27:25.129Z"
   },
   {
    "duration": 3,
    "start_time": "2024-06-25T09:27:25.141Z"
   },
   {
    "duration": 4,
    "start_time": "2024-06-25T09:27:25.222Z"
   },
   {
    "duration": 4,
    "start_time": "2024-06-25T09:27:25.229Z"
   },
   {
    "duration": 4,
    "start_time": "2024-06-25T09:27:25.236Z"
   },
   {
    "duration": 3,
    "start_time": "2024-06-25T09:27:25.244Z"
   },
   {
    "duration": 5,
    "start_time": "2024-06-25T09:27:27.402Z"
   },
   {
    "duration": 490522,
    "start_time": "2024-06-25T09:27:30.763Z"
   },
   {
    "duration": 5,
    "start_time": "2024-06-25T09:35:41.289Z"
   },
   {
    "duration": 27,
    "start_time": "2024-06-25T09:35:41.297Z"
   },
   {
    "duration": 2195,
    "start_time": "2024-06-25T09:35:41.329Z"
   },
   {
    "duration": 37902,
    "start_time": "2024-06-25T09:36:07.244Z"
   },
   {
    "duration": 1365,
    "start_time": "2024-06-25T09:36:45.150Z"
   },
   {
    "duration": 8,
    "start_time": "2024-06-25T09:36:46.522Z"
   },
   {
    "duration": 37723,
    "start_time": "2024-06-25T09:41:11.247Z"
   },
   {
    "duration": 1415,
    "start_time": "2024-06-25T09:41:48.974Z"
   },
   {
    "duration": 6,
    "start_time": "2024-06-25T09:41:50.392Z"
   },
   {
    "duration": 8,
    "start_time": "2024-06-25T09:44:16.852Z"
   },
   {
    "duration": 6,
    "start_time": "2024-06-25T09:44:26.992Z"
   },
   {
    "duration": 166,
    "start_time": "2024-06-25T09:44:36.479Z"
   },
   {
    "duration": 3519,
    "start_time": "2024-06-25T09:44:47.434Z"
   },
   {
    "duration": 1354,
    "start_time": "2024-06-25T09:44:50.958Z"
   },
   {
    "duration": 941,
    "start_time": "2024-06-25T09:44:52.315Z"
   },
   {
    "duration": 6,
    "start_time": "2024-06-25T09:44:53.260Z"
   },
   {
    "duration": 19,
    "start_time": "2024-06-25T09:44:53.269Z"
   },
   {
    "duration": 175,
    "start_time": "2024-06-25T09:44:53.291Z"
   },
   {
    "duration": 23,
    "start_time": "2024-06-25T09:44:53.470Z"
   },
   {
    "duration": 1282,
    "start_time": "2024-06-25T09:44:53.496Z"
   },
   {
    "duration": 154,
    "start_time": "2024-06-25T09:44:54.780Z"
   },
   {
    "duration": 18,
    "start_time": "2024-06-25T09:44:54.940Z"
   },
   {
    "duration": 23,
    "start_time": "2024-06-25T09:44:54.961Z"
   },
   {
    "duration": 68,
    "start_time": "2024-06-25T09:44:54.987Z"
   },
   {
    "duration": 77,
    "start_time": "2024-06-25T09:44:55.058Z"
   },
   {
    "duration": 8,
    "start_time": "2024-06-25T09:44:55.138Z"
   },
   {
    "duration": 21,
    "start_time": "2024-06-25T09:44:55.150Z"
   },
   {
    "duration": 6,
    "start_time": "2024-06-25T09:44:55.173Z"
   },
   {
    "duration": 21,
    "start_time": "2024-06-25T09:44:55.223Z"
   },
   {
    "duration": 23,
    "start_time": "2024-06-25T09:44:55.247Z"
   },
   {
    "duration": 62,
    "start_time": "2024-06-25T09:44:55.273Z"
   },
   {
    "duration": 113,
    "start_time": "2024-06-25T09:44:55.338Z"
   },
   {
    "duration": 20,
    "start_time": "2024-06-25T09:44:55.453Z"
   },
   {
    "duration": 532,
    "start_time": "2024-06-25T09:44:55.475Z"
   },
   {
    "duration": 121,
    "start_time": "2024-06-25T09:44:56.010Z"
   },
   {
    "duration": 40,
    "start_time": "2024-06-25T09:44:56.134Z"
   },
   {
    "duration": 77,
    "start_time": "2024-06-25T09:44:56.177Z"
   },
   {
    "duration": 372,
    "start_time": "2024-06-25T09:44:56.257Z"
   },
   {
    "duration": 43,
    "start_time": "2024-06-25T09:44:56.631Z"
   },
   {
    "duration": 42,
    "start_time": "2024-06-25T09:44:56.682Z"
   },
   {
    "duration": 99,
    "start_time": "2024-06-25T09:44:56.727Z"
   },
   {
    "duration": 28,
    "start_time": "2024-06-25T09:44:56.829Z"
   },
   {
    "duration": 6,
    "start_time": "2024-06-25T09:44:56.860Z"
   },
   {
    "duration": 62,
    "start_time": "2024-06-25T09:44:56.869Z"
   },
   {
    "duration": 16,
    "start_time": "2024-06-25T09:44:56.934Z"
   },
   {
    "duration": 96,
    "start_time": "2024-06-25T09:44:56.953Z"
   },
   {
    "duration": 98,
    "start_time": "2024-06-25T09:44:57.053Z"
   },
   {
    "duration": 31,
    "start_time": "2024-06-25T09:44:57.154Z"
   },
   {
    "duration": 1920,
    "start_time": "2024-06-25T09:44:57.188Z"
   },
   {
    "duration": 404,
    "start_time": "2024-06-25T09:44:59.110Z"
   },
   {
    "duration": 23,
    "start_time": "2024-06-25T09:44:59.524Z"
   },
   {
    "duration": 7,
    "start_time": "2024-06-25T09:44:59.550Z"
   },
   {
    "duration": 577,
    "start_time": "2024-06-25T09:44:59.560Z"
   },
   {
    "duration": 97,
    "start_time": "2024-06-25T09:45:00.140Z"
   },
   {
    "duration": 8,
    "start_time": "2024-06-25T09:45:00.243Z"
   },
   {
    "duration": 3,
    "start_time": "2024-06-25T09:45:00.254Z"
   },
   {
    "duration": 38326,
    "start_time": "2024-06-25T09:45:00.325Z"
   },
   {
    "duration": 1376,
    "start_time": "2024-06-25T09:45:38.653Z"
   },
   {
    "duration": 8,
    "start_time": "2024-06-25T09:45:40.033Z"
   },
   {
    "duration": 8,
    "start_time": "2024-06-25T09:45:40.044Z"
   },
   {
    "duration": 3479,
    "start_time": "2024-06-25T09:53:15.580Z"
   },
   {
    "duration": 1348,
    "start_time": "2024-06-25T09:53:19.063Z"
   },
   {
    "duration": 909,
    "start_time": "2024-06-25T09:53:20.414Z"
   },
   {
    "duration": 6,
    "start_time": "2024-06-25T09:53:21.326Z"
   },
   {
    "duration": 18,
    "start_time": "2024-06-25T09:53:21.337Z"
   },
   {
    "duration": 174,
    "start_time": "2024-06-25T09:53:21.359Z"
   },
   {
    "duration": 23,
    "start_time": "2024-06-25T09:53:21.536Z"
   },
   {
    "duration": 1326,
    "start_time": "2024-06-25T09:53:21.562Z"
   },
   {
    "duration": 148,
    "start_time": "2024-06-25T09:53:22.891Z"
   },
   {
    "duration": 19,
    "start_time": "2024-06-25T09:53:23.042Z"
   },
   {
    "duration": 23,
    "start_time": "2024-06-25T09:53:23.064Z"
   },
   {
    "duration": 35,
    "start_time": "2024-06-25T09:53:23.124Z"
   },
   {
    "duration": 79,
    "start_time": "2024-06-25T09:53:23.163Z"
   },
   {
    "duration": 8,
    "start_time": "2024-06-25T09:53:23.248Z"
   },
   {
    "duration": 21,
    "start_time": "2024-06-25T09:53:23.259Z"
   },
   {
    "duration": 6,
    "start_time": "2024-06-25T09:53:23.282Z"
   },
   {
    "duration": 51,
    "start_time": "2024-06-25T09:53:23.291Z"
   },
   {
    "duration": 24,
    "start_time": "2024-06-25T09:53:23.345Z"
   },
   {
    "duration": 68,
    "start_time": "2024-06-25T09:53:23.371Z"
   },
   {
    "duration": 104,
    "start_time": "2024-06-25T09:53:23.442Z"
   },
   {
    "duration": 20,
    "start_time": "2024-06-25T09:53:23.550Z"
   },
   {
    "duration": 432,
    "start_time": "2024-06-25T09:53:23.574Z"
   },
   {
    "duration": 115,
    "start_time": "2024-06-25T09:53:24.009Z"
   },
   {
    "duration": 40,
    "start_time": "2024-06-25T09:53:24.126Z"
   },
   {
    "duration": 77,
    "start_time": "2024-06-25T09:53:24.168Z"
   },
   {
    "duration": 352,
    "start_time": "2024-06-25T09:53:24.249Z"
   },
   {
    "duration": 49,
    "start_time": "2024-06-25T09:53:24.604Z"
   },
   {
    "duration": 20,
    "start_time": "2024-06-25T09:53:24.656Z"
   },
   {
    "duration": 105,
    "start_time": "2024-06-25T09:53:24.678Z"
   },
   {
    "duration": 43,
    "start_time": "2024-06-25T09:53:24.786Z"
   },
   {
    "duration": 5,
    "start_time": "2024-06-25T09:53:24.835Z"
   },
   {
    "duration": 40,
    "start_time": "2024-06-25T09:53:24.846Z"
   },
   {
    "duration": 37,
    "start_time": "2024-06-25T09:53:24.889Z"
   },
   {
    "duration": 70,
    "start_time": "2024-06-25T09:53:24.929Z"
   },
   {
    "duration": 103,
    "start_time": "2024-06-25T09:53:25.023Z"
   },
   {
    "duration": 30,
    "start_time": "2024-06-25T09:53:25.129Z"
   },
   {
    "duration": 1913,
    "start_time": "2024-06-25T09:53:25.162Z"
   },
   {
    "duration": 414,
    "start_time": "2024-06-25T09:53:27.078Z"
   },
   {
    "duration": 37,
    "start_time": "2024-06-25T09:53:27.494Z"
   },
   {
    "duration": 6,
    "start_time": "2024-06-25T09:53:27.534Z"
   },
   {
    "duration": 495,
    "start_time": "2024-06-25T09:53:27.549Z"
   },
   {
    "duration": 97,
    "start_time": "2024-06-25T09:53:28.047Z"
   },
   {
    "duration": 7,
    "start_time": "2024-06-25T09:53:28.146Z"
   },
   {
    "duration": 4,
    "start_time": "2024-06-25T09:53:28.223Z"
   },
   {
    "duration": 38103,
    "start_time": "2024-06-25T09:53:28.230Z"
   },
   {
    "duration": 1395,
    "start_time": "2024-06-25T09:54:06.335Z"
   },
   {
    "duration": 8,
    "start_time": "2024-06-25T09:54:07.733Z"
   },
   {
    "duration": 7,
    "start_time": "2024-06-25T09:54:07.745Z"
   },
   {
    "duration": 304,
    "start_time": "2024-06-25T10:19:37.914Z"
   },
   {
    "duration": 3520,
    "start_time": "2024-06-25T10:19:41.149Z"
   },
   {
    "duration": 1334,
    "start_time": "2024-06-25T10:19:44.673Z"
   },
   {
    "duration": 905,
    "start_time": "2024-06-25T10:19:46.009Z"
   },
   {
    "duration": 11,
    "start_time": "2024-06-25T10:19:46.917Z"
   },
   {
    "duration": 19,
    "start_time": "2024-06-25T10:19:46.933Z"
   },
   {
    "duration": 173,
    "start_time": "2024-06-25T10:19:46.956Z"
   },
   {
    "duration": 22,
    "start_time": "2024-06-25T10:19:47.133Z"
   },
   {
    "duration": 1259,
    "start_time": "2024-06-25T10:19:47.158Z"
   },
   {
    "duration": 145,
    "start_time": "2024-06-25T10:19:48.425Z"
   },
   {
    "duration": 23,
    "start_time": "2024-06-25T10:19:48.573Z"
   },
   {
    "duration": 48,
    "start_time": "2024-06-25T10:19:48.599Z"
   },
   {
    "duration": 42,
    "start_time": "2024-06-25T10:19:48.651Z"
   },
   {
    "duration": 87,
    "start_time": "2024-06-25T10:19:48.696Z"
   },
   {
    "duration": 6,
    "start_time": "2024-06-25T10:19:48.790Z"
   },
   {
    "duration": 39,
    "start_time": "2024-06-25T10:19:48.798Z"
   },
   {
    "duration": 6,
    "start_time": "2024-06-25T10:19:48.840Z"
   },
   {
    "duration": 21,
    "start_time": "2024-06-25T10:19:48.849Z"
   },
   {
    "duration": 59,
    "start_time": "2024-06-25T10:19:48.872Z"
   },
   {
    "duration": 33,
    "start_time": "2024-06-25T10:19:48.934Z"
   },
   {
    "duration": 122,
    "start_time": "2024-06-25T10:19:48.970Z"
   },
   {
    "duration": 27,
    "start_time": "2024-06-25T10:19:49.095Z"
   },
   {
    "duration": 404,
    "start_time": "2024-06-25T10:19:49.127Z"
   },
   {
    "duration": 118,
    "start_time": "2024-06-25T10:19:49.533Z"
   },
   {
    "duration": 53,
    "start_time": "2024-06-25T10:19:49.654Z"
   },
   {
    "duration": 73,
    "start_time": "2024-06-25T10:19:49.716Z"
   },
   {
    "duration": 372,
    "start_time": "2024-06-25T10:19:49.793Z"
   },
   {
    "duration": 40,
    "start_time": "2024-06-25T10:19:50.168Z"
   },
   {
    "duration": 21,
    "start_time": "2024-06-25T10:19:50.223Z"
   },
   {
    "duration": 96,
    "start_time": "2024-06-25T10:19:50.247Z"
   },
   {
    "duration": 31,
    "start_time": "2024-06-25T10:19:50.346Z"
   },
   {
    "duration": 6,
    "start_time": "2024-06-25T10:19:50.380Z"
   },
   {
    "duration": 63,
    "start_time": "2024-06-25T10:19:50.388Z"
   },
   {
    "duration": 17,
    "start_time": "2024-06-25T10:19:50.454Z"
   },
   {
    "duration": 99,
    "start_time": "2024-06-25T10:19:50.474Z"
   },
   {
    "duration": 99,
    "start_time": "2024-06-25T10:19:50.576Z"
   },
   {
    "duration": 48,
    "start_time": "2024-06-25T10:19:50.678Z"
   },
   {
    "duration": 1966,
    "start_time": "2024-06-25T10:19:50.728Z"
   },
   {
    "duration": 421,
    "start_time": "2024-06-25T10:19:52.698Z"
   },
   {
    "duration": 24,
    "start_time": "2024-06-25T10:19:53.125Z"
   },
   {
    "duration": 7,
    "start_time": "2024-06-25T10:19:53.153Z"
   },
   {
    "duration": 562,
    "start_time": "2024-06-25T10:19:53.168Z"
   },
   {
    "duration": 94,
    "start_time": "2024-06-25T10:19:53.733Z"
   },
   {
    "duration": 14,
    "start_time": "2024-06-25T10:19:53.830Z"
   },
   {
    "duration": 10,
    "start_time": "2024-06-25T10:19:53.923Z"
   },
   {
    "duration": 39928,
    "start_time": "2024-06-25T10:19:53.935Z"
   },
   {
    "duration": 1362,
    "start_time": "2024-06-25T10:20:33.866Z"
   },
   {
    "duration": 7,
    "start_time": "2024-06-25T10:20:35.231Z"
   },
   {
    "duration": 3,
    "start_time": "2024-06-25T10:20:41.599Z"
   },
   {
    "duration": 130,
    "start_time": "2024-06-25T10:20:45.721Z"
   },
   {
    "duration": 22,
    "start_time": "2024-06-25T10:21:24.217Z"
   },
   {
    "duration": 6,
    "start_time": "2024-06-25T10:21:27.621Z"
   },
   {
    "duration": 3569,
    "start_time": "2024-06-25T10:27:58.416Z"
   },
   {
    "duration": 1328,
    "start_time": "2024-06-25T10:28:01.989Z"
   },
   {
    "duration": 939,
    "start_time": "2024-06-25T10:28:03.320Z"
   },
   {
    "duration": 7,
    "start_time": "2024-06-25T10:28:04.264Z"
   },
   {
    "duration": 23,
    "start_time": "2024-06-25T10:28:04.274Z"
   },
   {
    "duration": 171,
    "start_time": "2024-06-25T10:28:04.325Z"
   },
   {
    "duration": 26,
    "start_time": "2024-06-25T10:28:04.500Z"
   },
   {
    "duration": 1279,
    "start_time": "2024-06-25T10:28:04.529Z"
   },
   {
    "duration": 157,
    "start_time": "2024-06-25T10:28:05.811Z"
   },
   {
    "duration": 18,
    "start_time": "2024-06-25T10:28:05.976Z"
   },
   {
    "duration": 23,
    "start_time": "2024-06-25T10:28:06.022Z"
   },
   {
    "duration": 39,
    "start_time": "2024-06-25T10:28:06.048Z"
   },
   {
    "duration": 86,
    "start_time": "2024-06-25T10:28:06.089Z"
   },
   {
    "duration": 7,
    "start_time": "2024-06-25T10:28:06.178Z"
   },
   {
    "duration": 47,
    "start_time": "2024-06-25T10:28:06.190Z"
   },
   {
    "duration": 7,
    "start_time": "2024-06-25T10:28:06.239Z"
   },
   {
    "duration": 21,
    "start_time": "2024-06-25T10:28:06.249Z"
   },
   {
    "duration": 53,
    "start_time": "2024-06-25T10:28:06.273Z"
   },
   {
    "duration": 35,
    "start_time": "2024-06-25T10:28:06.329Z"
   },
   {
    "duration": 133,
    "start_time": "2024-06-25T10:28:06.368Z"
   },
   {
    "duration": 29,
    "start_time": "2024-06-25T10:28:06.505Z"
   },
   {
    "duration": 411,
    "start_time": "2024-06-25T10:28:06.539Z"
   },
   {
    "duration": 124,
    "start_time": "2024-06-25T10:28:06.954Z"
   },
   {
    "duration": 48,
    "start_time": "2024-06-25T10:28:07.081Z"
   },
   {
    "duration": 54,
    "start_time": "2024-06-25T10:28:07.132Z"
   },
   {
    "duration": 372,
    "start_time": "2024-06-25T10:28:07.189Z"
   },
   {
    "duration": 61,
    "start_time": "2024-06-25T10:28:07.565Z"
   },
   {
    "duration": 24,
    "start_time": "2024-06-25T10:28:07.636Z"
   },
   {
    "duration": 113,
    "start_time": "2024-06-25T10:28:07.663Z"
   },
   {
    "duration": 29,
    "start_time": "2024-06-25T10:28:07.780Z"
   },
   {
    "duration": 15,
    "start_time": "2024-06-25T10:28:07.811Z"
   },
   {
    "duration": 36,
    "start_time": "2024-06-25T10:28:07.829Z"
   },
   {
    "duration": 17,
    "start_time": "2024-06-25T10:28:07.868Z"
   },
   {
    "duration": 74,
    "start_time": "2024-06-25T10:28:07.924Z"
   },
   {
    "duration": 107,
    "start_time": "2024-06-25T10:28:08.001Z"
   },
   {
    "duration": 39,
    "start_time": "2024-06-25T10:28:08.111Z"
   },
   {
    "duration": 2005,
    "start_time": "2024-06-25T10:28:08.152Z"
   },
   {
    "duration": 425,
    "start_time": "2024-06-25T10:28:10.161Z"
   },
   {
    "duration": 35,
    "start_time": "2024-06-25T10:28:10.590Z"
   },
   {
    "duration": 8,
    "start_time": "2024-06-25T10:28:10.628Z"
   },
   {
    "duration": 586,
    "start_time": "2024-06-25T10:28:10.639Z"
   },
   {
    "duration": 32,
    "start_time": "2024-06-25T10:28:11.228Z"
   },
   {
    "duration": 8,
    "start_time": "2024-06-25T10:28:11.324Z"
   },
   {
    "duration": 3,
    "start_time": "2024-06-25T10:28:11.335Z"
   },
   {
    "duration": 40157,
    "start_time": "2024-06-25T10:28:11.341Z"
   },
   {
    "duration": 1352,
    "start_time": "2024-06-25T10:28:51.501Z"
   },
   {
    "duration": 8,
    "start_time": "2024-06-25T10:28:52.856Z"
   },
   {
    "duration": 4,
    "start_time": "2024-06-25T10:28:52.868Z"
   },
   {
    "duration": 7,
    "start_time": "2024-06-25T10:28:52.875Z"
   },
   {
    "duration": 1015634,
    "start_time": "2024-06-25T10:28:52.884Z"
   },
   {
    "duration": 6,
    "start_time": "2024-06-25T10:45:48.524Z"
   },
   {
    "duration": 6,
    "start_time": "2024-06-25T10:45:48.533Z"
   },
   {
    "duration": 3,
    "start_time": "2024-06-25T10:47:34.761Z"
   },
   {
    "duration": 3099,
    "start_time": "2024-06-25T10:47:36.088Z"
   },
   {
    "duration": 6,
    "start_time": "2024-06-25T10:48:43.209Z"
   },
   {
    "duration": 3611,
    "start_time": "2024-06-25T10:48:54.553Z"
   },
   {
    "duration": 1334,
    "start_time": "2024-06-25T10:48:58.168Z"
   },
   {
    "duration": 946,
    "start_time": "2024-06-25T10:48:59.505Z"
   },
   {
    "duration": 6,
    "start_time": "2024-06-25T10:49:00.455Z"
   },
   {
    "duration": 20,
    "start_time": "2024-06-25T10:49:00.464Z"
   },
   {
    "duration": 171,
    "start_time": "2024-06-25T10:49:00.488Z"
   },
   {
    "duration": 23,
    "start_time": "2024-06-25T10:49:00.662Z"
   },
   {
    "duration": 1342,
    "start_time": "2024-06-25T10:49:00.688Z"
   },
   {
    "duration": 158,
    "start_time": "2024-06-25T10:49:02.033Z"
   },
   {
    "duration": 30,
    "start_time": "2024-06-25T10:49:02.197Z"
   },
   {
    "duration": 24,
    "start_time": "2024-06-25T10:49:02.230Z"
   },
   {
    "duration": 67,
    "start_time": "2024-06-25T10:49:02.257Z"
   },
   {
    "duration": 71,
    "start_time": "2024-06-25T10:49:02.327Z"
   },
   {
    "duration": 26,
    "start_time": "2024-06-25T10:49:02.400Z"
   },
   {
    "duration": 21,
    "start_time": "2024-06-25T10:49:02.429Z"
   },
   {
    "duration": 5,
    "start_time": "2024-06-25T10:49:02.453Z"
   },
   {
    "duration": 60,
    "start_time": "2024-06-25T10:49:02.462Z"
   },
   {
    "duration": 24,
    "start_time": "2024-06-25T10:49:02.525Z"
   },
   {
    "duration": 34,
    "start_time": "2024-06-25T10:49:02.551Z"
   },
   {
    "duration": 3507,
    "start_time": "2024-06-25T10:49:05.818Z"
   },
   {
    "duration": 1327,
    "start_time": "2024-06-25T10:49:09.328Z"
   },
   {
    "duration": 898,
    "start_time": "2024-06-25T10:49:10.658Z"
   },
   {
    "duration": 6,
    "start_time": "2024-06-25T10:49:11.560Z"
   },
   {
    "duration": 19,
    "start_time": "2024-06-25T10:49:11.570Z"
   },
   {
    "duration": 176,
    "start_time": "2024-06-25T10:49:11.592Z"
   },
   {
    "duration": 24,
    "start_time": "2024-06-25T10:49:11.771Z"
   },
   {
    "duration": 1240,
    "start_time": "2024-06-25T10:49:11.822Z"
   },
   {
    "duration": 173,
    "start_time": "2024-06-25T10:49:13.067Z"
   },
   {
    "duration": 20,
    "start_time": "2024-06-25T10:49:13.247Z"
   },
   {
    "duration": 53,
    "start_time": "2024-06-25T10:49:13.271Z"
   },
   {
    "duration": 36,
    "start_time": "2024-06-25T10:49:13.327Z"
   },
   {
    "duration": 81,
    "start_time": "2024-06-25T10:49:13.365Z"
   },
   {
    "duration": 7,
    "start_time": "2024-06-25T10:49:13.449Z"
   },
   {
    "duration": 20,
    "start_time": "2024-06-25T10:49:13.459Z"
   },
   {
    "duration": 6,
    "start_time": "2024-06-25T10:49:13.482Z"
   },
   {
    "duration": 49,
    "start_time": "2024-06-25T10:49:13.491Z"
   },
   {
    "duration": 23,
    "start_time": "2024-06-25T10:49:13.543Z"
   },
   {
    "duration": 62,
    "start_time": "2024-06-25T10:49:13.569Z"
   },
   {
    "duration": 120,
    "start_time": "2024-06-25T10:49:13.634Z"
   },
   {
    "duration": 21,
    "start_time": "2024-06-25T10:49:13.757Z"
   },
   {
    "duration": 414,
    "start_time": "2024-06-25T10:49:13.783Z"
   },
   {
    "duration": 132,
    "start_time": "2024-06-25T10:49:14.200Z"
   },
   {
    "duration": 45,
    "start_time": "2024-06-25T10:49:14.338Z"
   },
   {
    "duration": 73,
    "start_time": "2024-06-25T10:49:14.386Z"
   },
   {
    "duration": 369,
    "start_time": "2024-06-25T10:49:14.462Z"
   },
   {
    "duration": 41,
    "start_time": "2024-06-25T10:49:14.834Z"
   },
   {
    "duration": 48,
    "start_time": "2024-06-25T10:49:14.884Z"
   },
   {
    "duration": 96,
    "start_time": "2024-06-25T10:49:14.935Z"
   },
   {
    "duration": 29,
    "start_time": "2024-06-25T10:49:15.035Z"
   },
   {
    "duration": 6,
    "start_time": "2024-06-25T10:49:15.067Z"
   },
   {
    "duration": 67,
    "start_time": "2024-06-25T10:49:15.077Z"
   },
   {
    "duration": 16,
    "start_time": "2024-06-25T10:49:15.147Z"
   },
   {
    "duration": 94,
    "start_time": "2024-06-25T10:49:15.166Z"
   },
   {
    "duration": 98,
    "start_time": "2024-06-25T10:49:15.263Z"
   },
   {
    "duration": 33,
    "start_time": "2024-06-25T10:49:15.364Z"
   },
   {
    "duration": 1947,
    "start_time": "2024-06-25T10:49:15.422Z"
   },
   {
    "duration": 427,
    "start_time": "2024-06-25T10:49:17.373Z"
   },
   {
    "duration": 31,
    "start_time": "2024-06-25T10:49:17.803Z"
   },
   {
    "duration": 7,
    "start_time": "2024-06-25T10:49:17.836Z"
   },
   {
    "duration": 498,
    "start_time": "2024-06-25T10:49:17.846Z"
   },
   {
    "duration": 99,
    "start_time": "2024-06-25T10:49:18.347Z"
   },
   {
    "duration": 76,
    "start_time": "2024-06-25T10:49:18.448Z"
   },
   {
    "duration": 4,
    "start_time": "2024-06-25T10:49:18.528Z"
   },
   {
    "duration": 37913,
    "start_time": "2024-06-25T10:49:18.536Z"
   },
   {
    "duration": 1378,
    "start_time": "2024-06-25T10:49:56.452Z"
   },
   {
    "duration": 7,
    "start_time": "2024-06-25T10:49:57.832Z"
   },
   {
    "duration": 5,
    "start_time": "2024-06-25T10:49:57.842Z"
   },
   {
    "duration": 6,
    "start_time": "2024-06-25T10:49:57.851Z"
   },
   {
    "duration": 928211,
    "start_time": "2024-06-25T10:49:57.860Z"
   },
   {
    "duration": 6,
    "start_time": "2024-06-25T11:05:26.076Z"
   },
   {
    "duration": 5,
    "start_time": "2024-06-25T11:05:26.086Z"
   },
   {
    "duration": 3036,
    "start_time": "2024-06-25T11:05:26.095Z"
   },
   {
    "duration": 0,
    "start_time": "2024-06-25T23:41:23.893Z"
   },
   {
    "duration": 0,
    "start_time": "2024-06-25T23:41:23.894Z"
   },
   {
    "duration": 0,
    "start_time": "2024-06-25T23:41:23.897Z"
   },
   {
    "duration": 0,
    "start_time": "2024-06-25T23:41:23.898Z"
   },
   {
    "duration": 0,
    "start_time": "2024-06-25T23:41:23.901Z"
   },
   {
    "duration": 0,
    "start_time": "2024-06-25T23:41:23.904Z"
   },
   {
    "duration": 0,
    "start_time": "2024-06-25T23:41:23.907Z"
   },
   {
    "duration": 0,
    "start_time": "2024-06-25T23:41:23.910Z"
   },
   {
    "duration": 0,
    "start_time": "2024-06-25T23:41:23.913Z"
   },
   {
    "duration": 0,
    "start_time": "2024-06-25T23:41:23.915Z"
   },
   {
    "duration": 0,
    "start_time": "2024-06-25T23:41:23.917Z"
   },
   {
    "duration": 0,
    "start_time": "2024-06-25T23:41:23.919Z"
   },
   {
    "duration": 0,
    "start_time": "2024-06-25T23:41:23.922Z"
   },
   {
    "duration": 0,
    "start_time": "2024-06-25T23:41:23.923Z"
   },
   {
    "duration": 0,
    "start_time": "2024-06-25T23:41:23.925Z"
   },
   {
    "duration": 0,
    "start_time": "2024-06-25T23:41:23.928Z"
   },
   {
    "duration": 0,
    "start_time": "2024-06-25T23:41:23.930Z"
   },
   {
    "duration": 0,
    "start_time": "2024-06-25T23:41:23.990Z"
   },
   {
    "duration": 0,
    "start_time": "2024-06-25T23:41:23.992Z"
   },
   {
    "duration": 0,
    "start_time": "2024-06-25T23:41:23.994Z"
   },
   {
    "duration": 0,
    "start_time": "2024-06-25T23:41:23.996Z"
   },
   {
    "duration": 0,
    "start_time": "2024-06-25T23:41:23.998Z"
   },
   {
    "duration": 0,
    "start_time": "2024-06-25T23:41:24.001Z"
   },
   {
    "duration": 0,
    "start_time": "2024-06-25T23:41:24.003Z"
   },
   {
    "duration": 0,
    "start_time": "2024-06-25T23:41:24.006Z"
   },
   {
    "duration": 0,
    "start_time": "2024-06-25T23:41:24.008Z"
   },
   {
    "duration": 0,
    "start_time": "2024-06-25T23:41:24.010Z"
   },
   {
    "duration": 0,
    "start_time": "2024-06-25T23:41:24.012Z"
   },
   {
    "duration": 0,
    "start_time": "2024-06-25T23:41:24.015Z"
   },
   {
    "duration": 0,
    "start_time": "2024-06-25T23:41:24.018Z"
   },
   {
    "duration": 0,
    "start_time": "2024-06-25T23:41:24.019Z"
   },
   {
    "duration": 1,
    "start_time": "2024-06-25T23:41:24.021Z"
   },
   {
    "duration": 0,
    "start_time": "2024-06-25T23:41:24.023Z"
   },
   {
    "duration": 0,
    "start_time": "2024-06-25T23:41:24.025Z"
   },
   {
    "duration": 0,
    "start_time": "2024-06-25T23:41:24.028Z"
   },
   {
    "duration": 0,
    "start_time": "2024-06-25T23:41:24.029Z"
   },
   {
    "duration": 0,
    "start_time": "2024-06-25T23:41:24.091Z"
   },
   {
    "duration": 0,
    "start_time": "2024-06-25T23:41:24.093Z"
   },
   {
    "duration": 0,
    "start_time": "2024-06-25T23:41:24.096Z"
   },
   {
    "duration": 0,
    "start_time": "2024-06-25T23:41:24.098Z"
   },
   {
    "duration": 0,
    "start_time": "2024-06-25T23:41:24.100Z"
   },
   {
    "duration": 0,
    "start_time": "2024-06-25T23:41:24.104Z"
   },
   {
    "duration": 0,
    "start_time": "2024-06-25T23:41:24.105Z"
   },
   {
    "duration": 1,
    "start_time": "2024-06-25T23:41:24.108Z"
   },
   {
    "duration": 0,
    "start_time": "2024-06-25T23:41:24.111Z"
   },
   {
    "duration": 0,
    "start_time": "2024-06-25T23:41:24.113Z"
   },
   {
    "duration": 0,
    "start_time": "2024-06-25T23:41:24.116Z"
   },
   {
    "duration": 0,
    "start_time": "2024-06-25T23:41:24.118Z"
   },
   {
    "duration": 0,
    "start_time": "2024-06-25T23:41:24.120Z"
   },
   {
    "duration": 0,
    "start_time": "2024-06-25T23:41:24.123Z"
   },
   {
    "duration": 0,
    "start_time": "2024-06-25T23:41:24.126Z"
   },
   {
    "duration": 0,
    "start_time": "2024-06-25T23:41:24.128Z"
   },
   {
    "duration": 0,
    "start_time": "2024-06-25T23:41:24.191Z"
   },
   {
    "duration": 3707,
    "start_time": "2024-06-25T23:41:26.547Z"
   },
   {
    "duration": 1284,
    "start_time": "2024-06-25T23:41:30.258Z"
   },
   {
    "duration": 874,
    "start_time": "2024-06-25T23:41:31.545Z"
   },
   {
    "duration": 6,
    "start_time": "2024-06-25T23:41:32.425Z"
   },
   {
    "duration": 21,
    "start_time": "2024-06-25T23:41:32.435Z"
   },
   {
    "duration": 196,
    "start_time": "2024-06-25T23:41:32.460Z"
   },
   {
    "duration": 38,
    "start_time": "2024-06-25T23:41:32.659Z"
   },
   {
    "duration": 1357,
    "start_time": "2024-06-25T23:41:32.700Z"
   },
   {
    "duration": 155,
    "start_time": "2024-06-25T23:41:34.061Z"
   },
   {
    "duration": 20,
    "start_time": "2024-06-25T23:41:34.222Z"
   },
   {
    "duration": 55,
    "start_time": "2024-06-25T23:41:34.246Z"
   },
   {
    "duration": 39,
    "start_time": "2024-06-25T23:41:34.304Z"
   },
   {
    "duration": 89,
    "start_time": "2024-06-25T23:41:34.346Z"
   },
   {
    "duration": 7,
    "start_time": "2024-06-25T23:41:34.438Z"
   },
   {
    "duration": 46,
    "start_time": "2024-06-25T23:41:34.448Z"
   },
   {
    "duration": 10,
    "start_time": "2024-06-25T23:41:34.497Z"
   },
   {
    "duration": 22,
    "start_time": "2024-06-25T23:41:34.511Z"
   },
   {
    "duration": 60,
    "start_time": "2024-06-25T23:41:34.537Z"
   },
   {
    "duration": 35,
    "start_time": "2024-06-25T23:41:34.599Z"
   },
   {
    "duration": 126,
    "start_time": "2024-06-25T23:41:34.637Z"
   },
   {
    "duration": 26,
    "start_time": "2024-06-25T23:41:34.766Z"
   },
   {
    "duration": 428,
    "start_time": "2024-06-25T23:41:34.796Z"
   },
   {
    "duration": 114,
    "start_time": "2024-06-25T23:41:35.227Z"
   },
   {
    "duration": 52,
    "start_time": "2024-06-25T23:41:35.344Z"
   },
   {
    "duration": 55,
    "start_time": "2024-06-25T23:41:35.399Z"
   },
   {
    "duration": 393,
    "start_time": "2024-06-25T23:41:35.457Z"
   },
   {
    "duration": 50,
    "start_time": "2024-06-25T23:41:35.853Z"
   },
   {
    "duration": 20,
    "start_time": "2024-06-25T23:41:35.911Z"
   },
   {
    "duration": 101,
    "start_time": "2024-06-25T23:41:35.935Z"
   },
   {
    "duration": 28,
    "start_time": "2024-06-25T23:41:36.039Z"
   },
   {
    "duration": 23,
    "start_time": "2024-06-25T23:41:36.070Z"
   },
   {
    "duration": 36,
    "start_time": "2024-06-25T23:41:36.096Z"
   },
   {
    "duration": 17,
    "start_time": "2024-06-25T23:41:36.135Z"
   },
   {
    "duration": 72,
    "start_time": "2024-06-25T23:41:36.189Z"
   },
   {
    "duration": 108,
    "start_time": "2024-06-25T23:41:36.263Z"
   },
   {
    "duration": 40,
    "start_time": "2024-06-25T23:41:36.374Z"
   },
   {
    "duration": 1943,
    "start_time": "2024-06-25T23:41:36.416Z"
   },
   {
    "duration": 414,
    "start_time": "2024-06-25T23:41:38.362Z"
   },
   {
    "duration": 27,
    "start_time": "2024-06-25T23:41:38.780Z"
   },
   {
    "duration": 11,
    "start_time": "2024-06-25T23:41:38.809Z"
   },
   {
    "duration": 573,
    "start_time": "2024-06-25T23:41:38.823Z"
   },
   {
    "duration": 93,
    "start_time": "2024-06-25T23:41:39.399Z"
   },
   {
    "duration": 12,
    "start_time": "2024-06-25T23:41:39.499Z"
   },
   {
    "duration": 77,
    "start_time": "2024-06-25T23:41:39.515Z"
   },
   {
    "duration": 40075,
    "start_time": "2024-06-25T23:41:39.596Z"
   },
   {
    "duration": 1434,
    "start_time": "2024-06-25T23:42:19.674Z"
   },
   {
    "duration": 7,
    "start_time": "2024-06-25T23:42:21.111Z"
   },
   {
    "duration": 5,
    "start_time": "2024-06-25T23:42:21.121Z"
   },
   {
    "duration": 9,
    "start_time": "2024-06-25T23:42:21.129Z"
   },
   {
    "duration": 942777,
    "start_time": "2024-06-25T23:42:21.141Z"
   },
   {
    "duration": 5,
    "start_time": "2024-06-25T23:58:03.922Z"
   },
   {
    "duration": 5,
    "start_time": "2024-06-25T23:58:03.931Z"
   },
   {
    "duration": 2728,
    "start_time": "2024-06-25T23:58:03.939Z"
   },
   {
    "duration": 4,
    "start_time": "2024-06-26T02:14:47.181Z"
   },
   {
    "duration": 97,
    "start_time": "2024-06-26T02:16:26.708Z"
   },
   {
    "duration": 4,
    "start_time": "2024-06-26T02:16:59.027Z"
   },
   {
    "duration": 3,
    "start_time": "2024-06-26T02:17:44.519Z"
   },
   {
    "duration": 1240,
    "start_time": "2024-06-26T02:19:16.812Z"
   },
   {
    "duration": 59,
    "start_time": "2024-06-26T02:26:38.070Z"
   },
   {
    "duration": 3473,
    "start_time": "2024-06-26T02:36:57.259Z"
   },
   {
    "duration": 5,
    "start_time": "2024-06-26T02:37:00.737Z"
   },
   {
    "duration": 796,
    "start_time": "2024-06-26T02:37:00.746Z"
   },
   {
    "duration": 6,
    "start_time": "2024-06-26T02:37:01.547Z"
   },
   {
    "duration": 37,
    "start_time": "2024-06-26T02:37:01.556Z"
   },
   {
    "duration": 157,
    "start_time": "2024-06-26T02:37:01.596Z"
   },
   {
    "duration": 33,
    "start_time": "2024-06-26T02:37:01.757Z"
   },
   {
    "duration": 1168,
    "start_time": "2024-06-26T02:37:01.794Z"
   },
   {
    "duration": 167,
    "start_time": "2024-06-26T02:37:02.966Z"
   },
   {
    "duration": 19,
    "start_time": "2024-06-26T02:37:03.139Z"
   },
   {
    "duration": 47,
    "start_time": "2024-06-26T02:37:03.162Z"
   },
   {
    "duration": 36,
    "start_time": "2024-06-26T02:37:03.212Z"
   },
   {
    "duration": 93,
    "start_time": "2024-06-26T02:37:03.251Z"
   },
   {
    "duration": 7,
    "start_time": "2024-06-26T02:37:03.348Z"
   },
   {
    "duration": 42,
    "start_time": "2024-06-26T02:37:03.360Z"
   },
   {
    "duration": 7,
    "start_time": "2024-06-26T02:37:03.405Z"
   },
   {
    "duration": 21,
    "start_time": "2024-06-26T02:37:03.414Z"
   },
   {
    "duration": 56,
    "start_time": "2024-06-26T02:37:03.438Z"
   },
   {
    "duration": 34,
    "start_time": "2024-06-26T02:37:03.499Z"
   },
   {
    "duration": 110,
    "start_time": "2024-06-26T02:37:03.535Z"
   },
   {
    "duration": 19,
    "start_time": "2024-06-26T02:37:03.648Z"
   },
   {
    "duration": 422,
    "start_time": "2024-06-26T02:37:03.670Z"
   },
   {
    "duration": 117,
    "start_time": "2024-06-26T02:37:04.095Z"
   },
   {
    "duration": 41,
    "start_time": "2024-06-26T02:37:04.215Z"
   },
   {
    "duration": 67,
    "start_time": "2024-06-26T02:37:04.259Z"
   },
   {
    "duration": 374,
    "start_time": "2024-06-26T02:37:04.329Z"
   },
   {
    "duration": 55,
    "start_time": "2024-06-26T02:37:04.706Z"
   },
   {
    "duration": 42,
    "start_time": "2024-06-26T02:37:04.774Z"
   },
   {
    "duration": 83,
    "start_time": "2024-06-26T02:37:04.819Z"
   },
   {
    "duration": 28,
    "start_time": "2024-06-26T02:37:04.905Z"
   },
   {
    "duration": 7,
    "start_time": "2024-06-26T02:37:04.936Z"
   },
   {
    "duration": 70,
    "start_time": "2024-06-26T02:37:04.946Z"
   },
   {
    "duration": 17,
    "start_time": "2024-06-26T02:37:05.019Z"
   },
   {
    "duration": 97,
    "start_time": "2024-06-26T02:37:05.040Z"
   },
   {
    "duration": 105,
    "start_time": "2024-06-26T02:37:05.140Z"
   },
   {
    "duration": 11,
    "start_time": "2024-06-26T02:37:05.248Z"
   },
   {
    "duration": 51,
    "start_time": "2024-06-26T02:37:05.261Z"
   },
   {
    "duration": 3666,
    "start_time": "2024-06-26T02:37:24.792Z"
   },
   {
    "duration": 1427,
    "start_time": "2024-06-26T02:37:28.463Z"
   },
   {
    "duration": 917,
    "start_time": "2024-06-26T02:37:29.893Z"
   },
   {
    "duration": 7,
    "start_time": "2024-06-26T02:37:30.813Z"
   },
   {
    "duration": 20,
    "start_time": "2024-06-26T02:37:30.826Z"
   },
   {
    "duration": 175,
    "start_time": "2024-06-26T02:37:30.849Z"
   },
   {
    "duration": 22,
    "start_time": "2024-06-26T02:37:31.027Z"
   },
   {
    "duration": 1280,
    "start_time": "2024-06-26T02:37:31.052Z"
   },
   {
    "duration": 160,
    "start_time": "2024-06-26T02:37:32.336Z"
   },
   {
    "duration": 27,
    "start_time": "2024-06-26T02:37:32.499Z"
   },
   {
    "duration": 33,
    "start_time": "2024-06-26T02:37:32.530Z"
   },
   {
    "duration": 62,
    "start_time": "2024-06-26T02:37:32.566Z"
   },
   {
    "duration": 82,
    "start_time": "2024-06-26T02:37:32.630Z"
   },
   {
    "duration": 8,
    "start_time": "2024-06-26T02:37:32.720Z"
   },
   {
    "duration": 27,
    "start_time": "2024-06-26T02:37:32.732Z"
   },
   {
    "duration": 33,
    "start_time": "2024-06-26T02:37:32.763Z"
   },
   {
    "duration": 26,
    "start_time": "2024-06-26T02:37:32.805Z"
   },
   {
    "duration": 60,
    "start_time": "2024-06-26T02:37:32.836Z"
   },
   {
    "duration": 41,
    "start_time": "2024-06-26T02:37:32.900Z"
   },
   {
    "duration": 114,
    "start_time": "2024-06-26T02:37:32.945Z"
   },
   {
    "duration": 35,
    "start_time": "2024-06-26T02:37:33.062Z"
   },
   {
    "duration": 421,
    "start_time": "2024-06-26T02:37:33.101Z"
   },
   {
    "duration": 119,
    "start_time": "2024-06-26T02:37:33.525Z"
   },
   {
    "duration": 54,
    "start_time": "2024-06-26T02:37:33.647Z"
   },
   {
    "duration": 54,
    "start_time": "2024-06-26T02:37:33.704Z"
   },
   {
    "duration": 387,
    "start_time": "2024-06-26T02:37:33.762Z"
   },
   {
    "duration": 54,
    "start_time": "2024-06-26T02:37:34.151Z"
   },
   {
    "duration": 20,
    "start_time": "2024-06-26T02:37:34.208Z"
   },
   {
    "duration": 108,
    "start_time": "2024-06-26T02:37:34.232Z"
   },
   {
    "duration": 30,
    "start_time": "2024-06-26T02:37:34.343Z"
   },
   {
    "duration": 20,
    "start_time": "2024-06-26T02:37:34.375Z"
   },
   {
    "duration": 36,
    "start_time": "2024-06-26T02:37:34.398Z"
   },
   {
    "duration": 15,
    "start_time": "2024-06-26T02:37:34.439Z"
   },
   {
    "duration": 69,
    "start_time": "2024-06-26T02:37:34.490Z"
   },
   {
    "duration": 101,
    "start_time": "2024-06-26T02:37:34.563Z"
   },
   {
    "duration": 23,
    "start_time": "2024-06-26T02:37:34.668Z"
   },
   {
    "duration": 39,
    "start_time": "2024-06-26T02:37:34.695Z"
   },
   {
    "duration": 1976,
    "start_time": "2024-06-26T02:37:34.738Z"
   },
   {
    "duration": 418,
    "start_time": "2024-06-26T02:37:36.716Z"
   },
   {
    "duration": 25,
    "start_time": "2024-06-26T02:37:37.138Z"
   },
   {
    "duration": 26,
    "start_time": "2024-06-26T02:40:52.334Z"
   },
   {
    "duration": 499,
    "start_time": "2024-06-26T02:42:23.339Z"
   },
   {
    "duration": 972,
    "start_time": "2024-06-26T02:42:35.165Z"
   },
   {
    "duration": 466,
    "start_time": "2024-06-26T02:42:42.334Z"
   },
   {
    "duration": 25,
    "start_time": "2024-06-26T02:43:02.048Z"
   },
   {
    "duration": 3524,
    "start_time": "2024-06-26T02:43:09.806Z"
   },
   {
    "duration": 5,
    "start_time": "2024-06-26T02:43:13.334Z"
   },
   {
    "duration": 784,
    "start_time": "2024-06-26T02:43:13.342Z"
   },
   {
    "duration": 6,
    "start_time": "2024-06-26T02:43:14.131Z"
   },
   {
    "duration": 23,
    "start_time": "2024-06-26T02:43:14.140Z"
   },
   {
    "duration": 151,
    "start_time": "2024-06-26T02:43:14.191Z"
   },
   {
    "duration": 25,
    "start_time": "2024-06-26T02:43:14.345Z"
   },
   {
    "duration": 1179,
    "start_time": "2024-06-26T02:43:14.392Z"
   },
   {
    "duration": 161,
    "start_time": "2024-06-26T02:43:15.574Z"
   },
   {
    "duration": 18,
    "start_time": "2024-06-26T02:43:15.741Z"
   },
   {
    "duration": 45,
    "start_time": "2024-06-26T02:43:15.763Z"
   },
   {
    "duration": 35,
    "start_time": "2024-06-26T02:43:15.811Z"
   },
   {
    "duration": 81,
    "start_time": "2024-06-26T02:43:15.849Z"
   },
   {
    "duration": 7,
    "start_time": "2024-06-26T02:43:15.932Z"
   },
   {
    "duration": 22,
    "start_time": "2024-06-26T02:43:15.942Z"
   },
   {
    "duration": 26,
    "start_time": "2024-06-26T02:43:15.967Z"
   },
   {
    "duration": 21,
    "start_time": "2024-06-26T02:43:15.997Z"
   },
   {
    "duration": 23,
    "start_time": "2024-06-26T02:43:16.021Z"
   },
   {
    "duration": 67,
    "start_time": "2024-06-26T02:43:16.047Z"
   },
   {
    "duration": 108,
    "start_time": "2024-06-26T02:43:16.116Z"
   },
   {
    "duration": 19,
    "start_time": "2024-06-26T02:43:16.227Z"
   },
   {
    "duration": 421,
    "start_time": "2024-06-26T02:43:16.249Z"
   },
   {
    "duration": 116,
    "start_time": "2024-06-26T02:43:16.674Z"
   },
   {
    "duration": 48,
    "start_time": "2024-06-26T02:43:16.794Z"
   },
   {
    "duration": 85,
    "start_time": "2024-06-26T02:43:16.845Z"
   },
   {
    "duration": 366,
    "start_time": "2024-06-26T02:43:16.934Z"
   },
   {
    "duration": 44,
    "start_time": "2024-06-26T02:43:17.302Z"
   },
   {
    "duration": 39,
    "start_time": "2024-06-26T02:43:17.354Z"
   },
   {
    "duration": 70,
    "start_time": "2024-06-26T02:43:17.396Z"
   },
   {
    "duration": 30,
    "start_time": "2024-06-26T02:43:17.490Z"
   },
   {
    "duration": 7,
    "start_time": "2024-06-26T02:43:17.523Z"
   },
   {
    "duration": 66,
    "start_time": "2024-06-26T02:43:17.533Z"
   },
   {
    "duration": 16,
    "start_time": "2024-06-26T02:43:17.602Z"
   },
   {
    "duration": 91,
    "start_time": "2024-06-26T02:43:17.621Z"
   },
   {
    "duration": 99,
    "start_time": "2024-06-26T02:43:17.715Z"
   },
   {
    "duration": 10,
    "start_time": "2024-06-26T02:43:17.819Z"
   },
   {
    "duration": 26,
    "start_time": "2024-06-26T02:43:17.832Z"
   },
   {
    "duration": 33,
    "start_time": "2024-06-26T02:43:17.891Z"
   },
   {
    "duration": 1951,
    "start_time": "2024-06-26T02:43:17.927Z"
   },
   {
    "duration": 516,
    "start_time": "2024-06-26T02:43:19.881Z"
   },
   {
    "duration": 25,
    "start_time": "2024-06-26T02:43:20.401Z"
   },
   {
    "duration": 7,
    "start_time": "2024-06-26T02:43:20.429Z"
   },
   {
    "duration": 558,
    "start_time": "2024-06-26T02:43:20.438Z"
   },
   {
    "duration": 93,
    "start_time": "2024-06-26T02:43:20.999Z"
   },
   {
    "duration": 11,
    "start_time": "2024-06-26T02:43:21.102Z"
   },
   {
    "duration": 3,
    "start_time": "2024-06-26T02:43:21.192Z"
   },
   {
    "duration": 5,
    "start_time": "2024-06-26T02:43:21.199Z"
   },
   {
    "duration": 5,
    "start_time": "2024-06-26T02:43:21.208Z"
   },
   {
    "duration": 4,
    "start_time": "2024-06-26T02:43:21.217Z"
   },
   {
    "duration": 85,
    "start_time": "2024-06-26T02:43:21.224Z"
   },
   {
    "duration": 0,
    "start_time": "2024-06-26T02:43:21.312Z"
   },
   {
    "duration": 0,
    "start_time": "2024-06-26T02:43:21.314Z"
   },
   {
    "duration": 0,
    "start_time": "2024-06-26T02:43:21.317Z"
   },
   {
    "duration": 0,
    "start_time": "2024-06-26T02:43:21.318Z"
   },
   {
    "duration": 0,
    "start_time": "2024-06-26T02:43:21.320Z"
   },
   {
    "duration": 0,
    "start_time": "2024-06-26T02:43:21.322Z"
   },
   {
    "duration": 701,
    "start_time": "2024-06-26T02:45:28.190Z"
   },
   {
    "duration": 25,
    "start_time": "2024-06-26T02:45:37.023Z"
   },
   {
    "duration": 7,
    "start_time": "2024-06-26T02:46:11.376Z"
   },
   {
    "duration": 7,
    "start_time": "2024-06-26T02:46:16.007Z"
   },
   {
    "duration": 5,
    "start_time": "2024-06-26T02:46:24.062Z"
   },
   {
    "duration": 8,
    "start_time": "2024-06-26T02:46:27.963Z"
   },
   {
    "duration": 969,
    "start_time": "2024-06-26T02:46:36.613Z"
   },
   {
    "duration": 6,
    "start_time": "2024-06-26T02:47:26.428Z"
   },
   {
    "duration": 3599,
    "start_time": "2024-06-26T02:47:53.253Z"
   },
   {
    "duration": 6,
    "start_time": "2024-06-26T02:47:56.856Z"
   },
   {
    "duration": 804,
    "start_time": "2024-06-26T02:47:56.866Z"
   },
   {
    "duration": 16,
    "start_time": "2024-06-26T02:47:57.674Z"
   },
   {
    "duration": 20,
    "start_time": "2024-06-26T02:47:57.693Z"
   },
   {
    "duration": 159,
    "start_time": "2024-06-26T02:47:57.716Z"
   },
   {
    "duration": 24,
    "start_time": "2024-06-26T02:47:57.891Z"
   },
   {
    "duration": 1185,
    "start_time": "2024-06-26T02:47:57.918Z"
   },
   {
    "duration": 150,
    "start_time": "2024-06-26T02:47:59.106Z"
   },
   {
    "duration": 36,
    "start_time": "2024-06-26T02:47:59.262Z"
   },
   {
    "duration": 23,
    "start_time": "2024-06-26T02:47:59.301Z"
   },
   {
    "duration": 66,
    "start_time": "2024-06-26T02:47:59.327Z"
   },
   {
    "duration": 60,
    "start_time": "2024-06-26T02:47:59.396Z"
   },
   {
    "duration": 6,
    "start_time": "2024-06-26T02:47:59.459Z"
   },
   {
    "duration": 38,
    "start_time": "2024-06-26T02:47:59.468Z"
   },
   {
    "duration": 7,
    "start_time": "2024-06-26T02:47:59.509Z"
   },
   {
    "duration": 20,
    "start_time": "2024-06-26T02:47:59.519Z"
   },
   {
    "duration": 65,
    "start_time": "2024-06-26T02:47:59.543Z"
   },
   {
    "duration": 34,
    "start_time": "2024-06-26T02:47:59.611Z"
   },
   {
    "duration": 123,
    "start_time": "2024-06-26T02:47:59.648Z"
   },
   {
    "duration": 30,
    "start_time": "2024-06-26T02:47:59.773Z"
   },
   {
    "duration": 393,
    "start_time": "2024-06-26T02:47:59.805Z"
   },
   {
    "duration": 117,
    "start_time": "2024-06-26T02:48:00.202Z"
   },
   {
    "duration": 40,
    "start_time": "2024-06-26T02:48:00.322Z"
   },
   {
    "duration": 70,
    "start_time": "2024-06-26T02:48:00.365Z"
   },
   {
    "duration": 369,
    "start_time": "2024-06-26T02:48:00.438Z"
   },
   {
    "duration": 45,
    "start_time": "2024-06-26T02:48:00.812Z"
   },
   {
    "duration": 36,
    "start_time": "2024-06-26T02:48:00.869Z"
   },
   {
    "duration": 86,
    "start_time": "2024-06-26T02:48:00.909Z"
   },
   {
    "duration": 29,
    "start_time": "2024-06-26T02:48:00.998Z"
   },
   {
    "duration": 7,
    "start_time": "2024-06-26T02:48:01.030Z"
   },
   {
    "duration": 73,
    "start_time": "2024-06-26T02:48:01.040Z"
   },
   {
    "duration": 15,
    "start_time": "2024-06-26T02:48:01.115Z"
   },
   {
    "duration": 91,
    "start_time": "2024-06-26T02:48:01.134Z"
   },
   {
    "duration": 96,
    "start_time": "2024-06-26T02:48:01.228Z"
   },
   {
    "duration": 11,
    "start_time": "2024-06-26T02:48:01.327Z"
   },
   {
    "duration": 57,
    "start_time": "2024-06-26T02:48:01.341Z"
   },
   {
    "duration": 31,
    "start_time": "2024-06-26T02:48:01.401Z"
   },
   {
    "duration": 1998,
    "start_time": "2024-06-26T02:48:01.435Z"
   },
   {
    "duration": 420,
    "start_time": "2024-06-26T02:48:03.435Z"
   },
   {
    "duration": 35,
    "start_time": "2024-06-26T02:48:03.859Z"
   },
   {
    "duration": 7,
    "start_time": "2024-06-26T02:48:03.897Z"
   },
   {
    "duration": 499,
    "start_time": "2024-06-26T02:48:03.907Z"
   },
   {
    "duration": 97,
    "start_time": "2024-06-26T02:48:04.409Z"
   },
   {
    "duration": 11,
    "start_time": "2024-06-26T02:48:04.509Z"
   },
   {
    "duration": 68,
    "start_time": "2024-06-26T02:48:04.524Z"
   },
   {
    "duration": 6,
    "start_time": "2024-06-26T02:48:04.595Z"
   },
   {
    "duration": 6,
    "start_time": "2024-06-26T02:48:04.604Z"
   },
   {
    "duration": 80,
    "start_time": "2024-06-26T02:48:04.613Z"
   },
   {
    "duration": 38,
    "start_time": "2024-06-26T02:48:04.698Z"
   },
   {
    "duration": 0,
    "start_time": "2024-06-26T02:48:04.739Z"
   },
   {
    "duration": 0,
    "start_time": "2024-06-26T02:48:04.742Z"
   },
   {
    "duration": 0,
    "start_time": "2024-06-26T02:48:04.744Z"
   },
   {
    "duration": 0,
    "start_time": "2024-06-26T02:48:04.747Z"
   },
   {
    "duration": 0,
    "start_time": "2024-06-26T02:48:04.750Z"
   },
   {
    "duration": 0,
    "start_time": "2024-06-26T02:48:04.752Z"
   },
   {
    "duration": 0,
    "start_time": "2024-06-26T02:48:04.754Z"
   },
   {
    "duration": 6868,
    "start_time": "2024-06-26T02:50:12.133Z"
   },
   {
    "duration": 9519,
    "start_time": "2024-06-26T02:50:22.494Z"
   },
   {
    "duration": 587,
    "start_time": "2024-06-26T02:50:47.313Z"
   },
   {
    "duration": 35,
    "start_time": "2024-06-26T02:52:26.328Z"
   },
   {
    "duration": 611,
    "start_time": "2024-06-26T02:52:28.601Z"
   },
   {
    "duration": 5,
    "start_time": "2024-06-26T02:52:31.480Z"
   },
   {
    "duration": 4814,
    "start_time": "2024-06-26T02:53:03.786Z"
   },
   {
    "duration": 5058,
    "start_time": "2024-06-26T02:59:58.948Z"
   },
   {
    "duration": 10,
    "start_time": "2024-06-26T03:05:25.558Z"
   },
   {
    "duration": 6,
    "start_time": "2024-06-26T03:05:41.164Z"
   },
   {
    "duration": 6,
    "start_time": "2024-06-26T03:05:49.943Z"
   },
   {
    "duration": 7,
    "start_time": "2024-06-26T03:05:55.862Z"
   },
   {
    "duration": 6,
    "start_time": "2024-06-26T03:06:00.577Z"
   },
   {
    "duration": 4,
    "start_time": "2024-06-26T03:06:06.314Z"
   },
   {
    "duration": 31,
    "start_time": "2024-06-26T03:08:29.010Z"
   },
   {
    "duration": 4,
    "start_time": "2024-06-26T03:08:35.560Z"
   },
   {
    "duration": 4,
    "start_time": "2024-06-26T03:08:36.798Z"
   },
   {
    "duration": 0,
    "start_time": "2024-06-26T03:12:01.004Z"
   },
   {
    "duration": 0,
    "start_time": "2024-06-26T03:12:01.007Z"
   },
   {
    "duration": 5,
    "start_time": "2024-06-26T03:12:08.548Z"
   },
   {
    "duration": 1289,
    "start_time": "2024-06-26T03:12:11.721Z"
   },
   {
    "duration": 3686,
    "start_time": "2024-06-26T03:12:34.701Z"
   },
   {
    "duration": 1422,
    "start_time": "2024-06-26T03:12:38.392Z"
   },
   {
    "duration": 873,
    "start_time": "2024-06-26T03:12:39.817Z"
   },
   {
    "duration": 6,
    "start_time": "2024-06-26T03:12:40.696Z"
   },
   {
    "duration": 19,
    "start_time": "2024-06-26T03:12:40.705Z"
   },
   {
    "duration": 177,
    "start_time": "2024-06-26T03:12:40.727Z"
   },
   {
    "duration": 29,
    "start_time": "2024-06-26T03:12:40.908Z"
   },
   {
    "duration": 1403,
    "start_time": "2024-06-26T03:12:40.941Z"
   },
   {
    "duration": 163,
    "start_time": "2024-06-26T03:12:42.347Z"
   },
   {
    "duration": 21,
    "start_time": "2024-06-26T03:12:42.517Z"
   },
   {
    "duration": 57,
    "start_time": "2024-06-26T03:12:42.541Z"
   },
   {
    "duration": 42,
    "start_time": "2024-06-26T03:12:42.602Z"
   },
   {
    "duration": 102,
    "start_time": "2024-06-26T03:12:42.648Z"
   },
   {
    "duration": 8,
    "start_time": "2024-06-26T03:12:42.755Z"
   },
   {
    "duration": 38,
    "start_time": "2024-06-26T03:12:42.766Z"
   },
   {
    "duration": 6,
    "start_time": "2024-06-26T03:12:42.808Z"
   },
   {
    "duration": 21,
    "start_time": "2024-06-26T03:12:42.817Z"
   },
   {
    "duration": 61,
    "start_time": "2024-06-26T03:12:42.842Z"
   },
   {
    "duration": 34,
    "start_time": "2024-06-26T03:12:42.906Z"
   },
   {
    "duration": 119,
    "start_time": "2024-06-26T03:12:42.943Z"
   },
   {
    "duration": 33,
    "start_time": "2024-06-26T03:12:43.066Z"
   },
   {
    "duration": 434,
    "start_time": "2024-06-26T03:12:43.102Z"
   },
   {
    "duration": 121,
    "start_time": "2024-06-26T03:12:43.540Z"
   },
   {
    "duration": 61,
    "start_time": "2024-06-26T03:12:43.663Z"
   },
   {
    "duration": 68,
    "start_time": "2024-06-26T03:12:43.727Z"
   },
   {
    "duration": 357,
    "start_time": "2024-06-26T03:12:43.798Z"
   },
   {
    "duration": 53,
    "start_time": "2024-06-26T03:12:44.158Z"
   },
   {
    "duration": 19,
    "start_time": "2024-06-26T03:12:44.219Z"
   },
   {
    "duration": 106,
    "start_time": "2024-06-26T03:12:44.242Z"
   },
   {
    "duration": 46,
    "start_time": "2024-06-26T03:12:44.352Z"
   },
   {
    "duration": 7,
    "start_time": "2024-06-26T03:12:44.401Z"
   },
   {
    "duration": 35,
    "start_time": "2024-06-26T03:12:44.411Z"
   },
   {
    "duration": 50,
    "start_time": "2024-06-26T03:12:44.449Z"
   },
   {
    "duration": 90,
    "start_time": "2024-06-26T03:12:44.502Z"
   },
   {
    "duration": 100,
    "start_time": "2024-06-26T03:12:44.595Z"
   },
   {
    "duration": 12,
    "start_time": "2024-06-26T03:12:44.698Z"
   },
   {
    "duration": 25,
    "start_time": "2024-06-26T03:12:44.713Z"
   },
   {
    "duration": 75,
    "start_time": "2024-06-26T03:12:44.742Z"
   },
   {
    "duration": 2040,
    "start_time": "2024-06-26T03:12:44.821Z"
   },
   {
    "duration": 937,
    "start_time": "2024-06-26T03:12:46.864Z"
   },
   {
    "duration": 0,
    "start_time": "2024-06-26T03:12:47.805Z"
   },
   {
    "duration": 0,
    "start_time": "2024-06-26T03:12:47.808Z"
   },
   {
    "duration": 0,
    "start_time": "2024-06-26T03:12:47.811Z"
   },
   {
    "duration": 0,
    "start_time": "2024-06-26T03:12:47.815Z"
   },
   {
    "duration": 0,
    "start_time": "2024-06-26T03:12:47.818Z"
   },
   {
    "duration": 1,
    "start_time": "2024-06-26T03:12:47.821Z"
   },
   {
    "duration": 0,
    "start_time": "2024-06-26T03:12:47.825Z"
   },
   {
    "duration": 0,
    "start_time": "2024-06-26T03:12:47.828Z"
   },
   {
    "duration": 0,
    "start_time": "2024-06-26T03:12:47.831Z"
   },
   {
    "duration": 0,
    "start_time": "2024-06-26T03:12:47.834Z"
   },
   {
    "duration": 0,
    "start_time": "2024-06-26T03:12:47.837Z"
   },
   {
    "duration": 0,
    "start_time": "2024-06-26T03:12:47.891Z"
   },
   {
    "duration": 0,
    "start_time": "2024-06-26T03:12:47.895Z"
   },
   {
    "duration": 0,
    "start_time": "2024-06-26T03:12:47.898Z"
   },
   {
    "duration": 0,
    "start_time": "2024-06-26T03:12:47.901Z"
   },
   {
    "duration": 0,
    "start_time": "2024-06-26T03:12:47.903Z"
   },
   {
    "duration": 0,
    "start_time": "2024-06-26T03:12:47.906Z"
   },
   {
    "duration": 0,
    "start_time": "2024-06-26T03:12:47.908Z"
   },
   {
    "duration": 0,
    "start_time": "2024-06-26T03:12:47.911Z"
   },
   {
    "duration": 0,
    "start_time": "2024-06-26T03:12:47.914Z"
   },
   {
    "duration": 0,
    "start_time": "2024-06-26T03:12:47.917Z"
   },
   {
    "duration": 0,
    "start_time": "2024-06-26T03:12:47.920Z"
   },
   {
    "duration": 0,
    "start_time": "2024-06-26T03:12:47.922Z"
   },
   {
    "duration": 3545,
    "start_time": "2024-06-26T03:13:41.418Z"
   },
   {
    "duration": 1369,
    "start_time": "2024-06-26T03:13:44.968Z"
   },
   {
    "duration": 861,
    "start_time": "2024-06-26T03:13:46.340Z"
   },
   {
    "duration": 7,
    "start_time": "2024-06-26T03:13:47.205Z"
   },
   {
    "duration": 20,
    "start_time": "2024-06-26T03:13:47.220Z"
   },
   {
    "duration": 170,
    "start_time": "2024-06-26T03:13:47.244Z"
   },
   {
    "duration": 23,
    "start_time": "2024-06-26T03:13:47.416Z"
   },
   {
    "duration": 1279,
    "start_time": "2024-06-26T03:13:47.442Z"
   },
   {
    "duration": 147,
    "start_time": "2024-06-26T03:13:48.724Z"
   },
   {
    "duration": 32,
    "start_time": "2024-06-26T03:13:48.874Z"
   },
   {
    "duration": 24,
    "start_time": "2024-06-26T03:13:48.909Z"
   },
   {
    "duration": 70,
    "start_time": "2024-06-26T03:13:48.936Z"
   },
   {
    "duration": 59,
    "start_time": "2024-06-26T03:13:49.009Z"
   },
   {
    "duration": 7,
    "start_time": "2024-06-26T03:13:49.089Z"
   },
   {
    "duration": 19,
    "start_time": "2024-06-26T03:13:49.099Z"
   },
   {
    "duration": 5,
    "start_time": "2024-06-26T03:13:49.123Z"
   },
   {
    "duration": 21,
    "start_time": "2024-06-26T03:13:49.131Z"
   },
   {
    "duration": 24,
    "start_time": "2024-06-26T03:13:49.191Z"
   },
   {
    "duration": 34,
    "start_time": "2024-06-26T03:13:49.217Z"
   },
   {
    "duration": 112,
    "start_time": "2024-06-26T03:13:49.254Z"
   },
   {
    "duration": 29,
    "start_time": "2024-06-26T03:13:49.368Z"
   },
   {
    "duration": 429,
    "start_time": "2024-06-26T03:13:49.401Z"
   },
   {
    "duration": 127,
    "start_time": "2024-06-26T03:13:49.834Z"
   },
   {
    "duration": 40,
    "start_time": "2024-06-26T03:13:49.964Z"
   },
   {
    "duration": 52,
    "start_time": "2024-06-26T03:13:50.007Z"
   },
   {
    "duration": 378,
    "start_time": "2024-06-26T03:13:50.062Z"
   },
   {
    "duration": 49,
    "start_time": "2024-06-26T03:13:50.443Z"
   },
   {
    "duration": 22,
    "start_time": "2024-06-26T03:13:50.495Z"
   },
   {
    "duration": 113,
    "start_time": "2024-06-26T03:13:50.521Z"
   },
   {
    "duration": 28,
    "start_time": "2024-06-26T03:13:50.637Z"
   },
   {
    "duration": 26,
    "start_time": "2024-06-26T03:13:50.668Z"
   },
   {
    "duration": 34,
    "start_time": "2024-06-26T03:13:50.697Z"
   },
   {
    "duration": 17,
    "start_time": "2024-06-26T03:13:50.734Z"
   },
   {
    "duration": 104,
    "start_time": "2024-06-26T03:13:50.755Z"
   },
   {
    "duration": 107,
    "start_time": "2024-06-26T03:13:50.863Z"
   },
   {
    "duration": 19,
    "start_time": "2024-06-26T03:13:50.973Z"
   },
   {
    "duration": 25,
    "start_time": "2024-06-26T03:13:50.995Z"
   },
   {
    "duration": 31,
    "start_time": "2024-06-26T03:13:51.023Z"
   },
   {
    "duration": 2175,
    "start_time": "2024-06-26T03:13:51.091Z"
   },
   {
    "duration": 417,
    "start_time": "2024-06-26T03:13:53.268Z"
   },
   {
    "duration": 24,
    "start_time": "2024-06-26T03:13:53.700Z"
   },
   {
    "duration": 7,
    "start_time": "2024-06-26T03:13:53.727Z"
   },
   {
    "duration": 562,
    "start_time": "2024-06-26T03:13:53.737Z"
   },
   {
    "duration": 95,
    "start_time": "2024-06-26T03:13:54.303Z"
   },
   {
    "duration": 10,
    "start_time": "2024-06-26T03:13:54.401Z"
   },
   {
    "duration": 76,
    "start_time": "2024-06-26T03:13:54.415Z"
   },
   {
    "duration": 7,
    "start_time": "2024-06-26T03:13:54.494Z"
   },
   {
    "duration": 7,
    "start_time": "2024-06-26T03:13:54.504Z"
   },
   {
    "duration": 79,
    "start_time": "2024-06-26T03:13:54.513Z"
   },
   {
    "duration": 4,
    "start_time": "2024-06-26T03:13:54.595Z"
   },
   {
    "duration": 7,
    "start_time": "2024-06-26T03:13:54.602Z"
   },
   {
    "duration": 4,
    "start_time": "2024-06-26T03:13:54.612Z"
   },
   {
    "duration": 6,
    "start_time": "2024-06-26T03:13:54.619Z"
   },
   {
    "duration": 4,
    "start_time": "2024-06-26T03:13:54.628Z"
   },
   {
    "duration": 6,
    "start_time": "2024-06-26T03:13:54.692Z"
   },
   {
    "duration": 6110,
    "start_time": "2024-06-26T03:13:54.701Z"
   },
   {
    "duration": 608,
    "start_time": "2024-06-26T03:14:00.815Z"
   },
   {
    "duration": 65,
    "start_time": "2024-06-26T03:14:01.426Z"
   },
   {
    "duration": 5,
    "start_time": "2024-06-26T03:14:01.495Z"
   },
   {
    "duration": 4,
    "start_time": "2024-06-26T03:14:01.503Z"
   },
   {
    "duration": 501345,
    "start_time": "2024-06-26T03:14:01.510Z"
   },
   {
    "duration": 2033,
    "start_time": "2024-06-26T03:22:22.858Z"
   },
   {
    "duration": 72,
    "start_time": "2024-06-26T03:22:24.895Z"
   },
   {
    "duration": 4,
    "start_time": "2024-06-26T03:23:11.444Z"
   },
   {
    "duration": 4,
    "start_time": "2024-06-26T03:23:12.729Z"
   },
   {
    "duration": 705657,
    "start_time": "2024-06-26T03:23:14.999Z"
   },
   {
    "duration": 234,
    "start_time": "2024-06-26T03:35:00.693Z"
   },
   {
    "duration": 0,
    "start_time": "2024-06-26T03:35:00.930Z"
   },
   {
    "duration": 4,
    "start_time": "2024-06-26T03:35:18.939Z"
   },
   {
    "duration": 4,
    "start_time": "2024-06-26T03:35:23.161Z"
   },
   {
    "duration": 5,
    "start_time": "2024-06-26T03:35:24.621Z"
   },
   {
    "duration": 4,
    "start_time": "2024-06-26T03:35:26.157Z"
   },
   {
    "duration": 319502,
    "start_time": "2024-06-26T03:35:27.694Z"
   },
   {
    "duration": 4708,
    "start_time": "2024-06-26T03:40:47.201Z"
   },
   {
    "duration": 678,
    "start_time": "2024-06-26T03:40:51.914Z"
   },
   {
    "duration": 4,
    "start_time": "2024-06-26T03:42:05.416Z"
   },
   {
    "duration": 3,
    "start_time": "2024-06-26T03:42:43.684Z"
   },
   {
    "duration": 174,
    "start_time": "2024-06-26T03:43:26.021Z"
   },
   {
    "duration": 4,
    "start_time": "2024-06-26T03:43:37.579Z"
   },
   {
    "duration": 24,
    "start_time": "2024-06-26T03:43:38.886Z"
   },
   {
    "duration": 5,
    "start_time": "2024-06-26T03:43:54.009Z"
   },
   {
    "duration": 1102,
    "start_time": "2024-06-26T03:45:38.423Z"
   },
   {
    "duration": 1076,
    "start_time": "2024-06-26T03:45:55.521Z"
   },
   {
    "duration": 549,
    "start_time": "2024-06-26T03:54:27.068Z"
   },
   {
    "duration": 600,
    "start_time": "2024-06-26T03:54:30.901Z"
   },
   {
    "duration": 5,
    "start_time": "2024-06-26T03:54:31.504Z"
   },
   {
    "duration": 1179,
    "start_time": "2024-06-26T03:54:31.512Z"
   },
   {
    "duration": 202,
    "start_time": "2024-06-26T03:57:30.827Z"
   },
   {
    "duration": 5,
    "start_time": "2024-06-26T03:57:58.976Z"
   },
   {
    "duration": 45849,
    "start_time": "2024-06-26T03:59:17.707Z"
   },
   {
    "duration": 439,
    "start_time": "2024-06-26T04:01:40.935Z"
   },
   {
    "duration": 27,
    "start_time": "2024-06-26T04:01:47.258Z"
   },
   {
    "duration": 715,
    "start_time": "2024-06-26T04:02:16.790Z"
   },
   {
    "duration": 6,
    "start_time": "2024-06-26T04:02:53.279Z"
   },
   {
    "duration": 6,
    "start_time": "2024-06-26T04:02:56.847Z"
   },
   {
    "duration": 65,
    "start_time": "2024-06-26T04:03:15.180Z"
   },
   {
    "duration": 893,
    "start_time": "2024-06-26T04:03:18.381Z"
   },
   {
    "duration": 7,
    "start_time": "2024-06-26T04:03:44.900Z"
   },
   {
    "duration": 6,
    "start_time": "2024-06-26T04:03:46.256Z"
   },
   {
    "duration": 26,
    "start_time": "2024-06-26T04:04:08.425Z"
   },
   {
    "duration": 25,
    "start_time": "2024-06-26T04:06:54.138Z"
   },
   {
    "duration": 17,
    "start_time": "2024-06-26T04:06:56.834Z"
   },
   {
    "duration": 3,
    "start_time": "2024-06-26T04:07:36.959Z"
   },
   {
    "duration": 7048,
    "start_time": "2024-06-26T04:07:45.761Z"
   },
   {
    "duration": 324860,
    "start_time": "2024-06-26T04:08:23.631Z"
   },
   {
    "duration": 28,
    "start_time": "2024-06-26T04:19:59.104Z"
   },
   {
    "duration": 31,
    "start_time": "2024-06-26T04:20:01.787Z"
   },
   {
    "duration": 193,
    "start_time": "2024-06-26T04:21:06.241Z"
   },
   {
    "duration": 61,
    "start_time": "2024-06-26T04:21:16.692Z"
   },
   {
    "duration": 1079,
    "start_time": "2024-06-26T04:21:23.047Z"
   },
   {
    "duration": 1067,
    "start_time": "2024-06-26T04:21:29.050Z"
   },
   {
    "duration": 1003,
    "start_time": "2024-06-26T04:21:54.694Z"
   },
   {
    "duration": 1033,
    "start_time": "2024-06-26T04:22:02.571Z"
   },
   {
    "duration": 1135,
    "start_time": "2024-06-26T04:22:16.032Z"
   },
   {
    "duration": 4,
    "start_time": "2024-06-26T04:29:46.984Z"
   },
   {
    "duration": 193,
    "start_time": "2024-06-26T04:30:01.446Z"
   },
   {
    "duration": 8,
    "start_time": "2024-06-26T04:30:16.919Z"
   },
   {
    "duration": 4,
    "start_time": "2024-06-26T04:30:18.514Z"
   },
   {
    "duration": 3,
    "start_time": "2024-06-26T04:30:21.112Z"
   },
   {
    "duration": 52,
    "start_time": "2024-06-26T04:38:10.471Z"
   },
   {
    "duration": 3,
    "start_time": "2024-06-26T04:38:27.984Z"
   },
   {
    "duration": 23,
    "start_time": "2024-06-26T04:38:48.313Z"
   },
   {
    "duration": 1695,
    "start_time": "2024-06-26T04:39:22.025Z"
   },
   {
    "duration": 1283421,
    "start_time": "2024-06-26T04:40:15.156Z"
   },
   {
    "duration": 3,
    "start_time": "2024-06-26T05:02:33.646Z"
   },
   {
    "duration": 4,
    "start_time": "2024-06-26T05:02:36.118Z"
   },
   {
    "duration": 150158,
    "start_time": "2024-06-26T05:02:39.651Z"
   },
   {
    "duration": 6,
    "start_time": "2024-06-26T05:05:22.704Z"
   },
   {
    "duration": 9,
    "start_time": "2024-06-26T05:05:24.581Z"
   },
   {
    "duration": 145700,
    "start_time": "2024-06-26T05:05:25.916Z"
   },
   {
    "duration": 4,
    "start_time": "2024-06-26T05:08:53.647Z"
   },
   {
    "duration": 36,
    "start_time": "2024-06-26T05:08:58.307Z"
   },
   {
    "duration": 26,
    "start_time": "2024-06-26T05:09:21.774Z"
   },
   {
    "duration": 23,
    "start_time": "2024-06-26T05:09:27.831Z"
   },
   {
    "duration": 25,
    "start_time": "2024-06-26T05:09:54.117Z"
   },
   {
    "duration": 4,
    "start_time": "2024-06-26T05:09:57.728Z"
   },
   {
    "duration": 3,
    "start_time": "2024-06-26T05:11:43.716Z"
   },
   {
    "duration": 188,
    "start_time": "2024-06-26T05:11:51.623Z"
   },
   {
    "duration": 22,
    "start_time": "2024-06-26T05:12:06.785Z"
   },
   {
    "duration": 23,
    "start_time": "2024-06-26T05:12:26.026Z"
   },
   {
    "duration": 6,
    "start_time": "2024-06-26T05:12:57.807Z"
   },
   {
    "duration": 3,
    "start_time": "2024-06-26T05:13:15.870Z"
   },
   {
    "duration": 4,
    "start_time": "2024-06-26T05:13:17.529Z"
   },
   {
    "duration": 144981,
    "start_time": "2024-06-26T05:13:21.940Z"
   },
   {
    "duration": 4,
    "start_time": "2024-06-26T05:15:50.877Z"
   },
   {
    "duration": 6,
    "start_time": "2024-06-26T05:15:52.140Z"
   },
   {
    "duration": 199,
    "start_time": "2024-06-26T05:15:53.773Z"
   },
   {
    "duration": 7,
    "start_time": "2024-06-26T05:17:20.485Z"
   },
   {
    "duration": 4,
    "start_time": "2024-06-26T05:17:27.327Z"
   },
   {
    "duration": 56,
    "start_time": "2024-06-26T05:17:28.634Z"
   },
   {
    "duration": 4,
    "start_time": "2024-06-26T05:17:41.135Z"
   },
   {
    "duration": 24,
    "start_time": "2024-06-26T05:17:45.776Z"
   },
   {
    "duration": 4,
    "start_time": "2024-06-26T05:18:25.942Z"
   },
   {
    "duration": 77,
    "start_time": "2024-06-26T05:18:27.661Z"
   },
   {
    "duration": 4,
    "start_time": "2024-06-26T05:18:35.324Z"
   },
   {
    "duration": 4,
    "start_time": "2024-06-26T05:18:36.613Z"
   },
   {
    "duration": 6045,
    "start_time": "2024-06-26T05:18:40.854Z"
   },
   {
    "duration": 4,
    "start_time": "2024-06-26T05:18:50.898Z"
   },
   {
    "duration": 4,
    "start_time": "2024-06-26T05:18:52.264Z"
   },
   {
    "duration": 3062458,
    "start_time": "2024-06-26T05:18:53.984Z"
   },
   {
    "duration": 4,
    "start_time": "2024-06-26T06:09:56.445Z"
   },
   {
    "duration": 5,
    "start_time": "2024-06-26T06:09:56.453Z"
   },
   {
    "duration": 1076,
    "start_time": "2024-06-26T06:09:56.462Z"
   },
   {
    "duration": 3904,
    "start_time": "2024-06-26T18:28:47.164Z"
   },
   {
    "duration": 1564,
    "start_time": "2024-06-26T18:28:51.072Z"
   },
   {
    "duration": 955,
    "start_time": "2024-06-26T18:28:52.639Z"
   },
   {
    "duration": 9,
    "start_time": "2024-06-26T18:28:53.606Z"
   },
   {
    "duration": 22,
    "start_time": "2024-06-26T18:28:53.618Z"
   },
   {
    "duration": 203,
    "start_time": "2024-06-26T18:28:53.646Z"
   },
   {
    "duration": 40,
    "start_time": "2024-06-26T18:28:53.853Z"
   },
   {
    "duration": 1280,
    "start_time": "2024-06-26T18:28:53.896Z"
   },
   {
    "duration": 150,
    "start_time": "2024-06-26T18:28:55.179Z"
   },
   {
    "duration": 18,
    "start_time": "2024-06-26T18:28:55.335Z"
   },
   {
    "duration": 48,
    "start_time": "2024-06-26T18:28:55.357Z"
   },
   {
    "duration": 40,
    "start_time": "2024-06-26T18:28:55.408Z"
   },
   {
    "duration": 88,
    "start_time": "2024-06-26T18:28:55.451Z"
   },
   {
    "duration": 10,
    "start_time": "2024-06-26T18:28:55.542Z"
   },
   {
    "duration": 46,
    "start_time": "2024-06-26T18:28:55.556Z"
   },
   {
    "duration": 8,
    "start_time": "2024-06-26T18:28:55.606Z"
   },
   {
    "duration": 24,
    "start_time": "2024-06-26T18:28:55.617Z"
   },
   {
    "duration": 60,
    "start_time": "2024-06-26T18:28:55.644Z"
   },
   {
    "duration": 43,
    "start_time": "2024-06-26T18:28:55.707Z"
   },
   {
    "duration": 139,
    "start_time": "2024-06-26T18:28:55.753Z"
   },
   {
    "duration": 19,
    "start_time": "2024-06-26T18:28:55.895Z"
   },
   {
    "duration": 422,
    "start_time": "2024-06-26T18:28:55.917Z"
   },
   {
    "duration": 127,
    "start_time": "2024-06-26T18:28:56.342Z"
   },
   {
    "duration": 43,
    "start_time": "2024-06-26T18:28:56.472Z"
   },
   {
    "duration": 76,
    "start_time": "2024-06-26T18:28:56.518Z"
   },
   {
    "duration": 397,
    "start_time": "2024-06-26T18:28:56.597Z"
   },
   {
    "duration": 44,
    "start_time": "2024-06-26T18:28:56.996Z"
   },
   {
    "duration": 44,
    "start_time": "2024-06-26T18:28:57.050Z"
   },
   {
    "duration": 95,
    "start_time": "2024-06-26T18:28:57.097Z"
   },
   {
    "duration": 30,
    "start_time": "2024-06-26T18:28:57.194Z"
   },
   {
    "duration": 6,
    "start_time": "2024-06-26T18:28:57.227Z"
   },
   {
    "duration": 66,
    "start_time": "2024-06-26T18:28:57.237Z"
   },
   {
    "duration": 15,
    "start_time": "2024-06-26T18:28:57.306Z"
   },
   {
    "duration": 96,
    "start_time": "2024-06-26T18:28:57.324Z"
   },
   {
    "duration": 98,
    "start_time": "2024-06-26T18:28:57.423Z"
   },
   {
    "duration": 11,
    "start_time": "2024-06-26T18:28:57.524Z"
   },
   {
    "duration": 54,
    "start_time": "2024-06-26T18:28:57.538Z"
   },
   {
    "duration": 34,
    "start_time": "2024-06-26T18:28:57.596Z"
   },
   {
    "duration": 1981,
    "start_time": "2024-06-26T18:28:57.633Z"
   },
   {
    "duration": 521,
    "start_time": "2024-06-26T18:28:59.616Z"
   },
   {
    "duration": 25,
    "start_time": "2024-06-26T18:29:00.140Z"
   },
   {
    "duration": 24,
    "start_time": "2024-06-26T18:29:00.168Z"
   },
   {
    "duration": 507,
    "start_time": "2024-06-26T18:29:00.195Z"
   },
   {
    "duration": 99,
    "start_time": "2024-06-26T18:29:00.705Z"
   },
   {
    "duration": 14,
    "start_time": "2024-06-26T18:29:00.807Z"
   },
   {
    "duration": 4,
    "start_time": "2024-06-26T18:29:00.892Z"
   },
   {
    "duration": 5,
    "start_time": "2024-06-26T18:29:00.899Z"
   },
   {
    "duration": 82,
    "start_time": "2024-06-26T18:29:00.909Z"
   },
   {
    "duration": 4,
    "start_time": "2024-06-26T18:29:00.994Z"
   },
   {
    "duration": 6,
    "start_time": "2024-06-26T18:29:01.001Z"
   },
   {
    "duration": 5,
    "start_time": "2024-06-26T18:29:01.010Z"
   },
   {
    "duration": 6,
    "start_time": "2024-06-26T18:29:01.018Z"
   },
   {
    "duration": 7,
    "start_time": "2024-06-26T18:29:01.027Z"
   },
   {
    "duration": 5078,
    "start_time": "2024-06-26T18:29:01.037Z"
   },
   {
    "duration": 74,
    "start_time": "2024-06-26T18:29:06.118Z"
   },
   {
    "duration": 4,
    "start_time": "2024-06-26T18:29:06.195Z"
   },
   {
    "duration": 73608,
    "start_time": "2024-06-26T18:29:06.202Z"
   },
   {
    "duration": 209,
    "start_time": "2024-06-26T18:30:19.814Z"
   },
   {
    "duration": 0,
    "start_time": "2024-06-26T18:30:20.033Z"
   },
   {
    "duration": 0,
    "start_time": "2024-06-26T18:30:20.036Z"
   },
   {
    "duration": 0,
    "start_time": "2024-06-26T18:30:20.039Z"
   },
   {
    "duration": 0,
    "start_time": "2024-06-26T18:30:20.042Z"
   },
   {
    "duration": 0,
    "start_time": "2024-06-26T18:30:20.045Z"
   },
   {
    "duration": 0,
    "start_time": "2024-06-26T18:30:20.047Z"
   },
   {
    "duration": 0,
    "start_time": "2024-06-26T18:30:20.050Z"
   },
   {
    "duration": 0,
    "start_time": "2024-06-26T18:30:20.052Z"
   },
   {
    "duration": 0,
    "start_time": "2024-06-26T18:30:20.055Z"
   },
   {
    "duration": 0,
    "start_time": "2024-06-26T18:30:20.091Z"
   },
   {
    "duration": 0,
    "start_time": "2024-06-26T18:30:20.094Z"
   },
   {
    "duration": 3539,
    "start_time": "2024-06-26T18:30:47.276Z"
   },
   {
    "duration": 6,
    "start_time": "2024-06-26T18:30:50.819Z"
   },
   {
    "duration": 818,
    "start_time": "2024-06-26T18:30:50.828Z"
   },
   {
    "duration": 6,
    "start_time": "2024-06-26T18:30:51.650Z"
   },
   {
    "duration": 36,
    "start_time": "2024-06-26T18:30:51.660Z"
   },
   {
    "duration": 158,
    "start_time": "2024-06-26T18:30:51.699Z"
   },
   {
    "duration": 34,
    "start_time": "2024-06-26T18:30:51.860Z"
   },
   {
    "duration": 1185,
    "start_time": "2024-06-26T18:30:51.898Z"
   },
   {
    "duration": 151,
    "start_time": "2024-06-26T18:30:53.092Z"
   },
   {
    "duration": 17,
    "start_time": "2024-06-26T18:30:53.251Z"
   },
   {
    "duration": 23,
    "start_time": "2024-06-26T18:30:53.293Z"
   },
   {
    "duration": 37,
    "start_time": "2024-06-26T18:30:53.319Z"
   },
   {
    "duration": 88,
    "start_time": "2024-06-26T18:30:53.359Z"
   },
   {
    "duration": 7,
    "start_time": "2024-06-26T18:30:53.451Z"
   },
   {
    "duration": 51,
    "start_time": "2024-06-26T18:30:53.462Z"
   },
   {
    "duration": 7,
    "start_time": "2024-06-26T18:30:53.519Z"
   },
   {
    "duration": 21,
    "start_time": "2024-06-26T18:30:53.529Z"
   },
   {
    "duration": 55,
    "start_time": "2024-06-26T18:30:53.553Z"
   },
   {
    "duration": 36,
    "start_time": "2024-06-26T18:30:53.611Z"
   },
   {
    "duration": 117,
    "start_time": "2024-06-26T18:30:53.651Z"
   },
   {
    "duration": 32,
    "start_time": "2024-06-26T18:30:53.771Z"
   },
   {
    "duration": 401,
    "start_time": "2024-06-26T18:30:53.806Z"
   },
   {
    "duration": 120,
    "start_time": "2024-06-26T18:30:54.210Z"
   },
   {
    "duration": 41,
    "start_time": "2024-06-26T18:30:54.334Z"
   },
   {
    "duration": 54,
    "start_time": "2024-06-26T18:30:54.392Z"
   },
   {
    "duration": 392,
    "start_time": "2024-06-26T18:30:54.449Z"
   },
   {
    "duration": 50,
    "start_time": "2024-06-26T18:30:54.844Z"
   },
   {
    "duration": 18,
    "start_time": "2024-06-26T18:30:54.905Z"
   },
   {
    "duration": 102,
    "start_time": "2024-06-26T18:30:54.927Z"
   },
   {
    "duration": 29,
    "start_time": "2024-06-26T18:30:55.032Z"
   },
   {
    "duration": 29,
    "start_time": "2024-06-26T18:30:55.064Z"
   },
   {
    "duration": 37,
    "start_time": "2024-06-26T18:30:55.096Z"
   },
   {
    "duration": 17,
    "start_time": "2024-06-26T18:30:55.136Z"
   },
   {
    "duration": 98,
    "start_time": "2024-06-26T18:30:55.156Z"
   },
   {
    "duration": 106,
    "start_time": "2024-06-26T18:30:55.257Z"
   },
   {
    "duration": 31,
    "start_time": "2024-06-26T18:30:55.365Z"
   },
   {
    "duration": 26,
    "start_time": "2024-06-26T18:30:55.400Z"
   },
   {
    "duration": 32,
    "start_time": "2024-06-26T18:30:55.429Z"
   },
   {
    "duration": 1978,
    "start_time": "2024-06-26T18:30:55.464Z"
   },
   {
    "duration": 538,
    "start_time": "2024-06-26T18:30:57.446Z"
   },
   {
    "duration": 22,
    "start_time": "2024-06-26T18:30:57.990Z"
   },
   {
    "duration": 6,
    "start_time": "2024-06-26T18:30:58.015Z"
   },
   {
    "duration": 566,
    "start_time": "2024-06-26T18:30:58.025Z"
   },
   {
    "duration": 96,
    "start_time": "2024-06-26T18:30:58.594Z"
   },
   {
    "duration": 13,
    "start_time": "2024-06-26T18:30:58.695Z"
   },
   {
    "duration": 3,
    "start_time": "2024-06-26T18:30:58.790Z"
   },
   {
    "duration": 5,
    "start_time": "2024-06-26T18:30:58.796Z"
   },
   {
    "duration": 6,
    "start_time": "2024-06-26T18:30:58.805Z"
   },
   {
    "duration": 4,
    "start_time": "2024-06-26T18:30:58.814Z"
   },
   {
    "duration": 7,
    "start_time": "2024-06-26T18:30:58.821Z"
   },
   {
    "duration": 8,
    "start_time": "2024-06-26T18:30:58.831Z"
   },
   {
    "duration": 5,
    "start_time": "2024-06-26T18:30:58.892Z"
   },
   {
    "duration": 4,
    "start_time": "2024-06-26T18:30:58.900Z"
   },
   {
    "duration": 5095,
    "start_time": "2024-06-26T18:30:58.908Z"
   },
   {
    "duration": 4,
    "start_time": "2024-06-26T18:31:04.006Z"
   },
   {
    "duration": 5,
    "start_time": "2024-06-26T18:31:04.013Z"
   },
   {
    "duration": 5,
    "start_time": "2024-06-26T18:31:04.022Z"
   },
   {
    "duration": 3,
    "start_time": "2024-06-26T18:31:04.090Z"
   },
   {
    "duration": 4,
    "start_time": "2024-06-26T18:31:04.096Z"
   },
   {
    "duration": 16,
    "start_time": "2024-06-26T18:31:04.103Z"
   },
   {
    "duration": 4,
    "start_time": "2024-06-26T18:31:04.122Z"
   },
   {
    "duration": 328497,
    "start_time": "2024-06-26T18:31:04.129Z"
   },
   {
    "duration": 1063,
    "start_time": "2024-06-26T18:36:32.629Z"
   },
   {
    "duration": 4,
    "start_time": "2024-06-26T18:36:33.695Z"
   },
   {
    "duration": 5,
    "start_time": "2024-06-26T18:36:33.703Z"
   },
   {
    "duration": 1622472,
    "start_time": "2024-06-26T18:36:33.712Z"
   },
   {
    "duration": 4,
    "start_time": "2024-06-26T19:03:36.192Z"
   },
   {
    "duration": 6,
    "start_time": "2024-06-26T19:03:36.199Z"
   },
   {
    "duration": 583,
    "start_time": "2024-06-26T19:03:36.208Z"
   },
   {
    "duration": 6,
    "start_time": "2024-06-26T19:08:53.873Z"
   },
   {
    "duration": 27,
    "start_time": "2024-06-26T19:09:11.655Z"
   },
   {
    "duration": 25,
    "start_time": "2024-06-26T19:09:13.166Z"
   },
   {
    "duration": 36,
    "start_time": "2024-06-26T19:09:17.197Z"
   },
   {
    "duration": 26,
    "start_time": "2024-06-26T19:10:09.012Z"
   },
   {
    "duration": 5,
    "start_time": "2024-06-26T19:20:05.292Z"
   },
   {
    "duration": 3510,
    "start_time": "2024-06-26T19:35:56.582Z"
   },
   {
    "duration": 1547,
    "start_time": "2024-06-26T19:36:00.097Z"
   },
   {
    "duration": 876,
    "start_time": "2024-06-26T19:36:01.647Z"
   },
   {
    "duration": 8,
    "start_time": "2024-06-26T19:36:02.529Z"
   },
   {
    "duration": 20,
    "start_time": "2024-06-26T19:36:02.541Z"
   },
   {
    "duration": 157,
    "start_time": "2024-06-26T19:36:02.592Z"
   },
   {
    "duration": 24,
    "start_time": "2024-06-26T19:36:02.753Z"
   },
   {
    "duration": 1314,
    "start_time": "2024-06-26T19:36:02.796Z"
   },
   {
    "duration": 152,
    "start_time": "2024-06-26T19:36:04.113Z"
   },
   {
    "duration": 33,
    "start_time": "2024-06-26T19:36:04.273Z"
   },
   {
    "duration": 22,
    "start_time": "2024-06-26T19:36:04.309Z"
   },
   {
    "duration": 61,
    "start_time": "2024-06-26T19:36:04.334Z"
   },
   {
    "duration": 58,
    "start_time": "2024-06-26T19:36:04.398Z"
   },
   {
    "duration": 32,
    "start_time": "2024-06-26T19:36:04.458Z"
   },
   {
    "duration": 20,
    "start_time": "2024-06-26T19:36:04.494Z"
   },
   {
    "duration": 6,
    "start_time": "2024-06-26T19:36:04.517Z"
   },
   {
    "duration": 62,
    "start_time": "2024-06-26T19:36:04.528Z"
   },
   {
    "duration": 24,
    "start_time": "2024-06-26T19:36:04.592Z"
   },
   {
    "duration": 35,
    "start_time": "2024-06-26T19:36:04.618Z"
   },
   {
    "duration": 145,
    "start_time": "2024-06-26T19:36:04.656Z"
   },
   {
    "duration": 27,
    "start_time": "2024-06-26T19:36:04.804Z"
   },
   {
    "duration": 427,
    "start_time": "2024-06-26T19:36:04.834Z"
   },
   {
    "duration": 126,
    "start_time": "2024-06-26T19:36:05.265Z"
   },
   {
    "duration": 40,
    "start_time": "2024-06-26T19:36:05.394Z"
   },
   {
    "duration": 76,
    "start_time": "2024-06-26T19:36:05.437Z"
   },
   {
    "duration": 361,
    "start_time": "2024-06-26T19:36:05.516Z"
   },
   {
    "duration": 51,
    "start_time": "2024-06-26T19:36:05.879Z"
   },
   {
    "duration": 22,
    "start_time": "2024-06-26T19:36:05.940Z"
   },
   {
    "duration": 108,
    "start_time": "2024-06-26T19:36:05.965Z"
   },
   {
    "duration": 28,
    "start_time": "2024-06-26T19:36:06.092Z"
   },
   {
    "duration": 5,
    "start_time": "2024-06-26T19:36:06.124Z"
   },
   {
    "duration": 63,
    "start_time": "2024-06-26T19:36:06.132Z"
   },
   {
    "duration": 16,
    "start_time": "2024-06-26T19:36:06.198Z"
   },
   {
    "duration": 91,
    "start_time": "2024-06-26T19:36:06.217Z"
   },
   {
    "duration": 106,
    "start_time": "2024-06-26T19:36:06.311Z"
   },
   {
    "duration": 12,
    "start_time": "2024-06-26T19:36:06.420Z"
   },
   {
    "duration": 58,
    "start_time": "2024-06-26T19:36:06.434Z"
   },
   {
    "duration": 35,
    "start_time": "2024-06-26T19:36:06.496Z"
   },
   {
    "duration": 1994,
    "start_time": "2024-06-26T19:36:06.534Z"
   },
   {
    "duration": 534,
    "start_time": "2024-06-26T19:36:08.531Z"
   },
   {
    "duration": 34,
    "start_time": "2024-06-26T19:36:09.068Z"
   },
   {
    "duration": 5,
    "start_time": "2024-06-26T19:36:09.105Z"
   },
   {
    "duration": 587,
    "start_time": "2024-06-26T19:36:09.113Z"
   },
   {
    "duration": 95,
    "start_time": "2024-06-26T19:36:09.704Z"
   },
   {
    "duration": 84,
    "start_time": "2024-06-26T19:36:09.805Z"
   },
   {
    "duration": 41585,
    "start_time": "2024-06-26T19:36:09.892Z"
   },
   {
    "duration": 1436,
    "start_time": "2024-06-26T19:36:51.480Z"
   },
   {
    "duration": 4,
    "start_time": "2024-06-26T19:36:52.919Z"
   },
   {
    "duration": 7,
    "start_time": "2024-06-26T19:36:52.926Z"
   },
   {
    "duration": 345869,
    "start_time": "2024-06-26T19:36:52.936Z"
   },
   {
    "duration": 5,
    "start_time": "2024-06-26T19:42:38.808Z"
   },
   {
    "duration": 5,
    "start_time": "2024-06-26T19:42:38.816Z"
   },
   {
    "duration": 4980,
    "start_time": "2024-06-26T19:42:38.824Z"
   },
   {
    "duration": 5,
    "start_time": "2024-06-26T19:42:43.807Z"
   },
   {
    "duration": 4,
    "start_time": "2024-06-26T19:42:43.815Z"
   },
   {
    "duration": 302484,
    "start_time": "2024-06-26T19:42:43.822Z"
   },
   {
    "duration": 4,
    "start_time": "2024-06-26T19:47:46.309Z"
   },
   {
    "duration": 5,
    "start_time": "2024-06-26T19:47:46.316Z"
   },
   {
    "duration": 73,
    "start_time": "2024-06-26T19:47:46.324Z"
   },
   {
    "duration": 4,
    "start_time": "2024-06-26T19:47:46.400Z"
   },
   {
    "duration": 324121,
    "start_time": "2024-06-26T19:47:46.408Z"
   },
   {
    "duration": 4,
    "start_time": "2024-06-26T19:53:10.533Z"
   },
   {
    "duration": 5,
    "start_time": "2024-06-26T19:53:10.540Z"
   },
   {
    "duration": 5,
    "start_time": "2024-06-26T19:53:10.548Z"
   },
   {
    "duration": 540,
    "start_time": "2024-06-26T19:53:10.557Z"
   },
   {
    "duration": 0,
    "start_time": "2024-06-26T19:53:11.100Z"
   },
   {
    "duration": 0,
    "start_time": "2024-06-26T19:53:11.102Z"
   },
   {
    "duration": 0,
    "start_time": "2024-06-26T19:53:11.104Z"
   },
   {
    "duration": 0,
    "start_time": "2024-06-26T19:53:11.107Z"
   },
   {
    "duration": 0,
    "start_time": "2024-06-26T19:53:11.109Z"
   },
   {
    "duration": 0,
    "start_time": "2024-06-26T19:53:11.112Z"
   },
   {
    "duration": 0,
    "start_time": "2024-06-26T19:53:11.114Z"
   },
   {
    "duration": 0,
    "start_time": "2024-06-26T19:53:11.116Z"
   },
   {
    "duration": 0,
    "start_time": "2024-06-26T19:53:11.120Z"
   },
   {
    "duration": 24,
    "start_time": "2024-06-26T19:56:21.796Z"
   },
   {
    "duration": 5,
    "start_time": "2024-06-26T19:57:23.764Z"
   },
   {
    "duration": 45,
    "start_time": "2024-06-26T19:58:09.472Z"
   },
   {
    "duration": 24,
    "start_time": "2024-06-26T19:58:14.256Z"
   },
   {
    "duration": 3,
    "start_time": "2024-06-26T20:00:21.219Z"
   },
   {
    "duration": 14,
    "start_time": "2024-06-26T20:02:27.059Z"
   },
   {
    "duration": 3,
    "start_time": "2024-06-26T20:02:29.211Z"
   },
   {
    "duration": 3729,
    "start_time": "2024-06-26T20:03:09.206Z"
   },
   {
    "duration": 1552,
    "start_time": "2024-06-26T20:03:12.938Z"
   },
   {
    "duration": 923,
    "start_time": "2024-06-26T20:03:14.493Z"
   },
   {
    "duration": 7,
    "start_time": "2024-06-26T20:03:15.420Z"
   },
   {
    "duration": 20,
    "start_time": "2024-06-26T20:03:15.433Z"
   },
   {
    "duration": 177,
    "start_time": "2024-06-26T20:03:15.456Z"
   },
   {
    "duration": 24,
    "start_time": "2024-06-26T20:03:15.636Z"
   },
   {
    "duration": 1358,
    "start_time": "2024-06-26T20:03:15.662Z"
   },
   {
    "duration": 175,
    "start_time": "2024-06-26T20:03:17.024Z"
   },
   {
    "duration": 23,
    "start_time": "2024-06-26T20:03:17.202Z"
   },
   {
    "duration": 29,
    "start_time": "2024-06-26T20:03:17.228Z"
   },
   {
    "duration": 74,
    "start_time": "2024-06-26T20:03:17.261Z"
   },
   {
    "duration": 86,
    "start_time": "2024-06-26T20:03:17.341Z"
   },
   {
    "duration": 6,
    "start_time": "2024-06-26T20:03:17.434Z"
   },
   {
    "duration": 21,
    "start_time": "2024-06-26T20:03:17.443Z"
   },
   {
    "duration": 25,
    "start_time": "2024-06-26T20:03:17.467Z"
   },
   {
    "duration": 31,
    "start_time": "2024-06-26T20:03:17.497Z"
   },
   {
    "duration": 59,
    "start_time": "2024-06-26T20:03:17.532Z"
   },
   {
    "duration": 46,
    "start_time": "2024-06-26T20:03:17.594Z"
   },
   {
    "duration": 124,
    "start_time": "2024-06-26T20:03:17.642Z"
   },
   {
    "duration": 23,
    "start_time": "2024-06-26T20:03:17.769Z"
   },
   {
    "duration": 431,
    "start_time": "2024-06-26T20:03:17.796Z"
   },
   {
    "duration": 114,
    "start_time": "2024-06-26T20:03:18.230Z"
   },
   {
    "duration": 90,
    "start_time": "2024-06-26T20:03:18.347Z"
   },
   {
    "duration": 81,
    "start_time": "2024-06-26T20:03:18.444Z"
   },
   {
    "duration": 420,
    "start_time": "2024-06-26T20:03:18.529Z"
   },
   {
    "duration": 56,
    "start_time": "2024-06-26T20:03:18.953Z"
   },
   {
    "duration": 18,
    "start_time": "2024-06-26T20:03:19.012Z"
   },
   {
    "duration": 116,
    "start_time": "2024-06-26T20:03:19.035Z"
   },
   {
    "duration": 43,
    "start_time": "2024-06-26T20:03:19.156Z"
   },
   {
    "duration": 7,
    "start_time": "2024-06-26T20:03:19.202Z"
   },
   {
    "duration": 36,
    "start_time": "2024-06-26T20:03:19.212Z"
   },
   {
    "duration": 47,
    "start_time": "2024-06-26T20:03:19.250Z"
   },
   {
    "duration": 90,
    "start_time": "2024-06-26T20:03:19.301Z"
   },
   {
    "duration": 107,
    "start_time": "2024-06-26T20:03:19.394Z"
   },
   {
    "duration": 13,
    "start_time": "2024-06-26T20:03:19.505Z"
   },
   {
    "duration": 31,
    "start_time": "2024-06-26T20:03:19.522Z"
   },
   {
    "duration": 70,
    "start_time": "2024-06-26T20:03:19.557Z"
   },
   {
    "duration": 2026,
    "start_time": "2024-06-26T20:03:19.631Z"
   },
   {
    "duration": 532,
    "start_time": "2024-06-26T20:03:21.661Z"
   },
   {
    "duration": 25,
    "start_time": "2024-06-26T20:03:22.205Z"
   },
   {
    "duration": 8,
    "start_time": "2024-06-26T20:03:22.234Z"
   },
   {
    "duration": 667,
    "start_time": "2024-06-26T20:03:22.247Z"
   },
   {
    "duration": 93,
    "start_time": "2024-06-26T20:03:22.916Z"
   },
   {
    "duration": 10,
    "start_time": "2024-06-26T20:03:23.013Z"
   },
   {
    "duration": 41303,
    "start_time": "2024-06-26T20:03:23.027Z"
   },
   {
    "duration": 1455,
    "start_time": "2024-06-26T20:04:04.332Z"
   },
   {
    "duration": 5,
    "start_time": "2024-06-26T20:04:05.791Z"
   },
   {
    "duration": 6,
    "start_time": "2024-06-26T20:04:05.799Z"
   },
   {
    "duration": 344359,
    "start_time": "2024-06-26T20:04:05.808Z"
   },
   {
    "duration": 21,
    "start_time": "2024-06-26T20:09:50.170Z"
   },
   {
    "duration": 5,
    "start_time": "2024-06-26T20:09:50.193Z"
   },
   {
    "duration": 5498,
    "start_time": "2024-06-26T20:09:50.202Z"
   },
   {
    "duration": 4,
    "start_time": "2024-06-26T20:09:55.703Z"
   },
   {
    "duration": 4,
    "start_time": "2024-06-26T20:09:55.710Z"
   },
   {
    "duration": 266695,
    "start_time": "2024-06-26T20:09:55.717Z"
   },
   {
    "duration": 3,
    "start_time": "2024-06-26T20:14:22.415Z"
   },
   {
    "duration": 75,
    "start_time": "2024-06-26T20:14:22.422Z"
   },
   {
    "duration": 6,
    "start_time": "2024-06-26T20:14:22.500Z"
   },
   {
    "duration": 326638,
    "start_time": "2024-06-26T20:14:22.510Z"
   },
   {
    "duration": 4,
    "start_time": "2024-06-26T20:19:49.151Z"
   },
   {
    "duration": 4,
    "start_time": "2024-06-26T20:19:49.159Z"
   },
   {
    "duration": 23,
    "start_time": "2024-06-26T20:19:49.167Z"
   },
   {
    "duration": 3481,
    "start_time": "2024-06-26T20:21:18.826Z"
   },
   {
    "duration": 1569,
    "start_time": "2024-06-26T20:21:22.310Z"
   },
   {
    "duration": 1091,
    "start_time": "2024-06-26T20:21:23.881Z"
   },
   {
    "duration": 15,
    "start_time": "2024-06-26T20:21:24.976Z"
   },
   {
    "duration": 23,
    "start_time": "2024-06-26T20:21:24.995Z"
   },
   {
    "duration": 237,
    "start_time": "2024-06-26T20:21:25.021Z"
   },
   {
    "duration": 41,
    "start_time": "2024-06-26T20:21:25.261Z"
   },
   {
    "duration": 1464,
    "start_time": "2024-06-26T20:21:25.307Z"
   },
   {
    "duration": 187,
    "start_time": "2024-06-26T20:21:26.776Z"
   },
   {
    "duration": 33,
    "start_time": "2024-06-26T20:21:26.970Z"
   },
   {
    "duration": 27,
    "start_time": "2024-06-26T20:21:27.006Z"
   },
   {
    "duration": 84,
    "start_time": "2024-06-26T20:21:27.037Z"
   },
   {
    "duration": 83,
    "start_time": "2024-06-26T20:21:27.125Z"
   },
   {
    "duration": 11,
    "start_time": "2024-06-26T20:21:27.213Z"
   },
   {
    "duration": 25,
    "start_time": "2024-06-26T20:21:27.231Z"
   },
   {
    "duration": 6,
    "start_time": "2024-06-26T20:21:27.290Z"
   },
   {
    "duration": 22,
    "start_time": "2024-06-26T20:21:27.302Z"
   },
   {
    "duration": 25,
    "start_time": "2024-06-26T20:21:27.328Z"
   },
   {
    "duration": 80,
    "start_time": "2024-06-26T20:21:27.356Z"
   },
   {
    "duration": 142,
    "start_time": "2024-06-26T20:21:27.439Z"
   },
   {
    "duration": 31,
    "start_time": "2024-06-26T20:21:27.585Z"
   },
   {
    "duration": 443,
    "start_time": "2024-06-26T20:21:27.620Z"
   },
   {
    "duration": 129,
    "start_time": "2024-06-26T20:21:28.066Z"
   },
   {
    "duration": 41,
    "start_time": "2024-06-26T20:21:28.199Z"
   },
   {
    "duration": 86,
    "start_time": "2024-06-26T20:21:28.247Z"
   },
   {
    "duration": 396,
    "start_time": "2024-06-26T20:21:28.337Z"
   },
   {
    "duration": 71,
    "start_time": "2024-06-26T20:21:28.737Z"
   },
   {
    "duration": 27,
    "start_time": "2024-06-26T20:21:28.821Z"
   },
   {
    "duration": 106,
    "start_time": "2024-06-26T20:21:28.852Z"
   },
   {
    "duration": 47,
    "start_time": "2024-06-26T20:21:28.962Z"
   },
   {
    "duration": 6,
    "start_time": "2024-06-26T20:21:29.012Z"
   },
   {
    "duration": 35,
    "start_time": "2024-06-26T20:21:29.022Z"
   },
   {
    "duration": 21,
    "start_time": "2024-06-26T20:21:29.090Z"
   },
   {
    "duration": 96,
    "start_time": "2024-06-26T20:21:29.114Z"
   },
   {
    "duration": 101,
    "start_time": "2024-06-26T20:21:29.215Z"
   },
   {
    "duration": 13,
    "start_time": "2024-06-26T20:21:29.319Z"
   },
   {
    "duration": 57,
    "start_time": "2024-06-26T20:21:29.335Z"
   },
   {
    "duration": 35,
    "start_time": "2024-06-26T20:21:29.395Z"
   },
   {
    "duration": 2039,
    "start_time": "2024-06-26T20:21:29.433Z"
   },
   {
    "duration": 592,
    "start_time": "2024-06-26T20:21:31.478Z"
   },
   {
    "duration": 53,
    "start_time": "2024-06-26T20:21:32.076Z"
   },
   {
    "duration": 13,
    "start_time": "2024-06-26T20:21:32.133Z"
   },
   {
    "duration": 652,
    "start_time": "2024-06-26T20:21:32.149Z"
   },
   {
    "duration": 102,
    "start_time": "2024-06-26T20:21:32.805Z"
   },
   {
    "duration": 7,
    "start_time": "2024-06-26T20:21:32.910Z"
   },
   {
    "duration": 39310,
    "start_time": "2024-06-26T20:21:32.921Z"
   },
   {
    "duration": 1458,
    "start_time": "2024-06-26T20:22:12.234Z"
   },
   {
    "duration": 5,
    "start_time": "2024-06-26T20:22:13.695Z"
   },
   {
    "duration": 6,
    "start_time": "2024-06-26T20:22:13.704Z"
   },
   {
    "duration": 342930,
    "start_time": "2024-06-26T20:22:13.713Z"
   },
   {
    "duration": 5,
    "start_time": "2024-06-26T20:27:56.646Z"
   },
   {
    "duration": 5,
    "start_time": "2024-06-26T20:27:56.654Z"
   },
   {
    "duration": 4749,
    "start_time": "2024-06-26T20:27:56.662Z"
   },
   {
    "duration": 5,
    "start_time": "2024-06-26T20:28:01.414Z"
   },
   {
    "duration": 70,
    "start_time": "2024-06-26T20:28:01.422Z"
   },
   {
    "duration": 278016,
    "start_time": "2024-06-26T20:28:01.495Z"
   },
   {
    "duration": 3,
    "start_time": "2024-06-26T20:32:39.514Z"
   },
   {
    "duration": 69,
    "start_time": "2024-06-26T20:32:39.521Z"
   },
   {
    "duration": 4,
    "start_time": "2024-06-26T20:32:39.594Z"
   },
   {
    "duration": 326863,
    "start_time": "2024-06-26T20:32:39.601Z"
   },
   {
    "duration": 3,
    "start_time": "2024-06-26T20:38:06.467Z"
   },
   {
    "duration": 16,
    "start_time": "2024-06-26T20:38:06.474Z"
   },
   {
    "duration": 310,
    "start_time": "2024-06-26T20:54:46.621Z"
   },
   {
    "duration": 17,
    "start_time": "2024-06-26T20:57:34.791Z"
   },
   {
    "duration": 7,
    "start_time": "2024-06-26T21:01:14.319Z"
   },
   {
    "duration": 5,
    "start_time": "2024-06-26T21:01:14.612Z"
   },
   {
    "duration": 5,
    "start_time": "2024-06-26T21:02:03.359Z"
   },
   {
    "duration": 9,
    "start_time": "2024-06-26T21:02:03.611Z"
   },
   {
    "duration": 3666,
    "start_time": "2024-06-26T21:02:58.690Z"
   },
   {
    "duration": 1884,
    "start_time": "2024-06-26T21:03:02.361Z"
   },
   {
    "duration": 953,
    "start_time": "2024-06-26T21:03:04.249Z"
   },
   {
    "duration": 7,
    "start_time": "2024-06-26T21:03:05.206Z"
   },
   {
    "duration": 19,
    "start_time": "2024-06-26T21:03:05.216Z"
   },
   {
    "duration": 172,
    "start_time": "2024-06-26T21:03:05.239Z"
   },
   {
    "duration": 23,
    "start_time": "2024-06-26T21:03:05.414Z"
   },
   {
    "duration": 1333,
    "start_time": "2024-06-26T21:03:05.440Z"
   },
   {
    "duration": 150,
    "start_time": "2024-06-26T21:03:06.776Z"
   },
   {
    "duration": 19,
    "start_time": "2024-06-26T21:03:06.932Z"
   },
   {
    "duration": 60,
    "start_time": "2024-06-26T21:03:06.954Z"
   },
   {
    "duration": 37,
    "start_time": "2024-06-26T21:03:07.018Z"
   },
   {
    "duration": 78,
    "start_time": "2024-06-26T21:03:07.058Z"
   },
   {
    "duration": 7,
    "start_time": "2024-06-26T21:03:07.140Z"
   },
   {
    "duration": 45,
    "start_time": "2024-06-26T21:03:07.151Z"
   },
   {
    "duration": 6,
    "start_time": "2024-06-26T21:03:07.199Z"
   },
   {
    "duration": 20,
    "start_time": "2024-06-26T21:03:07.208Z"
   },
   {
    "duration": 58,
    "start_time": "2024-06-26T21:03:07.232Z"
   },
   {
    "duration": 33,
    "start_time": "2024-06-26T21:03:07.293Z"
   },
   {
    "duration": 122,
    "start_time": "2024-06-26T21:03:07.329Z"
   },
   {
    "duration": 35,
    "start_time": "2024-06-26T21:03:07.455Z"
   },
   {
    "duration": 403,
    "start_time": "2024-06-26T21:03:07.493Z"
   },
   {
    "duration": 125,
    "start_time": "2024-06-26T21:03:07.899Z"
   },
   {
    "duration": 39,
    "start_time": "2024-06-26T21:03:08.027Z"
   },
   {
    "duration": 69,
    "start_time": "2024-06-26T21:03:08.069Z"
   },
   {
    "duration": 369,
    "start_time": "2024-06-26T21:03:08.141Z"
   },
   {
    "duration": 48,
    "start_time": "2024-06-26T21:03:08.514Z"
   },
   {
    "duration": 20,
    "start_time": "2024-06-26T21:03:08.595Z"
   },
   {
    "duration": 96,
    "start_time": "2024-06-26T21:03:08.618Z"
   },
   {
    "duration": 29,
    "start_time": "2024-06-26T21:03:08.717Z"
   },
   {
    "duration": 10,
    "start_time": "2024-06-26T21:03:08.750Z"
   },
   {
    "duration": 37,
    "start_time": "2024-06-26T21:03:08.791Z"
   },
   {
    "duration": 16,
    "start_time": "2024-06-26T21:03:08.831Z"
   },
   {
    "duration": 102,
    "start_time": "2024-06-26T21:03:08.850Z"
   },
   {
    "duration": 103,
    "start_time": "2024-06-26T21:03:08.955Z"
   },
   {
    "duration": 30,
    "start_time": "2024-06-26T21:03:09.061Z"
   },
   {
    "duration": 27,
    "start_time": "2024-06-26T21:03:09.094Z"
   },
   {
    "duration": 32,
    "start_time": "2024-06-26T21:03:09.124Z"
   },
   {
    "duration": 2024,
    "start_time": "2024-06-26T21:03:09.190Z"
   },
   {
    "duration": 556,
    "start_time": "2024-06-26T21:03:11.216Z"
   },
   {
    "duration": 34,
    "start_time": "2024-06-26T21:03:11.776Z"
   },
   {
    "duration": 6,
    "start_time": "2024-06-26T21:03:11.814Z"
   },
   {
    "duration": 576,
    "start_time": "2024-06-26T21:03:11.824Z"
   },
   {
    "duration": 103,
    "start_time": "2024-06-26T21:03:12.404Z"
   },
   {
    "duration": 12,
    "start_time": "2024-06-26T21:03:12.510Z"
   },
   {
    "duration": 43588,
    "start_time": "2024-06-26T21:03:12.591Z"
   },
   {
    "duration": 1660,
    "start_time": "2024-06-26T21:03:56.183Z"
   },
   {
    "duration": 9,
    "start_time": "2024-06-26T21:03:57.847Z"
   },
   {
    "duration": 33,
    "start_time": "2024-06-26T21:03:57.860Z"
   },
   {
    "duration": 7,
    "start_time": "2024-06-26T21:03:57.896Z"
   },
   {
    "duration": 372795,
    "start_time": "2024-06-26T21:03:57.908Z"
   },
   {
    "duration": 5,
    "start_time": "2024-06-26T21:10:10.706Z"
   },
   {
    "duration": 5,
    "start_time": "2024-06-26T21:10:10.714Z"
   },
   {
    "duration": 2994,
    "start_time": "2024-06-26T21:10:10.723Z"
   },
   {
    "duration": 8,
    "start_time": "2024-06-26T21:10:13.723Z"
   },
   {
    "duration": 4960,
    "start_time": "2024-06-26T21:10:13.735Z"
   },
   {
    "duration": 904,
    "start_time": "2024-06-26T21:10:18.698Z"
   },
   {
    "duration": 27,
    "start_time": "2024-06-26T21:10:19.605Z"
   },
   {
    "duration": 0,
    "start_time": "2024-06-26T21:10:19.635Z"
   },
   {
    "duration": 0,
    "start_time": "2024-06-26T21:10:19.638Z"
   },
   {
    "duration": 0,
    "start_time": "2024-06-26T21:10:19.641Z"
   },
   {
    "duration": 0,
    "start_time": "2024-06-26T21:10:19.643Z"
   },
   {
    "duration": 0,
    "start_time": "2024-06-26T21:10:19.646Z"
   },
   {
    "duration": 0,
    "start_time": "2024-06-26T21:10:19.649Z"
   },
   {
    "duration": 0,
    "start_time": "2024-06-26T21:10:19.691Z"
   },
   {
    "duration": 0,
    "start_time": "2024-06-26T21:10:19.696Z"
   },
   {
    "duration": 0,
    "start_time": "2024-06-26T21:10:19.697Z"
   },
   {
    "duration": 0,
    "start_time": "2024-06-26T21:10:19.700Z"
   },
   {
    "duration": 0,
    "start_time": "2024-06-26T21:10:19.702Z"
   },
   {
    "duration": 0,
    "start_time": "2024-06-26T21:10:19.705Z"
   },
   {
    "duration": 0,
    "start_time": "2024-06-26T21:10:19.707Z"
   },
   {
    "duration": 0,
    "start_time": "2024-06-26T21:10:19.711Z"
   },
   {
    "duration": 0,
    "start_time": "2024-06-26T21:10:19.715Z"
   },
   {
    "duration": 0,
    "start_time": "2024-06-26T21:10:19.718Z"
   },
   {
    "duration": 0,
    "start_time": "2024-06-26T21:10:19.720Z"
   },
   {
    "duration": 0,
    "start_time": "2024-06-26T21:10:19.722Z"
   },
   {
    "duration": 0,
    "start_time": "2024-06-26T21:10:19.725Z"
   },
   {
    "duration": 0,
    "start_time": "2024-06-26T21:10:19.728Z"
   },
   {
    "duration": 0,
    "start_time": "2024-06-26T21:10:19.730Z"
   },
   {
    "duration": 0,
    "start_time": "2024-06-26T21:10:19.792Z"
   },
   {
    "duration": 0,
    "start_time": "2024-06-26T21:10:19.794Z"
   },
   {
    "duration": 0,
    "start_time": "2024-06-26T21:10:19.796Z"
   },
   {
    "duration": 0,
    "start_time": "2024-06-26T21:10:19.798Z"
   },
   {
    "duration": 0,
    "start_time": "2024-06-26T21:10:19.800Z"
   },
   {
    "duration": 7,
    "start_time": "2024-06-26T21:18:14.149Z"
   },
   {
    "duration": 26,
    "start_time": "2024-06-26T21:18:22.268Z"
   },
   {
    "duration": 62,
    "start_time": "2024-06-26T21:18:33.390Z"
   },
   {
    "duration": 4099,
    "start_time": "2024-06-26T21:19:23.995Z"
   },
   {
    "duration": 1583,
    "start_time": "2024-06-26T21:19:28.101Z"
   },
   {
    "duration": 977,
    "start_time": "2024-06-26T21:19:29.690Z"
   },
   {
    "duration": 19,
    "start_time": "2024-06-26T21:19:30.673Z"
   },
   {
    "duration": 29,
    "start_time": "2024-06-26T21:19:30.699Z"
   },
   {
    "duration": 222,
    "start_time": "2024-06-26T21:19:30.732Z"
   },
   {
    "duration": 35,
    "start_time": "2024-06-26T21:19:30.958Z"
   },
   {
    "duration": 1406,
    "start_time": "2024-06-26T21:19:30.997Z"
   },
   {
    "duration": 163,
    "start_time": "2024-06-26T21:19:32.406Z"
   },
   {
    "duration": 40,
    "start_time": "2024-06-26T21:19:32.575Z"
   },
   {
    "duration": 28,
    "start_time": "2024-06-26T21:19:32.619Z"
   },
   {
    "duration": 88,
    "start_time": "2024-06-26T21:19:32.652Z"
   },
   {
    "duration": 95,
    "start_time": "2024-06-26T21:19:32.744Z"
   },
   {
    "duration": 8,
    "start_time": "2024-06-26T21:19:32.842Z"
   },
   {
    "duration": 48,
    "start_time": "2024-06-26T21:19:32.854Z"
   },
   {
    "duration": 7,
    "start_time": "2024-06-26T21:19:32.907Z"
   },
   {
    "duration": 22,
    "start_time": "2024-06-26T21:19:32.918Z"
   },
   {
    "duration": 62,
    "start_time": "2024-06-26T21:19:32.944Z"
   },
   {
    "duration": 50,
    "start_time": "2024-06-26T21:19:33.010Z"
   },
   {
    "duration": 115,
    "start_time": "2024-06-26T21:19:33.065Z"
   },
   {
    "duration": 23,
    "start_time": "2024-06-26T21:19:33.192Z"
   },
   {
    "duration": 456,
    "start_time": "2024-06-26T21:19:33.219Z"
   },
   {
    "duration": 144,
    "start_time": "2024-06-26T21:19:33.678Z"
   },
   {
    "duration": 44,
    "start_time": "2024-06-26T21:19:33.826Z"
   },
   {
    "duration": 60,
    "start_time": "2024-06-26T21:19:33.890Z"
   },
   {
    "duration": 423,
    "start_time": "2024-06-26T21:19:33.955Z"
   },
   {
    "duration": 52,
    "start_time": "2024-06-26T21:19:34.382Z"
   },
   {
    "duration": 47,
    "start_time": "2024-06-26T21:19:34.448Z"
   },
   {
    "duration": 103,
    "start_time": "2024-06-26T21:19:34.498Z"
   },
   {
    "duration": 33,
    "start_time": "2024-06-26T21:19:34.604Z"
   },
   {
    "duration": 6,
    "start_time": "2024-06-26T21:19:34.640Z"
   },
   {
    "duration": 69,
    "start_time": "2024-06-26T21:19:34.649Z"
   },
   {
    "duration": 20,
    "start_time": "2024-06-26T21:19:34.723Z"
   },
   {
    "duration": 145,
    "start_time": "2024-06-26T21:19:34.746Z"
   },
   {
    "duration": 153,
    "start_time": "2024-06-26T21:19:34.898Z"
   },
   {
    "duration": 17,
    "start_time": "2024-06-26T21:19:35.055Z"
   },
   {
    "duration": 47,
    "start_time": "2024-06-26T21:19:35.076Z"
   },
   {
    "duration": 35,
    "start_time": "2024-06-26T21:19:35.127Z"
   },
   {
    "duration": 2140,
    "start_time": "2024-06-26T21:19:35.165Z"
   },
   {
    "duration": 591,
    "start_time": "2024-06-26T21:19:37.308Z"
   },
   {
    "duration": 22,
    "start_time": "2024-06-26T21:19:37.903Z"
   },
   {
    "duration": 8,
    "start_time": "2024-06-26T21:19:37.928Z"
   },
   {
    "duration": 659,
    "start_time": "2024-06-26T21:19:37.939Z"
   },
   {
    "duration": 29,
    "start_time": "2024-06-26T21:19:38.602Z"
   },
   {
    "duration": 17,
    "start_time": "2024-06-26T21:19:38.690Z"
   },
   {
    "duration": 43954,
    "start_time": "2024-06-26T21:19:38.789Z"
   },
   {
    "duration": 1686,
    "start_time": "2024-06-26T21:20:22.745Z"
   },
   {
    "duration": 8,
    "start_time": "2024-06-26T21:20:24.434Z"
   },
   {
    "duration": 4,
    "start_time": "2024-06-26T21:20:24.448Z"
   },
   {
    "duration": 36,
    "start_time": "2024-06-26T21:20:24.456Z"
   },
   {
    "duration": 364049,
    "start_time": "2024-06-26T21:20:24.495Z"
   },
   {
    "duration": 5,
    "start_time": "2024-06-26T21:26:28.548Z"
   },
   {
    "duration": 5,
    "start_time": "2024-06-26T21:26:28.558Z"
   },
   {
    "duration": 3201,
    "start_time": "2024-06-26T21:26:28.591Z"
   },
   {
    "duration": 4,
    "start_time": "2024-06-26T21:26:31.795Z"
   },
   {
    "duration": 8001,
    "start_time": "2024-06-26T21:26:31.803Z"
   },
   {
    "duration": 1099,
    "start_time": "2024-06-26T21:26:39.808Z"
   },
   {
    "duration": 0,
    "start_time": "2024-06-26T21:26:40.911Z"
   },
   {
    "duration": 0,
    "start_time": "2024-06-26T21:26:40.914Z"
   },
   {
    "duration": 0,
    "start_time": "2024-06-26T21:26:40.916Z"
   },
   {
    "duration": 0,
    "start_time": "2024-06-26T21:26:40.918Z"
   },
   {
    "duration": 0,
    "start_time": "2024-06-26T21:26:40.921Z"
   },
   {
    "duration": 0,
    "start_time": "2024-06-26T21:26:40.922Z"
   },
   {
    "duration": 0,
    "start_time": "2024-06-26T21:26:40.924Z"
   },
   {
    "duration": 0,
    "start_time": "2024-06-26T21:26:40.927Z"
   },
   {
    "duration": 0,
    "start_time": "2024-06-26T21:26:40.929Z"
   },
   {
    "duration": 0,
    "start_time": "2024-06-26T21:26:40.931Z"
   },
   {
    "duration": 0,
    "start_time": "2024-06-26T21:26:40.933Z"
   },
   {
    "duration": 0,
    "start_time": "2024-06-26T21:26:40.936Z"
   },
   {
    "duration": 0,
    "start_time": "2024-06-26T21:26:40.938Z"
   },
   {
    "duration": 0,
    "start_time": "2024-06-26T21:26:40.940Z"
   },
   {
    "duration": 0,
    "start_time": "2024-06-26T21:26:40.991Z"
   },
   {
    "duration": 0,
    "start_time": "2024-06-26T21:26:40.993Z"
   },
   {
    "duration": 0,
    "start_time": "2024-06-26T21:26:40.995Z"
   },
   {
    "duration": 0,
    "start_time": "2024-06-26T21:26:40.998Z"
   },
   {
    "duration": 0,
    "start_time": "2024-06-26T21:26:41.000Z"
   },
   {
    "duration": 1,
    "start_time": "2024-06-26T21:26:41.001Z"
   },
   {
    "duration": 0,
    "start_time": "2024-06-26T21:26:41.004Z"
   },
   {
    "duration": 0,
    "start_time": "2024-06-26T21:26:41.006Z"
   },
   {
    "duration": 0,
    "start_time": "2024-06-26T21:26:41.008Z"
   },
   {
    "duration": 0,
    "start_time": "2024-06-26T21:26:41.011Z"
   },
   {
    "duration": 0,
    "start_time": "2024-06-26T21:26:41.018Z"
   },
   {
    "duration": 0,
    "start_time": "2024-06-26T21:26:41.020Z"
   },
   {
    "duration": 0,
    "start_time": "2024-06-26T21:26:41.023Z"
   },
   {
    "duration": 0,
    "start_time": "2024-06-26T21:26:41.025Z"
   },
   {
    "duration": 0,
    "start_time": "2024-06-26T21:26:41.090Z"
   },
   {
    "duration": 29,
    "start_time": "2024-06-26T21:27:37.030Z"
   },
   {
    "duration": 852,
    "start_time": "2024-06-26T21:28:18.363Z"
   },
   {
    "duration": 5005,
    "start_time": "2024-06-26T21:28:25.205Z"
   },
   {
    "duration": 828,
    "start_time": "2024-06-26T21:28:33.089Z"
   },
   {
    "duration": 5,
    "start_time": "2024-06-26T21:28:35.149Z"
   },
   {
    "duration": 4,
    "start_time": "2024-06-26T21:28:43.938Z"
   },
   {
    "duration": 3,
    "start_time": "2024-06-26T21:28:43.947Z"
   },
   {
    "duration": 293537,
    "start_time": "2024-06-26T21:28:43.954Z"
   },
   {
    "duration": 4,
    "start_time": "2024-06-26T21:33:37.496Z"
   },
   {
    "duration": 5,
    "start_time": "2024-06-26T21:33:37.504Z"
   },
   {
    "duration": 1288,
    "start_time": "2024-06-26T21:33:37.512Z"
   },
   {
    "duration": 4,
    "start_time": "2024-06-26T21:33:38.803Z"
   },
   {
    "duration": 4,
    "start_time": "2024-06-26T21:33:38.811Z"
   },
   {
    "duration": 271,
    "start_time": "2024-06-27T01:08:45.600Z"
   },
   {
    "duration": 3539,
    "start_time": "2024-06-27T01:11:08.852Z"
   },
   {
    "duration": 6,
    "start_time": "2024-06-27T01:11:12.395Z"
   },
   {
    "duration": 836,
    "start_time": "2024-06-27T01:11:12.403Z"
   },
   {
    "duration": 6,
    "start_time": "2024-06-27T01:11:13.243Z"
   },
   {
    "duration": 18,
    "start_time": "2024-06-27T01:11:13.252Z"
   },
   {
    "duration": 187,
    "start_time": "2024-06-27T01:11:13.273Z"
   },
   {
    "duration": 48,
    "start_time": "2024-06-27T01:11:13.464Z"
   },
   {
    "duration": 1172,
    "start_time": "2024-06-27T01:11:13.516Z"
   },
   {
    "duration": 152,
    "start_time": "2024-06-27T01:11:14.691Z"
   },
   {
    "duration": 19,
    "start_time": "2024-06-27T01:11:14.850Z"
   },
   {
    "duration": 58,
    "start_time": "2024-06-27T01:11:14.873Z"
   },
   {
    "duration": 37,
    "start_time": "2024-06-27T01:11:14.934Z"
   },
   {
    "duration": 83,
    "start_time": "2024-06-27T01:11:14.974Z"
   },
   {
    "duration": 7,
    "start_time": "2024-06-27T01:11:15.060Z"
   },
   {
    "duration": 44,
    "start_time": "2024-06-27T01:11:15.070Z"
   },
   {
    "duration": 7,
    "start_time": "2024-06-27T01:11:15.116Z"
   },
   {
    "duration": 20,
    "start_time": "2024-06-27T01:11:15.127Z"
   },
   {
    "duration": 25,
    "start_time": "2024-06-27T01:11:15.150Z"
   },
   {
    "duration": 34,
    "start_time": "2024-06-27T01:11:15.212Z"
   },
   {
    "duration": 111,
    "start_time": "2024-06-27T01:11:15.249Z"
   },
   {
    "duration": 20,
    "start_time": "2024-06-27T01:11:15.363Z"
   },
   {
    "duration": 408,
    "start_time": "2024-06-27T01:11:15.386Z"
   },
   {
    "duration": 116,
    "start_time": "2024-06-27T01:11:15.797Z"
   },
   {
    "duration": 39,
    "start_time": "2024-06-27T01:11:15.916Z"
   },
   {
    "duration": 72,
    "start_time": "2024-06-27T01:11:15.961Z"
   },
   {
    "duration": 351,
    "start_time": "2024-06-27T01:11:16.039Z"
   },
   {
    "duration": 46,
    "start_time": "2024-06-27T01:11:16.393Z"
   },
   {
    "duration": 19,
    "start_time": "2024-06-27T01:11:16.450Z"
   },
   {
    "duration": 100,
    "start_time": "2024-06-27T01:11:16.472Z"
   },
   {
    "duration": 48,
    "start_time": "2024-06-27T01:11:16.575Z"
   },
   {
    "duration": 7,
    "start_time": "2024-06-27T01:11:16.626Z"
   },
   {
    "duration": 36,
    "start_time": "2024-06-27T01:11:16.636Z"
   },
   {
    "duration": 39,
    "start_time": "2024-06-27T01:11:16.676Z"
   },
   {
    "duration": 70,
    "start_time": "2024-06-27T01:11:16.718Z"
   },
   {
    "duration": 99,
    "start_time": "2024-06-27T01:11:16.813Z"
   },
   {
    "duration": 11,
    "start_time": "2024-06-27T01:11:16.915Z"
   },
   {
    "duration": 25,
    "start_time": "2024-06-27T01:11:16.929Z"
   },
   {
    "duration": 59,
    "start_time": "2024-06-27T01:11:16.956Z"
   },
   {
    "duration": 1975,
    "start_time": "2024-06-27T01:11:17.018Z"
   },
   {
    "duration": 533,
    "start_time": "2024-06-27T01:11:18.996Z"
   },
   {
    "duration": 22,
    "start_time": "2024-06-27T01:11:19.532Z"
   },
   {
    "duration": 7,
    "start_time": "2024-06-27T01:11:19.557Z"
   },
   {
    "duration": 556,
    "start_time": "2024-06-27T01:11:19.567Z"
   },
   {
    "duration": 99,
    "start_time": "2024-06-27T01:11:20.126Z"
   },
   {
    "duration": 80,
    "start_time": "2024-06-27T01:11:20.232Z"
   },
   {
    "duration": 8,
    "start_time": "2024-06-27T01:11:20.321Z"
   },
   {
    "duration": 77,
    "start_time": "2024-06-27T01:11:20.337Z"
   },
   {
    "duration": 4,
    "start_time": "2024-06-27T01:11:20.418Z"
   },
   {
    "duration": 5,
    "start_time": "2024-06-27T01:11:20.426Z"
   },
   {
    "duration": 6,
    "start_time": "2024-06-27T01:11:20.435Z"
   },
   {
    "duration": 5,
    "start_time": "2024-06-27T01:11:20.444Z"
   },
   {
    "duration": 5,
    "start_time": "2024-06-27T01:11:20.453Z"
   },
   {
    "duration": 52,
    "start_time": "2024-06-27T01:11:20.461Z"
   },
   {
    "duration": 6,
    "start_time": "2024-06-27T01:11:20.517Z"
   },
   {
    "duration": 4,
    "start_time": "2024-06-27T01:11:20.526Z"
   },
   {
    "duration": 4,
    "start_time": "2024-06-27T01:11:20.533Z"
   },
   {
    "duration": 4,
    "start_time": "2024-06-27T01:11:20.540Z"
   },
   {
    "duration": 5,
    "start_time": "2024-06-27T01:11:20.547Z"
   },
   {
    "duration": 28,
    "start_time": "2024-06-27T01:11:20.612Z"
   },
   {
    "duration": 0,
    "start_time": "2024-06-27T01:11:20.642Z"
   },
   {
    "duration": 0,
    "start_time": "2024-06-27T01:11:20.644Z"
   },
   {
    "duration": 0,
    "start_time": "2024-06-27T01:11:20.646Z"
   },
   {
    "duration": 0,
    "start_time": "2024-06-27T01:11:20.648Z"
   },
   {
    "duration": 0,
    "start_time": "2024-06-27T01:11:20.651Z"
   },
   {
    "duration": 0,
    "start_time": "2024-06-27T01:11:20.653Z"
   },
   {
    "duration": 0,
    "start_time": "2024-06-27T01:11:20.654Z"
   },
   {
    "duration": 0,
    "start_time": "2024-06-27T01:11:20.657Z"
   },
   {
    "duration": 0,
    "start_time": "2024-06-27T01:11:20.659Z"
   },
   {
    "duration": 0,
    "start_time": "2024-06-27T01:11:20.661Z"
   },
   {
    "duration": 0,
    "start_time": "2024-06-27T01:11:20.663Z"
   },
   {
    "duration": 0,
    "start_time": "2024-06-27T01:11:20.665Z"
   },
   {
    "duration": 0,
    "start_time": "2024-06-27T01:11:20.667Z"
   },
   {
    "duration": 0,
    "start_time": "2024-06-27T01:11:20.713Z"
   },
   {
    "duration": 0,
    "start_time": "2024-06-27T01:11:20.715Z"
   },
   {
    "duration": 0,
    "start_time": "2024-06-27T01:11:20.718Z"
   },
   {
    "duration": 0,
    "start_time": "2024-06-27T01:11:20.720Z"
   },
   {
    "duration": 0,
    "start_time": "2024-06-27T01:11:20.722Z"
   },
   {
    "duration": 3536,
    "start_time": "2024-06-27T01:19:30.061Z"
   },
   {
    "duration": 6,
    "start_time": "2024-06-27T01:19:33.602Z"
   },
   {
    "duration": 800,
    "start_time": "2024-06-27T01:19:33.611Z"
   },
   {
    "duration": 10,
    "start_time": "2024-06-27T01:19:34.415Z"
   },
   {
    "duration": 23,
    "start_time": "2024-06-27T01:19:34.430Z"
   },
   {
    "duration": 174,
    "start_time": "2024-06-27T01:19:34.456Z"
   },
   {
    "duration": 22,
    "start_time": "2024-06-27T01:19:34.633Z"
   },
   {
    "duration": 1165,
    "start_time": "2024-06-27T01:19:34.659Z"
   },
   {
    "duration": 147,
    "start_time": "2024-06-27T01:19:35.826Z"
   },
   {
    "duration": 18,
    "start_time": "2024-06-27T01:19:35.976Z"
   },
   {
    "duration": 22,
    "start_time": "2024-06-27T01:19:36.018Z"
   },
   {
    "duration": 35,
    "start_time": "2024-06-27T01:19:36.042Z"
   },
   {
    "duration": 48,
    "start_time": "2024-06-27T01:19:36.111Z"
   },
   {
    "duration": 6,
    "start_time": "2024-06-27T01:19:36.166Z"
   },
   {
    "duration": 47,
    "start_time": "2024-06-27T01:19:36.175Z"
   },
   {
    "duration": 6,
    "start_time": "2024-06-27T01:19:36.225Z"
   },
   {
    "duration": 21,
    "start_time": "2024-06-27T01:19:36.234Z"
   },
   {
    "duration": 55,
    "start_time": "2024-06-27T01:19:36.258Z"
   },
   {
    "duration": 33,
    "start_time": "2024-06-27T01:19:36.316Z"
   },
   {
    "duration": 112,
    "start_time": "2024-06-27T01:19:36.352Z"
   },
   {
    "duration": 20,
    "start_time": "2024-06-27T01:19:36.467Z"
   },
   {
    "duration": 409,
    "start_time": "2024-06-27T01:19:36.490Z"
   },
   {
    "duration": 114,
    "start_time": "2024-06-27T01:19:36.902Z"
   },
   {
    "duration": 39,
    "start_time": "2024-06-27T01:19:37.020Z"
   },
   {
    "duration": 72,
    "start_time": "2024-06-27T01:19:37.061Z"
   },
   {
    "duration": 353,
    "start_time": "2024-06-27T01:19:37.136Z"
   },
   {
    "duration": 45,
    "start_time": "2024-06-27T01:19:37.491Z"
   },
   {
    "duration": 20,
    "start_time": "2024-06-27T01:19:37.540Z"
   },
   {
    "duration": 104,
    "start_time": "2024-06-27T01:19:37.564Z"
   },
   {
    "duration": 47,
    "start_time": "2024-06-27T01:19:37.672Z"
   },
   {
    "duration": 6,
    "start_time": "2024-06-27T01:19:37.722Z"
   },
   {
    "duration": 34,
    "start_time": "2024-06-27T01:19:37.731Z"
   },
   {
    "duration": 49,
    "start_time": "2024-06-27T01:19:37.767Z"
   },
   {
    "duration": 97,
    "start_time": "2024-06-27T01:19:37.819Z"
   },
   {
    "duration": 104,
    "start_time": "2024-06-27T01:19:37.920Z"
   },
   {
    "duration": 13,
    "start_time": "2024-06-27T01:19:38.027Z"
   },
   {
    "duration": 28,
    "start_time": "2024-06-27T01:19:38.043Z"
   },
   {
    "duration": 65,
    "start_time": "2024-06-27T01:19:38.075Z"
   },
   {
    "duration": 1969,
    "start_time": "2024-06-27T01:19:38.143Z"
   },
   {
    "duration": 513,
    "start_time": "2024-06-27T01:19:40.115Z"
   },
   {
    "duration": 22,
    "start_time": "2024-06-27T01:19:40.640Z"
   },
   {
    "duration": 6,
    "start_time": "2024-06-27T01:19:40.665Z"
   },
   {
    "duration": 661,
    "start_time": "2024-06-27T01:19:40.674Z"
   },
   {
    "duration": 95,
    "start_time": "2024-06-27T01:19:41.339Z"
   },
   {
    "duration": 7,
    "start_time": "2024-06-27T01:19:41.520Z"
   },
   {
    "duration": 75,
    "start_time": "2024-06-27T01:19:41.539Z"
   },
   {
    "duration": 5,
    "start_time": "2024-06-27T01:19:41.617Z"
   },
   {
    "duration": 4,
    "start_time": "2024-06-27T01:19:41.625Z"
   },
   {
    "duration": 4,
    "start_time": "2024-06-27T01:19:41.632Z"
   },
   {
    "duration": 4,
    "start_time": "2024-06-27T01:19:41.639Z"
   },
   {
    "duration": 6,
    "start_time": "2024-06-27T01:19:41.645Z"
   },
   {
    "duration": 5,
    "start_time": "2024-06-27T01:19:41.714Z"
   },
   {
    "duration": 3,
    "start_time": "2024-06-27T01:19:41.723Z"
   },
   {
    "duration": 5,
    "start_time": "2024-06-27T01:19:41.729Z"
   },
   {
    "duration": 4,
    "start_time": "2024-06-27T01:19:41.737Z"
   },
   {
    "duration": 5,
    "start_time": "2024-06-27T01:19:41.744Z"
   },
   {
    "duration": 64,
    "start_time": "2024-06-27T01:19:41.751Z"
   },
   {
    "duration": 5,
    "start_time": "2024-06-27T01:19:41.818Z"
   },
   {
    "duration": 3,
    "start_time": "2024-06-27T01:19:41.828Z"
   },
   {
    "duration": 4,
    "start_time": "2024-06-27T01:19:41.834Z"
   },
   {
    "duration": 4,
    "start_time": "2024-06-27T01:19:41.842Z"
   },
   {
    "duration": 4,
    "start_time": "2024-06-27T01:19:41.849Z"
   },
   {
    "duration": 57,
    "start_time": "2024-06-27T01:19:41.855Z"
   },
   {
    "duration": 3,
    "start_time": "2024-06-27T01:19:41.915Z"
   },
   {
    "duration": 4,
    "start_time": "2024-06-27T01:19:41.923Z"
   },
   {
    "duration": 6,
    "start_time": "2024-06-27T01:19:41.930Z"
   },
   {
    "duration": 4,
    "start_time": "2024-06-27T01:19:41.939Z"
   },
   {
    "duration": 5,
    "start_time": "2024-06-27T01:19:41.946Z"
   },
   {
    "duration": 7730,
    "start_time": "2024-06-27T01:19:41.955Z"
   },
   {
    "duration": 179,
    "start_time": "2024-06-27T01:19:49.688Z"
   },
   {
    "duration": 23,
    "start_time": "2024-06-27T01:19:49.871Z"
   },
   {
    "duration": 0,
    "start_time": "2024-06-27T01:19:49.913Z"
   },
   {
    "duration": 0,
    "start_time": "2024-06-27T01:19:49.916Z"
   },
   {
    "duration": 0,
    "start_time": "2024-06-27T01:19:49.919Z"
   },
   {
    "duration": 0,
    "start_time": "2024-06-27T01:19:49.921Z"
   },
   {
    "duration": 0,
    "start_time": "2024-06-27T01:19:49.922Z"
   },
   {
    "duration": 0,
    "start_time": "2024-06-27T01:19:49.923Z"
   },
   {
    "duration": 0,
    "start_time": "2024-06-27T01:19:49.926Z"
   },
   {
    "duration": 0,
    "start_time": "2024-06-27T01:19:49.928Z"
   },
   {
    "duration": 0,
    "start_time": "2024-06-27T01:19:49.930Z"
   },
   {
    "duration": 0,
    "start_time": "2024-06-27T01:19:49.933Z"
   },
   {
    "duration": 0,
    "start_time": "2024-06-27T01:19:49.935Z"
   },
   {
    "duration": 0,
    "start_time": "2024-06-27T01:19:49.937Z"
   },
   {
    "duration": 0,
    "start_time": "2024-06-27T01:19:49.939Z"
   },
   {
    "duration": 0,
    "start_time": "2024-06-27T01:19:49.941Z"
   },
   {
    "duration": 0,
    "start_time": "2024-06-27T01:19:49.943Z"
   },
   {
    "duration": 3551,
    "start_time": "2024-06-27T01:19:54.319Z"
   },
   {
    "duration": 1424,
    "start_time": "2024-06-27T01:19:57.875Z"
   },
   {
    "duration": 888,
    "start_time": "2024-06-27T01:19:59.302Z"
   },
   {
    "duration": 19,
    "start_time": "2024-06-27T01:20:00.194Z"
   },
   {
    "duration": 19,
    "start_time": "2024-06-27T01:20:00.215Z"
   },
   {
    "duration": 169,
    "start_time": "2024-06-27T01:20:00.237Z"
   },
   {
    "duration": 27,
    "start_time": "2024-06-27T01:20:00.413Z"
   },
   {
    "duration": 1301,
    "start_time": "2024-06-27T01:20:00.444Z"
   },
   {
    "duration": 151,
    "start_time": "2024-06-27T01:20:01.748Z"
   },
   {
    "duration": 23,
    "start_time": "2024-06-27T01:20:01.904Z"
   },
   {
    "duration": 23,
    "start_time": "2024-06-27T01:20:01.931Z"
   },
   {
    "duration": 72,
    "start_time": "2024-06-27T01:20:01.956Z"
   },
   {
    "duration": 62,
    "start_time": "2024-06-27T01:20:02.031Z"
   },
   {
    "duration": 6,
    "start_time": "2024-06-27T01:20:02.112Z"
   },
   {
    "duration": 19,
    "start_time": "2024-06-27T01:20:02.121Z"
   },
   {
    "duration": 5,
    "start_time": "2024-06-27T01:20:02.143Z"
   },
   {
    "duration": 62,
    "start_time": "2024-06-27T01:20:02.152Z"
   },
   {
    "duration": 23,
    "start_time": "2024-06-27T01:20:02.217Z"
   },
   {
    "duration": 33,
    "start_time": "2024-06-27T01:20:02.243Z"
   },
   {
    "duration": 132,
    "start_time": "2024-06-27T01:20:02.280Z"
   },
   {
    "duration": 19,
    "start_time": "2024-06-27T01:20:02.415Z"
   },
   {
    "duration": 408,
    "start_time": "2024-06-27T01:20:02.437Z"
   },
   {
    "duration": 121,
    "start_time": "2024-06-27T01:20:02.848Z"
   },
   {
    "duration": 63,
    "start_time": "2024-06-27T01:20:02.972Z"
   },
   {
    "duration": 52,
    "start_time": "2024-06-27T01:20:03.038Z"
   },
   {
    "duration": 387,
    "start_time": "2024-06-27T01:20:03.093Z"
   },
   {
    "duration": 52,
    "start_time": "2024-06-27T01:20:03.482Z"
   },
   {
    "duration": 23,
    "start_time": "2024-06-27T01:20:03.544Z"
   },
   {
    "duration": 127,
    "start_time": "2024-06-27T01:20:03.570Z"
   },
   {
    "duration": 37,
    "start_time": "2024-06-27T01:20:03.702Z"
   },
   {
    "duration": 6,
    "start_time": "2024-06-27T01:20:03.742Z"
   },
   {
    "duration": 35,
    "start_time": "2024-06-27T01:20:03.751Z"
   },
   {
    "duration": 17,
    "start_time": "2024-06-27T01:20:03.814Z"
   },
   {
    "duration": 96,
    "start_time": "2024-06-27T01:20:03.834Z"
   },
   {
    "duration": 105,
    "start_time": "2024-06-27T01:20:03.933Z"
   },
   {
    "duration": 10,
    "start_time": "2024-06-27T01:20:04.041Z"
   },
   {
    "duration": 26,
    "start_time": "2024-06-27T01:20:04.054Z"
   },
   {
    "duration": 31,
    "start_time": "2024-06-27T01:20:04.114Z"
   },
   {
    "duration": 1975,
    "start_time": "2024-06-27T01:20:04.149Z"
   },
   {
    "duration": 502,
    "start_time": "2024-06-27T01:20:06.127Z"
   },
   {
    "duration": 22,
    "start_time": "2024-06-27T01:20:06.633Z"
   },
   {
    "duration": 6,
    "start_time": "2024-06-27T01:20:06.658Z"
   },
   {
    "duration": 553,
    "start_time": "2024-06-27T01:20:06.667Z"
   },
   {
    "duration": 94,
    "start_time": "2024-06-27T01:20:07.223Z"
   },
   {
    "duration": 14,
    "start_time": "2024-06-27T01:20:07.320Z"
   },
   {
    "duration": 8,
    "start_time": "2024-06-27T01:20:07.413Z"
   },
   {
    "duration": 8,
    "start_time": "2024-06-27T01:20:07.425Z"
   },
   {
    "duration": 4,
    "start_time": "2024-06-27T01:20:07.436Z"
   },
   {
    "duration": 4,
    "start_time": "2024-06-27T01:20:07.513Z"
   },
   {
    "duration": 5,
    "start_time": "2024-06-27T01:20:07.520Z"
   },
   {
    "duration": 5,
    "start_time": "2024-06-27T01:20:07.528Z"
   },
   {
    "duration": 5,
    "start_time": "2024-06-27T01:20:07.538Z"
   },
   {
    "duration": 4,
    "start_time": "2024-06-27T01:20:07.546Z"
   },
   {
    "duration": 5,
    "start_time": "2024-06-27T01:20:07.612Z"
   },
   {
    "duration": 4,
    "start_time": "2024-06-27T01:20:07.620Z"
   },
   {
    "duration": 6,
    "start_time": "2024-06-27T01:20:07.627Z"
   },
   {
    "duration": 3,
    "start_time": "2024-06-27T01:20:07.636Z"
   },
   {
    "duration": 4,
    "start_time": "2024-06-27T01:20:07.643Z"
   },
   {
    "duration": 4,
    "start_time": "2024-06-27T01:20:07.650Z"
   },
   {
    "duration": 55,
    "start_time": "2024-06-27T01:20:07.658Z"
   },
   {
    "duration": 3,
    "start_time": "2024-06-27T01:20:07.717Z"
   },
   {
    "duration": 4,
    "start_time": "2024-06-27T01:20:07.723Z"
   },
   {
    "duration": 5,
    "start_time": "2024-06-27T01:20:07.730Z"
   },
   {
    "duration": 4,
    "start_time": "2024-06-27T01:20:07.738Z"
   },
   {
    "duration": 3,
    "start_time": "2024-06-27T01:20:07.748Z"
   },
   {
    "duration": 58,
    "start_time": "2024-06-27T01:20:07.754Z"
   },
   {
    "duration": 4,
    "start_time": "2024-06-27T01:20:07.814Z"
   },
   {
    "duration": 4,
    "start_time": "2024-06-27T01:20:07.822Z"
   },
   {
    "duration": 326726,
    "start_time": "2024-06-27T01:20:07.829Z"
   },
   {
    "duration": 1005,
    "start_time": "2024-06-27T01:25:34.559Z"
   },
   {
    "duration": 4,
    "start_time": "2024-06-27T01:25:35.566Z"
   },
   {
    "duration": 4,
    "start_time": "2024-06-27T01:25:35.574Z"
   },
   {
    "duration": 4,
    "start_time": "2024-06-27T01:25:35.582Z"
   },
   {
    "duration": 3848,
    "start_time": "2024-06-28T00:15:08.015Z"
   },
   {
    "duration": 1493,
    "start_time": "2024-06-28T00:15:11.871Z"
   },
   {
    "duration": 909,
    "start_time": "2024-06-28T00:15:13.368Z"
   },
   {
    "duration": 6,
    "start_time": "2024-06-28T00:15:14.281Z"
   },
   {
    "duration": 39,
    "start_time": "2024-06-28T00:15:14.290Z"
   },
   {
    "duration": 163,
    "start_time": "2024-06-28T00:15:14.332Z"
   },
   {
    "duration": 38,
    "start_time": "2024-06-28T00:15:14.498Z"
   },
   {
    "duration": 1253,
    "start_time": "2024-06-28T00:15:14.539Z"
   },
   {
    "duration": 147,
    "start_time": "2024-06-28T00:15:15.795Z"
   },
   {
    "duration": 19,
    "start_time": "2024-06-28T00:15:15.949Z"
   },
   {
    "duration": 51,
    "start_time": "2024-06-28T00:15:15.972Z"
   },
   {
    "duration": 35,
    "start_time": "2024-06-28T00:15:16.026Z"
   },
   {
    "duration": 83,
    "start_time": "2024-06-28T00:15:16.065Z"
   },
   {
    "duration": 7,
    "start_time": "2024-06-28T00:15:16.152Z"
   },
   {
    "duration": 20,
    "start_time": "2024-06-28T00:15:16.162Z"
   },
   {
    "duration": 31,
    "start_time": "2024-06-28T00:15:16.184Z"
   },
   {
    "duration": 20,
    "start_time": "2024-06-28T00:15:16.218Z"
   },
   {
    "duration": 24,
    "start_time": "2024-06-28T00:15:16.241Z"
   },
   {
    "duration": 70,
    "start_time": "2024-06-28T00:15:16.267Z"
   },
   {
    "duration": 113,
    "start_time": "2024-06-28T00:15:16.340Z"
   },
   {
    "duration": 21,
    "start_time": "2024-06-28T00:15:16.457Z"
   },
   {
    "duration": 416,
    "start_time": "2024-06-28T00:15:16.481Z"
   },
   {
    "duration": 120,
    "start_time": "2024-06-28T00:15:16.901Z"
   },
   {
    "duration": 39,
    "start_time": "2024-06-28T00:15:17.024Z"
   },
   {
    "duration": 69,
    "start_time": "2024-06-28T00:15:17.066Z"
   },
   {
    "duration": 363,
    "start_time": "2024-06-28T00:15:17.138Z"
   },
   {
    "duration": 41,
    "start_time": "2024-06-28T00:15:17.504Z"
   },
   {
    "duration": 19,
    "start_time": "2024-06-28T00:15:17.555Z"
   },
   {
    "duration": 102,
    "start_time": "2024-06-28T00:15:17.578Z"
   },
   {
    "duration": 48,
    "start_time": "2024-06-28T00:15:17.682Z"
   },
   {
    "duration": 7,
    "start_time": "2024-06-28T00:15:17.732Z"
   },
   {
    "duration": 38,
    "start_time": "2024-06-28T00:15:17.742Z"
   },
   {
    "duration": 42,
    "start_time": "2024-06-28T00:15:17.783Z"
   },
   {
    "duration": 91,
    "start_time": "2024-06-28T00:15:17.828Z"
   },
   {
    "duration": 108,
    "start_time": "2024-06-28T00:15:17.922Z"
   },
   {
    "duration": 11,
    "start_time": "2024-06-28T00:15:18.033Z"
   },
   {
    "duration": 26,
    "start_time": "2024-06-28T00:15:18.046Z"
   },
   {
    "duration": 63,
    "start_time": "2024-06-28T00:15:18.075Z"
   },
   {
    "duration": 1956,
    "start_time": "2024-06-28T00:15:18.141Z"
   },
   {
    "duration": 518,
    "start_time": "2024-06-28T00:15:20.100Z"
   },
   {
    "duration": 24,
    "start_time": "2024-06-28T00:15:20.620Z"
   },
   {
    "duration": 6,
    "start_time": "2024-06-28T00:15:20.647Z"
   },
   {
    "duration": 570,
    "start_time": "2024-06-28T00:15:20.657Z"
   },
   {
    "duration": 98,
    "start_time": "2024-06-28T00:15:21.230Z"
   },
   {
    "duration": 80,
    "start_time": "2024-06-28T00:15:21.334Z"
   },
   {
    "duration": 8,
    "start_time": "2024-06-28T00:15:21.419Z"
   },
   {
    "duration": 85,
    "start_time": "2024-06-28T00:15:21.430Z"
   },
   {
    "duration": 4,
    "start_time": "2024-06-28T00:15:21.519Z"
   },
   {
    "duration": 3,
    "start_time": "2024-06-28T00:15:21.528Z"
   },
   {
    "duration": 5,
    "start_time": "2024-06-28T00:15:21.537Z"
   },
   {
    "duration": 4,
    "start_time": "2024-06-28T00:15:21.546Z"
   },
   {
    "duration": 5,
    "start_time": "2024-06-28T00:15:21.553Z"
   },
   {
    "duration": 52,
    "start_time": "2024-06-28T00:15:21.561Z"
   },
   {
    "duration": 6,
    "start_time": "2024-06-28T00:15:21.616Z"
   },
   {
    "duration": 4,
    "start_time": "2024-06-28T00:15:21.625Z"
   },
   {
    "duration": 5,
    "start_time": "2024-06-28T00:15:21.632Z"
   },
   {
    "duration": 4,
    "start_time": "2024-06-28T00:15:21.641Z"
   },
   {
    "duration": 5,
    "start_time": "2024-06-28T00:15:21.648Z"
   },
   {
    "duration": 3,
    "start_time": "2024-06-28T00:15:21.712Z"
   },
   {
    "duration": 4,
    "start_time": "2024-06-28T00:15:21.719Z"
   },
   {
    "duration": 4,
    "start_time": "2024-06-28T00:15:21.725Z"
   },
   {
    "duration": 5,
    "start_time": "2024-06-28T00:15:21.732Z"
   },
   {
    "duration": 5,
    "start_time": "2024-06-28T00:15:21.740Z"
   },
   {
    "duration": 3,
    "start_time": "2024-06-28T00:15:21.749Z"
   },
   {
    "duration": 56,
    "start_time": "2024-06-28T00:15:21.755Z"
   },
   {
    "duration": 5,
    "start_time": "2024-06-28T00:15:21.815Z"
   },
   {
    "duration": 4,
    "start_time": "2024-06-28T00:15:21.823Z"
   },
   {
    "duration": 4,
    "start_time": "2024-06-28T00:15:21.830Z"
   },
   {
    "duration": 15855,
    "start_time": "2024-06-28T00:15:21.837Z"
   },
   {
    "duration": 190,
    "start_time": "2024-06-28T00:15:37.697Z"
   },
   {
    "duration": 175,
    "start_time": "2024-06-28T00:15:46.866Z"
   },
   {
    "duration": 162816,
    "start_time": "2024-06-28T00:17:19.819Z"
   },
   {
    "duration": 3,
    "start_time": "2024-06-28T00:20:18.411Z"
   },
   {
    "duration": 4,
    "start_time": "2024-06-28T00:20:20.139Z"
   },
   {
    "duration": 3,
    "start_time": "2024-06-28T00:42:37.187Z"
   },
   {
    "duration": 491,
    "start_time": "2024-06-28T00:42:39.829Z"
   },
   {
    "duration": 4,
    "start_time": "2024-06-28T00:42:48.431Z"
   },
   {
    "duration": 4,
    "start_time": "2024-06-28T00:44:00.806Z"
   },
   {
    "duration": 823941,
    "start_time": "2024-06-28T00:44:05.367Z"
   },
   {
    "duration": 4,
    "start_time": "2024-06-28T00:58:10.711Z"
   },
   {
    "duration": 4,
    "start_time": "2024-06-28T00:58:15.578Z"
   },
   {
    "duration": 80042,
    "start_time": "2024-06-28T00:58:17.373Z"
   },
   {
    "duration": 4,
    "start_time": "2024-06-28T00:59:45.730Z"
   },
   {
    "duration": 11,
    "start_time": "2024-06-28T00:59:47.469Z"
   },
   {
    "duration": 181,
    "start_time": "2024-06-28T00:59:49.175Z"
   },
   {
    "duration": 8,
    "start_time": "2024-06-28T01:00:40.869Z"
   },
   {
    "duration": 4,
    "start_time": "2024-06-28T01:00:48.127Z"
   },
   {
    "duration": 79,
    "start_time": "2024-06-28T01:00:50.677Z"
   },
   {
    "duration": 6,
    "start_time": "2024-06-28T01:01:00.097Z"
   },
   {
    "duration": 4,
    "start_time": "2024-06-28T01:01:04.565Z"
   },
   {
    "duration": 5,
    "start_time": "2024-06-28T01:01:06.956Z"
   },
   {
    "duration": 80756,
    "start_time": "2024-06-28T01:01:09.970Z"
   },
   {
    "duration": 4,
    "start_time": "2024-06-28T01:04:45.910Z"
   },
   {
    "duration": 3,
    "start_time": "2024-06-28T01:04:51.096Z"
   },
   {
    "duration": 5,
    "start_time": "2024-06-28T01:04:53.857Z"
   },
   {
    "duration": 810460,
    "start_time": "2024-06-28T01:04:55.665Z"
   },
   {
    "duration": 3,
    "start_time": "2024-06-28T01:27:56.057Z"
   },
   {
    "duration": 6,
    "start_time": "2024-06-28T01:27:57.940Z"
   },
   {
    "duration": 543,
    "start_time": "2024-06-28T01:28:00.904Z"
   },
   {
    "duration": 8,
    "start_time": "2024-06-28T01:34:46.790Z"
   },
   {
    "duration": 4,
    "start_time": "2024-06-28T01:34:51.228Z"
   },
   {
    "duration": 4,
    "start_time": "2024-06-28T01:34:56.003Z"
   },
   {
    "duration": 3,
    "start_time": "2024-06-28T01:35:25.661Z"
   },
   {
    "duration": 8,
    "start_time": "2024-06-28T01:35:29.488Z"
   },
   {
    "duration": 4,
    "start_time": "2024-06-28T01:35:53.489Z"
   },
   {
    "duration": 2557227,
    "start_time": "2024-06-28T01:36:20.861Z"
   },
   {
    "duration": 4,
    "start_time": "2024-06-28T03:13:34.693Z"
   },
   {
    "duration": 5,
    "start_time": "2024-06-28T03:15:04.706Z"
   },
   {
    "duration": 1131,
    "start_time": "2024-06-28T03:15:12.589Z"
   },
   {
    "duration": 4004,
    "start_time": "2024-06-28T03:20:28.675Z"
   },
   {
    "duration": 1533,
    "start_time": "2024-06-28T03:20:32.685Z"
   },
   {
    "duration": 891,
    "start_time": "2024-06-28T03:20:34.223Z"
   },
   {
    "duration": 8,
    "start_time": "2024-06-28T03:20:35.117Z"
   },
   {
    "duration": 19,
    "start_time": "2024-06-28T03:20:35.129Z"
   },
   {
    "duration": 174,
    "start_time": "2024-06-28T03:20:35.151Z"
   },
   {
    "duration": 22,
    "start_time": "2024-06-28T03:20:35.328Z"
   },
   {
    "duration": 1290,
    "start_time": "2024-06-28T03:20:35.353Z"
   },
   {
    "duration": 152,
    "start_time": "2024-06-28T03:20:36.646Z"
   },
   {
    "duration": 19,
    "start_time": "2024-06-28T03:20:36.813Z"
   },
   {
    "duration": 25,
    "start_time": "2024-06-28T03:20:36.836Z"
   },
   {
    "duration": 66,
    "start_time": "2024-06-28T03:20:36.864Z"
   },
   {
    "duration": 83,
    "start_time": "2024-06-28T03:20:36.933Z"
   },
   {
    "duration": 6,
    "start_time": "2024-06-28T03:20:37.023Z"
   },
   {
    "duration": 20,
    "start_time": "2024-06-28T03:20:37.032Z"
   },
   {
    "duration": 7,
    "start_time": "2024-06-28T03:20:37.055Z"
   },
   {
    "duration": 61,
    "start_time": "2024-06-28T03:20:37.064Z"
   },
   {
    "duration": 23,
    "start_time": "2024-06-28T03:20:37.128Z"
   },
   {
    "duration": 63,
    "start_time": "2024-06-28T03:20:37.154Z"
   },
   {
    "duration": 112,
    "start_time": "2024-06-28T03:20:37.220Z"
   },
   {
    "duration": 19,
    "start_time": "2024-06-28T03:20:37.335Z"
   },
   {
    "duration": 418,
    "start_time": "2024-06-28T03:20:37.359Z"
   },
   {
    "duration": 113,
    "start_time": "2024-06-28T03:20:37.780Z"
   },
   {
    "duration": 51,
    "start_time": "2024-06-28T03:20:37.896Z"
   },
   {
    "duration": 70,
    "start_time": "2024-06-28T03:20:37.949Z"
   },
   {
    "duration": 363,
    "start_time": "2024-06-28T03:20:38.021Z"
   },
   {
    "duration": 49,
    "start_time": "2024-06-28T03:20:38.387Z"
   },
   {
    "duration": 19,
    "start_time": "2024-06-28T03:20:38.439Z"
   },
   {
    "duration": 111,
    "start_time": "2024-06-28T03:20:38.461Z"
   },
   {
    "duration": 41,
    "start_time": "2024-06-28T03:20:38.575Z"
   },
   {
    "duration": 6,
    "start_time": "2024-06-28T03:20:38.619Z"
   },
   {
    "duration": 35,
    "start_time": "2024-06-28T03:20:38.628Z"
   },
   {
    "duration": 48,
    "start_time": "2024-06-28T03:20:38.666Z"
   },
   {
    "duration": 70,
    "start_time": "2024-06-28T03:20:38.719Z"
   },
   {
    "duration": 105,
    "start_time": "2024-06-28T03:20:38.792Z"
   },
   {
    "duration": 11,
    "start_time": "2024-06-28T03:20:38.913Z"
   },
   {
    "duration": 27,
    "start_time": "2024-06-28T03:20:38.926Z"
   },
   {
    "duration": 66,
    "start_time": "2024-06-28T03:20:38.955Z"
   },
   {
    "duration": 1952,
    "start_time": "2024-06-28T03:20:39.024Z"
   },
   {
    "duration": 520,
    "start_time": "2024-06-28T03:20:40.979Z"
   },
   {
    "duration": 26,
    "start_time": "2024-06-28T03:20:41.520Z"
   },
   {
    "duration": 6,
    "start_time": "2024-06-28T03:20:41.549Z"
   },
   {
    "duration": 480,
    "start_time": "2024-06-28T03:20:41.558Z"
   },
   {
    "duration": 88,
    "start_time": "2024-06-28T03:20:42.041Z"
   },
   {
    "duration": 7,
    "start_time": "2024-06-28T03:20:42.132Z"
   },
   {
    "duration": 38390,
    "start_time": "2024-06-28T03:20:42.141Z"
   },
   {
    "duration": 1392,
    "start_time": "2024-06-28T03:21:20.534Z"
   },
   {
    "duration": 9,
    "start_time": "2024-06-28T03:21:21.929Z"
   },
   {
    "duration": 5,
    "start_time": "2024-06-28T03:21:21.941Z"
   },
   {
    "duration": 0,
    "start_time": "2024-06-28T03:21:21.950Z"
   },
   {
    "duration": 0,
    "start_time": "2024-06-28T03:21:21.952Z"
   },
   {
    "duration": 0,
    "start_time": "2024-06-28T03:21:21.954Z"
   },
   {
    "duration": 0,
    "start_time": "2024-06-28T03:21:21.956Z"
   },
   {
    "duration": 0,
    "start_time": "2024-06-28T03:21:21.957Z"
   },
   {
    "duration": 0,
    "start_time": "2024-06-28T03:21:21.960Z"
   },
   {
    "duration": 0,
    "start_time": "2024-06-28T03:21:21.962Z"
   },
   {
    "duration": 0,
    "start_time": "2024-06-28T03:21:21.964Z"
   },
   {
    "duration": 0,
    "start_time": "2024-06-28T03:21:21.965Z"
   },
   {
    "duration": 0,
    "start_time": "2024-06-28T03:21:21.967Z"
   },
   {
    "duration": 0,
    "start_time": "2024-06-28T03:21:22.014Z"
   },
   {
    "duration": 0,
    "start_time": "2024-06-28T03:21:22.016Z"
   },
   {
    "duration": 0,
    "start_time": "2024-06-28T03:21:22.018Z"
   },
   {
    "duration": 0,
    "start_time": "2024-06-28T03:21:22.019Z"
   },
   {
    "duration": 0,
    "start_time": "2024-06-28T03:21:22.022Z"
   },
   {
    "duration": 0,
    "start_time": "2024-06-28T03:21:22.023Z"
   },
   {
    "duration": 0,
    "start_time": "2024-06-28T03:21:22.025Z"
   },
   {
    "duration": 0,
    "start_time": "2024-06-28T03:21:22.027Z"
   },
   {
    "duration": 0,
    "start_time": "2024-06-28T03:21:22.029Z"
   },
   {
    "duration": 0,
    "start_time": "2024-06-28T03:21:22.030Z"
   },
   {
    "duration": 0,
    "start_time": "2024-06-28T03:21:22.032Z"
   },
   {
    "duration": 0,
    "start_time": "2024-06-28T03:21:22.035Z"
   },
   {
    "duration": 0,
    "start_time": "2024-06-28T03:21:22.037Z"
   },
   {
    "duration": 0,
    "start_time": "2024-06-28T03:21:22.040Z"
   },
   {
    "duration": 0,
    "start_time": "2024-06-28T03:21:22.042Z"
   },
   {
    "duration": 0,
    "start_time": "2024-06-28T03:21:22.045Z"
   },
   {
    "duration": 0,
    "start_time": "2024-06-28T03:21:22.047Z"
   },
   {
    "duration": 0,
    "start_time": "2024-06-28T03:21:22.049Z"
   },
   {
    "duration": 0,
    "start_time": "2024-06-28T03:21:22.112Z"
   },
   {
    "duration": 0,
    "start_time": "2024-06-28T03:21:22.114Z"
   },
   {
    "duration": 0,
    "start_time": "2024-06-28T03:21:22.117Z"
   },
   {
    "duration": 0,
    "start_time": "2024-06-28T03:21:22.119Z"
   },
   {
    "duration": 0,
    "start_time": "2024-06-28T03:21:22.121Z"
   },
   {
    "duration": 0,
    "start_time": "2024-06-28T03:21:22.123Z"
   },
   {
    "duration": 0,
    "start_time": "2024-06-28T03:21:22.125Z"
   },
   {
    "duration": 0,
    "start_time": "2024-06-28T03:21:22.128Z"
   },
   {
    "duration": 3,
    "start_time": "2024-06-28T03:24:02.652Z"
   },
   {
    "duration": 485,
    "start_time": "2024-06-28T03:24:06.168Z"
   },
   {
    "duration": 0,
    "start_time": "2024-06-28T03:24:06.659Z"
   },
   {
    "duration": 0,
    "start_time": "2024-06-28T03:24:06.660Z"
   },
   {
    "duration": 0,
    "start_time": "2024-06-28T03:24:06.663Z"
   },
   {
    "duration": 0,
    "start_time": "2024-06-28T03:24:06.664Z"
   },
   {
    "duration": 0,
    "start_time": "2024-06-28T03:24:06.667Z"
   },
   {
    "duration": 0,
    "start_time": "2024-06-28T03:24:06.669Z"
   },
   {
    "duration": 0,
    "start_time": "2024-06-28T03:24:06.671Z"
   },
   {
    "duration": 0,
    "start_time": "2024-06-28T03:24:06.673Z"
   },
   {
    "duration": 0,
    "start_time": "2024-06-28T03:24:06.676Z"
   },
   {
    "duration": 0,
    "start_time": "2024-06-28T03:24:06.678Z"
   },
   {
    "duration": 0,
    "start_time": "2024-06-28T03:24:06.680Z"
   },
   {
    "duration": 0,
    "start_time": "2024-06-28T03:24:06.713Z"
   },
   {
    "duration": 0,
    "start_time": "2024-06-28T03:24:06.715Z"
   },
   {
    "duration": 0,
    "start_time": "2024-06-28T03:24:06.716Z"
   },
   {
    "duration": 1,
    "start_time": "2024-06-28T03:24:06.718Z"
   },
   {
    "duration": 0,
    "start_time": "2024-06-28T03:24:06.721Z"
   },
   {
    "duration": 0,
    "start_time": "2024-06-28T03:24:06.723Z"
   },
   {
    "duration": 0,
    "start_time": "2024-06-28T03:24:06.725Z"
   },
   {
    "duration": 0,
    "start_time": "2024-06-28T03:24:06.727Z"
   },
   {
    "duration": 0,
    "start_time": "2024-06-28T03:24:06.730Z"
   },
   {
    "duration": 1,
    "start_time": "2024-06-28T03:24:06.731Z"
   },
   {
    "duration": 0,
    "start_time": "2024-06-28T03:24:06.734Z"
   },
   {
    "duration": 0,
    "start_time": "2024-06-28T03:24:06.740Z"
   },
   {
    "duration": 0,
    "start_time": "2024-06-28T03:24:06.743Z"
   },
   {
    "duration": 0,
    "start_time": "2024-06-28T03:24:06.745Z"
   },
   {
    "duration": 0,
    "start_time": "2024-06-28T03:24:06.747Z"
   },
   {
    "duration": 0,
    "start_time": "2024-06-28T03:24:06.750Z"
   },
   {
    "duration": 0,
    "start_time": "2024-06-28T03:24:06.752Z"
   },
   {
    "duration": 0,
    "start_time": "2024-06-28T03:24:06.813Z"
   },
   {
    "duration": 0,
    "start_time": "2024-06-28T03:24:06.816Z"
   },
   {
    "duration": 0,
    "start_time": "2024-06-28T03:24:06.818Z"
   },
   {
    "duration": 0,
    "start_time": "2024-06-28T03:24:06.820Z"
   },
   {
    "duration": 0,
    "start_time": "2024-06-28T03:24:06.822Z"
   },
   {
    "duration": 0,
    "start_time": "2024-06-28T03:24:06.825Z"
   },
   {
    "duration": 0,
    "start_time": "2024-06-28T03:24:06.826Z"
   },
   {
    "duration": 0,
    "start_time": "2024-06-28T03:24:06.828Z"
   },
   {
    "duration": 3480,
    "start_time": "2024-06-28T03:24:34.388Z"
   },
   {
    "duration": 8,
    "start_time": "2024-06-28T03:24:37.872Z"
   },
   {
    "duration": 786,
    "start_time": "2024-06-28T03:24:37.884Z"
   },
   {
    "duration": 6,
    "start_time": "2024-06-28T03:24:38.673Z"
   },
   {
    "duration": 34,
    "start_time": "2024-06-28T03:24:38.685Z"
   },
   {
    "duration": 160,
    "start_time": "2024-06-28T03:24:38.722Z"
   },
   {
    "duration": 35,
    "start_time": "2024-06-28T03:24:38.885Z"
   },
   {
    "duration": 1153,
    "start_time": "2024-06-28T03:24:38.923Z"
   },
   {
    "duration": 147,
    "start_time": "2024-06-28T03:24:40.081Z"
   },
   {
    "duration": 18,
    "start_time": "2024-06-28T03:24:40.230Z"
   },
   {
    "duration": 22,
    "start_time": "2024-06-28T03:24:40.252Z"
   },
   {
    "duration": 74,
    "start_time": "2024-06-28T03:24:40.277Z"
   },
   {
    "duration": 94,
    "start_time": "2024-06-28T03:24:40.354Z"
   },
   {
    "duration": 7,
    "start_time": "2024-06-28T03:24:40.456Z"
   },
   {
    "duration": 20,
    "start_time": "2024-06-28T03:24:40.466Z"
   },
   {
    "duration": 6,
    "start_time": "2024-06-28T03:24:40.514Z"
   },
   {
    "duration": 22,
    "start_time": "2024-06-28T03:24:40.524Z"
   },
   {
    "duration": 25,
    "start_time": "2024-06-28T03:24:40.549Z"
   },
   {
    "duration": 65,
    "start_time": "2024-06-28T03:24:40.577Z"
   },
   {
    "duration": 125,
    "start_time": "2024-06-28T03:24:40.645Z"
   },
   {
    "duration": 19,
    "start_time": "2024-06-28T03:24:40.773Z"
   },
   {
    "duration": 404,
    "start_time": "2024-06-28T03:24:40.795Z"
   },
   {
    "duration": 116,
    "start_time": "2024-06-28T03:24:41.202Z"
   },
   {
    "duration": 40,
    "start_time": "2024-06-28T03:24:41.321Z"
   },
   {
    "duration": 72,
    "start_time": "2024-06-28T03:24:41.363Z"
   },
   {
    "duration": 359,
    "start_time": "2024-06-28T03:24:41.438Z"
   },
   {
    "duration": 45,
    "start_time": "2024-06-28T03:24:41.800Z"
   },
   {
    "duration": 18,
    "start_time": "2024-06-28T03:24:41.848Z"
   },
   {
    "duration": 105,
    "start_time": "2024-06-28T03:24:41.877Z"
   },
   {
    "duration": 40,
    "start_time": "2024-06-28T03:24:41.984Z"
   },
   {
    "duration": 6,
    "start_time": "2024-06-28T03:24:42.027Z"
   },
   {
    "duration": 38,
    "start_time": "2024-06-28T03:24:42.036Z"
   },
   {
    "duration": 45,
    "start_time": "2024-06-28T03:24:42.076Z"
   },
   {
    "duration": 88,
    "start_time": "2024-06-28T03:24:42.124Z"
   },
   {
    "duration": 105,
    "start_time": "2024-06-28T03:24:42.215Z"
   },
   {
    "duration": 10,
    "start_time": "2024-06-28T03:24:42.323Z"
   },
   {
    "duration": 26,
    "start_time": "2024-06-28T03:24:42.336Z"
   },
   {
    "duration": 60,
    "start_time": "2024-06-28T03:24:42.366Z"
   },
   {
    "duration": 1945,
    "start_time": "2024-06-28T03:24:42.428Z"
   },
   {
    "duration": 507,
    "start_time": "2024-06-28T03:24:44.375Z"
   },
   {
    "duration": 35,
    "start_time": "2024-06-28T03:24:44.890Z"
   },
   {
    "duration": 6,
    "start_time": "2024-06-28T03:24:44.928Z"
   },
   {
    "duration": 494,
    "start_time": "2024-06-28T03:24:44.936Z"
   },
   {
    "duration": 104,
    "start_time": "2024-06-28T03:24:45.432Z"
   },
   {
    "duration": 78,
    "start_time": "2024-06-28T03:24:45.539Z"
   },
   {
    "duration": 39598,
    "start_time": "2024-06-28T03:24:45.622Z"
   },
   {
    "duration": 1359,
    "start_time": "2024-06-28T03:25:25.223Z"
   },
   {
    "duration": 7,
    "start_time": "2024-06-28T03:25:26.586Z"
   },
   {
    "duration": 4,
    "start_time": "2024-06-28T03:25:26.614Z"
   },
   {
    "duration": 26,
    "start_time": "2024-06-28T03:25:37.730Z"
   },
   {
    "duration": 0,
    "start_time": "2024-06-28T03:25:37.760Z"
   },
   {
    "duration": 0,
    "start_time": "2024-06-28T03:25:37.762Z"
   },
   {
    "duration": 0,
    "start_time": "2024-06-28T03:25:37.765Z"
   },
   {
    "duration": 0,
    "start_time": "2024-06-28T03:25:37.766Z"
   },
   {
    "duration": 0,
    "start_time": "2024-06-28T03:25:37.769Z"
   },
   {
    "duration": 0,
    "start_time": "2024-06-28T03:25:37.772Z"
   },
   {
    "duration": 0,
    "start_time": "2024-06-28T03:25:37.774Z"
   },
   {
    "duration": 27,
    "start_time": "2024-06-28T03:25:37.815Z"
   },
   {
    "duration": 83,
    "start_time": "2024-06-28T03:25:38.023Z"
   },
   {
    "duration": 27,
    "start_time": "2024-06-28T03:25:38.114Z"
   },
   {
    "duration": 0,
    "start_time": "2024-06-28T03:25:38.145Z"
   },
   {
    "duration": 0,
    "start_time": "2024-06-28T03:25:38.148Z"
   },
   {
    "duration": 0,
    "start_time": "2024-06-28T03:25:38.150Z"
   },
   {
    "duration": 0,
    "start_time": "2024-06-28T03:25:38.153Z"
   },
   {
    "duration": 0,
    "start_time": "2024-06-28T03:25:38.155Z"
   },
   {
    "duration": 0,
    "start_time": "2024-06-28T03:25:38.157Z"
   },
   {
    "duration": 0,
    "start_time": "2024-06-28T03:25:38.159Z"
   },
   {
    "duration": 0,
    "start_time": "2024-06-28T03:25:38.164Z"
   },
   {
    "duration": 0,
    "start_time": "2024-06-28T03:25:38.166Z"
   },
   {
    "duration": 0,
    "start_time": "2024-06-28T03:25:38.212Z"
   },
   {
    "duration": 0,
    "start_time": "2024-06-28T03:25:38.214Z"
   },
   {
    "duration": 0,
    "start_time": "2024-06-28T03:25:38.217Z"
   },
   {
    "duration": 0,
    "start_time": "2024-06-28T03:25:38.220Z"
   },
   {
    "duration": 0,
    "start_time": "2024-06-28T03:25:38.223Z"
   },
   {
    "duration": 0,
    "start_time": "2024-06-28T03:25:38.226Z"
   },
   {
    "duration": 0,
    "start_time": "2024-06-28T03:25:38.229Z"
   },
   {
    "duration": 0,
    "start_time": "2024-06-28T03:25:38.231Z"
   },
   {
    "duration": 0,
    "start_time": "2024-06-28T03:25:38.234Z"
   },
   {
    "duration": 0,
    "start_time": "2024-06-28T03:25:38.236Z"
   },
   {
    "duration": 0,
    "start_time": "2024-06-28T03:25:38.239Z"
   },
   {
    "duration": 0,
    "start_time": "2024-06-28T03:25:38.241Z"
   },
   {
    "duration": 0,
    "start_time": "2024-06-28T03:25:38.244Z"
   },
   {
    "duration": 0,
    "start_time": "2024-06-28T03:25:38.247Z"
   },
   {
    "duration": 0,
    "start_time": "2024-06-28T03:25:38.249Z"
   },
   {
    "duration": 0,
    "start_time": "2024-06-28T03:25:38.312Z"
   },
   {
    "duration": 0,
    "start_time": "2024-06-28T03:25:38.314Z"
   },
   {
    "duration": 7,
    "start_time": "2024-06-28T03:25:55.799Z"
   },
   {
    "duration": 6,
    "start_time": "2024-06-28T03:26:02.171Z"
   },
   {
    "duration": 3818,
    "start_time": "2024-06-28T03:26:59.019Z"
   },
   {
    "duration": 1571,
    "start_time": "2024-06-28T03:27:02.841Z"
   },
   {
    "duration": 926,
    "start_time": "2024-06-28T03:27:04.416Z"
   },
   {
    "duration": 6,
    "start_time": "2024-06-28T03:27:05.346Z"
   },
   {
    "duration": 19,
    "start_time": "2024-06-28T03:27:05.356Z"
   },
   {
    "duration": 169,
    "start_time": "2024-06-28T03:27:05.379Z"
   },
   {
    "duration": 24,
    "start_time": "2024-06-28T03:27:05.550Z"
   },
   {
    "duration": 1287,
    "start_time": "2024-06-28T03:27:05.578Z"
   },
   {
    "duration": 149,
    "start_time": "2024-06-28T03:27:06.868Z"
   },
   {
    "duration": 18,
    "start_time": "2024-06-28T03:27:07.023Z"
   },
   {
    "duration": 25,
    "start_time": "2024-06-28T03:27:07.044Z"
   },
   {
    "duration": 73,
    "start_time": "2024-06-28T03:27:07.072Z"
   },
   {
    "duration": 79,
    "start_time": "2024-06-28T03:27:07.148Z"
   },
   {
    "duration": 7,
    "start_time": "2024-06-28T03:27:07.231Z"
   },
   {
    "duration": 19,
    "start_time": "2024-06-28T03:27:07.241Z"
   },
   {
    "duration": 7,
    "start_time": "2024-06-28T03:27:07.263Z"
   },
   {
    "duration": 57,
    "start_time": "2024-06-28T03:27:07.274Z"
   },
   {
    "duration": 32,
    "start_time": "2024-06-28T03:27:07.334Z"
   },
   {
    "duration": 54,
    "start_time": "2024-06-28T03:27:07.370Z"
   },
   {
    "duration": 115,
    "start_time": "2024-06-28T03:27:07.428Z"
   },
   {
    "duration": 21,
    "start_time": "2024-06-28T03:27:07.546Z"
   },
   {
    "duration": 432,
    "start_time": "2024-06-28T03:27:07.570Z"
   },
   {
    "duration": 115,
    "start_time": "2024-06-28T03:27:08.012Z"
   },
   {
    "duration": 41,
    "start_time": "2024-06-28T03:27:08.130Z"
   },
   {
    "duration": 68,
    "start_time": "2024-06-28T03:27:08.175Z"
   },
   {
    "duration": 361,
    "start_time": "2024-06-28T03:27:08.246Z"
   },
   {
    "duration": 40,
    "start_time": "2024-06-28T03:27:08.611Z"
   },
   {
    "duration": 19,
    "start_time": "2024-06-28T03:27:08.660Z"
   },
   {
    "duration": 112,
    "start_time": "2024-06-28T03:27:08.683Z"
   },
   {
    "duration": 40,
    "start_time": "2024-06-28T03:27:08.799Z"
   },
   {
    "duration": 6,
    "start_time": "2024-06-28T03:27:08.842Z"
   },
   {
    "duration": 63,
    "start_time": "2024-06-28T03:27:08.850Z"
   },
   {
    "duration": 16,
    "start_time": "2024-06-28T03:27:08.916Z"
   },
   {
    "duration": 94,
    "start_time": "2024-06-28T03:27:08.935Z"
   },
   {
    "duration": 105,
    "start_time": "2024-06-28T03:27:09.032Z"
   },
   {
    "duration": 11,
    "start_time": "2024-06-28T03:27:09.140Z"
   },
   {
    "duration": 58,
    "start_time": "2024-06-28T03:27:09.154Z"
   },
   {
    "duration": 31,
    "start_time": "2024-06-28T03:27:09.214Z"
   },
   {
    "duration": 1950,
    "start_time": "2024-06-28T03:27:09.248Z"
   },
   {
    "duration": 527,
    "start_time": "2024-06-28T03:27:11.200Z"
   },
   {
    "duration": 24,
    "start_time": "2024-06-28T03:27:11.730Z"
   },
   {
    "duration": 6,
    "start_time": "2024-06-28T03:27:11.757Z"
   },
   {
    "duration": 556,
    "start_time": "2024-06-28T03:27:11.766Z"
   },
   {
    "duration": 99,
    "start_time": "2024-06-28T03:27:12.325Z"
   },
   {
    "duration": 80,
    "start_time": "2024-06-28T03:27:12.432Z"
   },
   {
    "duration": 38398,
    "start_time": "2024-06-28T03:27:12.519Z"
   },
   {
    "duration": 1397,
    "start_time": "2024-06-28T03:27:50.920Z"
   },
   {
    "duration": 7,
    "start_time": "2024-06-28T03:27:52.320Z"
   },
   {
    "duration": 4,
    "start_time": "2024-06-28T03:27:52.330Z"
   },
   {
    "duration": 6,
    "start_time": "2024-06-28T03:27:52.338Z"
   },
   {
    "duration": 334303,
    "start_time": "2024-06-28T03:27:52.347Z"
   },
   {
    "duration": 4,
    "start_time": "2024-06-28T03:33:26.655Z"
   },
   {
    "duration": 5,
    "start_time": "2024-06-28T03:33:26.662Z"
   },
   {
    "duration": 2692,
    "start_time": "2024-06-28T03:33:26.670Z"
   },
   {
    "duration": 3,
    "start_time": "2024-06-28T03:33:29.366Z"
   },
   {
    "duration": 6452,
    "start_time": "2024-06-28T03:33:29.373Z"
   },
   {
    "duration": 28,
    "start_time": "2024-06-28T03:33:35.828Z"
   },
   {
    "duration": 881,
    "start_time": "2024-06-28T03:33:35.859Z"
   },
   {
    "duration": 5,
    "start_time": "2024-06-28T03:33:36.743Z"
   },
   {
    "duration": 65,
    "start_time": "2024-06-28T03:33:36.750Z"
   },
   {
    "duration": 5,
    "start_time": "2024-06-28T03:33:36.819Z"
   },
   {
    "duration": 4,
    "start_time": "2024-06-28T03:33:36.827Z"
   },
   {
    "duration": 394,
    "start_time": "2024-06-28T03:33:36.833Z"
   },
   {
    "duration": 235,
    "start_time": "2024-06-28T03:33:37.231Z"
   },
   {
    "duration": 0,
    "start_time": "2024-06-28T03:33:37.469Z"
   },
   {
    "duration": 0,
    "start_time": "2024-06-28T03:33:37.471Z"
   },
   {
    "duration": 0,
    "start_time": "2024-06-28T03:33:37.474Z"
   },
   {
    "duration": 0,
    "start_time": "2024-06-28T03:33:37.476Z"
   },
   {
    "duration": 0,
    "start_time": "2024-06-28T03:33:37.478Z"
   },
   {
    "duration": 0,
    "start_time": "2024-06-28T03:33:37.480Z"
   },
   {
    "duration": 0,
    "start_time": "2024-06-28T03:33:37.483Z"
   },
   {
    "duration": 0,
    "start_time": "2024-06-28T03:33:37.513Z"
   },
   {
    "duration": 0,
    "start_time": "2024-06-28T03:33:37.515Z"
   },
   {
    "duration": 0,
    "start_time": "2024-06-28T03:33:37.517Z"
   },
   {
    "duration": 0,
    "start_time": "2024-06-28T03:33:37.519Z"
   },
   {
    "duration": 0,
    "start_time": "2024-06-28T03:33:37.521Z"
   },
   {
    "duration": 0,
    "start_time": "2024-06-28T03:33:37.522Z"
   },
   {
    "duration": 0,
    "start_time": "2024-06-28T03:33:37.525Z"
   },
   {
    "duration": 0,
    "start_time": "2024-06-28T03:33:37.527Z"
   },
   {
    "duration": 0,
    "start_time": "2024-06-28T03:33:37.529Z"
   },
   {
    "duration": 0,
    "start_time": "2024-06-28T03:33:37.532Z"
   },
   {
    "duration": 0,
    "start_time": "2024-06-28T03:33:37.533Z"
   },
   {
    "duration": 0,
    "start_time": "2024-06-28T03:33:37.535Z"
   },
   {
    "duration": 0,
    "start_time": "2024-06-28T03:33:37.537Z"
   },
   {
    "duration": 0,
    "start_time": "2024-06-28T03:33:37.540Z"
   },
   {
    "duration": 4,
    "start_time": "2024-06-28T03:33:46.597Z"
   },
   {
    "duration": 258958,
    "start_time": "2024-06-28T03:33:50.582Z"
   },
   {
    "duration": 4,
    "start_time": "2024-06-28T03:38:09.622Z"
   },
   {
    "duration": 4,
    "start_time": "2024-06-28T03:38:09.630Z"
   },
   {
    "duration": 1221,
    "start_time": "2024-06-28T03:38:09.638Z"
   },
   {
    "duration": 52,
    "start_time": "2024-06-28T03:38:10.861Z"
   },
   {
    "duration": 4,
    "start_time": "2024-06-28T03:38:10.916Z"
   },
   {
    "duration": 3865,
    "start_time": "2024-06-28T03:53:24.897Z"
   },
   {
    "duration": 1558,
    "start_time": "2024-06-28T03:53:28.767Z"
   },
   {
    "duration": 993,
    "start_time": "2024-06-28T03:53:30.329Z"
   },
   {
    "duration": 7,
    "start_time": "2024-06-28T03:53:31.328Z"
   },
   {
    "duration": 24,
    "start_time": "2024-06-28T03:53:31.341Z"
   },
   {
    "duration": 196,
    "start_time": "2024-06-28T03:53:31.368Z"
   },
   {
    "duration": 23,
    "start_time": "2024-06-28T03:53:31.567Z"
   },
   {
    "duration": 1293,
    "start_time": "2024-06-28T03:53:31.594Z"
   },
   {
    "duration": 156,
    "start_time": "2024-06-28T03:53:32.890Z"
   },
   {
    "duration": 26,
    "start_time": "2024-06-28T03:53:33.050Z"
   },
   {
    "duration": 51,
    "start_time": "2024-06-28T03:53:33.079Z"
   },
   {
    "duration": 38,
    "start_time": "2024-06-28T03:53:33.134Z"
   },
   {
    "duration": 95,
    "start_time": "2024-06-28T03:53:33.175Z"
   },
   {
    "duration": 10,
    "start_time": "2024-06-28T03:53:33.277Z"
   },
   {
    "duration": 37,
    "start_time": "2024-06-28T03:53:33.290Z"
   },
   {
    "duration": 5,
    "start_time": "2024-06-28T03:53:33.333Z"
   },
   {
    "duration": 23,
    "start_time": "2024-06-28T03:53:33.342Z"
   },
   {
    "duration": 54,
    "start_time": "2024-06-28T03:53:33.368Z"
   },
   {
    "duration": 43,
    "start_time": "2024-06-28T03:53:33.427Z"
   },
   {
    "duration": 125,
    "start_time": "2024-06-28T03:53:33.473Z"
   },
   {
    "duration": 38,
    "start_time": "2024-06-28T03:53:33.601Z"
   },
   {
    "duration": 429,
    "start_time": "2024-06-28T03:53:33.642Z"
   },
   {
    "duration": 115,
    "start_time": "2024-06-28T03:53:34.075Z"
   },
   {
    "duration": 61,
    "start_time": "2024-06-28T03:53:34.193Z"
   },
   {
    "duration": 86,
    "start_time": "2024-06-28T03:53:34.258Z"
   },
   {
    "duration": 379,
    "start_time": "2024-06-28T03:53:34.347Z"
   },
   {
    "duration": 43,
    "start_time": "2024-06-28T03:53:34.732Z"
   },
   {
    "duration": 35,
    "start_time": "2024-06-28T03:53:34.779Z"
   },
   {
    "duration": 96,
    "start_time": "2024-06-28T03:53:34.818Z"
   },
   {
    "duration": 28,
    "start_time": "2024-06-28T03:53:34.917Z"
   },
   {
    "duration": 9,
    "start_time": "2024-06-28T03:53:34.948Z"
   },
   {
    "duration": 66,
    "start_time": "2024-06-28T03:53:34.961Z"
   },
   {
    "duration": 16,
    "start_time": "2024-06-28T03:53:35.030Z"
   },
   {
    "duration": 90,
    "start_time": "2024-06-28T03:53:35.050Z"
   },
   {
    "duration": 112,
    "start_time": "2024-06-28T03:53:35.143Z"
   },
   {
    "duration": 13,
    "start_time": "2024-06-28T03:53:35.259Z"
   },
   {
    "duration": 54,
    "start_time": "2024-06-28T03:53:35.275Z"
   },
   {
    "duration": 33,
    "start_time": "2024-06-28T03:53:35.332Z"
   },
   {
    "duration": 2012,
    "start_time": "2024-06-28T03:53:35.368Z"
   },
   {
    "duration": 514,
    "start_time": "2024-06-28T03:53:37.383Z"
   },
   {
    "duration": 24,
    "start_time": "2024-06-28T03:53:37.916Z"
   },
   {
    "duration": 7,
    "start_time": "2024-06-28T03:53:37.944Z"
   },
   {
    "duration": 663,
    "start_time": "2024-06-28T03:53:37.955Z"
   },
   {
    "duration": 26,
    "start_time": "2024-06-28T03:53:38.626Z"
   },
   {
    "duration": 60,
    "start_time": "2024-06-28T03:53:38.654Z"
   },
   {
    "duration": 40318,
    "start_time": "2024-06-28T03:53:38.716Z"
   },
   {
    "duration": 1476,
    "start_time": "2024-06-28T03:54:19.038Z"
   },
   {
    "duration": 9,
    "start_time": "2024-06-28T03:54:20.516Z"
   },
   {
    "duration": 4,
    "start_time": "2024-06-28T03:54:20.528Z"
   },
   {
    "duration": 7,
    "start_time": "2024-06-28T03:54:20.535Z"
   },
   {
    "duration": 335818,
    "start_time": "2024-06-28T03:54:20.546Z"
   },
   {
    "duration": 5,
    "start_time": "2024-06-28T03:59:56.367Z"
   },
   {
    "duration": 4,
    "start_time": "2024-06-28T03:59:56.375Z"
   },
   {
    "duration": 2670,
    "start_time": "2024-06-28T03:59:56.382Z"
   },
   {
    "duration": 5,
    "start_time": "2024-06-28T03:59:59.055Z"
   },
   {
    "duration": 5168,
    "start_time": "2024-06-28T03:59:59.063Z"
   },
   {
    "duration": 82,
    "start_time": "2024-06-28T04:00:04.234Z"
   },
   {
    "duration": 899,
    "start_time": "2024-06-28T04:00:04.318Z"
   },
   {
    "duration": 5,
    "start_time": "2024-06-28T04:00:05.220Z"
   },
   {
    "duration": 4,
    "start_time": "2024-06-28T04:00:05.229Z"
   },
   {
    "duration": 5,
    "start_time": "2024-06-28T04:00:05.236Z"
   },
   {
    "duration": 4,
    "start_time": "2024-06-28T04:00:05.245Z"
   },
   {
    "duration": 252281,
    "start_time": "2024-06-28T04:00:05.253Z"
   },
   {
    "duration": 4,
    "start_time": "2024-06-28T04:04:17.537Z"
   },
   {
    "duration": 70,
    "start_time": "2024-06-28T04:04:17.544Z"
   },
   {
    "duration": 1302,
    "start_time": "2024-06-28T04:04:17.617Z"
   },
   {
    "duration": 4,
    "start_time": "2024-06-28T04:04:18.922Z"
   },
   {
    "duration": 4,
    "start_time": "2024-06-28T04:04:18.929Z"
   },
   {
    "duration": 171,
    "start_time": "2024-06-28T04:05:41.170Z"
   },
   {
    "duration": 3793,
    "start_time": "2024-06-28T04:06:09.175Z"
   },
   {
    "duration": 1549,
    "start_time": "2024-06-28T04:06:12.973Z"
   },
   {
    "duration": 900,
    "start_time": "2024-06-28T04:06:14.526Z"
   },
   {
    "duration": 5,
    "start_time": "2024-06-28T04:06:15.430Z"
   },
   {
    "duration": 18,
    "start_time": "2024-06-28T04:06:15.439Z"
   },
   {
    "duration": 174,
    "start_time": "2024-06-28T04:06:15.461Z"
   },
   {
    "duration": 22,
    "start_time": "2024-06-28T04:06:15.638Z"
   },
   {
    "duration": 1295,
    "start_time": "2024-06-28T04:06:15.663Z"
   },
   {
    "duration": 170,
    "start_time": "2024-06-28T04:06:16.962Z"
   },
   {
    "duration": 24,
    "start_time": "2024-06-28T04:06:17.139Z"
   },
   {
    "duration": 60,
    "start_time": "2024-06-28T04:06:17.166Z"
   },
   {
    "duration": 43,
    "start_time": "2024-06-28T04:06:17.231Z"
   },
   {
    "duration": 94,
    "start_time": "2024-06-28T04:06:17.277Z"
   },
   {
    "duration": 8,
    "start_time": "2024-06-28T04:06:17.373Z"
   },
   {
    "duration": 42,
    "start_time": "2024-06-28T04:06:17.384Z"
   },
   {
    "duration": 6,
    "start_time": "2024-06-28T04:06:17.429Z"
   },
   {
    "duration": 27,
    "start_time": "2024-06-28T04:06:17.438Z"
   },
   {
    "duration": 58,
    "start_time": "2024-06-28T04:06:17.467Z"
   },
   {
    "duration": 45,
    "start_time": "2024-06-28T04:06:17.528Z"
   },
   {
    "duration": 111,
    "start_time": "2024-06-28T04:06:17.576Z"
   },
   {
    "duration": 38,
    "start_time": "2024-06-28T04:06:17.691Z"
   },
   {
    "duration": 413,
    "start_time": "2024-06-28T04:06:17.736Z"
   },
   {
    "duration": 118,
    "start_time": "2024-06-28T04:06:18.153Z"
   },
   {
    "duration": 52,
    "start_time": "2024-06-28T04:06:18.274Z"
   },
   {
    "duration": 53,
    "start_time": "2024-06-28T04:06:18.328Z"
   },
   {
    "duration": 385,
    "start_time": "2024-06-28T04:06:18.384Z"
   },
   {
    "duration": 56,
    "start_time": "2024-06-28T04:06:18.772Z"
   },
   {
    "duration": 20,
    "start_time": "2024-06-28T04:06:18.837Z"
   },
   {
    "duration": 101,
    "start_time": "2024-06-28T04:06:18.860Z"
   },
   {
    "duration": 31,
    "start_time": "2024-06-28T04:06:18.964Z"
   },
   {
    "duration": 19,
    "start_time": "2024-06-28T04:06:18.997Z"
   },
   {
    "duration": 35,
    "start_time": "2024-06-28T04:06:19.019Z"
   },
   {
    "duration": 15,
    "start_time": "2024-06-28T04:06:19.057Z"
   },
   {
    "duration": 103,
    "start_time": "2024-06-28T04:06:19.075Z"
   },
   {
    "duration": 101,
    "start_time": "2024-06-28T04:06:19.181Z"
   },
   {
    "duration": 31,
    "start_time": "2024-06-28T04:06:19.284Z"
   },
   {
    "duration": 25,
    "start_time": "2024-06-28T04:06:19.318Z"
   },
   {
    "duration": 31,
    "start_time": "2024-06-28T04:06:19.346Z"
   },
   {
    "duration": 1934,
    "start_time": "2024-06-28T04:06:19.380Z"
   },
   {
    "duration": 503,
    "start_time": "2024-06-28T04:06:21.317Z"
   },
   {
    "duration": 23,
    "start_time": "2024-06-28T04:06:21.823Z"
   },
   {
    "duration": 5,
    "start_time": "2024-06-28T04:06:21.850Z"
   },
   {
    "duration": 556,
    "start_time": "2024-06-28T04:06:21.858Z"
   },
   {
    "duration": 98,
    "start_time": "2024-06-28T04:06:22.417Z"
   },
   {
    "duration": 8,
    "start_time": "2024-06-28T04:06:22.518Z"
   },
   {
    "duration": 38187,
    "start_time": "2024-06-28T04:06:22.530Z"
   },
   {
    "duration": 1344,
    "start_time": "2024-06-28T04:07:00.721Z"
   },
   {
    "duration": 7,
    "start_time": "2024-06-28T04:07:02.068Z"
   },
   {
    "duration": 3,
    "start_time": "2024-06-28T04:07:02.078Z"
   },
   {
    "duration": 31,
    "start_time": "2024-06-28T04:07:02.084Z"
   },
   {
    "duration": 329710,
    "start_time": "2024-06-28T04:07:02.118Z"
   },
   {
    "duration": 5,
    "start_time": "2024-06-28T04:12:31.831Z"
   },
   {
    "duration": 4,
    "start_time": "2024-06-28T04:12:31.840Z"
   },
   {
    "duration": 2733,
    "start_time": "2024-06-28T04:12:31.847Z"
   },
   {
    "duration": 4,
    "start_time": "2024-06-28T04:12:34.583Z"
   },
   {
    "duration": 5845,
    "start_time": "2024-06-28T04:12:34.591Z"
   },
   {
    "duration": 94,
    "start_time": "2024-06-28T04:12:40.439Z"
   },
   {
    "duration": 900,
    "start_time": "2024-06-28T04:12:40.536Z"
   },
   {
    "duration": 5,
    "start_time": "2024-06-28T04:12:41.439Z"
   },
   {
    "duration": 4,
    "start_time": "2024-06-28T04:12:41.448Z"
   },
   {
    "duration": 58,
    "start_time": "2024-06-28T04:12:41.455Z"
   },
   {
    "duration": 4,
    "start_time": "2024-06-28T04:12:41.518Z"
   },
   {
    "duration": 250411,
    "start_time": "2024-06-28T04:12:41.530Z"
   },
   {
    "duration": 4,
    "start_time": "2024-06-28T04:16:52.013Z"
   },
   {
    "duration": 4,
    "start_time": "2024-06-28T04:16:52.020Z"
   },
   {
    "duration": 1292,
    "start_time": "2024-06-28T04:16:52.027Z"
   },
   {
    "duration": 4,
    "start_time": "2024-06-28T04:16:53.324Z"
   },
   {
    "duration": 4,
    "start_time": "2024-06-28T04:16:53.331Z"
   },
   {
    "duration": 23243,
    "start_time": "2024-06-28T04:16:53.339Z"
   },
   {
    "duration": 181,
    "start_time": "2024-06-28T04:17:16.585Z"
   },
   {
    "duration": 4,
    "start_time": "2024-06-28T04:17:16.768Z"
   },
   {
    "duration": 5,
    "start_time": "2024-06-28T04:17:16.776Z"
   },
   {
    "duration": 4,
    "start_time": "2024-06-28T04:17:16.784Z"
   },
   {
    "duration": 209776,
    "start_time": "2024-06-28T04:17:16.813Z"
   },
   {
    "duration": 4,
    "start_time": "2024-06-28T04:20:46.592Z"
   },
   {
    "duration": 6,
    "start_time": "2024-06-28T04:20:46.599Z"
   },
   {
    "duration": 184,
    "start_time": "2024-06-28T04:20:46.608Z"
   },
   {
    "duration": 17,
    "start_time": "2024-06-28T04:20:46.796Z"
   },
   {
    "duration": 3,
    "start_time": "2024-06-28T04:20:46.816Z"
   },
   {
    "duration": 4,
    "start_time": "2024-06-28T04:20:46.822Z"
   },
   {
    "duration": 4,
    "start_time": "2024-06-28T04:20:46.829Z"
   },
   {
    "duration": 3,
    "start_time": "2024-06-28T04:20:46.845Z"
   },
   {
    "duration": 4,
    "start_time": "2024-06-28T04:20:46.851Z"
   },
   {
    "duration": 4,
    "start_time": "2024-06-28T04:20:46.859Z"
   },
   {
    "duration": 4,
    "start_time": "2024-06-28T04:20:46.913Z"
   },
   {
    "duration": 4,
    "start_time": "2024-06-28T04:22:15.920Z"
   },
   {
    "duration": 4,
    "start_time": "2024-06-28T04:22:18.995Z"
   },
   {
    "duration": 9,
    "start_time": "2024-06-28T04:34:08.414Z"
   },
   {
    "duration": 314,
    "start_time": "2024-06-28T04:34:17.088Z"
   },
   {
    "duration": 3825,
    "start_time": "2024-06-28T04:34:30.935Z"
   },
   {
    "duration": 1512,
    "start_time": "2024-06-28T04:34:34.764Z"
   },
   {
    "duration": 889,
    "start_time": "2024-06-28T04:34:36.279Z"
   },
   {
    "duration": 6,
    "start_time": "2024-06-28T04:34:37.172Z"
   },
   {
    "duration": 34,
    "start_time": "2024-06-28T04:34:37.180Z"
   },
   {
    "duration": 157,
    "start_time": "2024-06-28T04:34:37.219Z"
   },
   {
    "duration": 35,
    "start_time": "2024-06-28T04:34:37.379Z"
   },
   {
    "duration": 1239,
    "start_time": "2024-06-28T04:34:37.417Z"
   },
   {
    "duration": 155,
    "start_time": "2024-06-28T04:34:38.659Z"
   },
   {
    "duration": 19,
    "start_time": "2024-06-28T04:34:38.820Z"
   },
   {
    "duration": 27,
    "start_time": "2024-06-28T04:34:38.842Z"
   },
   {
    "duration": 69,
    "start_time": "2024-06-28T04:34:38.872Z"
   },
   {
    "duration": 77,
    "start_time": "2024-06-28T04:34:38.946Z"
   },
   {
    "duration": 6,
    "start_time": "2024-06-28T04:34:39.029Z"
   },
   {
    "duration": 19,
    "start_time": "2024-06-28T04:34:39.038Z"
   },
   {
    "duration": 6,
    "start_time": "2024-06-28T04:34:39.059Z"
   },
   {
    "duration": 52,
    "start_time": "2024-06-28T04:34:39.068Z"
   },
   {
    "duration": 24,
    "start_time": "2024-06-28T04:34:39.124Z"
   },
   {
    "duration": 67,
    "start_time": "2024-06-28T04:34:39.151Z"
   },
   {
    "duration": 103,
    "start_time": "2024-06-28T04:34:39.221Z"
   },
   {
    "duration": 20,
    "start_time": "2024-06-28T04:34:39.326Z"
   },
   {
    "duration": 412,
    "start_time": "2024-06-28T04:34:39.349Z"
   },
   {
    "duration": 112,
    "start_time": "2024-06-28T04:34:39.764Z"
   },
   {
    "duration": 53,
    "start_time": "2024-06-28T04:34:39.879Z"
   },
   {
    "duration": 54,
    "start_time": "2024-06-28T04:34:39.935Z"
   },
   {
    "duration": 358,
    "start_time": "2024-06-28T04:34:40.013Z"
   },
   {
    "duration": 55,
    "start_time": "2024-06-28T04:34:40.374Z"
   },
   {
    "duration": 20,
    "start_time": "2024-06-28T04:34:40.439Z"
   },
   {
    "duration": 105,
    "start_time": "2024-06-28T04:34:40.462Z"
   },
   {
    "duration": 43,
    "start_time": "2024-06-28T04:34:40.569Z"
   },
   {
    "duration": 6,
    "start_time": "2024-06-28T04:34:40.615Z"
   },
   {
    "duration": 34,
    "start_time": "2024-06-28T04:34:40.624Z"
   },
   {
    "duration": 16,
    "start_time": "2024-06-28T04:34:40.661Z"
   },
   {
    "duration": 69,
    "start_time": "2024-06-28T04:34:40.713Z"
   },
   {
    "duration": 104,
    "start_time": "2024-06-28T04:34:40.785Z"
   },
   {
    "duration": 27,
    "start_time": "2024-06-28T04:34:40.892Z"
   },
   {
    "duration": 28,
    "start_time": "2024-06-28T04:34:40.922Z"
   },
   {
    "duration": 60,
    "start_time": "2024-06-28T04:34:40.953Z"
   },
   {
    "duration": 1940,
    "start_time": "2024-06-28T04:34:41.016Z"
   },
   {
    "duration": 534,
    "start_time": "2024-06-28T04:34:42.959Z"
   },
   {
    "duration": 37,
    "start_time": "2024-06-28T04:34:43.496Z"
   },
   {
    "duration": 6,
    "start_time": "2024-06-28T04:34:43.536Z"
   },
   {
    "duration": 568,
    "start_time": "2024-06-28T04:34:43.546Z"
   },
   {
    "duration": 29,
    "start_time": "2024-06-28T04:34:44.117Z"
   },
   {
    "duration": 68,
    "start_time": "2024-06-28T04:34:44.149Z"
   },
   {
    "duration": 38711,
    "start_time": "2024-06-28T04:34:44.220Z"
   },
   {
    "duration": 1434,
    "start_time": "2024-06-28T04:35:22.934Z"
   },
   {
    "duration": 6,
    "start_time": "2024-06-28T04:35:24.371Z"
   },
   {
    "duration": 4,
    "start_time": "2024-06-28T04:35:24.381Z"
   },
   {
    "duration": 6,
    "start_time": "2024-06-28T04:35:24.413Z"
   },
   {
    "duration": 330186,
    "start_time": "2024-06-28T04:35:24.423Z"
   },
   {
    "duration": 5,
    "start_time": "2024-06-28T04:40:54.613Z"
   },
   {
    "duration": 4,
    "start_time": "2024-06-28T04:40:54.622Z"
   },
   {
    "duration": 2701,
    "start_time": "2024-06-28T04:40:54.629Z"
   },
   {
    "duration": 4,
    "start_time": "2024-06-28T04:40:57.332Z"
   },
   {
    "duration": 22175,
    "start_time": "2024-06-28T04:40:57.340Z"
   },
   {
    "duration": 30,
    "start_time": "2024-06-28T04:41:19.518Z"
   },
   {
    "duration": 883,
    "start_time": "2024-06-28T04:41:19.551Z"
   },
   {
    "duration": 5,
    "start_time": "2024-06-28T04:41:20.437Z"
   },
   {
    "duration": 67,
    "start_time": "2024-06-28T04:41:20.445Z"
   },
   {
    "duration": 4,
    "start_time": "2024-06-28T04:41:20.516Z"
   },
   {
    "duration": 5,
    "start_time": "2024-06-28T04:41:20.524Z"
   },
   {
    "duration": 252089,
    "start_time": "2024-06-28T04:41:20.532Z"
   },
   {
    "duration": 3,
    "start_time": "2024-06-28T04:45:32.624Z"
   },
   {
    "duration": 5,
    "start_time": "2024-06-28T04:45:32.630Z"
   },
   {
    "duration": 1306,
    "start_time": "2024-06-28T04:45:32.639Z"
   },
   {
    "duration": 4,
    "start_time": "2024-06-28T04:45:33.948Z"
   },
   {
    "duration": 4,
    "start_time": "2024-06-28T04:45:33.956Z"
   },
   {
    "duration": 23523,
    "start_time": "2024-06-28T04:45:34.013Z"
   },
   {
    "duration": 175,
    "start_time": "2024-06-28T04:45:57.541Z"
   },
   {
    "duration": 3,
    "start_time": "2024-06-28T04:45:57.719Z"
   },
   {
    "duration": 4,
    "start_time": "2024-06-28T04:45:57.726Z"
   },
   {
    "duration": 6,
    "start_time": "2024-06-28T04:45:57.732Z"
   },
   {
    "duration": 96942,
    "start_time": "2024-06-28T04:45:57.741Z"
   },
   {
    "duration": 4,
    "start_time": "2024-06-28T04:47:34.685Z"
   },
   {
    "duration": 6,
    "start_time": "2024-06-28T04:47:34.693Z"
   },
   {
    "duration": 178,
    "start_time": "2024-06-28T04:47:34.701Z"
   },
   {
    "duration": 4,
    "start_time": "2024-06-28T04:47:34.882Z"
   },
   {
    "duration": 4,
    "start_time": "2024-06-28T04:47:34.890Z"
   },
   {
    "duration": 4,
    "start_time": "2024-06-28T04:47:34.913Z"
   },
   {
    "duration": 3,
    "start_time": "2024-06-28T04:47:34.920Z"
   },
   {
    "duration": 3,
    "start_time": "2024-06-28T04:47:34.935Z"
   },
   {
    "duration": 4,
    "start_time": "2024-06-28T04:47:34.942Z"
   },
   {
    "duration": 4,
    "start_time": "2024-06-28T04:47:34.949Z"
   },
   {
    "duration": 4,
    "start_time": "2024-06-28T04:47:34.957Z"
   },
   {
    "duration": 3,
    "start_time": "2024-06-28T04:48:12.800Z"
   },
   {
    "duration": 4,
    "start_time": "2024-06-28T04:48:12.818Z"
   },
   {
    "duration": 289516,
    "start_time": "2024-06-28T04:48:12.826Z"
   },
   {
    "duration": 3,
    "start_time": "2024-06-28T04:53:02.345Z"
   },
   {
    "duration": 7,
    "start_time": "2024-06-28T04:53:02.352Z"
   },
   {
    "duration": 250,
    "start_time": "2024-06-28T04:53:02.364Z"
   },
   {
    "duration": 4,
    "start_time": "2024-06-28T04:53:02.617Z"
   },
   {
    "duration": 4,
    "start_time": "2024-06-28T04:53:02.625Z"
   },
   {
    "duration": 4,
    "start_time": "2024-06-28T04:53:02.633Z"
   },
   {
    "duration": 5,
    "start_time": "2024-06-28T04:53:02.640Z"
   },
   {
    "duration": 4,
    "start_time": "2024-06-28T04:53:02.648Z"
   },
   {
    "duration": 4,
    "start_time": "2024-06-28T04:53:02.655Z"
   },
   {
    "duration": 4,
    "start_time": "2024-06-28T04:53:02.712Z"
   },
   {
    "duration": 4,
    "start_time": "2024-06-28T04:53:02.720Z"
   },
   {
    "duration": 3972,
    "start_time": "2024-06-28T04:55:11.439Z"
   },
   {
    "duration": 1620,
    "start_time": "2024-06-28T04:55:15.415Z"
   },
   {
    "duration": 856,
    "start_time": "2024-06-28T04:55:17.037Z"
   },
   {
    "duration": 16,
    "start_time": "2024-06-28T04:55:17.896Z"
   },
   {
    "duration": 20,
    "start_time": "2024-06-28T04:55:17.918Z"
   },
   {
    "duration": 178,
    "start_time": "2024-06-28T04:55:17.942Z"
   },
   {
    "duration": 22,
    "start_time": "2024-06-28T04:55:18.123Z"
   },
   {
    "duration": 1250,
    "start_time": "2024-06-28T04:55:18.148Z"
   },
   {
    "duration": 229,
    "start_time": "2024-06-28T04:55:19.401Z"
   },
   {
    "duration": 19,
    "start_time": "2024-06-28T04:55:19.633Z"
   },
   {
    "duration": 31,
    "start_time": "2024-06-28T04:55:19.713Z"
   },
   {
    "duration": 88,
    "start_time": "2024-06-28T04:55:19.747Z"
   },
   {
    "duration": 117,
    "start_time": "2024-06-28T04:55:19.837Z"
   },
   {
    "duration": 53,
    "start_time": "2024-06-28T04:55:19.961Z"
   },
   {
    "duration": 20,
    "start_time": "2024-06-28T04:55:20.017Z"
   },
   {
    "duration": 6,
    "start_time": "2024-06-28T04:55:20.040Z"
   },
   {
    "duration": 22,
    "start_time": "2024-06-28T04:55:20.050Z"
   },
   {
    "duration": 60,
    "start_time": "2024-06-28T04:55:20.074Z"
   },
   {
    "duration": 37,
    "start_time": "2024-06-28T04:55:20.137Z"
   },
   {
    "duration": 124,
    "start_time": "2024-06-28T04:55:20.177Z"
   },
   {
    "duration": 28,
    "start_time": "2024-06-28T04:55:20.312Z"
   },
   {
    "duration": 425,
    "start_time": "2024-06-28T04:55:20.343Z"
   },
   {
    "duration": 116,
    "start_time": "2024-06-28T04:55:20.770Z"
   },
   {
    "duration": 49,
    "start_time": "2024-06-28T04:55:20.889Z"
   },
   {
    "duration": 78,
    "start_time": "2024-06-28T04:55:20.941Z"
   },
   {
    "duration": 361,
    "start_time": "2024-06-28T04:55:21.023Z"
   },
   {
    "duration": 44,
    "start_time": "2024-06-28T04:55:21.387Z"
   },
   {
    "duration": 20,
    "start_time": "2024-06-28T04:55:21.434Z"
   },
   {
    "duration": 116,
    "start_time": "2024-06-28T04:55:21.457Z"
   },
   {
    "duration": 37,
    "start_time": "2024-06-28T04:55:21.576Z"
   },
   {
    "duration": 6,
    "start_time": "2024-06-28T04:55:21.616Z"
   },
   {
    "duration": 37,
    "start_time": "2024-06-28T04:55:21.625Z"
   },
   {
    "duration": 47,
    "start_time": "2024-06-28T04:55:21.665Z"
   },
   {
    "duration": 69,
    "start_time": "2024-06-28T04:55:21.716Z"
   },
   {
    "duration": 108,
    "start_time": "2024-06-28T04:55:21.788Z"
   },
   {
    "duration": 21,
    "start_time": "2024-06-28T04:55:21.899Z"
   },
   {
    "duration": 26,
    "start_time": "2024-06-28T04:55:21.923Z"
   },
   {
    "duration": 60,
    "start_time": "2024-06-28T04:55:21.952Z"
   },
   {
    "duration": 1930,
    "start_time": "2024-06-28T04:55:22.014Z"
   },
   {
    "duration": 515,
    "start_time": "2024-06-28T04:55:23.946Z"
   },
   {
    "duration": 23,
    "start_time": "2024-06-28T04:55:24.471Z"
   },
   {
    "duration": 6,
    "start_time": "2024-06-28T04:55:24.513Z"
   },
   {
    "duration": 502,
    "start_time": "2024-06-28T04:55:24.523Z"
   },
   {
    "duration": 99,
    "start_time": "2024-06-28T04:55:25.033Z"
   },
   {
    "duration": 75,
    "start_time": "2024-06-28T04:55:25.139Z"
   },
   {
    "duration": 37750,
    "start_time": "2024-06-28T04:55:25.222Z"
   },
   {
    "duration": 1392,
    "start_time": "2024-06-28T04:56:02.975Z"
   },
   {
    "duration": 7,
    "start_time": "2024-06-28T04:56:04.370Z"
   },
   {
    "duration": 5,
    "start_time": "2024-06-28T04:56:04.380Z"
   },
   {
    "duration": 28,
    "start_time": "2024-06-28T04:56:04.388Z"
   },
   {
    "duration": 331352,
    "start_time": "2024-06-28T04:56:04.418Z"
   },
   {
    "duration": 5,
    "start_time": "2024-06-28T05:01:35.774Z"
   },
   {
    "duration": 30,
    "start_time": "2024-06-28T05:01:35.782Z"
   },
   {
    "duration": 2698,
    "start_time": "2024-06-28T05:01:35.816Z"
   },
   {
    "duration": 7,
    "start_time": "2024-06-28T05:01:38.517Z"
   },
   {
    "duration": 7091,
    "start_time": "2024-06-28T05:01:38.528Z"
   },
   {
    "duration": 923,
    "start_time": "2024-06-28T05:01:45.622Z"
   },
   {
    "duration": 5,
    "start_time": "2024-06-28T05:01:46.548Z"
   },
   {
    "duration": 4,
    "start_time": "2024-06-28T05:01:46.556Z"
   },
   {
    "duration": 4,
    "start_time": "2024-06-28T05:01:46.563Z"
   },
   {
    "duration": 42,
    "start_time": "2024-06-28T05:01:46.570Z"
   },
   {
    "duration": 248997,
    "start_time": "2024-06-28T05:01:46.616Z"
   },
   {
    "duration": 4,
    "start_time": "2024-06-28T05:05:55.616Z"
   },
   {
    "duration": 6,
    "start_time": "2024-06-28T05:05:55.623Z"
   },
   {
    "duration": 1296,
    "start_time": "2024-06-28T05:05:55.632Z"
   },
   {
    "duration": 3,
    "start_time": "2024-06-28T05:05:56.932Z"
   },
   {
    "duration": 4,
    "start_time": "2024-06-28T05:05:56.938Z"
   },
   {
    "duration": 23165,
    "start_time": "2024-06-28T05:05:56.946Z"
   },
   {
    "duration": 188,
    "start_time": "2024-06-28T05:06:20.114Z"
   },
   {
    "duration": 9,
    "start_time": "2024-06-28T05:06:20.304Z"
   },
   {
    "duration": 7,
    "start_time": "2024-06-28T05:06:20.316Z"
   },
   {
    "duration": 0,
    "start_time": "2024-06-28T05:06:20.327Z"
   },
   {
    "duration": 0,
    "start_time": "2024-06-28T05:06:20.328Z"
   },
   {
    "duration": 0,
    "start_time": "2024-06-28T05:06:20.330Z"
   },
   {
    "duration": 0,
    "start_time": "2024-06-28T05:06:20.332Z"
   },
   {
    "duration": 0,
    "start_time": "2024-06-28T05:06:20.334Z"
   },
   {
    "duration": 0,
    "start_time": "2024-06-28T05:06:20.336Z"
   },
   {
    "duration": 0,
    "start_time": "2024-06-28T05:06:20.338Z"
   },
   {
    "duration": 0,
    "start_time": "2024-06-28T05:06:20.339Z"
   },
   {
    "duration": 0,
    "start_time": "2024-06-28T05:06:20.342Z"
   },
   {
    "duration": 1,
    "start_time": "2024-06-28T05:06:20.343Z"
   },
   {
    "duration": 0,
    "start_time": "2024-06-28T05:06:20.345Z"
   },
   {
    "duration": 0,
    "start_time": "2024-06-28T05:06:20.347Z"
   },
   {
    "duration": 0,
    "start_time": "2024-06-28T05:06:20.348Z"
   },
   {
    "duration": 5,
    "start_time": "2024-06-28T05:15:51.006Z"
   },
   {
    "duration": 4,
    "start_time": "2024-06-28T05:16:39.844Z"
   },
   {
    "duration": 3405,
    "start_time": "2024-06-28T05:16:52.949Z"
   },
   {
    "duration": 1442,
    "start_time": "2024-06-28T05:16:56.358Z"
   },
   {
    "duration": 895,
    "start_time": "2024-06-28T05:16:57.803Z"
   },
   {
    "duration": 12,
    "start_time": "2024-06-28T05:16:58.701Z"
   },
   {
    "duration": 24,
    "start_time": "2024-06-28T05:16:58.723Z"
   },
   {
    "duration": 191,
    "start_time": "2024-06-28T05:16:58.751Z"
   },
   {
    "duration": 24,
    "start_time": "2024-06-28T05:16:58.945Z"
   },
   {
    "duration": 1276,
    "start_time": "2024-06-28T05:16:58.972Z"
   },
   {
    "duration": 149,
    "start_time": "2024-06-28T05:17:00.251Z"
   },
   {
    "duration": 26,
    "start_time": "2024-06-28T05:17:00.403Z"
   },
   {
    "duration": 26,
    "start_time": "2024-06-28T05:17:00.432Z"
   },
   {
    "duration": 70,
    "start_time": "2024-06-28T05:17:00.461Z"
   },
   {
    "duration": 79,
    "start_time": "2024-06-28T05:17:00.534Z"
   },
   {
    "duration": 7,
    "start_time": "2024-06-28T05:17:00.619Z"
   },
   {
    "duration": 19,
    "start_time": "2024-06-28T05:17:00.629Z"
   },
   {
    "duration": 7,
    "start_time": "2024-06-28T05:17:00.651Z"
   },
   {
    "duration": 56,
    "start_time": "2024-06-28T05:17:00.661Z"
   },
   {
    "duration": 24,
    "start_time": "2024-06-28T05:17:00.720Z"
   },
   {
    "duration": 36,
    "start_time": "2024-06-28T05:17:00.747Z"
   },
   {
    "duration": 108,
    "start_time": "2024-06-28T05:17:00.813Z"
   },
   {
    "duration": 20,
    "start_time": "2024-06-28T05:17:00.924Z"
   },
   {
    "duration": 418,
    "start_time": "2024-06-28T05:17:00.947Z"
   },
   {
    "duration": 114,
    "start_time": "2024-06-28T05:17:01.368Z"
   },
   {
    "duration": 52,
    "start_time": "2024-06-28T05:17:01.486Z"
   },
   {
    "duration": 73,
    "start_time": "2024-06-28T05:17:01.542Z"
   },
   {
    "duration": 356,
    "start_time": "2024-06-28T05:17:01.618Z"
   },
   {
    "duration": 50,
    "start_time": "2024-06-28T05:17:01.976Z"
   },
   {
    "duration": 19,
    "start_time": "2024-06-28T05:17:02.029Z"
   },
   {
    "duration": 103,
    "start_time": "2024-06-28T05:17:02.052Z"
   },
   {
    "duration": 30,
    "start_time": "2024-06-28T05:17:02.159Z"
   },
   {
    "duration": 22,
    "start_time": "2024-06-28T05:17:02.193Z"
   },
   {
    "duration": 37,
    "start_time": "2024-06-28T05:17:02.219Z"
   },
   {
    "duration": 15,
    "start_time": "2024-06-28T05:17:02.259Z"
   },
   {
    "duration": 69,
    "start_time": "2024-06-28T05:17:02.313Z"
   },
   {
    "duration": 106,
    "start_time": "2024-06-28T05:17:02.385Z"
   },
   {
    "duration": 26,
    "start_time": "2024-06-28T05:17:02.495Z"
   },
   {
    "duration": 26,
    "start_time": "2024-06-28T05:17:02.524Z"
   },
   {
    "duration": 64,
    "start_time": "2024-06-28T05:17:02.553Z"
   },
   {
    "duration": 1949,
    "start_time": "2024-06-28T05:17:02.620Z"
   },
   {
    "duration": 537,
    "start_time": "2024-06-28T05:17:04.572Z"
   },
   {
    "duration": 22,
    "start_time": "2024-06-28T05:17:05.122Z"
   },
   {
    "duration": 6,
    "start_time": "2024-06-28T05:17:05.147Z"
   },
   {
    "duration": 559,
    "start_time": "2024-06-28T05:17:05.156Z"
   },
   {
    "duration": 26,
    "start_time": "2024-06-28T05:17:05.718Z"
   },
   {
    "duration": 70,
    "start_time": "2024-06-28T05:17:05.746Z"
   },
   {
    "duration": 38117,
    "start_time": "2024-06-28T05:17:05.819Z"
   },
   {
    "duration": 1338,
    "start_time": "2024-06-28T05:17:43.940Z"
   },
   {
    "duration": 8,
    "start_time": "2024-06-28T05:17:45.280Z"
   },
   {
    "duration": 21,
    "start_time": "2024-06-28T05:17:45.291Z"
   },
   {
    "duration": 6,
    "start_time": "2024-06-28T05:17:45.316Z"
   },
   {
    "duration": 328232,
    "start_time": "2024-06-28T05:17:45.325Z"
   },
   {
    "duration": 5,
    "start_time": "2024-06-28T05:23:13.561Z"
   },
   {
    "duration": 5,
    "start_time": "2024-06-28T05:23:13.570Z"
   },
   {
    "duration": 2738,
    "start_time": "2024-06-28T05:23:13.578Z"
   },
   {
    "duration": 4,
    "start_time": "2024-06-28T05:23:16.319Z"
   },
   {
    "duration": 4692,
    "start_time": "2024-06-28T05:23:16.326Z"
   },
   {
    "duration": 902,
    "start_time": "2024-06-28T05:23:21.021Z"
   },
   {
    "duration": 6,
    "start_time": "2024-06-28T05:23:21.926Z"
   },
   {
    "duration": 4,
    "start_time": "2024-06-28T05:23:21.935Z"
   },
   {
    "duration": 4,
    "start_time": "2024-06-28T05:23:21.944Z"
   },
   {
    "duration": 5,
    "start_time": "2024-06-28T05:23:22.015Z"
   },
   {
    "duration": 246907,
    "start_time": "2024-06-28T05:23:22.023Z"
   },
   {
    "duration": 4,
    "start_time": "2024-06-28T05:27:28.932Z"
   },
   {
    "duration": 4,
    "start_time": "2024-06-28T05:27:28.939Z"
   },
   {
    "duration": 1288,
    "start_time": "2024-06-28T05:27:28.946Z"
   },
   {
    "duration": 4,
    "start_time": "2024-06-28T05:27:30.237Z"
   },
   {
    "duration": 4,
    "start_time": "2024-06-28T05:27:30.245Z"
   },
   {
    "duration": 23301,
    "start_time": "2024-06-28T05:27:30.312Z"
   },
   {
    "duration": 184,
    "start_time": "2024-06-28T05:27:53.616Z"
   },
   {
    "duration": 12,
    "start_time": "2024-06-28T05:27:53.803Z"
   },
   {
    "duration": 6,
    "start_time": "2024-06-28T05:27:53.817Z"
   },
   {
    "duration": 4,
    "start_time": "2024-06-28T05:27:53.831Z"
   },
   {
    "duration": 3802,
    "start_time": "2024-06-28T05:34:57.901Z"
   },
   {
    "duration": 1560,
    "start_time": "2024-06-28T05:35:01.706Z"
   },
   {
    "duration": 915,
    "start_time": "2024-06-28T05:35:03.269Z"
   },
   {
    "duration": 6,
    "start_time": "2024-06-28T05:35:04.189Z"
   },
   {
    "duration": 18,
    "start_time": "2024-06-28T05:35:04.213Z"
   },
   {
    "duration": 157,
    "start_time": "2024-06-28T05:35:04.235Z"
   },
   {
    "duration": 37,
    "start_time": "2024-06-28T05:35:04.396Z"
   },
   {
    "duration": 1266,
    "start_time": "2024-06-28T05:35:04.435Z"
   },
   {
    "duration": 149,
    "start_time": "2024-06-28T05:35:05.704Z"
   },
   {
    "duration": 18,
    "start_time": "2024-06-28T05:35:05.859Z"
   },
   {
    "duration": 49,
    "start_time": "2024-06-28T05:35:05.880Z"
   },
   {
    "duration": 36,
    "start_time": "2024-06-28T05:35:05.931Z"
   },
   {
    "duration": 81,
    "start_time": "2024-06-28T05:35:05.970Z"
   },
   {
    "duration": 6,
    "start_time": "2024-06-28T05:35:06.054Z"
   },
   {
    "duration": 18,
    "start_time": "2024-06-28T05:35:06.064Z"
   },
   {
    "duration": 30,
    "start_time": "2024-06-28T05:35:06.086Z"
   },
   {
    "duration": 20,
    "start_time": "2024-06-28T05:35:06.119Z"
   },
   {
    "duration": 24,
    "start_time": "2024-06-28T05:35:06.142Z"
   },
   {
    "duration": 69,
    "start_time": "2024-06-28T05:35:06.170Z"
   },
   {
    "duration": 102,
    "start_time": "2024-06-28T05:35:06.242Z"
   },
   {
    "duration": 19,
    "start_time": "2024-06-28T05:35:06.347Z"
   },
   {
    "duration": 407,
    "start_time": "2024-06-28T05:35:06.370Z"
   },
   {
    "duration": 111,
    "start_time": "2024-06-28T05:35:06.780Z"
   },
   {
    "duration": 48,
    "start_time": "2024-06-28T05:35:06.894Z"
   },
   {
    "duration": 78,
    "start_time": "2024-06-28T05:35:06.946Z"
   },
   {
    "duration": 348,
    "start_time": "2024-06-28T05:35:07.027Z"
   },
   {
    "duration": 52,
    "start_time": "2024-06-28T05:35:07.378Z"
   },
   {
    "duration": 20,
    "start_time": "2024-06-28T05:35:07.441Z"
   },
   {
    "duration": 98,
    "start_time": "2024-06-28T05:35:07.464Z"
   },
   {
    "duration": 46,
    "start_time": "2024-06-28T05:35:07.566Z"
   },
   {
    "duration": 6,
    "start_time": "2024-06-28T05:35:07.614Z"
   },
   {
    "duration": 34,
    "start_time": "2024-06-28T05:35:07.624Z"
   },
   {
    "duration": 16,
    "start_time": "2024-06-28T05:35:07.661Z"
   },
   {
    "duration": 69,
    "start_time": "2024-06-28T05:35:07.713Z"
   },
   {
    "duration": 101,
    "start_time": "2024-06-28T05:35:07.784Z"
   },
   {
    "duration": 30,
    "start_time": "2024-06-28T05:35:07.888Z"
   },
   {
    "duration": 27,
    "start_time": "2024-06-28T05:35:07.921Z"
   },
   {
    "duration": 32,
    "start_time": "2024-06-28T05:35:07.951Z"
   },
   {
    "duration": 1945,
    "start_time": "2024-06-28T05:35:08.013Z"
   },
   {
    "duration": 512,
    "start_time": "2024-06-28T05:35:09.960Z"
   },
   {
    "duration": 37,
    "start_time": "2024-06-28T05:35:10.475Z"
   },
   {
    "duration": 6,
    "start_time": "2024-06-28T05:35:10.516Z"
   },
   {
    "duration": 504,
    "start_time": "2024-06-28T05:35:10.526Z"
   },
   {
    "duration": 101,
    "start_time": "2024-06-28T05:35:11.033Z"
   },
   {
    "duration": 74,
    "start_time": "2024-06-28T05:35:11.139Z"
   },
   {
    "duration": 37396,
    "start_time": "2024-06-28T05:35:11.216Z"
   },
   {
    "duration": 1330,
    "start_time": "2024-06-28T05:35:48.615Z"
   },
   {
    "duration": 7,
    "start_time": "2024-06-28T05:35:49.948Z"
   },
   {
    "duration": 4,
    "start_time": "2024-06-28T05:35:49.958Z"
   },
   {
    "duration": 6,
    "start_time": "2024-06-28T05:35:49.965Z"
   },
   {
    "duration": 328882,
    "start_time": "2024-06-28T05:35:49.975Z"
   },
   {
    "duration": 5,
    "start_time": "2024-06-28T05:41:18.859Z"
   },
   {
    "duration": 5,
    "start_time": "2024-06-28T05:41:18.867Z"
   },
   {
    "duration": 2674,
    "start_time": "2024-06-28T05:41:18.876Z"
   },
   {
    "duration": 4,
    "start_time": "2024-06-28T05:41:21.553Z"
   },
   {
    "duration": 4878,
    "start_time": "2024-06-28T05:41:21.561Z"
   },
   {
    "duration": 971,
    "start_time": "2024-06-28T05:41:26.442Z"
   },
   {
    "duration": 5,
    "start_time": "2024-06-28T05:41:27.416Z"
   },
   {
    "duration": 5,
    "start_time": "2024-06-28T05:41:27.425Z"
   },
   {
    "duration": 5,
    "start_time": "2024-06-28T05:41:27.434Z"
   },
   {
    "duration": 5,
    "start_time": "2024-06-28T05:41:27.442Z"
   },
   {
    "duration": 248971,
    "start_time": "2024-06-28T05:41:27.450Z"
   },
   {
    "duration": 4,
    "start_time": "2024-06-28T05:45:36.423Z"
   },
   {
    "duration": 4,
    "start_time": "2024-06-28T05:45:36.430Z"
   },
   {
    "duration": 1294,
    "start_time": "2024-06-28T05:45:36.438Z"
   },
   {
    "duration": 3,
    "start_time": "2024-06-28T05:45:37.736Z"
   },
   {
    "duration": 4,
    "start_time": "2024-06-28T05:45:37.743Z"
   },
   {
    "duration": 24017,
    "start_time": "2024-06-28T05:45:37.751Z"
   },
   {
    "duration": 182,
    "start_time": "2024-06-28T05:46:01.773Z"
   },
   {
    "duration": 4,
    "start_time": "2024-06-28T05:46:01.960Z"
   },
   {
    "duration": 4,
    "start_time": "2024-06-28T05:46:01.967Z"
   },
   {
    "duration": 5,
    "start_time": "2024-06-28T05:46:01.975Z"
   },
   {
    "duration": 295530,
    "start_time": "2024-06-28T05:46:01.983Z"
   },
   {
    "duration": 3,
    "start_time": "2024-06-28T05:50:57.516Z"
   },
   {
    "duration": 6,
    "start_time": "2024-06-28T05:50:57.523Z"
   },
   {
    "duration": 259,
    "start_time": "2024-06-28T05:50:57.532Z"
   },
   {
    "duration": 3,
    "start_time": "2024-06-28T05:50:57.794Z"
   },
   {
    "duration": 4,
    "start_time": "2024-06-28T05:50:57.813Z"
   },
   {
    "duration": 4,
    "start_time": "2024-06-28T05:50:57.820Z"
   },
   {
    "duration": 4,
    "start_time": "2024-06-28T05:50:57.826Z"
   },
   {
    "duration": 4,
    "start_time": "2024-06-28T05:50:57.832Z"
   },
   {
    "duration": 3,
    "start_time": "2024-06-28T05:50:57.849Z"
   },
   {
    "duration": 4,
    "start_time": "2024-06-28T05:50:57.856Z"
   },
   {
    "duration": 3,
    "start_time": "2024-06-28T05:50:57.915Z"
   }
  ],
  "kernelspec": {
   "display_name": "Python 3 (ipykernel)",
   "language": "python",
   "name": "python3"
  },
  "language_info": {
   "codemirror_mode": {
    "name": "ipython",
    "version": 3
   },
   "file_extension": ".py",
   "mimetype": "text/x-python",
   "name": "python",
   "nbconvert_exporter": "python",
   "pygments_lexer": "ipython3",
   "version": "3.9.19"
  },
  "toc": {
   "base_numbering": 1,
   "nav_menu": {},
   "number_sections": true,
   "sideBar": true,
   "skip_h1_title": true,
   "title_cell": "Table of Contents",
   "title_sidebar": "Contents",
   "toc_cell": false,
   "toc_position": {},
   "toc_section_display": true,
   "toc_window_display": false
  }
 },
 "nbformat": 4,
 "nbformat_minor": 2
}
