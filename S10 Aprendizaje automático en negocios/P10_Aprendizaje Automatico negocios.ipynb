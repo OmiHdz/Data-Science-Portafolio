{
 "cells": [
  {
   "cell_type": "markdown",
   "metadata": {},
   "source": [
    "# Descripción del proyecto\n",
    "\n",
    "En la compañía de extracción de petróleo OilyGiant. Nuestra tarea es encontrar los mejores lugares donde **abrir 200 pozos nuevos de petróleo**.\n",
    "\n",
    "Para completar esta tarea, realizaremos los siguientes pasos:\n",
    "\n",
    "- Leer los archivos con los parámetros recogidos de pozos petrolíferos en la región seleccionada: calidad de crudo y volumen de reservas.\n",
    "- Crear un modelo para predecir el volumen de reservas en pozos nuevos.\n",
    "- Elegir los pozos petrolíferos que tienen los valores estimados más altos.\n",
    "- Elegir la región con el beneficio total más alto para los pozos petrolíferos seleccionados.\n",
    "\n",
    "Tenemos datos sobre muestras de crudo de tres regiones. Ya se conocen los parámetros de cada pozo petrolero de la región. Crearemos un modelo que ayude a elegir la región con el mayor margen de beneficio. Analiza los beneficios y riesgos potenciales utilizando la técnica *bootstrapping*.\n",
    "\n",
    "### Condiciones:\n",
    "\n",
    "- Solo se debe usar la regresión lineal para el entrenamiento del modelo.\n",
    "- Al explorar la región, se lleva a cabo un estudio de 500 puntos con la selección de los mejores 200 puntos para el cálculo del beneficio.\n",
    "- El presupuesto para el desarrollo de 200 pozos petroleros es de 100 millones de dólares.\n",
    "- Un barril de materias primas genera 4.5 USD de ingresos. El ingreso de una unidad de producto es de 4500 dólares (el volumen de reservas está expresado en miles de barriles).\n",
    "- Después de la evaluación de riesgo, mantén solo las regiones con riesgo de pérdidas inferior al 2.5%. De las que se ajustan a los criterios, se debe seleccionar la región con el beneficio promedio más alto.\n",
    "\n",
    "Los datos son sintéticos: los detalles del contrato y las características del pozo no se publican.\n",
    "\n",
    "### Descripción de datos\n",
    "\n",
    "Los datos de exploración geológica de las tres regiones se almacenan en archivos:\n",
    "\n",
    "- `geo_data_0.csv`. [**Descarga el conjunto de datos**](https://practicum-content.s3.us-west-1.amazonaws.com/datasets/geo_data_0.csv)\n",
    "- `geo_data_1.csv`. [**Descarga el conjunto de datos**](https://practicum-content.s3.us-west-1.amazonaws.com/datasets/geo_data_1.csv)\n",
    "- `geo_data_2.csv`. [**Descarga el conjunto de datos**](https://practicum-content.s3.us-west-1.amazonaws.com/datasets/geo_data_2.csv)\n",
    "- *id* — identificador único de pozo de petróleo\n",
    "- *f0, f1, f2* — tres características de los puntos (su significado específico no es importante, pero las características en sí son significativas)\n",
    "- *product* — volumen de reservas en el pozo de petróleo (miles de barriles).\n",
    "\n",
    "### Dentro de los puntos a cumplir:\n",
    "1. Descarga y prepara los datos. Explica el procedimiento.\n",
    "2. Entrena y prueba el modelo para cada región en `geo_data_0.csv`:\n",
    "    1. Divide los datos en un conjunto de entrenamiento y un conjunto de validación en una proporción de 75:25\n",
    "    2. Entrena el modelo y haz predicciones para el conjunto de validación.\n",
    "    3. Guarda las predicciones y las respuestas correctas para el conjunto de validación.\n",
    "    4. Muestra el volumen medio de reservas predicho y *RMSE* del modelo.\n",
    "    5. Analiza los resultados.\n",
    "    6. Coloca todos los pasos previos en funciones, realiza y ejecuta los pasos 2.1-2.5 para los archivos 'geo_data_1.csv' y 'geo_data_2.csv'.\n",
    "3. Prepárate para el cálculo de ganancias:\n",
    "    1. Almacena todos los valores necesarios para los cálculos en variables separadas.\n",
    "    2. Dada la inversión de 100 millones por 200 pozos petrolíferos, de media un pozo petrolífero debe producir al menos un valor de 500,000 dólares en unidades para evitar pérdidas (esto es equivalente a 111.1 unidades). Compara esta cantidad con la cantidad media de reservas en cada región.\n",
    "    3. Presenta conclusiones sobre cómo preparar el paso para calcular el beneficio.\n",
    "4. Escribe una función para calcular la ganancia de un conjunto de pozos de petróleo seleccionados y modela las predicciones:\n",
    "    1. Elige los 200 pozos con los valores de predicción más altos de cada una de las 3 regiones (es decir, archivos 'csv').\n",
    "    2. Resume el volumen objetivo de reservas según dichas predicciones. Almacena las predicciones para los 200 pozos para cada una de las 3 regiones.\n",
    "    3. Calcula la ganancia potencial de los 200 pozos principales por región. Presenta tus conclusiones: propón una región para el desarrollo de pozos petrolíferos y justifica tu elección.\n",
    "5. Calcula riesgos y ganancias para cada región:\n",
    "    1. Utilizando las predicciones que almacenaste en el paso 4.2, emplea la técnica del bootstrapping con 1000 muestras para hallar la distribución de los beneficios.\n",
    "    2. Encuentra el beneficio promedio, el intervalo de confianza del 95% y el riesgo de pérdidas. La pérdida es una ganancia negativa, calcúlala como una probabilidad y luego exprésala como un porcentaje.\n",
    "    3. Presenta tus conclusiones: propón una región para el desarrollo de pozos petrolíferos y justifica tu elección. ¿Coincide tu elección con la elección anterior en el punto 4.3?"
   ]
  },
  {
   "cell_type": "markdown",
   "metadata": {},
   "source": [
    " ## Importando librerías"
   ]
  },
  {
   "cell_type": "code",
   "execution_count": 1,
   "metadata": {},
   "outputs": [],
   "source": [
    "import pandas as pd\n",
    "import numpy as np\n",
    "from sklearn.model_selection import cross_val_score\n",
    "from sklearn.linear_model import LinearRegression\n",
    "from sklearn.model_selection import train_test_split\n",
    "from sklearn.metrics import mean_squared_error\n",
    "from scipy import stats as st\n",
    "from sklearn.preprocessing import StandardScaler\n",
    "import matplotlib.pyplot as plt\n",
    "\n"
   ]
  },
  {
   "cell_type": "markdown",
   "metadata": {},
   "source": [
    "## Cargando datasets"
   ]
  },
  {
   "cell_type": "code",
   "execution_count": 2,
   "metadata": {},
   "outputs": [],
   "source": [
    "geo0 = pd.read_csv('/datasets/geo_data_0.csv')\n",
    "geo1 = pd.read_csv('/datasets/geo_data_1.csv')\n",
    "geo2 = pd.read_csv('/datasets/geo_data_2.csv')"
   ]
  },
  {
   "cell_type": "markdown",
   "metadata": {},
   "source": [
    "## Explorando el contenido de los datasets"
   ]
  },
  {
   "cell_type": "markdown",
   "metadata": {},
   "source": [
    "#### Dataset \"geo0\""
   ]
  },
  {
   "cell_type": "code",
   "execution_count": 3,
   "metadata": {
    "scrolled": true
   },
   "outputs": [
    {
     "name": "stdout",
     "output_type": "stream",
     "text": [
      "<class 'pandas.core.frame.DataFrame'>\n",
      "RangeIndex: 100000 entries, 0 to 99999\n",
      "Data columns (total 5 columns):\n",
      " #   Column   Non-Null Count   Dtype  \n",
      "---  ------   --------------   -----  \n",
      " 0   id       100000 non-null  object \n",
      " 1   f0       100000 non-null  float64\n",
      " 2   f1       100000 non-null  float64\n",
      " 3   f2       100000 non-null  float64\n",
      " 4   product  100000 non-null  float64\n",
      "dtypes: float64(4), object(1)\n",
      "memory usage: 3.8+ MB\n",
      "None\n"
     ]
    },
    {
     "data": {
      "text/html": [
       "<div>\n",
       "<style scoped>\n",
       "    .dataframe tbody tr th:only-of-type {\n",
       "        vertical-align: middle;\n",
       "    }\n",
       "\n",
       "    .dataframe tbody tr th {\n",
       "        vertical-align: top;\n",
       "    }\n",
       "\n",
       "    .dataframe thead th {\n",
       "        text-align: right;\n",
       "    }\n",
       "</style>\n",
       "<table border=\"1\" class=\"dataframe\">\n",
       "  <thead>\n",
       "    <tr style=\"text-align: right;\">\n",
       "      <th></th>\n",
       "      <th>f0</th>\n",
       "      <th>f1</th>\n",
       "      <th>f2</th>\n",
       "      <th>product</th>\n",
       "    </tr>\n",
       "  </thead>\n",
       "  <tbody>\n",
       "    <tr>\n",
       "      <th>count</th>\n",
       "      <td>100000.000000</td>\n",
       "      <td>100000.000000</td>\n",
       "      <td>100000.000000</td>\n",
       "      <td>100000.000000</td>\n",
       "    </tr>\n",
       "    <tr>\n",
       "      <th>mean</th>\n",
       "      <td>0.500419</td>\n",
       "      <td>0.250143</td>\n",
       "      <td>2.502647</td>\n",
       "      <td>92.500000</td>\n",
       "    </tr>\n",
       "    <tr>\n",
       "      <th>std</th>\n",
       "      <td>0.871832</td>\n",
       "      <td>0.504433</td>\n",
       "      <td>3.248248</td>\n",
       "      <td>44.288691</td>\n",
       "    </tr>\n",
       "    <tr>\n",
       "      <th>min</th>\n",
       "      <td>-1.408605</td>\n",
       "      <td>-0.848218</td>\n",
       "      <td>-12.088328</td>\n",
       "      <td>0.000000</td>\n",
       "    </tr>\n",
       "    <tr>\n",
       "      <th>25%</th>\n",
       "      <td>-0.072580</td>\n",
       "      <td>-0.200881</td>\n",
       "      <td>0.287748</td>\n",
       "      <td>56.497507</td>\n",
       "    </tr>\n",
       "    <tr>\n",
       "      <th>50%</th>\n",
       "      <td>0.502360</td>\n",
       "      <td>0.250252</td>\n",
       "      <td>2.515969</td>\n",
       "      <td>91.849972</td>\n",
       "    </tr>\n",
       "    <tr>\n",
       "      <th>75%</th>\n",
       "      <td>1.073581</td>\n",
       "      <td>0.700646</td>\n",
       "      <td>4.715088</td>\n",
       "      <td>128.564089</td>\n",
       "    </tr>\n",
       "    <tr>\n",
       "      <th>max</th>\n",
       "      <td>2.362331</td>\n",
       "      <td>1.343769</td>\n",
       "      <td>16.003790</td>\n",
       "      <td>185.364347</td>\n",
       "    </tr>\n",
       "  </tbody>\n",
       "</table>\n",
       "</div>"
      ],
      "text/plain": [
       "                  f0             f1             f2        product\n",
       "count  100000.000000  100000.000000  100000.000000  100000.000000\n",
       "mean        0.500419       0.250143       2.502647      92.500000\n",
       "std         0.871832       0.504433       3.248248      44.288691\n",
       "min        -1.408605      -0.848218     -12.088328       0.000000\n",
       "25%        -0.072580      -0.200881       0.287748      56.497507\n",
       "50%         0.502360       0.250252       2.515969      91.849972\n",
       "75%         1.073581       0.700646       4.715088     128.564089\n",
       "max         2.362331       1.343769      16.003790     185.364347"
      ]
     },
     "execution_count": 3,
     "metadata": {},
     "output_type": "execute_result"
    }
   ],
   "source": [
    "print(geo0.info())\n",
    "(geo0.describe())"
   ]
  },
  {
   "cell_type": "code",
   "execution_count": 4,
   "metadata": {
    "scrolled": true
   },
   "outputs": [
    {
     "data": {
      "text/html": [
       "<div>\n",
       "<style scoped>\n",
       "    .dataframe tbody tr th:only-of-type {\n",
       "        vertical-align: middle;\n",
       "    }\n",
       "\n",
       "    .dataframe tbody tr th {\n",
       "        vertical-align: top;\n",
       "    }\n",
       "\n",
       "    .dataframe thead th {\n",
       "        text-align: right;\n",
       "    }\n",
       "</style>\n",
       "<table border=\"1\" class=\"dataframe\">\n",
       "  <thead>\n",
       "    <tr style=\"text-align: right;\">\n",
       "      <th></th>\n",
       "      <th>id</th>\n",
       "      <th>f0</th>\n",
       "      <th>f1</th>\n",
       "      <th>f2</th>\n",
       "      <th>product</th>\n",
       "    </tr>\n",
       "  </thead>\n",
       "  <tbody>\n",
       "    <tr>\n",
       "      <th>0</th>\n",
       "      <td>txEyH</td>\n",
       "      <td>0.705745</td>\n",
       "      <td>-0.497823</td>\n",
       "      <td>1.221170</td>\n",
       "      <td>105.280062</td>\n",
       "    </tr>\n",
       "    <tr>\n",
       "      <th>1</th>\n",
       "      <td>2acmU</td>\n",
       "      <td>1.334711</td>\n",
       "      <td>-0.340164</td>\n",
       "      <td>4.365080</td>\n",
       "      <td>73.037750</td>\n",
       "    </tr>\n",
       "    <tr>\n",
       "      <th>2</th>\n",
       "      <td>409Wp</td>\n",
       "      <td>1.022732</td>\n",
       "      <td>0.151990</td>\n",
       "      <td>1.419926</td>\n",
       "      <td>85.265647</td>\n",
       "    </tr>\n",
       "    <tr>\n",
       "      <th>3</th>\n",
       "      <td>iJLyR</td>\n",
       "      <td>-0.032172</td>\n",
       "      <td>0.139033</td>\n",
       "      <td>2.978566</td>\n",
       "      <td>168.620776</td>\n",
       "    </tr>\n",
       "    <tr>\n",
       "      <th>4</th>\n",
       "      <td>Xdl7t</td>\n",
       "      <td>1.988431</td>\n",
       "      <td>0.155413</td>\n",
       "      <td>4.751769</td>\n",
       "      <td>154.036647</td>\n",
       "    </tr>\n",
       "  </tbody>\n",
       "</table>\n",
       "</div>"
      ],
      "text/plain": [
       "      id        f0        f1        f2     product\n",
       "0  txEyH  0.705745 -0.497823  1.221170  105.280062\n",
       "1  2acmU  1.334711 -0.340164  4.365080   73.037750\n",
       "2  409Wp  1.022732  0.151990  1.419926   85.265647\n",
       "3  iJLyR -0.032172  0.139033  2.978566  168.620776\n",
       "4  Xdl7t  1.988431  0.155413  4.751769  154.036647"
      ]
     },
     "execution_count": 4,
     "metadata": {},
     "output_type": "execute_result"
    }
   ],
   "source": [
    "geo0.head()"
   ]
  },
  {
   "cell_type": "markdown",
   "metadata": {},
   "source": [
    "#### Dataset \"geo1\""
   ]
  },
  {
   "cell_type": "code",
   "execution_count": 5,
   "metadata": {},
   "outputs": [
    {
     "name": "stdout",
     "output_type": "stream",
     "text": [
      "<class 'pandas.core.frame.DataFrame'>\n",
      "RangeIndex: 100000 entries, 0 to 99999\n",
      "Data columns (total 5 columns):\n",
      " #   Column   Non-Null Count   Dtype  \n",
      "---  ------   --------------   -----  \n",
      " 0   id       100000 non-null  object \n",
      " 1   f0       100000 non-null  float64\n",
      " 2   f1       100000 non-null  float64\n",
      " 3   f2       100000 non-null  float64\n",
      " 4   product  100000 non-null  float64\n",
      "dtypes: float64(4), object(1)\n",
      "memory usage: 3.8+ MB\n",
      "None\n"
     ]
    },
    {
     "data": {
      "text/html": [
       "<div>\n",
       "<style scoped>\n",
       "    .dataframe tbody tr th:only-of-type {\n",
       "        vertical-align: middle;\n",
       "    }\n",
       "\n",
       "    .dataframe tbody tr th {\n",
       "        vertical-align: top;\n",
       "    }\n",
       "\n",
       "    .dataframe thead th {\n",
       "        text-align: right;\n",
       "    }\n",
       "</style>\n",
       "<table border=\"1\" class=\"dataframe\">\n",
       "  <thead>\n",
       "    <tr style=\"text-align: right;\">\n",
       "      <th></th>\n",
       "      <th>f0</th>\n",
       "      <th>f1</th>\n",
       "      <th>f2</th>\n",
       "      <th>product</th>\n",
       "    </tr>\n",
       "  </thead>\n",
       "  <tbody>\n",
       "    <tr>\n",
       "      <th>count</th>\n",
       "      <td>100000.000000</td>\n",
       "      <td>100000.000000</td>\n",
       "      <td>100000.000000</td>\n",
       "      <td>100000.000000</td>\n",
       "    </tr>\n",
       "    <tr>\n",
       "      <th>mean</th>\n",
       "      <td>1.141296</td>\n",
       "      <td>-4.796579</td>\n",
       "      <td>2.494541</td>\n",
       "      <td>68.825000</td>\n",
       "    </tr>\n",
       "    <tr>\n",
       "      <th>std</th>\n",
       "      <td>8.965932</td>\n",
       "      <td>5.119872</td>\n",
       "      <td>1.703572</td>\n",
       "      <td>45.944423</td>\n",
       "    </tr>\n",
       "    <tr>\n",
       "      <th>min</th>\n",
       "      <td>-31.609576</td>\n",
       "      <td>-26.358598</td>\n",
       "      <td>-0.018144</td>\n",
       "      <td>0.000000</td>\n",
       "    </tr>\n",
       "    <tr>\n",
       "      <th>25%</th>\n",
       "      <td>-6.298551</td>\n",
       "      <td>-8.267985</td>\n",
       "      <td>1.000021</td>\n",
       "      <td>26.953261</td>\n",
       "    </tr>\n",
       "    <tr>\n",
       "      <th>50%</th>\n",
       "      <td>1.153055</td>\n",
       "      <td>-4.813172</td>\n",
       "      <td>2.011479</td>\n",
       "      <td>57.085625</td>\n",
       "    </tr>\n",
       "    <tr>\n",
       "      <th>75%</th>\n",
       "      <td>8.621015</td>\n",
       "      <td>-1.332816</td>\n",
       "      <td>3.999904</td>\n",
       "      <td>107.813044</td>\n",
       "    </tr>\n",
       "    <tr>\n",
       "      <th>max</th>\n",
       "      <td>29.421755</td>\n",
       "      <td>18.734063</td>\n",
       "      <td>5.019721</td>\n",
       "      <td>137.945408</td>\n",
       "    </tr>\n",
       "  </tbody>\n",
       "</table>\n",
       "</div>"
      ],
      "text/plain": [
       "                  f0             f1             f2        product\n",
       "count  100000.000000  100000.000000  100000.000000  100000.000000\n",
       "mean        1.141296      -4.796579       2.494541      68.825000\n",
       "std         8.965932       5.119872       1.703572      45.944423\n",
       "min       -31.609576     -26.358598      -0.018144       0.000000\n",
       "25%        -6.298551      -8.267985       1.000021      26.953261\n",
       "50%         1.153055      -4.813172       2.011479      57.085625\n",
       "75%         8.621015      -1.332816       3.999904     107.813044\n",
       "max        29.421755      18.734063       5.019721     137.945408"
      ]
     },
     "execution_count": 5,
     "metadata": {},
     "output_type": "execute_result"
    }
   ],
   "source": [
    "print(geo1.info())\n",
    "(geo1.describe())"
   ]
  },
  {
   "cell_type": "code",
   "execution_count": 6,
   "metadata": {},
   "outputs": [
    {
     "data": {
      "text/html": [
       "<div>\n",
       "<style scoped>\n",
       "    .dataframe tbody tr th:only-of-type {\n",
       "        vertical-align: middle;\n",
       "    }\n",
       "\n",
       "    .dataframe tbody tr th {\n",
       "        vertical-align: top;\n",
       "    }\n",
       "\n",
       "    .dataframe thead th {\n",
       "        text-align: right;\n",
       "    }\n",
       "</style>\n",
       "<table border=\"1\" class=\"dataframe\">\n",
       "  <thead>\n",
       "    <tr style=\"text-align: right;\">\n",
       "      <th></th>\n",
       "      <th>id</th>\n",
       "      <th>f0</th>\n",
       "      <th>f1</th>\n",
       "      <th>f2</th>\n",
       "      <th>product</th>\n",
       "    </tr>\n",
       "  </thead>\n",
       "  <tbody>\n",
       "    <tr>\n",
       "      <th>0</th>\n",
       "      <td>kBEdx</td>\n",
       "      <td>-15.001348</td>\n",
       "      <td>-8.276000</td>\n",
       "      <td>-0.005876</td>\n",
       "      <td>3.179103</td>\n",
       "    </tr>\n",
       "    <tr>\n",
       "      <th>1</th>\n",
       "      <td>62mP7</td>\n",
       "      <td>14.272088</td>\n",
       "      <td>-3.475083</td>\n",
       "      <td>0.999183</td>\n",
       "      <td>26.953261</td>\n",
       "    </tr>\n",
       "    <tr>\n",
       "      <th>2</th>\n",
       "      <td>vyE1P</td>\n",
       "      <td>6.263187</td>\n",
       "      <td>-5.948386</td>\n",
       "      <td>5.001160</td>\n",
       "      <td>134.766305</td>\n",
       "    </tr>\n",
       "    <tr>\n",
       "      <th>3</th>\n",
       "      <td>KcrkZ</td>\n",
       "      <td>-13.081196</td>\n",
       "      <td>-11.506057</td>\n",
       "      <td>4.999415</td>\n",
       "      <td>137.945408</td>\n",
       "    </tr>\n",
       "    <tr>\n",
       "      <th>4</th>\n",
       "      <td>AHL4O</td>\n",
       "      <td>12.702195</td>\n",
       "      <td>-8.147433</td>\n",
       "      <td>5.004363</td>\n",
       "      <td>134.766305</td>\n",
       "    </tr>\n",
       "  </tbody>\n",
       "</table>\n",
       "</div>"
      ],
      "text/plain": [
       "      id         f0         f1        f2     product\n",
       "0  kBEdx -15.001348  -8.276000 -0.005876    3.179103\n",
       "1  62mP7  14.272088  -3.475083  0.999183   26.953261\n",
       "2  vyE1P   6.263187  -5.948386  5.001160  134.766305\n",
       "3  KcrkZ -13.081196 -11.506057  4.999415  137.945408\n",
       "4  AHL4O  12.702195  -8.147433  5.004363  134.766305"
      ]
     },
     "execution_count": 6,
     "metadata": {},
     "output_type": "execute_result"
    }
   ],
   "source": [
    "geo1.head()"
   ]
  },
  {
   "cell_type": "markdown",
   "metadata": {},
   "source": [
    "#### Dataset \"geo2\""
   ]
  },
  {
   "cell_type": "code",
   "execution_count": 7,
   "metadata": {},
   "outputs": [
    {
     "name": "stdout",
     "output_type": "stream",
     "text": [
      "<class 'pandas.core.frame.DataFrame'>\n",
      "RangeIndex: 100000 entries, 0 to 99999\n",
      "Data columns (total 5 columns):\n",
      " #   Column   Non-Null Count   Dtype  \n",
      "---  ------   --------------   -----  \n",
      " 0   id       100000 non-null  object \n",
      " 1   f0       100000 non-null  float64\n",
      " 2   f1       100000 non-null  float64\n",
      " 3   f2       100000 non-null  float64\n",
      " 4   product  100000 non-null  float64\n",
      "dtypes: float64(4), object(1)\n",
      "memory usage: 3.8+ MB\n",
      "None\n"
     ]
    },
    {
     "data": {
      "text/html": [
       "<div>\n",
       "<style scoped>\n",
       "    .dataframe tbody tr th:only-of-type {\n",
       "        vertical-align: middle;\n",
       "    }\n",
       "\n",
       "    .dataframe tbody tr th {\n",
       "        vertical-align: top;\n",
       "    }\n",
       "\n",
       "    .dataframe thead th {\n",
       "        text-align: right;\n",
       "    }\n",
       "</style>\n",
       "<table border=\"1\" class=\"dataframe\">\n",
       "  <thead>\n",
       "    <tr style=\"text-align: right;\">\n",
       "      <th></th>\n",
       "      <th>f0</th>\n",
       "      <th>f1</th>\n",
       "      <th>f2</th>\n",
       "      <th>product</th>\n",
       "    </tr>\n",
       "  </thead>\n",
       "  <tbody>\n",
       "    <tr>\n",
       "      <th>count</th>\n",
       "      <td>100000.000000</td>\n",
       "      <td>100000.000000</td>\n",
       "      <td>100000.000000</td>\n",
       "      <td>100000.000000</td>\n",
       "    </tr>\n",
       "    <tr>\n",
       "      <th>mean</th>\n",
       "      <td>0.002023</td>\n",
       "      <td>-0.002081</td>\n",
       "      <td>2.495128</td>\n",
       "      <td>95.000000</td>\n",
       "    </tr>\n",
       "    <tr>\n",
       "      <th>std</th>\n",
       "      <td>1.732045</td>\n",
       "      <td>1.730417</td>\n",
       "      <td>3.473445</td>\n",
       "      <td>44.749921</td>\n",
       "    </tr>\n",
       "    <tr>\n",
       "      <th>min</th>\n",
       "      <td>-8.760004</td>\n",
       "      <td>-7.084020</td>\n",
       "      <td>-11.970335</td>\n",
       "      <td>0.000000</td>\n",
       "    </tr>\n",
       "    <tr>\n",
       "      <th>25%</th>\n",
       "      <td>-1.162288</td>\n",
       "      <td>-1.174820</td>\n",
       "      <td>0.130359</td>\n",
       "      <td>59.450441</td>\n",
       "    </tr>\n",
       "    <tr>\n",
       "      <th>50%</th>\n",
       "      <td>0.009424</td>\n",
       "      <td>-0.009482</td>\n",
       "      <td>2.484236</td>\n",
       "      <td>94.925613</td>\n",
       "    </tr>\n",
       "    <tr>\n",
       "      <th>75%</th>\n",
       "      <td>1.158535</td>\n",
       "      <td>1.163678</td>\n",
       "      <td>4.858794</td>\n",
       "      <td>130.595027</td>\n",
       "    </tr>\n",
       "    <tr>\n",
       "      <th>max</th>\n",
       "      <td>7.238262</td>\n",
       "      <td>7.844801</td>\n",
       "      <td>16.739402</td>\n",
       "      <td>190.029838</td>\n",
       "    </tr>\n",
       "  </tbody>\n",
       "</table>\n",
       "</div>"
      ],
      "text/plain": [
       "                  f0             f1             f2        product\n",
       "count  100000.000000  100000.000000  100000.000000  100000.000000\n",
       "mean        0.002023      -0.002081       2.495128      95.000000\n",
       "std         1.732045       1.730417       3.473445      44.749921\n",
       "min        -8.760004      -7.084020     -11.970335       0.000000\n",
       "25%        -1.162288      -1.174820       0.130359      59.450441\n",
       "50%         0.009424      -0.009482       2.484236      94.925613\n",
       "75%         1.158535       1.163678       4.858794     130.595027\n",
       "max         7.238262       7.844801      16.739402     190.029838"
      ]
     },
     "execution_count": 7,
     "metadata": {},
     "output_type": "execute_result"
    }
   ],
   "source": [
    "print(geo2.info())\n",
    "(geo2.describe())"
   ]
  },
  {
   "cell_type": "code",
   "execution_count": 8,
   "metadata": {
    "scrolled": true
   },
   "outputs": [
    {
     "data": {
      "text/html": [
       "<div>\n",
       "<style scoped>\n",
       "    .dataframe tbody tr th:only-of-type {\n",
       "        vertical-align: middle;\n",
       "    }\n",
       "\n",
       "    .dataframe tbody tr th {\n",
       "        vertical-align: top;\n",
       "    }\n",
       "\n",
       "    .dataframe thead th {\n",
       "        text-align: right;\n",
       "    }\n",
       "</style>\n",
       "<table border=\"1\" class=\"dataframe\">\n",
       "  <thead>\n",
       "    <tr style=\"text-align: right;\">\n",
       "      <th></th>\n",
       "      <th>id</th>\n",
       "      <th>f0</th>\n",
       "      <th>f1</th>\n",
       "      <th>f2</th>\n",
       "      <th>product</th>\n",
       "    </tr>\n",
       "  </thead>\n",
       "  <tbody>\n",
       "    <tr>\n",
       "      <th>0</th>\n",
       "      <td>fwXo0</td>\n",
       "      <td>-1.146987</td>\n",
       "      <td>0.963328</td>\n",
       "      <td>-0.828965</td>\n",
       "      <td>27.758673</td>\n",
       "    </tr>\n",
       "    <tr>\n",
       "      <th>1</th>\n",
       "      <td>WJtFt</td>\n",
       "      <td>0.262778</td>\n",
       "      <td>0.269839</td>\n",
       "      <td>-2.530187</td>\n",
       "      <td>56.069697</td>\n",
       "    </tr>\n",
       "    <tr>\n",
       "      <th>2</th>\n",
       "      <td>ovLUW</td>\n",
       "      <td>0.194587</td>\n",
       "      <td>0.289035</td>\n",
       "      <td>-5.586433</td>\n",
       "      <td>62.871910</td>\n",
       "    </tr>\n",
       "    <tr>\n",
       "      <th>3</th>\n",
       "      <td>q6cA6</td>\n",
       "      <td>2.236060</td>\n",
       "      <td>-0.553760</td>\n",
       "      <td>0.930038</td>\n",
       "      <td>114.572842</td>\n",
       "    </tr>\n",
       "    <tr>\n",
       "      <th>4</th>\n",
       "      <td>WPMUX</td>\n",
       "      <td>-0.515993</td>\n",
       "      <td>1.716266</td>\n",
       "      <td>5.899011</td>\n",
       "      <td>149.600746</td>\n",
       "    </tr>\n",
       "  </tbody>\n",
       "</table>\n",
       "</div>"
      ],
      "text/plain": [
       "      id        f0        f1        f2     product\n",
       "0  fwXo0 -1.146987  0.963328 -0.828965   27.758673\n",
       "1  WJtFt  0.262778  0.269839 -2.530187   56.069697\n",
       "2  ovLUW  0.194587  0.289035 -5.586433   62.871910\n",
       "3  q6cA6  2.236060 -0.553760  0.930038  114.572842\n",
       "4  WPMUX -0.515993  1.716266  5.899011  149.600746"
      ]
     },
     "execution_count": 8,
     "metadata": {},
     "output_type": "execute_result"
    }
   ],
   "source": [
    "geo2.head()"
   ]
  },
  {
   "cell_type": "markdown",
   "metadata": {},
   "source": [
    "### Conociendo el contenido del dataset\n",
    "\n",
    "**Podemos observar que tenemos tres datasets que describen la exploración geológica de las 3 regiones diferentes, observamos que los tres contienen 100,000 registros sin datos nulos**\n",
    "\n",
    "**Respecto a las columnas:**\n",
    "\n",
    "\n",
    "- *id* — identificador único de pozo de petróleo\n",
    "- *f0, f1, f2* — tres características de los puntos (su significado específico no es importante, pero las características en sí son significativas)\n",
    "- *product* — volumen de reservas en el pozo de petróleo (miles de barriles).\n"
   ]
  },
  {
   "cell_type": "markdown",
   "metadata": {},
   "source": [
    "## Funciones"
   ]
  },
  {
   "cell_type": "markdown",
   "metadata": {},
   "source": [
    "### Generando función para generar conjuntos de datos de entrenamiento y validación, así como escalado de datos"
   ]
  },
  {
   "cell_type": "code",
   "execution_count": 9,
   "metadata": {},
   "outputs": [],
   "source": [
    "def split_data(df):\n",
    "    #Dividiendo datos en conjunto de entrenamiento y validación\n",
    "    df_train , df_valid= train_test_split(df, test_size=.25, random_state=1234)\n",
    "    \n",
    "    df_train_c = df_train.copy()\n",
    "    df_valid_c = df_valid.copy()\n",
    "    \n",
    "    #Escalando datos mediante standard scaler\n",
    "    numeric=['f0','f1','f2']\n",
    "    scaler = StandardScaler()\n",
    "    scaler.fit(df_train_c[numeric])\n",
    "    \n",
    "    \n",
    "    df_train_c.loc[:,numeric]=scaler.transform(df_train_c[numeric])\n",
    "    df_valid_c.loc[:,numeric]=scaler.transform(df_valid_c[numeric])\n",
    "    \n",
    "    #retornamos conjuntos de datos escalados en columnas numéricas\n",
    "    return df_train_c , df_valid_c    "
   ]
  },
  {
   "cell_type": "markdown",
   "metadata": {},
   "source": [
    "### Generando función para entrenar el modelo de regresión lineal"
   ]
  },
  {
   "cell_type": "code",
   "execution_count": 10,
   "metadata": {},
   "outputs": [],
   "source": [
    "def gen_model(df_train,df_valid):\n",
    "    #definiendo target y caractéristicas\n",
    "    entity_col= 'id'\n",
    "    target = 'product'\n",
    "    features = [i for i in df_train.columns if i not in target + entity_col]\n",
    "    \n",
    "    #creando instancia del modelo de regresión lineal\n",
    "    lr_model = LinearRegression()\n",
    "    #entrenando el modelo\n",
    "    lr_model.fit(df_train[features], df_train[target])\n",
    "    #realizando predicciones\n",
    "    predictions_valid = lr_model.predict(df_valid[features])\n",
    "    \n",
    "    #retornamos las predicciones y la columna target del conjunto de validación\n",
    "    return predictions_valid, df_valid[target]"
   ]
  },
  {
   "cell_type": "markdown",
   "metadata": {},
   "source": [
    "### Generando función para el volumen medio de reservas predicho y RMSE "
   ]
  },
  {
   "cell_type": "code",
   "execution_count": 11,
   "metadata": {},
   "outputs": [],
   "source": [
    "def metrics(model_predictions, target_valid):\n",
    "    #calculando la media de las predicciones\n",
    "    mean = model_predictions.mean()\n",
    "    #calculando el error medio cuadrático\n",
    "    mse = mean_squared_error(target_valid,model_predictions)\n",
    "    #calculando la raíz del error medio cuadrático\n",
    "    rmse = mse ** .5\n",
    "    \n",
    "    #retornando la media y la raíz del error medio cuadrático\n",
    "    return mean , rmse "
   ]
  },
  {
   "cell_type": "markdown",
   "metadata": {},
   "source": [
    "## Llamando a las funciones para realizar cálculos con el modelo de predicción"
   ]
  },
  {
   "cell_type": "code",
   "execution_count": 14,
   "metadata": {},
   "outputs": [
    {
     "name": "stdout",
     "output_type": "stream",
     "text": [
      "El volumen medio de reservas predicho es de:  92.43 (Miles de barriles)\n",
      "El Error medio cuadrático para las estimaciones es:   37.562394183637785\n"
     ]
    }
   ],
   "source": [
    "df_train_0,df_valid_0 = split_data(geo0)\n",
    "lr_model0_predictions,target_valid0 = gen_model(df_train_0,df_valid_0)\n",
    "mean_geo0, rmse_geo0= metrics(lr_model0_predictions,target_valid0)\n",
    "df_new_valid0 = df_valid_0.copy()\n",
    "df_new_valid0['predictions'] = lr_model0_predictions\n",
    "\n",
    "\n",
    "print(\"El volumen medio de reservas predicho es de: \",round(mean_geo0,3), \"(Miles de barriles)\")\n",
    "print(\"El Error medio cuadrático para las estimaciones es:  \", rmse_geo0)\n"
   ]
  },
  {
   "cell_type": "code",
   "execution_count": 31,
   "metadata": {},
   "outputs": [
    {
     "name": "stdout",
     "output_type": "stream",
     "text": [
      "El volumen medio de reservas predicho es de:  68.802 (Miles de barriles)\n",
      "El Error medio cuadrático para las estimaciones es:   0.8939344738117704\n"
     ]
    }
   ],
   "source": [
    "df_train_1,df_valid_1 = split_data(geo1)\n",
    "lr_model1_predictions, target_valid1 = gen_model(df_train_1,df_valid_1)\n",
    "mean_geo1, rmse_geo1= metrics(lr_model1_predictions,target_valid1)\n",
    "df_new_valid1 = df_valid_1.copy()\n",
    "df_new_valid1['predictions'] = lr_model1_predictions\n",
    "\n",
    "\n",
    "print(\"El volumen medio de reservas predicho es de: \",round(mean_geo1,3), \"(Miles de barriles)\")\n",
    "print(\"El Error medio cuadrático para las estimaciones es:  \",rmse_geo1)"
   ]
  },
  {
   "cell_type": "code",
   "execution_count": 32,
   "metadata": {},
   "outputs": [
    {
     "name": "stdout",
     "output_type": "stream",
     "text": [
      "El volumen medio de reservas predicho es de:  94.916 (Miles de barriles)\n",
      "El Error medio cuadrático para las estimaciones es:  40.10318099258418\n"
     ]
    }
   ],
   "source": [
    "df_train_2,df_valid_2 = split_data(geo2)\n",
    "lr_model2_predictions , target_valid2 = gen_model(df_train_2,df_valid_2)\n",
    "mean_geo2, rmse_geo2= metrics(lr_model2_predictions,target_valid2)\n",
    "\n",
    "df_new_valid2 = df_valid_2.copy()\n",
    "df_new_valid2['predictions'] = lr_model2_predictions\n",
    "\n",
    "\n",
    "print(\"El volumen medio de reservas predicho es de: \",round(mean_geo2,3) , \"(Miles de barriles)\")\n",
    "print(\"El Error medio cuadrático para las estimaciones es: \",rmse_geo2)\n"
   ]
  },
  {
   "cell_type": "markdown",
   "metadata": {},
   "source": [
    "**Resumiendo datos previos:**\n",
    "\n",
    "**Geozona 0:**\n",
    "\n",
    "El **volumen medio** de reservas predicho es de:  92.43 (Miles de barriles)\n",
    "\n",
    "El **Error medio cuadrático** para las estimaciones es:   37.562394183637785\n",
    "\n",
    "**Geozona 1:**\n",
    "\n",
    "El **volumen medio** de reservas predicho es de:  68.802 (Miles de barriles)\n",
    "\n",
    "El **Error medio cuadrático** para las estimaciones es:   0.8939344738117704\n",
    "\n",
    "**Geozona 2:**\n",
    "\n",
    "El **volumen medio** de reservas predicho es de:  94.916 (Miles de barriles)\n",
    "\n",
    "El **Error medio cuadrático** para las estimaciones es:  40.10318099258418"
   ]
  },
  {
   "cell_type": "code",
   "execution_count": 33,
   "metadata": {},
   "outputs": [],
   "source": [
    "#Datos de negocio\n",
    "income_per_unit=4500\n",
    "risk_thres=0.025\n",
    "cost_200_wells = 100000000 #(100M)\n",
    "cost_per_well = cost_200_wells / 200 #(500K)\n",
    "breakeven = 111.1  #(Cantidad de barriles para evitar perdidas )\n"
   ]
  },
  {
   "cell_type": "markdown",
   "metadata": {},
   "source": [
    "## Función para calcular la ganancia de un conjunto de pozos\n"
   ]
  },
  {
   "cell_type": "code",
   "execution_count": 34,
   "metadata": {},
   "outputs": [],
   "source": [
    "def compute_gains(df,\n",
    "                  prediction_col='predictions',\n",
    "                  product_col = 'product',\n",
    "                  income_per_unit=income_per_unit,\n",
    "                  cost_200_wells=cost_200_wells,\n",
    "                  print_result=False\n",
    "                 ):\n",
    "    \n",
    "    df_ordered= df.sort_values(by=prediction_col, ascending=False)\n",
    "    top_200_wells = df_ordered.head(200)\n",
    "    estimated_revenue = top_200_wells[prediction_col].sum() * income_per_unit\n",
    "    estimated_profit = estimated_revenue - cost_200_wells\n",
    "    \n",
    "    if print_result == True:\n",
    "        print(f\"\"\"\n",
    "        Volumen medio predicho (en miles de barriles): {round(top_200_wells[prediction_col].mean(),4)}\n",
    "        Volumen medio real (en miles de barriles): {round(top_200_wells[product_col].mean(),4)}\n",
    "        Ingresos estimados (Millones de dólares) : {round(estimated_revenue,4)} \n",
    "        Ganancia estimada (Millones de dólares) : { round(estimated_profit,4)}\n",
    "        **********************\n",
    "        \"\"\")\n",
    "    return estimated_profit "
   ]
  },
  {
   "cell_type": "code",
   "execution_count": 35,
   "metadata": {
    "scrolled": true
   },
   "outputs": [
    {
     "name": "stdout",
     "output_type": "stream",
     "text": [
      "Geozona: 0\n",
      "\n",
      "        Volumen medio predicho (en miles de barriles): 154.2457\n",
      "        Volumen medio real (en miles de barriles): 149.1558\n",
      "        Ingresos estimados (Millones de dólares) : 138821157.441 \n",
      "        Ganancia estimada (Millones de dólares) : 38821157.441\n",
      "        **********************\n",
      "        \n",
      "Geozona: 1\n",
      "\n",
      "        Volumen medio predicho (en miles de barriles): 138.6943\n",
      "        Volumen medio real (en miles de barriles): 137.9454\n",
      "        Ingresos estimados (Millones de dólares) : 124824861.686 \n",
      "        Ganancia estimada (Millones de dólares) : 24824861.686\n",
      "        **********************\n",
      "        \n",
      "Geozona: 2\n",
      "\n",
      "        Volumen medio predicho (en miles de barriles): 149.9817\n",
      "        Volumen medio real (en miles de barriles): 139.4995\n",
      "        Ingresos estimados (Millones de dólares) : 134983487.0497 \n",
      "        Ganancia estimada (Millones de dólares) : 34983487.0497\n",
      "        **********************\n",
      "        \n"
     ]
    }
   ],
   "source": [
    "c=-1\n",
    "for df in [df_new_valid0,df_new_valid1,df_new_valid2]:\n",
    "    c+=1\n",
    "    print(\"Geozona:\",c )\n",
    "    compute_gains(df,print_result=True)"
   ]
  },
  {
   "cell_type": "markdown",
   "metadata": {},
   "source": [
    "### Métricas de negocio\n",
    "**Ingreso**:\n",
    "\n",
    "El cálculo del ingreso se realiza mediante la multiplicación del total de Miles de barriles obtenidos en los 200 pozos por el ingreso unitario (4500 dolares)\n",
    "\n",
    "**Beneficio / Ganancia**:\n",
    "\n",
    "Se cálcula mediante la resta de los ingresos menos el coste de los bienes (inversión)\n",
    "\n",
    "**Punto de quiebre / breakeven:**\n",
    "Se refiere a la cantidad mínima de ventas (ingresos) que debemos tener para evitar pérdidas, en este caso :\n",
    "    \n",
    "* Dada la inversión de 100 millones por 200 pozos petrolíferos, de media un pozo petrolífero debe producir al menos un valor de 500,000 dólares en unidades para evitar pérdidas (esto es equivalente a 111.1 unidades)\n",
    "* Comparamos el punto de quiebre ( 111.1 unidades ) en relación al volumen medio predicho.\n",
    "\n",
    "### Conclusiones y propuesta de región prospecto:\n",
    "Con base a los resultados obtenidos anteriormente, considerando las siguientes variables:\n",
    "* Volumen medio predicho (en miles de barriles)\n",
    "* Volumen medio real (en miles de barriles)\n",
    "* Ingresos estimados \n",
    "* Ganancia estimada \n",
    "\n",
    "Podemos concluir que al momento, la mejor Geozona para invertir es la Región 0 (\" Geozona 0\"/ geo_data_0.csv ) debido a que cuenta con:\n",
    "* **Volumen medio predicho (en miles de barriles) : 154.245**\n",
    "* **Volumen medio real (en miles de barriles) : 149.155**\n",
    "* **Ingresos estimados (Millones de dólares): 138,821,157.44**\n",
    "* **Ganancia estimada (Millones de dólares): 38,821,157.441**"
   ]
  },
  {
   "cell_type": "markdown",
   "metadata": {},
   "source": [
    "## Calculando riesgos y ganancias para cada región:\n"
   ]
  },
  {
   "cell_type": "code",
   "execution_count": 38,
   "metadata": {
    "scrolled": false
   },
   "outputs": [
    {
     "name": "stdout",
     "output_type": "stream",
     "text": [
      "\n",
      "Region_0\n",
      "Intervalo de confianza del 95% entre el rango de: 3195304.4 y 3336321.91  millones de dolares\n",
      "Porcentaje de riesgo de pérdida : 0.1 %\n",
      "Beneficio medio para la región 3265813.16\n"
     ]
    },
    {
     "data": {
      "image/png": "[encoded data removed]",
      "text/plain": [
       "<Figure size 600x400 with 1 Axes>"
      ]
     },
     "metadata": {},
     "output_type": "display_data"
    },
    {
     "name": "stdout",
     "output_type": "stream",
     "text": [
      "----------------------------------------------------\n",
      "\n",
      "Region_1\n",
      "Intervalo de confianza del 95% entre el rango de: 4074066.69 y 4317449.36  millones de dolares\n",
      "Porcentaje de riesgo de pérdida : 1.7 %\n",
      "Beneficio medio para la región 4195758.027\n"
     ]
    },
    {
     "data": {
      "image/png": "[encoded data removed]",
      "text/plain": [
       "<Figure size 600x400 with 1 Axes>"
      ]
     },
     "metadata": {},
     "output_type": "display_data"
    },
    {
     "name": "stdout",
     "output_type": "stream",
     "text": [
      "----------------------------------------------------\n",
      "\n",
      "Region_2\n",
      "Intervalo de confianza del 95% entre el rango de: 2740381.39 y 2866548.23  millones de dolares\n",
      "Porcentaje de riesgo de pérdida : 0.7 %\n",
      "Beneficio medio para la región 2803464.813\n"
     ]
    },
    {
     "data": {
      "image/png": "[encoded data removed]",
      "text/plain": [
       "<Figure size 600x400 with 1 Axes>"
      ]
     },
     "metadata": {},
     "output_type": "display_data"
    },
    {
     "name": "stdout",
     "output_type": "stream",
     "text": [
      "----------------------------------------------------\n"
     ]
    }
   ],
   "source": [
    "c=-1\n",
    "#recorriendo los dataframes \n",
    "for df in [df_new_valid0,df_new_valid1,df_new_valid2]:\n",
    "    \n",
    "    c+=1\n",
    "    region= 'Region_'+ str(c)\n",
    "    region_profit= []\n",
    "    \n",
    "    #definiendo parámetros para realizar bootstrap\n",
    "    bootstrap_reps = 1000\n",
    "    sample_size= 500\n",
    "    \n",
    "    state = np.random.RandomState(123465)\n",
    "    values= []\n",
    "\n",
    "    values_interval =[]\n",
    "    bootstrap_means=[]\n",
    "\n",
    "    for i in np.arange(1,bootstrap_reps + 1):\n",
    "        \n",
    "        #Creando submuestra de tamaño sample_size\n",
    "        subsample= df.sample(n=sample_size, replace=True ,  random_state = state)\n",
    "        #calculando las ganancias para la submuestra\n",
    "        profit = compute_gains(subsample)\n",
    "        \n",
    "        #guardando ganancias de cada submuestra en un arreglo\n",
    "        region_profit.append(profit)\n",
    "\n",
    "\n",
    "    #comparando si las ganancias fueron menores a 0 (pérdidas)\n",
    "    values = [g < 0 for g in region_profit]\n",
    "\n",
    "    \n",
    "    #Calculando la  media de ganancias por región\n",
    "    region_mean= np.mean(region_profit)\n",
    "    \n",
    "    #Calculando el riesgo de pérdida\n",
    "    loss_risk =sum(values)/ len(values)\n",
    "    \n",
    "    values_interval = pd.Series(region_profit)\n",
    "    \n",
    "    #Calculando el intervalo de confianza del 95%\n",
    "    standard_error =  st.sem(region_profit)\n",
    "    intervalo = st.t.interval(0.95, len(region_profit)-1, loc=region_mean, scale=standard_error )\n",
    "\n",
    "\n",
    "    print()\n",
    "    print(region)\n",
    "    \n",
    "    print (f\"Intervalo de confianza del 95% entre el rango de: {round(intervalo[0],2)} y {round(intervalo[1],2)}  millones de dolares\", )\n",
    "#     higher = values_interval.quantile(.975) \n",
    "#     lower = values_interval.quantile(.025) \n",
    "#     print(f\"Intervalo de confianza del 95% : {round(lower,3)} -- {round(higher,3)} (Millones de dólares)\")\n",
    "    \n",
    "    print(f\"Porcentaje de riesgo de pérdida : {round(loss_risk*100, 3)} %\" )\n",
    "    print(f\"Beneficio medio para la región {round(region_mean,3)}\")\n",
    "    \n",
    "    plt.figure(figsize=[6,4])\n",
    "    plt.hist(region_profit)\n",
    "    plt.title(f'Distribución del beneficio medio de la región: \"{region}\"')\n",
    "    plt.axvline(x=region_mean, color=\"red\", ls=\"--\")\n",
    "    plt.xlabel('beneficio medio (En millónes de dólares)')\n",
    "    plt.ylabel('Frecuencia')\n",
    "    plt.show()\n",
    "    \n",
    "    print('----------------------------------------------------')\n"
   ]
  },
  {
   "cell_type": "markdown",
   "metadata": {},
   "source": [
    "## Conclusiones"
   ]
  },
  {
   "cell_type": "markdown",
   "metadata": {},
   "source": [
    "**Podemos observar conforme a los cálculos de riesgos y ganancia por región que:**\n",
    "* La region 0 ('Region_0) es la que tiene menor riesgo de pérdida, presentando apenas un 0.1% de riesgo con una muestra de 500 pozos\n",
    "* La región 1 ('Region_1) es la que tiene mayor riesgo de pérdida, presentando un 1.7% de riesgo con una muestra de 500 pozos\n",
    "\n",
    "* La región 2 ('Región_2) presenta un riesgo medio en relación a las otras dos regiones, sin embargo el beneficio medio es el menor de los 3.\n",
    "\n",
    "* Ninguna de las 3 regiones presenta un riesgo superior al 2.5% discriminatorio para esta tarea\n",
    "\n",
    "\n",
    "Conforme a estos datos, las conclusiones y recomendaciones respecto a que zona considerar para la nueva inversión se ponen un poco a debate, esto debido a que si evaluamos exclusivamente por ganancias, la region_1 supera a la region_0 por 28% de ganancias, el equivalente a casi 930 mil dólares, sin embargo, tomando en cuenta el factor de riesgo, la region_1 tiene 17 veces más riesgo que la region_0 (0.1% vs 1.7%).\n",
    "\n",
    "\n",
    "Por lo tanto, considerando que 930 mil dólares extras de la region_1, suponen un riesgo 17 veces mayor en relación a la region_0, la conclusión del equipo de ciencia de datos es:\n",
    "\n",
    "**Se recomienda la inversión en la region_0 para los futuros proyectos.**\n",
    "\n",
    "Recapitulando un poco los datos que nos ofrece la region_0:\n",
    "\n",
    "**Region_0:**\n",
    "\n",
    "* **Beneficio medio para la región 3,265,813.16**\n",
    "\n",
    "* **Intervalo de confianza del 95% entre el rango de: 3,195,304.4 y 3,336,321.91  millones de dolares**\n",
    "\n",
    "* **Porcentaje de riesgo de pérdida : 0.1 %**\n",
    "\n",
    "\n",
    "\n"
   ]
  }
 ],
 "metadata": {
  "ExecuteTimeLog": [
   {
    "duration": 1227,
    "start_time": "2024-06-01T00:31:33.951Z"
   },
   {
    "duration": 1130,
    "start_time": "2024-06-01T00:33:11.017Z"
   },
   {
    "duration": 5,
    "start_time": "2024-06-01T00:33:15.225Z"
   },
   {
    "duration": 121,
    "start_time": "2024-06-01T00:33:15.234Z"
   },
   {
    "duration": 134,
    "start_time": "2024-06-01T00:33:22.892Z"
   },
   {
    "duration": 147,
    "start_time": "2024-06-01T00:33:30.301Z"
   },
   {
    "duration": 140,
    "start_time": "2024-06-01T00:33:34.404Z"
   },
   {
    "duration": 161,
    "start_time": "2024-06-01T00:34:09.384Z"
   },
   {
    "duration": 477,
    "start_time": "2024-06-01T00:34:27.134Z"
   },
   {
    "duration": 55,
    "start_time": "2024-06-01T00:35:44.671Z"
   },
   {
    "duration": 16,
    "start_time": "2024-06-01T00:35:51.068Z"
   },
   {
    "duration": 59,
    "start_time": "2024-06-01T00:36:33.096Z"
   },
   {
    "duration": 59,
    "start_time": "2024-06-01T00:39:29.177Z"
   },
   {
    "duration": 14,
    "start_time": "2024-06-01T00:39:29.243Z"
   },
   {
    "duration": 82,
    "start_time": "2024-06-01T00:39:29.261Z"
   },
   {
    "duration": 21,
    "start_time": "2024-06-01T00:39:29.346Z"
   },
   {
    "duration": 3,
    "start_time": "2024-06-01T00:52:20.514Z"
   },
   {
    "duration": 4,
    "start_time": "2024-06-01T00:53:21.244Z"
   },
   {
    "duration": 42,
    "start_time": "2024-06-01T00:55:15.231Z"
   },
   {
    "duration": 20,
    "start_time": "2024-06-01T00:55:43.446Z"
   },
   {
    "duration": 26,
    "start_time": "2024-06-01T01:12:56.587Z"
   },
   {
    "duration": 32,
    "start_time": "2024-06-01T01:18:10.371Z"
   },
   {
    "duration": 7,
    "start_time": "2024-06-01T01:19:20.902Z"
   },
   {
    "duration": 4,
    "start_time": "2024-06-01T01:19:23.987Z"
   },
   {
    "duration": 25,
    "start_time": "2024-06-01T01:19:58.827Z"
   },
   {
    "duration": 38,
    "start_time": "2024-06-01T01:20:02.839Z"
   },
   {
    "duration": 38,
    "start_time": "2024-06-01T01:20:07.506Z"
   },
   {
    "duration": 68,
    "start_time": "2024-06-01T01:20:26.784Z"
   },
   {
    "duration": 4,
    "start_time": "2024-06-01T01:21:57.995Z"
   },
   {
    "duration": 8,
    "start_time": "2024-06-01T01:28:02.787Z"
   },
   {
    "duration": 5,
    "start_time": "2024-06-01T01:33:01.564Z"
   },
   {
    "duration": 140,
    "start_time": "2024-06-01T01:35:04.543Z"
   },
   {
    "duration": 4,
    "start_time": "2024-06-01T01:35:33.259Z"
   },
   {
    "duration": 255,
    "start_time": "2024-06-01T01:35:34.421Z"
   },
   {
    "duration": 62,
    "start_time": "2024-06-01T01:41:34.840Z"
   },
   {
    "duration": 66,
    "start_time": "2024-06-01T01:41:41.374Z"
   },
   {
    "duration": 190,
    "start_time": "2024-06-01T01:41:45.912Z"
   },
   {
    "duration": 4,
    "start_time": "2024-06-01T01:41:52.831Z"
   },
   {
    "duration": 185,
    "start_time": "2024-06-01T01:41:54.222Z"
   },
   {
    "duration": 4,
    "start_time": "2024-06-01T01:42:16.340Z"
   },
   {
    "duration": 9,
    "start_time": "2024-06-01T01:42:18.897Z"
   },
   {
    "duration": 4,
    "start_time": "2024-06-01T01:42:57.790Z"
   },
   {
    "duration": 8,
    "start_time": "2024-06-01T01:42:59.552Z"
   },
   {
    "duration": 5,
    "start_time": "2024-06-01T01:43:13.266Z"
   },
   {
    "duration": 5,
    "start_time": "2024-06-01T01:43:14.819Z"
   },
   {
    "duration": 5,
    "start_time": "2024-06-01T01:43:26.789Z"
   },
   {
    "duration": 173,
    "start_time": "2024-06-01T01:43:28.359Z"
   },
   {
    "duration": 6,
    "start_time": "2024-06-01T01:51:27.495Z"
   },
   {
    "duration": 7,
    "start_time": "2024-06-01T01:51:29.361Z"
   },
   {
    "duration": 5,
    "start_time": "2024-06-01T01:51:33.418Z"
   },
   {
    "duration": 239,
    "start_time": "2024-06-01T01:51:34.656Z"
   },
   {
    "duration": 4,
    "start_time": "2024-06-01T01:51:48.565Z"
   },
   {
    "duration": 19,
    "start_time": "2024-06-01T01:51:50.494Z"
   },
   {
    "duration": 9,
    "start_time": "2024-06-01T01:52:47.131Z"
   },
   {
    "duration": 5,
    "start_time": "2024-06-01T01:52:51.893Z"
   },
   {
    "duration": 21,
    "start_time": "2024-06-01T01:52:57.033Z"
   },
   {
    "duration": 5,
    "start_time": "2024-06-01T01:53:17.802Z"
   },
   {
    "duration": 12,
    "start_time": "2024-06-01T01:53:19.440Z"
   },
   {
    "duration": 5,
    "start_time": "2024-06-01T01:53:26.785Z"
   },
   {
    "duration": 47,
    "start_time": "2024-06-01T01:53:28.312Z"
   },
   {
    "duration": 5,
    "start_time": "2024-06-01T01:53:37.097Z"
   },
   {
    "duration": 10,
    "start_time": "2024-06-01T01:53:38.846Z"
   },
   {
    "duration": 1174,
    "start_time": "2024-06-01T06:35:46.389Z"
   },
   {
    "duration": 485,
    "start_time": "2024-06-01T06:35:47.566Z"
   },
   {
    "duration": 77,
    "start_time": "2024-06-01T06:35:48.054Z"
   },
   {
    "duration": 12,
    "start_time": "2024-06-01T06:35:48.134Z"
   },
   {
    "duration": 53,
    "start_time": "2024-06-01T06:35:48.151Z"
   },
   {
    "duration": 14,
    "start_time": "2024-06-01T06:35:48.232Z"
   },
   {
    "duration": 83,
    "start_time": "2024-06-01T06:35:48.248Z"
   },
   {
    "duration": 12,
    "start_time": "2024-06-01T06:35:48.334Z"
   },
   {
    "duration": 4,
    "start_time": "2024-06-01T06:35:48.349Z"
   },
   {
    "duration": 4,
    "start_time": "2024-06-01T06:35:48.356Z"
   },
   {
    "duration": 5,
    "start_time": "2024-06-01T06:35:48.363Z"
   },
   {
    "duration": 97,
    "start_time": "2024-06-01T06:35:48.371Z"
   },
   {
    "duration": 10,
    "start_time": "2024-06-01T06:35:48.471Z"
   },
   {
    "duration": 4,
    "start_time": "2024-06-01T06:35:48.490Z"
   },
   {
    "duration": 5,
    "start_time": "2024-06-01T06:36:01.921Z"
   },
   {
    "duration": 51,
    "start_time": "2024-06-01T06:36:03.249Z"
   },
   {
    "duration": 14,
    "start_time": "2024-06-01T06:36:04.936Z"
   },
   {
    "duration": 5,
    "start_time": "2024-06-01T06:37:46.331Z"
   },
   {
    "duration": 18,
    "start_time": "2024-06-01T06:37:48.418Z"
   },
   {
    "duration": 18,
    "start_time": "2024-06-01T06:37:59.315Z"
   },
   {
    "duration": 18,
    "start_time": "2024-06-01T06:38:13.245Z"
   },
   {
    "duration": 18,
    "start_time": "2024-06-01T06:38:17.339Z"
   },
   {
    "duration": 19,
    "start_time": "2024-06-01T06:38:35.676Z"
   },
   {
    "duration": 5,
    "start_time": "2024-06-01T07:11:51.832Z"
   },
   {
    "duration": 5,
    "start_time": "2024-06-01T07:13:28.769Z"
   },
   {
    "duration": 5,
    "start_time": "2024-06-01T07:14:47.923Z"
   },
   {
    "duration": 5,
    "start_time": "2024-06-01T07:15:15.616Z"
   },
   {
    "duration": 565,
    "start_time": "2024-06-01T07:15:21.109Z"
   },
   {
    "duration": 5,
    "start_time": "2024-06-01T07:15:39.330Z"
   },
   {
    "duration": 5,
    "start_time": "2024-06-01T07:16:02.942Z"
   },
   {
    "duration": 334,
    "start_time": "2024-06-01T07:16:05.697Z"
   },
   {
    "duration": 5,
    "start_time": "2024-06-01T07:16:41.370Z"
   },
   {
    "duration": 54,
    "start_time": "2024-06-01T07:16:44.504Z"
   },
   {
    "duration": 22,
    "start_time": "2024-06-01T07:16:46.054Z"
   },
   {
    "duration": 16,
    "start_time": "2024-06-01T07:16:48.950Z"
   },
   {
    "duration": 19,
    "start_time": "2024-06-01T07:16:56.551Z"
   },
   {
    "duration": 16,
    "start_time": "2024-06-01T07:17:21.985Z"
   },
   {
    "duration": 15,
    "start_time": "2024-06-01T07:17:37.034Z"
   },
   {
    "duration": 26,
    "start_time": "2024-06-01T07:27:46.751Z"
   },
   {
    "duration": 33,
    "start_time": "2024-06-01T07:29:08.161Z"
   },
   {
    "duration": 33,
    "start_time": "2024-06-01T07:29:16.579Z"
   },
   {
    "duration": 33,
    "start_time": "2024-06-01T07:29:55.312Z"
   },
   {
    "duration": 35,
    "start_time": "2024-06-01T07:29:57.012Z"
   },
   {
    "duration": 32,
    "start_time": "2024-06-01T07:39:25.216Z"
   },
   {
    "duration": 32,
    "start_time": "2024-06-01T07:39:26.741Z"
   },
   {
    "duration": 58,
    "start_time": "2024-06-01T07:39:31.877Z"
   },
   {
    "duration": 38,
    "start_time": "2024-06-01T07:39:41.875Z"
   },
   {
    "duration": 33,
    "start_time": "2024-06-01T07:40:05.420Z"
   },
   {
    "duration": 34,
    "start_time": "2024-06-01T07:40:22.519Z"
   },
   {
    "duration": 36,
    "start_time": "2024-06-01T07:40:23.860Z"
   },
   {
    "duration": 35,
    "start_time": "2024-06-01T07:42:08.068Z"
   },
   {
    "duration": 34,
    "start_time": "2024-06-01T07:42:10.993Z"
   },
   {
    "duration": 32,
    "start_time": "2024-06-01T07:42:12.571Z"
   },
   {
    "duration": 38,
    "start_time": "2024-06-01T07:42:27.948Z"
   },
   {
    "duration": 32,
    "start_time": "2024-06-01T07:42:37.288Z"
   },
   {
    "duration": 33,
    "start_time": "2024-06-01T07:42:40.402Z"
   },
   {
    "duration": 33,
    "start_time": "2024-06-01T07:46:39.083Z"
   },
   {
    "duration": 33,
    "start_time": "2024-06-01T07:46:41.446Z"
   },
   {
    "duration": 33,
    "start_time": "2024-06-01T07:46:48.560Z"
   },
   {
    "duration": 32,
    "start_time": "2024-06-01T07:46:53.970Z"
   },
   {
    "duration": 35,
    "start_time": "2024-06-01T07:46:57.260Z"
   },
   {
    "duration": 33,
    "start_time": "2024-06-01T07:47:12.880Z"
   },
   {
    "duration": 10,
    "start_time": "2024-06-01T09:16:06.250Z"
   },
   {
    "duration": 8,
    "start_time": "2024-06-01T09:21:09.303Z"
   },
   {
    "duration": 3,
    "start_time": "2024-06-01T09:22:06.592Z"
   },
   {
    "duration": 341,
    "start_time": "2024-06-01T09:31:25.620Z"
   },
   {
    "duration": 22,
    "start_time": "2024-06-01T09:31:41.201Z"
   },
   {
    "duration": 22,
    "start_time": "2024-06-01T09:42:23.472Z"
   },
   {
    "duration": 22,
    "start_time": "2024-06-01T09:42:40.504Z"
   },
   {
    "duration": 1138,
    "start_time": "2024-06-01T09:42:43.688Z"
   },
   {
    "duration": 503,
    "start_time": "2024-06-01T09:42:44.830Z"
   },
   {
    "duration": 64,
    "start_time": "2024-06-01T09:42:45.336Z"
   },
   {
    "duration": 29,
    "start_time": "2024-06-01T09:42:45.404Z"
   },
   {
    "duration": 59,
    "start_time": "2024-06-01T09:42:45.437Z"
   },
   {
    "duration": 40,
    "start_time": "2024-06-01T09:42:45.502Z"
   },
   {
    "duration": 61,
    "start_time": "2024-06-01T09:42:45.546Z"
   },
   {
    "duration": 12,
    "start_time": "2024-06-01T09:42:45.632Z"
   },
   {
    "duration": 4,
    "start_time": "2024-06-01T09:42:45.647Z"
   },
   {
    "duration": 4,
    "start_time": "2024-06-01T09:42:45.656Z"
   },
   {
    "duration": 7,
    "start_time": "2024-06-01T09:42:45.663Z"
   },
   {
    "duration": 5,
    "start_time": "2024-06-01T09:42:45.673Z"
   },
   {
    "duration": 34,
    "start_time": "2024-06-01T09:42:47.967Z"
   },
   {
    "duration": 39,
    "start_time": "2024-06-01T09:42:51.899Z"
   },
   {
    "duration": 110,
    "start_time": "2024-06-01T09:42:51.943Z"
   },
   {
    "duration": 180,
    "start_time": "2024-06-01T09:42:52.061Z"
   },
   {
    "duration": 82,
    "start_time": "2024-06-01T09:42:52.250Z"
   },
   {
    "duration": 5,
    "start_time": "2024-06-01T09:42:52.339Z"
   },
   {
    "duration": 6,
    "start_time": "2024-06-01T09:42:52.347Z"
   },
   {
    "duration": 3,
    "start_time": "2024-06-01T09:42:52.359Z"
   },
   {
    "duration": 36,
    "start_time": "2024-06-01T09:43:34.713Z"
   },
   {
    "duration": 889,
    "start_time": "2024-06-01T09:43:47.247Z"
   },
   {
    "duration": 38,
    "start_time": "2024-06-01T09:44:08.726Z"
   },
   {
    "duration": 39,
    "start_time": "2024-06-01T09:44:44.408Z"
   },
   {
    "duration": 40,
    "start_time": "2024-06-01T09:44:46.990Z"
   },
   {
    "duration": 70,
    "start_time": "2024-06-01T09:44:50.066Z"
   },
   {
    "duration": 37,
    "start_time": "2024-06-01T09:44:59.024Z"
   },
   {
    "duration": 48,
    "start_time": "2024-06-01T09:45:40.610Z"
   },
   {
    "duration": 40,
    "start_time": "2024-06-01T09:45:42.305Z"
   },
   {
    "duration": 34,
    "start_time": "2024-06-01T09:46:06.718Z"
   },
   {
    "duration": 57,
    "start_time": "2024-06-01T09:47:06.412Z"
   },
   {
    "duration": 34,
    "start_time": "2024-06-01T09:47:08.751Z"
   },
   {
    "duration": 29,
    "start_time": "2024-06-01T09:59:56.782Z"
   },
   {
    "duration": 26,
    "start_time": "2024-06-01T10:00:08.797Z"
   },
   {
    "duration": 24,
    "start_time": "2024-06-01T10:00:13.635Z"
   },
   {
    "duration": 5,
    "start_time": "2024-06-01T10:00:22.527Z"
   },
   {
    "duration": 40,
    "start_time": "2024-06-01T10:00:24.840Z"
   },
   {
    "duration": 3,
    "start_time": "2024-06-01T10:00:35.714Z"
   },
   {
    "duration": 5,
    "start_time": "2024-06-01T10:00:36.924Z"
   },
   {
    "duration": 23,
    "start_time": "2024-06-01T10:00:54.449Z"
   },
   {
    "duration": 36,
    "start_time": "2024-06-01T10:01:07.799Z"
   },
   {
    "duration": 23,
    "start_time": "2024-06-01T10:01:27.183Z"
   },
   {
    "duration": 21,
    "start_time": "2024-06-01T10:01:33.834Z"
   },
   {
    "duration": 5,
    "start_time": "2024-06-01T10:01:40.639Z"
   },
   {
    "duration": 18,
    "start_time": "2024-06-01T10:01:42.154Z"
   },
   {
    "duration": 42,
    "start_time": "2024-06-01T10:01:43.953Z"
   },
   {
    "duration": 16,
    "start_time": "2024-06-01T10:01:53.212Z"
   },
   {
    "duration": 5,
    "start_time": "2024-06-01T10:02:05.010Z"
   },
   {
    "duration": 14,
    "start_time": "2024-06-01T10:02:06.923Z"
   },
   {
    "duration": 7,
    "start_time": "2024-06-01T10:02:21.064Z"
   },
   {
    "duration": 11,
    "start_time": "2024-06-01T10:02:23.966Z"
   },
   {
    "duration": 13,
    "start_time": "2024-06-01T10:02:26.703Z"
   },
   {
    "duration": 6,
    "start_time": "2024-06-01T10:02:29.114Z"
   },
   {
    "duration": 12,
    "start_time": "2024-06-01T10:02:34.810Z"
   },
   {
    "duration": 9,
    "start_time": "2024-06-01T10:03:12.043Z"
   },
   {
    "duration": 11,
    "start_time": "2024-06-01T10:03:14.210Z"
   },
   {
    "duration": 5,
    "start_time": "2024-06-01T10:03:20.061Z"
   },
   {
    "duration": 15,
    "start_time": "2024-06-01T10:03:21.749Z"
   },
   {
    "duration": 5,
    "start_time": "2024-06-01T10:03:31.939Z"
   },
   {
    "duration": 11,
    "start_time": "2024-06-01T10:03:33.666Z"
   },
   {
    "duration": 7,
    "start_time": "2024-06-01T10:05:31.530Z"
   },
   {
    "duration": 6,
    "start_time": "2024-06-01T10:05:34.690Z"
   },
   {
    "duration": 12,
    "start_time": "2024-06-01T10:05:37.207Z"
   },
   {
    "duration": 24,
    "start_time": "2024-06-01T10:06:22.920Z"
   },
   {
    "duration": 28,
    "start_time": "2024-06-01T10:06:27.200Z"
   },
   {
    "duration": 6,
    "start_time": "2024-06-01T10:06:32.583Z"
   },
   {
    "duration": 25,
    "start_time": "2024-06-01T10:06:34.251Z"
   },
   {
    "duration": 27,
    "start_time": "2024-06-01T10:11:55.790Z"
   },
   {
    "duration": 25,
    "start_time": "2024-06-01T10:11:58.429Z"
   },
   {
    "duration": 1232,
    "start_time": "2024-06-01T22:30:26.220Z"
   },
   {
    "duration": 6,
    "start_time": "2024-06-01T22:30:29.281Z"
   },
   {
    "duration": 574,
    "start_time": "2024-06-01T22:30:29.293Z"
   },
   {
    "duration": 81,
    "start_time": "2024-06-01T22:30:29.870Z"
   },
   {
    "duration": 14,
    "start_time": "2024-06-01T22:30:29.954Z"
   },
   {
    "duration": 80,
    "start_time": "2024-06-01T22:30:29.973Z"
   },
   {
    "duration": 13,
    "start_time": "2024-06-01T22:30:30.056Z"
   },
   {
    "duration": 91,
    "start_time": "2024-06-01T22:30:30.076Z"
   },
   {
    "duration": 12,
    "start_time": "2024-06-01T22:30:30.171Z"
   },
   {
    "duration": 5,
    "start_time": "2024-06-01T22:30:30.185Z"
   },
   {
    "duration": 5,
    "start_time": "2024-06-01T22:30:30.193Z"
   },
   {
    "duration": 5,
    "start_time": "2024-06-01T22:30:30.233Z"
   },
   {
    "duration": 5,
    "start_time": "2024-06-01T22:30:30.242Z"
   },
   {
    "duration": 87,
    "start_time": "2024-06-01T22:30:30.250Z"
   },
   {
    "duration": 117,
    "start_time": "2024-06-01T22:30:30.345Z"
   },
   {
    "duration": 183,
    "start_time": "2024-06-01T22:30:30.464Z"
   },
   {
    "duration": 6,
    "start_time": "2024-06-01T22:30:30.650Z"
   },
   {
    "duration": 71,
    "start_time": "2024-06-01T22:30:30.660Z"
   },
   {
    "duration": 38,
    "start_time": "2024-06-01T22:30:30.733Z"
   },
   {
    "duration": 58,
    "start_time": "2024-06-01T22:30:30.774Z"
   },
   {
    "duration": 27,
    "start_time": "2024-06-01T22:30:35.320Z"
   },
   {
    "duration": 25,
    "start_time": "2024-06-01T22:30:35.828Z"
   },
   {
    "duration": 41,
    "start_time": "2024-06-01T22:30:40.593Z"
   },
   {
    "duration": 24,
    "start_time": "2024-06-01T22:30:50.402Z"
   },
   {
    "duration": 7,
    "start_time": "2024-06-01T22:31:15.745Z"
   },
   {
    "duration": 28,
    "start_time": "2024-06-01T22:31:18.680Z"
   },
   {
    "duration": 27,
    "start_time": "2024-06-01T22:31:26.893Z"
   },
   {
    "duration": 27,
    "start_time": "2024-06-01T22:31:31.430Z"
   },
   {
    "duration": 5,
    "start_time": "2024-06-01T22:36:10.453Z"
   },
   {
    "duration": 26,
    "start_time": "2024-06-01T22:36:11.868Z"
   },
   {
    "duration": 6,
    "start_time": "2024-06-01T22:36:28.928Z"
   },
   {
    "duration": 25,
    "start_time": "2024-06-01T22:36:30.497Z"
   },
   {
    "duration": 6,
    "start_time": "2024-06-01T22:36:37.191Z"
   },
   {
    "duration": 26,
    "start_time": "2024-06-01T22:36:38.385Z"
   },
   {
    "duration": 51,
    "start_time": "2024-06-01T23:05:25.547Z"
   },
   {
    "duration": 7,
    "start_time": "2024-06-01T23:05:33.947Z"
   },
   {
    "duration": 46,
    "start_time": "2024-06-01T23:05:37.866Z"
   },
   {
    "duration": 8,
    "start_time": "2024-06-01T23:05:40.801Z"
   },
   {
    "duration": 7,
    "start_time": "2024-06-01T23:05:59.470Z"
   },
   {
    "duration": 53,
    "start_time": "2024-06-01T23:06:00.995Z"
   },
   {
    "duration": 6,
    "start_time": "2024-06-01T23:06:04.340Z"
   },
   {
    "duration": 1232,
    "start_time": "2024-06-01T23:16:03.005Z"
   },
   {
    "duration": 455,
    "start_time": "2024-06-01T23:16:04.240Z"
   },
   {
    "duration": 77,
    "start_time": "2024-06-01T23:16:04.698Z"
   },
   {
    "duration": 13,
    "start_time": "2024-06-01T23:16:04.779Z"
   },
   {
    "duration": 77,
    "start_time": "2024-06-01T23:16:04.795Z"
   },
   {
    "duration": 13,
    "start_time": "2024-06-01T23:16:04.876Z"
   },
   {
    "duration": 93,
    "start_time": "2024-06-01T23:16:04.893Z"
   },
   {
    "duration": 13,
    "start_time": "2024-06-01T23:16:04.989Z"
   },
   {
    "duration": 3,
    "start_time": "2024-06-01T23:16:05.030Z"
   },
   {
    "duration": 4,
    "start_time": "2024-06-01T23:16:05.038Z"
   },
   {
    "duration": 8,
    "start_time": "2024-06-01T23:16:05.046Z"
   },
   {
    "duration": 5,
    "start_time": "2024-06-01T23:16:05.058Z"
   },
   {
    "duration": 87,
    "start_time": "2024-06-01T23:16:05.066Z"
   },
   {
    "duration": 178,
    "start_time": "2024-06-01T23:16:05.162Z"
   },
   {
    "duration": 115,
    "start_time": "2024-06-01T23:16:05.348Z"
   },
   {
    "duration": 6,
    "start_time": "2024-06-01T23:16:05.536Z"
   },
   {
    "duration": 74,
    "start_time": "2024-06-01T23:16:05.558Z"
   },
   {
    "duration": 39,
    "start_time": "2024-06-01T23:16:05.641Z"
   },
   {
    "duration": 3,
    "start_time": "2024-06-01T23:16:05.683Z"
   },
   {
    "duration": 42,
    "start_time": "2024-06-01T23:43:15.292Z"
   },
   {
    "duration": 6,
    "start_time": "2024-06-01T23:43:24.816Z"
   },
   {
    "duration": 7,
    "start_time": "2024-06-01T23:44:30.243Z"
   },
   {
    "duration": 6,
    "start_time": "2024-06-01T23:44:49.749Z"
   },
   {
    "duration": 44,
    "start_time": "2024-06-01T23:44:51.824Z"
   },
   {
    "duration": 7,
    "start_time": "2024-06-01T23:45:04.412Z"
   },
   {
    "duration": 43,
    "start_time": "2024-06-01T23:45:05.967Z"
   },
   {
    "duration": 6,
    "start_time": "2024-06-01T23:45:16.581Z"
   },
   {
    "duration": 6,
    "start_time": "2024-06-01T23:45:17.149Z"
   },
   {
    "duration": 51,
    "start_time": "2024-06-01T23:45:18.587Z"
   },
   {
    "duration": 25,
    "start_time": "2024-06-01T23:45:46.156Z"
   },
   {
    "duration": 43,
    "start_time": "2024-06-01T23:45:50.517Z"
   },
   {
    "duration": 24,
    "start_time": "2024-06-01T23:45:53.598Z"
   },
   {
    "duration": 46,
    "start_time": "2024-06-01T23:45:59.606Z"
   },
   {
    "duration": 8,
    "start_time": "2024-06-01T23:46:22.276Z"
   },
   {
    "duration": 8,
    "start_time": "2024-06-01T23:46:26.824Z"
   },
   {
    "duration": 6,
    "start_time": "2024-06-01T23:46:36.544Z"
   },
   {
    "duration": 45,
    "start_time": "2024-06-01T23:46:40.076Z"
   },
   {
    "duration": 48,
    "start_time": "2024-06-01T23:46:47.888Z"
   },
   {
    "duration": 6,
    "start_time": "2024-06-01T23:46:51.187Z"
   },
   {
    "duration": 6,
    "start_time": "2024-06-01T23:46:55.763Z"
   },
   {
    "duration": 41,
    "start_time": "2024-06-01T23:46:58.127Z"
   },
   {
    "duration": 6,
    "start_time": "2024-06-01T23:47:00.457Z"
   },
   {
    "duration": 1215,
    "start_time": "2024-06-02T07:28:11.380Z"
   },
   {
    "duration": 481,
    "start_time": "2024-06-02T07:28:12.598Z"
   },
   {
    "duration": 73,
    "start_time": "2024-06-02T07:28:13.081Z"
   },
   {
    "duration": 13,
    "start_time": "2024-06-02T07:28:13.157Z"
   },
   {
    "duration": 81,
    "start_time": "2024-06-02T07:28:13.175Z"
   },
   {
    "duration": 12,
    "start_time": "2024-06-02T07:28:13.259Z"
   },
   {
    "duration": 92,
    "start_time": "2024-06-02T07:28:13.274Z"
   },
   {
    "duration": 12,
    "start_time": "2024-06-02T07:28:13.371Z"
   },
   {
    "duration": 4,
    "start_time": "2024-06-02T07:28:13.386Z"
   },
   {
    "duration": 5,
    "start_time": "2024-06-02T07:28:13.393Z"
   },
   {
    "duration": 6,
    "start_time": "2024-06-02T07:28:13.431Z"
   },
   {
    "duration": 4,
    "start_time": "2024-06-02T07:28:13.440Z"
   },
   {
    "duration": 40,
    "start_time": "2024-06-02T07:28:13.447Z"
   },
   {
    "duration": 117,
    "start_time": "2024-06-02T07:28:13.535Z"
   },
   {
    "duration": 178,
    "start_time": "2024-06-02T07:28:13.658Z"
   },
   {
    "duration": 5,
    "start_time": "2024-06-02T07:28:13.843Z"
   },
   {
    "duration": 79,
    "start_time": "2024-06-02T07:28:13.854Z"
   },
   {
    "duration": 114,
    "start_time": "2024-06-02T07:28:13.937Z"
   },
   {
    "duration": 6,
    "start_time": "2024-06-02T07:28:14.054Z"
   },
   {
    "duration": 3,
    "start_time": "2024-06-02T07:28:14.063Z"
   },
   {
    "duration": 8,
    "start_time": "2024-06-02T07:28:25.909Z"
   },
   {
    "duration": 25,
    "start_time": "2024-06-02T07:31:32.156Z"
   },
   {
    "duration": 6,
    "start_time": "2024-06-02T07:31:34.544Z"
   },
   {
    "duration": 11,
    "start_time": "2024-06-02T07:36:42.443Z"
   },
   {
    "duration": 12,
    "start_time": "2024-06-02T07:36:45.743Z"
   },
   {
    "duration": 11,
    "start_time": "2024-06-02T07:41:12.199Z"
   },
   {
    "duration": 13,
    "start_time": "2024-06-02T07:41:22.146Z"
   },
   {
    "duration": 315,
    "start_time": "2024-06-02T07:46:10.385Z"
   },
   {
    "duration": 805,
    "start_time": "2024-06-02T07:50:35.225Z"
   },
   {
    "duration": 0,
    "start_time": "2024-06-02T07:50:44.866Z"
   },
   {
    "duration": 738,
    "start_time": "2024-06-02T07:50:47.036Z"
   },
   {
    "duration": 753,
    "start_time": "2024-06-02T07:58:09.694Z"
   },
   {
    "duration": 669,
    "start_time": "2024-06-02T07:58:13.972Z"
   },
   {
    "duration": 539,
    "start_time": "2024-06-02T07:58:17.584Z"
   },
   {
    "duration": 800,
    "start_time": "2024-06-02T07:58:26.425Z"
   },
   {
    "duration": 595,
    "start_time": "2024-06-02T07:59:11.350Z"
   },
   {
    "duration": 34,
    "start_time": "2024-06-02T07:59:35.948Z"
   },
   {
    "duration": 18,
    "start_time": "2024-06-02T08:00:29.387Z"
   },
   {
    "duration": 314,
    "start_time": "2024-06-02T08:00:45.076Z"
   },
   {
    "duration": 4977,
    "start_time": "2024-06-02T08:00:57.502Z"
   },
   {
    "duration": 1375,
    "start_time": "2024-06-02T08:02:57.732Z"
   },
   {
    "duration": 834,
    "start_time": "2024-06-02T08:03:18.446Z"
   },
   {
    "duration": 844,
    "start_time": "2024-06-02T08:03:29.266Z"
   },
   {
    "duration": 1030,
    "start_time": "2024-06-02T08:03:41.035Z"
   },
   {
    "duration": 1355,
    "start_time": "2024-06-02T08:03:54.438Z"
   },
   {
    "duration": 1372,
    "start_time": "2024-06-02T08:04:38.237Z"
   },
   {
    "duration": 798,
    "start_time": "2024-06-02T08:04:56.559Z"
   },
   {
    "duration": 1071,
    "start_time": "2024-06-02T08:07:42.058Z"
   },
   {
    "duration": 997,
    "start_time": "2024-06-02T08:07:45.218Z"
   },
   {
    "duration": 1047,
    "start_time": "2024-06-02T08:07:51.119Z"
   },
   {
    "duration": 1041,
    "start_time": "2024-06-02T08:08:00.167Z"
   },
   {
    "duration": 1024,
    "start_time": "2024-06-02T08:08:04.826Z"
   },
   {
    "duration": 1017,
    "start_time": "2024-06-02T08:08:33.663Z"
   },
   {
    "duration": 1040,
    "start_time": "2024-06-02T08:08:39.451Z"
   },
   {
    "duration": 1020,
    "start_time": "2024-06-02T08:08:53.978Z"
   },
   {
    "duration": 1064,
    "start_time": "2024-06-02T08:09:01.376Z"
   },
   {
    "duration": 1015,
    "start_time": "2024-06-02T08:09:07.980Z"
   },
   {
    "duration": 1031,
    "start_time": "2024-06-02T08:09:12.374Z"
   },
   {
    "duration": 1007,
    "start_time": "2024-06-02T08:10:12.934Z"
   },
   {
    "duration": 1012,
    "start_time": "2024-06-02T08:10:17.556Z"
   },
   {
    "duration": 1012,
    "start_time": "2024-06-02T08:10:27.819Z"
   },
   {
    "duration": 1031,
    "start_time": "2024-06-02T08:10:42.619Z"
   },
   {
    "duration": 1029,
    "start_time": "2024-06-02T08:10:48.709Z"
   },
   {
    "duration": 1055,
    "start_time": "2024-06-02T08:10:57.670Z"
   },
   {
    "duration": 1056,
    "start_time": "2024-06-02T08:11:12.715Z"
   },
   {
    "duration": 1082,
    "start_time": "2024-06-02T08:11:21.422Z"
   },
   {
    "duration": 9,
    "start_time": "2024-06-02T08:21:55.771Z"
   },
   {
    "duration": 1195,
    "start_time": "2024-06-02T08:22:02.432Z"
   },
   {
    "duration": 1058,
    "start_time": "2024-06-02T08:22:09.857Z"
   },
   {
    "duration": 1062,
    "start_time": "2024-06-02T08:24:51.758Z"
   },
   {
    "duration": 7,
    "start_time": "2024-06-02T08:29:58.987Z"
   },
   {
    "duration": 1056,
    "start_time": "2024-06-02T08:30:05.546Z"
   },
   {
    "duration": 1053,
    "start_time": "2024-06-02T08:30:11.855Z"
   },
   {
    "duration": 1022,
    "start_time": "2024-06-02T08:30:17.111Z"
   },
   {
    "duration": 1066,
    "start_time": "2024-06-02T08:30:21.268Z"
   },
   {
    "duration": 1027,
    "start_time": "2024-06-02T08:30:25.257Z"
   },
   {
    "duration": 973,
    "start_time": "2024-06-02T08:32:31.778Z"
   },
   {
    "duration": 962,
    "start_time": "2024-06-02T08:32:39.531Z"
   },
   {
    "duration": 921,
    "start_time": "2024-06-02T08:33:07.537Z"
   },
   {
    "duration": 975,
    "start_time": "2024-06-02T08:33:11.043Z"
   },
   {
    "duration": 930,
    "start_time": "2024-06-02T08:33:17.659Z"
   },
   {
    "duration": 939,
    "start_time": "2024-06-02T08:33:23.541Z"
   },
   {
    "duration": 1160,
    "start_time": "2024-06-02T08:47:37.917Z"
   },
   {
    "duration": 979,
    "start_time": "2024-06-02T08:47:41.471Z"
   },
   {
    "duration": 1020,
    "start_time": "2024-06-02T08:47:50.899Z"
   },
   {
    "duration": 1071,
    "start_time": "2024-06-02T08:49:25.608Z"
   },
   {
    "duration": 1069,
    "start_time": "2024-06-02T08:50:04.091Z"
   },
   {
    "duration": 1392,
    "start_time": "2024-06-02T08:50:12.168Z"
   },
   {
    "duration": 1374,
    "start_time": "2024-06-02T08:50:17.538Z"
   },
   {
    "duration": 1345,
    "start_time": "2024-06-02T08:50:23.564Z"
   },
   {
    "duration": 1360,
    "start_time": "2024-06-02T08:50:34.770Z"
   },
   {
    "duration": 1472,
    "start_time": "2024-06-02T08:50:40.319Z"
   },
   {
    "duration": 8,
    "start_time": "2024-06-02T08:50:50.347Z"
   },
   {
    "duration": 1037,
    "start_time": "2024-06-02T08:50:55.875Z"
   },
   {
    "duration": 1076,
    "start_time": "2024-06-02T08:51:01.302Z"
   },
   {
    "duration": 1019,
    "start_time": "2024-06-02T08:51:04.489Z"
   },
   {
    "duration": 1055,
    "start_time": "2024-06-02T08:51:10.993Z"
   },
   {
    "duration": 1020,
    "start_time": "2024-06-02T08:51:14.346Z"
   },
   {
    "duration": 1030,
    "start_time": "2024-06-02T08:51:16.111Z"
   },
   {
    "duration": 1020,
    "start_time": "2024-06-02T08:51:17.571Z"
   },
   {
    "duration": 1048,
    "start_time": "2024-06-02T08:51:19.028Z"
   },
   {
    "duration": 1031,
    "start_time": "2024-06-02T08:51:20.367Z"
   },
   {
    "duration": 1080,
    "start_time": "2024-06-02T08:51:21.802Z"
   },
   {
    "duration": 1033,
    "start_time": "2024-06-02T08:51:23.141Z"
   },
   {
    "duration": 1021,
    "start_time": "2024-06-02T08:51:24.611Z"
   },
   {
    "duration": 1054,
    "start_time": "2024-06-02T08:51:26.049Z"
   },
   {
    "duration": 1029,
    "start_time": "2024-06-02T08:51:27.620Z"
   },
   {
    "duration": 1037,
    "start_time": "2024-06-02T08:51:28.889Z"
   },
   {
    "duration": 1020,
    "start_time": "2024-06-02T08:51:30.471Z"
   },
   {
    "duration": 1041,
    "start_time": "2024-06-02T08:51:32.291Z"
   },
   {
    "duration": 377,
    "start_time": "2024-06-02T08:52:57.232Z"
   },
   {
    "duration": 6,
    "start_time": "2024-06-02T08:53:01.106Z"
   },
   {
    "duration": 433,
    "start_time": "2024-06-02T08:53:01.117Z"
   },
   {
    "duration": 67,
    "start_time": "2024-06-02T08:53:01.554Z"
   },
   {
    "duration": 17,
    "start_time": "2024-06-02T08:53:01.625Z"
   },
   {
    "duration": 88,
    "start_time": "2024-06-02T08:53:01.648Z"
   },
   {
    "duration": 17,
    "start_time": "2024-06-02T08:53:01.740Z"
   },
   {
    "duration": 90,
    "start_time": "2024-06-02T08:53:01.759Z"
   },
   {
    "duration": 12,
    "start_time": "2024-06-02T08:53:01.853Z"
   },
   {
    "duration": 4,
    "start_time": "2024-06-02T08:53:01.868Z"
   },
   {
    "duration": 5,
    "start_time": "2024-06-02T08:53:01.874Z"
   },
   {
    "duration": 6,
    "start_time": "2024-06-02T08:53:01.882Z"
   },
   {
    "duration": 6,
    "start_time": "2024-06-02T08:53:01.931Z"
   },
   {
    "duration": 95,
    "start_time": "2024-06-02T08:53:01.940Z"
   },
   {
    "duration": 114,
    "start_time": "2024-06-02T08:53:02.041Z"
   },
   {
    "duration": 194,
    "start_time": "2024-06-02T08:53:02.158Z"
   },
   {
    "duration": 4,
    "start_time": "2024-06-02T08:53:02.355Z"
   },
   {
    "duration": 7,
    "start_time": "2024-06-02T08:53:02.363Z"
   },
   {
    "duration": 159,
    "start_time": "2024-06-02T08:53:02.374Z"
   },
   {
    "duration": 22,
    "start_time": "2024-06-02T08:53:02.536Z"
   },
   {
    "duration": 1122,
    "start_time": "2024-06-02T08:53:02.562Z"
   },
   {
    "duration": 4,
    "start_time": "2024-06-02T08:53:03.687Z"
   },
   {
    "duration": 1065,
    "start_time": "2024-06-02T08:53:07.437Z"
   },
   {
    "duration": 1111,
    "start_time": "2024-06-02T08:53:09.084Z"
   },
   {
    "duration": 402,
    "start_time": "2024-06-02T08:53:19.861Z"
   },
   {
    "duration": 8,
    "start_time": "2024-06-02T08:53:21.750Z"
   },
   {
    "duration": 437,
    "start_time": "2024-06-02T08:53:21.762Z"
   },
   {
    "duration": 71,
    "start_time": "2024-06-02T08:53:22.202Z"
   },
   {
    "duration": 13,
    "start_time": "2024-06-02T08:53:22.277Z"
   },
   {
    "duration": 94,
    "start_time": "2024-06-02T08:53:22.293Z"
   },
   {
    "duration": 13,
    "start_time": "2024-06-02T08:53:22.391Z"
   },
   {
    "duration": 72,
    "start_time": "2024-06-02T08:53:22.431Z"
   },
   {
    "duration": 32,
    "start_time": "2024-06-02T08:53:22.506Z"
   },
   {
    "duration": 5,
    "start_time": "2024-06-02T08:53:22.542Z"
   },
   {
    "duration": 5,
    "start_time": "2024-06-02T08:53:22.554Z"
   },
   {
    "duration": 7,
    "start_time": "2024-06-02T08:53:22.563Z"
   },
   {
    "duration": 5,
    "start_time": "2024-06-02T08:53:22.575Z"
   },
   {
    "duration": 84,
    "start_time": "2024-06-02T08:53:22.584Z"
   },
   {
    "duration": 94,
    "start_time": "2024-06-02T08:53:22.671Z"
   },
   {
    "duration": 107,
    "start_time": "2024-06-02T08:53:22.833Z"
   },
   {
    "duration": 5,
    "start_time": "2024-06-02T08:53:22.943Z"
   },
   {
    "duration": 7,
    "start_time": "2024-06-02T08:53:22.952Z"
   },
   {
    "duration": 95,
    "start_time": "2024-06-02T08:53:22.963Z"
   },
   {
    "duration": 81,
    "start_time": "2024-06-02T08:53:23.060Z"
   },
   {
    "duration": 1161,
    "start_time": "2024-06-02T08:53:23.145Z"
   },
   {
    "duration": 4,
    "start_time": "2024-06-02T08:53:24.310Z"
   },
   {
    "duration": 4131,
    "start_time": "2024-06-02T08:54:17.458Z"
   },
   {
    "duration": 1084,
    "start_time": "2024-06-02T08:54:34.769Z"
   },
   {
    "duration": 25,
    "start_time": "2024-06-02T08:55:43.150Z"
   },
   {
    "duration": 6,
    "start_time": "2024-06-02T08:55:49.566Z"
   },
   {
    "duration": 4,
    "start_time": "2024-06-02T08:56:04.950Z"
   },
   {
    "duration": 4,
    "start_time": "2024-06-02T08:56:08.415Z"
   },
   {
    "duration": 37,
    "start_time": "2024-06-02T08:56:20.809Z"
   },
   {
    "duration": 4,
    "start_time": "2024-06-02T08:56:23.451Z"
   },
   {
    "duration": 22,
    "start_time": "2024-06-02T08:56:33.399Z"
   },
   {
    "duration": 24,
    "start_time": "2024-06-02T08:56:43.082Z"
   },
   {
    "duration": 5,
    "start_time": "2024-06-02T08:57:13.707Z"
   },
   {
    "duration": 6,
    "start_time": "2024-06-02T08:57:16.645Z"
   },
   {
    "duration": 1014,
    "start_time": "2024-06-02T09:00:30.591Z"
   },
   {
    "duration": 1064,
    "start_time": "2024-06-02T09:00:33.988Z"
   },
   {
    "duration": 1029,
    "start_time": "2024-06-02T09:00:35.692Z"
   },
   {
    "duration": 1024,
    "start_time": "2024-06-02T09:00:37.261Z"
   },
   {
    "duration": 1059,
    "start_time": "2024-06-02T09:00:39.064Z"
   },
   {
    "duration": 1063,
    "start_time": "2024-06-02T09:00:40.858Z"
   },
   {
    "duration": 6,
    "start_time": "2024-06-02T09:00:44.372Z"
   },
   {
    "duration": 1045,
    "start_time": "2024-06-02T09:01:22.572Z"
   },
   {
    "duration": 6,
    "start_time": "2024-06-02T09:01:25.144Z"
   },
   {
    "duration": 201,
    "start_time": "2024-06-02T09:01:26.784Z"
   },
   {
    "duration": 1168,
    "start_time": "2024-06-02T09:06:05.148Z"
   },
   {
    "duration": 1020,
    "start_time": "2024-06-02T09:06:53.357Z"
   },
   {
    "duration": 1046,
    "start_time": "2024-06-02T09:07:44.098Z"
   },
   {
    "duration": 1067,
    "start_time": "2024-06-02T09:07:51.187Z"
   },
   {
    "duration": 3,
    "start_time": "2024-06-02T09:09:57.245Z"
   },
   {
    "duration": 1034,
    "start_time": "2024-06-02T09:12:16.698Z"
   },
   {
    "duration": 1225,
    "start_time": "2024-06-02T09:12:24.024Z"
   },
   {
    "duration": 1033,
    "start_time": "2024-06-02T09:12:44.416Z"
   },
   {
    "duration": 1027,
    "start_time": "2024-06-02T09:12:52.926Z"
   },
   {
    "duration": 1064,
    "start_time": "2024-06-02T09:13:01.429Z"
   },
   {
    "duration": 1102,
    "start_time": "2024-06-02T09:13:30.153Z"
   },
   {
    "duration": 1022,
    "start_time": "2024-06-02T09:13:45.567Z"
   },
   {
    "duration": 1005,
    "start_time": "2024-06-02T09:14:49.500Z"
   },
   {
    "duration": 1017,
    "start_time": "2024-06-02T09:14:56.624Z"
   },
   {
    "duration": 1022,
    "start_time": "2024-06-02T09:15:49.408Z"
   },
   {
    "duration": 1122,
    "start_time": "2024-06-02T09:16:05.038Z"
   },
   {
    "duration": 1019,
    "start_time": "2024-06-02T09:16:10.396Z"
   },
   {
    "duration": 1019,
    "start_time": "2024-06-02T09:18:12.641Z"
   },
   {
    "duration": 1015,
    "start_time": "2024-06-02T09:18:17.275Z"
   },
   {
    "duration": 1015,
    "start_time": "2024-06-02T09:18:20.603Z"
   },
   {
    "duration": 1103,
    "start_time": "2024-06-02T09:27:31.709Z"
   },
   {
    "duration": 1108,
    "start_time": "2024-06-02T09:27:52.599Z"
   },
   {
    "duration": 1010,
    "start_time": "2024-06-02T09:27:55.022Z"
   },
   {
    "duration": 1014,
    "start_time": "2024-06-02T09:28:14.950Z"
   },
   {
    "duration": 1030,
    "start_time": "2024-06-02T09:28:23.871Z"
   },
   {
    "duration": 1034,
    "start_time": "2024-06-02T09:29:07.317Z"
   },
   {
    "duration": 1038,
    "start_time": "2024-06-02T09:29:33.192Z"
   },
   {
    "duration": 1020,
    "start_time": "2024-06-02T09:30:18.128Z"
   },
   {
    "duration": 1029,
    "start_time": "2024-06-02T09:30:38.054Z"
   },
   {
    "duration": 26,
    "start_time": "2024-06-02T09:30:42.425Z"
   },
   {
    "duration": 1042,
    "start_time": "2024-06-02T09:32:23.804Z"
   },
   {
    "duration": 1017,
    "start_time": "2024-06-02T09:32:26.743Z"
   },
   {
    "duration": 999,
    "start_time": "2024-06-02T09:32:33.055Z"
   },
   {
    "duration": 1009,
    "start_time": "2024-06-02T09:32:38.337Z"
   },
   {
    "duration": 1090,
    "start_time": "2024-06-02T09:32:41.356Z"
   },
   {
    "duration": 1019,
    "start_time": "2024-06-02T09:32:49.111Z"
   },
   {
    "duration": 1024,
    "start_time": "2024-06-02T09:32:54.327Z"
   },
   {
    "duration": 1020,
    "start_time": "2024-06-02T09:32:59.864Z"
   },
   {
    "duration": 1025,
    "start_time": "2024-06-02T09:33:17.007Z"
   },
   {
    "duration": 1022,
    "start_time": "2024-06-02T09:33:20.488Z"
   },
   {
    "duration": 1044,
    "start_time": "2024-06-02T09:33:35.506Z"
   },
   {
    "duration": 1022,
    "start_time": "2024-06-02T09:34:15.868Z"
   },
   {
    "duration": 1041,
    "start_time": "2024-06-02T09:34:40.953Z"
   },
   {
    "duration": 1026,
    "start_time": "2024-06-02T09:34:44.770Z"
   },
   {
    "duration": 1015,
    "start_time": "2024-06-02T09:34:58.935Z"
   },
   {
    "duration": 1027,
    "start_time": "2024-06-02T09:35:09.169Z"
   },
   {
    "duration": 1011,
    "start_time": "2024-06-02T09:35:16.266Z"
   },
   {
    "duration": 1068,
    "start_time": "2024-06-02T09:35:21.685Z"
   },
   {
    "duration": 1024,
    "start_time": "2024-06-02T09:35:25.660Z"
   },
   {
    "duration": 1017,
    "start_time": "2024-06-02T09:35:29.060Z"
   },
   {
    "duration": 1023,
    "start_time": "2024-06-02T09:35:36.289Z"
   },
   {
    "duration": 1003,
    "start_time": "2024-06-02T09:54:34.503Z"
   },
   {
    "duration": 1014,
    "start_time": "2024-06-02T09:54:54.608Z"
   },
   {
    "duration": 1031,
    "start_time": "2024-06-02T09:57:10.128Z"
   },
   {
    "duration": 1031,
    "start_time": "2024-06-02T09:57:20.895Z"
   },
   {
    "duration": 1016,
    "start_time": "2024-06-02T09:58:10.530Z"
   },
   {
    "duration": 1001,
    "start_time": "2024-06-02T10:06:44.552Z"
   },
   {
    "duration": 1018,
    "start_time": "2024-06-02T10:06:52.888Z"
   },
   {
    "duration": 6,
    "start_time": "2024-06-02T10:15:11.495Z"
   },
   {
    "duration": 35,
    "start_time": "2024-06-02T10:15:40.311Z"
   },
   {
    "duration": 31,
    "start_time": "2024-06-02T10:15:47.378Z"
   },
   {
    "duration": 34,
    "start_time": "2024-06-02T10:16:00.223Z"
   },
   {
    "duration": 35,
    "start_time": "2024-06-02T10:16:27.079Z"
   },
   {
    "duration": 1512,
    "start_time": "2024-06-02T10:16:40.940Z"
   },
   {
    "duration": 1044,
    "start_time": "2024-06-02T10:16:53.424Z"
   },
   {
    "duration": 1031,
    "start_time": "2024-06-02T10:18:57.483Z"
   },
   {
    "duration": 1057,
    "start_time": "2024-06-02T10:19:17.920Z"
   },
   {
    "duration": 1030,
    "start_time": "2024-06-02T10:19:26.419Z"
   },
   {
    "duration": 1043,
    "start_time": "2024-06-02T10:19:30.589Z"
   },
   {
    "duration": 1050,
    "start_time": "2024-06-02T10:19:33.392Z"
   },
   {
    "duration": 6,
    "start_time": "2024-06-02T10:19:41.060Z"
   },
   {
    "duration": 1013,
    "start_time": "2024-06-02T10:19:44.471Z"
   },
   {
    "duration": 1000,
    "start_time": "2024-06-02T10:19:46.892Z"
   },
   {
    "duration": 5,
    "start_time": "2024-06-02T10:40:23.397Z"
   },
   {
    "duration": 1021,
    "start_time": "2024-06-02T10:42:15.291Z"
   },
   {
    "duration": 1033,
    "start_time": "2024-06-02T10:42:44.938Z"
   },
   {
    "duration": 1027,
    "start_time": "2024-06-02T10:43:17.183Z"
   },
   {
    "duration": 1069,
    "start_time": "2024-06-02T10:43:28.069Z"
   },
   {
    "duration": 1027,
    "start_time": "2024-06-02T10:49:40.531Z"
   },
   {
    "duration": 1022,
    "start_time": "2024-06-02T10:49:43.233Z"
   },
   {
    "duration": 1047,
    "start_time": "2024-06-02T10:53:07.463Z"
   },
   {
    "duration": 1060,
    "start_time": "2024-06-02T10:53:21.971Z"
   },
   {
    "duration": 1651,
    "start_time": "2024-06-02T10:53:48.452Z"
   },
   {
    "duration": 1037,
    "start_time": "2024-06-02T10:54:00.880Z"
   },
   {
    "duration": 1014,
    "start_time": "2024-06-02T11:25:29.216Z"
   },
   {
    "duration": 1017,
    "start_time": "2024-06-02T11:27:25.966Z"
   },
   {
    "duration": 1080,
    "start_time": "2024-06-02T11:27:52.752Z"
   },
   {
    "duration": 1035,
    "start_time": "2024-06-02T11:28:10.342Z"
   },
   {
    "duration": 1015,
    "start_time": "2024-06-02T11:28:17.392Z"
   },
   {
    "duration": 1200,
    "start_time": "2024-06-02T12:28:04.927Z"
   },
   {
    "duration": 505,
    "start_time": "2024-06-02T12:28:06.131Z"
   },
   {
    "duration": 73,
    "start_time": "2024-06-02T12:28:06.639Z"
   },
   {
    "duration": 13,
    "start_time": "2024-06-02T12:28:06.732Z"
   },
   {
    "duration": 55,
    "start_time": "2024-06-02T12:28:06.749Z"
   },
   {
    "duration": 38,
    "start_time": "2024-06-02T12:28:06.807Z"
   },
   {
    "duration": 84,
    "start_time": "2024-06-02T12:28:06.848Z"
   },
   {
    "duration": 12,
    "start_time": "2024-06-02T12:28:06.935Z"
   },
   {
    "duration": 3,
    "start_time": "2024-06-02T12:28:06.950Z"
   },
   {
    "duration": 4,
    "start_time": "2024-06-02T12:28:06.956Z"
   },
   {
    "duration": 6,
    "start_time": "2024-06-02T12:28:06.964Z"
   },
   {
    "duration": 4,
    "start_time": "2024-06-02T12:28:06.973Z"
   },
   {
    "duration": 88,
    "start_time": "2024-06-02T12:28:06.980Z"
   },
   {
    "duration": 173,
    "start_time": "2024-06-02T12:28:07.074Z"
   },
   {
    "duration": 186,
    "start_time": "2024-06-02T12:28:07.249Z"
   },
   {
    "duration": 6,
    "start_time": "2024-06-02T12:28:07.444Z"
   },
   {
    "duration": 81,
    "start_time": "2024-06-02T12:28:07.454Z"
   },
   {
    "duration": 27,
    "start_time": "2024-06-02T12:28:07.538Z"
   },
   {
    "duration": 3,
    "start_time": "2024-06-02T12:28:07.568Z"
   },
   {
    "duration": 1039,
    "start_time": "2024-06-02T12:28:07.575Z"
   },
   {
    "duration": 1016,
    "start_time": "2024-06-02T12:28:08.617Z"
   },
   {
    "duration": 1004,
    "start_time": "2024-06-02T12:28:09.635Z"
   },
   {
    "duration": 7,
    "start_time": "2024-06-02T12:28:10.643Z"
   },
   {
    "duration": 4190,
    "start_time": "2024-06-02T12:28:10.653Z"
   },
   {
    "duration": 4,
    "start_time": "2024-06-02T12:28:14.846Z"
   },
   {
    "duration": 981,
    "start_time": "2024-06-02T12:30:14.800Z"
   },
   {
    "duration": 1031,
    "start_time": "2024-06-02T12:31:02.670Z"
   },
   {
    "duration": 22,
    "start_time": "2024-06-02T12:31:27.056Z"
   },
   {
    "duration": 23,
    "start_time": "2024-06-02T12:33:00.196Z"
   },
   {
    "duration": 20,
    "start_time": "2024-06-02T12:33:12.903Z"
   },
   {
    "duration": 20,
    "start_time": "2024-06-02T12:35:08.528Z"
   },
   {
    "duration": 20,
    "start_time": "2024-06-02T12:42:04.523Z"
   },
   {
    "duration": 24,
    "start_time": "2024-06-02T12:42:11.223Z"
   },
   {
    "duration": 25,
    "start_time": "2024-06-02T12:42:19.571Z"
   },
   {
    "duration": 12,
    "start_time": "2024-06-02T12:42:27.838Z"
   },
   {
    "duration": 26,
    "start_time": "2024-06-02T12:42:29.843Z"
   },
   {
    "duration": 200,
    "start_time": "2024-06-02T12:44:02.058Z"
   },
   {
    "duration": 1008,
    "start_time": "2024-06-02T12:45:05.194Z"
   },
   {
    "duration": 1018,
    "start_time": "2024-06-02T12:46:56.404Z"
   },
   {
    "duration": 5,
    "start_time": "2024-06-02T13:08:17.267Z"
   },
   {
    "duration": 574,
    "start_time": "2024-06-02T13:09:14.397Z"
   },
   {
    "duration": 5,
    "start_time": "2024-06-02T13:09:16.504Z"
   },
   {
    "duration": 73,
    "start_time": "2024-06-02T13:09:19.260Z"
   },
   {
    "duration": 5,
    "start_time": "2024-06-02T13:09:34.760Z"
   },
   {
    "duration": 8,
    "start_time": "2024-06-02T13:09:38.993Z"
   },
   {
    "duration": 9,
    "start_time": "2024-06-02T13:09:53.578Z"
   },
   {
    "duration": 49,
    "start_time": "2024-06-02T13:10:00.573Z"
   },
   {
    "duration": 5,
    "start_time": "2024-06-02T13:10:42.367Z"
   },
   {
    "duration": 21,
    "start_time": "2024-06-02T13:10:45.923Z"
   },
   {
    "duration": 22,
    "start_time": "2024-06-02T13:11:23.360Z"
   },
   {
    "duration": 6,
    "start_time": "2024-06-02T13:12:29.251Z"
   },
   {
    "duration": 18,
    "start_time": "2024-06-02T13:12:31.033Z"
   },
   {
    "duration": 18,
    "start_time": "2024-06-02T13:13:14.776Z"
   },
   {
    "duration": 20,
    "start_time": "2024-06-02T13:13:19.179Z"
   },
   {
    "duration": 1008,
    "start_time": "2024-06-02T13:13:32.853Z"
   },
   {
    "duration": 1010,
    "start_time": "2024-06-02T13:13:39.794Z"
   },
   {
    "duration": 8,
    "start_time": "2024-06-02T13:14:55.846Z"
   },
   {
    "duration": 514,
    "start_time": "2024-06-02T13:15:09.085Z"
   },
   {
    "duration": 110,
    "start_time": "2024-06-02T13:15:45.076Z"
   },
   {
    "duration": 1058,
    "start_time": "2024-06-02T13:31:01.283Z"
   },
   {
    "duration": 1058,
    "start_time": "2024-06-02T13:35:35.810Z"
   },
   {
    "duration": 1081,
    "start_time": "2024-06-02T13:35:49.383Z"
   },
   {
    "duration": 1049,
    "start_time": "2024-06-02T13:36:42.073Z"
   },
   {
    "duration": 1099,
    "start_time": "2024-06-02T13:36:50.225Z"
   },
   {
    "duration": 1025,
    "start_time": "2024-06-02T13:48:36.827Z"
   },
   {
    "duration": 1060,
    "start_time": "2024-06-02T13:51:16.227Z"
   },
   {
    "duration": 1122,
    "start_time": "2024-06-02T13:52:26.842Z"
   },
   {
    "duration": 1037,
    "start_time": "2024-06-02T13:52:55.828Z"
   },
   {
    "duration": 1006,
    "start_time": "2024-06-02T13:58:33.621Z"
   },
   {
    "duration": 1022,
    "start_time": "2024-06-02T13:58:41.868Z"
   },
   {
    "duration": 995,
    "start_time": "2024-06-02T13:58:47.709Z"
   },
   {
    "duration": 1020,
    "start_time": "2024-06-02T13:59:16.344Z"
   },
   {
    "duration": 1006,
    "start_time": "2024-06-02T13:59:35.981Z"
   },
   {
    "duration": 1261,
    "start_time": "2024-06-02T15:12:01.528Z"
   },
   {
    "duration": 408,
    "start_time": "2024-06-02T15:12:02.793Z"
   },
   {
    "duration": 75,
    "start_time": "2024-06-02T15:12:03.204Z"
   },
   {
    "duration": 12,
    "start_time": "2024-06-02T15:12:03.284Z"
   },
   {
    "duration": 74,
    "start_time": "2024-06-02T15:12:03.300Z"
   },
   {
    "duration": 13,
    "start_time": "2024-06-02T15:12:03.377Z"
   },
   {
    "duration": 87,
    "start_time": "2024-06-02T15:12:03.393Z"
   },
   {
    "duration": 13,
    "start_time": "2024-06-02T15:12:03.485Z"
   },
   {
    "duration": 4,
    "start_time": "2024-06-02T15:12:03.502Z"
   },
   {
    "duration": 4,
    "start_time": "2024-06-02T15:12:03.539Z"
   },
   {
    "duration": 6,
    "start_time": "2024-06-02T15:12:03.547Z"
   },
   {
    "duration": 4,
    "start_time": "2024-06-02T15:12:03.557Z"
   },
   {
    "duration": 86,
    "start_time": "2024-06-02T15:12:03.565Z"
   },
   {
    "duration": 180,
    "start_time": "2024-06-02T15:12:03.654Z"
   },
   {
    "duration": 113,
    "start_time": "2024-06-02T15:12:03.842Z"
   },
   {
    "duration": 72,
    "start_time": "2024-06-02T15:12:03.961Z"
   },
   {
    "duration": 8,
    "start_time": "2024-06-02T15:12:04.042Z"
   },
   {
    "duration": 30,
    "start_time": "2024-06-02T15:12:04.132Z"
   },
   {
    "duration": 3,
    "start_time": "2024-06-02T15:12:04.165Z"
   },
   {
    "duration": 1034,
    "start_time": "2024-06-02T15:12:04.172Z"
   },
   {
    "duration": 1029,
    "start_time": "2024-06-02T15:12:05.210Z"
   },
   {
    "duration": 1039,
    "start_time": "2024-06-02T15:12:06.242Z"
   },
   {
    "duration": 1027,
    "start_time": "2024-06-02T15:12:07.284Z"
   },
   {
    "duration": 7,
    "start_time": "2024-06-02T15:12:08.314Z"
   },
   {
    "duration": 475,
    "start_time": "2024-06-02T15:12:08.334Z"
   },
   {
    "duration": 4,
    "start_time": "2024-06-02T15:12:08.812Z"
   },
   {
    "duration": 5,
    "start_time": "2024-06-02T15:12:08.834Z"
   },
   {
    "duration": 9,
    "start_time": "2024-06-02T15:12:08.848Z"
   },
   {
    "duration": 8,
    "start_time": "2024-06-02T15:12:08.860Z"
   },
   {
    "duration": 63,
    "start_time": "2024-06-02T15:12:08.871Z"
   },
   {
    "duration": 69,
    "start_time": "2024-06-02T15:12:08.937Z"
   },
   {
    "duration": 23,
    "start_time": "2024-06-02T15:12:09.010Z"
   },
   {
    "duration": 1023,
    "start_time": "2024-06-02T15:12:14.916Z"
   },
   {
    "duration": 992,
    "start_time": "2024-06-02T15:12:33.591Z"
   },
   {
    "duration": 1008,
    "start_time": "2024-06-02T15:12:36.861Z"
   },
   {
    "duration": 1031,
    "start_time": "2024-06-02T15:16:43.614Z"
   },
   {
    "duration": 2999,
    "start_time": "2024-06-02T15:18:15.497Z"
   },
   {
    "duration": 3025,
    "start_time": "2024-06-02T15:19:52.240Z"
   },
   {
    "duration": 3160,
    "start_time": "2024-06-02T15:20:21.943Z"
   },
   {
    "duration": 430,
    "start_time": "2024-06-02T15:21:23.579Z"
   },
   {
    "duration": 3023,
    "start_time": "2024-06-02T15:21:35.003Z"
   },
   {
    "duration": 3002,
    "start_time": "2024-06-02T15:21:46.615Z"
   },
   {
    "duration": 3042,
    "start_time": "2024-06-02T15:22:05.878Z"
   },
   {
    "duration": 3317,
    "start_time": "2024-06-02T15:22:29.695Z"
   },
   {
    "duration": 2980,
    "start_time": "2024-06-02T15:22:38.312Z"
   },
   {
    "duration": 1212,
    "start_time": "2024-06-03T16:53:45.058Z"
   },
   {
    "duration": 608,
    "start_time": "2024-06-03T16:53:46.274Z"
   },
   {
    "duration": 83,
    "start_time": "2024-06-03T16:53:46.886Z"
   },
   {
    "duration": 13,
    "start_time": "2024-06-03T16:53:46.972Z"
   },
   {
    "duration": 85,
    "start_time": "2024-06-03T16:53:46.990Z"
   },
   {
    "duration": 14,
    "start_time": "2024-06-03T16:53:47.079Z"
   },
   {
    "duration": 106,
    "start_time": "2024-06-03T16:53:47.097Z"
   },
   {
    "duration": 15,
    "start_time": "2024-06-03T16:53:47.206Z"
   },
   {
    "duration": 4,
    "start_time": "2024-06-03T16:53:47.234Z"
   },
   {
    "duration": 5,
    "start_time": "2024-06-03T16:53:47.242Z"
   },
   {
    "duration": 7,
    "start_time": "2024-06-03T16:53:47.251Z"
   },
   {
    "duration": 6,
    "start_time": "2024-06-03T16:53:47.262Z"
   },
   {
    "duration": 83,
    "start_time": "2024-06-03T16:53:47.271Z"
   },
   {
    "duration": 169,
    "start_time": "2024-06-03T16:53:47.368Z"
   },
   {
    "duration": 107,
    "start_time": "2024-06-03T16:53:47.542Z"
   },
   {
    "duration": 84,
    "start_time": "2024-06-03T16:53:47.652Z"
   },
   {
    "duration": 13,
    "start_time": "2024-06-03T16:53:47.743Z"
   },
   {
    "duration": 91,
    "start_time": "2024-06-03T16:53:47.759Z"
   },
   {
    "duration": 3,
    "start_time": "2024-06-03T16:53:47.853Z"
   },
   {
    "duration": 3429,
    "start_time": "2024-06-03T16:53:47.860Z"
   },
   {
    "duration": 1192,
    "start_time": "2024-06-03T16:53:51.293Z"
   },
   {
    "duration": 1181,
    "start_time": "2024-06-03T16:53:52.488Z"
   },
   {
    "duration": 1133,
    "start_time": "2024-06-03T16:53:53.674Z"
   },
   {
    "duration": 1263,
    "start_time": "2024-06-03T16:53:54.810Z"
   },
   {
    "duration": 7,
    "start_time": "2024-06-03T16:53:56.076Z"
   },
   {
    "duration": 4397,
    "start_time": "2024-06-03T16:53:56.086Z"
   },
   {
    "duration": 4,
    "start_time": "2024-06-03T16:54:00.486Z"
   },
   {
    "duration": 6,
    "start_time": "2024-06-03T16:54:00.493Z"
   },
   {
    "duration": 33,
    "start_time": "2024-06-03T16:54:00.502Z"
   },
   {
    "duration": 8,
    "start_time": "2024-06-03T16:54:00.538Z"
   },
   {
    "duration": 24,
    "start_time": "2024-06-03T16:54:00.549Z"
   },
   {
    "duration": 9,
    "start_time": "2024-06-03T16:54:00.576Z"
   },
   {
    "duration": 44,
    "start_time": "2024-06-03T16:54:00.589Z"
   },
   {
    "duration": 3120,
    "start_time": "2024-06-03T16:56:13.935Z"
   },
   {
    "duration": 3082,
    "start_time": "2024-06-03T16:56:52.535Z"
   },
   {
    "duration": 3124,
    "start_time": "2024-06-03T16:57:07.296Z"
   },
   {
    "duration": 3156,
    "start_time": "2024-06-03T17:00:04.450Z"
   },
   {
    "duration": 1056,
    "start_time": "2024-06-03T17:00:07.610Z"
   },
   {
    "duration": 6,
    "start_time": "2024-06-03T17:00:21.246Z"
   },
   {
    "duration": 6,
    "start_time": "2024-06-03T17:00:24.599Z"
   },
   {
    "duration": 11,
    "start_time": "2024-06-03T17:00:32.058Z"
   },
   {
    "duration": 240,
    "start_time": "2024-06-03T17:00:39.269Z"
   },
   {
    "duration": 183,
    "start_time": "2024-06-03T17:00:57.864Z"
   },
   {
    "duration": 462,
    "start_time": "2024-06-03T17:11:39.487Z"
   },
   {
    "duration": 5,
    "start_time": "2024-06-03T17:11:47.189Z"
   },
   {
    "duration": 444,
    "start_time": "2024-06-03T17:11:47.199Z"
   },
   {
    "duration": 62,
    "start_time": "2024-06-03T17:11:47.646Z"
   },
   {
    "duration": 18,
    "start_time": "2024-06-03T17:11:47.732Z"
   },
   {
    "duration": 57,
    "start_time": "2024-06-03T17:11:47.753Z"
   },
   {
    "duration": 14,
    "start_time": "2024-06-03T17:11:47.834Z"
   },
   {
    "duration": 83,
    "start_time": "2024-06-03T17:11:47.851Z"
   },
   {
    "duration": 15,
    "start_time": "2024-06-03T17:11:47.939Z"
   },
   {
    "duration": 5,
    "start_time": "2024-06-03T17:11:47.961Z"
   },
   {
    "duration": 26,
    "start_time": "2024-06-03T17:11:47.969Z"
   },
   {
    "duration": 0,
    "start_time": "2024-06-03T17:11:47.998Z"
   },
   {
    "duration": 0,
    "start_time": "2024-06-03T17:11:48.033Z"
   },
   {
    "duration": 0,
    "start_time": "2024-06-03T17:11:48.036Z"
   },
   {
    "duration": 0,
    "start_time": "2024-06-03T17:11:48.038Z"
   },
   {
    "duration": 0,
    "start_time": "2024-06-03T17:11:48.040Z"
   },
   {
    "duration": 0,
    "start_time": "2024-06-03T17:11:48.042Z"
   },
   {
    "duration": 0,
    "start_time": "2024-06-03T17:11:48.046Z"
   },
   {
    "duration": 0,
    "start_time": "2024-06-03T17:11:48.048Z"
   },
   {
    "duration": 0,
    "start_time": "2024-06-03T17:11:48.050Z"
   },
   {
    "duration": 0,
    "start_time": "2024-06-03T17:11:48.053Z"
   },
   {
    "duration": 0,
    "start_time": "2024-06-03T17:11:48.055Z"
   },
   {
    "duration": 0,
    "start_time": "2024-06-03T17:11:48.057Z"
   },
   {
    "duration": 0,
    "start_time": "2024-06-03T17:11:48.058Z"
   },
   {
    "duration": 0,
    "start_time": "2024-06-03T17:11:48.060Z"
   },
   {
    "duration": 0,
    "start_time": "2024-06-03T17:11:48.062Z"
   },
   {
    "duration": 0,
    "start_time": "2024-06-03T17:11:48.064Z"
   },
   {
    "duration": 0,
    "start_time": "2024-06-03T17:11:48.066Z"
   },
   {
    "duration": 0,
    "start_time": "2024-06-03T17:11:48.067Z"
   },
   {
    "duration": 7,
    "start_time": "2024-06-03T17:13:10.589Z"
   },
   {
    "duration": 10,
    "start_time": "2024-06-03T17:15:01.721Z"
   },
   {
    "duration": 5,
    "start_time": "2024-06-03T17:15:07.396Z"
   },
   {
    "duration": 405,
    "start_time": "2024-06-03T17:15:07.406Z"
   },
   {
    "duration": 70,
    "start_time": "2024-06-03T17:15:07.814Z"
   },
   {
    "duration": 14,
    "start_time": "2024-06-03T17:15:07.889Z"
   },
   {
    "duration": 87,
    "start_time": "2024-06-03T17:15:07.907Z"
   },
   {
    "duration": 38,
    "start_time": "2024-06-03T17:15:07.997Z"
   },
   {
    "duration": 63,
    "start_time": "2024-06-03T17:15:08.039Z"
   },
   {
    "duration": 31,
    "start_time": "2024-06-03T17:15:08.107Z"
   },
   {
    "duration": 6,
    "start_time": "2024-06-03T17:15:08.141Z"
   },
   {
    "duration": 6,
    "start_time": "2024-06-03T17:15:08.154Z"
   },
   {
    "duration": 5,
    "start_time": "2024-06-03T17:15:08.164Z"
   },
   {
    "duration": 103,
    "start_time": "2024-06-03T17:15:08.173Z"
   },
   {
    "duration": 123,
    "start_time": "2024-06-03T17:15:08.332Z"
   },
   {
    "duration": 186,
    "start_time": "2024-06-03T17:15:08.460Z"
   },
   {
    "duration": 7,
    "start_time": "2024-06-03T17:15:08.654Z"
   },
   {
    "duration": 15,
    "start_time": "2024-06-03T17:15:08.733Z"
   },
   {
    "duration": 94,
    "start_time": "2024-06-03T17:15:08.754Z"
   },
   {
    "duration": 3,
    "start_time": "2024-06-03T17:15:08.852Z"
   },
   {
    "duration": 3207,
    "start_time": "2024-06-03T17:15:08.860Z"
   },
   {
    "duration": 222,
    "start_time": "2024-06-03T17:15:12.070Z"
   },
   {
    "duration": 3,
    "start_time": "2024-06-03T17:15:12.296Z"
   },
   {
    "duration": 31,
    "start_time": "2024-06-03T17:15:12.303Z"
   },
   {
    "duration": 10,
    "start_time": "2024-06-03T17:15:12.337Z"
   },
   {
    "duration": 8,
    "start_time": "2024-06-03T17:15:12.351Z"
   },
   {
    "duration": 22,
    "start_time": "2024-06-03T17:15:12.363Z"
   },
   {
    "duration": 46,
    "start_time": "2024-06-03T17:15:12.389Z"
   },
   {
    "duration": 4,
    "start_time": "2024-06-03T17:15:12.439Z"
   },
   {
    "duration": 6,
    "start_time": "2024-06-03T17:16:58.650Z"
   },
   {
    "duration": 9,
    "start_time": "2024-06-03T17:17:00.918Z"
   },
   {
    "duration": 521,
    "start_time": "2024-06-03T17:17:00.931Z"
   },
   {
    "duration": 81,
    "start_time": "2024-06-03T17:17:01.456Z"
   },
   {
    "duration": 19,
    "start_time": "2024-06-03T17:17:01.540Z"
   },
   {
    "duration": 95,
    "start_time": "2024-06-03T17:17:01.567Z"
   },
   {
    "duration": 29,
    "start_time": "2024-06-03T17:17:01.671Z"
   },
   {
    "duration": 167,
    "start_time": "2024-06-03T17:17:01.707Z"
   },
   {
    "duration": 21,
    "start_time": "2024-06-03T17:17:01.881Z"
   },
   {
    "duration": 7,
    "start_time": "2024-06-03T17:17:01.909Z"
   },
   {
    "duration": 15,
    "start_time": "2024-06-03T17:17:01.919Z"
   },
   {
    "duration": 5,
    "start_time": "2024-06-03T17:17:01.943Z"
   },
   {
    "duration": 188,
    "start_time": "2024-06-03T17:17:01.954Z"
   },
   {
    "duration": 188,
    "start_time": "2024-06-03T17:17:02.151Z"
   },
   {
    "duration": 197,
    "start_time": "2024-06-03T17:17:02.342Z"
   },
   {
    "duration": 9,
    "start_time": "2024-06-03T17:17:02.543Z"
   },
   {
    "duration": 7,
    "start_time": "2024-06-03T17:17:02.562Z"
   },
   {
    "duration": 89,
    "start_time": "2024-06-03T17:17:02.572Z"
   },
   {
    "duration": 3,
    "start_time": "2024-06-03T17:17:02.665Z"
   },
   {
    "duration": 4113,
    "start_time": "2024-06-03T17:17:02.672Z"
   },
   {
    "duration": 234,
    "start_time": "2024-06-03T17:17:06.790Z"
   },
   {
    "duration": 3,
    "start_time": "2024-06-03T17:17:07.027Z"
   },
   {
    "duration": 6,
    "start_time": "2024-06-03T17:17:07.034Z"
   },
   {
    "duration": 32,
    "start_time": "2024-06-03T17:17:07.044Z"
   },
   {
    "duration": 13,
    "start_time": "2024-06-03T17:17:07.079Z"
   },
   {
    "duration": 48,
    "start_time": "2024-06-03T17:17:07.096Z"
   },
   {
    "duration": 24,
    "start_time": "2024-06-03T17:17:07.148Z"
   },
   {
    "duration": 9,
    "start_time": "2024-06-03T17:17:07.175Z"
   },
   {
    "duration": 191,
    "start_time": "2024-06-03T17:17:30.903Z"
   },
   {
    "duration": 152,
    "start_time": "2024-06-03T17:18:01.620Z"
   },
   {
    "duration": 177,
    "start_time": "2024-06-03T17:18:38.365Z"
   },
   {
    "duration": 203,
    "start_time": "2024-06-03T17:18:48.438Z"
   },
   {
    "duration": 5,
    "start_time": "2024-06-03T17:19:29.195Z"
   },
   {
    "duration": 116,
    "start_time": "2024-06-03T17:19:31.259Z"
   },
   {
    "duration": 6,
    "start_time": "2024-06-03T17:20:03.346Z"
   },
   {
    "duration": 183,
    "start_time": "2024-06-03T17:20:05.566Z"
   },
   {
    "duration": 6,
    "start_time": "2024-06-03T17:20:35.928Z"
   },
   {
    "duration": 410,
    "start_time": "2024-06-03T17:20:35.940Z"
   },
   {
    "duration": 82,
    "start_time": "2024-06-03T17:20:36.354Z"
   },
   {
    "duration": 19,
    "start_time": "2024-06-03T17:20:36.441Z"
   },
   {
    "duration": 97,
    "start_time": "2024-06-03T17:20:36.463Z"
   },
   {
    "duration": 20,
    "start_time": "2024-06-03T17:20:36.564Z"
   },
   {
    "duration": 79,
    "start_time": "2024-06-03T17:20:36.592Z"
   },
   {
    "duration": 15,
    "start_time": "2024-06-03T17:20:36.676Z"
   },
   {
    "duration": 6,
    "start_time": "2024-06-03T17:20:36.695Z"
   },
   {
    "duration": 6,
    "start_time": "2024-06-03T17:20:36.736Z"
   },
   {
    "duration": 5,
    "start_time": "2024-06-03T17:20:36.746Z"
   },
   {
    "duration": 203,
    "start_time": "2024-06-03T17:20:36.754Z"
   },
   {
    "duration": 131,
    "start_time": "2024-06-03T17:20:37.032Z"
   },
   {
    "duration": 219,
    "start_time": "2024-06-03T17:20:37.166Z"
   },
   {
    "duration": 40,
    "start_time": "2024-06-03T17:20:37.396Z"
   },
   {
    "duration": 7,
    "start_time": "2024-06-03T17:20:37.439Z"
   },
   {
    "duration": 102,
    "start_time": "2024-06-03T17:20:37.449Z"
   },
   {
    "duration": 4,
    "start_time": "2024-06-03T17:20:37.554Z"
   },
   {
    "duration": 3201,
    "start_time": "2024-06-03T17:20:37.562Z"
   },
   {
    "duration": 214,
    "start_time": "2024-06-03T17:20:40.766Z"
   },
   {
    "duration": 4,
    "start_time": "2024-06-03T17:20:40.984Z"
   },
   {
    "duration": 9,
    "start_time": "2024-06-03T17:20:40.992Z"
   },
   {
    "duration": 34,
    "start_time": "2024-06-03T17:20:41.005Z"
   },
   {
    "duration": 13,
    "start_time": "2024-06-03T17:20:41.042Z"
   },
   {
    "duration": 26,
    "start_time": "2024-06-03T17:20:41.060Z"
   },
   {
    "duration": 9,
    "start_time": "2024-06-03T17:20:41.089Z"
   },
   {
    "duration": 4,
    "start_time": "2024-06-03T17:20:41.133Z"
   },
   {
    "duration": 114,
    "start_time": "2024-06-03T17:21:08.297Z"
   },
   {
    "duration": 107,
    "start_time": "2024-06-03T17:21:13.875Z"
   },
   {
    "duration": 105,
    "start_time": "2024-06-03T17:21:17.977Z"
   },
   {
    "duration": 110,
    "start_time": "2024-06-03T17:21:21.514Z"
   },
   {
    "duration": 117,
    "start_time": "2024-06-03T17:21:25.299Z"
   },
   {
    "duration": 122,
    "start_time": "2024-06-03T17:21:28.322Z"
   },
   {
    "duration": 98,
    "start_time": "2024-06-03T17:21:30.959Z"
   },
   {
    "duration": 8,
    "start_time": "2024-06-03T17:21:34.929Z"
   },
   {
    "duration": 84,
    "start_time": "2024-06-03T17:21:36.904Z"
   },
   {
    "duration": 6,
    "start_time": "2024-06-03T17:22:16.706Z"
   },
   {
    "duration": 29,
    "start_time": "2024-06-03T17:22:21.187Z"
   },
   {
    "duration": 5,
    "start_time": "2024-06-03T17:22:27.921Z"
   },
   {
    "duration": 83,
    "start_time": "2024-06-03T17:22:31.290Z"
   },
   {
    "duration": 72,
    "start_time": "2024-06-03T17:25:03.238Z"
   },
   {
    "duration": 5,
    "start_time": "2024-06-03T17:29:08.549Z"
   },
   {
    "duration": 74,
    "start_time": "2024-06-03T17:29:11.815Z"
   },
   {
    "duration": 6,
    "start_time": "2024-06-03T17:31:52.759Z"
   },
   {
    "duration": 6,
    "start_time": "2024-06-03T17:31:56.270Z"
   },
   {
    "duration": 72,
    "start_time": "2024-06-03T17:31:59.521Z"
   },
   {
    "duration": 7,
    "start_time": "2024-06-03T17:32:29.760Z"
   },
   {
    "duration": 6,
    "start_time": "2024-06-03T17:32:37.354Z"
   },
   {
    "duration": 57,
    "start_time": "2024-06-03T17:32:41.055Z"
   },
   {
    "duration": 6,
    "start_time": "2024-06-03T17:32:57.139Z"
   },
   {
    "duration": 6,
    "start_time": "2024-06-03T17:33:01.873Z"
   },
   {
    "duration": 6,
    "start_time": "2024-06-03T17:33:10.015Z"
   },
   {
    "duration": 57,
    "start_time": "2024-06-03T17:33:13.675Z"
   },
   {
    "duration": 6,
    "start_time": "2024-06-03T17:34:00.283Z"
   },
   {
    "duration": 6,
    "start_time": "2024-06-03T17:34:14.004Z"
   },
   {
    "duration": 90,
    "start_time": "2024-06-03T17:34:19.827Z"
   },
   {
    "duration": 5,
    "start_time": "2024-06-03T17:34:35.753Z"
   },
   {
    "duration": 74,
    "start_time": "2024-06-03T17:34:38.912Z"
   },
   {
    "duration": 5,
    "start_time": "2024-06-03T17:35:00.458Z"
   },
   {
    "duration": 8,
    "start_time": "2024-06-03T17:35:03.026Z"
   },
   {
    "duration": 104,
    "start_time": "2024-06-03T17:35:06.462Z"
   },
   {
    "duration": 110,
    "start_time": "2024-06-03T17:35:10.546Z"
   },
   {
    "duration": 192,
    "start_time": "2024-06-03T17:35:14.774Z"
   },
   {
    "duration": 108,
    "start_time": "2024-06-03T17:35:16.461Z"
   },
   {
    "duration": 158,
    "start_time": "2024-06-03T17:35:43.201Z"
   },
   {
    "duration": 107,
    "start_time": "2024-06-03T17:35:45.458Z"
   },
   {
    "duration": 6,
    "start_time": "2024-06-03T17:35:50.669Z"
   },
   {
    "duration": 127,
    "start_time": "2024-06-03T17:36:05.230Z"
   },
   {
    "duration": 190,
    "start_time": "2024-06-03T17:36:16.069Z"
   },
   {
    "duration": 156,
    "start_time": "2024-06-03T17:36:21.212Z"
   },
   {
    "duration": 10,
    "start_time": "2024-06-03T17:36:57.652Z"
   },
   {
    "duration": 162,
    "start_time": "2024-06-03T17:37:03.891Z"
   },
   {
    "duration": 7,
    "start_time": "2024-06-03T17:37:45.580Z"
   },
   {
    "duration": 86,
    "start_time": "2024-06-03T17:38:05.787Z"
   },
   {
    "duration": 8,
    "start_time": "2024-06-03T17:38:48.437Z"
   },
   {
    "duration": 155,
    "start_time": "2024-06-03T17:39:04.699Z"
   },
   {
    "duration": 151,
    "start_time": "2024-06-03T17:39:24.011Z"
   },
   {
    "duration": 118,
    "start_time": "2024-06-03T17:39:28.145Z"
   },
   {
    "duration": 102,
    "start_time": "2024-06-03T17:39:30.180Z"
   },
   {
    "duration": 110,
    "start_time": "2024-06-03T17:39:31.562Z"
   },
   {
    "duration": 176,
    "start_time": "2024-06-03T17:39:34.986Z"
   },
   {
    "duration": 9,
    "start_time": "2024-06-03T17:39:35.168Z"
   },
   {
    "duration": 16,
    "start_time": "2024-06-03T17:39:35.183Z"
   },
   {
    "duration": 73,
    "start_time": "2024-06-03T17:39:35.205Z"
   },
   {
    "duration": 4,
    "start_time": "2024-06-03T17:39:35.283Z"
   },
   {
    "duration": 3074,
    "start_time": "2024-06-03T17:39:35.292Z"
   },
   {
    "duration": 218,
    "start_time": "2024-06-03T17:39:38.369Z"
   },
   {
    "duration": 4,
    "start_time": "2024-06-03T17:39:38.590Z"
   },
   {
    "duration": 5,
    "start_time": "2024-06-03T17:39:38.597Z"
   },
   {
    "duration": 11,
    "start_time": "2024-06-03T17:39:38.633Z"
   },
   {
    "duration": 8,
    "start_time": "2024-06-03T17:39:38.646Z"
   },
   {
    "duration": 25,
    "start_time": "2024-06-03T17:39:38.658Z"
   },
   {
    "duration": 7,
    "start_time": "2024-06-03T17:39:38.687Z"
   },
   {
    "duration": 2,
    "start_time": "2024-06-03T17:39:38.732Z"
   },
   {
    "duration": 3058,
    "start_time": "2024-06-03T17:42:19.829Z"
   },
   {
    "duration": 3264,
    "start_time": "2024-06-03T17:42:36.052Z"
   },
   {
    "duration": 3113,
    "start_time": "2024-06-03T17:42:52.420Z"
   },
   {
    "duration": 3037,
    "start_time": "2024-06-03T17:43:06.006Z"
   },
   {
    "duration": 3071,
    "start_time": "2024-06-03T17:43:14.245Z"
   },
   {
    "duration": 3070,
    "start_time": "2024-06-03T17:43:23.126Z"
   },
   {
    "duration": 3089,
    "start_time": "2024-06-03T17:43:30.570Z"
   },
   {
    "duration": 3171,
    "start_time": "2024-06-03T17:43:42.916Z"
   },
   {
    "duration": 3405,
    "start_time": "2024-06-03T17:43:50.879Z"
   },
   {
    "duration": 2897,
    "start_time": "2024-06-03T17:43:58.230Z"
   },
   {
    "duration": 3040,
    "start_time": "2024-06-03T17:44:10.662Z"
   },
   {
    "duration": 3126,
    "start_time": "2024-06-03T17:44:19.666Z"
   },
   {
    "duration": 3006,
    "start_time": "2024-06-03T17:49:47.061Z"
   },
   {
    "duration": 3061,
    "start_time": "2024-06-03T17:49:54.979Z"
   },
   {
    "duration": 3299,
    "start_time": "2024-06-03T17:50:11.900Z"
   },
   {
    "duration": 3431,
    "start_time": "2024-06-03T17:50:20.858Z"
   },
   {
    "duration": 3039,
    "start_time": "2024-06-03T17:52:05.187Z"
   },
   {
    "duration": 2997,
    "start_time": "2024-06-03T17:52:17.179Z"
   },
   {
    "duration": 3050,
    "start_time": "2024-06-03T17:52:28.767Z"
   },
   {
    "duration": 3129,
    "start_time": "2024-06-03T17:52:36.007Z"
   },
   {
    "duration": 3025,
    "start_time": "2024-06-03T17:52:47.919Z"
   },
   {
    "duration": 17,
    "start_time": "2024-06-03T18:07:51.087Z"
   },
   {
    "duration": 3007,
    "start_time": "2024-06-03T18:08:28.544Z"
   },
   {
    "duration": 193,
    "start_time": "2024-06-03T18:08:43.192Z"
   },
   {
    "duration": 6,
    "start_time": "2024-06-03T18:08:57.693Z"
   },
   {
    "duration": 3234,
    "start_time": "2024-06-03T18:09:04.315Z"
   },
   {
    "duration": 3616,
    "start_time": "2024-06-03T18:09:23.335Z"
   },
   {
    "duration": 3759,
    "start_time": "2024-06-03T18:11:00.169Z"
   },
   {
    "duration": 3851,
    "start_time": "2024-06-03T18:11:13.029Z"
   },
   {
    "duration": 3729,
    "start_time": "2024-06-03T18:11:46.440Z"
   },
   {
    "duration": 4180,
    "start_time": "2024-06-03T18:14:29.795Z"
   },
   {
    "duration": 4130,
    "start_time": "2024-06-03T18:15:20.755Z"
   },
   {
    "duration": 4056,
    "start_time": "2024-06-03T18:15:28.220Z"
   },
   {
    "duration": 3056,
    "start_time": "2024-06-03T18:16:10.477Z"
   },
   {
    "duration": 2767,
    "start_time": "2024-06-03T18:22:30.959Z"
   },
   {
    "duration": 2798,
    "start_time": "2024-06-03T18:22:40.618Z"
   },
   {
    "duration": 2785,
    "start_time": "2024-06-03T18:22:47.476Z"
   },
   {
    "duration": 2824,
    "start_time": "2024-06-03T18:22:55.578Z"
   },
   {
    "duration": 2889,
    "start_time": "2024-06-03T18:23:02.090Z"
   },
   {
    "duration": 2967,
    "start_time": "2024-06-03T18:23:08.801Z"
   },
   {
    "duration": 3164,
    "start_time": "2024-06-03T18:23:19.497Z"
   },
   {
    "duration": 3007,
    "start_time": "2024-06-03T18:23:25.827Z"
   },
   {
    "duration": 4140,
    "start_time": "2024-06-03T18:23:37.761Z"
   },
   {
    "duration": 1038,
    "start_time": "2024-06-03T18:24:10.274Z"
   },
   {
    "duration": 4016,
    "start_time": "2024-06-03T18:24:17.198Z"
   },
   {
    "duration": 3937,
    "start_time": "2024-06-03T18:24:21.852Z"
   },
   {
    "duration": 3960,
    "start_time": "2024-06-03T18:24:32.823Z"
   },
   {
    "duration": 4060,
    "start_time": "2024-06-03T18:24:41.497Z"
   },
   {
    "duration": 3959,
    "start_time": "2024-06-03T18:24:46.326Z"
   },
   {
    "duration": 4024,
    "start_time": "2024-06-03T18:25:03.748Z"
   },
   {
    "duration": 4051,
    "start_time": "2024-06-03T18:25:27.392Z"
   },
   {
    "duration": 3034,
    "start_time": "2024-06-03T18:27:58.483Z"
   },
   {
    "duration": 4120,
    "start_time": "2024-06-03T18:35:39.559Z"
   },
   {
    "duration": 25,
    "start_time": "2024-06-03T18:35:52.904Z"
   },
   {
    "duration": 24,
    "start_time": "2024-06-03T18:35:59.673Z"
   },
   {
    "duration": 6,
    "start_time": "2024-06-03T18:36:01.579Z"
   },
   {
    "duration": 6,
    "start_time": "2024-06-03T18:36:13.826Z"
   },
   {
    "duration": 418,
    "start_time": "2024-06-03T18:36:13.837Z"
   },
   {
    "duration": 60,
    "start_time": "2024-06-03T18:36:14.258Z"
   },
   {
    "duration": 12,
    "start_time": "2024-06-03T18:36:14.334Z"
   },
   {
    "duration": 54,
    "start_time": "2024-06-03T18:36:14.351Z"
   },
   {
    "duration": 12,
    "start_time": "2024-06-03T18:36:14.434Z"
   },
   {
    "duration": 54,
    "start_time": "2024-06-03T18:36:14.450Z"
   },
   {
    "duration": 12,
    "start_time": "2024-06-03T18:36:14.533Z"
   },
   {
    "duration": 7,
    "start_time": "2024-06-03T18:36:14.548Z"
   },
   {
    "duration": 5,
    "start_time": "2024-06-03T18:36:14.558Z"
   },
   {
    "duration": 4,
    "start_time": "2024-06-03T18:36:14.566Z"
   },
   {
    "duration": 159,
    "start_time": "2024-06-03T18:36:14.573Z"
   },
   {
    "duration": 175,
    "start_time": "2024-06-03T18:36:14.734Z"
   },
   {
    "duration": 208,
    "start_time": "2024-06-03T18:36:14.938Z"
   },
   {
    "duration": 13,
    "start_time": "2024-06-03T18:36:15.149Z"
   },
   {
    "duration": 73,
    "start_time": "2024-06-03T18:36:15.164Z"
   },
   {
    "duration": 105,
    "start_time": "2024-06-03T18:36:15.239Z"
   },
   {
    "duration": 4046,
    "start_time": "2024-06-03T18:36:15.349Z"
   },
   {
    "duration": 6,
    "start_time": "2024-06-03T18:37:10.226Z"
   },
   {
    "duration": 111,
    "start_time": "2024-06-03T18:39:13.523Z"
   },
   {
    "duration": 123,
    "start_time": "2024-06-03T18:39:14.969Z"
   },
   {
    "duration": 113,
    "start_time": "2024-06-03T18:39:16.429Z"
   },
   {
    "duration": 5,
    "start_time": "2024-06-03T18:40:54.523Z"
   },
   {
    "duration": 4,
    "start_time": "2024-06-03T18:42:17.853Z"
   },
   {
    "duration": 26,
    "start_time": "2024-06-03T18:42:55.524Z"
   },
   {
    "duration": 24,
    "start_time": "2024-06-03T18:43:02.034Z"
   },
   {
    "duration": 4073,
    "start_time": "2024-06-03T18:43:12.207Z"
   },
   {
    "duration": 1408,
    "start_time": "2024-06-03T18:45:30.480Z"
   },
   {
    "duration": 383,
    "start_time": "2024-06-03T18:45:31.891Z"
   },
   {
    "duration": 74,
    "start_time": "2024-06-03T18:45:32.277Z"
   },
   {
    "duration": 13,
    "start_time": "2024-06-03T18:45:32.355Z"
   },
   {
    "duration": 88,
    "start_time": "2024-06-03T18:45:32.373Z"
   },
   {
    "duration": 13,
    "start_time": "2024-06-03T18:45:32.465Z"
   },
   {
    "duration": 84,
    "start_time": "2024-06-03T18:45:32.481Z"
   },
   {
    "duration": 13,
    "start_time": "2024-06-03T18:45:32.568Z"
   },
   {
    "duration": 7,
    "start_time": "2024-06-03T18:45:32.584Z"
   },
   {
    "duration": 7,
    "start_time": "2024-06-03T18:45:32.593Z"
   },
   {
    "duration": 5,
    "start_time": "2024-06-03T18:45:32.634Z"
   },
   {
    "duration": 141,
    "start_time": "2024-06-03T18:45:32.644Z"
   },
   {
    "duration": 255,
    "start_time": "2024-06-03T18:45:32.788Z"
   },
   {
    "duration": 238,
    "start_time": "2024-06-03T18:45:33.051Z"
   },
   {
    "duration": 41,
    "start_time": "2024-06-03T18:45:33.295Z"
   },
   {
    "duration": 18,
    "start_time": "2024-06-03T18:45:33.342Z"
   },
   {
    "duration": 29,
    "start_time": "2024-06-03T18:45:33.433Z"
   },
   {
    "duration": 4403,
    "start_time": "2024-06-03T18:45:33.467Z"
   },
   {
    "duration": 5,
    "start_time": "2024-06-03T18:49:45.986Z"
   },
   {
    "duration": 355,
    "start_time": "2024-06-03T18:49:45.995Z"
   },
   {
    "duration": 60,
    "start_time": "2024-06-03T18:49:46.353Z"
   },
   {
    "duration": 30,
    "start_time": "2024-06-03T18:49:46.416Z"
   },
   {
    "duration": 117,
    "start_time": "2024-06-03T18:49:46.451Z"
   },
   {
    "duration": 20,
    "start_time": "2024-06-03T18:49:46.572Z"
   },
   {
    "duration": 86,
    "start_time": "2024-06-03T18:49:46.597Z"
   },
   {
    "duration": 14,
    "start_time": "2024-06-03T18:49:46.688Z"
   },
   {
    "duration": 31,
    "start_time": "2024-06-03T18:49:46.706Z"
   },
   {
    "duration": 6,
    "start_time": "2024-06-03T18:49:46.740Z"
   },
   {
    "duration": 5,
    "start_time": "2024-06-03T18:49:46.749Z"
   },
   {
    "duration": 185,
    "start_time": "2024-06-03T18:49:46.757Z"
   },
   {
    "duration": 214,
    "start_time": "2024-06-03T18:49:46.954Z"
   },
   {
    "duration": 234,
    "start_time": "2024-06-03T18:49:47.179Z"
   },
   {
    "duration": 4,
    "start_time": "2024-06-03T18:49:47.432Z"
   },
   {
    "duration": 9,
    "start_time": "2024-06-03T18:49:47.439Z"
   },
   {
    "duration": 100,
    "start_time": "2024-06-03T18:49:47.451Z"
   },
   {
    "duration": 4335,
    "start_time": "2024-06-03T18:49:47.554Z"
   },
   {
    "duration": 4141,
    "start_time": "2024-06-03T18:55:43.354Z"
   },
   {
    "duration": 4045,
    "start_time": "2024-06-03T18:56:20.640Z"
   },
   {
    "duration": 13,
    "start_time": "2024-06-10T16:39:32.690Z"
   },
   {
    "duration": 1418,
    "start_time": "2024-06-25T00:07:39.059Z"
   },
   {
    "duration": 533,
    "start_time": "2024-06-25T00:07:40.480Z"
   },
   {
    "duration": 67,
    "start_time": "2024-06-25T00:07:41.015Z"
   },
   {
    "duration": 11,
    "start_time": "2024-06-25T00:07:41.087Z"
   },
   {
    "duration": 53,
    "start_time": "2024-06-25T00:07:41.130Z"
   },
   {
    "duration": 12,
    "start_time": "2024-06-25T00:07:41.186Z"
   },
   {
    "duration": 79,
    "start_time": "2024-06-25T00:07:41.202Z"
   },
   {
    "duration": 13,
    "start_time": "2024-06-25T00:07:41.283Z"
   },
   {
    "duration": 31,
    "start_time": "2024-06-25T00:07:41.299Z"
   },
   {
    "duration": 6,
    "start_time": "2024-06-25T00:07:41.333Z"
   },
   {
    "duration": 5,
    "start_time": "2024-06-25T00:07:41.343Z"
   },
   {
    "duration": 118,
    "start_time": "2024-06-25T00:07:48.517Z"
   },
   {
    "duration": 5,
    "start_time": "2024-06-25T00:07:55.213Z"
   },
   {
    "duration": 111,
    "start_time": "2024-06-25T00:32:57.428Z"
   }
  ],
  "kernelspec": {
   "display_name": "Python 3 (ipykernel)",
   "language": "python",
   "name": "python3"
  },
  "language_info": {
   "codemirror_mode": {
    "name": "ipython",
    "version": 3
   },
   "file_extension": ".py",
   "mimetype": "text/x-python",
   "name": "python",
   "nbconvert_exporter": "python",
   "pygments_lexer": "ipython3",
   "version": "3.9.19"
  },
  "toc": {
   "base_numbering": 1,
   "nav_menu": {},
   "number_sections": true,
   "sideBar": true,
   "skip_h1_title": true,
   "title_cell": "Table of Contents",
   "title_sidebar": "Contents",
   "toc_cell": false,
   "toc_position": {},
   "toc_section_display": true,
   "toc_window_display": false
  }
 },
 "nbformat": 4,
 "nbformat_minor": 2
}
