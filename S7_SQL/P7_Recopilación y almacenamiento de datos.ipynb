{
 "cells": [
  {
   "cell_type": "markdown",
   "metadata": {},
   "source": [
    "## Descripción del proyecto\n",
    "\n",
    "En este proyecto abordaremos un caso de estudio para la empresa Zuber,  una nueva empresa de viajes compartidos que se está lanzando en Chicago, realizaremos un análisis exploratorio donde podremos obtener información acerca del estado del arte para el negocio de taxis, dentro de los datasets que estudiaremos, contamos con información como ; Flujo de viajes de las empresas prestadoras de servicios de taxi, información sobre el estado del tiempo (clima) conforme a los viajes realizados, la duración y destino de los mismos, así como la cantidad de viajes realizados para cada destino.\n",
    "\n",
    "\n",
    "El propósito de este análisis es poder contar con información y conclusiones suficientes acerca de las preferencias de los pasajeros, el impacto de los factores externos en los viajes, así como el flujo que mantienen nuestros competidores actuales. Todo lo anterior enfocado a la creación de estrategias que nos permitan tener un ingreso exitoso al mercado y priorizar la eficiencia de recursos (humanos y económicos) para llevar a cabo nuestra estrategia de mercado."
   ]
  },
  {
   "cell_type": "markdown",
   "metadata": {},
   "source": [
    "## Descripción de los datos\n",
    "Posterior a la consulta de datos mediante queries a la base de datos (PostgreSQL) obtuvimos los siguientes datasets:\n",
    "\n",
    "**/datasets/project_sql_result_01.csv. contiene los siguientes datos:**\n",
    "\n",
    "* company_name: nombre de la empresa de taxis\n",
    "\n",
    "* trips_amount: el número de viajes de cada compañía de taxis el 15 y 16 de noviembre de 2017. \n",
    "\n",
    "\n",
    "**/datasets/project_sql_result_04.csv. contiene los siguientes datos:**\n",
    "* dropoff_location_name: barrios de Chicago donde finalizaron los viajes\n",
    "* average_trips: el promedio de viajes que terminaron en cada barrio en noviembre de 2017.\n",
    "\n",
    "\n",
    "**/datasets/project_sql_result_07.csv — el resultado de la última consulta. Contiene datos sobre viajes desde el Loop hasta el Aeropuerto Internacional O'Hare. Recuerda, estos son los valores de campo de la tabla:**\n",
    "\n",
    "* start_ts: fecha y hora de la recogida\n",
    "* weather_conditions: condiciones climáticas en el momento en el que comenzó el viaje\n",
    "* duration_seconds: duración del viaje en segundos\n"
   ]
  },
  {
   "cell_type": "markdown",
   "metadata": {},
   "source": [
    "## Importando Librerías"
   ]
  },
  {
   "cell_type": "code",
   "execution_count": 1,
   "metadata": {},
   "outputs": [],
   "source": [
    "import pandas as pd\n",
    "import numpy as np\n",
    "import seaborn as sns\n",
    "import matplotlib.pyplot as plt\n",
    "from scipy import stats as st"
   ]
  },
  {
   "cell_type": "markdown",
   "metadata": {},
   "source": [
    "# Importando Datasets"
   ]
  },
  {
   "cell_type": "code",
   "execution_count": 2,
   "metadata": {},
   "outputs": [],
   "source": [
    "df_com = pd.read_csv('/datasets/project_sql_result_01.csv')\n",
    "df_trip = pd.read_csv('/datasets/project_sql_result_04.csv')\n",
    "df_weather = pd.read_csv('/datasets/project_sql_result_07.csv')\n"
   ]
  },
  {
   "cell_type": "markdown",
   "metadata": {},
   "source": [
    "## Explorando Datasets\n"
   ]
  },
  {
   "cell_type": "markdown",
   "metadata": {},
   "source": [
    "### Explorando el dataset company 'df_com'"
   ]
  },
  {
   "cell_type": "code",
   "execution_count": 3,
   "metadata": {
    "scrolled": false
   },
   "outputs": [
    {
     "name": "stdout",
     "output_type": "stream",
     "text": [
      "<class 'pandas.core.frame.DataFrame'>\n",
      "RangeIndex: 64 entries, 0 to 63\n",
      "Data columns (total 2 columns):\n",
      " #   Column        Non-Null Count  Dtype \n",
      "---  ------        --------------  ----- \n",
      " 0   company_name  64 non-null     object\n",
      " 1   trips_amount  64 non-null     int64 \n",
      "dtypes: int64(1), object(1)\n",
      "memory usage: 1.1+ KB\n",
      "None\n",
      "\n",
      "---------\n",
      "\n",
      "       trips_amount\n",
      "count     64.000000\n",
      "mean    2145.484375\n",
      "std     3812.310186\n",
      "min        2.000000\n",
      "25%       20.750000\n",
      "50%      178.500000\n",
      "75%     2106.500000\n",
      "max    19558.000000\n"
     ]
    }
   ],
   "source": [
    "#Explorando dataset company 'df_com'\n",
    "print(df_com.info())\n",
    "print()\n",
    "print('---------')\n",
    "print()\n",
    "print(df_com.describe())"
   ]
  },
  {
   "cell_type": "code",
   "execution_count": 4,
   "metadata": {},
   "outputs": [
    {
     "data": {
      "text/plain": [
       "False"
      ]
     },
     "execution_count": 4,
     "metadata": {},
     "output_type": "execute_result"
    }
   ],
   "source": [
    "#verificando si existen filas duplicadas\n",
    "df_com.duplicated().any()"
   ]
  },
  {
   "cell_type": "markdown",
   "metadata": {},
   "source": [
    "Podemos observar que tenemos dos columnas:\n",
    "* 'company_name' tipo object que contiene el nombre de la compañía de taxis \n",
    "* 'trips_amount' tipo int64 que contiene la cantidad de viajes realizados por cada  compañía\n",
    "* La cantidad media de viajes de todas las compañías es de 2145 , muy bajo en relación a la empresa que presenta más viajes con 19558\n",
    "* Tenemos datos de 54 empresas que ofrecen servicios de taxi\n",
    "* se tiene una desviación estandar alta, esto indica que la distribución de los datos es dispersa (campana más plana que alta)\n",
    "\n",
    "*El dataset no contiene valores duplicados*"
   ]
  },
  {
   "cell_type": "markdown",
   "metadata": {},
   "source": [
    "### Explorando el dataset trips 'df_trip'"
   ]
  },
  {
   "cell_type": "code",
   "execution_count": 5,
   "metadata": {
    "scrolled": false
   },
   "outputs": [
    {
     "name": "stdout",
     "output_type": "stream",
     "text": [
      "<class 'pandas.core.frame.DataFrame'>\n",
      "RangeIndex: 94 entries, 0 to 93\n",
      "Data columns (total 2 columns):\n",
      " #   Column                 Non-Null Count  Dtype  \n",
      "---  ------                 --------------  -----  \n",
      " 0   dropoff_location_name  94 non-null     object \n",
      " 1   average_trips          94 non-null     float64\n",
      "dtypes: float64(1), object(1)\n",
      "memory usage: 1.6+ KB\n",
      "None\n",
      "\n",
      "---------\n",
      "\n",
      "       average_trips\n",
      "count      94.000000\n",
      "mean      599.953728\n",
      "std      1714.591098\n",
      "min         1.800000\n",
      "25%        14.266667\n",
      "50%        52.016667\n",
      "75%       298.858333\n",
      "max     10727.466667\n"
     ]
    }
   ],
   "source": [
    "#Explorando dataset trips 'df_trip'\n",
    "print(df_trip.info())\n",
    "print()\n",
    "print('---------')\n",
    "print()\n",
    "print(df_trip.describe())"
   ]
  },
  {
   "cell_type": "code",
   "execution_count": 6,
   "metadata": {},
   "outputs": [
    {
     "data": {
      "text/plain": [
       "False"
      ]
     },
     "execution_count": 6,
     "metadata": {},
     "output_type": "execute_result"
    }
   ],
   "source": [
    "#verificando si existen filas duplicadas\n",
    "df_trip.duplicated().any()"
   ]
  },
  {
   "cell_type": "markdown",
   "metadata": {},
   "source": [
    "Podemos observar que tenemos dos columnas:\n",
    "* 'dropoff_location_name' tipo object que contiene el nombre del barrio donde los usuarios finalizan su viaje\n",
    "* 'average_trips' tipo float64 que contiene la cantidad promedio de viajes realizados que terminaron en cada barrio (en noviembre de 2017)\n",
    "* Se cuenta con el registro de 94 barrios\n",
    "* la media de viajes por barrio es de 599, casi 18 veces por debajo de el barrio con más viajes (10,727)\n",
    "* contamos con barrios que solo han registrado 1.8 viajes promedio \n",
    "* se tiene una desviación estandar  alta, esto indica que la distribución de los datos es dispersa (campana más plana que alta)\n",
    "\n",
    "*El dataset no contiene valores duplicados*"
   ]
  },
  {
   "cell_type": "markdown",
   "metadata": {},
   "source": [
    "### Explorando el dataset weather 'df_weather'"
   ]
  },
  {
   "cell_type": "code",
   "execution_count": 7,
   "metadata": {},
   "outputs": [
    {
     "name": "stdout",
     "output_type": "stream",
     "text": [
      "<class 'pandas.core.frame.DataFrame'>\n",
      "RangeIndex: 1068 entries, 0 to 1067\n",
      "Data columns (total 3 columns):\n",
      " #   Column              Non-Null Count  Dtype  \n",
      "---  ------              --------------  -----  \n",
      " 0   start_ts            1068 non-null   object \n",
      " 1   weather_conditions  1068 non-null   object \n",
      " 2   duration_seconds    1068 non-null   float64\n",
      "dtypes: float64(1), object(2)\n",
      "memory usage: 25.2+ KB\n",
      "None\n",
      "\n",
      "---------\n",
      "\n",
      "       duration_seconds\n",
      "count       1068.000000\n",
      "mean        2071.731273\n",
      "std          769.461125\n",
      "min            0.000000\n",
      "25%         1438.250000\n",
      "50%         1980.000000\n",
      "75%         2580.000000\n",
      "max         7440.000000\n"
     ]
    }
   ],
   "source": [
    "#Explorando dataset weather 'df_weather'\n",
    "print(df_weather.info())\n",
    "print()\n",
    "print('---------')\n",
    "print()\n",
    "print(df_weather.describe())"
   ]
  },
  {
   "cell_type": "code",
   "execution_count": 8,
   "metadata": {
    "scrolled": false
   },
   "outputs": [
    {
     "data": {
      "text/html": [
       "<div>\n",
       "<style scoped>\n",
       "    .dataframe tbody tr th:only-of-type {\n",
       "        vertical-align: middle;\n",
       "    }\n",
       "\n",
       "    .dataframe tbody tr th {\n",
       "        vertical-align: top;\n",
       "    }\n",
       "\n",
       "    .dataframe thead th {\n",
       "        text-align: right;\n",
       "    }\n",
       "</style>\n",
       "<table border=\"1\" class=\"dataframe\">\n",
       "  <thead>\n",
       "    <tr style=\"text-align: right;\">\n",
       "      <th></th>\n",
       "      <th>start_ts</th>\n",
       "      <th>weather_conditions</th>\n",
       "      <th>duration_seconds</th>\n",
       "    </tr>\n",
       "  </thead>\n",
       "  <tbody>\n",
       "    <tr>\n",
       "      <th>62</th>\n",
       "      <td>2017-11-11 06:00:00</td>\n",
       "      <td>Good</td>\n",
       "      <td>1260.0</td>\n",
       "    </tr>\n",
       "    <tr>\n",
       "      <th>74</th>\n",
       "      <td>2017-11-11 08:00:00</td>\n",
       "      <td>Good</td>\n",
       "      <td>1380.0</td>\n",
       "    </tr>\n",
       "    <tr>\n",
       "      <th>76</th>\n",
       "      <td>2017-11-04 09:00:00</td>\n",
       "      <td>Good</td>\n",
       "      <td>1380.0</td>\n",
       "    </tr>\n",
       "    <tr>\n",
       "      <th>117</th>\n",
       "      <td>2017-11-11 07:00:00</td>\n",
       "      <td>Good</td>\n",
       "      <td>1380.0</td>\n",
       "    </tr>\n",
       "    <tr>\n",
       "      <th>119</th>\n",
       "      <td>2017-11-04 14:00:00</td>\n",
       "      <td>Good</td>\n",
       "      <td>3300.0</td>\n",
       "    </tr>\n",
       "    <tr>\n",
       "      <th>...</th>\n",
       "      <td>...</td>\n",
       "      <td>...</td>\n",
       "      <td>...</td>\n",
       "    </tr>\n",
       "    <tr>\n",
       "      <th>1054</th>\n",
       "      <td>2017-11-11 07:00:00</td>\n",
       "      <td>Good</td>\n",
       "      <td>1380.0</td>\n",
       "    </tr>\n",
       "    <tr>\n",
       "      <th>1058</th>\n",
       "      <td>2017-11-25 12:00:00</td>\n",
       "      <td>Good</td>\n",
       "      <td>1440.0</td>\n",
       "    </tr>\n",
       "    <tr>\n",
       "      <th>1062</th>\n",
       "      <td>2017-11-11 06:00:00</td>\n",
       "      <td>Good</td>\n",
       "      <td>1500.0</td>\n",
       "    </tr>\n",
       "    <tr>\n",
       "      <th>1065</th>\n",
       "      <td>2017-11-11 13:00:00</td>\n",
       "      <td>Good</td>\n",
       "      <td>2100.0</td>\n",
       "    </tr>\n",
       "    <tr>\n",
       "      <th>1066</th>\n",
       "      <td>2017-11-11 08:00:00</td>\n",
       "      <td>Good</td>\n",
       "      <td>1380.0</td>\n",
       "    </tr>\n",
       "  </tbody>\n",
       "</table>\n",
       "<p>197 rows × 3 columns</p>\n",
       "</div>"
      ],
      "text/plain": [
       "                 start_ts weather_conditions  duration_seconds\n",
       "62    2017-11-11 06:00:00               Good            1260.0\n",
       "74    2017-11-11 08:00:00               Good            1380.0\n",
       "76    2017-11-04 09:00:00               Good            1380.0\n",
       "117   2017-11-11 07:00:00               Good            1380.0\n",
       "119   2017-11-04 14:00:00               Good            3300.0\n",
       "...                   ...                ...               ...\n",
       "1054  2017-11-11 07:00:00               Good            1380.0\n",
       "1058  2017-11-25 12:00:00               Good            1440.0\n",
       "1062  2017-11-11 06:00:00               Good            1500.0\n",
       "1065  2017-11-11 13:00:00               Good            2100.0\n",
       "1066  2017-11-11 08:00:00               Good            1380.0\n",
       "\n",
       "[197 rows x 3 columns]"
      ]
     },
     "execution_count": 8,
     "metadata": {},
     "output_type": "execute_result"
    }
   ],
   "source": [
    "#verificando si existen filas duplicadas\n",
    "df_weather[df_weather.duplicated()]"
   ]
  },
  {
   "cell_type": "code",
   "execution_count": 9,
   "metadata": {
    "scrolled": true
   },
   "outputs": [
    {
     "data": {
      "text/html": [
       "<div>\n",
       "<style scoped>\n",
       "    .dataframe tbody tr th:only-of-type {\n",
       "        vertical-align: middle;\n",
       "    }\n",
       "\n",
       "    .dataframe tbody tr th {\n",
       "        vertical-align: top;\n",
       "    }\n",
       "\n",
       "    .dataframe thead th {\n",
       "        text-align: right;\n",
       "    }\n",
       "</style>\n",
       "<table border=\"1\" class=\"dataframe\">\n",
       "  <thead>\n",
       "    <tr style=\"text-align: right;\">\n",
       "      <th></th>\n",
       "      <th>start_ts</th>\n",
       "      <th>weather_conditions</th>\n",
       "      <th>duration_seconds</th>\n",
       "    </tr>\n",
       "  </thead>\n",
       "  <tbody>\n",
       "    <tr>\n",
       "      <th>116</th>\n",
       "      <td>2017-11-11 08:00:00</td>\n",
       "      <td>Good</td>\n",
       "      <td>1260.0</td>\n",
       "    </tr>\n",
       "    <tr>\n",
       "      <th>657</th>\n",
       "      <td>2017-11-11 08:00:00</td>\n",
       "      <td>Good</td>\n",
       "      <td>1260.0</td>\n",
       "    </tr>\n",
       "  </tbody>\n",
       "</table>\n",
       "</div>"
      ],
      "text/plain": [
       "                start_ts weather_conditions  duration_seconds\n",
       "116  2017-11-11 08:00:00               Good            1260.0\n",
       "657  2017-11-11 08:00:00               Good            1260.0"
      ]
     },
     "execution_count": 9,
     "metadata": {},
     "output_type": "execute_result"
    }
   ],
   "source": [
    "#Verificando un ejemplo de fila duplicada\n",
    "df_weather[(df_weather['start_ts']=='2017-11-11 08:00:00') & (df_weather['weather_conditions']=='Good') & (df_weather['duration_seconds']==1260.0)]"
   ]
  },
  {
   "cell_type": "markdown",
   "metadata": {},
   "source": [
    "Podemos observar que tenemos tres columnas:\n",
    "\n",
    "* 'start_ts' tipo object que contiene la fecha y hora del viaje realizado\n",
    "* 'weather_conditions' tipo object que contiene el estado del tiempo para el viaje realizado ('Good y Bad)\n",
    "* 'duration_seconds' tipo float64 que contiene la duración en segundos del viaje realizado\n",
    "* Contamos con 1068 registros de viajes\n",
    "* La duración media de los viajes es de 2071 segundos, si bien es bajo en relación al dato máximo(7440), no está excesivamente bajo, lo podemos observar en la desviación estándar\n",
    "* la desviación estandar es baja, por lo que esperamos que los datos estén más cercanos a la media y la curva de la distribución de los datos sea más cercana a la media (curva más alta que plana)\n",
    "\n",
    "\n",
    "*El dataset contiene filas duplicadas, sin embargo esto es \"aceptable\" debido a que el dataset contiene datos sobre viajes desde el barrio Loop hasta el Aeropuerto internacional O'Hare, por lo tanto, es **posible** que 2 (o más) usuarios hayan tomado un taxi en la misma hora hacia el mismo destino*"
   ]
  },
  {
   "cell_type": "markdown",
   "metadata": {},
   "source": [
    "## Preparando datos para el análisis (normalización de datos)"
   ]
  },
  {
   "cell_type": "markdown",
   "metadata": {},
   "source": [
    "### Transformando la columna 'start_ts' de object a datetime para el dataframe 'df_weather'"
   ]
  },
  {
   "cell_type": "code",
   "execution_count": 10,
   "metadata": {},
   "outputs": [
    {
     "name": "stdout",
     "output_type": "stream",
     "text": [
      "<class 'pandas.core.frame.DataFrame'>\n",
      "RangeIndex: 1068 entries, 0 to 1067\n",
      "Data columns (total 3 columns):\n",
      " #   Column              Non-Null Count  Dtype         \n",
      "---  ------              --------------  -----         \n",
      " 0   start_ts            1068 non-null   datetime64[ns]\n",
      " 1   weather_conditions  1068 non-null   object        \n",
      " 2   duration_seconds    1068 non-null   float64       \n",
      "dtypes: datetime64[ns](1), float64(1), object(1)\n",
      "memory usage: 25.2+ KB\n",
      "None\n"
     ]
    },
    {
     "data": {
      "text/html": [
       "<div>\n",
       "<style scoped>\n",
       "    .dataframe tbody tr th:only-of-type {\n",
       "        vertical-align: middle;\n",
       "    }\n",
       "\n",
       "    .dataframe tbody tr th {\n",
       "        vertical-align: top;\n",
       "    }\n",
       "\n",
       "    .dataframe thead th {\n",
       "        text-align: right;\n",
       "    }\n",
       "</style>\n",
       "<table border=\"1\" class=\"dataframe\">\n",
       "  <thead>\n",
       "    <tr style=\"text-align: right;\">\n",
       "      <th></th>\n",
       "      <th>start_ts</th>\n",
       "      <th>weather_conditions</th>\n",
       "      <th>duration_seconds</th>\n",
       "    </tr>\n",
       "  </thead>\n",
       "  <tbody>\n",
       "    <tr>\n",
       "      <th>0</th>\n",
       "      <td>2017-11-25 16:00:00</td>\n",
       "      <td>Good</td>\n",
       "      <td>2410.0</td>\n",
       "    </tr>\n",
       "    <tr>\n",
       "      <th>1</th>\n",
       "      <td>2017-11-25 14:00:00</td>\n",
       "      <td>Good</td>\n",
       "      <td>1920.0</td>\n",
       "    </tr>\n",
       "    <tr>\n",
       "      <th>2</th>\n",
       "      <td>2017-11-25 12:00:00</td>\n",
       "      <td>Good</td>\n",
       "      <td>1543.0</td>\n",
       "    </tr>\n",
       "    <tr>\n",
       "      <th>3</th>\n",
       "      <td>2017-11-04 10:00:00</td>\n",
       "      <td>Good</td>\n",
       "      <td>2512.0</td>\n",
       "    </tr>\n",
       "    <tr>\n",
       "      <th>4</th>\n",
       "      <td>2017-11-11 07:00:00</td>\n",
       "      <td>Good</td>\n",
       "      <td>1440.0</td>\n",
       "    </tr>\n",
       "  </tbody>\n",
       "</table>\n",
       "</div>"
      ],
      "text/plain": [
       "             start_ts weather_conditions  duration_seconds\n",
       "0 2017-11-25 16:00:00               Good            2410.0\n",
       "1 2017-11-25 14:00:00               Good            1920.0\n",
       "2 2017-11-25 12:00:00               Good            1543.0\n",
       "3 2017-11-04 10:00:00               Good            2512.0\n",
       "4 2017-11-11 07:00:00               Good            1440.0"
      ]
     },
     "execution_count": 10,
     "metadata": {},
     "output_type": "execute_result"
    }
   ],
   "source": [
    "# Cambiando el tipo de dato (object) de la columna start_ts por tipo de dato (date)\n",
    "df_weather['start_ts']=pd.to_datetime(df_weather['start_ts'],format='%Y-%m-%dT%H:%M:%S')\n",
    "\n",
    "print(df_weather.info())\n",
    "df_weather.head()"
   ]
  },
  {
   "cell_type": "markdown",
   "metadata": {},
   "source": [
    "## Análisis exploratorio de los datos"
   ]
  },
  {
   "cell_type": "markdown",
   "metadata": {},
   "source": [
    "### Identificando las 10 principales empresas prestadoras de servicio de Taxi"
   ]
  },
  {
   "cell_type": "code",
   "execution_count": 11,
   "metadata": {
    "scrolled": false
   },
   "outputs": [
    {
     "data": {
      "text/html": [
       "<div>\n",
       "<style scoped>\n",
       "    .dataframe tbody tr th:only-of-type {\n",
       "        vertical-align: middle;\n",
       "    }\n",
       "\n",
       "    .dataframe tbody tr th {\n",
       "        vertical-align: top;\n",
       "    }\n",
       "\n",
       "    .dataframe thead th {\n",
       "        text-align: right;\n",
       "    }\n",
       "</style>\n",
       "<table border=\"1\" class=\"dataframe\">\n",
       "  <thead>\n",
       "    <tr style=\"text-align: right;\">\n",
       "      <th></th>\n",
       "      <th>company_name</th>\n",
       "      <th>trips_amount</th>\n",
       "    </tr>\n",
       "  </thead>\n",
       "  <tbody>\n",
       "    <tr>\n",
       "      <th>0</th>\n",
       "      <td>Flash Cab</td>\n",
       "      <td>19558</td>\n",
       "    </tr>\n",
       "    <tr>\n",
       "      <th>1</th>\n",
       "      <td>Taxi Affiliation Services</td>\n",
       "      <td>11422</td>\n",
       "    </tr>\n",
       "    <tr>\n",
       "      <th>2</th>\n",
       "      <td>Medallion Leasing</td>\n",
       "      <td>10367</td>\n",
       "    </tr>\n",
       "    <tr>\n",
       "      <th>3</th>\n",
       "      <td>Yellow Cab</td>\n",
       "      <td>9888</td>\n",
       "    </tr>\n",
       "    <tr>\n",
       "      <th>4</th>\n",
       "      <td>Taxi Affiliation Service Yellow</td>\n",
       "      <td>9299</td>\n",
       "    </tr>\n",
       "    <tr>\n",
       "      <th>5</th>\n",
       "      <td>Chicago Carriage Cab Corp</td>\n",
       "      <td>9181</td>\n",
       "    </tr>\n",
       "    <tr>\n",
       "      <th>6</th>\n",
       "      <td>City Service</td>\n",
       "      <td>8448</td>\n",
       "    </tr>\n",
       "    <tr>\n",
       "      <th>7</th>\n",
       "      <td>Sun Taxi</td>\n",
       "      <td>7701</td>\n",
       "    </tr>\n",
       "    <tr>\n",
       "      <th>8</th>\n",
       "      <td>Star North Management LLC</td>\n",
       "      <td>7455</td>\n",
       "    </tr>\n",
       "    <tr>\n",
       "      <th>9</th>\n",
       "      <td>Blue Ribbon Taxi Association Inc.</td>\n",
       "      <td>5953</td>\n",
       "    </tr>\n",
       "  </tbody>\n",
       "</table>\n",
       "</div>"
      ],
      "text/plain": [
       "                        company_name  trips_amount\n",
       "0                          Flash Cab         19558\n",
       "1          Taxi Affiliation Services         11422\n",
       "2                  Medallion Leasing         10367\n",
       "3                         Yellow Cab          9888\n",
       "4    Taxi Affiliation Service Yellow          9299\n",
       "5          Chicago Carriage Cab Corp          9181\n",
       "6                       City Service          8448\n",
       "7                           Sun Taxi          7701\n",
       "8          Star North Management LLC          7455\n",
       "9  Blue Ribbon Taxi Association Inc.          5953"
      ]
     },
     "execution_count": 11,
     "metadata": {},
     "output_type": "execute_result"
    }
   ],
   "source": [
    "top_company=df_com.sort_values(by ='trips_amount',ascending =False).head(10)\n",
    "top_company"
   ]
  },
  {
   "cell_type": "code",
   "execution_count": 12,
   "metadata": {},
   "outputs": [
    {
     "name": "stdout",
     "output_type": "stream",
     "text": [
      "Las empresa Flash Cab representa el 19.7% del total de viajes\n",
      "\n",
      "Las empresas Flash Cab, Taxi Affiliation Services y Medallion Leasing Representan el 41.65% del total de viajes\n"
     ]
    }
   ],
   "source": [
    "#Calculando que porcentaje representan las 3 empresas con mayor cantidad de viajes, sobre el total de viajes\n",
    "top1_percentage =round((top_company[top_company['company_name'].isin(['Flash Cab'])].sum()[1] * 100 )/top_company.sum()[1],2)\n",
    "top3_percentage=round((top_company[top_company['company_name'].isin(['Flash Cab','Taxi Affiliation Services','Medallion Leasing'])].sum()[1] * 100 )/top_company.sum()[1],2)\n",
    "\n",
    "print(f\"Las empresa Flash Cab representa el {top1_percentage}% del total de viajes\")\n",
    "print()\n",
    "print(f\"Las empresas Flash Cab, Taxi Affiliation Services y Medallion Leasing Representan el {top3_percentage}% del total de viajes\")"
   ]
  },
  {
   "cell_type": "code",
   "execution_count": 13,
   "metadata": {
    "scrolled": true
   },
   "outputs": [
    {
     "data": {
      "text/plain": [
       "Text(0.5, 1.0, 'Top 10 cab companies by trips amount')"
      ]
     },
     "execution_count": 13,
     "metadata": {},
     "output_type": "execute_result"
    },
    {
     "data": {
      "image/png": "[encoded data removed]",
      "text/plain": [
       "<Figure size 432x288 with 1 Axes>"
      ]
     },
     "metadata": {
      "needs_background": "light"
     },
     "output_type": "display_data"
    }
   ],
   "source": [
    "#Generando un gráfico de barras para comparar las compañias top 10 conforme a los viajes realizados\n",
    "sns.barplot(data=top_company, x='trips_amount',y='company_name')\n",
    "plt.xlabel('Trips Amount')\n",
    "plt.ylabel('Company name')\n",
    "plt.title('Top 10 cab companies by trips amount')"
   ]
  },
  {
   "cell_type": "markdown",
   "metadata": {},
   "source": [
    "**Podemos observar que:**\n",
    "* La empresa Flash Cab tiene la supremacía en los viajes con 19,558 viajes, superando casi al doble a su rival inmediato Taxi Affiliation Services.\n",
    "* Flash Cab por sí solo abarca el 19.7% del total de los viajes \n",
    "* Las empresas Flash Cab, Taxi Affiliation Services y Medallion Leasing Representan el 41.65% del total de viajes\n"
   ]
  },
  {
   "cell_type": "markdown",
   "metadata": {},
   "source": [
    "### Identificando los 10 principales barrios en términos de finalización"
   ]
  },
  {
   "cell_type": "code",
   "execution_count": 14,
   "metadata": {
    "scrolled": false
   },
   "outputs": [
    {
     "data": {
      "text/html": [
       "<div>\n",
       "<style scoped>\n",
       "    .dataframe tbody tr th:only-of-type {\n",
       "        vertical-align: middle;\n",
       "    }\n",
       "\n",
       "    .dataframe tbody tr th {\n",
       "        vertical-align: top;\n",
       "    }\n",
       "\n",
       "    .dataframe thead th {\n",
       "        text-align: right;\n",
       "    }\n",
       "</style>\n",
       "<table border=\"1\" class=\"dataframe\">\n",
       "  <thead>\n",
       "    <tr style=\"text-align: right;\">\n",
       "      <th></th>\n",
       "      <th>dropoff_location_name</th>\n",
       "      <th>average_trips</th>\n",
       "    </tr>\n",
       "  </thead>\n",
       "  <tbody>\n",
       "    <tr>\n",
       "      <th>0</th>\n",
       "      <td>Loop</td>\n",
       "      <td>10727.466667</td>\n",
       "    </tr>\n",
       "    <tr>\n",
       "      <th>1</th>\n",
       "      <td>River North</td>\n",
       "      <td>9523.666667</td>\n",
       "    </tr>\n",
       "    <tr>\n",
       "      <th>2</th>\n",
       "      <td>Streeterville</td>\n",
       "      <td>6664.666667</td>\n",
       "    </tr>\n",
       "    <tr>\n",
       "      <th>3</th>\n",
       "      <td>West Loop</td>\n",
       "      <td>5163.666667</td>\n",
       "    </tr>\n",
       "    <tr>\n",
       "      <th>4</th>\n",
       "      <td>O'Hare</td>\n",
       "      <td>2546.900000</td>\n",
       "    </tr>\n",
       "    <tr>\n",
       "      <th>5</th>\n",
       "      <td>Lake View</td>\n",
       "      <td>2420.966667</td>\n",
       "    </tr>\n",
       "    <tr>\n",
       "      <th>6</th>\n",
       "      <td>Grant Park</td>\n",
       "      <td>2068.533333</td>\n",
       "    </tr>\n",
       "    <tr>\n",
       "      <th>7</th>\n",
       "      <td>Museum Campus</td>\n",
       "      <td>1510.000000</td>\n",
       "    </tr>\n",
       "    <tr>\n",
       "      <th>8</th>\n",
       "      <td>Gold Coast</td>\n",
       "      <td>1364.233333</td>\n",
       "    </tr>\n",
       "    <tr>\n",
       "      <th>9</th>\n",
       "      <td>Sheffield &amp; DePaul</td>\n",
       "      <td>1259.766667</td>\n",
       "    </tr>\n",
       "  </tbody>\n",
       "</table>\n",
       "</div>"
      ],
      "text/plain": [
       "  dropoff_location_name  average_trips\n",
       "0                  Loop   10727.466667\n",
       "1           River North    9523.666667\n",
       "2         Streeterville    6664.666667\n",
       "3             West Loop    5163.666667\n",
       "4                O'Hare    2546.900000\n",
       "5             Lake View    2420.966667\n",
       "6            Grant Park    2068.533333\n",
       "7         Museum Campus    1510.000000\n",
       "8            Gold Coast    1364.233333\n",
       "9    Sheffield & DePaul    1259.766667"
      ]
     },
     "execution_count": 14,
     "metadata": {},
     "output_type": "execute_result"
    }
   ],
   "source": [
    "top_drop=df_trip.sort_values(by ='average_trips',ascending =False).head(10)\n",
    "top_drop"
   ]
  },
  {
   "cell_type": "code",
   "execution_count": 15,
   "metadata": {},
   "outputs": [
    {
     "name": "stdout",
     "output_type": "stream",
     "text": [
      "Los destinos Loop y River North representan un 46.82% del total de viajes\n"
     ]
    }
   ],
   "source": [
    "#Calculando que porcentaje del total de viajes representan los 2 barrios más importantes en términos de finalización\n",
    "top2_percentage=round((top_drop[top_drop['dropoff_location_name'].isin(['Loop','River North'])].sum()[1] * 100 )/top_drop.sum()[1],2)\n",
    "print(f\"Los destinos Loop y River North representan un {top2_percentage}% del total de viajes\")"
   ]
  },
  {
   "cell_type": "code",
   "execution_count": 16,
   "metadata": {},
   "outputs": [
    {
     "data": {
      "text/plain": [
       "Text(0.5, 1.0, 'Top 10 neighboorhoods by drop off')"
      ]
     },
     "execution_count": 16,
     "metadata": {},
     "output_type": "execute_result"
    },
    {
     "data": {
      "image/png": "[encoded data removed]",
      "text/plain": [
       "<Figure size 432x288 with 1 Axes>"
      ]
     },
     "metadata": {
      "needs_background": "light"
     },
     "output_type": "display_data"
    }
   ],
   "source": [
    "#Graficando los 10 destinos más relevantes para los usuarios\n",
    "sns.barplot(data=top_drop,x='average_trips',y='dropoff_location_name')\n",
    "plt.xlabel('Average trips')\n",
    "plt.ylabel('Drop off location name (Neighboorhood)')\n",
    "plt.title('Top 10 neighboorhoods by drop off')\n"
   ]
  },
  {
   "cell_type": "markdown",
   "metadata": {},
   "source": [
    "**Podemos observar que:**\n",
    "* Loop es el destino más frecuente en donde los usuarios terminan sus viajes, con cerca de 107 mil viajes\n",
    "* Loop y River North son los destinos más comunes en donde los usuarios terminan sus viajes, solamente estos dos destinos representan el 46.82% del total de los viajes\n"
   ]
  },
  {
   "cell_type": "markdown",
   "metadata": {},
   "source": [
    "### Analizando los datos sobre el estado del tiempo (clima)"
   ]
  },
  {
   "cell_type": "code",
   "execution_count": 17,
   "metadata": {},
   "outputs": [
    {
     "data": {
      "text/html": [
       "<div>\n",
       "<style scoped>\n",
       "    .dataframe tbody tr th:only-of-type {\n",
       "        vertical-align: middle;\n",
       "    }\n",
       "\n",
       "    .dataframe tbody tr th {\n",
       "        vertical-align: top;\n",
       "    }\n",
       "\n",
       "    .dataframe thead th {\n",
       "        text-align: right;\n",
       "    }\n",
       "</style>\n",
       "<table border=\"1\" class=\"dataframe\">\n",
       "  <thead>\n",
       "    <tr style=\"text-align: right;\">\n",
       "      <th></th>\n",
       "      <th>start_ts</th>\n",
       "      <th>weather_conditions</th>\n",
       "      <th>duration_seconds</th>\n",
       "    </tr>\n",
       "  </thead>\n",
       "  <tbody>\n",
       "    <tr>\n",
       "      <th>0</th>\n",
       "      <td>2017-11-25 16:00:00</td>\n",
       "      <td>Good</td>\n",
       "      <td>2410.0</td>\n",
       "    </tr>\n",
       "    <tr>\n",
       "      <th>1</th>\n",
       "      <td>2017-11-25 14:00:00</td>\n",
       "      <td>Good</td>\n",
       "      <td>1920.0</td>\n",
       "    </tr>\n",
       "    <tr>\n",
       "      <th>2</th>\n",
       "      <td>2017-11-25 12:00:00</td>\n",
       "      <td>Good</td>\n",
       "      <td>1543.0</td>\n",
       "    </tr>\n",
       "    <tr>\n",
       "      <th>3</th>\n",
       "      <td>2017-11-04 10:00:00</td>\n",
       "      <td>Good</td>\n",
       "      <td>2512.0</td>\n",
       "    </tr>\n",
       "    <tr>\n",
       "      <th>4</th>\n",
       "      <td>2017-11-11 07:00:00</td>\n",
       "      <td>Good</td>\n",
       "      <td>1440.0</td>\n",
       "    </tr>\n",
       "  </tbody>\n",
       "</table>\n",
       "</div>"
      ],
      "text/plain": [
       "             start_ts weather_conditions  duration_seconds\n",
       "0 2017-11-25 16:00:00               Good            2410.0\n",
       "1 2017-11-25 14:00:00               Good            1920.0\n",
       "2 2017-11-25 12:00:00               Good            1543.0\n",
       "3 2017-11-04 10:00:00               Good            2512.0\n",
       "4 2017-11-11 07:00:00               Good            1440.0"
      ]
     },
     "execution_count": 17,
     "metadata": {},
     "output_type": "execute_result"
    }
   ],
   "source": [
    "df_weather.head()"
   ]
  },
  {
   "cell_type": "code",
   "execution_count": 18,
   "metadata": {
    "scrolled": false
   },
   "outputs": [
    {
     "data": {
      "text/html": [
       "<div>\n",
       "<style scoped>\n",
       "    .dataframe tbody tr th:only-of-type {\n",
       "        vertical-align: middle;\n",
       "    }\n",
       "\n",
       "    .dataframe tbody tr th {\n",
       "        vertical-align: top;\n",
       "    }\n",
       "\n",
       "    .dataframe thead th {\n",
       "        text-align: right;\n",
       "    }\n",
       "</style>\n",
       "<table border=\"1\" class=\"dataframe\">\n",
       "  <thead>\n",
       "    <tr style=\"text-align: right;\">\n",
       "      <th></th>\n",
       "      <th>weather_conditions</th>\n",
       "      <th>count</th>\n",
       "      <th>duration_seconds</th>\n",
       "    </tr>\n",
       "  </thead>\n",
       "  <tbody>\n",
       "    <tr>\n",
       "      <th>0</th>\n",
       "      <td>Bad</td>\n",
       "      <td>180</td>\n",
       "      <td>180</td>\n",
       "    </tr>\n",
       "    <tr>\n",
       "      <th>1</th>\n",
       "      <td>Good</td>\n",
       "      <td>888</td>\n",
       "      <td>888</td>\n",
       "    </tr>\n",
       "  </tbody>\n",
       "</table>\n",
       "</div>"
      ],
      "text/plain": [
       "  weather_conditions  count  duration_seconds\n",
       "0                Bad    180               180\n",
       "1               Good    888               888"
      ]
     },
     "execution_count": 18,
     "metadata": {},
     "output_type": "execute_result"
    }
   ],
   "source": [
    "#Realizando la cuenta de la cantidad de viajes con buen y mal clima\n",
    "weather_count= df_weather.groupby('weather_conditions').count().reset_index().rename(columns={'start_ts':'count'})\n",
    "weather_count"
   ]
  },
  {
   "cell_type": "code",
   "execution_count": 19,
   "metadata": {},
   "outputs": [
    {
     "data": {
      "text/plain": [
       "Text(0, 0.5, 'Quantity of trips')"
      ]
     },
     "execution_count": 19,
     "metadata": {},
     "output_type": "execute_result"
    },
    {
     "data": {
      "image/png": "[encoded data removed]",
      "text/plain": [
       "<Figure size 432x288 with 1 Axes>"
      ]
     },
     "metadata": {
      "needs_background": "light"
     },
     "output_type": "display_data"
    }
   ],
   "source": [
    "#Graficando la cantidad de viajes con buen y mal clima\n",
    "sns.barplot(data=weather_count, x='weather_conditions',y='count')\n",
    "plt.title('Quantity of trips by weather conditions')\n",
    "plt.xlabel('Weather conditions')\n",
    "plt.ylabel('Quantity of trips')"
   ]
  },
  {
   "cell_type": "code",
   "execution_count": 20,
   "metadata": {
    "scrolled": true
   },
   "outputs": [
    {
     "data": {
      "text/plain": [
       "Text(0.5, 1.0, 'Distribution of trip duration by weather conditions')"
      ]
     },
     "execution_count": 20,
     "metadata": {},
     "output_type": "execute_result"
    },
    {
     "data": {
      "image/png": "[encoded data removed]",
      "text/plain": [
       "<Figure size 720x288 with 1 Axes>"
      ]
     },
     "metadata": {
      "needs_background": "light"
     },
     "output_type": "display_data"
    }
   ],
   "source": [
    "#Creando un histograma para verificar la distribución de la duración de viajes conforme al estado del clima\n",
    "plt.figure(figsize=[10,4])\n",
    "sns.set_style('darkgrid')\n",
    "series_good=df_weather[df_weather['weather_conditions']=='Good']['duration_seconds']\n",
    "series_bad=df_weather[df_weather['weather_conditions']=='Bad']['duration_seconds']\n",
    "\n",
    "\n",
    "series_good.hist(ax=plt.gca(),density=True, alpha=.5, bins=15, edgecolor='white', legend=True)\n",
    "series_bad.hist(ax=plt.gca(),density=True, alpha=.5, bins=15, edgecolor='white', legend=True)\n",
    "\n",
    "plt.ylabel('Frequency')\n",
    "plt.xlabel('Duration in seconds')\n",
    "plt.legend(['Good','Bad'],title='Weather conditions')\n",
    "plt.title('Distribution of trip duration by weather conditions')\n",
    "\n",
    "#sns.histplot(x='Good', data=df_weather)"
   ]
  },
  {
   "cell_type": "code",
   "execution_count": 21,
   "metadata": {},
   "outputs": [
    {
     "name": "stdout",
     "output_type": "stream",
     "text": [
      "La duración promedio para un viaje con buenas condiciones de clima es: 33.33 minutos\n",
      "\n",
      "La duración promedio para un viaje con malas condiciones de clima es: 40.45 minutos\n"
     ]
    }
   ],
   "source": [
    "#Calculando la duración promedio (en minutos) de los viajes por condición de clima\n",
    "good_mean=round((series_good.mean()/60),2)\n",
    "bad_mean=round((series_bad.mean()/60),2)\n",
    "\n",
    "print(f'La duración promedio para un viaje con buenas condiciones de clima es: {good_mean} minutos')\n",
    "print()\n",
    "print(f'La duración promedio para un viaje con malas condiciones de clima es: {bad_mean} minutos')"
   ]
  },
  {
   "cell_type": "markdown",
   "metadata": {},
   "source": [
    "Podemos observar que:\n",
    "* Aproximadamente un 22% de los viajes se realizaron con mal clima, el resto (78%) tuvieron buenas condiciones climatológicas\n",
    "* La distribución de la duración en segundos de los viajes nos arroja un sesgo a la izquierda para los viajes con malas condiciones climatológicas, y un sesgo a la derecha para los viajes con buenas condiciones climatológicas\n",
    "* La duración promedio para un viaje con buenas condiciones de clima es: 40.45 minutos\n",
    "* La duración promedio para un viaje con malas condiciones de clima es: 33.33 minutos\n",
    "\n",
    "Sería interesante verificar si estos cerca de 7 minutos de diferencia entre un viaje con buen o mal clima son significativas, en este momento no podemos saberlo a ciencia cierta debido a que no tenemos datos sobre las distancias recorridas, tal vez 7 minutos de diferencia en un viaje de más de una hora no es tan considerable, sin embargo si lo comparamos con un viaje de 10 minutos, puede arrojar una diferencia significativa.\n",
    "\n",
    "\n",
    "con la información que contamos, probemos una hipótesis."
   ]
  },
  {
   "cell_type": "markdown",
   "metadata": {},
   "source": [
    "## Probando hipótesis\n",
    "\n",
    "### La duración promedio de los viajes desde el Loop hasta el Aeropuerto internacional O'Hare cambia los sábados lluviosos"
   ]
  },
  {
   "cell_type": "code",
   "execution_count": 22,
   "metadata": {
    "scrolled": true
   },
   "outputs": [
    {
     "data": {
      "text/html": [
       "<div>\n",
       "<style scoped>\n",
       "    .dataframe tbody tr th:only-of-type {\n",
       "        vertical-align: middle;\n",
       "    }\n",
       "\n",
       "    .dataframe tbody tr th {\n",
       "        vertical-align: top;\n",
       "    }\n",
       "\n",
       "    .dataframe thead th {\n",
       "        text-align: right;\n",
       "    }\n",
       "</style>\n",
       "<table border=\"1\" class=\"dataframe\">\n",
       "  <thead>\n",
       "    <tr style=\"text-align: right;\">\n",
       "      <th></th>\n",
       "      <th>start_ts</th>\n",
       "      <th>weather_conditions</th>\n",
       "      <th>duration_seconds</th>\n",
       "    </tr>\n",
       "  </thead>\n",
       "  <tbody>\n",
       "    <tr>\n",
       "      <th>0</th>\n",
       "      <td>2017-11-25 16:00:00</td>\n",
       "      <td>Good</td>\n",
       "      <td>2410.0</td>\n",
       "    </tr>\n",
       "    <tr>\n",
       "      <th>1</th>\n",
       "      <td>2017-11-25 14:00:00</td>\n",
       "      <td>Good</td>\n",
       "      <td>1920.0</td>\n",
       "    </tr>\n",
       "    <tr>\n",
       "      <th>2</th>\n",
       "      <td>2017-11-25 12:00:00</td>\n",
       "      <td>Good</td>\n",
       "      <td>1543.0</td>\n",
       "    </tr>\n",
       "    <tr>\n",
       "      <th>3</th>\n",
       "      <td>2017-11-04 10:00:00</td>\n",
       "      <td>Good</td>\n",
       "      <td>2512.0</td>\n",
       "    </tr>\n",
       "    <tr>\n",
       "      <th>4</th>\n",
       "      <td>2017-11-11 07:00:00</td>\n",
       "      <td>Good</td>\n",
       "      <td>1440.0</td>\n",
       "    </tr>\n",
       "  </tbody>\n",
       "</table>\n",
       "</div>"
      ],
      "text/plain": [
       "             start_ts weather_conditions  duration_seconds\n",
       "0 2017-11-25 16:00:00               Good            2410.0\n",
       "1 2017-11-25 14:00:00               Good            1920.0\n",
       "2 2017-11-25 12:00:00               Good            1543.0\n",
       "3 2017-11-04 10:00:00               Good            2512.0\n",
       "4 2017-11-11 07:00:00               Good            1440.0"
      ]
     },
     "execution_count": 22,
     "metadata": {},
     "output_type": "execute_result"
    }
   ],
   "source": [
    "df_weather.head()"
   ]
  },
  {
   "cell_type": "code",
   "execution_count": 23,
   "metadata": {
    "scrolled": true
   },
   "outputs": [
    {
     "data": {
      "text/plain": [
       "array([5])"
      ]
     },
     "execution_count": 23,
     "metadata": {},
     "output_type": "execute_result"
    }
   ],
   "source": [
    "#Añadiendo la columna dow (Day of Week) \n",
    "#El día 5 es sábado, debido a que el índice comienza en: Lunes = 0\n",
    "df_weather['dow']=df_weather['start_ts'].dt.dayofweek\n",
    "df_weather.dow.unique()\n",
    "\n",
    "##Nota: Observamos que todos los días del dataset son sábado\n",
    "#no retiramos esta columna creada debido a que considero una buena práctica corroborar la fiabilidad de los datos"
   ]
  },
  {
   "cell_type": "code",
   "execution_count": 24,
   "metadata": {
    "scrolled": false
   },
   "outputs": [
    {
     "name": "stdout",
     "output_type": "stream",
     "text": [
      "Varianza de la duración de viajes en clima bueno:  575732.9308497686\n",
      "Varianza de la duración de viajes en clima malo:  517403.56330246915\n"
     ]
    }
   ],
   "source": [
    "#Calculando la varianza de la duración de viajes dependiendo el clima\n",
    "print(\"Varianza de la duración de viajes en clima bueno: \",np.var(series_good))\n",
    "print(\"Varianza de la duración de viajes en clima malo: \",np.var(series_bad))"
   ]
  },
  {
   "cell_type": "markdown",
   "metadata": {},
   "source": [
    "### Realizando test Levene para corroborar la igualdad de las varianzas"
   ]
  },
  {
   "cell_type": "code",
   "execution_count": 25,
   "metadata": {},
   "outputs": [
    {
     "name": "stdout",
     "output_type": "stream",
     "text": [
      "El valor p para la prueba de Levene es = 0.5332038671974493\n"
     ]
    }
   ],
   "source": [
    "res = st.levene(series_good, series_bad)\n",
    "#res.statistic\n",
    "print('El valor p para la prueba de Levene es =',res.pvalue)"
   ]
  },
  {
   "cell_type": "markdown",
   "metadata": {},
   "source": [
    "**Utilizando la prueba de Levene corroboramos la igualdad de las varianzas, esta prueba establece que:**\n",
    "* Si el valor p de la prueba de Levene es mayor a .05 entonces las varianzas no son significativamente diferentes entre ellas\n",
    "* Si el valor p de la prueba de Levene es menor a .05 entonces las varianzas si son significativamente diferentes entre ellas\n",
    "\n",
    "El valor p para la prueba de Levene fue de 0.533 , por lo tanto establecemos que las varianzas no son significativamente diferentes entre si, por lo tanto utilizaremos el parámetro **'equal_var = True'** para la prueba de hipótesis"
   ]
  },
  {
   "cell_type": "code",
   "execution_count": 26,
   "metadata": {},
   "outputs": [
    {
     "name": "stdout",
     "output_type": "stream",
     "text": [
      "valor p:  0.000000000003259\n",
      "Rechazamos la hipótesis nula\n"
     ]
    }
   ],
   "source": [
    "#utilizamos la prueba estadística: Hipótesis sobre la igualdad de las medias de dos poblaciones\n",
    "\n",
    "alpha=.05\n",
    "results= st.ttest_ind(series_good,series_bad, equal_var=True)\n",
    "\n",
    "pvalue=f'{results.pvalue/2:.15f}'\n",
    "print('valor p: ',pvalue)\n",
    "\n",
    "if results.pvalue/2 < alpha:\n",
    "    print('Rechazamos la hipótesis nula')\n",
    "    \n",
    "else:\n",
    "    print('No rechazamos la hipótesis nula')"
   ]
  },
  {
   "cell_type": "markdown",
   "metadata": {},
   "source": [
    "Podemos observar que\n",
    "* La duración promedio para un viaje con buenas condiciones de clima es: 40.45 minutos\n",
    "* La duración promedio para un viaje con malas condiciones de clima es: 33.33 minutos\n",
    "\n",
    "Planteamiento de hipótesis:\n",
    "* Hipótesis nula: La duración promedio de los viajes desde el Loop hasta el Aeropuerto internacional O'Hare son iguales los sábados lluviosos (contra los no lluviosos)\n",
    "* Hipótesis alternativa: Hipótesis nula: La duración promedio de los viajes desde el Loop hasta el Aeropuerto internacional O'Hare cambia los sábados lluviosos\n",
    "\n",
    "\n",
    "Utilizando la prueba de hipótesis : \"Hipótesis sobre la igualdad de las medias de dos poblaciones\" observamos que el valor p es de 0.000000000003259 por lo tanto:\n",
    "\n",
    "* Se rechaza la hipótesis Nula, por lo tanto, la duración promedio de los viajes desde el Loop hasta el Aeropuerto internacional O'Hare **SI** cambia los sábados lluviosos\n",
    "* No se tiene evidencia suficiente para afirmar que la duración promedio de los viajes desde el Loop hasta el Aeropouerto internacional O'Hare en días lluviosos son iguales\n",
    "\n",
    "\n",
    "Se establece un valor alpha de 0.05 por convención estadística"
   ]
  },
  {
   "cell_type": "markdown",
   "metadata": {},
   "source": [
    "### Explicando como fue el planteamiento de hipótesis y que herramienta estadística se decidió utilizar"
   ]
  },
  {
   "cell_type": "markdown",
   "metadata": {},
   "source": [
    "La hipótesis nula se crea desde el planteamiento a probar, desafía el status quo, en cambio la hipótesis alternativa se plantea de manera opuesta a la hipótesis a probar, no desafía el status quo y no representa un cambio significativo.\n",
    "\n",
    "La clave para crear ambas hipótesis está en el planteamiento, si deseamos comparar diferencia (Mayor que / Menor que) o si deseamos comparar igualdad (Diferente de) entre las dos medias a comparar, esto nos dará una pista de que tipo de prueba utilizar (una cola, dos colas, etc.)\n",
    "\n",
    "* La hipótesis a probar es: \"La duración promedio de los viajes desde el Loop hasta el Aeropuerto internacional O'Hare cambia los sábados lluviosos\" por lo tanto utilizamos la prueba de \"Hipótesis sobre la igualdad de las medias de dos poblaciones\"\n",
    "\n",
    "* La prueba de \"Hipótesis sobre la igualdad de las medias de dos poblaciones\" nos ofrece la posibilidad de saber la probabilidad de que las medias de las poblaciones sean iguales (Hipótesis Nula Ho) o diferentes (Hipótesis alternativa H1)\n",
    "\n",
    "**Se complementó la prueba de hipótesis con la comprobación de la igualdad de las varianzas mediante la prueba de Levene, la cual establece:**\n",
    "\n",
    "* Si el valor p de la prueba de Levene es mayor a .05 entonces las varianzas no son significativamente diferentes entre ellas\n",
    "* Si el valor p de la prueba de Levene es menor a .05 entonces las varianzas si son significativamente diferentes entre ellas\n",
    "\n",
    "El valor p para la prueba de Levene fue de 0.533 , por lo tanto establecemos que las varianzas no son significativamente diferentes entre si, por lo tanto utilizaremos el parámetro **'equal_var = True'** para la prueba de hipótesis\n"
   ]
  },
  {
   "cell_type": "markdown",
   "metadata": {},
   "source": [
    "## Conclusiones"
   ]
  },
  {
   "cell_type": "markdown",
   "metadata": {},
   "source": [
    "Podemos observar que\n",
    "\n",
    "**Referente a las empresas prestadoras de servicios de taxi:**\n",
    "* La empresa Flash Cab tiene la supremacía en los viajes con 19,558 viajes, superando casi al doble a su rival inmediato Taxi Affiliation Services.\n",
    "* Flash Cab por sí solo abarca el 19.7% del total de los viajes \n",
    "* Las empresas Flash Cab, Taxi Affiliation Services y Medallion Leasing Representan el 41.65% del total de viajes\n",
    "\n",
    "**Referente a los destinos donde los usuarios finalizan sus viajes:**\n",
    "* Loop es el destino más frecuente en donde los usuarios terminan sus viajes, con cerca de 107 mil viajes\n",
    "* Loop y River North son los destinos más comunes en donde los usuarios terminan sus viajes, solamente estos dos destinos representan el 46.82% del total de los viajes\n",
    "\n",
    "\n",
    "**Referente al clima que se presentó en los viajes desde el Loop hasta el Aeropuerto Internacional O'Hare (los días Sábado)**\n",
    "\n",
    "* Aproximadamente un 22% de los viajes se realizaron con mal clima, el resto (78%) tuvieron buenas condiciones climatológicas\n",
    "* La distribución de la duración en segundos de los viajes nos arroja un sesgo a la izquierda para los viajes con malas condiciones climatológicas, y un sesgo a la derecha para los viajes con buenas condiciones climatológicas\n",
    "* La duración promedio para un viaje con buenas condiciones de clima es: 40.45 minutos\n",
    "* La duración promedio para un viaje con malas condiciones de clima es: 33.33 minutos\n",
    "\n",
    "Sería interesante verificar si estos cerca de 7 minutos de diferencia entre un viaje con buen o mal clima son significativas, en este momento no podemos saberlo a ciencia cierta debido a que no tenemos datos sobre las distancias recorridas, tal vez 7 minutos de diferencia en un viaje de más de una hora no es tan considerable, sin embargo si lo comparamos con un viaje de 10 minutos, puede arrojar una diferencia significativa.\n",
    "\n",
    "\n",
    "\n",
    "**Concluimos con la hipótesis presentada:\n",
    "La duración promedio de los viajes desde el Loop hasta el Aeropuerto internacional O'Hare cambia los sábados lluviosos\".**\n",
    "\n",
    "Utilizando la prueba de hipótesis : \"Hipótesis sobre la igualdad de las medias de dos poblaciones\" observamos que el valor p es de 0.000000000003369 por lo tanto:\n",
    "\n",
    "* Se rechaza la hipótesis Nula, por lo tanto, la duración promedio de los viajes desde el Loop hasta el Aeropuerto internacional O'Hare **SI** cambia los sábados lluviosos\n",
    "* No se tiene evidencia suficiente para afirmar que la duración promedio de los viajes desde el Loop hasta el Aeropouerto internacional O'Hare en días lluviosos son iguales\n",
    "\n"
   ]
  },
  {
   "cell_type": "markdown",
   "metadata": {},
   "source": [
    "## Estudio eliminando Outliers"
   ]
  },
  {
   "cell_type": "markdown",
   "metadata": {},
   "source": [
    "### Eliminando outliers  de los datos para la prueba de hipótesis"
   ]
  },
  {
   "cell_type": "markdown",
   "metadata": {},
   "source": [
    "#### Trabajando con el objeto series_good (datos sobre clima: bueno)"
   ]
  },
  {
   "cell_type": "code",
   "execution_count": 27,
   "metadata": {},
   "outputs": [
    {
     "name": "stdout",
     "output_type": "stream",
     "text": [
      "888\n"
     ]
    }
   ],
   "source": [
    "#Comprobando el tamaño inicial del objeto series_good\n",
    "print(len(series_good))"
   ]
  },
  {
   "cell_type": "code",
   "execution_count": 28,
   "metadata": {},
   "outputs": [
    {
     "name": "stdout",
     "output_type": "stream",
     "text": [
      "Rango intercuartílico = 1070.25\n",
      "\n",
      "Mínimo =  854.625\n",
      "Máximo =  4065.375\n",
      "Los valores mínimos y máximos nos permiten definir los valores atípicos (outliers),  que serán todos aquellos que se encuentren debajo del mínimo o arriba del máximo\n"
     ]
    }
   ],
   "source": [
    "#calculando quartiles e IQR\n",
    "sg_q1=series_good.quantile(.25)\n",
    "sg_q3=series_good.quantile(.75)\n",
    "iqr_g=sg_q3-sg_q1\n",
    "print('Rango intercuartílico =',iqr_g)\n",
    "print()\n",
    "\n",
    "#mínimos y máximos\n",
    "lf_g=sg_q3 - (1.5*iqr_g)\n",
    "uf_g=sg_q3 + (1.5*iqr_g)\n",
    "print('Mínimo = ', lf_g)\n",
    "print('Máximo = ',uf_g)\n",
    "\n",
    "print('Los valores mínimos y máximos nos permiten definir los valores atípicos (outliers),  que serán todos aquellos que se encuentren debajo del mínimo o arriba del máximo')"
   ]
  },
  {
   "cell_type": "code",
   "execution_count": 29,
   "metadata": {},
   "outputs": [
    {
     "data": {
      "text/plain": [
       "count     874.000000\n",
       "mean     1994.361556\n",
       "std       681.004539\n",
       "min      1018.000000\n",
       "25%      1397.250000\n",
       "50%      1800.000000\n",
       "75%      2460.000000\n",
       "max      3982.000000\n",
       "Name: duration_seconds, dtype: float64"
      ]
     },
     "execution_count": 29,
     "metadata": {},
     "output_type": "execute_result"
    }
   ],
   "source": [
    "#eliminando outliers\n",
    "series_good2=series_good[(series_good>lf_g)  & (series_good<uf_g)]\n",
    "series_good2.describe()"
   ]
  },
  {
   "cell_type": "markdown",
   "metadata": {},
   "source": [
    "**Podemos observar que la serie cambio de tener 888 valores, ahora tiene 874, los outliers fueron eliminados.**"
   ]
  },
  {
   "cell_type": "markdown",
   "metadata": {},
   "source": [
    "#### Trabajando con el objeto series_bad (datos sobre clima: malo)"
   ]
  },
  {
   "cell_type": "code",
   "execution_count": 30,
   "metadata": {},
   "outputs": [
    {
     "name": "stdout",
     "output_type": "stream",
     "text": [
      "180\n"
     ]
    }
   ],
   "source": [
    "#Comprobando el tamaño inicial del objeto series_bad\n",
    "print(len(series_bad))"
   ]
  },
  {
   "cell_type": "code",
   "execution_count": 31,
   "metadata": {
    "scrolled": true
   },
   "outputs": [
    {
     "name": "stdout",
     "output_type": "stream",
     "text": [
      "Rango intercuartílico = 966.0\n",
      "\n",
      "Mínimo =  1479.0\n",
      "Máximo =  4377.0\n",
      "Los valores mínimos y máximos nos permiten definir los valores atípicos (outliers),  que serán todos aquellos que se encuentren debajo del mínimo o arriba del máximo\n"
     ]
    }
   ],
   "source": [
    "#calculando quartiles e IQR\n",
    "sb_q1=series_bad.quantile(.25)\n",
    "sb_q3=series_bad.quantile(.75)\n",
    "iqr_b=sb_q3-sb_q1\n",
    "print('Rango intercuartílico =',iqr_b)\n",
    "print()\n",
    "\n",
    "#mínimos y máximos\n",
    "lf_b=sb_q3 - (1.5*iqr_b)\n",
    "uf_b=sb_q3 + (1.5*iqr_b)\n",
    "print('Mínimo = ', lf_b)\n",
    "print('Máximo = ',uf_b)\n",
    "\n",
    "print('Los valores mínimos y máximos nos permiten definir los valores atípicos (outliers),  que serán todos aquellos que se encuentren debajo del mínimo o arriba del máximo')\n"
   ]
  },
  {
   "cell_type": "code",
   "execution_count": 34,
   "metadata": {},
   "outputs": [
    {
     "data": {
      "text/plain": [
       "count     156.000000\n",
       "mean     2583.692308\n",
       "std       566.388908\n",
       "min      1483.000000\n",
       "25%      2220.000000\n",
       "50%      2593.000000\n",
       "75%      2972.000000\n",
       "max      4044.000000\n",
       "Name: duration_seconds, dtype: float64"
      ]
     },
     "execution_count": 34,
     "metadata": {},
     "output_type": "execute_result"
    }
   ],
   "source": [
    "#eliminando outliers\n",
    "series_bad2=series_bad[(series_bad>lf_b)  & (series_bad<uf_b)]\n",
    "series_bad2.describe()"
   ]
  },
  {
   "cell_type": "markdown",
   "metadata": {},
   "source": [
    "**Podemos observar que la serie cambio de tener 180 valores, ahora tiene 156, los outliers fueron eliminados.**"
   ]
  },
  {
   "cell_type": "markdown",
   "metadata": {},
   "source": [
    "### Calculando nuevamente las varianzas para ambo objetos serie una vez eliminados los outliers"
   ]
  },
  {
   "cell_type": "code",
   "execution_count": 35,
   "metadata": {},
   "outputs": [
    {
     "name": "stdout",
     "output_type": "stream",
     "text": [
      "Varianza de la duración de viajes en clima bueno:  463236.55577606836\n",
      "Varianza de la duración de viajes en clima malo:  318740.00788954634\n"
     ]
    }
   ],
   "source": [
    "print(\"Varianza de la duración de viajes en clima bueno: \",np.var(series_good2))\n",
    "print(\"Varianza de la duración de viajes en clima malo: \",np.var(series_bad2))"
   ]
  },
  {
   "cell_type": "code",
   "execution_count": 36,
   "metadata": {},
   "outputs": [
    {
     "data": {
      "text/plain": [
       "0.0011015401815727807"
      ]
     },
     "execution_count": 36,
     "metadata": {},
     "output_type": "execute_result"
    }
   ],
   "source": [
    "res = st.levene(series_good2, series_bad2)\n",
    "res.pvalue"
   ]
  },
  {
   "cell_type": "markdown",
   "metadata": {},
   "source": [
    "**Utilizando la prueba de Levene corroboramos la igualdad de las varianzas, esta prueba establece que:**\n",
    "* Si el valor p de la prueba de Levene es mayor a .05 entonces las varianzas no son significativamente diferentes entre ellas\n",
    "* Si el valor p de la prueba de Levene es menor a .05 entonces las varianzas si son significativamente diferentes entre ellas\n",
    "\n",
    "El valor p para la prueba de Levene fue de 0.0011 , por lo tanto establecemos que las varianzas no son significativamente diferentes entre si, por lo tanto utilizaremos el parámetro **'equal_var = True'** para la prueba de hipótesis"
   ]
  },
  {
   "cell_type": "code",
   "execution_count": 37,
   "metadata": {},
   "outputs": [
    {
     "name": "stdout",
     "output_type": "stream",
     "text": [
      "valor p:  0.000000000000000\n",
      "Rechazamos la hipótesis nula\n"
     ]
    }
   ],
   "source": [
    "#utilizamos la prueba estadística: Hipótesis sobre la igualdad de las medias de dos poblaciones\n",
    "\n",
    "alpha=.05\n",
    "results= st.ttest_ind(series_good2,series_bad2, equal_var=True)\n",
    "\n",
    "pvalue=f'{results.pvalue/2:.15f}'\n",
    "print('valor p: ',pvalue)\n",
    "\n",
    "if results.pvalue/2 < alpha:\n",
    "    print('Rechazamos la hipótesis nula')\n",
    "    \n",
    "else:\n",
    "    print('No rechazamos la hipótesis nula')\n"
   ]
  },
  {
   "cell_type": "markdown",
   "metadata": {},
   "source": [
    "### Conclusión con eliminación de outliers\n",
    "\n",
    "Mis conclusiones respecto a la hipótesis se habrían mantenido tal como las anteriores sin eliminar los outliers, sin embargo algo que debo resaltar es el valor p obtenido en la prueba estadística: \"Hipótesis sobre la igualdad de las medias de dos poblaciones\" , me da curiosidad que arroja 0.0 lo cual me hace concluir que no existe una remota posibilidad de que los viajes al aeropuerto, en sábados lluviosos **sean iguales** a los que tienen clima bueno.\n",
    "\n",
    "\n"
   ]
  },
  {
   "cell_type": "code",
   "execution_count": null,
   "metadata": {},
   "outputs": [],
   "source": []
  }
 ],
 "metadata": {
  "kernelspec": {
   "display_name": "Python 3 (ipykernel)",
   "language": "python",
   "name": "python3"
  },
  "language_info": {
   "codemirror_mode": {
    "name": "ipython",
    "version": 3
   },
   "file_extension": ".py",
   "mimetype": "text/x-python",
   "name": "python",
   "nbconvert_exporter": "python",
   "pygments_lexer": "ipython3",
   "version": "3.9.19"
  },
  "toc": {
   "base_numbering": 1,
   "nav_menu": {},
   "number_sections": true,
   "sideBar": true,
   "skip_h1_title": true,
   "title_cell": "Table of Contents",
   "title_sidebar": "Contents",
   "toc_cell": false,
   "toc_position": {},
   "toc_section_display": true,
   "toc_window_display": false
  }
 },
 "nbformat": 4,
 "nbformat_minor": 2
}
